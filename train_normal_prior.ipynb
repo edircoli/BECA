{
 "cells": [
  {
   "cell_type": "markdown",
   "metadata": {},
   "source": [
    "### Libraries"
   ]
  },
  {
   "cell_type": "code",
   "execution_count": 1,
   "metadata": {},
   "outputs": [
    {
     "name": "stdout",
     "output_type": "stream",
     "text": [
      ">> clustergrammer2 backend version 0.18.0\n"
     ]
    }
   ],
   "source": [
    "#Essentials\n",
    "import torch\n",
    "import torch.nn as nn\n",
    "import torch.distributions as td\n",
    "import torch.utils.data\n",
    "from torch.nn import functional as F\n",
    "from tqdm import tqdm\n",
    "from torch.utils.data import DataLoader, Subset, ConcatDataset, TensorDataset\n",
    "from torchvision import datasets, transforms\n",
    "import matplotlib.pyplot as plt\n",
    "import numpy as np\n",
    "import pandas as pd\n",
    "import os\n",
    "from umap import UMAP\n",
    "\n",
    "#User libraries\n",
    "from BatchEffectDataLoader import DataPreprocess, DataTransform, ABaCoDataLoader\n",
    "from BatchEffectCorrection import correctCombat\n",
    "from BatchEffectPlots import plotPCA, plotPCoA\n",
    "from BatchEffectMetrics import kBET, iLISI, cLISI, ARI, ASW\n",
    "from ABaCo import ABaCo, BatchDiscriminator, TissueClassifier, DataDiscriminator\n",
    "from MetaABaCo import NormalPrior, NormalEncoder, ZINBDecoder, VAE, train"
   ]
  },
  {
   "cell_type": "markdown",
   "metadata": {},
   "source": [
    "### Data loading"
   ]
  },
  {
   "cell_type": "code",
   "execution_count": 86,
   "metadata": {},
   "outputs": [
    {
     "data": {
      "application/vnd.plotly.v1+json": {
       "config": {
        "plotlyServerURL": "https://plot.ly"
       },
       "data": [
        {
         "legendgroup": "Illumina HiSeq 3000",
         "legendgrouptitle": {
          "text": "Batch Illumina HiSeq 3000"
         },
         "marker": {
          "color": [
           "blue",
           "blue",
           "blue",
           "blue",
           "blue",
           "blue",
           "blue",
           "blue",
           "blue",
           "blue",
           "blue",
           "blue",
           "blue",
           "blue",
           "blue",
           "blue",
           "blue",
           "blue",
           "blue",
           "blue",
           "blue",
           "blue",
           "blue",
           "blue",
           "blue",
           "blue",
           "blue",
           "blue",
           "blue",
           "blue",
           "blue",
           "blue",
           "blue",
           "blue",
           "blue",
           "blue",
           "blue",
           "blue",
           "blue",
           "blue",
           "blue",
           "blue",
           "blue",
           "blue",
           "blue",
           "blue",
           "blue",
           "blue",
           "blue",
           "blue",
           "blue",
           "blue",
           "blue",
           "blue",
           "blue",
           "blue",
           "blue",
           "blue",
           "blue",
           "blue",
           "blue",
           "blue",
           "blue",
           "blue",
           "blue",
           "blue",
           "blue",
           "blue",
           "blue",
           "blue",
           "blue",
           "blue",
           "blue",
           "blue",
           "blue",
           "blue",
           "blue",
           "blue",
           "blue",
           "blue",
           "blue"
          ],
          "size": 8,
          "symbol": [
           "circle",
           "circle",
           "circle",
           "circle",
           "circle",
           "circle",
           "circle",
           "circle",
           "circle",
           "circle",
           "circle",
           "circle",
           "circle",
           "circle",
           "circle",
           "circle",
           "circle",
           "circle",
           "circle",
           "circle",
           "circle",
           "circle",
           "circle",
           "circle",
           "circle",
           "circle",
           "circle",
           "circle",
           "circle",
           "circle",
           "circle",
           "circle",
           "circle",
           "circle",
           "circle",
           "circle",
           "circle",
           "circle",
           "circle",
           "circle",
           "circle",
           "circle",
           "circle",
           "circle",
           "circle",
           "circle",
           "circle",
           "circle",
           "circle",
           "circle",
           "circle",
           "circle",
           "circle",
           "circle",
           "circle",
           "circle",
           "circle",
           "circle",
           "circle",
           "circle",
           "circle",
           "circle",
           "circle",
           "circle",
           "circle",
           "circle",
           "circle",
           "circle",
           "circle",
           "circle",
           "circle",
           "circle",
           "circle",
           "circle",
           "circle",
           "circle",
           "circle",
           "circle",
           "circle",
           "circle",
           "circle"
          ]
         },
         "mode": "markers",
         "name": "Wastewater:Water and sludge",
         "type": "scatter",
         "x": [
          -143.6530841529096,
          -45.09471586532449,
          -190.11339944322972,
          -26.157613048649303,
          -18.828183999768196,
          79.35043272467496,
          -138.0932282351388,
          94.58608035230982,
          48.20689875450492,
          55.365849158913846,
          -16.141875338893016,
          -180.29772989641776,
          11.283102303687652,
          -162.78170294574164,
          -7.719318762692639,
          -66.93429868834824,
          -52.63574359403867,
          14.45183803017302,
          -176.96355407680426,
          -188.05281916860972,
          -8.141715784782777,
          -64.33236890564852,
          -73.83125097048158,
          -71.36205428573908,
          -160.4726349825291,
          -137.17409275197323,
          19.97235493178977,
          -68.9600720046058,
          -17.529921314580523,
          33.36204318650658,
          54.37528390882907,
          -151.76751182396185,
          -83.98628141796596,
          -74.26553314293963,
          -85.61015995579461,
          -39.80786934684439,
          -156.4413699677408,
          -148.26026469399937,
          -121.12013294836814,
          -103.55485902483407,
          -27.805539449897722,
          -181.05159753548176,
          -72.24841908886329,
          -121.41646198848738,
          -11.942643907105092,
          -94.64234056226056,
          19.15631361385606,
          -121.01783248788004,
          -40.56803353700561,
          -123.13215701840328,
          -148.12755723600557,
          -108.10195434760145,
          -129.16002371146055,
          -183.33793077712284,
          -128.03435218990035,
          -135.38510746056969,
          41.08645192803429,
          -130.3259584010227,
          -152.23808726002216,
          10.922923050674973,
          -18.244860633302842,
          -45.36123394681942,
          132.4320253386229,
          -110.32633773166441,
          -61.09020857921215,
          17.926637842167136,
          -160.76990429869508,
          -96.27405289231717,
          -123.34640032882268,
          -116.31831496082646,
          -58.14143085776714,
          -123.03922050202999,
          -19.368683774277947,
          77.28729295261662,
          -202.94554181207693,
          -144.7473707792179,
          -74.21989449600994,
          -132.4982126154778,
          -93.97673962351172,
          -139.51145627655362,
          -104.33862844068796
         ],
         "y": [
          -26.52501418197904,
          -28.54824223165276,
          62.14924051609918,
          -46.857823322933584,
          -65.54872943085009,
          16.591396851364344,
          66.12293748219132,
          29.04170485560375,
          -18.88356781902578,
          -0.3717981781888797,
          -10.145241376213944,
          -15.225897428306176,
          -17.953772465340283,
          26.796535341405452,
          46.94551288417253,
          83.02579459794673,
          -35.88482478995112,
          -9.176339841634261,
          -43.446983263571596,
          -23.356652121561886,
          -53.80043779871971,
          -92.19809026703327,
          77.37851651739123,
          17.940398127337584,
          46.80171103277465,
          -23.333577824581035,
          -80.86397408491482,
          41.21866930351058,
          42.610819293012156,
          -30.861865781390776,
          7.592459125875281,
          54.78521877920536,
          -75.34819672984285,
          -14.656152278937023,
          -66.79928856230727,
          5.786529967411493,
          -41.69991487593441,
          -45.923515052746936,
          45.21474221894931,
          108.32171335983156,
          10.744004520977931,
          -25.742149853743115,
          -27.53011878204388,
          -35.65450410924835,
          -51.0671728977054,
          13.031445138196672,
          30.735148490671943,
          74.97398301720727,
          5.387955795063974,
          -83.35293894470419,
          46.65094001011608,
          -100.3616486630748,
          13.795592039732467,
          76.4203814283018,
          37.30576018312325,
          86.47094622087472,
          28.86721088875641,
          -24.854456211515075,
          -17.889296921572974,
          10.147754372182114,
          -25.28755052796052,
          -53.98093915683039,
          44.595214587224014,
          31.49491804163039,
          -81.36180075649227,
          9.580627693077238,
          35.1977826830939,
          -32.09658163660223,
          48.13311975523685,
          46.04180692795303,
          6.231834589951417,
          41.62367111312194,
          31.32802372440583,
          7.47880669879658,
          9.073162532358836,
          8.302445968573041,
          -28.7537691094973,
          -29.939952557775463,
          43.281642887845564,
          59.308492192227995,
          70.05252224741577
         ]
        },
        {
         "legendgroup": "Illumina MiSeq",
         "legendgrouptitle": {
          "text": "Batch Illumina MiSeq"
         },
         "marker": {
          "color": [
           "red",
           "red",
           "red",
           "red",
           "red",
           "red",
           "red",
           "red",
           "red",
           "red",
           "red",
           "red",
           "red",
           "red",
           "red",
           "red",
           "red",
           "red",
           "red",
           "red",
           "red",
           "red",
           "red",
           "red",
           "red",
           "red",
           "red",
           "red",
           "red",
           "red",
           "red",
           "red",
           "red",
           "red",
           "red",
           "red",
           "red",
           "red",
           "red",
           "red",
           "red",
           "red",
           "red",
           "red",
           "red",
           "red",
           "red",
           "red",
           "red",
           "red",
           "red",
           "red",
           "red",
           "red",
           "red",
           "red",
           "red",
           "red",
           "red",
           "red",
           "red",
           "red",
           "red",
           "red"
          ],
          "size": 8,
          "symbol": [
           "circle",
           "circle",
           "circle",
           "circle",
           "circle",
           "circle",
           "circle",
           "circle",
           "circle",
           "circle",
           "circle",
           "circle",
           "circle",
           "circle",
           "circle",
           "circle",
           "circle",
           "circle",
           "circle",
           "circle",
           "circle",
           "circle",
           "circle",
           "circle",
           "circle",
           "circle",
           "circle",
           "circle",
           "circle",
           "circle",
           "circle",
           "circle",
           "circle",
           "circle",
           "circle",
           "circle",
           "circle",
           "circle",
           "circle",
           "circle",
           "circle",
           "circle",
           "circle",
           "circle",
           "circle",
           "circle",
           "circle",
           "circle",
           "circle",
           "circle",
           "circle",
           "circle",
           "circle",
           "circle",
           "circle",
           "circle",
           "circle",
           "circle",
           "circle",
           "circle",
           "circle",
           "circle",
           "circle",
           "circle"
          ]
         },
         "mode": "markers",
         "name": "Wastewater:Water and sludge",
         "type": "scatter",
         "x": [
          68.70907960960744,
          97.20138520635871,
          125.06400420093554,
          82.2171248359534,
          100.58491638832658,
          107.90000504340749,
          54.361908084056076,
          74.60502877371464,
          61.84623507909179,
          137.4996800437477,
          95.37563486563295,
          111.48851131493491,
          111.31731142410214,
          86.07186835998618,
          85.98778595906593,
          62.37019201421626,
          67.11644788033723,
          77.43940280700971,
          51.39192468872077,
          61.51515341871191,
          156.55037077280937,
          113.82490415738044,
          70.29884317145603,
          91.27742161215497,
          92.41150244598266,
          74.51660917313977,
          100.52824704217412,
          91.51977697807912,
          64.48967056106063,
          83.93028745725542,
          60.352889656182725,
          74.88530587777886,
          94.8121708521024,
          80.17139341782608,
          67.2718571000903,
          66.28879548416366,
          92.18681866272745,
          68.78557873133376,
          72.57085666996701,
          53.03397518899343,
          101.56322872993874,
          81.33566107378218,
          85.51320875816712,
          86.59912253367858,
          76.99757589860162,
          91.43397727037443,
          63.6559120315025,
          134.48268424173142,
          112.92422100380203,
          59.1128149647622,
          104.34428302946668,
          73.81522890175741,
          57.530888910064085,
          73.8540012555636,
          86.9121220195665,
          58.732065152784976,
          204.7281985382032,
          87.49027856651169,
          122.67256909962349,
          105.62309804511916,
          204.72819853820317,
          204.46488045058948,
          204.72819853820317,
          130.3610294077825
         ],
         "y": [
          -16.820717629243052,
          -17.87565618287521,
          -2.1603124208240976,
          -14.634962328561437,
          2.334251558364382,
          -0.4426373188068718,
          -17.739408873186793,
          -7.175145935887525,
          -9.106981076402388,
          14.228600251641343,
          -5.314029727207173,
          4.729755657865469,
          -0.5518372394981212,
          -11.016754296384077,
          -14.748200273031971,
          -56.793220352223706,
          -38.139458322166966,
          -15.337545683705695,
          -18.688074023886998,
          -14.161629980855485,
          43.37004473523679,
          -8.37389488998149,
          -15.130109392792956,
          -24.512343972993687,
          -17.58257110464574,
          -7.401021451606318,
          -9.417530164146676,
          -16.50685175581895,
          -19.052558925402028,
          -13.532775333145457,
          -11.167866747709663,
          -31.76243521957747,
          -12.541157530530048,
          -18.508313292644385,
          -4.13798795788857,
          -35.81286537300693,
          -11.105712738689034,
          -1.724877439803426,
          -21.003591842299237,
          -21.925878456568633,
          -12.749703503746165,
          -23.970145187430123,
          -29.19523629161983,
          -20.823760487557006,
          -11.978924577750744,
          -13.627179932755746,
          -14.375403404474797,
          10.48217386568607,
          1.1641161643986226,
          -19.90059653078296,
          6.986956965552026,
          -12.599557162409765,
          -27.67569312856872,
          -21.571162774632125,
          2.9784438250161624,
          -11.579721236222811,
          111.39875851199528,
          5.569835220447763,
          0.9505882165759052,
          1.541033671829166,
          111.39875851199527,
          110.63922077936535,
          111.39875851199525,
          23.486388858168212
         ]
        }
       ],
       "layout": {
        "template": {
         "data": {
          "bar": [
           {
            "error_x": {
             "color": "#2a3f5f"
            },
            "error_y": {
             "color": "#2a3f5f"
            },
            "marker": {
             "line": {
              "color": "#E5ECF6",
              "width": 0.5
             },
             "pattern": {
              "fillmode": "overlay",
              "size": 10,
              "solidity": 0.2
             }
            },
            "type": "bar"
           }
          ],
          "barpolar": [
           {
            "marker": {
             "line": {
              "color": "#E5ECF6",
              "width": 0.5
             },
             "pattern": {
              "fillmode": "overlay",
              "size": 10,
              "solidity": 0.2
             }
            },
            "type": "barpolar"
           }
          ],
          "carpet": [
           {
            "aaxis": {
             "endlinecolor": "#2a3f5f",
             "gridcolor": "white",
             "linecolor": "white",
             "minorgridcolor": "white",
             "startlinecolor": "#2a3f5f"
            },
            "baxis": {
             "endlinecolor": "#2a3f5f",
             "gridcolor": "white",
             "linecolor": "white",
             "minorgridcolor": "white",
             "startlinecolor": "#2a3f5f"
            },
            "type": "carpet"
           }
          ],
          "choropleth": [
           {
            "colorbar": {
             "outlinewidth": 0,
             "ticks": ""
            },
            "type": "choropleth"
           }
          ],
          "contour": [
           {
            "colorbar": {
             "outlinewidth": 0,
             "ticks": ""
            },
            "colorscale": [
             [
              0,
              "#0d0887"
             ],
             [
              0.1111111111111111,
              "#46039f"
             ],
             [
              0.2222222222222222,
              "#7201a8"
             ],
             [
              0.3333333333333333,
              "#9c179e"
             ],
             [
              0.4444444444444444,
              "#bd3786"
             ],
             [
              0.5555555555555556,
              "#d8576b"
             ],
             [
              0.6666666666666666,
              "#ed7953"
             ],
             [
              0.7777777777777778,
              "#fb9f3a"
             ],
             [
              0.8888888888888888,
              "#fdca26"
             ],
             [
              1,
              "#f0f921"
             ]
            ],
            "type": "contour"
           }
          ],
          "contourcarpet": [
           {
            "colorbar": {
             "outlinewidth": 0,
             "ticks": ""
            },
            "type": "contourcarpet"
           }
          ],
          "heatmap": [
           {
            "colorbar": {
             "outlinewidth": 0,
             "ticks": ""
            },
            "colorscale": [
             [
              0,
              "#0d0887"
             ],
             [
              0.1111111111111111,
              "#46039f"
             ],
             [
              0.2222222222222222,
              "#7201a8"
             ],
             [
              0.3333333333333333,
              "#9c179e"
             ],
             [
              0.4444444444444444,
              "#bd3786"
             ],
             [
              0.5555555555555556,
              "#d8576b"
             ],
             [
              0.6666666666666666,
              "#ed7953"
             ],
             [
              0.7777777777777778,
              "#fb9f3a"
             ],
             [
              0.8888888888888888,
              "#fdca26"
             ],
             [
              1,
              "#f0f921"
             ]
            ],
            "type": "heatmap"
           }
          ],
          "heatmapgl": [
           {
            "colorbar": {
             "outlinewidth": 0,
             "ticks": ""
            },
            "colorscale": [
             [
              0,
              "#0d0887"
             ],
             [
              0.1111111111111111,
              "#46039f"
             ],
             [
              0.2222222222222222,
              "#7201a8"
             ],
             [
              0.3333333333333333,
              "#9c179e"
             ],
             [
              0.4444444444444444,
              "#bd3786"
             ],
             [
              0.5555555555555556,
              "#d8576b"
             ],
             [
              0.6666666666666666,
              "#ed7953"
             ],
             [
              0.7777777777777778,
              "#fb9f3a"
             ],
             [
              0.8888888888888888,
              "#fdca26"
             ],
             [
              1,
              "#f0f921"
             ]
            ],
            "type": "heatmapgl"
           }
          ],
          "histogram": [
           {
            "marker": {
             "pattern": {
              "fillmode": "overlay",
              "size": 10,
              "solidity": 0.2
             }
            },
            "type": "histogram"
           }
          ],
          "histogram2d": [
           {
            "colorbar": {
             "outlinewidth": 0,
             "ticks": ""
            },
            "colorscale": [
             [
              0,
              "#0d0887"
             ],
             [
              0.1111111111111111,
              "#46039f"
             ],
             [
              0.2222222222222222,
              "#7201a8"
             ],
             [
              0.3333333333333333,
              "#9c179e"
             ],
             [
              0.4444444444444444,
              "#bd3786"
             ],
             [
              0.5555555555555556,
              "#d8576b"
             ],
             [
              0.6666666666666666,
              "#ed7953"
             ],
             [
              0.7777777777777778,
              "#fb9f3a"
             ],
             [
              0.8888888888888888,
              "#fdca26"
             ],
             [
              1,
              "#f0f921"
             ]
            ],
            "type": "histogram2d"
           }
          ],
          "histogram2dcontour": [
           {
            "colorbar": {
             "outlinewidth": 0,
             "ticks": ""
            },
            "colorscale": [
             [
              0,
              "#0d0887"
             ],
             [
              0.1111111111111111,
              "#46039f"
             ],
             [
              0.2222222222222222,
              "#7201a8"
             ],
             [
              0.3333333333333333,
              "#9c179e"
             ],
             [
              0.4444444444444444,
              "#bd3786"
             ],
             [
              0.5555555555555556,
              "#d8576b"
             ],
             [
              0.6666666666666666,
              "#ed7953"
             ],
             [
              0.7777777777777778,
              "#fb9f3a"
             ],
             [
              0.8888888888888888,
              "#fdca26"
             ],
             [
              1,
              "#f0f921"
             ]
            ],
            "type": "histogram2dcontour"
           }
          ],
          "mesh3d": [
           {
            "colorbar": {
             "outlinewidth": 0,
             "ticks": ""
            },
            "type": "mesh3d"
           }
          ],
          "parcoords": [
           {
            "line": {
             "colorbar": {
              "outlinewidth": 0,
              "ticks": ""
             }
            },
            "type": "parcoords"
           }
          ],
          "pie": [
           {
            "automargin": true,
            "type": "pie"
           }
          ],
          "scatter": [
           {
            "fillpattern": {
             "fillmode": "overlay",
             "size": 10,
             "solidity": 0.2
            },
            "type": "scatter"
           }
          ],
          "scatter3d": [
           {
            "line": {
             "colorbar": {
              "outlinewidth": 0,
              "ticks": ""
             }
            },
            "marker": {
             "colorbar": {
              "outlinewidth": 0,
              "ticks": ""
             }
            },
            "type": "scatter3d"
           }
          ],
          "scattercarpet": [
           {
            "marker": {
             "colorbar": {
              "outlinewidth": 0,
              "ticks": ""
             }
            },
            "type": "scattercarpet"
           }
          ],
          "scattergeo": [
           {
            "marker": {
             "colorbar": {
              "outlinewidth": 0,
              "ticks": ""
             }
            },
            "type": "scattergeo"
           }
          ],
          "scattergl": [
           {
            "marker": {
             "colorbar": {
              "outlinewidth": 0,
              "ticks": ""
             }
            },
            "type": "scattergl"
           }
          ],
          "scattermapbox": [
           {
            "marker": {
             "colorbar": {
              "outlinewidth": 0,
              "ticks": ""
             }
            },
            "type": "scattermapbox"
           }
          ],
          "scatterpolar": [
           {
            "marker": {
             "colorbar": {
              "outlinewidth": 0,
              "ticks": ""
             }
            },
            "type": "scatterpolar"
           }
          ],
          "scatterpolargl": [
           {
            "marker": {
             "colorbar": {
              "outlinewidth": 0,
              "ticks": ""
             }
            },
            "type": "scatterpolargl"
           }
          ],
          "scatterternary": [
           {
            "marker": {
             "colorbar": {
              "outlinewidth": 0,
              "ticks": ""
             }
            },
            "type": "scatterternary"
           }
          ],
          "surface": [
           {
            "colorbar": {
             "outlinewidth": 0,
             "ticks": ""
            },
            "colorscale": [
             [
              0,
              "#0d0887"
             ],
             [
              0.1111111111111111,
              "#46039f"
             ],
             [
              0.2222222222222222,
              "#7201a8"
             ],
             [
              0.3333333333333333,
              "#9c179e"
             ],
             [
              0.4444444444444444,
              "#bd3786"
             ],
             [
              0.5555555555555556,
              "#d8576b"
             ],
             [
              0.6666666666666666,
              "#ed7953"
             ],
             [
              0.7777777777777778,
              "#fb9f3a"
             ],
             [
              0.8888888888888888,
              "#fdca26"
             ],
             [
              1,
              "#f0f921"
             ]
            ],
            "type": "surface"
           }
          ],
          "table": [
           {
            "cells": {
             "fill": {
              "color": "#EBF0F8"
             },
             "line": {
              "color": "white"
             }
            },
            "header": {
             "fill": {
              "color": "#C8D4E3"
             },
             "line": {
              "color": "white"
             }
            },
            "type": "table"
           }
          ]
         },
         "layout": {
          "annotationdefaults": {
           "arrowcolor": "#2a3f5f",
           "arrowhead": 0,
           "arrowwidth": 1
          },
          "autotypenumbers": "strict",
          "coloraxis": {
           "colorbar": {
            "outlinewidth": 0,
            "ticks": ""
           }
          },
          "colorscale": {
           "diverging": [
            [
             0,
             "#8e0152"
            ],
            [
             0.1,
             "#c51b7d"
            ],
            [
             0.2,
             "#de77ae"
            ],
            [
             0.3,
             "#f1b6da"
            ],
            [
             0.4,
             "#fde0ef"
            ],
            [
             0.5,
             "#f7f7f7"
            ],
            [
             0.6,
             "#e6f5d0"
            ],
            [
             0.7,
             "#b8e186"
            ],
            [
             0.8,
             "#7fbc41"
            ],
            [
             0.9,
             "#4d9221"
            ],
            [
             1,
             "#276419"
            ]
           ],
           "sequential": [
            [
             0,
             "#0d0887"
            ],
            [
             0.1111111111111111,
             "#46039f"
            ],
            [
             0.2222222222222222,
             "#7201a8"
            ],
            [
             0.3333333333333333,
             "#9c179e"
            ],
            [
             0.4444444444444444,
             "#bd3786"
            ],
            [
             0.5555555555555556,
             "#d8576b"
            ],
            [
             0.6666666666666666,
             "#ed7953"
            ],
            [
             0.7777777777777778,
             "#fb9f3a"
            ],
            [
             0.8888888888888888,
             "#fdca26"
            ],
            [
             1,
             "#f0f921"
            ]
           ],
           "sequentialminus": [
            [
             0,
             "#0d0887"
            ],
            [
             0.1111111111111111,
             "#46039f"
            ],
            [
             0.2222222222222222,
             "#7201a8"
            ],
            [
             0.3333333333333333,
             "#9c179e"
            ],
            [
             0.4444444444444444,
             "#bd3786"
            ],
            [
             0.5555555555555556,
             "#d8576b"
            ],
            [
             0.6666666666666666,
             "#ed7953"
            ],
            [
             0.7777777777777778,
             "#fb9f3a"
            ],
            [
             0.8888888888888888,
             "#fdca26"
            ],
            [
             1,
             "#f0f921"
            ]
           ]
          },
          "colorway": [
           "#636efa",
           "#EF553B",
           "#00cc96",
           "#ab63fa",
           "#FFA15A",
           "#19d3f3",
           "#FF6692",
           "#B6E880",
           "#FF97FF",
           "#FECB52"
          ],
          "font": {
           "color": "#2a3f5f"
          },
          "geo": {
           "bgcolor": "white",
           "lakecolor": "white",
           "landcolor": "#E5ECF6",
           "showlakes": true,
           "showland": true,
           "subunitcolor": "white"
          },
          "hoverlabel": {
           "align": "left"
          },
          "hovermode": "closest",
          "mapbox": {
           "style": "light"
          },
          "paper_bgcolor": "white",
          "plot_bgcolor": "#E5ECF6",
          "polar": {
           "angularaxis": {
            "gridcolor": "white",
            "linecolor": "white",
            "ticks": ""
           },
           "bgcolor": "#E5ECF6",
           "radialaxis": {
            "gridcolor": "white",
            "linecolor": "white",
            "ticks": ""
           }
          },
          "scene": {
           "xaxis": {
            "backgroundcolor": "#E5ECF6",
            "gridcolor": "white",
            "gridwidth": 2,
            "linecolor": "white",
            "showbackground": true,
            "ticks": "",
            "zerolinecolor": "white"
           },
           "yaxis": {
            "backgroundcolor": "#E5ECF6",
            "gridcolor": "white",
            "gridwidth": 2,
            "linecolor": "white",
            "showbackground": true,
            "ticks": "",
            "zerolinecolor": "white"
           },
           "zaxis": {
            "backgroundcolor": "#E5ECF6",
            "gridcolor": "white",
            "gridwidth": 2,
            "linecolor": "white",
            "showbackground": true,
            "ticks": "",
            "zerolinecolor": "white"
           }
          },
          "shapedefaults": {
           "line": {
            "color": "#2a3f5f"
           }
          },
          "ternary": {
           "aaxis": {
            "gridcolor": "white",
            "linecolor": "white",
            "ticks": ""
           },
           "baxis": {
            "gridcolor": "white",
            "linecolor": "white",
            "ticks": ""
           },
           "bgcolor": "#E5ECF6",
           "caxis": {
            "gridcolor": "white",
            "linecolor": "white",
            "ticks": ""
           }
          },
          "title": {
           "x": 0.05
          },
          "xaxis": {
           "automargin": true,
           "gridcolor": "white",
           "linecolor": "white",
           "ticks": "",
           "title": {
            "standoff": 15
           },
           "zerolinecolor": "white",
           "zerolinewidth": 2
          },
          "yaxis": {
           "automargin": true,
           "gridcolor": "white",
           "linecolor": "white",
           "ticks": "",
           "title": {
            "standoff": 15
           },
           "zerolinecolor": "white",
           "zerolinewidth": 2
          }
         }
        }
       }
      },
      "text/html": [
       "<div>                            <div id=\"57995d83-bdc6-475b-a162-f1e262e43b41\" class=\"plotly-graph-div\" style=\"height:525px; width:100%;\"></div>            <script type=\"text/javascript\">                require([\"plotly\"], function(Plotly) {                    window.PLOTLYENV=window.PLOTLYENV || {};                                    if (document.getElementById(\"57995d83-bdc6-475b-a162-f1e262e43b41\")) {                    Plotly.newPlot(                        \"57995d83-bdc6-475b-a162-f1e262e43b41\",                        [{\"legendgroup\":\"Illumina HiSeq 3000\",\"legendgrouptitle\":{\"text\":\"Batch Illumina HiSeq 3000\"},\"marker\":{\"color\":[\"blue\",\"blue\",\"blue\",\"blue\",\"blue\",\"blue\",\"blue\",\"blue\",\"blue\",\"blue\",\"blue\",\"blue\",\"blue\",\"blue\",\"blue\",\"blue\",\"blue\",\"blue\",\"blue\",\"blue\",\"blue\",\"blue\",\"blue\",\"blue\",\"blue\",\"blue\",\"blue\",\"blue\",\"blue\",\"blue\",\"blue\",\"blue\",\"blue\",\"blue\",\"blue\",\"blue\",\"blue\",\"blue\",\"blue\",\"blue\",\"blue\",\"blue\",\"blue\",\"blue\",\"blue\",\"blue\",\"blue\",\"blue\",\"blue\",\"blue\",\"blue\",\"blue\",\"blue\",\"blue\",\"blue\",\"blue\",\"blue\",\"blue\",\"blue\",\"blue\",\"blue\",\"blue\",\"blue\",\"blue\",\"blue\",\"blue\",\"blue\",\"blue\",\"blue\",\"blue\",\"blue\",\"blue\",\"blue\",\"blue\",\"blue\",\"blue\",\"blue\",\"blue\",\"blue\",\"blue\",\"blue\"],\"size\":8,\"symbol\":[\"circle\",\"circle\",\"circle\",\"circle\",\"circle\",\"circle\",\"circle\",\"circle\",\"circle\",\"circle\",\"circle\",\"circle\",\"circle\",\"circle\",\"circle\",\"circle\",\"circle\",\"circle\",\"circle\",\"circle\",\"circle\",\"circle\",\"circle\",\"circle\",\"circle\",\"circle\",\"circle\",\"circle\",\"circle\",\"circle\",\"circle\",\"circle\",\"circle\",\"circle\",\"circle\",\"circle\",\"circle\",\"circle\",\"circle\",\"circle\",\"circle\",\"circle\",\"circle\",\"circle\",\"circle\",\"circle\",\"circle\",\"circle\",\"circle\",\"circle\",\"circle\",\"circle\",\"circle\",\"circle\",\"circle\",\"circle\",\"circle\",\"circle\",\"circle\",\"circle\",\"circle\",\"circle\",\"circle\",\"circle\",\"circle\",\"circle\",\"circle\",\"circle\",\"circle\",\"circle\",\"circle\",\"circle\",\"circle\",\"circle\",\"circle\",\"circle\",\"circle\",\"circle\",\"circle\",\"circle\",\"circle\"]},\"mode\":\"markers\",\"name\":\"Wastewater:Water and sludge\",\"x\":[-143.6530841529096,-45.09471586532449,-190.11339944322972,-26.157613048649303,-18.828183999768196,79.35043272467496,-138.0932282351388,94.58608035230982,48.20689875450492,55.365849158913846,-16.141875338893016,-180.29772989641776,11.283102303687652,-162.78170294574164,-7.719318762692639,-66.93429868834824,-52.63574359403867,14.45183803017302,-176.96355407680426,-188.05281916860972,-8.141715784782777,-64.33236890564852,-73.83125097048158,-71.36205428573908,-160.4726349825291,-137.17409275197323,19.97235493178977,-68.9600720046058,-17.529921314580523,33.36204318650658,54.37528390882907,-151.76751182396185,-83.98628141796596,-74.26553314293963,-85.61015995579461,-39.80786934684439,-156.4413699677408,-148.26026469399937,-121.12013294836814,-103.55485902483407,-27.805539449897722,-181.05159753548176,-72.24841908886329,-121.41646198848738,-11.942643907105092,-94.64234056226056,19.15631361385606,-121.01783248788004,-40.56803353700561,-123.13215701840328,-148.12755723600557,-108.10195434760145,-129.16002371146055,-183.33793077712284,-128.03435218990035,-135.38510746056969,41.08645192803429,-130.3259584010227,-152.23808726002216,10.922923050674973,-18.244860633302842,-45.36123394681942,132.4320253386229,-110.32633773166441,-61.09020857921215,17.926637842167136,-160.76990429869508,-96.27405289231717,-123.34640032882268,-116.31831496082646,-58.14143085776714,-123.03922050202999,-19.368683774277947,77.28729295261662,-202.94554181207693,-144.7473707792179,-74.21989449600994,-132.4982126154778,-93.97673962351172,-139.51145627655362,-104.33862844068796],\"y\":[-26.52501418197904,-28.54824223165276,62.14924051609918,-46.857823322933584,-65.54872943085009,16.591396851364344,66.12293748219132,29.04170485560375,-18.88356781902578,-0.3717981781888797,-10.145241376213944,-15.225897428306176,-17.953772465340283,26.796535341405452,46.94551288417253,83.02579459794673,-35.88482478995112,-9.176339841634261,-43.446983263571596,-23.356652121561886,-53.80043779871971,-92.19809026703327,77.37851651739123,17.940398127337584,46.80171103277465,-23.333577824581035,-80.86397408491482,41.21866930351058,42.610819293012156,-30.861865781390776,7.592459125875281,54.78521877920536,-75.34819672984285,-14.656152278937023,-66.79928856230727,5.786529967411493,-41.69991487593441,-45.923515052746936,45.21474221894931,108.32171335983156,10.744004520977931,-25.742149853743115,-27.53011878204388,-35.65450410924835,-51.0671728977054,13.031445138196672,30.735148490671943,74.97398301720727,5.387955795063974,-83.35293894470419,46.65094001011608,-100.3616486630748,13.795592039732467,76.4203814283018,37.30576018312325,86.47094622087472,28.86721088875641,-24.854456211515075,-17.889296921572974,10.147754372182114,-25.28755052796052,-53.98093915683039,44.595214587224014,31.49491804163039,-81.36180075649227,9.580627693077238,35.1977826830939,-32.09658163660223,48.13311975523685,46.04180692795303,6.231834589951417,41.62367111312194,31.32802372440583,7.47880669879658,9.073162532358836,8.302445968573041,-28.7537691094973,-29.939952557775463,43.281642887845564,59.308492192227995,70.05252224741577],\"type\":\"scatter\"},{\"legendgroup\":\"Illumina MiSeq\",\"legendgrouptitle\":{\"text\":\"Batch Illumina MiSeq\"},\"marker\":{\"color\":[\"red\",\"red\",\"red\",\"red\",\"red\",\"red\",\"red\",\"red\",\"red\",\"red\",\"red\",\"red\",\"red\",\"red\",\"red\",\"red\",\"red\",\"red\",\"red\",\"red\",\"red\",\"red\",\"red\",\"red\",\"red\",\"red\",\"red\",\"red\",\"red\",\"red\",\"red\",\"red\",\"red\",\"red\",\"red\",\"red\",\"red\",\"red\",\"red\",\"red\",\"red\",\"red\",\"red\",\"red\",\"red\",\"red\",\"red\",\"red\",\"red\",\"red\",\"red\",\"red\",\"red\",\"red\",\"red\",\"red\",\"red\",\"red\",\"red\",\"red\",\"red\",\"red\",\"red\",\"red\"],\"size\":8,\"symbol\":[\"circle\",\"circle\",\"circle\",\"circle\",\"circle\",\"circle\",\"circle\",\"circle\",\"circle\",\"circle\",\"circle\",\"circle\",\"circle\",\"circle\",\"circle\",\"circle\",\"circle\",\"circle\",\"circle\",\"circle\",\"circle\",\"circle\",\"circle\",\"circle\",\"circle\",\"circle\",\"circle\",\"circle\",\"circle\",\"circle\",\"circle\",\"circle\",\"circle\",\"circle\",\"circle\",\"circle\",\"circle\",\"circle\",\"circle\",\"circle\",\"circle\",\"circle\",\"circle\",\"circle\",\"circle\",\"circle\",\"circle\",\"circle\",\"circle\",\"circle\",\"circle\",\"circle\",\"circle\",\"circle\",\"circle\",\"circle\",\"circle\",\"circle\",\"circle\",\"circle\",\"circle\",\"circle\",\"circle\",\"circle\"]},\"mode\":\"markers\",\"name\":\"Wastewater:Water and sludge\",\"x\":[68.70907960960744,97.20138520635871,125.06400420093554,82.2171248359534,100.58491638832658,107.90000504340749,54.361908084056076,74.60502877371464,61.84623507909179,137.4996800437477,95.37563486563295,111.48851131493491,111.31731142410214,86.07186835998618,85.98778595906593,62.37019201421626,67.11644788033723,77.43940280700971,51.39192468872077,61.51515341871191,156.55037077280937,113.82490415738044,70.29884317145603,91.27742161215497,92.41150244598266,74.51660917313977,100.52824704217412,91.51977697807912,64.48967056106063,83.93028745725542,60.352889656182725,74.88530587777886,94.8121708521024,80.17139341782608,67.2718571000903,66.28879548416366,92.18681866272745,68.78557873133376,72.57085666996701,53.03397518899343,101.56322872993874,81.33566107378218,85.51320875816712,86.59912253367858,76.99757589860162,91.43397727037443,63.6559120315025,134.48268424173142,112.92422100380203,59.1128149647622,104.34428302946668,73.81522890175741,57.530888910064085,73.8540012555636,86.9121220195665,58.732065152784976,204.7281985382032,87.49027856651169,122.67256909962349,105.62309804511916,204.72819853820317,204.46488045058948,204.72819853820317,130.3610294077825],\"y\":[-16.820717629243052,-17.87565618287521,-2.1603124208240976,-14.634962328561437,2.334251558364382,-0.4426373188068718,-17.739408873186793,-7.175145935887525,-9.106981076402388,14.228600251641343,-5.314029727207173,4.729755657865469,-0.5518372394981212,-11.016754296384077,-14.748200273031971,-56.793220352223706,-38.139458322166966,-15.337545683705695,-18.688074023886998,-14.161629980855485,43.37004473523679,-8.37389488998149,-15.130109392792956,-24.512343972993687,-17.58257110464574,-7.401021451606318,-9.417530164146676,-16.50685175581895,-19.052558925402028,-13.532775333145457,-11.167866747709663,-31.76243521957747,-12.541157530530048,-18.508313292644385,-4.13798795788857,-35.81286537300693,-11.105712738689034,-1.724877439803426,-21.003591842299237,-21.925878456568633,-12.749703503746165,-23.970145187430123,-29.19523629161983,-20.823760487557006,-11.978924577750744,-13.627179932755746,-14.375403404474797,10.48217386568607,1.1641161643986226,-19.90059653078296,6.986956965552026,-12.599557162409765,-27.67569312856872,-21.571162774632125,2.9784438250161624,-11.579721236222811,111.39875851199528,5.569835220447763,0.9505882165759052,1.541033671829166,111.39875851199527,110.63922077936535,111.39875851199525,23.486388858168212],\"type\":\"scatter\"}],                        {\"template\":{\"data\":{\"histogram2dcontour\":[{\"type\":\"histogram2dcontour\",\"colorbar\":{\"outlinewidth\":0,\"ticks\":\"\"},\"colorscale\":[[0.0,\"#0d0887\"],[0.1111111111111111,\"#46039f\"],[0.2222222222222222,\"#7201a8\"],[0.3333333333333333,\"#9c179e\"],[0.4444444444444444,\"#bd3786\"],[0.5555555555555556,\"#d8576b\"],[0.6666666666666666,\"#ed7953\"],[0.7777777777777778,\"#fb9f3a\"],[0.8888888888888888,\"#fdca26\"],[1.0,\"#f0f921\"]]}],\"choropleth\":[{\"type\":\"choropleth\",\"colorbar\":{\"outlinewidth\":0,\"ticks\":\"\"}}],\"histogram2d\":[{\"type\":\"histogram2d\",\"colorbar\":{\"outlinewidth\":0,\"ticks\":\"\"},\"colorscale\":[[0.0,\"#0d0887\"],[0.1111111111111111,\"#46039f\"],[0.2222222222222222,\"#7201a8\"],[0.3333333333333333,\"#9c179e\"],[0.4444444444444444,\"#bd3786\"],[0.5555555555555556,\"#d8576b\"],[0.6666666666666666,\"#ed7953\"],[0.7777777777777778,\"#fb9f3a\"],[0.8888888888888888,\"#fdca26\"],[1.0,\"#f0f921\"]]}],\"heatmap\":[{\"type\":\"heatmap\",\"colorbar\":{\"outlinewidth\":0,\"ticks\":\"\"},\"colorscale\":[[0.0,\"#0d0887\"],[0.1111111111111111,\"#46039f\"],[0.2222222222222222,\"#7201a8\"],[0.3333333333333333,\"#9c179e\"],[0.4444444444444444,\"#bd3786\"],[0.5555555555555556,\"#d8576b\"],[0.6666666666666666,\"#ed7953\"],[0.7777777777777778,\"#fb9f3a\"],[0.8888888888888888,\"#fdca26\"],[1.0,\"#f0f921\"]]}],\"heatmapgl\":[{\"type\":\"heatmapgl\",\"colorbar\":{\"outlinewidth\":0,\"ticks\":\"\"},\"colorscale\":[[0.0,\"#0d0887\"],[0.1111111111111111,\"#46039f\"],[0.2222222222222222,\"#7201a8\"],[0.3333333333333333,\"#9c179e\"],[0.4444444444444444,\"#bd3786\"],[0.5555555555555556,\"#d8576b\"],[0.6666666666666666,\"#ed7953\"],[0.7777777777777778,\"#fb9f3a\"],[0.8888888888888888,\"#fdca26\"],[1.0,\"#f0f921\"]]}],\"contourcarpet\":[{\"type\":\"contourcarpet\",\"colorbar\":{\"outlinewidth\":0,\"ticks\":\"\"}}],\"contour\":[{\"type\":\"contour\",\"colorbar\":{\"outlinewidth\":0,\"ticks\":\"\"},\"colorscale\":[[0.0,\"#0d0887\"],[0.1111111111111111,\"#46039f\"],[0.2222222222222222,\"#7201a8\"],[0.3333333333333333,\"#9c179e\"],[0.4444444444444444,\"#bd3786\"],[0.5555555555555556,\"#d8576b\"],[0.6666666666666666,\"#ed7953\"],[0.7777777777777778,\"#fb9f3a\"],[0.8888888888888888,\"#fdca26\"],[1.0,\"#f0f921\"]]}],\"surface\":[{\"type\":\"surface\",\"colorbar\":{\"outlinewidth\":0,\"ticks\":\"\"},\"colorscale\":[[0.0,\"#0d0887\"],[0.1111111111111111,\"#46039f\"],[0.2222222222222222,\"#7201a8\"],[0.3333333333333333,\"#9c179e\"],[0.4444444444444444,\"#bd3786\"],[0.5555555555555556,\"#d8576b\"],[0.6666666666666666,\"#ed7953\"],[0.7777777777777778,\"#fb9f3a\"],[0.8888888888888888,\"#fdca26\"],[1.0,\"#f0f921\"]]}],\"mesh3d\":[{\"type\":\"mesh3d\",\"colorbar\":{\"outlinewidth\":0,\"ticks\":\"\"}}],\"scatter\":[{\"fillpattern\":{\"fillmode\":\"overlay\",\"size\":10,\"solidity\":0.2},\"type\":\"scatter\"}],\"parcoords\":[{\"type\":\"parcoords\",\"line\":{\"colorbar\":{\"outlinewidth\":0,\"ticks\":\"\"}}}],\"scatterpolargl\":[{\"type\":\"scatterpolargl\",\"marker\":{\"colorbar\":{\"outlinewidth\":0,\"ticks\":\"\"}}}],\"bar\":[{\"error_x\":{\"color\":\"#2a3f5f\"},\"error_y\":{\"color\":\"#2a3f5f\"},\"marker\":{\"line\":{\"color\":\"#E5ECF6\",\"width\":0.5},\"pattern\":{\"fillmode\":\"overlay\",\"size\":10,\"solidity\":0.2}},\"type\":\"bar\"}],\"scattergeo\":[{\"type\":\"scattergeo\",\"marker\":{\"colorbar\":{\"outlinewidth\":0,\"ticks\":\"\"}}}],\"scatterpolar\":[{\"type\":\"scatterpolar\",\"marker\":{\"colorbar\":{\"outlinewidth\":0,\"ticks\":\"\"}}}],\"histogram\":[{\"marker\":{\"pattern\":{\"fillmode\":\"overlay\",\"size\":10,\"solidity\":0.2}},\"type\":\"histogram\"}],\"scattergl\":[{\"type\":\"scattergl\",\"marker\":{\"colorbar\":{\"outlinewidth\":0,\"ticks\":\"\"}}}],\"scatter3d\":[{\"type\":\"scatter3d\",\"line\":{\"colorbar\":{\"outlinewidth\":0,\"ticks\":\"\"}},\"marker\":{\"colorbar\":{\"outlinewidth\":0,\"ticks\":\"\"}}}],\"scattermapbox\":[{\"type\":\"scattermapbox\",\"marker\":{\"colorbar\":{\"outlinewidth\":0,\"ticks\":\"\"}}}],\"scatterternary\":[{\"type\":\"scatterternary\",\"marker\":{\"colorbar\":{\"outlinewidth\":0,\"ticks\":\"\"}}}],\"scattercarpet\":[{\"type\":\"scattercarpet\",\"marker\":{\"colorbar\":{\"outlinewidth\":0,\"ticks\":\"\"}}}],\"carpet\":[{\"aaxis\":{\"endlinecolor\":\"#2a3f5f\",\"gridcolor\":\"white\",\"linecolor\":\"white\",\"minorgridcolor\":\"white\",\"startlinecolor\":\"#2a3f5f\"},\"baxis\":{\"endlinecolor\":\"#2a3f5f\",\"gridcolor\":\"white\",\"linecolor\":\"white\",\"minorgridcolor\":\"white\",\"startlinecolor\":\"#2a3f5f\"},\"type\":\"carpet\"}],\"table\":[{\"cells\":{\"fill\":{\"color\":\"#EBF0F8\"},\"line\":{\"color\":\"white\"}},\"header\":{\"fill\":{\"color\":\"#C8D4E3\"},\"line\":{\"color\":\"white\"}},\"type\":\"table\"}],\"barpolar\":[{\"marker\":{\"line\":{\"color\":\"#E5ECF6\",\"width\":0.5},\"pattern\":{\"fillmode\":\"overlay\",\"size\":10,\"solidity\":0.2}},\"type\":\"barpolar\"}],\"pie\":[{\"automargin\":true,\"type\":\"pie\"}]},\"layout\":{\"autotypenumbers\":\"strict\",\"colorway\":[\"#636efa\",\"#EF553B\",\"#00cc96\",\"#ab63fa\",\"#FFA15A\",\"#19d3f3\",\"#FF6692\",\"#B6E880\",\"#FF97FF\",\"#FECB52\"],\"font\":{\"color\":\"#2a3f5f\"},\"hovermode\":\"closest\",\"hoverlabel\":{\"align\":\"left\"},\"paper_bgcolor\":\"white\",\"plot_bgcolor\":\"#E5ECF6\",\"polar\":{\"bgcolor\":\"#E5ECF6\",\"angularaxis\":{\"gridcolor\":\"white\",\"linecolor\":\"white\",\"ticks\":\"\"},\"radialaxis\":{\"gridcolor\":\"white\",\"linecolor\":\"white\",\"ticks\":\"\"}},\"ternary\":{\"bgcolor\":\"#E5ECF6\",\"aaxis\":{\"gridcolor\":\"white\",\"linecolor\":\"white\",\"ticks\":\"\"},\"baxis\":{\"gridcolor\":\"white\",\"linecolor\":\"white\",\"ticks\":\"\"},\"caxis\":{\"gridcolor\":\"white\",\"linecolor\":\"white\",\"ticks\":\"\"}},\"coloraxis\":{\"colorbar\":{\"outlinewidth\":0,\"ticks\":\"\"}},\"colorscale\":{\"sequential\":[[0.0,\"#0d0887\"],[0.1111111111111111,\"#46039f\"],[0.2222222222222222,\"#7201a8\"],[0.3333333333333333,\"#9c179e\"],[0.4444444444444444,\"#bd3786\"],[0.5555555555555556,\"#d8576b\"],[0.6666666666666666,\"#ed7953\"],[0.7777777777777778,\"#fb9f3a\"],[0.8888888888888888,\"#fdca26\"],[1.0,\"#f0f921\"]],\"sequentialminus\":[[0.0,\"#0d0887\"],[0.1111111111111111,\"#46039f\"],[0.2222222222222222,\"#7201a8\"],[0.3333333333333333,\"#9c179e\"],[0.4444444444444444,\"#bd3786\"],[0.5555555555555556,\"#d8576b\"],[0.6666666666666666,\"#ed7953\"],[0.7777777777777778,\"#fb9f3a\"],[0.8888888888888888,\"#fdca26\"],[1.0,\"#f0f921\"]],\"diverging\":[[0,\"#8e0152\"],[0.1,\"#c51b7d\"],[0.2,\"#de77ae\"],[0.3,\"#f1b6da\"],[0.4,\"#fde0ef\"],[0.5,\"#f7f7f7\"],[0.6,\"#e6f5d0\"],[0.7,\"#b8e186\"],[0.8,\"#7fbc41\"],[0.9,\"#4d9221\"],[1,\"#276419\"]]},\"xaxis\":{\"gridcolor\":\"white\",\"linecolor\":\"white\",\"ticks\":\"\",\"title\":{\"standoff\":15},\"zerolinecolor\":\"white\",\"automargin\":true,\"zerolinewidth\":2},\"yaxis\":{\"gridcolor\":\"white\",\"linecolor\":\"white\",\"ticks\":\"\",\"title\":{\"standoff\":15},\"zerolinecolor\":\"white\",\"automargin\":true,\"zerolinewidth\":2},\"scene\":{\"xaxis\":{\"backgroundcolor\":\"#E5ECF6\",\"gridcolor\":\"white\",\"linecolor\":\"white\",\"showbackground\":true,\"ticks\":\"\",\"zerolinecolor\":\"white\",\"gridwidth\":2},\"yaxis\":{\"backgroundcolor\":\"#E5ECF6\",\"gridcolor\":\"white\",\"linecolor\":\"white\",\"showbackground\":true,\"ticks\":\"\",\"zerolinecolor\":\"white\",\"gridwidth\":2},\"zaxis\":{\"backgroundcolor\":\"#E5ECF6\",\"gridcolor\":\"white\",\"linecolor\":\"white\",\"showbackground\":true,\"ticks\":\"\",\"zerolinecolor\":\"white\",\"gridwidth\":2}},\"shapedefaults\":{\"line\":{\"color\":\"#2a3f5f\"}},\"annotationdefaults\":{\"arrowcolor\":\"#2a3f5f\",\"arrowhead\":0,\"arrowwidth\":1},\"geo\":{\"bgcolor\":\"white\",\"landcolor\":\"#E5ECF6\",\"subunitcolor\":\"white\",\"showland\":true,\"showlakes\":true,\"lakecolor\":\"white\"},\"title\":{\"x\":0.05},\"mapbox\":{\"style\":\"light\"}}}},                        {\"responsive\": true}                    ).then(function(){\n",
       "                            \n",
       "var gd = document.getElementById('57995d83-bdc6-475b-a162-f1e262e43b41');\n",
       "var x = new MutationObserver(function (mutations, observer) {{\n",
       "        var display = window.getComputedStyle(gd).display;\n",
       "        if (!display || display === 'none') {{\n",
       "            console.log([gd, 'removed!']);\n",
       "            Plotly.purge(gd);\n",
       "            observer.disconnect();\n",
       "        }}\n",
       "}});\n",
       "\n",
       "// Listen for the removal of the full notebook cells\n",
       "var notebookContainer = gd.closest('#notebook-container');\n",
       "if (notebookContainer) {{\n",
       "    x.observe(notebookContainer, {childList: true});\n",
       "}}\n",
       "\n",
       "// Listen for the clearing of the current output cell\n",
       "var outputEl = gd.closest('.output');\n",
       "if (outputEl) {{\n",
       "    x.observe(outputEl, {childList: true});\n",
       "}}\n",
       "\n",
       "                        })                };                });            </script>        </div>"
      ]
     },
     "metadata": {},
     "output_type": "display_data"
    }
   ],
   "source": [
    "input_size = 3326\n",
    "d_z = 16\n",
    "device = torch.device(\"cuda\" if torch.cuda.is_available() else \"cpu\")\n",
    "\n",
    "#Data from MGnify - Only DTU entries\n",
    "file = \"metadataset_w_study_dataset_all_biomes_merged_abund_tables_genus.csv\"\n",
    "path = f\"data/MGnify/datasets/{file}\"\n",
    "\n",
    "batch_label = \"instrument_platform\"\n",
    "exp_label = \"biomes\"\n",
    "drop_cols = [\"experiment_type\", \"study_id\", \"centre_name\", \"index\"]\n",
    "\n",
    "raw_data = DataPreprocess(path, factors = [\"sample\", batch_label, exp_label]).dropna().reset_index(drop=True) #drop samples without meta info\n",
    "pre_data = raw_data[raw_data[\"centre_name\"]==\"DTU-GE\"].reset_index(drop=True)\n",
    "new_data = pre_data.drop(drop_cols, axis=1)\n",
    "new_data[exp_label] = new_data[exp_label].str.replace(\"root:Engineered:\", \"\", regex=False) #remove redundant label\n",
    "\n",
    "#exclude batches that can't be corrected\n",
    "data = new_data\n",
    "data = new_data[new_data[exp_label] != \"Wastewater\"]\n",
    "\n",
    "otu_dataloader, ohe_batch, ohe_biome, otu_data, otu_batch, otu_biome = ABaCoDataLoader(data, \n",
    "                                                                                       device = device, \n",
    "                                                                                       batch_label=batch_label, \n",
    "                                                                                       exp_label=exp_label, \n",
    "                                                                                       batch_size = 145, \n",
    "                                                                                       total_size = 3326, \n",
    "                                                                                       total_batch=2)\n",
    "\n",
    "#plot PCA of data to visualize it\n",
    "plotPCoA(data, method=\"aitchison\", sample_label=\"sample\", batch_label=batch_label, experiment_label=exp_label)"
   ]
  },
  {
   "cell_type": "markdown",
   "metadata": {},
   "source": [
    "### Separate Data for initial training of simple VAE"
   ]
  },
  {
   "cell_type": "code",
   "execution_count": 3,
   "metadata": {},
   "outputs": [],
   "source": [
    "for x, _, _ in otu_dataloader:\n",
    "    vae_dataloader = DataLoader(TensorDataset(x[:,:-2]), batch_size = 145)"
   ]
  },
  {
   "cell_type": "code",
   "execution_count": 4,
   "metadata": {},
   "outputs": [
    {
     "name": "stdout",
     "output_type": "stream",
     "text": [
      "[tensor([[  5., 457.,   4.,  ...,   0.,   0.,   0.],\n",
      "        [  1.,  11.,   0.,  ...,   0.,   0.,   0.],\n",
      "        [  4.,  53.,   1.,  ...,   0.,   0.,   0.],\n",
      "        ...,\n",
      "        [  0.,   0.,   0.,  ...,   0.,   0.,   0.],\n",
      "        [  0.,   0.,   0.,  ...,   0.,   0.,   0.],\n",
      "        [  0.,   0.,   0.,  ...,   0.,   0.,   0.]], device='cuda:0')]\n"
     ]
    }
   ],
   "source": [
    "for x in vae_dataloader:\n",
    "    print(x)"
   ]
  },
  {
   "cell_type": "markdown",
   "metadata": {},
   "source": [
    "### Defining the VAE networks"
   ]
  },
  {
   "cell_type": "code",
   "execution_count": 87,
   "metadata": {},
   "outputs": [],
   "source": [
    "# Prior\n",
    "prior = NormalPrior(d_z)\n",
    "\n",
    "# Encoder\n",
    "normal_encoder_net = nn.Sequential(\n",
    "    nn.Linear(input_size, 1024),\n",
    "    nn.ReLU(),\n",
    "    nn.Linear(1024, 512),\n",
    "    nn.ReLU(),\n",
    "    nn.Linear(512, 258),\n",
    "    nn.ReLU(),\n",
    "    nn.Linear(258, 2*d_z)\n",
    ")\n",
    "\n",
    "# Decoder\n",
    "zinb_decoder_net = nn.Sequential(\n",
    "    nn.Linear(d_z, 258),\n",
    "    nn.ReLU(),\n",
    "    nn.Linear(258, 512),\n",
    "    nn.ReLU(),\n",
    "    nn.Linear(512, 1024),\n",
    "    nn.ReLU(),\n",
    "    nn.Linear(1024, 3*input_size)\n",
    ")\n",
    "\n",
    "# Defining VAE model\n",
    "encoder = NormalEncoder(normal_encoder_net)\n",
    "decoder = ZINBDecoder(zinb_decoder_net)\n",
    "model = VAE(prior, encoder, decoder).to(device)\n",
    "\n",
    "# Defining optimizer\n",
    "optimizer = torch.optim.Adam(model.parameters(), lr=1e-5)\n"
   ]
  },
  {
   "cell_type": "markdown",
   "metadata": {},
   "source": [
    "### Training loop"
   ]
  },
  {
   "cell_type": "code",
   "execution_count": 89,
   "metadata": {},
   "outputs": [
    {
     "name": "stderr",
     "output_type": "stream",
     "text": [
      "Training: 100%|██████████| 10000/10000 [01:28<00:00, 113.04it/s, epoch=10000/10000, loss=1040.5347]\n"
     ]
    }
   ],
   "source": [
    "epochs = 10000\n",
    "\n",
    "train(model, optimizer, vae_dataloader, epochs, device)"
   ]
  },
  {
   "cell_type": "markdown",
   "metadata": {},
   "source": [
    "### Forward pass of trained model"
   ]
  },
  {
   "cell_type": "code",
   "execution_count": 90,
   "metadata": {},
   "outputs": [],
   "source": [
    "recon_data = []\n",
    "\n",
    "for x in vae_dataloader:\n",
    "    x = x[0].to(device)\n",
    "    recon_data.append(model(x).sample().tolist())"
   ]
  },
  {
   "cell_type": "markdown",
   "metadata": {},
   "source": [
    "### Visualization of the Aitchison distances among reconstructed samples"
   ]
  },
  {
   "cell_type": "code",
   "execution_count": 91,
   "metadata": {},
   "outputs": [
    {
     "data": {
      "application/vnd.plotly.v1+json": {
       "config": {
        "plotlyServerURL": "https://plot.ly"
       },
       "data": [
        {
         "legendgroup": "Illumina HiSeq 3000",
         "legendgrouptitle": {
          "text": "Batch Illumina HiSeq 3000"
         },
         "marker": {
          "color": [
           "blue",
           "blue",
           "blue",
           "blue",
           "blue",
           "blue",
           "blue",
           "blue",
           "blue",
           "blue",
           "blue",
           "blue",
           "blue",
           "blue",
           "blue",
           "blue",
           "blue",
           "blue",
           "blue",
           "blue",
           "blue",
           "blue",
           "blue",
           "blue",
           "blue",
           "blue",
           "blue",
           "blue",
           "blue",
           "blue",
           "blue",
           "blue",
           "blue",
           "blue",
           "blue",
           "blue",
           "blue",
           "blue",
           "blue",
           "blue",
           "blue",
           "blue",
           "blue",
           "blue",
           "blue",
           "blue",
           "blue",
           "blue",
           "blue",
           "blue",
           "blue",
           "blue",
           "blue",
           "blue",
           "blue",
           "blue",
           "blue",
           "blue",
           "blue",
           "blue",
           "blue",
           "blue",
           "blue",
           "blue",
           "blue",
           "blue",
           "blue",
           "blue",
           "blue",
           "blue",
           "blue",
           "blue",
           "blue",
           "blue",
           "blue",
           "blue",
           "blue",
           "blue",
           "blue",
           "blue",
           "blue"
          ],
          "size": 8,
          "symbol": [
           "circle",
           "circle",
           "circle",
           "circle",
           "circle",
           "circle",
           "circle",
           "circle",
           "circle",
           "circle",
           "circle",
           "circle",
           "circle",
           "circle",
           "circle",
           "circle",
           "circle",
           "circle",
           "circle",
           "circle",
           "circle",
           "circle",
           "circle",
           "circle",
           "circle",
           "circle",
           "circle",
           "circle",
           "circle",
           "circle",
           "circle",
           "circle",
           "circle",
           "circle",
           "circle",
           "circle",
           "circle",
           "circle",
           "circle",
           "circle",
           "circle",
           "circle",
           "circle",
           "circle",
           "circle",
           "circle",
           "circle",
           "circle",
           "circle",
           "circle",
           "circle",
           "circle",
           "circle",
           "circle",
           "circle",
           "circle",
           "circle",
           "circle",
           "circle",
           "circle",
           "circle",
           "circle",
           "circle",
           "circle",
           "circle",
           "circle",
           "circle",
           "circle",
           "circle",
           "circle",
           "circle",
           "circle",
           "circle",
           "circle",
           "circle",
           "circle",
           "circle",
           "circle",
           "circle",
           "circle",
           "circle"
          ]
         },
         "mode": "markers",
         "name": "Wastewater:Water and sludge",
         "type": "scatter",
         "x": [
          -152.21945888552077,
          -44.0365675497086,
          -193.3906287019112,
          -32.23543788468863,
          -10.028501902783557,
          59.19406825955681,
          -110.84418424280261,
          62.48394523651144,
          68.83481981949467,
          88.05058861870798,
          -4.335727977988517,
          -158.28906339708726,
          20.595217740393892,
          -152.8366339144118,
          3.8885043737064344,
          -76.60362489609403,
          -53.55827852021379,
          23.28676388252319,
          -159.5463695505148,
          -174.20463054997526,
          28.299194472885254,
          -66.73587715931076,
          -77.4415371757083,
          -52.32607301811049,
          -157.1506524173492,
          -137.62012846710317,
          20.131493802684968,
          -47.22430948231564,
          -3.6201852739005105,
          47.59560443074883,
          66.88171670526211,
          -131.352633151688,
          -92.57630576426696,
          -62.64395352352731,
          -76.78763419479583,
          -46.87251516077457,
          -125.98896563334789,
          -147.4733033182395,
          -125.21370431220316,
          -91.21713123583723,
          -3.2043531718888416,
          -169.36569098959046,
          -46.160609059593206,
          -125.63132320263341,
          -35.17417508833709,
          -112.63247533057414,
          -41.67701627828922,
          -130.00586468701223,
          -19.587250172823286,
          -106.57010276841943,
          -144.3785713348945,
          -80.29630495532265,
          -101.65057436285768,
          -177.06566074154017,
          -133.0659738858525,
          -131.03350831533734,
          62.70841397872183,
          -108.13173993543336,
          -130.90022401198402,
          3.589038473026353,
          -36.62281234562518,
          -58.65093748349201,
          68.09713598187513,
          -110.53474745692027,
          -41.14979925432018,
          -27.34064431485312,
          -161.44679184787447,
          -84.0521463962625,
          -97.1918239108576,
          -106.28022269426434,
          -77.0514874390342,
          -114.19664286413357,
          -48.74802883392562,
          64.4267918109199,
          -179.45414321024796,
          -154.19641186957637,
          -57.118713473591605,
          -145.65523925522962,
          -85.8414388935637,
          -121.90115803965904,
          -105.43677291133594
         ],
         "y": [
          51.66917324440835,
          58.35087121444215,
          -43.6431031662642,
          17.619081317501177,
          61.44454344662704,
          4.898236497798258,
          -62.44325806197695,
          -17.98826307444331,
          0.28095506569129924,
          2.047460957470082,
          -4.57345651960826,
          46.93322709121618,
          21.90005346776735,
          8.118150863690515,
          -37.12472535143379,
          -96.77975271568496,
          38.13750633723682,
          -3.967817292040172,
          82.42914230825758,
          29.29286801417306,
          15.886667490872062,
          108.16177834158714,
          -89.70031272256011,
          21.114790018129018,
          -31.46703533693128,
          40.14475703010941,
          78.25364106500899,
          -24.436717119301996,
          -43.821268038207066,
          -2.386163867537667,
          -18.33711265144137,
          -51.093279952634,
          40.42678504317956,
          22.749590186002784,
          100.90465958560993,
          -51.50507681010822,
          93.36436983107296,
          58.7897352932008,
          -41.901402870852856,
          -102.0874487569976,
          -22.01133477729352,
          84.99386497933857,
          -8.233325326683586,
          59.647561371328884,
          49.540787606095535,
          -30.05271112672833,
          -37.61124735573659,
          -94.53690702972605,
          27.72464619276058,
          115.75444610292683,
          -65.757120959648,
          95.94055129357714,
          -30.865302323075536,
          -79.71787950050528,
          -50.65976855905587,
          -72.49727009824932,
          -19.883464238488944,
          14.831728111215664,
          40.21687359275224,
          1.7521067800810637,
          14.878701561541225,
          58.44310526174948,
          -1.9335904605777934,
          1.8587178973058138,
          105.58521450602059,
          -43.15774715292324,
          12.706955735437248,
          41.77376264923467,
          -86.00273858463771,
          -54.47653751496773,
          -17.888863005097118,
          -52.33184545263871,
          -65.24598202233635,
          -15.855529278858585,
          -11.950800689879493,
          -5.068292005768939,
          72.76909550360544,
          18.553816438519604,
          -42.98598497567926,
          -70.48033357050359,
          -63.6662899824189
         ]
        },
        {
         "legendgroup": "Illumina MiSeq",
         "legendgrouptitle": {
          "text": "Batch Illumina MiSeq"
         },
         "marker": {
          "color": [
           "red",
           "red",
           "red",
           "red",
           "red",
           "red",
           "red",
           "red",
           "red",
           "red",
           "red",
           "red",
           "red",
           "red",
           "red",
           "red",
           "red",
           "red",
           "red",
           "red",
           "red",
           "red",
           "red",
           "red",
           "red",
           "red",
           "red",
           "red",
           "red",
           "red",
           "red",
           "red",
           "red",
           "red",
           "red",
           "red",
           "red",
           "red",
           "red",
           "red",
           "red",
           "red",
           "red",
           "red",
           "red",
           "red",
           "red",
           "red",
           "red",
           "red",
           "red",
           "red",
           "red",
           "red",
           "red",
           "red",
           "red",
           "red",
           "red",
           "red",
           "red",
           "red",
           "red",
           "red"
          ],
          "size": 8,
          "symbol": [
           "circle",
           "circle",
           "circle",
           "circle",
           "circle",
           "circle",
           "circle",
           "circle",
           "circle",
           "circle",
           "circle",
           "circle",
           "circle",
           "circle",
           "circle",
           "circle",
           "circle",
           "circle",
           "circle",
           "circle",
           "circle",
           "circle",
           "circle",
           "circle",
           "circle",
           "circle",
           "circle",
           "circle",
           "circle",
           "circle",
           "circle",
           "circle",
           "circle",
           "circle",
           "circle",
           "circle",
           "circle",
           "circle",
           "circle",
           "circle",
           "circle",
           "circle",
           "circle",
           "circle",
           "circle",
           "circle",
           "circle",
           "circle",
           "circle",
           "circle",
           "circle",
           "circle",
           "circle",
           "circle",
           "circle",
           "circle",
           "circle",
           "circle",
           "circle",
           "circle",
           "circle",
           "circle",
           "circle",
           "circle"
          ]
         },
         "mode": "markers",
         "name": "Wastewater:Water and sludge",
         "type": "scatter",
         "x": [
          81.57476315714727,
          90.71192341252069,
          89.12801069467827,
          72.29088626631942,
          93.80670043876867,
          73.98246565985228,
          86.18484208206917,
          105.13202662659064,
          92.96447004699802,
          87.26509956924464,
          81.53615600449727,
          92.15815426244225,
          100.5844013066937,
          77.60910903421835,
          82.5714433819773,
          88.78034479349779,
          100.36204755190222,
          97.72439159885232,
          61.527770339997986,
          51.583772088522885,
          110.66067717157992,
          100.93179031633838,
          96.33581876265433,
          101.95009553554304,
          112.60033940070568,
          85.40932912033834,
          97.54052051580904,
          94.77324029537732,
          88.87700616700027,
          77.22370136139959,
          79.97319078934504,
          89.26556051118274,
          68.11116050159592,
          94.3487930415905,
          64.51997193499376,
          77.74812162509697,
          97.67349997093535,
          78.75793430590261,
          96.20218951204623,
          82.81623370088302,
          97.89123367850591,
          84.63808708304964,
          95.8790063066591,
          83.97742403781966,
          65.59615187836468,
          101.52771943114809,
          107.10888117733276,
          100.5850089933503,
          97.86716832595161,
          76.63934202027932,
          112.56847987012586,
          73.92348978313268,
          84.78466434341559,
          94.84418051413999,
          83.52244064154225,
          103.43617403214562,
          83.4814198161526,
          101.41807811998004,
          100.14853198362663,
          87.56403555287665,
          120.28240918724029,
          93.64215887057549,
          56.182272424432675,
          75.00578953335474
         ],
         "y": [
          8.444862525402318,
          17.27140204992939,
          -15.472997528631888,
          15.35191023419878,
          18.040667102371845,
          -2.1617944965121865,
          1.6059472560035826,
          -0.5996199545441345,
          -4.037789800026156,
          -17.54254499650448,
          -12.973956559162566,
          5.380843009852313,
          -3.129726274278383,
          5.272435397749206,
          -3.5350310483104206,
          7.064602439453467,
          2.829581791488967,
          -6.90789530823405,
          -0.327352295205546,
          -3.74539714776627,
          -8.30259389848694,
          -6.393188475101558,
          -4.575633782305841,
          3.248542504038791,
          -15.724630530711645,
          8.416659316379102,
          0.7066403331896752,
          -7.688777632510675,
          16.414045909156563,
          27.586347855557985,
          -15.215253230717318,
          -2.5813176217260385,
          10.59150566384178,
          -8.274857480903021,
          10.079322092570743,
          -22.543243335773965,
          -12.984697520044177,
          19.07966986795301,
          4.240936036811484,
          12.121547826516721,
          7.678846331216288,
          -9.423369871375543,
          -4.257898292935857,
          22.507634486255995,
          15.554917514360715,
          -11.436125771208701,
          -1.6006352888817363,
          -2.936219811583788,
          1.776087800307637,
          1.3009960248867374,
          -0.6014395724582859,
          11.90554427220784,
          2.4194053818427905,
          4.647200759424431,
          -13.27740900577468,
          3.4603316270520446,
          -18.283868251117404,
          5.395175638243906,
          -17.741250171591364,
          0.020274102060742122,
          -8.870892794692656,
          -16.46618970096798,
          -26.185000339217265,
          -18.37820435610263
         ]
        }
       ],
       "layout": {
        "template": {
         "data": {
          "bar": [
           {
            "error_x": {
             "color": "#2a3f5f"
            },
            "error_y": {
             "color": "#2a3f5f"
            },
            "marker": {
             "line": {
              "color": "#E5ECF6",
              "width": 0.5
             },
             "pattern": {
              "fillmode": "overlay",
              "size": 10,
              "solidity": 0.2
             }
            },
            "type": "bar"
           }
          ],
          "barpolar": [
           {
            "marker": {
             "line": {
              "color": "#E5ECF6",
              "width": 0.5
             },
             "pattern": {
              "fillmode": "overlay",
              "size": 10,
              "solidity": 0.2
             }
            },
            "type": "barpolar"
           }
          ],
          "carpet": [
           {
            "aaxis": {
             "endlinecolor": "#2a3f5f",
             "gridcolor": "white",
             "linecolor": "white",
             "minorgridcolor": "white",
             "startlinecolor": "#2a3f5f"
            },
            "baxis": {
             "endlinecolor": "#2a3f5f",
             "gridcolor": "white",
             "linecolor": "white",
             "minorgridcolor": "white",
             "startlinecolor": "#2a3f5f"
            },
            "type": "carpet"
           }
          ],
          "choropleth": [
           {
            "colorbar": {
             "outlinewidth": 0,
             "ticks": ""
            },
            "type": "choropleth"
           }
          ],
          "contour": [
           {
            "colorbar": {
             "outlinewidth": 0,
             "ticks": ""
            },
            "colorscale": [
             [
              0,
              "#0d0887"
             ],
             [
              0.1111111111111111,
              "#46039f"
             ],
             [
              0.2222222222222222,
              "#7201a8"
             ],
             [
              0.3333333333333333,
              "#9c179e"
             ],
             [
              0.4444444444444444,
              "#bd3786"
             ],
             [
              0.5555555555555556,
              "#d8576b"
             ],
             [
              0.6666666666666666,
              "#ed7953"
             ],
             [
              0.7777777777777778,
              "#fb9f3a"
             ],
             [
              0.8888888888888888,
              "#fdca26"
             ],
             [
              1,
              "#f0f921"
             ]
            ],
            "type": "contour"
           }
          ],
          "contourcarpet": [
           {
            "colorbar": {
             "outlinewidth": 0,
             "ticks": ""
            },
            "type": "contourcarpet"
           }
          ],
          "heatmap": [
           {
            "colorbar": {
             "outlinewidth": 0,
             "ticks": ""
            },
            "colorscale": [
             [
              0,
              "#0d0887"
             ],
             [
              0.1111111111111111,
              "#46039f"
             ],
             [
              0.2222222222222222,
              "#7201a8"
             ],
             [
              0.3333333333333333,
              "#9c179e"
             ],
             [
              0.4444444444444444,
              "#bd3786"
             ],
             [
              0.5555555555555556,
              "#d8576b"
             ],
             [
              0.6666666666666666,
              "#ed7953"
             ],
             [
              0.7777777777777778,
              "#fb9f3a"
             ],
             [
              0.8888888888888888,
              "#fdca26"
             ],
             [
              1,
              "#f0f921"
             ]
            ],
            "type": "heatmap"
           }
          ],
          "heatmapgl": [
           {
            "colorbar": {
             "outlinewidth": 0,
             "ticks": ""
            },
            "colorscale": [
             [
              0,
              "#0d0887"
             ],
             [
              0.1111111111111111,
              "#46039f"
             ],
             [
              0.2222222222222222,
              "#7201a8"
             ],
             [
              0.3333333333333333,
              "#9c179e"
             ],
             [
              0.4444444444444444,
              "#bd3786"
             ],
             [
              0.5555555555555556,
              "#d8576b"
             ],
             [
              0.6666666666666666,
              "#ed7953"
             ],
             [
              0.7777777777777778,
              "#fb9f3a"
             ],
             [
              0.8888888888888888,
              "#fdca26"
             ],
             [
              1,
              "#f0f921"
             ]
            ],
            "type": "heatmapgl"
           }
          ],
          "histogram": [
           {
            "marker": {
             "pattern": {
              "fillmode": "overlay",
              "size": 10,
              "solidity": 0.2
             }
            },
            "type": "histogram"
           }
          ],
          "histogram2d": [
           {
            "colorbar": {
             "outlinewidth": 0,
             "ticks": ""
            },
            "colorscale": [
             [
              0,
              "#0d0887"
             ],
             [
              0.1111111111111111,
              "#46039f"
             ],
             [
              0.2222222222222222,
              "#7201a8"
             ],
             [
              0.3333333333333333,
              "#9c179e"
             ],
             [
              0.4444444444444444,
              "#bd3786"
             ],
             [
              0.5555555555555556,
              "#d8576b"
             ],
             [
              0.6666666666666666,
              "#ed7953"
             ],
             [
              0.7777777777777778,
              "#fb9f3a"
             ],
             [
              0.8888888888888888,
              "#fdca26"
             ],
             [
              1,
              "#f0f921"
             ]
            ],
            "type": "histogram2d"
           }
          ],
          "histogram2dcontour": [
           {
            "colorbar": {
             "outlinewidth": 0,
             "ticks": ""
            },
            "colorscale": [
             [
              0,
              "#0d0887"
             ],
             [
              0.1111111111111111,
              "#46039f"
             ],
             [
              0.2222222222222222,
              "#7201a8"
             ],
             [
              0.3333333333333333,
              "#9c179e"
             ],
             [
              0.4444444444444444,
              "#bd3786"
             ],
             [
              0.5555555555555556,
              "#d8576b"
             ],
             [
              0.6666666666666666,
              "#ed7953"
             ],
             [
              0.7777777777777778,
              "#fb9f3a"
             ],
             [
              0.8888888888888888,
              "#fdca26"
             ],
             [
              1,
              "#f0f921"
             ]
            ],
            "type": "histogram2dcontour"
           }
          ],
          "mesh3d": [
           {
            "colorbar": {
             "outlinewidth": 0,
             "ticks": ""
            },
            "type": "mesh3d"
           }
          ],
          "parcoords": [
           {
            "line": {
             "colorbar": {
              "outlinewidth": 0,
              "ticks": ""
             }
            },
            "type": "parcoords"
           }
          ],
          "pie": [
           {
            "automargin": true,
            "type": "pie"
           }
          ],
          "scatter": [
           {
            "fillpattern": {
             "fillmode": "overlay",
             "size": 10,
             "solidity": 0.2
            },
            "type": "scatter"
           }
          ],
          "scatter3d": [
           {
            "line": {
             "colorbar": {
              "outlinewidth": 0,
              "ticks": ""
             }
            },
            "marker": {
             "colorbar": {
              "outlinewidth": 0,
              "ticks": ""
             }
            },
            "type": "scatter3d"
           }
          ],
          "scattercarpet": [
           {
            "marker": {
             "colorbar": {
              "outlinewidth": 0,
              "ticks": ""
             }
            },
            "type": "scattercarpet"
           }
          ],
          "scattergeo": [
           {
            "marker": {
             "colorbar": {
              "outlinewidth": 0,
              "ticks": ""
             }
            },
            "type": "scattergeo"
           }
          ],
          "scattergl": [
           {
            "marker": {
             "colorbar": {
              "outlinewidth": 0,
              "ticks": ""
             }
            },
            "type": "scattergl"
           }
          ],
          "scattermapbox": [
           {
            "marker": {
             "colorbar": {
              "outlinewidth": 0,
              "ticks": ""
             }
            },
            "type": "scattermapbox"
           }
          ],
          "scatterpolar": [
           {
            "marker": {
             "colorbar": {
              "outlinewidth": 0,
              "ticks": ""
             }
            },
            "type": "scatterpolar"
           }
          ],
          "scatterpolargl": [
           {
            "marker": {
             "colorbar": {
              "outlinewidth": 0,
              "ticks": ""
             }
            },
            "type": "scatterpolargl"
           }
          ],
          "scatterternary": [
           {
            "marker": {
             "colorbar": {
              "outlinewidth": 0,
              "ticks": ""
             }
            },
            "type": "scatterternary"
           }
          ],
          "surface": [
           {
            "colorbar": {
             "outlinewidth": 0,
             "ticks": ""
            },
            "colorscale": [
             [
              0,
              "#0d0887"
             ],
             [
              0.1111111111111111,
              "#46039f"
             ],
             [
              0.2222222222222222,
              "#7201a8"
             ],
             [
              0.3333333333333333,
              "#9c179e"
             ],
             [
              0.4444444444444444,
              "#bd3786"
             ],
             [
              0.5555555555555556,
              "#d8576b"
             ],
             [
              0.6666666666666666,
              "#ed7953"
             ],
             [
              0.7777777777777778,
              "#fb9f3a"
             ],
             [
              0.8888888888888888,
              "#fdca26"
             ],
             [
              1,
              "#f0f921"
             ]
            ],
            "type": "surface"
           }
          ],
          "table": [
           {
            "cells": {
             "fill": {
              "color": "#EBF0F8"
             },
             "line": {
              "color": "white"
             }
            },
            "header": {
             "fill": {
              "color": "#C8D4E3"
             },
             "line": {
              "color": "white"
             }
            },
            "type": "table"
           }
          ]
         },
         "layout": {
          "annotationdefaults": {
           "arrowcolor": "#2a3f5f",
           "arrowhead": 0,
           "arrowwidth": 1
          },
          "autotypenumbers": "strict",
          "coloraxis": {
           "colorbar": {
            "outlinewidth": 0,
            "ticks": ""
           }
          },
          "colorscale": {
           "diverging": [
            [
             0,
             "#8e0152"
            ],
            [
             0.1,
             "#c51b7d"
            ],
            [
             0.2,
             "#de77ae"
            ],
            [
             0.3,
             "#f1b6da"
            ],
            [
             0.4,
             "#fde0ef"
            ],
            [
             0.5,
             "#f7f7f7"
            ],
            [
             0.6,
             "#e6f5d0"
            ],
            [
             0.7,
             "#b8e186"
            ],
            [
             0.8,
             "#7fbc41"
            ],
            [
             0.9,
             "#4d9221"
            ],
            [
             1,
             "#276419"
            ]
           ],
           "sequential": [
            [
             0,
             "#0d0887"
            ],
            [
             0.1111111111111111,
             "#46039f"
            ],
            [
             0.2222222222222222,
             "#7201a8"
            ],
            [
             0.3333333333333333,
             "#9c179e"
            ],
            [
             0.4444444444444444,
             "#bd3786"
            ],
            [
             0.5555555555555556,
             "#d8576b"
            ],
            [
             0.6666666666666666,
             "#ed7953"
            ],
            [
             0.7777777777777778,
             "#fb9f3a"
            ],
            [
             0.8888888888888888,
             "#fdca26"
            ],
            [
             1,
             "#f0f921"
            ]
           ],
           "sequentialminus": [
            [
             0,
             "#0d0887"
            ],
            [
             0.1111111111111111,
             "#46039f"
            ],
            [
             0.2222222222222222,
             "#7201a8"
            ],
            [
             0.3333333333333333,
             "#9c179e"
            ],
            [
             0.4444444444444444,
             "#bd3786"
            ],
            [
             0.5555555555555556,
             "#d8576b"
            ],
            [
             0.6666666666666666,
             "#ed7953"
            ],
            [
             0.7777777777777778,
             "#fb9f3a"
            ],
            [
             0.8888888888888888,
             "#fdca26"
            ],
            [
             1,
             "#f0f921"
            ]
           ]
          },
          "colorway": [
           "#636efa",
           "#EF553B",
           "#00cc96",
           "#ab63fa",
           "#FFA15A",
           "#19d3f3",
           "#FF6692",
           "#B6E880",
           "#FF97FF",
           "#FECB52"
          ],
          "font": {
           "color": "#2a3f5f"
          },
          "geo": {
           "bgcolor": "white",
           "lakecolor": "white",
           "landcolor": "#E5ECF6",
           "showlakes": true,
           "showland": true,
           "subunitcolor": "white"
          },
          "hoverlabel": {
           "align": "left"
          },
          "hovermode": "closest",
          "mapbox": {
           "style": "light"
          },
          "paper_bgcolor": "white",
          "plot_bgcolor": "#E5ECF6",
          "polar": {
           "angularaxis": {
            "gridcolor": "white",
            "linecolor": "white",
            "ticks": ""
           },
           "bgcolor": "#E5ECF6",
           "radialaxis": {
            "gridcolor": "white",
            "linecolor": "white",
            "ticks": ""
           }
          },
          "scene": {
           "xaxis": {
            "backgroundcolor": "#E5ECF6",
            "gridcolor": "white",
            "gridwidth": 2,
            "linecolor": "white",
            "showbackground": true,
            "ticks": "",
            "zerolinecolor": "white"
           },
           "yaxis": {
            "backgroundcolor": "#E5ECF6",
            "gridcolor": "white",
            "gridwidth": 2,
            "linecolor": "white",
            "showbackground": true,
            "ticks": "",
            "zerolinecolor": "white"
           },
           "zaxis": {
            "backgroundcolor": "#E5ECF6",
            "gridcolor": "white",
            "gridwidth": 2,
            "linecolor": "white",
            "showbackground": true,
            "ticks": "",
            "zerolinecolor": "white"
           }
          },
          "shapedefaults": {
           "line": {
            "color": "#2a3f5f"
           }
          },
          "ternary": {
           "aaxis": {
            "gridcolor": "white",
            "linecolor": "white",
            "ticks": ""
           },
           "baxis": {
            "gridcolor": "white",
            "linecolor": "white",
            "ticks": ""
           },
           "bgcolor": "#E5ECF6",
           "caxis": {
            "gridcolor": "white",
            "linecolor": "white",
            "ticks": ""
           }
          },
          "title": {
           "x": 0.05
          },
          "xaxis": {
           "automargin": true,
           "gridcolor": "white",
           "linecolor": "white",
           "ticks": "",
           "title": {
            "standoff": 15
           },
           "zerolinecolor": "white",
           "zerolinewidth": 2
          },
          "yaxis": {
           "automargin": true,
           "gridcolor": "white",
           "linecolor": "white",
           "ticks": "",
           "title": {
            "standoff": 15
           },
           "zerolinecolor": "white",
           "zerolinewidth": 2
          }
         }
        }
       }
      },
      "text/html": [
       "<div>                            <div id=\"4081b016-ba7b-4b01-a229-2e0252278978\" class=\"plotly-graph-div\" style=\"height:525px; width:100%;\"></div>            <script type=\"text/javascript\">                require([\"plotly\"], function(Plotly) {                    window.PLOTLYENV=window.PLOTLYENV || {};                                    if (document.getElementById(\"4081b016-ba7b-4b01-a229-2e0252278978\")) {                    Plotly.newPlot(                        \"4081b016-ba7b-4b01-a229-2e0252278978\",                        [{\"legendgroup\":\"Illumina HiSeq 3000\",\"legendgrouptitle\":{\"text\":\"Batch Illumina HiSeq 3000\"},\"marker\":{\"color\":[\"blue\",\"blue\",\"blue\",\"blue\",\"blue\",\"blue\",\"blue\",\"blue\",\"blue\",\"blue\",\"blue\",\"blue\",\"blue\",\"blue\",\"blue\",\"blue\",\"blue\",\"blue\",\"blue\",\"blue\",\"blue\",\"blue\",\"blue\",\"blue\",\"blue\",\"blue\",\"blue\",\"blue\",\"blue\",\"blue\",\"blue\",\"blue\",\"blue\",\"blue\",\"blue\",\"blue\",\"blue\",\"blue\",\"blue\",\"blue\",\"blue\",\"blue\",\"blue\",\"blue\",\"blue\",\"blue\",\"blue\",\"blue\",\"blue\",\"blue\",\"blue\",\"blue\",\"blue\",\"blue\",\"blue\",\"blue\",\"blue\",\"blue\",\"blue\",\"blue\",\"blue\",\"blue\",\"blue\",\"blue\",\"blue\",\"blue\",\"blue\",\"blue\",\"blue\",\"blue\",\"blue\",\"blue\",\"blue\",\"blue\",\"blue\",\"blue\",\"blue\",\"blue\",\"blue\",\"blue\",\"blue\"],\"size\":8,\"symbol\":[\"circle\",\"circle\",\"circle\",\"circle\",\"circle\",\"circle\",\"circle\",\"circle\",\"circle\",\"circle\",\"circle\",\"circle\",\"circle\",\"circle\",\"circle\",\"circle\",\"circle\",\"circle\",\"circle\",\"circle\",\"circle\",\"circle\",\"circle\",\"circle\",\"circle\",\"circle\",\"circle\",\"circle\",\"circle\",\"circle\",\"circle\",\"circle\",\"circle\",\"circle\",\"circle\",\"circle\",\"circle\",\"circle\",\"circle\",\"circle\",\"circle\",\"circle\",\"circle\",\"circle\",\"circle\",\"circle\",\"circle\",\"circle\",\"circle\",\"circle\",\"circle\",\"circle\",\"circle\",\"circle\",\"circle\",\"circle\",\"circle\",\"circle\",\"circle\",\"circle\",\"circle\",\"circle\",\"circle\",\"circle\",\"circle\",\"circle\",\"circle\",\"circle\",\"circle\",\"circle\",\"circle\",\"circle\",\"circle\",\"circle\",\"circle\",\"circle\",\"circle\",\"circle\",\"circle\",\"circle\",\"circle\"]},\"mode\":\"markers\",\"name\":\"Wastewater:Water and sludge\",\"x\":[-152.21945888552077,-44.0365675497086,-193.3906287019112,-32.23543788468863,-10.028501902783557,59.19406825955681,-110.84418424280261,62.48394523651144,68.83481981949467,88.05058861870798,-4.335727977988517,-158.28906339708726,20.595217740393892,-152.8366339144118,3.8885043737064344,-76.60362489609403,-53.55827852021379,23.28676388252319,-159.5463695505148,-174.20463054997526,28.299194472885254,-66.73587715931076,-77.4415371757083,-52.32607301811049,-157.1506524173492,-137.62012846710317,20.131493802684968,-47.22430948231564,-3.6201852739005105,47.59560443074883,66.88171670526211,-131.352633151688,-92.57630576426696,-62.64395352352731,-76.78763419479583,-46.87251516077457,-125.98896563334789,-147.4733033182395,-125.21370431220316,-91.21713123583723,-3.2043531718888416,-169.36569098959046,-46.160609059593206,-125.63132320263341,-35.17417508833709,-112.63247533057414,-41.67701627828922,-130.00586468701223,-19.587250172823286,-106.57010276841943,-144.3785713348945,-80.29630495532265,-101.65057436285768,-177.06566074154017,-133.0659738858525,-131.03350831533734,62.70841397872183,-108.13173993543336,-130.90022401198402,3.589038473026353,-36.62281234562518,-58.65093748349201,68.09713598187513,-110.53474745692027,-41.14979925432018,-27.34064431485312,-161.44679184787447,-84.0521463962625,-97.1918239108576,-106.28022269426434,-77.0514874390342,-114.19664286413357,-48.74802883392562,64.4267918109199,-179.45414321024796,-154.19641186957637,-57.118713473591605,-145.65523925522962,-85.8414388935637,-121.90115803965904,-105.43677291133594],\"y\":[51.66917324440835,58.35087121444215,-43.6431031662642,17.619081317501177,61.44454344662704,4.898236497798258,-62.44325806197695,-17.98826307444331,0.28095506569129924,2.047460957470082,-4.57345651960826,46.93322709121618,21.90005346776735,8.118150863690515,-37.12472535143379,-96.77975271568496,38.13750633723682,-3.967817292040172,82.42914230825758,29.29286801417306,15.886667490872062,108.16177834158714,-89.70031272256011,21.114790018129018,-31.46703533693128,40.14475703010941,78.25364106500899,-24.436717119301996,-43.821268038207066,-2.386163867537667,-18.33711265144137,-51.093279952634,40.42678504317956,22.749590186002784,100.90465958560993,-51.50507681010822,93.36436983107296,58.7897352932008,-41.901402870852856,-102.0874487569976,-22.01133477729352,84.99386497933857,-8.233325326683586,59.647561371328884,49.540787606095535,-30.05271112672833,-37.61124735573659,-94.53690702972605,27.72464619276058,115.75444610292683,-65.757120959648,95.94055129357714,-30.865302323075536,-79.71787950050528,-50.65976855905587,-72.49727009824932,-19.883464238488944,14.831728111215664,40.21687359275224,1.7521067800810637,14.878701561541225,58.44310526174948,-1.9335904605777934,1.8587178973058138,105.58521450602059,-43.15774715292324,12.706955735437248,41.77376264923467,-86.00273858463771,-54.47653751496773,-17.888863005097118,-52.33184545263871,-65.24598202233635,-15.855529278858585,-11.950800689879493,-5.068292005768939,72.76909550360544,18.553816438519604,-42.98598497567926,-70.48033357050359,-63.6662899824189],\"type\":\"scatter\"},{\"legendgroup\":\"Illumina MiSeq\",\"legendgrouptitle\":{\"text\":\"Batch Illumina MiSeq\"},\"marker\":{\"color\":[\"red\",\"red\",\"red\",\"red\",\"red\",\"red\",\"red\",\"red\",\"red\",\"red\",\"red\",\"red\",\"red\",\"red\",\"red\",\"red\",\"red\",\"red\",\"red\",\"red\",\"red\",\"red\",\"red\",\"red\",\"red\",\"red\",\"red\",\"red\",\"red\",\"red\",\"red\",\"red\",\"red\",\"red\",\"red\",\"red\",\"red\",\"red\",\"red\",\"red\",\"red\",\"red\",\"red\",\"red\",\"red\",\"red\",\"red\",\"red\",\"red\",\"red\",\"red\",\"red\",\"red\",\"red\",\"red\",\"red\",\"red\",\"red\",\"red\",\"red\",\"red\",\"red\",\"red\",\"red\"],\"size\":8,\"symbol\":[\"circle\",\"circle\",\"circle\",\"circle\",\"circle\",\"circle\",\"circle\",\"circle\",\"circle\",\"circle\",\"circle\",\"circle\",\"circle\",\"circle\",\"circle\",\"circle\",\"circle\",\"circle\",\"circle\",\"circle\",\"circle\",\"circle\",\"circle\",\"circle\",\"circle\",\"circle\",\"circle\",\"circle\",\"circle\",\"circle\",\"circle\",\"circle\",\"circle\",\"circle\",\"circle\",\"circle\",\"circle\",\"circle\",\"circle\",\"circle\",\"circle\",\"circle\",\"circle\",\"circle\",\"circle\",\"circle\",\"circle\",\"circle\",\"circle\",\"circle\",\"circle\",\"circle\",\"circle\",\"circle\",\"circle\",\"circle\",\"circle\",\"circle\",\"circle\",\"circle\",\"circle\",\"circle\",\"circle\",\"circle\"]},\"mode\":\"markers\",\"name\":\"Wastewater:Water and sludge\",\"x\":[81.57476315714727,90.71192341252069,89.12801069467827,72.29088626631942,93.80670043876867,73.98246565985228,86.18484208206917,105.13202662659064,92.96447004699802,87.26509956924464,81.53615600449727,92.15815426244225,100.5844013066937,77.60910903421835,82.5714433819773,88.78034479349779,100.36204755190222,97.72439159885232,61.527770339997986,51.583772088522885,110.66067717157992,100.93179031633838,96.33581876265433,101.95009553554304,112.60033940070568,85.40932912033834,97.54052051580904,94.77324029537732,88.87700616700027,77.22370136139959,79.97319078934504,89.26556051118274,68.11116050159592,94.3487930415905,64.51997193499376,77.74812162509697,97.67349997093535,78.75793430590261,96.20218951204623,82.81623370088302,97.89123367850591,84.63808708304964,95.8790063066591,83.97742403781966,65.59615187836468,101.52771943114809,107.10888117733276,100.5850089933503,97.86716832595161,76.63934202027932,112.56847987012586,73.92348978313268,84.78466434341559,94.84418051413999,83.52244064154225,103.43617403214562,83.4814198161526,101.41807811998004,100.14853198362663,87.56403555287665,120.28240918724029,93.64215887057549,56.182272424432675,75.00578953335474],\"y\":[8.444862525402318,17.27140204992939,-15.472997528631888,15.35191023419878,18.040667102371845,-2.1617944965121865,1.6059472560035826,-0.5996199545441345,-4.037789800026156,-17.54254499650448,-12.973956559162566,5.380843009852313,-3.129726274278383,5.272435397749206,-3.5350310483104206,7.064602439453467,2.829581791488967,-6.90789530823405,-0.327352295205546,-3.74539714776627,-8.30259389848694,-6.393188475101558,-4.575633782305841,3.248542504038791,-15.724630530711645,8.416659316379102,0.7066403331896752,-7.688777632510675,16.414045909156563,27.586347855557985,-15.215253230717318,-2.5813176217260385,10.59150566384178,-8.274857480903021,10.079322092570743,-22.543243335773965,-12.984697520044177,19.07966986795301,4.240936036811484,12.121547826516721,7.678846331216288,-9.423369871375543,-4.257898292935857,22.507634486255995,15.554917514360715,-11.436125771208701,-1.6006352888817363,-2.936219811583788,1.776087800307637,1.3009960248867374,-0.6014395724582859,11.90554427220784,2.4194053818427905,4.647200759424431,-13.27740900577468,3.4603316270520446,-18.283868251117404,5.395175638243906,-17.741250171591364,0.020274102060742122,-8.870892794692656,-16.46618970096798,-26.185000339217265,-18.37820435610263],\"type\":\"scatter\"}],                        {\"template\":{\"data\":{\"histogram2dcontour\":[{\"type\":\"histogram2dcontour\",\"colorbar\":{\"outlinewidth\":0,\"ticks\":\"\"},\"colorscale\":[[0.0,\"#0d0887\"],[0.1111111111111111,\"#46039f\"],[0.2222222222222222,\"#7201a8\"],[0.3333333333333333,\"#9c179e\"],[0.4444444444444444,\"#bd3786\"],[0.5555555555555556,\"#d8576b\"],[0.6666666666666666,\"#ed7953\"],[0.7777777777777778,\"#fb9f3a\"],[0.8888888888888888,\"#fdca26\"],[1.0,\"#f0f921\"]]}],\"choropleth\":[{\"type\":\"choropleth\",\"colorbar\":{\"outlinewidth\":0,\"ticks\":\"\"}}],\"histogram2d\":[{\"type\":\"histogram2d\",\"colorbar\":{\"outlinewidth\":0,\"ticks\":\"\"},\"colorscale\":[[0.0,\"#0d0887\"],[0.1111111111111111,\"#46039f\"],[0.2222222222222222,\"#7201a8\"],[0.3333333333333333,\"#9c179e\"],[0.4444444444444444,\"#bd3786\"],[0.5555555555555556,\"#d8576b\"],[0.6666666666666666,\"#ed7953\"],[0.7777777777777778,\"#fb9f3a\"],[0.8888888888888888,\"#fdca26\"],[1.0,\"#f0f921\"]]}],\"heatmap\":[{\"type\":\"heatmap\",\"colorbar\":{\"outlinewidth\":0,\"ticks\":\"\"},\"colorscale\":[[0.0,\"#0d0887\"],[0.1111111111111111,\"#46039f\"],[0.2222222222222222,\"#7201a8\"],[0.3333333333333333,\"#9c179e\"],[0.4444444444444444,\"#bd3786\"],[0.5555555555555556,\"#d8576b\"],[0.6666666666666666,\"#ed7953\"],[0.7777777777777778,\"#fb9f3a\"],[0.8888888888888888,\"#fdca26\"],[1.0,\"#f0f921\"]]}],\"heatmapgl\":[{\"type\":\"heatmapgl\",\"colorbar\":{\"outlinewidth\":0,\"ticks\":\"\"},\"colorscale\":[[0.0,\"#0d0887\"],[0.1111111111111111,\"#46039f\"],[0.2222222222222222,\"#7201a8\"],[0.3333333333333333,\"#9c179e\"],[0.4444444444444444,\"#bd3786\"],[0.5555555555555556,\"#d8576b\"],[0.6666666666666666,\"#ed7953\"],[0.7777777777777778,\"#fb9f3a\"],[0.8888888888888888,\"#fdca26\"],[1.0,\"#f0f921\"]]}],\"contourcarpet\":[{\"type\":\"contourcarpet\",\"colorbar\":{\"outlinewidth\":0,\"ticks\":\"\"}}],\"contour\":[{\"type\":\"contour\",\"colorbar\":{\"outlinewidth\":0,\"ticks\":\"\"},\"colorscale\":[[0.0,\"#0d0887\"],[0.1111111111111111,\"#46039f\"],[0.2222222222222222,\"#7201a8\"],[0.3333333333333333,\"#9c179e\"],[0.4444444444444444,\"#bd3786\"],[0.5555555555555556,\"#d8576b\"],[0.6666666666666666,\"#ed7953\"],[0.7777777777777778,\"#fb9f3a\"],[0.8888888888888888,\"#fdca26\"],[1.0,\"#f0f921\"]]}],\"surface\":[{\"type\":\"surface\",\"colorbar\":{\"outlinewidth\":0,\"ticks\":\"\"},\"colorscale\":[[0.0,\"#0d0887\"],[0.1111111111111111,\"#46039f\"],[0.2222222222222222,\"#7201a8\"],[0.3333333333333333,\"#9c179e\"],[0.4444444444444444,\"#bd3786\"],[0.5555555555555556,\"#d8576b\"],[0.6666666666666666,\"#ed7953\"],[0.7777777777777778,\"#fb9f3a\"],[0.8888888888888888,\"#fdca26\"],[1.0,\"#f0f921\"]]}],\"mesh3d\":[{\"type\":\"mesh3d\",\"colorbar\":{\"outlinewidth\":0,\"ticks\":\"\"}}],\"scatter\":[{\"fillpattern\":{\"fillmode\":\"overlay\",\"size\":10,\"solidity\":0.2},\"type\":\"scatter\"}],\"parcoords\":[{\"type\":\"parcoords\",\"line\":{\"colorbar\":{\"outlinewidth\":0,\"ticks\":\"\"}}}],\"scatterpolargl\":[{\"type\":\"scatterpolargl\",\"marker\":{\"colorbar\":{\"outlinewidth\":0,\"ticks\":\"\"}}}],\"bar\":[{\"error_x\":{\"color\":\"#2a3f5f\"},\"error_y\":{\"color\":\"#2a3f5f\"},\"marker\":{\"line\":{\"color\":\"#E5ECF6\",\"width\":0.5},\"pattern\":{\"fillmode\":\"overlay\",\"size\":10,\"solidity\":0.2}},\"type\":\"bar\"}],\"scattergeo\":[{\"type\":\"scattergeo\",\"marker\":{\"colorbar\":{\"outlinewidth\":0,\"ticks\":\"\"}}}],\"scatterpolar\":[{\"type\":\"scatterpolar\",\"marker\":{\"colorbar\":{\"outlinewidth\":0,\"ticks\":\"\"}}}],\"histogram\":[{\"marker\":{\"pattern\":{\"fillmode\":\"overlay\",\"size\":10,\"solidity\":0.2}},\"type\":\"histogram\"}],\"scattergl\":[{\"type\":\"scattergl\",\"marker\":{\"colorbar\":{\"outlinewidth\":0,\"ticks\":\"\"}}}],\"scatter3d\":[{\"type\":\"scatter3d\",\"line\":{\"colorbar\":{\"outlinewidth\":0,\"ticks\":\"\"}},\"marker\":{\"colorbar\":{\"outlinewidth\":0,\"ticks\":\"\"}}}],\"scattermapbox\":[{\"type\":\"scattermapbox\",\"marker\":{\"colorbar\":{\"outlinewidth\":0,\"ticks\":\"\"}}}],\"scatterternary\":[{\"type\":\"scatterternary\",\"marker\":{\"colorbar\":{\"outlinewidth\":0,\"ticks\":\"\"}}}],\"scattercarpet\":[{\"type\":\"scattercarpet\",\"marker\":{\"colorbar\":{\"outlinewidth\":0,\"ticks\":\"\"}}}],\"carpet\":[{\"aaxis\":{\"endlinecolor\":\"#2a3f5f\",\"gridcolor\":\"white\",\"linecolor\":\"white\",\"minorgridcolor\":\"white\",\"startlinecolor\":\"#2a3f5f\"},\"baxis\":{\"endlinecolor\":\"#2a3f5f\",\"gridcolor\":\"white\",\"linecolor\":\"white\",\"minorgridcolor\":\"white\",\"startlinecolor\":\"#2a3f5f\"},\"type\":\"carpet\"}],\"table\":[{\"cells\":{\"fill\":{\"color\":\"#EBF0F8\"},\"line\":{\"color\":\"white\"}},\"header\":{\"fill\":{\"color\":\"#C8D4E3\"},\"line\":{\"color\":\"white\"}},\"type\":\"table\"}],\"barpolar\":[{\"marker\":{\"line\":{\"color\":\"#E5ECF6\",\"width\":0.5},\"pattern\":{\"fillmode\":\"overlay\",\"size\":10,\"solidity\":0.2}},\"type\":\"barpolar\"}],\"pie\":[{\"automargin\":true,\"type\":\"pie\"}]},\"layout\":{\"autotypenumbers\":\"strict\",\"colorway\":[\"#636efa\",\"#EF553B\",\"#00cc96\",\"#ab63fa\",\"#FFA15A\",\"#19d3f3\",\"#FF6692\",\"#B6E880\",\"#FF97FF\",\"#FECB52\"],\"font\":{\"color\":\"#2a3f5f\"},\"hovermode\":\"closest\",\"hoverlabel\":{\"align\":\"left\"},\"paper_bgcolor\":\"white\",\"plot_bgcolor\":\"#E5ECF6\",\"polar\":{\"bgcolor\":\"#E5ECF6\",\"angularaxis\":{\"gridcolor\":\"white\",\"linecolor\":\"white\",\"ticks\":\"\"},\"radialaxis\":{\"gridcolor\":\"white\",\"linecolor\":\"white\",\"ticks\":\"\"}},\"ternary\":{\"bgcolor\":\"#E5ECF6\",\"aaxis\":{\"gridcolor\":\"white\",\"linecolor\":\"white\",\"ticks\":\"\"},\"baxis\":{\"gridcolor\":\"white\",\"linecolor\":\"white\",\"ticks\":\"\"},\"caxis\":{\"gridcolor\":\"white\",\"linecolor\":\"white\",\"ticks\":\"\"}},\"coloraxis\":{\"colorbar\":{\"outlinewidth\":0,\"ticks\":\"\"}},\"colorscale\":{\"sequential\":[[0.0,\"#0d0887\"],[0.1111111111111111,\"#46039f\"],[0.2222222222222222,\"#7201a8\"],[0.3333333333333333,\"#9c179e\"],[0.4444444444444444,\"#bd3786\"],[0.5555555555555556,\"#d8576b\"],[0.6666666666666666,\"#ed7953\"],[0.7777777777777778,\"#fb9f3a\"],[0.8888888888888888,\"#fdca26\"],[1.0,\"#f0f921\"]],\"sequentialminus\":[[0.0,\"#0d0887\"],[0.1111111111111111,\"#46039f\"],[0.2222222222222222,\"#7201a8\"],[0.3333333333333333,\"#9c179e\"],[0.4444444444444444,\"#bd3786\"],[0.5555555555555556,\"#d8576b\"],[0.6666666666666666,\"#ed7953\"],[0.7777777777777778,\"#fb9f3a\"],[0.8888888888888888,\"#fdca26\"],[1.0,\"#f0f921\"]],\"diverging\":[[0,\"#8e0152\"],[0.1,\"#c51b7d\"],[0.2,\"#de77ae\"],[0.3,\"#f1b6da\"],[0.4,\"#fde0ef\"],[0.5,\"#f7f7f7\"],[0.6,\"#e6f5d0\"],[0.7,\"#b8e186\"],[0.8,\"#7fbc41\"],[0.9,\"#4d9221\"],[1,\"#276419\"]]},\"xaxis\":{\"gridcolor\":\"white\",\"linecolor\":\"white\",\"ticks\":\"\",\"title\":{\"standoff\":15},\"zerolinecolor\":\"white\",\"automargin\":true,\"zerolinewidth\":2},\"yaxis\":{\"gridcolor\":\"white\",\"linecolor\":\"white\",\"ticks\":\"\",\"title\":{\"standoff\":15},\"zerolinecolor\":\"white\",\"automargin\":true,\"zerolinewidth\":2},\"scene\":{\"xaxis\":{\"backgroundcolor\":\"#E5ECF6\",\"gridcolor\":\"white\",\"linecolor\":\"white\",\"showbackground\":true,\"ticks\":\"\",\"zerolinecolor\":\"white\",\"gridwidth\":2},\"yaxis\":{\"backgroundcolor\":\"#E5ECF6\",\"gridcolor\":\"white\",\"linecolor\":\"white\",\"showbackground\":true,\"ticks\":\"\",\"zerolinecolor\":\"white\",\"gridwidth\":2},\"zaxis\":{\"backgroundcolor\":\"#E5ECF6\",\"gridcolor\":\"white\",\"linecolor\":\"white\",\"showbackground\":true,\"ticks\":\"\",\"zerolinecolor\":\"white\",\"gridwidth\":2}},\"shapedefaults\":{\"line\":{\"color\":\"#2a3f5f\"}},\"annotationdefaults\":{\"arrowcolor\":\"#2a3f5f\",\"arrowhead\":0,\"arrowwidth\":1},\"geo\":{\"bgcolor\":\"white\",\"landcolor\":\"#E5ECF6\",\"subunitcolor\":\"white\",\"showland\":true,\"showlakes\":true,\"lakecolor\":\"white\"},\"title\":{\"x\":0.05},\"mapbox\":{\"style\":\"light\"}}}},                        {\"responsive\": true}                    ).then(function(){\n",
       "                            \n",
       "var gd = document.getElementById('4081b016-ba7b-4b01-a229-2e0252278978');\n",
       "var x = new MutationObserver(function (mutations, observer) {{\n",
       "        var display = window.getComputedStyle(gd).display;\n",
       "        if (!display || display === 'none') {{\n",
       "            console.log([gd, 'removed!']);\n",
       "            Plotly.purge(gd);\n",
       "            observer.disconnect();\n",
       "        }}\n",
       "}});\n",
       "\n",
       "// Listen for the removal of the full notebook cells\n",
       "var notebookContainer = gd.closest('#notebook-container');\n",
       "if (notebookContainer) {{\n",
       "    x.observe(notebookContainer, {childList: true});\n",
       "}}\n",
       "\n",
       "// Listen for the clearing of the current output cell\n",
       "var outputEl = gd.closest('.output');\n",
       "if (outputEl) {{\n",
       "    x.observe(outputEl, {childList: true});\n",
       "}}\n",
       "\n",
       "                        })                };                });            </script>        </div>"
      ]
     },
     "metadata": {},
     "output_type": "display_data"
    }
   ],
   "source": [
    "recon_data = np.array(recon_data).reshape(-1, np.array(recon_data).shape[-1])\n",
    "\n",
    "otu_corrected_pd = pd.concat([pd.DataFrame(recon_data, index = otu_data.index, columns = otu_data.columns),\n",
    "                          otu_batch,\n",
    "                          otu_biome,\n",
    "                          data[\"sample\"]],\n",
    "                          axis=1)\n",
    "\n",
    "plotPCoA(otu_corrected_pd, method=\"aitchison\", sample_label=\"sample\", batch_label=batch_label, experiment_label=exp_label)"
   ]
  },
  {
   "cell_type": "markdown",
   "metadata": {},
   "source": [
    "### Latent space visualization"
   ]
  },
  {
   "cell_type": "code",
   "execution_count": 108,
   "metadata": {},
   "outputs": [],
   "source": [
    "latent_space = []\n",
    "for x in vae_dataloader:\n",
    "    x = x[0].to(device)\n",
    "    q = model.encoder(x)\n",
    "    z = q.rsample()\n",
    "    latent_space.append(z.tolist())\n",
    "    \n",
    "latent_space = np.array(latent_space).reshape(-1, np.array(latent_space).shape[-1])"
   ]
  },
  {
   "cell_type": "code",
   "execution_count": 121,
   "metadata": {},
   "outputs": [
    {
     "data": {
      "image/png": "[encoded data removed]",
      "text/plain": [
       "<Figure size 640x480 with 1 Axes>"
      ]
     },
     "metadata": {},
     "output_type": "display_data"
    }
   ],
   "source": [
    "import numpy as np\n",
    "import matplotlib.pyplot as plt\n",
    "from sklearn.manifold import TSNE\n",
    "\n",
    "# Assume latent_vectors is your latent space representation (N samples × D dimensions)\n",
    "batch_info = np.argmax(np.array(ohe_batch.tolist()), axis=1)\n",
    "\n",
    "tsne = TSNE(n_components=2, perplexity=30, random_state=42)\n",
    "reduced = tsne.fit_transform(latent_space)\n",
    "\n",
    "plt.scatter(reduced[:, 0], reduced[:, 1], c = batch_info, cmap=\"tab10\", alpha=0.7)\n",
    "plt.xlabel(\"t-SNE Dim 1\")\n",
    "plt.ylabel(\"t-SNE Dim 2\")\n",
    "plt.title(\"t-SNE Projection of Latent Space\")\n",
    "plt.show()"
   ]
  }
 ],
 "metadata": {
  "kernelspec": {
   "display_name": "BECA",
   "language": "python",
   "name": "python3"
  },
  "language_info": {
   "codemirror_mode": {
    "name": "ipython",
    "version": 3
   },
   "file_extension": ".py",
   "mimetype": "text/x-python",
   "name": "python",
   "nbconvert_exporter": "python",
   "pygments_lexer": "ipython3",
   "version": "3.12.8"
  }
 },
 "nbformat": 4,
 "nbformat_minor": 2
}
