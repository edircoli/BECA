{
 "cells": [
  {
   "cell_type": "markdown",
   "metadata": {},
   "source": [
    "## Libraries"
   ]
  },
  {
   "cell_type": "code",
   "execution_count": 2,
   "metadata": {},
   "outputs": [
    {
     "name": "stdout",
     "output_type": "stream",
     "text": [
      ">> clustergrammer2 backend version 0.18.0\n"
     ]
    }
   ],
   "source": [
    "import pandas as pd\n",
    "import numpy as np\n",
    "from scipy.stats import gmean, mannwhitneyu, pearsonr, zscore, chi2\n",
    "from sklearn.decomposition import PCA\n",
    "from sklearn.preprocessing import StandardScaler\n",
    "from sklearn.cross_decomposition import PLSRegression\n",
    "from sklearn.utils import resample\n",
    "from sklearn.feature_selection import VarianceThreshold\n",
    "from sklearn.neighbors import NearestNeighbors\n",
    "from sklearn.metrics import silhouette_score, adjusted_rand_score\n",
    "from sklearn.cluster import KMeans\n",
    "import plotly.express as px\n",
    "import plotly.graph_objects as go\n",
    "from plotly.validators.scatter.marker import SymbolValidator\n",
    "from clustergrammer2 import net, Network, CGM2\n",
    "from BatchEffectPlots import DataPreprocess, plotPCA, plotOTUBox, plotRLE, plotClusterHeatMap\n",
    "from BatchEffectCorrection import correctCombat, correctLimma_rBE, correctSVD, correctPLSDA_batch\n",
    "from BatchEffectMetrics import kBET, iLISI, cLISI, ASW, ARI\n",
    "from skbio.stats.distance import permanova, DistanceMatrix\n",
    "from scipy.spatial.distance import pdist, squareform"
   ]
  },
  {
   "cell_type": "markdown",
   "metadata": {},
   "source": [
    "## Initial data preparation"
   ]
  },
  {
   "cell_type": "code",
   "execution_count": 3,
   "metadata": {},
   "outputs": [],
   "source": [
    "path = \"data/dataset_sponge.csv\"\n",
    "data = DataPreprocess(path)"
   ]
  },
  {
   "cell_type": "markdown",
   "metadata": {},
   "source": [
    "## Batch Effect Assessment plots"
   ]
  },
  {
   "cell_type": "markdown",
   "metadata": {},
   "source": [
    "### PCA plot"
   ]
  },
  {
   "cell_type": "code",
   "execution_count": 3,
   "metadata": {},
   "outputs": [
    {
     "data": {
      "application/vnd.plotly.v1+json": {
       "config": {
        "plotlyServerURL": "https://plot.ly"
       },
       "data": [
        {
         "legendgroup": "1",
         "legendgrouptitle": {
          "text": "Batch 1"
         },
         "marker": {
          "color": [
           "blue",
           "blue",
           "blue",
           "blue",
           "blue",
           "blue",
           "blue",
           "blue"
          ],
          "size": 8,
          "symbol": [
           "circle",
           "circle",
           "circle",
           "circle",
           "circle",
           "circle",
           "circle",
           "circle"
          ]
         },
         "mode": "markers",
         "name": "Ectosome",
         "type": "scatter",
         "x": [
          2.806934204934366,
          3.3842088090891504,
          1.5651338933242163,
          1.5443837890885428,
          2.150040878065517,
          2.1182600267051135,
          2.3416180983102377,
          3.0132253702632283
         ],
         "y": [
          -0.7825346781299365,
          -0.5916684087097217,
          -1.4888375412122963,
          -1.2861241130821548,
          -1.9235784388505193,
          -2.0672185846052527,
          -1.4343842367818906,
          -0.9951275563696634
         ]
        },
        {
         "legendgroup": "1",
         "legendgrouptitle": {
          "text": "Batch 1"
         },
         "marker": {
          "color": [
           "blue",
           "blue",
           "blue",
           "blue",
           "blue",
           "blue",
           "blue",
           "blue"
          ],
          "size": 8,
          "symbol": [
           "square",
           "square",
           "square",
           "square",
           "square",
           "square",
           "square",
           "square"
          ]
         },
         "mode": "markers",
         "name": "Choanosome",
         "type": "scatter",
         "x": [
          -2.349826171582337,
          -2.4961001388929738,
          -2.5989448607234635,
          -2.6708017778992703,
          -2.5945530168715294,
          -2.3605311089555006,
          -2.4151707940619214,
          -2.222159472566523
         ],
         "y": [
          -2.371279530438314,
          -2.809537600725959,
          -1.9449080685666549,
          -1.7566716757204237,
          -2.1597938423565823,
          -1.6737791428486928,
          -2.0403428791175036,
          -1.9976336121528873
         ]
        },
        {
         "legendgroup": "2",
         "legendgrouptitle": {
          "text": "Batch 2"
         },
         "marker": {
          "color": [
           "red",
           "red",
           "red",
           "red",
           "red",
           "red",
           "red",
           "red"
          ],
          "size": 8,
          "symbol": [
           "circle",
           "circle",
           "circle",
           "circle",
           "circle",
           "circle",
           "circle",
           "circle"
          ]
         },
         "mode": "markers",
         "name": "Ectosome",
         "type": "scatter",
         "x": [
          3.649588058491407,
          3.000134131689556,
          3.9879881178298606,
          2.0632214271377527,
          2.99747347557127,
          3.1836759374110764,
          3.6344702896225662,
          2.8634090120325832
         ],
         "y": [
          0.1856661634623206,
          0.5204621473657693,
          0.9038989901772633,
          0.4504547789877378,
          2.1573987488339474,
          2.1706815117804754,
          1.8799918787418692,
          2.170860565200681
         ]
        },
        {
         "legendgroup": "2",
         "legendgrouptitle": {
          "text": "Batch 2"
         },
         "marker": {
          "color": [
           "red",
           "red",
           "red",
           "red",
           "red",
           "red",
           "red",
           "red"
          ],
          "size": 8,
          "symbol": [
           "square",
           "square",
           "square",
           "square",
           "square",
           "square",
           "square",
           "square"
          ]
         },
         "mode": "markers",
         "name": "Choanosome",
         "type": "scatter",
         "x": [
          -3.218863190141542,
          -3.229604842173179,
          -3.182713538702838,
          -3.203873020544119,
          -2.963752142877925,
          -2.852443801198328,
          -2.8934282032005476,
          -3.050999439174445
         ],
         "y": [
          1.566596230444401,
          0.7287052578438282,
          1.3167384097856267,
          1.2034759712811656,
          2.978541858721206,
          2.688395766832968,
          2.5692765533016084,
          3.8322750769075857
         ]
        }
       ],
       "layout": {
        "template": {
         "data": {
          "bar": [
           {
            "error_x": {
             "color": "#2a3f5f"
            },
            "error_y": {
             "color": "#2a3f5f"
            },
            "marker": {
             "line": {
              "color": "#E5ECF6",
              "width": 0.5
             },
             "pattern": {
              "fillmode": "overlay",
              "size": 10,
              "solidity": 0.2
             }
            },
            "type": "bar"
           }
          ],
          "barpolar": [
           {
            "marker": {
             "line": {
              "color": "#E5ECF6",
              "width": 0.5
             },
             "pattern": {
              "fillmode": "overlay",
              "size": 10,
              "solidity": 0.2
             }
            },
            "type": "barpolar"
           }
          ],
          "carpet": [
           {
            "aaxis": {
             "endlinecolor": "#2a3f5f",
             "gridcolor": "white",
             "linecolor": "white",
             "minorgridcolor": "white",
             "startlinecolor": "#2a3f5f"
            },
            "baxis": {
             "endlinecolor": "#2a3f5f",
             "gridcolor": "white",
             "linecolor": "white",
             "minorgridcolor": "white",
             "startlinecolor": "#2a3f5f"
            },
            "type": "carpet"
           }
          ],
          "choropleth": [
           {
            "colorbar": {
             "outlinewidth": 0,
             "ticks": ""
            },
            "type": "choropleth"
           }
          ],
          "contour": [
           {
            "colorbar": {
             "outlinewidth": 0,
             "ticks": ""
            },
            "colorscale": [
             [
              0,
              "#0d0887"
             ],
             [
              0.1111111111111111,
              "#46039f"
             ],
             [
              0.2222222222222222,
              "#7201a8"
             ],
             [
              0.3333333333333333,
              "#9c179e"
             ],
             [
              0.4444444444444444,
              "#bd3786"
             ],
             [
              0.5555555555555556,
              "#d8576b"
             ],
             [
              0.6666666666666666,
              "#ed7953"
             ],
             [
              0.7777777777777778,
              "#fb9f3a"
             ],
             [
              0.8888888888888888,
              "#fdca26"
             ],
             [
              1,
              "#f0f921"
             ]
            ],
            "type": "contour"
           }
          ],
          "contourcarpet": [
           {
            "colorbar": {
             "outlinewidth": 0,
             "ticks": ""
            },
            "type": "contourcarpet"
           }
          ],
          "heatmap": [
           {
            "colorbar": {
             "outlinewidth": 0,
             "ticks": ""
            },
            "colorscale": [
             [
              0,
              "#0d0887"
             ],
             [
              0.1111111111111111,
              "#46039f"
             ],
             [
              0.2222222222222222,
              "#7201a8"
             ],
             [
              0.3333333333333333,
              "#9c179e"
             ],
             [
              0.4444444444444444,
              "#bd3786"
             ],
             [
              0.5555555555555556,
              "#d8576b"
             ],
             [
              0.6666666666666666,
              "#ed7953"
             ],
             [
              0.7777777777777778,
              "#fb9f3a"
             ],
             [
              0.8888888888888888,
              "#fdca26"
             ],
             [
              1,
              "#f0f921"
             ]
            ],
            "type": "heatmap"
           }
          ],
          "heatmapgl": [
           {
            "colorbar": {
             "outlinewidth": 0,
             "ticks": ""
            },
            "colorscale": [
             [
              0,
              "#0d0887"
             ],
             [
              0.1111111111111111,
              "#46039f"
             ],
             [
              0.2222222222222222,
              "#7201a8"
             ],
             [
              0.3333333333333333,
              "#9c179e"
             ],
             [
              0.4444444444444444,
              "#bd3786"
             ],
             [
              0.5555555555555556,
              "#d8576b"
             ],
             [
              0.6666666666666666,
              "#ed7953"
             ],
             [
              0.7777777777777778,
              "#fb9f3a"
             ],
             [
              0.8888888888888888,
              "#fdca26"
             ],
             [
              1,
              "#f0f921"
             ]
            ],
            "type": "heatmapgl"
           }
          ],
          "histogram": [
           {
            "marker": {
             "pattern": {
              "fillmode": "overlay",
              "size": 10,
              "solidity": 0.2
             }
            },
            "type": "histogram"
           }
          ],
          "histogram2d": [
           {
            "colorbar": {
             "outlinewidth": 0,
             "ticks": ""
            },
            "colorscale": [
             [
              0,
              "#0d0887"
             ],
             [
              0.1111111111111111,
              "#46039f"
             ],
             [
              0.2222222222222222,
              "#7201a8"
             ],
             [
              0.3333333333333333,
              "#9c179e"
             ],
             [
              0.4444444444444444,
              "#bd3786"
             ],
             [
              0.5555555555555556,
              "#d8576b"
             ],
             [
              0.6666666666666666,
              "#ed7953"
             ],
             [
              0.7777777777777778,
              "#fb9f3a"
             ],
             [
              0.8888888888888888,
              "#fdca26"
             ],
             [
              1,
              "#f0f921"
             ]
            ],
            "type": "histogram2d"
           }
          ],
          "histogram2dcontour": [
           {
            "colorbar": {
             "outlinewidth": 0,
             "ticks": ""
            },
            "colorscale": [
             [
              0,
              "#0d0887"
             ],
             [
              0.1111111111111111,
              "#46039f"
             ],
             [
              0.2222222222222222,
              "#7201a8"
             ],
             [
              0.3333333333333333,
              "#9c179e"
             ],
             [
              0.4444444444444444,
              "#bd3786"
             ],
             [
              0.5555555555555556,
              "#d8576b"
             ],
             [
              0.6666666666666666,
              "#ed7953"
             ],
             [
              0.7777777777777778,
              "#fb9f3a"
             ],
             [
              0.8888888888888888,
              "#fdca26"
             ],
             [
              1,
              "#f0f921"
             ]
            ],
            "type": "histogram2dcontour"
           }
          ],
          "mesh3d": [
           {
            "colorbar": {
             "outlinewidth": 0,
             "ticks": ""
            },
            "type": "mesh3d"
           }
          ],
          "parcoords": [
           {
            "line": {
             "colorbar": {
              "outlinewidth": 0,
              "ticks": ""
             }
            },
            "type": "parcoords"
           }
          ],
          "pie": [
           {
            "automargin": true,
            "type": "pie"
           }
          ],
          "scatter": [
           {
            "fillpattern": {
             "fillmode": "overlay",
             "size": 10,
             "solidity": 0.2
            },
            "type": "scatter"
           }
          ],
          "scatter3d": [
           {
            "line": {
             "colorbar": {
              "outlinewidth": 0,
              "ticks": ""
             }
            },
            "marker": {
             "colorbar": {
              "outlinewidth": 0,
              "ticks": ""
             }
            },
            "type": "scatter3d"
           }
          ],
          "scattercarpet": [
           {
            "marker": {
             "colorbar": {
              "outlinewidth": 0,
              "ticks": ""
             }
            },
            "type": "scattercarpet"
           }
          ],
          "scattergeo": [
           {
            "marker": {
             "colorbar": {
              "outlinewidth": 0,
              "ticks": ""
             }
            },
            "type": "scattergeo"
           }
          ],
          "scattergl": [
           {
            "marker": {
             "colorbar": {
              "outlinewidth": 0,
              "ticks": ""
             }
            },
            "type": "scattergl"
           }
          ],
          "scattermapbox": [
           {
            "marker": {
             "colorbar": {
              "outlinewidth": 0,
              "ticks": ""
             }
            },
            "type": "scattermapbox"
           }
          ],
          "scatterpolar": [
           {
            "marker": {
             "colorbar": {
              "outlinewidth": 0,
              "ticks": ""
             }
            },
            "type": "scatterpolar"
           }
          ],
          "scatterpolargl": [
           {
            "marker": {
             "colorbar": {
              "outlinewidth": 0,
              "ticks": ""
             }
            },
            "type": "scatterpolargl"
           }
          ],
          "scatterternary": [
           {
            "marker": {
             "colorbar": {
              "outlinewidth": 0,
              "ticks": ""
             }
            },
            "type": "scatterternary"
           }
          ],
          "surface": [
           {
            "colorbar": {
             "outlinewidth": 0,
             "ticks": ""
            },
            "colorscale": [
             [
              0,
              "#0d0887"
             ],
             [
              0.1111111111111111,
              "#46039f"
             ],
             [
              0.2222222222222222,
              "#7201a8"
             ],
             [
              0.3333333333333333,
              "#9c179e"
             ],
             [
              0.4444444444444444,
              "#bd3786"
             ],
             [
              0.5555555555555556,
              "#d8576b"
             ],
             [
              0.6666666666666666,
              "#ed7953"
             ],
             [
              0.7777777777777778,
              "#fb9f3a"
             ],
             [
              0.8888888888888888,
              "#fdca26"
             ],
             [
              1,
              "#f0f921"
             ]
            ],
            "type": "surface"
           }
          ],
          "table": [
           {
            "cells": {
             "fill": {
              "color": "#EBF0F8"
             },
             "line": {
              "color": "white"
             }
            },
            "header": {
             "fill": {
              "color": "#C8D4E3"
             },
             "line": {
              "color": "white"
             }
            },
            "type": "table"
           }
          ]
         },
         "layout": {
          "annotationdefaults": {
           "arrowcolor": "#2a3f5f",
           "arrowhead": 0,
           "arrowwidth": 1
          },
          "autotypenumbers": "strict",
          "coloraxis": {
           "colorbar": {
            "outlinewidth": 0,
            "ticks": ""
           }
          },
          "colorscale": {
           "diverging": [
            [
             0,
             "#8e0152"
            ],
            [
             0.1,
             "#c51b7d"
            ],
            [
             0.2,
             "#de77ae"
            ],
            [
             0.3,
             "#f1b6da"
            ],
            [
             0.4,
             "#fde0ef"
            ],
            [
             0.5,
             "#f7f7f7"
            ],
            [
             0.6,
             "#e6f5d0"
            ],
            [
             0.7,
             "#b8e186"
            ],
            [
             0.8,
             "#7fbc41"
            ],
            [
             0.9,
             "#4d9221"
            ],
            [
             1,
             "#276419"
            ]
           ],
           "sequential": [
            [
             0,
             "#0d0887"
            ],
            [
             0.1111111111111111,
             "#46039f"
            ],
            [
             0.2222222222222222,
             "#7201a8"
            ],
            [
             0.3333333333333333,
             "#9c179e"
            ],
            [
             0.4444444444444444,
             "#bd3786"
            ],
            [
             0.5555555555555556,
             "#d8576b"
            ],
            [
             0.6666666666666666,
             "#ed7953"
            ],
            [
             0.7777777777777778,
             "#fb9f3a"
            ],
            [
             0.8888888888888888,
             "#fdca26"
            ],
            [
             1,
             "#f0f921"
            ]
           ],
           "sequentialminus": [
            [
             0,
             "#0d0887"
            ],
            [
             0.1111111111111111,
             "#46039f"
            ],
            [
             0.2222222222222222,
             "#7201a8"
            ],
            [
             0.3333333333333333,
             "#9c179e"
            ],
            [
             0.4444444444444444,
             "#bd3786"
            ],
            [
             0.5555555555555556,
             "#d8576b"
            ],
            [
             0.6666666666666666,
             "#ed7953"
            ],
            [
             0.7777777777777778,
             "#fb9f3a"
            ],
            [
             0.8888888888888888,
             "#fdca26"
            ],
            [
             1,
             "#f0f921"
            ]
           ]
          },
          "colorway": [
           "#636efa",
           "#EF553B",
           "#00cc96",
           "#ab63fa",
           "#FFA15A",
           "#19d3f3",
           "#FF6692",
           "#B6E880",
           "#FF97FF",
           "#FECB52"
          ],
          "font": {
           "color": "#2a3f5f"
          },
          "geo": {
           "bgcolor": "white",
           "lakecolor": "white",
           "landcolor": "#E5ECF6",
           "showlakes": true,
           "showland": true,
           "subunitcolor": "white"
          },
          "hoverlabel": {
           "align": "left"
          },
          "hovermode": "closest",
          "mapbox": {
           "style": "light"
          },
          "paper_bgcolor": "white",
          "plot_bgcolor": "#E5ECF6",
          "polar": {
           "angularaxis": {
            "gridcolor": "white",
            "linecolor": "white",
            "ticks": ""
           },
           "bgcolor": "#E5ECF6",
           "radialaxis": {
            "gridcolor": "white",
            "linecolor": "white",
            "ticks": ""
           }
          },
          "scene": {
           "xaxis": {
            "backgroundcolor": "#E5ECF6",
            "gridcolor": "white",
            "gridwidth": 2,
            "linecolor": "white",
            "showbackground": true,
            "ticks": "",
            "zerolinecolor": "white"
           },
           "yaxis": {
            "backgroundcolor": "#E5ECF6",
            "gridcolor": "white",
            "gridwidth": 2,
            "linecolor": "white",
            "showbackground": true,
            "ticks": "",
            "zerolinecolor": "white"
           },
           "zaxis": {
            "backgroundcolor": "#E5ECF6",
            "gridcolor": "white",
            "gridwidth": 2,
            "linecolor": "white",
            "showbackground": true,
            "ticks": "",
            "zerolinecolor": "white"
           }
          },
          "shapedefaults": {
           "line": {
            "color": "#2a3f5f"
           }
          },
          "ternary": {
           "aaxis": {
            "gridcolor": "white",
            "linecolor": "white",
            "ticks": ""
           },
           "baxis": {
            "gridcolor": "white",
            "linecolor": "white",
            "ticks": ""
           },
           "bgcolor": "#E5ECF6",
           "caxis": {
            "gridcolor": "white",
            "linecolor": "white",
            "ticks": ""
           }
          },
          "title": {
           "x": 0.05
          },
          "xaxis": {
           "automargin": true,
           "gridcolor": "white",
           "linecolor": "white",
           "ticks": "",
           "title": {
            "standoff": 15
           },
           "zerolinecolor": "white",
           "zerolinewidth": 2
          },
          "yaxis": {
           "automargin": true,
           "gridcolor": "white",
           "linecolor": "white",
           "ticks": "",
           "title": {
            "standoff": 15
           },
           "zerolinecolor": "white",
           "zerolinewidth": 2
          }
         }
        }
       }
      }
     },
     "metadata": {},
     "output_type": "display_data"
    }
   ],
   "source": [
    "plotPCA(data)"
   ]
  },
  {
   "cell_type": "markdown",
   "metadata": {},
   "source": [
    "### OTU Boxplot"
   ]
  },
  {
   "cell_type": "code",
   "execution_count": 3,
   "metadata": {},
   "outputs": [
    {
     "data": {
      "application/vnd.plotly.v1+json": {
       "config": {
        "plotlyServerURL": "https://plot.ly"
       },
       "data": [
        {
         "marker": {
          "color": "blue"
         },
         "name": "Batch 1, OTU1",
         "type": "box",
         "visible": true,
         "x": [
          1,
          1,
          1,
          1,
          1,
          1,
          1,
          1,
          1,
          1,
          1,
          1,
          1,
          1,
          1,
          1
         ],
         "y": [
          -0.6332316727821575,
          -0.8961380788098032,
          -0.7535511955257395,
          -0.9787302363353998,
          -1.005980129453433,
          -1.0099280140207458,
          -1.0078111627356021,
          -1.0037020816942333,
          -0.9739691494376251,
          -1.0025788500708694,
          -0.9578061677415692,
          -0.8128922340467692,
          -0.736345048404011,
          -0.8795764831010482,
          -0.8394216897428537,
          -0.8912314893743587
         ]
        },
        {
         "marker": {
          "color": "red"
         },
         "name": "Batch 2, OTU1",
         "type": "box",
         "visible": true,
         "x": [
          2,
          2,
          2,
          2,
          2,
          2,
          2,
          2,
          2,
          2,
          2,
          2,
          2,
          2,
          2,
          2
         ],
         "y": [
          1.8077934675772442,
          -0.9941157641203411,
          -0.6426777515483814,
          -0.9462344316341493,
          -0.5934230758427357,
          -1.0546891218418928,
          -0.9209529855828117,
          -1.0584437171556145,
          -0.9404519216213543,
          -1.1026152790136843,
          -0.8004259072891307,
          -1.0695160963474755,
          -0.8749084946414402,
          -1.0039401900373153,
          -0.9050528362621665,
          -0.8857609901711081
         ]
        },
        {
         "marker": {
          "color": "blue"
         },
         "name": "Batch 1, OTU2",
         "type": "box",
         "visible": false,
         "x": [
          1,
          1,
          1,
          1,
          1,
          1,
          1,
          1,
          1,
          1,
          1,
          1,
          1,
          1,
          1,
          1
         ],
         "y": [
          -0.6332316727821575,
          -0.8961380788098032,
          0.9869149793147651,
          -0.9787302363353998,
          -0.2175227690891629,
          -1.0099280140207458,
          -0.4771829116734377,
          -1.0037020816942333,
          0.8505801426134205,
          -1.0025788500708694,
          -0.16934880737729918,
          -0.8128922340467692,
          -0.736345048404011,
          -0.8795764831010482,
          1.5675234185754339,
          -0.8912314893743587
         ]
        },
        {
         "marker": {
          "color": "red"
         },
         "name": "Batch 2, OTU2",
         "type": "box",
         "visible": false,
         "x": [
          2,
          2,
          2,
          2,
          2,
          2,
          2,
          2,
          2,
          2,
          2,
          2,
          2,
          2,
          2,
          2
         ],
         "y": [
          1.5650627829877295,
          -0.9941157641203411,
          1.0977884232921233,
          -0.9462344316341493,
          2.546409541685012,
          -1.0546891218418928,
          0.302822446039304,
          -1.0584437171556145,
          1.8068189926341371,
          -1.1026152790136843,
          1.3158296075134215,
          -1.0695160963474755,
          2.0851966012693994,
          -1.0039401900373153,
          0.9970546901347539,
          -0.8857609901711081
         ]
        },
        {
         "marker": {
          "color": "blue"
         },
         "name": "Batch 1, OTU3",
         "type": "box",
         "visible": false,
         "x": [
          1,
          1,
          1,
          1,
          1,
          1,
          1,
          1,
          1,
          1,
          1,
          1,
          1,
          1,
          1,
          1
         ],
         "y": [
          -0.6332316727821575,
          -0.8961380788098032,
          -0.7535511955257395,
          -0.9787302363353998,
          -1.005980129453433,
          -1.0099280140207458,
          -1.0078111627356021,
          -1.0037020816942333,
          -0.9739691494376251,
          -1.0025788500708694,
          -0.9578061677415692,
          -0.8128922340467692,
          -0.736345048404011,
          -0.8795764831010482,
          -0.8394216897428537,
          -0.8912314893743587
         ]
        },
        {
         "marker": {
          "color": "red"
         },
         "name": "Batch 2, OTU3",
         "type": "box",
         "visible": false,
         "x": [
          2,
          2,
          2,
          2,
          2,
          2,
          2,
          2,
          2,
          2,
          2,
          2,
          2,
          2,
          2,
          2
         ],
         "y": [
          -0.6432116305350748,
          -0.9941157641203411,
          -0.6426777515483814,
          -0.9462344316341493,
          -0.5934230758427357,
          -1.0546891218418928,
          -0.9209529855828117,
          -1.0584437171556145,
          -0.9404519216213543,
          -1.1026152790136843,
          -0.8004259072891307,
          -1.0695160963474755,
          0.15471092253971797,
          -1.0039401900373153,
          -0.9050528362621665,
          -0.8857609901711081
         ]
        },
        {
         "marker": {
          "color": "blue"
         },
         "name": "Batch 1, OTU4",
         "type": "box",
         "visible": false,
         "x": [
          1,
          1,
          1,
          1,
          1,
          1,
          1,
          1,
          1,
          1,
          1,
          1,
          1,
          1,
          1,
          1
         ],
         "y": [
          -0.6332316727821575,
          0.9909315702225749,
          -0.7535511955257395,
          1.1131338253429932,
          1.4450249686588859,
          1.1533950116397922,
          0.8639910141659892,
          1.2988830112998124,
          1.3868848516803962,
          1.0123241704713954,
          -0.9578061677415692,
          -0.8128922340467692,
          -0.736345048404011,
          -0.8795764831010482,
          -0.8394216897428537,
          -0.8912314893743587
         ]
        },
        {
         "marker": {
          "color": "red"
         },
         "name": "Batch 2, OTU4",
         "type": "box",
         "visible": false,
         "x": [
          2,
          2,
          2,
          2,
          2,
          2,
          2,
          2,
          2,
          2,
          2,
          2,
          2,
          2,
          2,
          2
         ],
         "y": [
          -0.6432116305350748,
          -0.9941157641203411,
          -0.6426777515483814,
          -0.9462344316341493,
          -0.5934230758427357,
          -1.0546891218418928,
          -0.9209529855828117,
          -1.0584437171556145,
          -0.9404519216213543,
          -1.1026152790136843,
          -0.8004259072891307,
          -1.0695160963474755,
          0.7543320450888379,
          -1.0039401900373153,
          -0.9050528362621665,
          -0.8857609901711081
         ]
        },
        {
         "marker": {
          "color": "blue"
         },
         "name": "Batch 1, OTU5",
         "type": "box",
         "visible": false,
         "x": [
          1,
          1,
          1,
          1,
          1,
          1,
          1,
          1,
          1,
          1,
          1,
          1,
          1,
          1,
          1,
          1
         ],
         "y": [
          3.366802209968702,
          -0.8961380788098032,
          3.0880493456058606,
          -0.9787302363353998,
          2.378410133892341,
          -1.0099280140207458,
          2.4703472600626815,
          -1.0037020816942333,
          2.4470308595207095,
          -1.0025788500708694,
          2.5234339215941226,
          -0.8128922340467692,
          3.233946865148111,
          -0.8795764831010482,
          2.181003196401509,
          -0.8912314893743587
         ]
        },
        {
         "marker": {
          "color": "red"
         },
         "name": "Batch 2, OTU5",
         "type": "box",
         "visible": false,
         "x": [
          2,
          2,
          2,
          2,
          2,
          2,
          2,
          2,
          2,
          2,
          2,
          2,
          2,
          2,
          2,
          2
         ],
         "y": [
          3.477450240004399,
          -0.9941157641203411,
          3.6000868157919927,
          -0.9462344316341493,
          3.4738928139914456,
          -1.0546891218418928,
          2.894559119464491,
          -1.0584437171556145,
          2.733313894682534,
          -1.1026152790136843,
          3.2159571134632583,
          -1.0695160963474755,
          3.0549544289150368,
          -1.0039401900373153,
          2.9300891248300216,
          -0.8857609901711081
         ]
        },
        {
         "marker": {
          "color": "blue"
         },
         "name": "Batch 1, OTU6",
         "type": "box",
         "visible": false,
         "x": [
          1,
          1,
          1,
          1,
          1,
          1,
          1,
          1,
          1,
          1,
          1,
          1,
          1,
          1,
          1,
          1
         ],
         "y": [
          -0.6332316727821575,
          2.4144049345842213,
          -0.7535511955257395,
          2.112312217022916,
          -1.005980129453433,
          2.0440731676572206,
          -1.0078111627356021,
          2.1361305358335145,
          -0.9739691494376251,
          2.0129560507793007,
          -0.9578061677415692,
          2.3651615963011765,
          -0.736345048404011,
          2.3150066491981076,
          -0.8394216897428537,
          2.129193396770004
         ]
        },
        {
         "marker": {
          "color": "red"
         },
         "name": "Batch 2, OTU6",
         "type": "box",
         "visible": false,
         "x": [
          2,
          2,
          2,
          2,
          2,
          2,
          2,
          2,
          2,
          2,
          2,
          2,
          2,
          2,
          2,
          2
         ],
         "y": [
          -0.6432116305350748,
          2.0785775505697783,
          -0.6426777515483814,
          2.1672808775762253,
          -0.5934230758427357,
          1.7364759859708239,
          -0.9209529855828117,
          1.601815820110247,
          -0.9404519216213543,
          1.2295286162219057,
          -0.8004259072891307,
          2.0395448625135186,
          -0.8749084946414402,
          1.9715893761991563,
          -0.9050528362621665,
          1.9990397226756007
         ]
        },
        {
         "marker": {
          "color": "blue"
         },
         "name": "Batch 1, OTU7",
         "type": "box",
         "visible": false,
         "x": [
          1,
          1,
          1,
          1,
          1,
          1,
          1,
          1,
          1,
          1,
          1,
          1,
          1,
          1,
          1,
          1
         ],
         "y": [
          1.9317176846793793,
          2.089543858890686,
          1.3258903461540965,
          1.8948344032443831,
          1.566632100753673,
          1.7047667298001328,
          1.6168574294275568,
          1.7241507467041566,
          1.7206580313324442,
          2.051422331607097,
          1.4581076105594795,
          2.716405150242702,
          1.7650909033351991,
          2.401334732686605,
          -0.8394216897428537,
          2.4046053766299704
         ]
        },
        {
         "marker": {
          "color": "red"
         },
         "name": "Batch 2, OTU7",
         "type": "box",
         "visible": false,
         "x": [
          2,
          2,
          2,
          2,
          2,
          2,
          2,
          2,
          2,
          2,
          2,
          2,
          2,
          2,
          2,
          2
         ],
         "y": [
          1.5759918535199189,
          1.9182349004945987,
          1.3032323975069318,
          2.197917847038115,
          -0.5934230758427357,
          1.4630073507690984,
          1.381632107411234,
          1.7078753920705714,
          1.7808435062308765,
          1.2676284624541752,
          1.6591629345145797,
          1.1817757022590198,
          0.7543320450888379,
          1.2681856954720216,
          1.1868112254162264,
          1.6714663211965184
         ]
        },
        {
         "marker": {
          "color": "blue"
         },
         "name": "Batch 1, OTU8",
         "type": "box",
         "visible": false,
         "x": [
          1,
          1,
          1,
          1,
          1,
          1,
          1,
          1,
          1,
          1,
          1,
          1,
          1,
          1,
          1,
          1
         ],
         "y": [
          -0.6332316727821575,
          -0.8961380788098032,
          -0.7535511955257395,
          -0.9787302363353998,
          -1.005980129453433,
          -1.0099280140207458,
          -1.0078111627356021,
          -1.0037020816942333,
          -0.9739691494376251,
          -1.0025788500708694,
          1.4931989303707496,
          -0.8128922340467692,
          -0.736345048404011,
          -0.8795764831010482,
          2.683993324643551,
          -0.8912314893743587
         ]
        },
        {
         "marker": {
          "color": "red"
         },
         "name": "Batch 2, OTU8",
         "type": "box",
         "visible": false,
         "x": [
          2,
          2,
          2,
          2,
          2,
          2,
          2,
          2,
          2,
          2,
          2,
          2,
          2,
          2,
          2,
          2
         ],
         "y": [
          -0.6432116305350748,
          -0.9941157641203411,
          -0.6426777515483814,
          -0.9462344316341493,
          -0.5934230758427357,
          -1.0546891218418928,
          -0.9209529855828117,
          -1.0584437171556145,
          -0.9404519216213543,
          -1.1026152790136843,
          -0.8004259072891307,
          -1.0695160963474755,
          -0.8749084946414402,
          -1.0039401900373153,
          -0.9050528362621665,
          -0.8857609901711081
         ]
        },
        {
         "marker": {
          "color": "blue"
         },
         "name": "Batch 1, OTU9",
         "type": "box",
         "visible": false,
         "x": [
          1,
          1,
          1,
          1,
          1,
          1,
          1,
          1,
          1,
          1,
          1,
          1,
          1,
          1,
          1,
          1
         ],
         "y": [
          1.916213498143414,
          1.942940384698811,
          2.211721870543543,
          1.8544831077208164,
          1.535621864011112,
          1.730912009904455,
          1.624077677401044,
          1.7626170275319528,
          1.7001794999889035,
          1.4906266025318258,
          1.5017826740621412,
          2.2363808064352515,
          1.9582821323660584,
          1.8612635408241527,
          2.0783490423414253,
          2.0046804488974215
         ]
        },
        {
         "marker": {
          "color": "red"
         },
         "name": "Batch 2, OTU9",
         "type": "box",
         "visible": false,
         "x": [
          2,
          2,
          2,
          2,
          2,
          2,
          2,
          2,
          2,
          2,
          2,
          2,
          2,
          2,
          2,
          2
         ],
         "y": [
          1.5974980587408834,
          1.3184196597268725,
          1.0059808740390004,
          1.4516608411642211,
          2.107938137108678,
          0.7535996493373727,
          1.2762715917534078,
          1.4096558143160043,
          0.946617727411024,
          0.7219340130373616,
          1.1164967048929286,
          1.192247002126315,
          0.6726540140745726,
          1.3848225991977827,
          0.6841823688544144,
          -0.8857609901711081
         ]
        },
        {
         "marker": {
          "color": "blue"
         },
         "name": "Batch 1, OTU10",
         "type": "box",
         "visible": false,
         "x": [
          1,
          1,
          1,
          1,
          1,
          1,
          1,
          1,
          1,
          1,
          1,
          1,
          1,
          1,
          1,
          1
         ],
         "y": [
          -0.6332316727821575,
          1.3759878066995337,
          -0.7535511955257395,
          1.2184943410008195,
          1.0981540248167743,
          1.0049750065215188,
          1.0334091661240359,
          1.1245296241550347,
          1.01390519871672,
          1.1015553041993378,
          1.146327986528638,
          1.10403037813529,
          0.7677323483722631,
          1.2486552227482195,
          1.0168763006227723,
          1.248834674121912
         ]
        },
        {
         "marker": {
          "color": "red"
         },
         "name": "Batch 2, OTU10",
         "type": "box",
         "visible": false,
         "x": [
          2,
          2,
          2,
          2,
          2,
          2,
          2,
          2,
          2,
          2,
          2,
          2,
          2,
          2,
          2,
          2
         ],
         "y": [
          0.45540065813303493,
          1.6800328853061877,
          1.7460850376867167,
          1.6263777985729564,
          -0.5934230758427357,
          1.510260235619644,
          1.1831811686873956,
          1.4752530968018167,
          -0.9404519216213543,
          1.219772441276541,
          -0.8004259072891307,
          0.4345613004287988,
          -0.8749084946414402,
          -0.08764945816316012,
          -0.9050528362621665,
          -0.8857609901711081
         ]
        },
        {
         "marker": {
          "color": "blue"
         },
         "name": "Batch 1, OTU11",
         "type": "box",
         "visible": false,
         "x": [
          1,
          1,
          1,
          1,
          1,
          1,
          1,
          1,
          1,
          1,
          1,
          1,
          1,
          1,
          1,
          1
         ],
         "y": [
          -0.6332316727821575,
          0.8266285189313003,
          -0.7535511955257395,
          0.9527911752678138,
          0.8023086417258326,
          0.9641530120012637,
          0.8639910141659892,
          1.050421652001313,
          -0.9739691494376251,
          -1.0025788500708694,
          -0.9578061677415692,
          -0.8128922340467692,
          -0.736345048404011,
          -0.8795764831010482,
          -0.8394216897428537,
          -0.8912314893743587
         ]
        },
        {
         "marker": {
          "color": "red"
         },
         "name": "Batch 2, OTU11",
         "type": "box",
         "visible": false,
         "x": [
          2,
          2,
          2,
          2,
          2,
          2,
          2,
          2,
          2,
          2,
          2,
          2,
          2,
          2,
          2,
          2
         ],
         "y": [
          -0.6432116305350748,
          -0.9941157641203411,
          -0.6426777515483814,
          -0.9462344316341493,
          -0.5934230758427357,
          0.2803119448904447,
          -0.9209529855828117,
          -1.0584437171556145,
          0.6071105870946587,
          0.799492247383236,
          0.1928258657211528,
          0.265484970384862,
          -0.2871218297393211,
          0.15921061976836554,
          0.28886963221026796,
          -0.8857609901711081
         ]
        },
        {
         "marker": {
          "color": "blue"
         },
         "name": "Batch 1, OTU12",
         "type": "box",
         "visible": false,
         "x": [
          1,
          1,
          1,
          1,
          1,
          1,
          1,
          1,
          1,
          1,
          1,
          1,
          1,
          1,
          1,
          1
         ],
         "y": [
          -0.6332316727821575,
          -0.8961380788098032,
          -0.7535511955257395,
          -0.9787302363353998,
          0.9399300196018802,
          1.0049750065215188,
          1.0840528989427909,
          1.1245296241550347,
          -0.9739691494376251,
          0.4790256908533461,
          -0.9578061677415692,
          -0.8128922340467692,
          -0.736345048404011,
          -0.8795764831010482,
          -0.8394216897428537,
          -0.8912314893743587
         ]
        },
        {
         "marker": {
          "color": "red"
         },
         "name": "Batch 2, OTU12",
         "type": "box",
         "visible": false,
         "x": [
          2,
          2,
          2,
          2,
          2,
          2,
          2,
          2,
          2,
          2,
          2,
          2,
          2,
          2,
          2,
          2
         ],
         "y": [
          -0.6432116305350748,
          0.7463504107201634,
          0.4887243599427193,
          1.081913815658136,
          0.048430810329658965,
          1.5985528427653224,
          1.5386358562208986,
          1.7015662228773067,
          0.9000977117761327,
          1.7187636073955288,
          1.0866437417432475,
          0.6168828572227533,
          0.5837065280580767,
          1.4725982100801684,
          1.3141506477928269,
          1.8289337536497705
         ]
        },
        {
         "marker": {
          "color": "blue"
         },
         "name": "Batch 1, OTU13",
         "type": "box",
         "visible": false,
         "x": [
          1,
          1,
          1,
          1,
          1,
          1,
          1,
          1,
          1,
          1,
          1,
          1,
          1,
          1,
          1,
          1
         ],
         "y": [
          -0.6332316727821575,
          -0.8961380788098032,
          -0.7535511955257395,
          -0.9787302363353998,
          -1.005980129453433,
          -1.0099280140207458,
          -1.0078111627356021,
          -1.0037020816942333,
          -0.9739691494376251,
          -1.0025788500708694,
          -0.9578061677415692,
          -0.8128922340467692,
          -0.736345048404011,
          -0.8795764831010482,
          -0.8394216897428537,
          -0.8912314893743587
         ]
        },
        {
         "marker": {
          "color": "red"
         },
         "name": "Batch 2, OTU13",
         "type": "box",
         "visible": false,
         "x": [
          2,
          2,
          2,
          2,
          2,
          2,
          2,
          2,
          2,
          2,
          2,
          2,
          2,
          2,
          2,
          2
         ],
         "y": [
          -0.6432116305350748,
          0.7106323281180842,
          -0.6426777515483814,
          -0.9462344316341493,
          -0.5934230758427357,
          -1.0546891218418928,
          -0.9209529855828117,
          -1.0584437171556145,
          -0.9404519216213543,
          -1.1026152790136843,
          -0.8004259072891307,
          -1.0695160963474755,
          -0.8749084946414402,
          -1.0039401900373153,
          -0.9050528362621665,
          -0.8857609901711081
         ]
        },
        {
         "marker": {
          "color": "blue"
         },
         "name": "Batch 1, OTU14",
         "type": "box",
         "visible": false,
         "x": [
          1,
          1,
          1,
          1,
          1,
          1,
          1,
          1,
          1,
          1,
          1,
          1,
          1,
          1,
          1,
          1
         ],
         "y": [
          -0.6332316727821575,
          -0.8961380788098032,
          -0.7535511955257395,
          1.1131338253429932,
          0.995499870756691,
          1.0441957196748002,
          0.9662698632864073,
          1.1363640818020375,
          1.1660970140586453,
          1.19464572726535,
          1.228245108996525,
          1.2412314996487768,
          0.48743038321810467,
          1.0519449285021654,
          1.0323804871587379,
          0.495062871745532
         ]
        },
        {
         "marker": {
          "color": "red"
         },
         "name": "Batch 2, OTU14",
         "type": "box",
         "visible": false,
         "x": [
          2,
          2,
          2,
          2,
          2,
          2,
          2,
          2,
          2,
          2,
          2,
          2,
          2,
          2,
          2,
          2
         ],
         "y": [
          -0.6432116305350748,
          0.7637421534320326,
          -0.6426777515483814,
          0.7214723889239268,
          0.048430810329658965,
          0.5139267960719525,
          0.7082875541474665,
          1.1715706830035957,
          -0.19851457689197702,
          0.6021328132247409,
          -0.8004259072891307,
          -1.0695160963474755,
          -0.8749084946414402,
          -1.0039401900373153,
          -0.9050528362621665,
          0.47521556296449013
         ]
        },
        {
         "marker": {
          "color": "blue"
         },
         "name": "Batch 1, OTU15",
         "type": "box",
         "visible": false,
         "x": [
          1,
          1,
          1,
          1,
          1,
          1,
          1,
          1,
          1,
          1,
          1,
          1,
          1,
          1,
          1,
          1
         ],
         "y": [
          -0.6332316727821575,
          -0.8961380788098032,
          0.581449871206598,
          -0.9787302363353998,
          -1.005980129453433,
          -1.0099280140207458,
          -1.0078111627356021,
          -1.0037020816942333,
          -0.9739691494376251,
          -1.0025788500708694,
          -0.9578061677415692,
          -0.8128922340467692,
          -0.736345048404011,
          -0.8795764831010482,
          -0.5029494531216407,
          -0.8912314893743587
         ]
        },
        {
         "marker": {
          "color": "red"
         },
         "name": "Batch 2, OTU15",
         "type": "box",
         "visible": false,
         "x": [
          2,
          2,
          2,
          2,
          2,
          2,
          2,
          2,
          2,
          2,
          2,
          2,
          2,
          2,
          2,
          2
         ],
         "y": [
          -0.6432116305350748,
          -0.9941157641203411,
          -0.6426777515483814,
          -0.9462344316341493,
          -0.5934230758427357,
          -1.0546891218418928,
          -0.9209529855828117,
          -1.0584437171556145,
          -0.9404519216213543,
          -1.1026152790136843,
          -0.8004259072891307,
          -1.0695160963474755,
          -0.8749084946414402,
          -1.0039401900373153,
          -0.9050528362621665,
          -0.8857609901711081
         ]
        },
        {
         "marker": {
          "color": "blue"
         },
         "name": "Batch 1, OTU16",
         "type": "box",
         "visible": false,
         "x": [
          1,
          1,
          1,
          1,
          1,
          1,
          1,
          1,
          1,
          1,
          1,
          1,
          1,
          1,
          1,
          1
         ],
         "y": [
          -0.6332316727821575,
          1.2671849468507348,
          0.6815333297635832,
          1.088132523137576,
          0.7344860453870715,
          1.1872965633154735,
          0.7839483064924528,
          0.8368475517032539,
          1.0409338711046394,
          1.3198088702193558,
          1.0162748582804404,
          0.10339849782738582,
          0.1391236889498847,
          0.3143459853713863,
          0.11608975528458279,
          0.8492346854661458
         ]
        },
        {
         "marker": {
          "color": "red"
         },
         "name": "Batch 2, OTU16",
         "type": "box",
         "visible": false,
         "x": [
          2,
          2,
          2,
          2,
          2,
          2,
          2,
          2,
          2,
          2,
          2,
          2,
          2,
          2,
          2,
          2
         ],
         "y": [
          -0.6432116305350748,
          0.39217859699954954,
          -0.6426777515483814,
          0.5578429651421248,
          -0.06279482478057127,
          0.6857770529986117,
          0.272969482889623,
          0.5101722007582308,
          -0.35266525671923515,
          -1.1026152790136843,
          -0.8004259072891307,
          0.3655684289418473,
          -0.18176131408149487,
          1.3184475302529102,
          0.4559237168734317,
          -0.1438236454417308
         ]
        },
        {
         "marker": {
          "color": "blue"
         },
         "name": "Batch 1, OTU17",
         "type": "box",
         "visible": false,
         "x": [
          1,
          1,
          1,
          1,
          1,
          1,
          1,
          1,
          1,
          1,
          1,
          1,
          1,
          1,
          1,
          1
         ],
         "y": [
          1.4462098688976783,
          1.220117435992749,
          0.16273953634841565,
          1.1375252784671523,
          0.7344860453870715,
          1.1063275007818063,
          0.2449518057597659,
          0.38259227942565743,
          0.48464587326189157,
          1.3487964070926082,
          1.158449347060983,
          0.6221922912425534,
          1.1507246006283671,
          1.6300227792773236,
          0.2252890472495746,
          0.9005279798536964
         ]
        },
        {
         "marker": {
          "color": "red"
         },
         "name": "Batch 2, OTU17",
         "type": "box",
         "visible": false,
         "x": [
          2,
          2,
          2,
          2,
          2,
          2,
          2,
          2,
          2,
          2,
          2,
          2,
          2,
          2,
          2,
          2
         ],
         "y": [
          -0.6432116305350748,
          -0.9941157641203411,
          -0.6426777515483814,
          0.24768803683828522,
          -0.005636410940616611,
          0.8171130550596986,
          0.272969482889623,
          0.24988910249456422,
          -0.24730474106140898,
          -0.8402510145461931,
          0.1158648245850244,
          0.061886015143625135,
          -0.8749084946414402,
          0.3043926296128634,
          0.5535621864373502,
          -0.24390710399871324
         ]
        },
        {
         "marker": {
          "color": "blue"
         },
         "name": "Batch 1, OTU18",
         "type": "box",
         "visible": false,
         "x": [
          1,
          1,
          1,
          1,
          1,
          1,
          1,
          1,
          1,
          1,
          1,
          1,
          1,
          1,
          1,
          1
         ],
         "y": [
          -0.6332316727821575,
          -0.8961380788098032,
          -0.7535511955257395,
          -0.9787302363353998,
          -1.005980129453433,
          -1.0099280140207458,
          -1.0078111627356021,
          -1.0037020816942333,
          -0.9739691494376251,
          -1.0025788500708694,
          -0.9578061677415692,
          -0.8128922340467692,
          -0.736345048404011,
          -0.8795764831010482,
          -0.8394216897428537,
          -0.8912314893743587
         ]
        },
        {
         "marker": {
          "color": "red"
         },
         "name": "Batch 2, OTU18",
         "type": "box",
         "visible": false,
         "x": [
          2,
          2,
          2,
          2,
          2,
          2,
          2,
          2,
          2,
          2,
          2,
          2,
          2,
          2,
          2,
          2
         ],
         "y": [
          -0.6432116305350748,
          0.797643705107714,
          -0.6426777515483814,
          0.4400599294857413,
          0.2394860470923683,
          1.012173637631083,
          0.07229878742747192,
          0.4456336796206597,
          0.8000142532191502,
          0.5460433465736975,
          1.1454842417661826,
          1.3100300377826986,
          0.8655576801990642,
          1.7304273193822683,
          1.510860942038882,
          1.3114635871651112
         ]
        },
        {
         "marker": {
          "color": "blue"
         },
         "name": "Batch 1, OTU19",
         "type": "box",
         "visible": false,
         "x": [
          1,
          1,
          1,
          1,
          1,
          1,
          1,
          1,
          1,
          1,
          1,
          1,
          1,
          1,
          1,
          1
         ],
         "y": [
          -0.6332316727821575,
          -0.8961380788098032,
          -0.7535511955257395,
          -0.9787302363353998,
          -1.005980129453433,
          -1.0099280140207458,
          -1.0078111627356021,
          -1.0037020816942333,
          -0.14106002650252122,
          -0.41479218516875027,
          -0.9578061677415692,
          0.14261921098066713,
          -0.736345048404011,
          -0.04666736016594427,
          -0.3694180604971182,
          -0.1027741290100885
         ]
        },
        {
         "marker": {
          "color": "red"
         },
         "name": "Batch 2, OTU19",
         "type": "box",
         "visible": false,
         "x": [
          2,
          2,
          2,
          2,
          2,
          2,
          2,
          2,
          2,
          2,
          2,
          2,
          2,
          2,
          2,
          2
         ],
         "y": [
          -0.6432116305350748,
          0.03550365306081695,
          -0.6426777515483814,
          -0.9462344316341493,
          -0.5934230758427357,
          -1.0546891218418928,
          -0.9209529855828117,
          -0.2699863567913445,
          0.9000977117761327,
          1.0721364424704765,
          0.6105610664211315,
          1.3814890017648436,
          0.3190139738309944,
          0.18998227843511928,
          0.6210034672328827,
          1.8355344376811227
         ]
        },
        {
         "marker": {
          "color": "blue"
         },
         "name": "Batch 1, OTU20",
         "type": "box",
         "visible": false,
         "x": [
          1,
          1,
          1,
          1,
          1,
          1,
          1,
          1,
          1,
          1,
          1,
          1,
          1,
          1,
          1,
          1
         ],
         "y": [
          -0.6332316727821575,
          -0.8961380788098032,
          -0.7535511955257395,
          -0.9787302363353998,
          -1.005980129453433,
          -1.0099280140207458,
          -1.0078111627356021,
          -1.0037020816942333,
          -0.9739691494376251,
          -1.0025788500708694,
          -0.9578061677415692,
          -0.8128922340467692,
          -0.736345048404011,
          -0.8795764831010482,
          -0.8394216897428537,
          -0.8912314893743587
         ]
        },
        {
         "marker": {
          "color": "red"
         },
         "name": "Batch 2, OTU20",
         "type": "box",
         "visible": false,
         "x": [
          2,
          2,
          2,
          2,
          2,
          2,
          2,
          2,
          2,
          2,
          2,
          2,
          2,
          2,
          2,
          2
         ],
         "y": [
          -0.6432116305350748,
          -0.9941157641203411,
          -0.6426777515483814,
          -0.9462344316341493,
          -0.5934230758427357,
          -1.0546891218418928,
          -0.9209529855828117,
          -1.0584437171556145,
          0.22269888818432665,
          0.28367908210620635,
          -0.8004259072891307,
          0.3414708773627867,
          0.0005602427124555419,
          -1.0039401900373153,
          -0.9050528362621665,
          -0.8857609901711081
         ]
        },
        {
         "marker": {
          "color": "blue"
         },
         "name": "Batch 1, OTU21",
         "type": "box",
         "visible": false,
         "x": [
          1,
          1,
          1,
          1,
          1,
          1,
          1,
          1,
          1,
          1,
          1,
          1,
          1,
          1,
          1,
          1
         ],
         "y": [
          0.7530626883377332,
          -0.2542841926374084,
          0.239700577484544,
          0.08598050065702838,
          -1.005980129453433,
          -1.0099280140207458,
          -0.17490203980049812,
          -0.3618481955218384,
          -0.23203180470824802,
          0.12882326142023115,
          0.2949568007537988,
          0.38103023442566525,
          -0.04319786784406579,
          0.7690821424863334,
          -0.8394216897428537,
          1.0688632946729109
         ]
        },
        {
         "marker": {
          "color": "red"
         },
         "name": "Batch 2, OTU21",
         "type": "box",
         "visible": false,
         "x": [
          2,
          2,
          2,
          2,
          2,
          2,
          2,
          2,
          2,
          2,
          2,
          2,
          2,
          2,
          2,
          2
         ],
         "y": [
          -0.6432116305350748,
          -0.9941157641203411,
          0.5204730582572995,
          -0.9462344316341493,
          -0.5934230758427357,
          -1.0546891218418928,
          0.10866643159834644,
          0.07295839433548598,
          -0.9404519216213543,
          0.3324692462756383,
          -0.8004259072891307,
          -1.0695160963474755,
          -0.8749084946414402,
          -1.0039401900373153,
          -0.9050528362621665,
          1.493785143959066
         ]
        },
        {
         "marker": {
          "color": "blue"
         },
         "name": "Batch 1, OTU22",
         "type": "box",
         "visible": false,
         "x": [
          1,
          1,
          1,
          1,
          1,
          1,
          1,
          1,
          1,
          1,
          1,
          1,
          1,
          1,
          1,
          1
         ],
         "y": [
          -0.6332316727821575,
          -0.8961380788098032,
          -0.7535511955257395,
          -0.9787302363353998,
          -1.005980129453433,
          -1.0099280140207458,
          -1.0078111627356021,
          -1.0037020816942333,
          -0.9739691494376251,
          -1.0025788500708694,
          -0.9578061677415692,
          -0.8128922340467692,
          -0.736345048404011,
          -0.8795764831010482,
          -0.8394216897428537,
          -0.8912314893743587
         ]
        },
        {
         "marker": {
          "color": "red"
         },
         "name": "Batch 2, OTU22",
         "type": "box",
         "visible": false,
         "x": [
          2,
          2,
          2,
          2,
          2,
          2,
          2,
          2,
          2,
          2,
          2,
          2,
          2,
          2,
          2,
          2
         ],
         "y": [
          -0.6432116305350748,
          -0.9941157641203411,
          0.5204730582572995,
          -0.9462344316341493,
          -0.5934230758427357,
          -1.0546891218418928,
          1.039141798464458,
          0.16533171446650133,
          -0.9404519216213543,
          0.15014768948168383,
          -0.8004259072891307,
          -1.0695160963474755,
          -0.8749084946414402,
          -1.0039401900373153,
          -0.9050528362621665,
          -0.8857609901711081
         ]
        },
        {
         "marker": {
          "color": "blue"
         },
         "name": "Batch 1, OTU23",
         "type": "box",
         "visible": false,
         "x": [
          1,
          1,
          1,
          1,
          1,
          1,
          1,
          1,
          1,
          1,
          1,
          1,
          1,
          1,
          1,
          1
         ],
         "y": [
          1.9841641600519218,
          0.672477839104042,
          2.0252680764646778,
          0.15267187515570077,
          0.058730607538995214,
          0.18399445445168885,
          0.1861113057368324,
          -0.17079295875912923,
          0.2498062821844906,
          0.3057539695793092,
          0.8000517498108045,
          0.46804161141529493,
          1.5860426718862142,
          0.7690821424863334,
          0.8833449079982499,
          1.4790122520935007
         ]
        },
        {
         "marker": {
          "color": "red"
         },
         "name": "Batch 2, OTU23",
         "type": "box",
         "visible": false,
         "x": [
          2,
          2,
          2,
          2,
          2,
          2,
          2,
          2,
          2,
          2,
          2,
          2,
          2,
          2,
          2,
          2
         ],
         "y": [
          0.45540065813303493,
          -0.2521784193909639,
          -0.6426777515483814,
          0.1523778570339604,
          0.5051892128253739,
          0.5547487905922076,
          -0.9209529855828117,
          -1.0584437171556145,
          0.44584243949853636,
          -1.1026152790136843,
          0.7471366014268822,
          0.7867818940181507,
          0.8478581030996633,
          0.5001372067389589,
          1.2231788695871013,
          -0.8857609901711081
         ]
        },
        {
         "marker": {
          "color": "blue"
         },
         "name": "Batch 1, OTU24",
         "type": "box",
         "visible": false,
         "x": [
          1,
          1,
          1,
          1,
          1,
          1,
          1,
          1,
          1,
          1,
          1,
          1,
          1,
          1,
          1,
          1
         ],
         "y": [
          -0.6332316727821575,
          -0.8961380788098032,
          -0.7535511955257395,
          -0.9787302363353998,
          -1.005980129453433,
          -1.0099280140207458,
          -1.0078111627356021,
          -1.0037020816942333,
          -0.9739691494376251,
          -1.0025788500708694,
          -0.9578061677415692,
          -0.8128922340467692,
          -0.736345048404011,
          -0.8795764831010482,
          -0.8394216897428537,
          -0.8912314893743587
         ]
        },
        {
         "marker": {
          "color": "red"
         },
         "name": "Batch 2, OTU24",
         "type": "box",
         "visible": false,
         "x": [
          2,
          2,
          2,
          2,
          2,
          2,
          2,
          2,
          2,
          2,
          2,
          2,
          2,
          2,
          2,
          2
         ],
         "y": [
          -0.6432116305350748,
          1.7402517452992423,
          -0.6426777515483814,
          1.6564552538102344,
          -0.5934230758427357,
          1.7303221203964456,
          -0.9209529855828117,
          1.4011451246480957,
          -0.9404519216213543,
          1.922675796781851,
          -0.8004259072891307,
          1.7869541098730073,
          -0.8749084946414402,
          1.8351382734712989,
          -0.9050528362621665,
          2.1729460825442715
         ]
        }
       ],
       "layout": {
        "template": {
         "data": {
          "bar": [
           {
            "error_x": {
             "color": "#2a3f5f"
            },
            "error_y": {
             "color": "#2a3f5f"
            },
            "marker": {
             "line": {
              "color": "#E5ECF6",
              "width": 0.5
             },
             "pattern": {
              "fillmode": "overlay",
              "size": 10,
              "solidity": 0.2
             }
            },
            "type": "bar"
           }
          ],
          "barpolar": [
           {
            "marker": {
             "line": {
              "color": "#E5ECF6",
              "width": 0.5
             },
             "pattern": {
              "fillmode": "overlay",
              "size": 10,
              "solidity": 0.2
             }
            },
            "type": "barpolar"
           }
          ],
          "carpet": [
           {
            "aaxis": {
             "endlinecolor": "#2a3f5f",
             "gridcolor": "white",
             "linecolor": "white",
             "minorgridcolor": "white",
             "startlinecolor": "#2a3f5f"
            },
            "baxis": {
             "endlinecolor": "#2a3f5f",
             "gridcolor": "white",
             "linecolor": "white",
             "minorgridcolor": "white",
             "startlinecolor": "#2a3f5f"
            },
            "type": "carpet"
           }
          ],
          "choropleth": [
           {
            "colorbar": {
             "outlinewidth": 0,
             "ticks": ""
            },
            "type": "choropleth"
           }
          ],
          "contour": [
           {
            "colorbar": {
             "outlinewidth": 0,
             "ticks": ""
            },
            "colorscale": [
             [
              0,
              "#0d0887"
             ],
             [
              0.1111111111111111,
              "#46039f"
             ],
             [
              0.2222222222222222,
              "#7201a8"
             ],
             [
              0.3333333333333333,
              "#9c179e"
             ],
             [
              0.4444444444444444,
              "#bd3786"
             ],
             [
              0.5555555555555556,
              "#d8576b"
             ],
             [
              0.6666666666666666,
              "#ed7953"
             ],
             [
              0.7777777777777778,
              "#fb9f3a"
             ],
             [
              0.8888888888888888,
              "#fdca26"
             ],
             [
              1,
              "#f0f921"
             ]
            ],
            "type": "contour"
           }
          ],
          "contourcarpet": [
           {
            "colorbar": {
             "outlinewidth": 0,
             "ticks": ""
            },
            "type": "contourcarpet"
           }
          ],
          "heatmap": [
           {
            "colorbar": {
             "outlinewidth": 0,
             "ticks": ""
            },
            "colorscale": [
             [
              0,
              "#0d0887"
             ],
             [
              0.1111111111111111,
              "#46039f"
             ],
             [
              0.2222222222222222,
              "#7201a8"
             ],
             [
              0.3333333333333333,
              "#9c179e"
             ],
             [
              0.4444444444444444,
              "#bd3786"
             ],
             [
              0.5555555555555556,
              "#d8576b"
             ],
             [
              0.6666666666666666,
              "#ed7953"
             ],
             [
              0.7777777777777778,
              "#fb9f3a"
             ],
             [
              0.8888888888888888,
              "#fdca26"
             ],
             [
              1,
              "#f0f921"
             ]
            ],
            "type": "heatmap"
           }
          ],
          "heatmapgl": [
           {
            "colorbar": {
             "outlinewidth": 0,
             "ticks": ""
            },
            "colorscale": [
             [
              0,
              "#0d0887"
             ],
             [
              0.1111111111111111,
              "#46039f"
             ],
             [
              0.2222222222222222,
              "#7201a8"
             ],
             [
              0.3333333333333333,
              "#9c179e"
             ],
             [
              0.4444444444444444,
              "#bd3786"
             ],
             [
              0.5555555555555556,
              "#d8576b"
             ],
             [
              0.6666666666666666,
              "#ed7953"
             ],
             [
              0.7777777777777778,
              "#fb9f3a"
             ],
             [
              0.8888888888888888,
              "#fdca26"
             ],
             [
              1,
              "#f0f921"
             ]
            ],
            "type": "heatmapgl"
           }
          ],
          "histogram": [
           {
            "marker": {
             "pattern": {
              "fillmode": "overlay",
              "size": 10,
              "solidity": 0.2
             }
            },
            "type": "histogram"
           }
          ],
          "histogram2d": [
           {
            "colorbar": {
             "outlinewidth": 0,
             "ticks": ""
            },
            "colorscale": [
             [
              0,
              "#0d0887"
             ],
             [
              0.1111111111111111,
              "#46039f"
             ],
             [
              0.2222222222222222,
              "#7201a8"
             ],
             [
              0.3333333333333333,
              "#9c179e"
             ],
             [
              0.4444444444444444,
              "#bd3786"
             ],
             [
              0.5555555555555556,
              "#d8576b"
             ],
             [
              0.6666666666666666,
              "#ed7953"
             ],
             [
              0.7777777777777778,
              "#fb9f3a"
             ],
             [
              0.8888888888888888,
              "#fdca26"
             ],
             [
              1,
              "#f0f921"
             ]
            ],
            "type": "histogram2d"
           }
          ],
          "histogram2dcontour": [
           {
            "colorbar": {
             "outlinewidth": 0,
             "ticks": ""
            },
            "colorscale": [
             [
              0,
              "#0d0887"
             ],
             [
              0.1111111111111111,
              "#46039f"
             ],
             [
              0.2222222222222222,
              "#7201a8"
             ],
             [
              0.3333333333333333,
              "#9c179e"
             ],
             [
              0.4444444444444444,
              "#bd3786"
             ],
             [
              0.5555555555555556,
              "#d8576b"
             ],
             [
              0.6666666666666666,
              "#ed7953"
             ],
             [
              0.7777777777777778,
              "#fb9f3a"
             ],
             [
              0.8888888888888888,
              "#fdca26"
             ],
             [
              1,
              "#f0f921"
             ]
            ],
            "type": "histogram2dcontour"
           }
          ],
          "mesh3d": [
           {
            "colorbar": {
             "outlinewidth": 0,
             "ticks": ""
            },
            "type": "mesh3d"
           }
          ],
          "parcoords": [
           {
            "line": {
             "colorbar": {
              "outlinewidth": 0,
              "ticks": ""
             }
            },
            "type": "parcoords"
           }
          ],
          "pie": [
           {
            "automargin": true,
            "type": "pie"
           }
          ],
          "scatter": [
           {
            "fillpattern": {
             "fillmode": "overlay",
             "size": 10,
             "solidity": 0.2
            },
            "type": "scatter"
           }
          ],
          "scatter3d": [
           {
            "line": {
             "colorbar": {
              "outlinewidth": 0,
              "ticks": ""
             }
            },
            "marker": {
             "colorbar": {
              "outlinewidth": 0,
              "ticks": ""
             }
            },
            "type": "scatter3d"
           }
          ],
          "scattercarpet": [
           {
            "marker": {
             "colorbar": {
              "outlinewidth": 0,
              "ticks": ""
             }
            },
            "type": "scattercarpet"
           }
          ],
          "scattergeo": [
           {
            "marker": {
             "colorbar": {
              "outlinewidth": 0,
              "ticks": ""
             }
            },
            "type": "scattergeo"
           }
          ],
          "scattergl": [
           {
            "marker": {
             "colorbar": {
              "outlinewidth": 0,
              "ticks": ""
             }
            },
            "type": "scattergl"
           }
          ],
          "scattermapbox": [
           {
            "marker": {
             "colorbar": {
              "outlinewidth": 0,
              "ticks": ""
             }
            },
            "type": "scattermapbox"
           }
          ],
          "scatterpolar": [
           {
            "marker": {
             "colorbar": {
              "outlinewidth": 0,
              "ticks": ""
             }
            },
            "type": "scatterpolar"
           }
          ],
          "scatterpolargl": [
           {
            "marker": {
             "colorbar": {
              "outlinewidth": 0,
              "ticks": ""
             }
            },
            "type": "scatterpolargl"
           }
          ],
          "scatterternary": [
           {
            "marker": {
             "colorbar": {
              "outlinewidth": 0,
              "ticks": ""
             }
            },
            "type": "scatterternary"
           }
          ],
          "surface": [
           {
            "colorbar": {
             "outlinewidth": 0,
             "ticks": ""
            },
            "colorscale": [
             [
              0,
              "#0d0887"
             ],
             [
              0.1111111111111111,
              "#46039f"
             ],
             [
              0.2222222222222222,
              "#7201a8"
             ],
             [
              0.3333333333333333,
              "#9c179e"
             ],
             [
              0.4444444444444444,
              "#bd3786"
             ],
             [
              0.5555555555555556,
              "#d8576b"
             ],
             [
              0.6666666666666666,
              "#ed7953"
             ],
             [
              0.7777777777777778,
              "#fb9f3a"
             ],
             [
              0.8888888888888888,
              "#fdca26"
             ],
             [
              1,
              "#f0f921"
             ]
            ],
            "type": "surface"
           }
          ],
          "table": [
           {
            "cells": {
             "fill": {
              "color": "#EBF0F8"
             },
             "line": {
              "color": "white"
             }
            },
            "header": {
             "fill": {
              "color": "#C8D4E3"
             },
             "line": {
              "color": "white"
             }
            },
            "type": "table"
           }
          ]
         },
         "layout": {
          "annotationdefaults": {
           "arrowcolor": "#2a3f5f",
           "arrowhead": 0,
           "arrowwidth": 1
          },
          "autotypenumbers": "strict",
          "coloraxis": {
           "colorbar": {
            "outlinewidth": 0,
            "ticks": ""
           }
          },
          "colorscale": {
           "diverging": [
            [
             0,
             "#8e0152"
            ],
            [
             0.1,
             "#c51b7d"
            ],
            [
             0.2,
             "#de77ae"
            ],
            [
             0.3,
             "#f1b6da"
            ],
            [
             0.4,
             "#fde0ef"
            ],
            [
             0.5,
             "#f7f7f7"
            ],
            [
             0.6,
             "#e6f5d0"
            ],
            [
             0.7,
             "#b8e186"
            ],
            [
             0.8,
             "#7fbc41"
            ],
            [
             0.9,
             "#4d9221"
            ],
            [
             1,
             "#276419"
            ]
           ],
           "sequential": [
            [
             0,
             "#0d0887"
            ],
            [
             0.1111111111111111,
             "#46039f"
            ],
            [
             0.2222222222222222,
             "#7201a8"
            ],
            [
             0.3333333333333333,
             "#9c179e"
            ],
            [
             0.4444444444444444,
             "#bd3786"
            ],
            [
             0.5555555555555556,
             "#d8576b"
            ],
            [
             0.6666666666666666,
             "#ed7953"
            ],
            [
             0.7777777777777778,
             "#fb9f3a"
            ],
            [
             0.8888888888888888,
             "#fdca26"
            ],
            [
             1,
             "#f0f921"
            ]
           ],
           "sequentialminus": [
            [
             0,
             "#0d0887"
            ],
            [
             0.1111111111111111,
             "#46039f"
            ],
            [
             0.2222222222222222,
             "#7201a8"
            ],
            [
             0.3333333333333333,
             "#9c179e"
            ],
            [
             0.4444444444444444,
             "#bd3786"
            ],
            [
             0.5555555555555556,
             "#d8576b"
            ],
            [
             0.6666666666666666,
             "#ed7953"
            ],
            [
             0.7777777777777778,
             "#fb9f3a"
            ],
            [
             0.8888888888888888,
             "#fdca26"
            ],
            [
             1,
             "#f0f921"
            ]
           ]
          },
          "colorway": [
           "#636efa",
           "#EF553B",
           "#00cc96",
           "#ab63fa",
           "#FFA15A",
           "#19d3f3",
           "#FF6692",
           "#B6E880",
           "#FF97FF",
           "#FECB52"
          ],
          "font": {
           "color": "#2a3f5f"
          },
          "geo": {
           "bgcolor": "white",
           "lakecolor": "white",
           "landcolor": "#E5ECF6",
           "showlakes": true,
           "showland": true,
           "subunitcolor": "white"
          },
          "hoverlabel": {
           "align": "left"
          },
          "hovermode": "closest",
          "mapbox": {
           "style": "light"
          },
          "paper_bgcolor": "white",
          "plot_bgcolor": "#E5ECF6",
          "polar": {
           "angularaxis": {
            "gridcolor": "white",
            "linecolor": "white",
            "ticks": ""
           },
           "bgcolor": "#E5ECF6",
           "radialaxis": {
            "gridcolor": "white",
            "linecolor": "white",
            "ticks": ""
           }
          },
          "scene": {
           "xaxis": {
            "backgroundcolor": "#E5ECF6",
            "gridcolor": "white",
            "gridwidth": 2,
            "linecolor": "white",
            "showbackground": true,
            "ticks": "",
            "zerolinecolor": "white"
           },
           "yaxis": {
            "backgroundcolor": "#E5ECF6",
            "gridcolor": "white",
            "gridwidth": 2,
            "linecolor": "white",
            "showbackground": true,
            "ticks": "",
            "zerolinecolor": "white"
           },
           "zaxis": {
            "backgroundcolor": "#E5ECF6",
            "gridcolor": "white",
            "gridwidth": 2,
            "linecolor": "white",
            "showbackground": true,
            "ticks": "",
            "zerolinecolor": "white"
           }
          },
          "shapedefaults": {
           "line": {
            "color": "#2a3f5f"
           }
          },
          "ternary": {
           "aaxis": {
            "gridcolor": "white",
            "linecolor": "white",
            "ticks": ""
           },
           "baxis": {
            "gridcolor": "white",
            "linecolor": "white",
            "ticks": ""
           },
           "bgcolor": "#E5ECF6",
           "caxis": {
            "gridcolor": "white",
            "linecolor": "white",
            "ticks": ""
           }
          },
          "title": {
           "x": 0.05
          },
          "xaxis": {
           "automargin": true,
           "gridcolor": "white",
           "linecolor": "white",
           "ticks": "",
           "title": {
            "standoff": 15
           },
           "zerolinecolor": "white",
           "zerolinewidth": 2
          },
          "yaxis": {
           "automargin": true,
           "gridcolor": "white",
           "linecolor": "white",
           "ticks": "",
           "title": {
            "standoff": 15
           },
           "zerolinecolor": "white",
           "zerolinewidth": 2
          }
         }
        },
        "updatemenus": [
         {
          "buttons": [
           {
            "args": [
             {
              "visible": [
               true,
               true,
               false,
               false,
               false,
               false,
               false,
               false,
               false,
               false,
               false,
               false,
               false,
               false,
               false,
               false,
               false,
               false,
               false,
               false,
               false,
               false,
               false,
               false,
               false,
               false,
               false,
               false,
               false,
               false,
               false,
               false,
               false,
               false,
               false,
               false,
               false,
               false,
               false,
               false,
               false,
               false,
               false,
               false,
               false,
               false,
               false,
               false
              ]
             }
            ],
            "label": "OTU1",
            "method": "update"
           },
           {
            "args": [
             {
              "visible": [
               false,
               false,
               true,
               true,
               false,
               false,
               false,
               false,
               false,
               false,
               false,
               false,
               false,
               false,
               false,
               false,
               false,
               false,
               false,
               false,
               false,
               false,
               false,
               false,
               false,
               false,
               false,
               false,
               false,
               false,
               false,
               false,
               false,
               false,
               false,
               false,
               false,
               false,
               false,
               false,
               false,
               false,
               false,
               false,
               false,
               false,
               false,
               false
              ]
             }
            ],
            "label": "OTU2",
            "method": "update"
           },
           {
            "args": [
             {
              "visible": [
               false,
               false,
               false,
               false,
               true,
               true,
               false,
               false,
               false,
               false,
               false,
               false,
               false,
               false,
               false,
               false,
               false,
               false,
               false,
               false,
               false,
               false,
               false,
               false,
               false,
               false,
               false,
               false,
               false,
               false,
               false,
               false,
               false,
               false,
               false,
               false,
               false,
               false,
               false,
               false,
               false,
               false,
               false,
               false,
               false,
               false,
               false,
               false
              ]
             }
            ],
            "label": "OTU3",
            "method": "update"
           },
           {
            "args": [
             {
              "visible": [
               false,
               false,
               false,
               false,
               false,
               false,
               true,
               true,
               false,
               false,
               false,
               false,
               false,
               false,
               false,
               false,
               false,
               false,
               false,
               false,
               false,
               false,
               false,
               false,
               false,
               false,
               false,
               false,
               false,
               false,
               false,
               false,
               false,
               false,
               false,
               false,
               false,
               false,
               false,
               false,
               false,
               false,
               false,
               false,
               false,
               false,
               false,
               false
              ]
             }
            ],
            "label": "OTU4",
            "method": "update"
           },
           {
            "args": [
             {
              "visible": [
               false,
               false,
               false,
               false,
               false,
               false,
               false,
               false,
               true,
               true,
               false,
               false,
               false,
               false,
               false,
               false,
               false,
               false,
               false,
               false,
               false,
               false,
               false,
               false,
               false,
               false,
               false,
               false,
               false,
               false,
               false,
               false,
               false,
               false,
               false,
               false,
               false,
               false,
               false,
               false,
               false,
               false,
               false,
               false,
               false,
               false,
               false,
               false
              ]
             }
            ],
            "label": "OTU5",
            "method": "update"
           },
           {
            "args": [
             {
              "visible": [
               false,
               false,
               false,
               false,
               false,
               false,
               false,
               false,
               false,
               false,
               true,
               true,
               false,
               false,
               false,
               false,
               false,
               false,
               false,
               false,
               false,
               false,
               false,
               false,
               false,
               false,
               false,
               false,
               false,
               false,
               false,
               false,
               false,
               false,
               false,
               false,
               false,
               false,
               false,
               false,
               false,
               false,
               false,
               false,
               false,
               false,
               false,
               false
              ]
             }
            ],
            "label": "OTU6",
            "method": "update"
           },
           {
            "args": [
             {
              "visible": [
               false,
               false,
               false,
               false,
               false,
               false,
               false,
               false,
               false,
               false,
               false,
               false,
               true,
               true,
               false,
               false,
               false,
               false,
               false,
               false,
               false,
               false,
               false,
               false,
               false,
               false,
               false,
               false,
               false,
               false,
               false,
               false,
               false,
               false,
               false,
               false,
               false,
               false,
               false,
               false,
               false,
               false,
               false,
               false,
               false,
               false,
               false,
               false
              ]
             }
            ],
            "label": "OTU7",
            "method": "update"
           },
           {
            "args": [
             {
              "visible": [
               false,
               false,
               false,
               false,
               false,
               false,
               false,
               false,
               false,
               false,
               false,
               false,
               false,
               false,
               true,
               true,
               false,
               false,
               false,
               false,
               false,
               false,
               false,
               false,
               false,
               false,
               false,
               false,
               false,
               false,
               false,
               false,
               false,
               false,
               false,
               false,
               false,
               false,
               false,
               false,
               false,
               false,
               false,
               false,
               false,
               false,
               false,
               false
              ]
             }
            ],
            "label": "OTU8",
            "method": "update"
           },
           {
            "args": [
             {
              "visible": [
               false,
               false,
               false,
               false,
               false,
               false,
               false,
               false,
               false,
               false,
               false,
               false,
               false,
               false,
               false,
               false,
               true,
               true,
               false,
               false,
               false,
               false,
               false,
               false,
               false,
               false,
               false,
               false,
               false,
               false,
               false,
               false,
               false,
               false,
               false,
               false,
               false,
               false,
               false,
               false,
               false,
               false,
               false,
               false,
               false,
               false,
               false,
               false
              ]
             }
            ],
            "label": "OTU9",
            "method": "update"
           },
           {
            "args": [
             {
              "visible": [
               false,
               false,
               false,
               false,
               false,
               false,
               false,
               false,
               false,
               false,
               false,
               false,
               false,
               false,
               false,
               false,
               false,
               false,
               true,
               true,
               false,
               false,
               false,
               false,
               false,
               false,
               false,
               false,
               false,
               false,
               false,
               false,
               false,
               false,
               false,
               false,
               false,
               false,
               false,
               false,
               false,
               false,
               false,
               false,
               false,
               false,
               false,
               false
              ]
             }
            ],
            "label": "OTU10",
            "method": "update"
           },
           {
            "args": [
             {
              "visible": [
               false,
               false,
               false,
               false,
               false,
               false,
               false,
               false,
               false,
               false,
               false,
               false,
               false,
               false,
               false,
               false,
               false,
               false,
               false,
               false,
               true,
               true,
               false,
               false,
               false,
               false,
               false,
               false,
               false,
               false,
               false,
               false,
               false,
               false,
               false,
               false,
               false,
               false,
               false,
               false,
               false,
               false,
               false,
               false,
               false,
               false,
               false,
               false
              ]
             }
            ],
            "label": "OTU11",
            "method": "update"
           },
           {
            "args": [
             {
              "visible": [
               false,
               false,
               false,
               false,
               false,
               false,
               false,
               false,
               false,
               false,
               false,
               false,
               false,
               false,
               false,
               false,
               false,
               false,
               false,
               false,
               false,
               false,
               true,
               true,
               false,
               false,
               false,
               false,
               false,
               false,
               false,
               false,
               false,
               false,
               false,
               false,
               false,
               false,
               false,
               false,
               false,
               false,
               false,
               false,
               false,
               false,
               false,
               false
              ]
             }
            ],
            "label": "OTU12",
            "method": "update"
           },
           {
            "args": [
             {
              "visible": [
               false,
               false,
               false,
               false,
               false,
               false,
               false,
               false,
               false,
               false,
               false,
               false,
               false,
               false,
               false,
               false,
               false,
               false,
               false,
               false,
               false,
               false,
               false,
               false,
               true,
               true,
               false,
               false,
               false,
               false,
               false,
               false,
               false,
               false,
               false,
               false,
               false,
               false,
               false,
               false,
               false,
               false,
               false,
               false,
               false,
               false,
               false,
               false
              ]
             }
            ],
            "label": "OTU13",
            "method": "update"
           },
           {
            "args": [
             {
              "visible": [
               false,
               false,
               false,
               false,
               false,
               false,
               false,
               false,
               false,
               false,
               false,
               false,
               false,
               false,
               false,
               false,
               false,
               false,
               false,
               false,
               false,
               false,
               false,
               false,
               false,
               false,
               true,
               true,
               false,
               false,
               false,
               false,
               false,
               false,
               false,
               false,
               false,
               false,
               false,
               false,
               false,
               false,
               false,
               false,
               false,
               false,
               false,
               false
              ]
             }
            ],
            "label": "OTU14",
            "method": "update"
           },
           {
            "args": [
             {
              "visible": [
               false,
               false,
               false,
               false,
               false,
               false,
               false,
               false,
               false,
               false,
               false,
               false,
               false,
               false,
               false,
               false,
               false,
               false,
               false,
               false,
               false,
               false,
               false,
               false,
               false,
               false,
               false,
               false,
               true,
               true,
               false,
               false,
               false,
               false,
               false,
               false,
               false,
               false,
               false,
               false,
               false,
               false,
               false,
               false,
               false,
               false,
               false,
               false
              ]
             }
            ],
            "label": "OTU15",
            "method": "update"
           },
           {
            "args": [
             {
              "visible": [
               false,
               false,
               false,
               false,
               false,
               false,
               false,
               false,
               false,
               false,
               false,
               false,
               false,
               false,
               false,
               false,
               false,
               false,
               false,
               false,
               false,
               false,
               false,
               false,
               false,
               false,
               false,
               false,
               false,
               false,
               true,
               true,
               false,
               false,
               false,
               false,
               false,
               false,
               false,
               false,
               false,
               false,
               false,
               false,
               false,
               false,
               false,
               false
              ]
             }
            ],
            "label": "OTU16",
            "method": "update"
           },
           {
            "args": [
             {
              "visible": [
               false,
               false,
               false,
               false,
               false,
               false,
               false,
               false,
               false,
               false,
               false,
               false,
               false,
               false,
               false,
               false,
               false,
               false,
               false,
               false,
               false,
               false,
               false,
               false,
               false,
               false,
               false,
               false,
               false,
               false,
               false,
               false,
               true,
               true,
               false,
               false,
               false,
               false,
               false,
               false,
               false,
               false,
               false,
               false,
               false,
               false,
               false,
               false
              ]
             }
            ],
            "label": "OTU17",
            "method": "update"
           },
           {
            "args": [
             {
              "visible": [
               false,
               false,
               false,
               false,
               false,
               false,
               false,
               false,
               false,
               false,
               false,
               false,
               false,
               false,
               false,
               false,
               false,
               false,
               false,
               false,
               false,
               false,
               false,
               false,
               false,
               false,
               false,
               false,
               false,
               false,
               false,
               false,
               false,
               false,
               true,
               true,
               false,
               false,
               false,
               false,
               false,
               false,
               false,
               false,
               false,
               false,
               false,
               false
              ]
             }
            ],
            "label": "OTU18",
            "method": "update"
           },
           {
            "args": [
             {
              "visible": [
               false,
               false,
               false,
               false,
               false,
               false,
               false,
               false,
               false,
               false,
               false,
               false,
               false,
               false,
               false,
               false,
               false,
               false,
               false,
               false,
               false,
               false,
               false,
               false,
               false,
               false,
               false,
               false,
               false,
               false,
               false,
               false,
               false,
               false,
               false,
               false,
               true,
               true,
               false,
               false,
               false,
               false,
               false,
               false,
               false,
               false,
               false,
               false
              ]
             }
            ],
            "label": "OTU19",
            "method": "update"
           },
           {
            "args": [
             {
              "visible": [
               false,
               false,
               false,
               false,
               false,
               false,
               false,
               false,
               false,
               false,
               false,
               false,
               false,
               false,
               false,
               false,
               false,
               false,
               false,
               false,
               false,
               false,
               false,
               false,
               false,
               false,
               false,
               false,
               false,
               false,
               false,
               false,
               false,
               false,
               false,
               false,
               false,
               false,
               true,
               true,
               false,
               false,
               false,
               false,
               false,
               false,
               false,
               false
              ]
             }
            ],
            "label": "OTU20",
            "method": "update"
           },
           {
            "args": [
             {
              "visible": [
               false,
               false,
               false,
               false,
               false,
               false,
               false,
               false,
               false,
               false,
               false,
               false,
               false,
               false,
               false,
               false,
               false,
               false,
               false,
               false,
               false,
               false,
               false,
               false,
               false,
               false,
               false,
               false,
               false,
               false,
               false,
               false,
               false,
               false,
               false,
               false,
               false,
               false,
               false,
               false,
               true,
               true,
               false,
               false,
               false,
               false,
               false,
               false
              ]
             }
            ],
            "label": "OTU21",
            "method": "update"
           },
           {
            "args": [
             {
              "visible": [
               false,
               false,
               false,
               false,
               false,
               false,
               false,
               false,
               false,
               false,
               false,
               false,
               false,
               false,
               false,
               false,
               false,
               false,
               false,
               false,
               false,
               false,
               false,
               false,
               false,
               false,
               false,
               false,
               false,
               false,
               false,
               false,
               false,
               false,
               false,
               false,
               false,
               false,
               false,
               false,
               false,
               false,
               true,
               true,
               false,
               false,
               false,
               false
              ]
             }
            ],
            "label": "OTU22",
            "method": "update"
           },
           {
            "args": [
             {
              "visible": [
               false,
               false,
               false,
               false,
               false,
               false,
               false,
               false,
               false,
               false,
               false,
               false,
               false,
               false,
               false,
               false,
               false,
               false,
               false,
               false,
               false,
               false,
               false,
               false,
               false,
               false,
               false,
               false,
               false,
               false,
               false,
               false,
               false,
               false,
               false,
               false,
               false,
               false,
               false,
               false,
               false,
               false,
               false,
               false,
               true,
               true,
               false,
               false
              ]
             }
            ],
            "label": "OTU23",
            "method": "update"
           },
           {
            "args": [
             {
              "visible": [
               false,
               false,
               false,
               false,
               false,
               false,
               false,
               false,
               false,
               false,
               false,
               false,
               false,
               false,
               false,
               false,
               false,
               false,
               false,
               false,
               false,
               false,
               false,
               false,
               false,
               false,
               false,
               false,
               false,
               false,
               false,
               false,
               false,
               false,
               false,
               false,
               false,
               false,
               false,
               false,
               false,
               false,
               false,
               false,
               false,
               false,
               true,
               true
              ]
             }
            ],
            "label": "OTU24",
            "method": "update"
           }
          ],
          "direction": "down",
          "showactive": true,
          "xanchor": "left",
          "y": 1.15,
          "yanchor": "top"
         }
        ],
        "xaxis": {
         "title": {
          "text": "Batch"
         }
        }
       }
      }
     },
     "metadata": {},
     "output_type": "display_data"
    }
   ],
   "source": [
    "plotOTUBox(data)"
   ]
  },
  {
   "cell_type": "markdown",
   "metadata": {},
   "source": [
    "### RLE plot"
   ]
  },
  {
   "cell_type": "code",
   "execution_count": 4,
   "metadata": {},
   "outputs": [
    {
     "data": {
      "application/vnd.plotly.v1+json": {
       "config": {
        "plotlyServerURL": "https://plot.ly"
       },
       "data": [
        {
         "marker": {
          "color": "blue"
         },
         "name": "Batch 1",
         "type": "box",
         "visible": true,
         "x": [
          "AaF4",
          "AaF6",
          "AaF8",
          "AaF10",
          "AaF12",
          "AaF14",
          "AaF16",
          "AaF18",
          "AaF4",
          "AaF6",
          "AaF8",
          "AaF10",
          "AaF12",
          "AaF14",
          "AaF16",
          "AaF18",
          "AaF4",
          "AaF6",
          "AaF8",
          "AaF10",
          "AaF12",
          "AaF14",
          "AaF16",
          "AaF18",
          "AaF4",
          "AaF6",
          "AaF8",
          "AaF10",
          "AaF12",
          "AaF14",
          "AaF16",
          "AaF18",
          "AaF4",
          "AaF6",
          "AaF8",
          "AaF10",
          "AaF12",
          "AaF14",
          "AaF16",
          "AaF18",
          "AaF4",
          "AaF6",
          "AaF8",
          "AaF10",
          "AaF12",
          "AaF14",
          "AaF16",
          "AaF18",
          "AaF4",
          "AaF6",
          "AaF8",
          "AaF10",
          "AaF12",
          "AaF14",
          "AaF16",
          "AaF18",
          "AaF4",
          "AaF6",
          "AaF8",
          "AaF10",
          "AaF12",
          "AaF14",
          "AaF16",
          "AaF18",
          "AaF4",
          "AaF6",
          "AaF8",
          "AaF10",
          "AaF12",
          "AaF14",
          "AaF16",
          "AaF18",
          "AaF4",
          "AaF6",
          "AaF8",
          "AaF10",
          "AaF12",
          "AaF14",
          "AaF16",
          "AaF18",
          "AaF4",
          "AaF6",
          "AaF8",
          "AaF10",
          "AaF12",
          "AaF14",
          "AaF16",
          "AaF18",
          "AaF4",
          "AaF6",
          "AaF8",
          "AaF10",
          "AaF12",
          "AaF14",
          "AaF16",
          "AaF18",
          "AaF4",
          "AaF6",
          "AaF8",
          "AaF10",
          "AaF12",
          "AaF14",
          "AaF16",
          "AaF18",
          "AaF4",
          "AaF6",
          "AaF8",
          "AaF10",
          "AaF12",
          "AaF14",
          "AaF16",
          "AaF18",
          "AaF4",
          "AaF6",
          "AaF8",
          "AaF10",
          "AaF12",
          "AaF14",
          "AaF16",
          "AaF18",
          "AaF4",
          "AaF6",
          "AaF8",
          "AaF10",
          "AaF12",
          "AaF14",
          "AaF16",
          "AaF18",
          "AaF4",
          "AaF6",
          "AaF8",
          "AaF10",
          "AaF12",
          "AaF14",
          "AaF16",
          "AaF18",
          "AaF4",
          "AaF6",
          "AaF8",
          "AaF10",
          "AaF12",
          "AaF14",
          "AaF16",
          "AaF18",
          "AaF4",
          "AaF6",
          "AaF8",
          "AaF10",
          "AaF12",
          "AaF14",
          "AaF16",
          "AaF18",
          "AaF4",
          "AaF6",
          "AaF8",
          "AaF10",
          "AaF12",
          "AaF14",
          "AaF16",
          "AaF18",
          "AaF4",
          "AaF6",
          "AaF8",
          "AaF10",
          "AaF12",
          "AaF14",
          "AaF16",
          "AaF18",
          "AaF4",
          "AaF6",
          "AaF8",
          "AaF10",
          "AaF12",
          "AaF14",
          "AaF16",
          "AaF18",
          "AaF4",
          "AaF6",
          "AaF8",
          "AaF10",
          "AaF12",
          "AaF14",
          "AaF16",
          "AaF18",
          "AaF4",
          "AaF6",
          "AaF8",
          "AaF10",
          "AaF12",
          "AaF14",
          "AaF16",
          "AaF18"
         ],
         "y": [
          0.22393341940998945,
          0.10361389666640752,
          -0.14881503726128598,
          -0.15064607054345514,
          -0.11680405724547815,
          -0.10064107554942225,
          0.12082004378813593,
          0.01774340244929329,
          -1.625216507506917,
          -0.005069855409994384,
          -1.2095076038139223,
          -1.4691677463981971,
          -0.141404692111339,
          -1.1613336421020586,
          -1.7283298831287706,
          0.5755385838506744,
          0.18669212573383465,
          0.06637260299025272,
          -0.18605633093744078,
          -0.18788736421960994,
          -0.15404535092163296,
          -0.13788236922557706,
          0.08357875011198113,
          -0.01949789122686152,
          0.056546666687385394,
          -0.06377285605619654,
          2.134803308128429,
          1.5537693536355321,
          2.0766631911499394,
          -0.2680278282720263,
          -0.046566708934468126,
          -0.14964335027331077,
          0.37428043309617287,
          0.09552756873333168,
          -0.614111642980188,
          -0.5221745168098475,
          -0.5454909173518194,
          -0.46908785527840635,
          0.24142508827558196,
          -0.8115185804710201,
          0.22393341940998945,
          0.10361389666640752,
          -0.14881503726128598,
          -0.15064607054345514,
          -0.11680405724547815,
          -0.10064107554942225,
          0.12082004378813593,
          0.01774340244929329,
          0.419347829022803,
          -0.18647950950247982,
          0.05426224509709665,
          0.1044875737709805,
          0.20828817567586788,
          -0.05426224509709687,
          0.2527210476786228,
          -2.35179154539943,
          0.14375687862527753,
          0.0234373558816956,
          -0.2289915780459979,
          -0.23082261132816706,
          -0.19698059803019008,
          2.2701874817781844,
          0.04064350300342401,
          3.460981876050986,
          0.3496535367674163,
          0.6451619091675451,
          -0.03093809736488584,
          0.057517716025046184,
          0.13361953861290576,
          -0.06477728731385657,
          0.3917221709900607,
          0.5117890809654275,
          -1.2447981760348066,
          -1.3651176987783886,
          0.4865875215641252,
          0.42184266287138683,
          0.402338695464071,
          0.5347614832759889,
          0.15616584511961407,
          0.4053097973701233,
          0.0047230393831119155,
          -0.11559648336047001,
          1.440263353891102,
          1.5019457263312588,
          -0.3360144372723557,
          -0.3198514555762998,
          -0.0983903362387416,
          -0.20146697757758425,
          -0.9018092579183467,
          -1.0221287806619286,
          0.671352434465691,
          0.8154753138066018,
          -1.2425467345738141,
          -1.2263837528777584,
          -1.0049226335402002,
          -1.1079992748790428,
          0.22393341940998945,
          0.10361389666640752,
          -0.14881503726128598,
          -0.15064607054345514,
          -0.11680405724547815,
          -0.10064107554942225,
          0.12082004378813593,
          0.01774340244929329,
          -0.5581897895009985,
          -0.6785093122445804,
          1.0705417540378501,
          1.0413117465675663,
          1.2411388973398043,
          1.303286992277684,
          0.5624722664992637,
          1.1074223704398969,
          0.20443552818312793,
          1.4191170721718835,
          -0.1683129284881475,
          -0.17014396177031665,
          -0.13630194847233967,
          -0.12013896677628377,
          0.10132215256127441,
          0.3347177478436447,
          -0.7608383948993913,
          0.5539266076463494,
          0.6068793232698377,
          0.6563415843752192,
          0.9133271489874057,
          0.8886681361632067,
          0.011516966832650966,
          -0.011516966832650938,
          1.211089442393008,
          -0.0723808901562546,
          0.4993656188824013,
          0.009831379255095668,
          0.24952544675722133,
          0.9233289205563127,
          0.9156041741236969,
          -0.00983137925509564,
          0.009713018259570494,
          -0.11060650448401144,
          -0.36303543841170494,
          -0.3648664716938741,
          -0.3310244583958971,
          -0.3148614766998412,
          -0.09340035736228303,
          -0.19647699870112567,
          0.0047230393831119155,
          -0.11559648336047001,
          -0.3680254172881635,
          -0.3698564505703327,
          0.4968946856627482,
          -0.3198514555762998,
          -0.0983903362387416,
          0.26853665166815127,
          0.14375687862527753,
          0.0234373558816956,
          -0.2289915780459979,
          -0.23082261132816706,
          -0.19698059803019008,
          -0.18081761633413418,
          0.04064350300342401,
          -0.062433138335418636,
          1.165790128613225,
          0.6524280177600359,
          -0.593252689177941,
          0.23782540047499373,
          0.18069563556724383,
          0.7076842410292907,
          0.36952957243142603,
          -0.42669424946736184,
          0.18669212573383465,
          0.06637260299025272,
          -0.18605633093744078,
          -0.18788736421960994,
          -0.15404535092163296,
          -0.13788236922557706,
          0.08357875011198113,
          -0.01949789122686152,
          1.3580012529257937,
          1.3991051693385497,
          -0.5674322995871329,
          -0.44005160138929567,
          -0.37635662494163746,
          0.17388884268467641,
          0.9598797647600861,
          0.25718200087212184,
          0.22393341940998945,
          0.10361389666640752,
          -0.14881503726128598,
          -0.15064607054345514,
          -0.11680405724547815,
          -0.10064107554942225,
          0.12082004378813593,
          0.01774340244929329
         ]
        },
        {
         "marker": {
          "color": "red"
         },
         "name": "Batch 2",
         "type": "box",
         "visible": true,
         "x": [
          "AaF20",
          "AaF22",
          "AaF24",
          "AaF26",
          "AaF28",
          "AaF30",
          "AaF32",
          "AaF34",
          "AaF20",
          "AaF22",
          "AaF24",
          "AaF26",
          "AaF28",
          "AaF30",
          "AaF32",
          "AaF34",
          "AaF20",
          "AaF22",
          "AaF24",
          "AaF26",
          "AaF28",
          "AaF30",
          "AaF32",
          "AaF34",
          "AaF20",
          "AaF22",
          "AaF24",
          "AaF26",
          "AaF28",
          "AaF30",
          "AaF32",
          "AaF34",
          "AaF20",
          "AaF22",
          "AaF24",
          "AaF26",
          "AaF28",
          "AaF30",
          "AaF32",
          "AaF34",
          "AaF20",
          "AaF22",
          "AaF24",
          "AaF26",
          "AaF28",
          "AaF30",
          "AaF32",
          "AaF34",
          "AaF20",
          "AaF22",
          "AaF24",
          "AaF26",
          "AaF28",
          "AaF30",
          "AaF32",
          "AaF34",
          "AaF20",
          "AaF22",
          "AaF24",
          "AaF26",
          "AaF28",
          "AaF30",
          "AaF32",
          "AaF34",
          "AaF20",
          "AaF22",
          "AaF24",
          "AaF26",
          "AaF28",
          "AaF30",
          "AaF32",
          "AaF34",
          "AaF20",
          "AaF22",
          "AaF24",
          "AaF26",
          "AaF28",
          "AaF30",
          "AaF32",
          "AaF34",
          "AaF20",
          "AaF22",
          "AaF24",
          "AaF26",
          "AaF28",
          "AaF30",
          "AaF32",
          "AaF34",
          "AaF20",
          "AaF22",
          "AaF24",
          "AaF26",
          "AaF28",
          "AaF30",
          "AaF32",
          "AaF34",
          "AaF20",
          "AaF22",
          "AaF24",
          "AaF26",
          "AaF28",
          "AaF30",
          "AaF32",
          "AaF34",
          "AaF20",
          "AaF22",
          "AaF24",
          "AaF26",
          "AaF28",
          "AaF30",
          "AaF32",
          "AaF34",
          "AaF20",
          "AaF22",
          "AaF24",
          "AaF26",
          "AaF28",
          "AaF30",
          "AaF32",
          "AaF34",
          "AaF20",
          "AaF22",
          "AaF24",
          "AaF26",
          "AaF28",
          "AaF30",
          "AaF32",
          "AaF34",
          "AaF20",
          "AaF22",
          "AaF24",
          "AaF26",
          "AaF28",
          "AaF30",
          "AaF32",
          "AaF34",
          "AaF20",
          "AaF22",
          "AaF24",
          "AaF26",
          "AaF28",
          "AaF30",
          "AaF32",
          "AaF34",
          "AaF20",
          "AaF22",
          "AaF24",
          "AaF26",
          "AaF28",
          "AaF30",
          "AaF32",
          "AaF34",
          "AaF20",
          "AaF22",
          "AaF24",
          "AaF26",
          "AaF28",
          "AaF30",
          "AaF32",
          "AaF34",
          "AaF20",
          "AaF22",
          "AaF24",
          "AaF26",
          "AaF28",
          "AaF30",
          "AaF32",
          "AaF34",
          "AaF20",
          "AaF22",
          "AaF24",
          "AaF26",
          "AaF28",
          "AaF30",
          "AaF32",
          "AaF34",
          "AaF20",
          "AaF22",
          "AaF24",
          "AaF26",
          "AaF28",
          "AaF30",
          "AaF32",
          "AaF34",
          "AaF20",
          "AaF22",
          "AaF24",
          "AaF26",
          "AaF28",
          "AaF30",
          "AaF32",
          "AaF34"
         ],
         "y": [
          2.664958559769391,
          0.21448734064376562,
          0.2637420163494113,
          -0.06378789339066471,
          -0.08328682942920729,
          0.056739184903016326,
          -0.017743402449293177,
          -0.0478877440700195,
          0.57307794826297,
          0.10580358856736383,
          1.5544247069602526,
          -0.6891623886854554,
          0.8148341579093776,
          0.32384477278866197,
          1.09321176654464,
          0.005069855409994384,
          0.17671216798091738,
          0.17724604696761082,
          0.2265007226732565,
          -0.10102918706681951,
          -0.1205281231053621,
          0.01949789122686152,
          0.9746347210557101,
          -0.08512903774617431,
          0.046566708934468126,
          0.04710058792116156,
          0.09635526362680724,
          -0.23117464611326877,
          -0.25067358215181135,
          -0.11064756781958773,
          1.444110384558381,
          -0.21527449679262356,
          0.4849284631318702,
          0.6075650389194638,
          0.4813710371189166,
          -0.09796265740803811,
          -0.2592078821899948,
          0.22343533659072934,
          0.06243265204250781,
          -0.062432652042507364,
          0.21395346165707219,
          0.21448734064376562,
          0.2637420163494113,
          -0.06378789339066471,
          -0.08328682942920729,
          0.056739184903016326,
          -0.017743402449293177,
          -0.0478877440700195,
          0.06362199786334255,
          -0.20913745814964457,
          -2.105792931499312,
          -0.13073774824534223,
          0.26847365057430017,
          0.1467930788580034,
          -0.7580378105677384,
          -0.3255586302403499,
          0.13377692087236026,
          0.1343107998590537,
          0.18356547556469938,
          -0.14396443417537663,
          -0.1634633702139192,
          -0.0234373558816956,
          -0.0979199432340051,
          -0.12806428485473142,
          0.03093809736488562,
          -0.5605790873369974,
          0.5413781757326803,
          -0.29028836962258997,
          -0.6199422339649737,
          -0.4500632564830691,
          -0.8939059473014251,
          -0.8823775925215833,
          -0.15616584511961412,
          1.1345185344340676,
          -1.2049895790953848,
          0.5716146654347466,
          -1.5520184248740034,
          -1.4119924105417798,
          -1.4864749978940892,
          -1.5166193395148155,
          -0.005256918369805352,
          -0.0047230393831119155,
          0.04453163632253376,
          -0.28299827341754225,
          1.2450652992599283,
          0.8307805778864222,
          0.35083288242594834,
          0.9268243443755374,
          -0.9117892156712639,
          0.22014677480653017,
          -0.22014677480653017,
          1.2700582710847095,
          0.6315201266399436,
          0.8180661566070584,
          0.31512894292188753,
          1.0455730626566377,
          0.21395346165707219,
          0.21448734064376562,
          0.2637420163494113,
          -0.06378789339066471,
          -0.08328682942920729,
          0.056739184903016326,
          -0.017743402449293177,
          -0.0478877440700195,
          -0.5681697472539158,
          -0.5676358682672223,
          0.123472693610818,
          0.7833294374286255,
          -0.12347269361081799,
          -0.7253840240079716,
          -0.7998666113602811,
          -0.8300109529810075,
          0.19445557043021067,
          0.1949894494169041,
          0.24424412512254978,
          -0.08328578461752623,
          -0.1027847206560688,
          0.03724129367615481,
          -0.037241293676154696,
          -0.06738563529688102,
          -0.7708183526523085,
          -0.7702844736656151,
          -0.190401546897805,
          0.1453627607723893,
          -0.4802719788364689,
          -0.9280326294063643,
          -0.3093680361987286,
          0.32831699475619797,
          -0.878332057039745,
          -0.8777981780530516,
          -0.24075683744528686,
          0.037849056384952784,
          -0.4824251675660792,
          -0.11925560191964585,
          -1.1100289211461103,
          0.31844175993268,
          -0.0002669394933467739,
          0.0002669394933466629,
          0.8824307381340963,
          0.7152434784691999,
          1.4429589442608783,
          1.7884289328079106,
          1.5085023712407923,
          2.1538056330806103,
          -0.005256918369805352,
          -0.0047230393831119155,
          0.04453163632253376,
          -0.28299827341754225,
          1.5380524239414022,
          1.248515778586401,
          0.9569686859962638,
          1.2589581793981521,
          0.13377692087236026,
          0.1343107998590537,
          0.18356547556469938,
          -0.14396443417537663,
          0.9996874395917617,
          -0.0234373558816956,
          0.7775487941198906,
          -0.12806428485473142,
          -0.23048419025958294,
          0.9332004985327913,
          -0.18069563556724383,
          0.5213938718738382,
          -0.5277244813458624,
          -0.3876984670136388,
          -0.4621810543659483,
          -0.49232539598667463,
          0.17671216798091738,
          1.3403968567732916,
          0.2265007226732565,
          1.8590655969804502,
          -0.1205281231053621,
          0.01949789122686152,
          -0.054984696125447985,
          -0.08512903774617431,
          -0.17076224899309317,
          -1.2688406586745096,
          -0.12097369430075422,
          -1.54711589270894,
          -0.18032046762759174,
          0.12097369430075411,
          0.22169519597353515,
          0.5970159624609732,
          0.21395346165707219,
          0.21448734064376562,
          0.2637420163494113,
          -0.06378789339066471,
          -0.08328682942920729,
          0.056739184903016326,
          -0.017743402449293177,
          -0.0478877440700195
         ]
        },
        {
         "marker": {
          "color": "blue"
         },
         "name": "Batch 1",
         "type": "box",
         "visible": false,
         "x": [
          "AaF5",
          "AaF7",
          "AaF9",
          "AaF11",
          "AaF13",
          "AaF15",
          "AaF17",
          "AaF19",
          "AaF5",
          "AaF7",
          "AaF9",
          "AaF11",
          "AaF13",
          "AaF15",
          "AaF17",
          "AaF19",
          "AaF5",
          "AaF7",
          "AaF9",
          "AaF11",
          "AaF13",
          "AaF15",
          "AaF17",
          "AaF19",
          "AaF5",
          "AaF7",
          "AaF9",
          "AaF11",
          "AaF13",
          "AaF15",
          "AaF17",
          "AaF19",
          "AaF5",
          "AaF7",
          "AaF9",
          "AaF11",
          "AaF13",
          "AaF15",
          "AaF17",
          "AaF19",
          "AaF5",
          "AaF7",
          "AaF9",
          "AaF11",
          "AaF13",
          "AaF15",
          "AaF17",
          "AaF19",
          "AaF5",
          "AaF7",
          "AaF9",
          "AaF11",
          "AaF13",
          "AaF15",
          "AaF17",
          "AaF19",
          "AaF5",
          "AaF7",
          "AaF9",
          "AaF11",
          "AaF13",
          "AaF15",
          "AaF17",
          "AaF19",
          "AaF5",
          "AaF7",
          "AaF9",
          "AaF11",
          "AaF13",
          "AaF15",
          "AaF17",
          "AaF19",
          "AaF5",
          "AaF7",
          "AaF9",
          "AaF11",
          "AaF13",
          "AaF15",
          "AaF17",
          "AaF19",
          "AaF5",
          "AaF7",
          "AaF9",
          "AaF11",
          "AaF13",
          "AaF15",
          "AaF17",
          "AaF19",
          "AaF5",
          "AaF7",
          "AaF9",
          "AaF11",
          "AaF13",
          "AaF15",
          "AaF17",
          "AaF19",
          "AaF5",
          "AaF7",
          "AaF9",
          "AaF11",
          "AaF13",
          "AaF15",
          "AaF17",
          "AaF19",
          "AaF5",
          "AaF7",
          "AaF9",
          "AaF11",
          "AaF13",
          "AaF15",
          "AaF17",
          "AaF19",
          "AaF5",
          "AaF7",
          "AaF9",
          "AaF11",
          "AaF13",
          "AaF15",
          "AaF17",
          "AaF19",
          "AaF5",
          "AaF7",
          "AaF9",
          "AaF11",
          "AaF13",
          "AaF15",
          "AaF17",
          "AaF19",
          "AaF5",
          "AaF7",
          "AaF9",
          "AaF11",
          "AaF13",
          "AaF15",
          "AaF17",
          "AaF19",
          "AaF5",
          "AaF7",
          "AaF9",
          "AaF11",
          "AaF13",
          "AaF15",
          "AaF17",
          "AaF19",
          "AaF5",
          "AaF7",
          "AaF9",
          "AaF11",
          "AaF13",
          "AaF15",
          "AaF17",
          "AaF19",
          "AaF5",
          "AaF7",
          "AaF9",
          "AaF11",
          "AaF13",
          "AaF15",
          "AaF17",
          "AaF19",
          "AaF5",
          "AaF7",
          "AaF9",
          "AaF11",
          "AaF13",
          "AaF15",
          "AaF17",
          "AaF19",
          "AaF5",
          "AaF7",
          "AaF9",
          "AaF11",
          "AaF13",
          "AaF15",
          "AaF17",
          "AaF19",
          "AaF5",
          "AaF7",
          "AaF9",
          "AaF11",
          "AaF13",
          "AaF15",
          "AaF17",
          "AaF19",
          "AaF5",
          "AaF7",
          "AaF9",
          "AaF11",
          "AaF13",
          "AaF15",
          "AaF17",
          "AaF19"
         ],
         "y": [
          0.10220922828580203,
          0.01961707076020547,
          -0.011580706925140571,
          -0.005354774598627987,
          -0.00423154297526418,
          0.18545507304883602,
          0.11877082399455707,
          0.10711581772124656,
          0.10220922828580203,
          0.01961707076020547,
          -0.011580706925140571,
          -0.005354774598627987,
          -0.00423154297526418,
          0.18545507304883602,
          0.11877082399455707,
          0.10711581772124656,
          0.10220922828580203,
          0.01961707076020547,
          -0.011580706925140571,
          -0.005354774598627987,
          -0.00423154297526418,
          0.18545507304883602,
          0.11877082399455707,
          0.10711581772124656,
          1.8794278099953083,
          2.0016300651157266,
          2.0418912514125256,
          2.187379251072546,
          1.9008204102441288,
          0.07560400572596415,
          0.008919756671685208,
          -0.0027352496016253003,
          0.10220922828580203,
          0.01961707076020547,
          -0.011580706925140571,
          -0.005354774598627987,
          -0.00423154297526418,
          0.18545507304883602,
          0.11877082399455707,
          0.10711581772124656,
          0.3530795754707219,
          0.05098685790941637,
          -0.017252191456278876,
          0.07480517672001508,
          -0.048369308334198724,
          0.30383623718767705,
          0.25368129008460816,
          0.0678680376565044,
          0.2800512839164162,
          0.08534182827011327,
          -0.10472584517413708,
          -0.08534182827011327,
          0.24192975663282712,
          0.9069125752684319,
          0.5918421577123352,
          0.5951128016557006,
          0.10220922828580203,
          0.01961707076020547,
          -0.011580706925140571,
          -0.005354774598627987,
          -0.00423154297526418,
          0.18545507304883602,
          0.11877082399455707,
          0.10711581772124656,
          0.4717966628507875,
          0.3833393858727929,
          0.2597682880564316,
          0.2914733056839294,
          0.01948288068380233,
          0.7652370845872281,
          0.39011981897612924,
          0.533536727049398,
          0.15685441556085333,
          -0.0006390501378608082,
          -0.21415838461716152,
          -0.0946037669836457,
          -0.11757808693934257,
          -0.11510301300339032,
          0.02952183160953914,
          0.029701282983231714,
          1.153469326070502,
          1.2796319824070155,
          1.2909938191404655,
          1.377262459140515,
          -0.6757380429316676,
          -0.4860514269075674,
          -0.5527356759618464,
          -0.5643906822351569,
          -1.7718007874306443,
          -1.8543929449562409,
          0.12931229790067778,
          0.2488669155341936,
          -0.39663701776749494,
          -1.6885549426676103,
          -1.7552391917218892,
          -1.7668941979951998,
          0.09451646439333139,
          0.011924306867734824,
          -0.019273470817611216,
          -0.013047538491098631,
          -0.011924306867734824,
          0.17776230915636537,
          0.11107806010208643,
          0.09942305382877592,
          -1.6387453499877829,
          0.37052655416501357,
          0.30158844849682054,
          0.3937568106240579,
          0.45203845608737026,
          0.4986242284707971,
          0.3093376573241857,
          -0.24754439943244766,
          0.10220922828580203,
          0.01961707076020547,
          -0.011580706925140571,
          -0.005354774598627987,
          -0.00423154297526418,
          0.18545507304883602,
          0.11877082399455707,
          0.10711581772124656,
          0.6453749377803666,
          0.4663225140672078,
          0.5654865542451053,
          0.21503754263288566,
          0.6979988611489876,
          -0.5184115112429823,
          -0.3074640236989819,
          0.22742467639577757,
          0.7177251506586435,
          0.6351329931330469,
          0.6039352154477009,
          -0.11980000590844797,
          0.8464041217585028,
          0.11980000590844797,
          1.1276304939432182,
          0.39813569451959097,
          -0.7097219265292892,
          -0.7923140840548858,
          -0.8235118617402318,
          -0.8172859294137192,
          -0.8161626977903554,
          -0.6264760817662552,
          -0.6931603308205342,
          -0.7048153370938447,
          -0.7097578359090868,
          -0.7923499934346834,
          -0.8235477711200294,
          -0.8173218387935168,
          -0.2284119422680338,
          0.32899945388138363,
          0.1397128827347722,
          0.08360611389062797,
          0.06634425517497133,
          -0.016247902350625232,
          -0.04744568003597127,
          -0.04121974770945869,
          -0.04009651608609488,
          0.14959009993800532,
          0.08290585088372637,
          0.07125084461041586,
          -0.16362129348644722,
          0.1766433998079896,
          -0.9192651148697846,
          -0.2711852963708772,
          0.21948616057119236,
          0.47169313357662646,
          0.8597450416372947,
          1.1595261938238721,
          0.06634425517497133,
          -0.016247902350625232,
          -0.04744568003597127,
          -0.04121974770945869,
          -0.04009651608609488,
          0.14959009993800532,
          0.08290585088372637,
          0.07125084461041586,
          0.427603627088543,
          -0.09220233685979826,
          -0.06087975756381017,
          -0.4156671707746282,
          0.0608797575638102,
          0.2231673993997959,
          0.5242079304708345,
          1.2341380400780018,
          -1.1902645241104666,
          -1.2728566816360631,
          -1.3040544593214092,
          -1.2978285269948966,
          -1.2967052953715328,
          -1.1070186793474326,
          -1.1737029284017115,
          -1.185357934675022
         ]
        },
        {
         "marker": {
          "color": "red"
         },
         "name": "Batch 2",
         "type": "box",
         "visible": false,
         "x": [
          "AaF21",
          "AaF23",
          "AaF25",
          "AaF27",
          "AaF29",
          "AaF31",
          "AaF33",
          "AaF35",
          "AaF21",
          "AaF23",
          "AaF25",
          "AaF27",
          "AaF29",
          "AaF31",
          "AaF33",
          "AaF35",
          "AaF21",
          "AaF23",
          "AaF25",
          "AaF27",
          "AaF29",
          "AaF31",
          "AaF33",
          "AaF35",
          "AaF21",
          "AaF23",
          "AaF25",
          "AaF27",
          "AaF29",
          "AaF31",
          "AaF33",
          "AaF35",
          "AaF21",
          "AaF23",
          "AaF25",
          "AaF27",
          "AaF29",
          "AaF31",
          "AaF33",
          "AaF35",
          "AaF21",
          "AaF23",
          "AaF25",
          "AaF27",
          "AaF29",
          "AaF31",
          "AaF33",
          "AaF35",
          "AaF21",
          "AaF23",
          "AaF25",
          "AaF27",
          "AaF29",
          "AaF31",
          "AaF33",
          "AaF35",
          "AaF21",
          "AaF23",
          "AaF25",
          "AaF27",
          "AaF29",
          "AaF31",
          "AaF33",
          "AaF35",
          "AaF21",
          "AaF23",
          "AaF25",
          "AaF27",
          "AaF29",
          "AaF31",
          "AaF33",
          "AaF35",
          "AaF21",
          "AaF23",
          "AaF25",
          "AaF27",
          "AaF29",
          "AaF31",
          "AaF33",
          "AaF35",
          "AaF21",
          "AaF23",
          "AaF25",
          "AaF27",
          "AaF29",
          "AaF31",
          "AaF33",
          "AaF35",
          "AaF21",
          "AaF23",
          "AaF25",
          "AaF27",
          "AaF29",
          "AaF31",
          "AaF33",
          "AaF35",
          "AaF21",
          "AaF23",
          "AaF25",
          "AaF27",
          "AaF29",
          "AaF31",
          "AaF33",
          "AaF35",
          "AaF21",
          "AaF23",
          "AaF25",
          "AaF27",
          "AaF29",
          "AaF31",
          "AaF33",
          "AaF35",
          "AaF21",
          "AaF23",
          "AaF25",
          "AaF27",
          "AaF29",
          "AaF31",
          "AaF33",
          "AaF35",
          "AaF21",
          "AaF23",
          "AaF25",
          "AaF27",
          "AaF29",
          "AaF31",
          "AaF33",
          "AaF35",
          "AaF21",
          "AaF23",
          "AaF25",
          "AaF27",
          "AaF29",
          "AaF31",
          "AaF33",
          "AaF35",
          "AaF21",
          "AaF23",
          "AaF25",
          "AaF27",
          "AaF29",
          "AaF31",
          "AaF33",
          "AaF35",
          "AaF21",
          "AaF23",
          "AaF25",
          "AaF27",
          "AaF29",
          "AaF31",
          "AaF33",
          "AaF35",
          "AaF21",
          "AaF23",
          "AaF25",
          "AaF27",
          "AaF29",
          "AaF31",
          "AaF33",
          "AaF35",
          "AaF21",
          "AaF23",
          "AaF25",
          "AaF27",
          "AaF29",
          "AaF31",
          "AaF33",
          "AaF35",
          "AaF21",
          "AaF23",
          "AaF25",
          "AaF27",
          "AaF29",
          "AaF31",
          "AaF33",
          "AaF35",
          "AaF21",
          "AaF23",
          "AaF25",
          "AaF27",
          "AaF29",
          "AaF31",
          "AaF33",
          "AaF35",
          "AaF21",
          "AaF23",
          "AaF25",
          "AaF27",
          "AaF29",
          "AaF31",
          "AaF33",
          "AaF35"
         ],
         "y": [
          0.00423154297526418,
          0.05211287546145593,
          -0.05634181474628752,
          -0.06009641006000921,
          -0.10426797191807902,
          -0.0711687892518702,
          -0.005592882941710009,
          0.11258631692449717,
          0.00423154297526418,
          0.05211287546145593,
          -0.05634181474628752,
          -0.06009641006000921,
          -0.10426797191807902,
          -0.0711687892518702,
          -0.005592882941710009,
          0.11258631692449717,
          0.00423154297526418,
          0.05211287546145593,
          -0.05634181474628752,
          -0.06009641006000921,
          -0.10426797191807902,
          -0.0711687892518702,
          -0.005592882941710009,
          0.11258631692449717,
          -0.10561952434760769,
          -0.05773819186141593,
          -0.1661928820691594,
          -0.16994747738288107,
          -0.21411903924095088,
          -0.18101985657474207,
          -0.11544395026458187,
          0.0027352496016253003,
          0.00423154297526418,
          0.05211287546145593,
          -0.05634181474628752,
          -0.06009641006000921,
          -0.10426797191807902,
          -0.0711687892518702,
          -0.005592882941710009,
          0.11258631692449717,
          0.017252191456278876,
          0.10595551846272588,
          -0.3248493731426756,
          -0.4595095390032524,
          -0.8317967428915938,
          -0.021780496599980825,
          -0.08973598291434315,
          -0.06228563643789875,
          0.10874232552032881,
          0.38842527206384525,
          -0.34648522420517147,
          -0.10161718290369848,
          -0.5418641125200947,
          -0.62771687271525,
          -0.5413068795022482,
          -0.13802625377775146,
          0.00423154297526418,
          0.05211287546145593,
          -0.05634181474628752,
          -0.06009641006000921,
          -0.10426797191807902,
          -0.0711687892518702,
          -0.005592882941710009,
          0.11258631692449717,
          -0.15272406212115097,
          -0.01948288068380233,
          -0.7175440725106508,
          -0.06148790753201916,
          -0.7492097088106618,
          -0.2788967197217085,
          -0.08632112265024072,
          -2.3569047120191318,
          0.4608994941675073,
          0.40724440743427603,
          0.2911268444809636,
          0.25611970566313635,
          0.0006390501378605862,
          -0.7845720907098815,
          -1.3067828493018405,
          -2.1048943813097885,
          -0.6672749569811393,
          -0.6193936244949475,
          0.6071527520296465,
          -0.7316029100164126,
          1.126333054522438,
          0.5923257775240638,
          0.48605142690756736,
          -0.5589201830319063,
          -0.12931229790067766,
          0.206251107037295,
          0.7228901341444813,
          0.8259035142564657,
          0.8431008987746877,
          -0.2587798513980878,
          0.5969355014593274,
          0.9532710450289295,
          1.7012868713212188,
          0.04442011156898529,
          -0.06403457863875817,
          -0.06778917395247985,
          -0.11196073581054966,
          -0.07886155314434085,
          -0.013285646834180653,
          0.10489355303202652,
          0.02113488225405291,
          -0.0211348822540528,
          -0.22868047510602718,
          0.42896341182561604,
          -0.14047445795323876,
          -1.812123367525455,
          -1.746547461215295,
          -0.2673917082134895,
          0.00423154297526418,
          0.05211287546145593,
          -0.05634181474628752,
          -0.06009641006000921,
          -0.10426797191807902,
          -0.0711687892518702,
          -0.005592882941710009,
          0.11258631692449717,
          -0.22963141207081866,
          -0.06396704392824337,
          0.06396704392824348,
          -0.11163780831213743,
          -1.7244252880840525,
          -0.2562415801285209,
          0.696637521182542,
          -0.765633654512099,
          -1.4965080494544465,
          -0.2547042484958202,
          0.31472076972559315,
          -0.2525031828395412,
          -1.3426432998802986,
          -0.4405062701904803,
          -0.197999655721242,
          -0.7462993893328187,
          0.984059857388228,
          0.6264760817662552,
          1.198589789911597,
          0.6320498319011737,
          0.7324594988542115,
          1.4964461900632124,
          1.9168434716627822,
          1.4978797394456251,
          0.22188389596153343,
          -0.7598541887334329,
          -0.8683088789411764,
          -0.083606113890628,
          1.2585166853711929,
          1.56786924466556,
          0.37636252133583575,
          2.021914680581839,
          -0.03163343013556652,
          0.016247902350625232,
          -0.09220678785711822,
          -0.09596138317083991,
          1.2461614160909809,
          1.3039532113475611,
          -0.04145785605254071,
          0.07672134381366646,
          -0.9034528649693798,
          -0.8555715324831881,
          -0.9640262226909315,
          0.16362129348644722,
          0.4231321454265995,
          -0.9788531971965142,
          -0.913277290886354,
          1.5844480431100272,
          -0.03163343013556652,
          0.016247902350625232,
          -0.09220678785711822,
          1.127814048451276,
          1.1126300234664583,
          -0.1070337623627009,
          -0.04145785605254071,
          0.07672134381366646,
          -0.49705263140646294,
          -0.09249635498153863,
          0.3098745785767086,
          -1.3033179291711134,
          -1.3474894910291833,
          0.5419076820026516,
          0.25526299472345987,
          -1.130635202186607,
          1.4461252999985792,
          1.362328808509571,
          1.4361956750957825,
          1.1070186793474326,
          1.6285493514811877,
          1.492827664572344,
          1.5410118281706358,
          1.8788196372436081
         ]
        }
       ],
       "layout": {
        "shapes": [
         {
          "line": {
           "color": "red",
           "dash": "dash",
           "width": 2
          },
          "type": "line",
          "x0": 0,
          "x1": 1,
          "xref": "paper",
          "y0": 0,
          "y1": 0,
          "yref": "y"
         }
        ],
        "template": {
         "data": {
          "bar": [
           {
            "error_x": {
             "color": "#2a3f5f"
            },
            "error_y": {
             "color": "#2a3f5f"
            },
            "marker": {
             "line": {
              "color": "#E5ECF6",
              "width": 0.5
             },
             "pattern": {
              "fillmode": "overlay",
              "size": 10,
              "solidity": 0.2
             }
            },
            "type": "bar"
           }
          ],
          "barpolar": [
           {
            "marker": {
             "line": {
              "color": "#E5ECF6",
              "width": 0.5
             },
             "pattern": {
              "fillmode": "overlay",
              "size": 10,
              "solidity": 0.2
             }
            },
            "type": "barpolar"
           }
          ],
          "carpet": [
           {
            "aaxis": {
             "endlinecolor": "#2a3f5f",
             "gridcolor": "white",
             "linecolor": "white",
             "minorgridcolor": "white",
             "startlinecolor": "#2a3f5f"
            },
            "baxis": {
             "endlinecolor": "#2a3f5f",
             "gridcolor": "white",
             "linecolor": "white",
             "minorgridcolor": "white",
             "startlinecolor": "#2a3f5f"
            },
            "type": "carpet"
           }
          ],
          "choropleth": [
           {
            "colorbar": {
             "outlinewidth": 0,
             "ticks": ""
            },
            "type": "choropleth"
           }
          ],
          "contour": [
           {
            "colorbar": {
             "outlinewidth": 0,
             "ticks": ""
            },
            "colorscale": [
             [
              0,
              "#0d0887"
             ],
             [
              0.1111111111111111,
              "#46039f"
             ],
             [
              0.2222222222222222,
              "#7201a8"
             ],
             [
              0.3333333333333333,
              "#9c179e"
             ],
             [
              0.4444444444444444,
              "#bd3786"
             ],
             [
              0.5555555555555556,
              "#d8576b"
             ],
             [
              0.6666666666666666,
              "#ed7953"
             ],
             [
              0.7777777777777778,
              "#fb9f3a"
             ],
             [
              0.8888888888888888,
              "#fdca26"
             ],
             [
              1,
              "#f0f921"
             ]
            ],
            "type": "contour"
           }
          ],
          "contourcarpet": [
           {
            "colorbar": {
             "outlinewidth": 0,
             "ticks": ""
            },
            "type": "contourcarpet"
           }
          ],
          "heatmap": [
           {
            "colorbar": {
             "outlinewidth": 0,
             "ticks": ""
            },
            "colorscale": [
             [
              0,
              "#0d0887"
             ],
             [
              0.1111111111111111,
              "#46039f"
             ],
             [
              0.2222222222222222,
              "#7201a8"
             ],
             [
              0.3333333333333333,
              "#9c179e"
             ],
             [
              0.4444444444444444,
              "#bd3786"
             ],
             [
              0.5555555555555556,
              "#d8576b"
             ],
             [
              0.6666666666666666,
              "#ed7953"
             ],
             [
              0.7777777777777778,
              "#fb9f3a"
             ],
             [
              0.8888888888888888,
              "#fdca26"
             ],
             [
              1,
              "#f0f921"
             ]
            ],
            "type": "heatmap"
           }
          ],
          "heatmapgl": [
           {
            "colorbar": {
             "outlinewidth": 0,
             "ticks": ""
            },
            "colorscale": [
             [
              0,
              "#0d0887"
             ],
             [
              0.1111111111111111,
              "#46039f"
             ],
             [
              0.2222222222222222,
              "#7201a8"
             ],
             [
              0.3333333333333333,
              "#9c179e"
             ],
             [
              0.4444444444444444,
              "#bd3786"
             ],
             [
              0.5555555555555556,
              "#d8576b"
             ],
             [
              0.6666666666666666,
              "#ed7953"
             ],
             [
              0.7777777777777778,
              "#fb9f3a"
             ],
             [
              0.8888888888888888,
              "#fdca26"
             ],
             [
              1,
              "#f0f921"
             ]
            ],
            "type": "heatmapgl"
           }
          ],
          "histogram": [
           {
            "marker": {
             "pattern": {
              "fillmode": "overlay",
              "size": 10,
              "solidity": 0.2
             }
            },
            "type": "histogram"
           }
          ],
          "histogram2d": [
           {
            "colorbar": {
             "outlinewidth": 0,
             "ticks": ""
            },
            "colorscale": [
             [
              0,
              "#0d0887"
             ],
             [
              0.1111111111111111,
              "#46039f"
             ],
             [
              0.2222222222222222,
              "#7201a8"
             ],
             [
              0.3333333333333333,
              "#9c179e"
             ],
             [
              0.4444444444444444,
              "#bd3786"
             ],
             [
              0.5555555555555556,
              "#d8576b"
             ],
             [
              0.6666666666666666,
              "#ed7953"
             ],
             [
              0.7777777777777778,
              "#fb9f3a"
             ],
             [
              0.8888888888888888,
              "#fdca26"
             ],
             [
              1,
              "#f0f921"
             ]
            ],
            "type": "histogram2d"
           }
          ],
          "histogram2dcontour": [
           {
            "colorbar": {
             "outlinewidth": 0,
             "ticks": ""
            },
            "colorscale": [
             [
              0,
              "#0d0887"
             ],
             [
              0.1111111111111111,
              "#46039f"
             ],
             [
              0.2222222222222222,
              "#7201a8"
             ],
             [
              0.3333333333333333,
              "#9c179e"
             ],
             [
              0.4444444444444444,
              "#bd3786"
             ],
             [
              0.5555555555555556,
              "#d8576b"
             ],
             [
              0.6666666666666666,
              "#ed7953"
             ],
             [
              0.7777777777777778,
              "#fb9f3a"
             ],
             [
              0.8888888888888888,
              "#fdca26"
             ],
             [
              1,
              "#f0f921"
             ]
            ],
            "type": "histogram2dcontour"
           }
          ],
          "mesh3d": [
           {
            "colorbar": {
             "outlinewidth": 0,
             "ticks": ""
            },
            "type": "mesh3d"
           }
          ],
          "parcoords": [
           {
            "line": {
             "colorbar": {
              "outlinewidth": 0,
              "ticks": ""
             }
            },
            "type": "parcoords"
           }
          ],
          "pie": [
           {
            "automargin": true,
            "type": "pie"
           }
          ],
          "scatter": [
           {
            "fillpattern": {
             "fillmode": "overlay",
             "size": 10,
             "solidity": 0.2
            },
            "type": "scatter"
           }
          ],
          "scatter3d": [
           {
            "line": {
             "colorbar": {
              "outlinewidth": 0,
              "ticks": ""
             }
            },
            "marker": {
             "colorbar": {
              "outlinewidth": 0,
              "ticks": ""
             }
            },
            "type": "scatter3d"
           }
          ],
          "scattercarpet": [
           {
            "marker": {
             "colorbar": {
              "outlinewidth": 0,
              "ticks": ""
             }
            },
            "type": "scattercarpet"
           }
          ],
          "scattergeo": [
           {
            "marker": {
             "colorbar": {
              "outlinewidth": 0,
              "ticks": ""
             }
            },
            "type": "scattergeo"
           }
          ],
          "scattergl": [
           {
            "marker": {
             "colorbar": {
              "outlinewidth": 0,
              "ticks": ""
             }
            },
            "type": "scattergl"
           }
          ],
          "scattermapbox": [
           {
            "marker": {
             "colorbar": {
              "outlinewidth": 0,
              "ticks": ""
             }
            },
            "type": "scattermapbox"
           }
          ],
          "scatterpolar": [
           {
            "marker": {
             "colorbar": {
              "outlinewidth": 0,
              "ticks": ""
             }
            },
            "type": "scatterpolar"
           }
          ],
          "scatterpolargl": [
           {
            "marker": {
             "colorbar": {
              "outlinewidth": 0,
              "ticks": ""
             }
            },
            "type": "scatterpolargl"
           }
          ],
          "scatterternary": [
           {
            "marker": {
             "colorbar": {
              "outlinewidth": 0,
              "ticks": ""
             }
            },
            "type": "scatterternary"
           }
          ],
          "surface": [
           {
            "colorbar": {
             "outlinewidth": 0,
             "ticks": ""
            },
            "colorscale": [
             [
              0,
              "#0d0887"
             ],
             [
              0.1111111111111111,
              "#46039f"
             ],
             [
              0.2222222222222222,
              "#7201a8"
             ],
             [
              0.3333333333333333,
              "#9c179e"
             ],
             [
              0.4444444444444444,
              "#bd3786"
             ],
             [
              0.5555555555555556,
              "#d8576b"
             ],
             [
              0.6666666666666666,
              "#ed7953"
             ],
             [
              0.7777777777777778,
              "#fb9f3a"
             ],
             [
              0.8888888888888888,
              "#fdca26"
             ],
             [
              1,
              "#f0f921"
             ]
            ],
            "type": "surface"
           }
          ],
          "table": [
           {
            "cells": {
             "fill": {
              "color": "#EBF0F8"
             },
             "line": {
              "color": "white"
             }
            },
            "header": {
             "fill": {
              "color": "#C8D4E3"
             },
             "line": {
              "color": "white"
             }
            },
            "type": "table"
           }
          ]
         },
         "layout": {
          "annotationdefaults": {
           "arrowcolor": "#2a3f5f",
           "arrowhead": 0,
           "arrowwidth": 1
          },
          "autotypenumbers": "strict",
          "coloraxis": {
           "colorbar": {
            "outlinewidth": 0,
            "ticks": ""
           }
          },
          "colorscale": {
           "diverging": [
            [
             0,
             "#8e0152"
            ],
            [
             0.1,
             "#c51b7d"
            ],
            [
             0.2,
             "#de77ae"
            ],
            [
             0.3,
             "#f1b6da"
            ],
            [
             0.4,
             "#fde0ef"
            ],
            [
             0.5,
             "#f7f7f7"
            ],
            [
             0.6,
             "#e6f5d0"
            ],
            [
             0.7,
             "#b8e186"
            ],
            [
             0.8,
             "#7fbc41"
            ],
            [
             0.9,
             "#4d9221"
            ],
            [
             1,
             "#276419"
            ]
           ],
           "sequential": [
            [
             0,
             "#0d0887"
            ],
            [
             0.1111111111111111,
             "#46039f"
            ],
            [
             0.2222222222222222,
             "#7201a8"
            ],
            [
             0.3333333333333333,
             "#9c179e"
            ],
            [
             0.4444444444444444,
             "#bd3786"
            ],
            [
             0.5555555555555556,
             "#d8576b"
            ],
            [
             0.6666666666666666,
             "#ed7953"
            ],
            [
             0.7777777777777778,
             "#fb9f3a"
            ],
            [
             0.8888888888888888,
             "#fdca26"
            ],
            [
             1,
             "#f0f921"
            ]
           ],
           "sequentialminus": [
            [
             0,
             "#0d0887"
            ],
            [
             0.1111111111111111,
             "#46039f"
            ],
            [
             0.2222222222222222,
             "#7201a8"
            ],
            [
             0.3333333333333333,
             "#9c179e"
            ],
            [
             0.4444444444444444,
             "#bd3786"
            ],
            [
             0.5555555555555556,
             "#d8576b"
            ],
            [
             0.6666666666666666,
             "#ed7953"
            ],
            [
             0.7777777777777778,
             "#fb9f3a"
            ],
            [
             0.8888888888888888,
             "#fdca26"
            ],
            [
             1,
             "#f0f921"
            ]
           ]
          },
          "colorway": [
           "#636efa",
           "#EF553B",
           "#00cc96",
           "#ab63fa",
           "#FFA15A",
           "#19d3f3",
           "#FF6692",
           "#B6E880",
           "#FF97FF",
           "#FECB52"
          ],
          "font": {
           "color": "#2a3f5f"
          },
          "geo": {
           "bgcolor": "white",
           "lakecolor": "white",
           "landcolor": "#E5ECF6",
           "showlakes": true,
           "showland": true,
           "subunitcolor": "white"
          },
          "hoverlabel": {
           "align": "left"
          },
          "hovermode": "closest",
          "mapbox": {
           "style": "light"
          },
          "paper_bgcolor": "white",
          "plot_bgcolor": "#E5ECF6",
          "polar": {
           "angularaxis": {
            "gridcolor": "white",
            "linecolor": "white",
            "ticks": ""
           },
           "bgcolor": "#E5ECF6",
           "radialaxis": {
            "gridcolor": "white",
            "linecolor": "white",
            "ticks": ""
           }
          },
          "scene": {
           "xaxis": {
            "backgroundcolor": "#E5ECF6",
            "gridcolor": "white",
            "gridwidth": 2,
            "linecolor": "white",
            "showbackground": true,
            "ticks": "",
            "zerolinecolor": "white"
           },
           "yaxis": {
            "backgroundcolor": "#E5ECF6",
            "gridcolor": "white",
            "gridwidth": 2,
            "linecolor": "white",
            "showbackground": true,
            "ticks": "",
            "zerolinecolor": "white"
           },
           "zaxis": {
            "backgroundcolor": "#E5ECF6",
            "gridcolor": "white",
            "gridwidth": 2,
            "linecolor": "white",
            "showbackground": true,
            "ticks": "",
            "zerolinecolor": "white"
           }
          },
          "shapedefaults": {
           "line": {
            "color": "#2a3f5f"
           }
          },
          "ternary": {
           "aaxis": {
            "gridcolor": "white",
            "linecolor": "white",
            "ticks": ""
           },
           "baxis": {
            "gridcolor": "white",
            "linecolor": "white",
            "ticks": ""
           },
           "bgcolor": "#E5ECF6",
           "caxis": {
            "gridcolor": "white",
            "linecolor": "white",
            "ticks": ""
           }
          },
          "title": {
           "x": 0.05
          },
          "xaxis": {
           "automargin": true,
           "gridcolor": "white",
           "linecolor": "white",
           "ticks": "",
           "title": {
            "standoff": 15
           },
           "zerolinecolor": "white",
           "zerolinewidth": 2
          },
          "yaxis": {
           "automargin": true,
           "gridcolor": "white",
           "linecolor": "white",
           "ticks": "",
           "title": {
            "standoff": 15
           },
           "zerolinecolor": "white",
           "zerolinewidth": 2
          }
         }
        },
        "updatemenus": [
         {
          "buttons": [
           {
            "args": [
             {
              "visible": [
               true,
               true,
               false,
               false
              ]
             }
            ],
            "label": "Ectosome",
            "method": "update"
           },
           {
            "args": [
             {
              "visible": [
               false,
               false,
               true,
               true
              ]
             }
            ],
            "label": "Choanosome",
            "method": "update"
           }
          ],
          "direction": "down",
          "showactive": true,
          "xanchor": "left",
          "y": 1.15,
          "yanchor": "top"
         }
        ]
       }
      }
     },
     "metadata": {},
     "output_type": "display_data"
    }
   ],
   "source": [
    "plotRLE(data)"
   ]
  },
  {
   "cell_type": "markdown",
   "metadata": {},
   "source": [
    "### Heat Map cluster"
   ]
  },
  {
   "cell_type": "code",
   "execution_count": 4,
   "metadata": {},
   "outputs": [
    {
     "data": {
      "application/vnd.jupyter.widget-view+json": {
       "model_id": "a89fc8172bb04a998881f13b2f11d117",
       "version_major": 2,
       "version_minor": 0
      },
      "text/plain": [
       "CGM2(network='{\"row_nodes\": [{\"name\": \"OTU1\", \"ini\": 24, \"clust\": 19, \"rank\": 8, \"rankvar\": 0}, {\"name\": \"OTU2…"
      ]
     },
     "execution_count": 4,
     "metadata": {},
     "output_type": "execute_result"
    }
   ],
   "source": [
    "plotClusterHeatMap(data)"
   ]
  },
  {
   "cell_type": "markdown",
   "metadata": {},
   "source": [
    "## Batch Effect Correction"
   ]
  },
  {
   "cell_type": "markdown",
   "metadata": {},
   "source": [
    "### ComBat"
   ]
  },
  {
   "cell_type": "code",
   "execution_count": 3,
   "metadata": {},
   "outputs": [
    {
     "name": "stdout",
     "output_type": "stream",
     "text": [
      "Found 2 batches.\n",
      "Adjusting for 1 covariate(s) or covariate level(s).\n",
      "Standardizing Data across genes.\n",
      "Fitting L/S model and finding priors.\n",
      "Finding parametric adjustments.\n",
      "Adjusting the Data\n"
     ]
    }
   ],
   "source": [
    "data_combat = correctCombat(data)"
   ]
  },
  {
   "cell_type": "code",
   "execution_count": 29,
   "metadata": {},
   "outputs": [
    {
     "data": {
      "application/vnd.plotly.v1+json": {
       "config": {
        "plotlyServerURL": "https://plot.ly"
       },
       "data": [
        {
         "legendgroup": "1",
         "legendgrouptitle": {
          "text": "Batch 1"
         },
         "marker": {
          "color": [
           "blue",
           "blue",
           "blue",
           "blue",
           "blue",
           "blue",
           "blue",
           "blue"
          ],
          "size": 8,
          "symbol": [
           "circle",
           "circle",
           "circle",
           "circle",
           "circle",
           "circle",
           "circle",
           "circle"
          ]
         },
         "mode": "markers",
         "name": "Ectosome",
         "type": "scatter",
         "x": [
          2.8940973080150245,
          3.4113521401929194,
          1.7780573176747527,
          1.7484361186148651,
          2.279079284680528,
          2.1649200542562634,
          2.439379651838881,
          2.9319355087359824
         ],
         "y": [
          -2.013068799416503,
          -1.7200586777139868,
          2.3883095247798853,
          1.9917202763152138,
          0.692687122372629,
          0.029105353120350053,
          -0.6556733160898048,
          -0.09956346425113113
         ]
        },
        {
         "legendgroup": "1",
         "legendgrouptitle": {
          "text": "Batch 1"
         },
         "marker": {
          "color": [
           "blue",
           "blue",
           "blue",
           "blue",
           "blue",
           "blue",
           "blue",
           "blue"
          ],
          "size": 8,
          "symbol": [
           "square",
           "square",
           "square",
           "square",
           "square",
           "square",
           "square",
           "square"
          ]
         },
         "mode": "markers",
         "name": "Choanosome",
         "type": "scatter",
         "x": [
          -2.3830496086379345,
          -2.4716780351645187,
          -2.5286973255092824,
          -2.6127945912151587,
          -2.543784366895831,
          -2.40749134716302,
          -2.453398069902585,
          -2.2714835349889793
         ],
         "y": [
          0.09939202461153854,
          0.788560775707791,
          1.6104748574739796,
          1.6427463274746152,
          0.2883053786111485,
          -1.3124545662505425,
          -1.372951807214693,
          -1.669961343821161
         ]
        },
        {
         "legendgroup": "2",
         "legendgrouptitle": {
          "text": "Batch 2"
         },
         "marker": {
          "color": [
           "red",
           "red",
           "red",
           "red",
           "red",
           "red",
           "red",
           "red"
          ],
          "size": 8,
          "symbol": [
           "circle",
           "circle",
           "circle",
           "circle",
           "circle",
           "circle",
           "circle",
           "circle"
          ]
         },
         "mode": "markers",
         "name": "Ectosome",
         "type": "scatter",
         "x": [
          3.4878642227749697,
          2.988946431829321,
          3.8834377086631013,
          2.068674616249247,
          2.8791624813832,
          3.0938046709771085,
          3.506418214955986,
          2.789848789541884
         ],
         "y": [
          -0.5047224032921422,
          0.4986810817911992,
          -0.07544075949150202,
          1.2648564720076105,
          -0.034972065280602,
          -0.29145458184221323,
          0.10526721715222132,
          -0.1516407733094442
         ]
        },
        {
         "legendgroup": "2",
         "legendgrouptitle": {
          "text": "Batch 2"
         },
         "marker": {
          "color": [
           "red",
           "red",
           "red",
           "red",
           "red",
           "red",
           "red",
           "red"
          ],
          "size": 8,
          "symbol": [
           "square",
           "square",
           "square",
           "square",
           "square",
           "square",
           "square",
           "square"
          ]
         },
         "mode": "markers",
         "name": "Choanosome",
         "type": "scatter",
         "x": [
          -3.1975116007338156,
          -3.202607082895563,
          -3.1643913500632213,
          -3.2087809492796464,
          -3.0284028498294595,
          -2.9076964204652063,
          -2.9237424459358463,
          -3.039904941703965
         ],
         "y": [
          -0.14799351737691815,
          0.17033024519227463,
          0.7152857845562252,
          0.4793551823499877,
          0.27210967920901685,
          -1.133876350028877,
          -0.46091417686617964,
          -1.3924407004799846
         ]
        }
       ],
       "layout": {
        "template": {
         "data": {
          "bar": [
           {
            "error_x": {
             "color": "#2a3f5f"
            },
            "error_y": {
             "color": "#2a3f5f"
            },
            "marker": {
             "line": {
              "color": "#E5ECF6",
              "width": 0.5
             },
             "pattern": {
              "fillmode": "overlay",
              "size": 10,
              "solidity": 0.2
             }
            },
            "type": "bar"
           }
          ],
          "barpolar": [
           {
            "marker": {
             "line": {
              "color": "#E5ECF6",
              "width": 0.5
             },
             "pattern": {
              "fillmode": "overlay",
              "size": 10,
              "solidity": 0.2
             }
            },
            "type": "barpolar"
           }
          ],
          "carpet": [
           {
            "aaxis": {
             "endlinecolor": "#2a3f5f",
             "gridcolor": "white",
             "linecolor": "white",
             "minorgridcolor": "white",
             "startlinecolor": "#2a3f5f"
            },
            "baxis": {
             "endlinecolor": "#2a3f5f",
             "gridcolor": "white",
             "linecolor": "white",
             "minorgridcolor": "white",
             "startlinecolor": "#2a3f5f"
            },
            "type": "carpet"
           }
          ],
          "choropleth": [
           {
            "colorbar": {
             "outlinewidth": 0,
             "ticks": ""
            },
            "type": "choropleth"
           }
          ],
          "contour": [
           {
            "colorbar": {
             "outlinewidth": 0,
             "ticks": ""
            },
            "colorscale": [
             [
              0,
              "#0d0887"
             ],
             [
              0.1111111111111111,
              "#46039f"
             ],
             [
              0.2222222222222222,
              "#7201a8"
             ],
             [
              0.3333333333333333,
              "#9c179e"
             ],
             [
              0.4444444444444444,
              "#bd3786"
             ],
             [
              0.5555555555555556,
              "#d8576b"
             ],
             [
              0.6666666666666666,
              "#ed7953"
             ],
             [
              0.7777777777777778,
              "#fb9f3a"
             ],
             [
              0.8888888888888888,
              "#fdca26"
             ],
             [
              1,
              "#f0f921"
             ]
            ],
            "type": "contour"
           }
          ],
          "contourcarpet": [
           {
            "colorbar": {
             "outlinewidth": 0,
             "ticks": ""
            },
            "type": "contourcarpet"
           }
          ],
          "heatmap": [
           {
            "colorbar": {
             "outlinewidth": 0,
             "ticks": ""
            },
            "colorscale": [
             [
              0,
              "#0d0887"
             ],
             [
              0.1111111111111111,
              "#46039f"
             ],
             [
              0.2222222222222222,
              "#7201a8"
             ],
             [
              0.3333333333333333,
              "#9c179e"
             ],
             [
              0.4444444444444444,
              "#bd3786"
             ],
             [
              0.5555555555555556,
              "#d8576b"
             ],
             [
              0.6666666666666666,
              "#ed7953"
             ],
             [
              0.7777777777777778,
              "#fb9f3a"
             ],
             [
              0.8888888888888888,
              "#fdca26"
             ],
             [
              1,
              "#f0f921"
             ]
            ],
            "type": "heatmap"
           }
          ],
          "heatmapgl": [
           {
            "colorbar": {
             "outlinewidth": 0,
             "ticks": ""
            },
            "colorscale": [
             [
              0,
              "#0d0887"
             ],
             [
              0.1111111111111111,
              "#46039f"
             ],
             [
              0.2222222222222222,
              "#7201a8"
             ],
             [
              0.3333333333333333,
              "#9c179e"
             ],
             [
              0.4444444444444444,
              "#bd3786"
             ],
             [
              0.5555555555555556,
              "#d8576b"
             ],
             [
              0.6666666666666666,
              "#ed7953"
             ],
             [
              0.7777777777777778,
              "#fb9f3a"
             ],
             [
              0.8888888888888888,
              "#fdca26"
             ],
             [
              1,
              "#f0f921"
             ]
            ],
            "type": "heatmapgl"
           }
          ],
          "histogram": [
           {
            "marker": {
             "pattern": {
              "fillmode": "overlay",
              "size": 10,
              "solidity": 0.2
             }
            },
            "type": "histogram"
           }
          ],
          "histogram2d": [
           {
            "colorbar": {
             "outlinewidth": 0,
             "ticks": ""
            },
            "colorscale": [
             [
              0,
              "#0d0887"
             ],
             [
              0.1111111111111111,
              "#46039f"
             ],
             [
              0.2222222222222222,
              "#7201a8"
             ],
             [
              0.3333333333333333,
              "#9c179e"
             ],
             [
              0.4444444444444444,
              "#bd3786"
             ],
             [
              0.5555555555555556,
              "#d8576b"
             ],
             [
              0.6666666666666666,
              "#ed7953"
             ],
             [
              0.7777777777777778,
              "#fb9f3a"
             ],
             [
              0.8888888888888888,
              "#fdca26"
             ],
             [
              1,
              "#f0f921"
             ]
            ],
            "type": "histogram2d"
           }
          ],
          "histogram2dcontour": [
           {
            "colorbar": {
             "outlinewidth": 0,
             "ticks": ""
            },
            "colorscale": [
             [
              0,
              "#0d0887"
             ],
             [
              0.1111111111111111,
              "#46039f"
             ],
             [
              0.2222222222222222,
              "#7201a8"
             ],
             [
              0.3333333333333333,
              "#9c179e"
             ],
             [
              0.4444444444444444,
              "#bd3786"
             ],
             [
              0.5555555555555556,
              "#d8576b"
             ],
             [
              0.6666666666666666,
              "#ed7953"
             ],
             [
              0.7777777777777778,
              "#fb9f3a"
             ],
             [
              0.8888888888888888,
              "#fdca26"
             ],
             [
              1,
              "#f0f921"
             ]
            ],
            "type": "histogram2dcontour"
           }
          ],
          "mesh3d": [
           {
            "colorbar": {
             "outlinewidth": 0,
             "ticks": ""
            },
            "type": "mesh3d"
           }
          ],
          "parcoords": [
           {
            "line": {
             "colorbar": {
              "outlinewidth": 0,
              "ticks": ""
             }
            },
            "type": "parcoords"
           }
          ],
          "pie": [
           {
            "automargin": true,
            "type": "pie"
           }
          ],
          "scatter": [
           {
            "fillpattern": {
             "fillmode": "overlay",
             "size": 10,
             "solidity": 0.2
            },
            "type": "scatter"
           }
          ],
          "scatter3d": [
           {
            "line": {
             "colorbar": {
              "outlinewidth": 0,
              "ticks": ""
             }
            },
            "marker": {
             "colorbar": {
              "outlinewidth": 0,
              "ticks": ""
             }
            },
            "type": "scatter3d"
           }
          ],
          "scattercarpet": [
           {
            "marker": {
             "colorbar": {
              "outlinewidth": 0,
              "ticks": ""
             }
            },
            "type": "scattercarpet"
           }
          ],
          "scattergeo": [
           {
            "marker": {
             "colorbar": {
              "outlinewidth": 0,
              "ticks": ""
             }
            },
            "type": "scattergeo"
           }
          ],
          "scattergl": [
           {
            "marker": {
             "colorbar": {
              "outlinewidth": 0,
              "ticks": ""
             }
            },
            "type": "scattergl"
           }
          ],
          "scattermapbox": [
           {
            "marker": {
             "colorbar": {
              "outlinewidth": 0,
              "ticks": ""
             }
            },
            "type": "scattermapbox"
           }
          ],
          "scatterpolar": [
           {
            "marker": {
             "colorbar": {
              "outlinewidth": 0,
              "ticks": ""
             }
            },
            "type": "scatterpolar"
           }
          ],
          "scatterpolargl": [
           {
            "marker": {
             "colorbar": {
              "outlinewidth": 0,
              "ticks": ""
             }
            },
            "type": "scatterpolargl"
           }
          ],
          "scatterternary": [
           {
            "marker": {
             "colorbar": {
              "outlinewidth": 0,
              "ticks": ""
             }
            },
            "type": "scatterternary"
           }
          ],
          "surface": [
           {
            "colorbar": {
             "outlinewidth": 0,
             "ticks": ""
            },
            "colorscale": [
             [
              0,
              "#0d0887"
             ],
             [
              0.1111111111111111,
              "#46039f"
             ],
             [
              0.2222222222222222,
              "#7201a8"
             ],
             [
              0.3333333333333333,
              "#9c179e"
             ],
             [
              0.4444444444444444,
              "#bd3786"
             ],
             [
              0.5555555555555556,
              "#d8576b"
             ],
             [
              0.6666666666666666,
              "#ed7953"
             ],
             [
              0.7777777777777778,
              "#fb9f3a"
             ],
             [
              0.8888888888888888,
              "#fdca26"
             ],
             [
              1,
              "#f0f921"
             ]
            ],
            "type": "surface"
           }
          ],
          "table": [
           {
            "cells": {
             "fill": {
              "color": "#EBF0F8"
             },
             "line": {
              "color": "white"
             }
            },
            "header": {
             "fill": {
              "color": "#C8D4E3"
             },
             "line": {
              "color": "white"
             }
            },
            "type": "table"
           }
          ]
         },
         "layout": {
          "annotationdefaults": {
           "arrowcolor": "#2a3f5f",
           "arrowhead": 0,
           "arrowwidth": 1
          },
          "autotypenumbers": "strict",
          "coloraxis": {
           "colorbar": {
            "outlinewidth": 0,
            "ticks": ""
           }
          },
          "colorscale": {
           "diverging": [
            [
             0,
             "#8e0152"
            ],
            [
             0.1,
             "#c51b7d"
            ],
            [
             0.2,
             "#de77ae"
            ],
            [
             0.3,
             "#f1b6da"
            ],
            [
             0.4,
             "#fde0ef"
            ],
            [
             0.5,
             "#f7f7f7"
            ],
            [
             0.6,
             "#e6f5d0"
            ],
            [
             0.7,
             "#b8e186"
            ],
            [
             0.8,
             "#7fbc41"
            ],
            [
             0.9,
             "#4d9221"
            ],
            [
             1,
             "#276419"
            ]
           ],
           "sequential": [
            [
             0,
             "#0d0887"
            ],
            [
             0.1111111111111111,
             "#46039f"
            ],
            [
             0.2222222222222222,
             "#7201a8"
            ],
            [
             0.3333333333333333,
             "#9c179e"
            ],
            [
             0.4444444444444444,
             "#bd3786"
            ],
            [
             0.5555555555555556,
             "#d8576b"
            ],
            [
             0.6666666666666666,
             "#ed7953"
            ],
            [
             0.7777777777777778,
             "#fb9f3a"
            ],
            [
             0.8888888888888888,
             "#fdca26"
            ],
            [
             1,
             "#f0f921"
            ]
           ],
           "sequentialminus": [
            [
             0,
             "#0d0887"
            ],
            [
             0.1111111111111111,
             "#46039f"
            ],
            [
             0.2222222222222222,
             "#7201a8"
            ],
            [
             0.3333333333333333,
             "#9c179e"
            ],
            [
             0.4444444444444444,
             "#bd3786"
            ],
            [
             0.5555555555555556,
             "#d8576b"
            ],
            [
             0.6666666666666666,
             "#ed7953"
            ],
            [
             0.7777777777777778,
             "#fb9f3a"
            ],
            [
             0.8888888888888888,
             "#fdca26"
            ],
            [
             1,
             "#f0f921"
            ]
           ]
          },
          "colorway": [
           "#636efa",
           "#EF553B",
           "#00cc96",
           "#ab63fa",
           "#FFA15A",
           "#19d3f3",
           "#FF6692",
           "#B6E880",
           "#FF97FF",
           "#FECB52"
          ],
          "font": {
           "color": "#2a3f5f"
          },
          "geo": {
           "bgcolor": "white",
           "lakecolor": "white",
           "landcolor": "#E5ECF6",
           "showlakes": true,
           "showland": true,
           "subunitcolor": "white"
          },
          "hoverlabel": {
           "align": "left"
          },
          "hovermode": "closest",
          "mapbox": {
           "style": "light"
          },
          "paper_bgcolor": "white",
          "plot_bgcolor": "#E5ECF6",
          "polar": {
           "angularaxis": {
            "gridcolor": "white",
            "linecolor": "white",
            "ticks": ""
           },
           "bgcolor": "#E5ECF6",
           "radialaxis": {
            "gridcolor": "white",
            "linecolor": "white",
            "ticks": ""
           }
          },
          "scene": {
           "xaxis": {
            "backgroundcolor": "#E5ECF6",
            "gridcolor": "white",
            "gridwidth": 2,
            "linecolor": "white",
            "showbackground": true,
            "ticks": "",
            "zerolinecolor": "white"
           },
           "yaxis": {
            "backgroundcolor": "#E5ECF6",
            "gridcolor": "white",
            "gridwidth": 2,
            "linecolor": "white",
            "showbackground": true,
            "ticks": "",
            "zerolinecolor": "white"
           },
           "zaxis": {
            "backgroundcolor": "#E5ECF6",
            "gridcolor": "white",
            "gridwidth": 2,
            "linecolor": "white",
            "showbackground": true,
            "ticks": "",
            "zerolinecolor": "white"
           }
          },
          "shapedefaults": {
           "line": {
            "color": "#2a3f5f"
           }
          },
          "ternary": {
           "aaxis": {
            "gridcolor": "white",
            "linecolor": "white",
            "ticks": ""
           },
           "baxis": {
            "gridcolor": "white",
            "linecolor": "white",
            "ticks": ""
           },
           "bgcolor": "#E5ECF6",
           "caxis": {
            "gridcolor": "white",
            "linecolor": "white",
            "ticks": ""
           }
          },
          "title": {
           "x": 0.05
          },
          "xaxis": {
           "automargin": true,
           "gridcolor": "white",
           "linecolor": "white",
           "ticks": "",
           "title": {
            "standoff": 15
           },
           "zerolinecolor": "white",
           "zerolinewidth": 2
          },
          "yaxis": {
           "automargin": true,
           "gridcolor": "white",
           "linecolor": "white",
           "ticks": "",
           "title": {
            "standoff": 15
           },
           "zerolinecolor": "white",
           "zerolinewidth": 2
          }
         }
        }
       }
      }
     },
     "metadata": {},
     "output_type": "display_data"
    }
   ],
   "source": [
    "plotPCA(data_combat)"
   ]
  },
  {
   "cell_type": "markdown",
   "metadata": {},
   "source": [
    "### limma - removeBatchEffect"
   ]
  },
  {
   "cell_type": "code",
   "execution_count": 4,
   "metadata": {},
   "outputs": [],
   "source": [
    "data_limma = correctLimma_rBE(data, covariates_labels = [\"tissue\"])"
   ]
  },
  {
   "cell_type": "code",
   "execution_count": 31,
   "metadata": {},
   "outputs": [
    {
     "data": {
      "application/vnd.plotly.v1+json": {
       "config": {
        "plotlyServerURL": "https://plot.ly"
       },
       "data": [
        {
         "legendgroup": "1",
         "legendgrouptitle": {
          "text": "Batch 1"
         },
         "marker": {
          "color": [
           "blue",
           "blue",
           "blue",
           "blue",
           "blue",
           "blue",
           "blue",
           "blue"
          ],
          "size": 8,
          "symbol": [
           "circle",
           "circle",
           "circle",
           "circle",
           "circle",
           "circle",
           "circle",
           "circle"
          ]
         },
         "mode": "markers",
         "name": "Ectosome",
         "type": "scatter",
         "x": [
          2.8469384981799886,
          3.4213226041276767,
          1.6106031499711289,
          1.5878000867781332,
          2.200724757049943,
          2.1713631935778146,
          2.387678321317582,
          3.0536562257552022
         ],
         "y": [
          -2.0412974586646304,
          -1.954704559201989,
          2.385709378777108,
          2.0234626629911157,
          0.9319921642075715,
          -0.33986675570199426,
          -0.803619387046494,
          -0.6268440529467185
         ]
        },
        {
         "legendgroup": "1",
         "legendgrouptitle": {
          "text": "Batch 1"
         },
         "marker": {
          "color": [
           "blue",
           "blue",
           "blue",
           "blue",
           "blue",
           "blue",
           "blue",
           "blue"
          ],
          "size": 8,
          "symbol": [
           "square",
           "square",
           "square",
           "square",
           "square",
           "square",
           "square",
           "square"
          ]
         },
         "mode": "markers",
         "name": "Choanosome",
         "type": "scatter",
         "x": [
          -2.293115516094052,
          -2.4344798087287947,
          -2.5475873820276465,
          -2.6218336510082305,
          -2.540378779863284,
          -2.3117928329375066,
          -2.361858590879522,
          -2.1690402752184172
         ],
         "y": [
          -0.08684408658994039,
          0.7853811606573463,
          1.5531068056158137,
          1.7671686510246951,
          0.5461756282897438,
          -1.144538148532817,
          -1.3194650975838351,
          -1.6758169052949818
         ]
        },
        {
         "legendgroup": "2",
         "legendgrouptitle": {
          "text": "Batch 2"
         },
         "marker": {
          "color": [
           "red",
           "red",
           "red",
           "red",
           "red",
           "red",
           "red",
           "red"
          ],
          "size": 8,
          "symbol": [
           "circle",
           "circle",
           "circle",
           "circle",
           "circle",
           "circle",
           "circle",
           "circle"
          ]
         },
         "mode": "markers",
         "name": "Ectosome",
         "type": "scatter",
         "x": [
          3.616251888471696,
          2.962326734820118,
          3.947572673666513,
          2.026281821749927,
          2.9442834518152514,
          3.1302214636035455,
          3.5840113549809476,
          2.8105615207046273
         ],
         "y": [
          0.03926569417278679,
          1.3608967181888845,
          0.028421946127273435,
          2.099811087764901,
          -0.274761687208193,
          -0.5260196490653157,
          0.016749553034220727,
          -0.6254010679001469
         ]
        },
        {
         "legendgroup": "2",
         "legendgrouptitle": {
          "text": "Batch 2"
         },
         "marker": {
          "color": [
           "red",
           "red",
           "red",
           "red",
           "red",
           "red",
           "red",
           "red"
          ],
          "size": 8,
          "symbol": [
           "square",
           "square",
           "square",
           "square",
           "square",
           "square",
           "square",
           "square"
          ]
         },
         "mode": "markers",
         "name": "Choanosome",
         "type": "scatter",
         "x": [
          -3.267143953446327,
          -3.268249073184255,
          -3.2273925519782223,
          -3.248218067663604,
          -3.0270673133868313,
          -2.9106155758593992,
          -2.9509098859017793,
          -3.1219144883922194
         ],
         "y": [
          0.03184243698507932,
          0.3289976635966071,
          0.4711348532012246,
          0.9630508308683612,
          0.40809025290511297,
          -1.776183901221822,
          -1.081868495377181,
          -1.4640262360717895
         ]
        }
       ],
       "layout": {
        "template": {
         "data": {
          "bar": [
           {
            "error_x": {
             "color": "#2a3f5f"
            },
            "error_y": {
             "color": "#2a3f5f"
            },
            "marker": {
             "line": {
              "color": "#E5ECF6",
              "width": 0.5
             },
             "pattern": {
              "fillmode": "overlay",
              "size": 10,
              "solidity": 0.2
             }
            },
            "type": "bar"
           }
          ],
          "barpolar": [
           {
            "marker": {
             "line": {
              "color": "#E5ECF6",
              "width": 0.5
             },
             "pattern": {
              "fillmode": "overlay",
              "size": 10,
              "solidity": 0.2
             }
            },
            "type": "barpolar"
           }
          ],
          "carpet": [
           {
            "aaxis": {
             "endlinecolor": "#2a3f5f",
             "gridcolor": "white",
             "linecolor": "white",
             "minorgridcolor": "white",
             "startlinecolor": "#2a3f5f"
            },
            "baxis": {
             "endlinecolor": "#2a3f5f",
             "gridcolor": "white",
             "linecolor": "white",
             "minorgridcolor": "white",
             "startlinecolor": "#2a3f5f"
            },
            "type": "carpet"
           }
          ],
          "choropleth": [
           {
            "colorbar": {
             "outlinewidth": 0,
             "ticks": ""
            },
            "type": "choropleth"
           }
          ],
          "contour": [
           {
            "colorbar": {
             "outlinewidth": 0,
             "ticks": ""
            },
            "colorscale": [
             [
              0,
              "#0d0887"
             ],
             [
              0.1111111111111111,
              "#46039f"
             ],
             [
              0.2222222222222222,
              "#7201a8"
             ],
             [
              0.3333333333333333,
              "#9c179e"
             ],
             [
              0.4444444444444444,
              "#bd3786"
             ],
             [
              0.5555555555555556,
              "#d8576b"
             ],
             [
              0.6666666666666666,
              "#ed7953"
             ],
             [
              0.7777777777777778,
              "#fb9f3a"
             ],
             [
              0.8888888888888888,
              "#fdca26"
             ],
             [
              1,
              "#f0f921"
             ]
            ],
            "type": "contour"
           }
          ],
          "contourcarpet": [
           {
            "colorbar": {
             "outlinewidth": 0,
             "ticks": ""
            },
            "type": "contourcarpet"
           }
          ],
          "heatmap": [
           {
            "colorbar": {
             "outlinewidth": 0,
             "ticks": ""
            },
            "colorscale": [
             [
              0,
              "#0d0887"
             ],
             [
              0.1111111111111111,
              "#46039f"
             ],
             [
              0.2222222222222222,
              "#7201a8"
             ],
             [
              0.3333333333333333,
              "#9c179e"
             ],
             [
              0.4444444444444444,
              "#bd3786"
             ],
             [
              0.5555555555555556,
              "#d8576b"
             ],
             [
              0.6666666666666666,
              "#ed7953"
             ],
             [
              0.7777777777777778,
              "#fb9f3a"
             ],
             [
              0.8888888888888888,
              "#fdca26"
             ],
             [
              1,
              "#f0f921"
             ]
            ],
            "type": "heatmap"
           }
          ],
          "heatmapgl": [
           {
            "colorbar": {
             "outlinewidth": 0,
             "ticks": ""
            },
            "colorscale": [
             [
              0,
              "#0d0887"
             ],
             [
              0.1111111111111111,
              "#46039f"
             ],
             [
              0.2222222222222222,
              "#7201a8"
             ],
             [
              0.3333333333333333,
              "#9c179e"
             ],
             [
              0.4444444444444444,
              "#bd3786"
             ],
             [
              0.5555555555555556,
              "#d8576b"
             ],
             [
              0.6666666666666666,
              "#ed7953"
             ],
             [
              0.7777777777777778,
              "#fb9f3a"
             ],
             [
              0.8888888888888888,
              "#fdca26"
             ],
             [
              1,
              "#f0f921"
             ]
            ],
            "type": "heatmapgl"
           }
          ],
          "histogram": [
           {
            "marker": {
             "pattern": {
              "fillmode": "overlay",
              "size": 10,
              "solidity": 0.2
             }
            },
            "type": "histogram"
           }
          ],
          "histogram2d": [
           {
            "colorbar": {
             "outlinewidth": 0,
             "ticks": ""
            },
            "colorscale": [
             [
              0,
              "#0d0887"
             ],
             [
              0.1111111111111111,
              "#46039f"
             ],
             [
              0.2222222222222222,
              "#7201a8"
             ],
             [
              0.3333333333333333,
              "#9c179e"
             ],
             [
              0.4444444444444444,
              "#bd3786"
             ],
             [
              0.5555555555555556,
              "#d8576b"
             ],
             [
              0.6666666666666666,
              "#ed7953"
             ],
             [
              0.7777777777777778,
              "#fb9f3a"
             ],
             [
              0.8888888888888888,
              "#fdca26"
             ],
             [
              1,
              "#f0f921"
             ]
            ],
            "type": "histogram2d"
           }
          ],
          "histogram2dcontour": [
           {
            "colorbar": {
             "outlinewidth": 0,
             "ticks": ""
            },
            "colorscale": [
             [
              0,
              "#0d0887"
             ],
             [
              0.1111111111111111,
              "#46039f"
             ],
             [
              0.2222222222222222,
              "#7201a8"
             ],
             [
              0.3333333333333333,
              "#9c179e"
             ],
             [
              0.4444444444444444,
              "#bd3786"
             ],
             [
              0.5555555555555556,
              "#d8576b"
             ],
             [
              0.6666666666666666,
              "#ed7953"
             ],
             [
              0.7777777777777778,
              "#fb9f3a"
             ],
             [
              0.8888888888888888,
              "#fdca26"
             ],
             [
              1,
              "#f0f921"
             ]
            ],
            "type": "histogram2dcontour"
           }
          ],
          "mesh3d": [
           {
            "colorbar": {
             "outlinewidth": 0,
             "ticks": ""
            },
            "type": "mesh3d"
           }
          ],
          "parcoords": [
           {
            "line": {
             "colorbar": {
              "outlinewidth": 0,
              "ticks": ""
             }
            },
            "type": "parcoords"
           }
          ],
          "pie": [
           {
            "automargin": true,
            "type": "pie"
           }
          ],
          "scatter": [
           {
            "fillpattern": {
             "fillmode": "overlay",
             "size": 10,
             "solidity": 0.2
            },
            "type": "scatter"
           }
          ],
          "scatter3d": [
           {
            "line": {
             "colorbar": {
              "outlinewidth": 0,
              "ticks": ""
             }
            },
            "marker": {
             "colorbar": {
              "outlinewidth": 0,
              "ticks": ""
             }
            },
            "type": "scatter3d"
           }
          ],
          "scattercarpet": [
           {
            "marker": {
             "colorbar": {
              "outlinewidth": 0,
              "ticks": ""
             }
            },
            "type": "scattercarpet"
           }
          ],
          "scattergeo": [
           {
            "marker": {
             "colorbar": {
              "outlinewidth": 0,
              "ticks": ""
             }
            },
            "type": "scattergeo"
           }
          ],
          "scattergl": [
           {
            "marker": {
             "colorbar": {
              "outlinewidth": 0,
              "ticks": ""
             }
            },
            "type": "scattergl"
           }
          ],
          "scattermapbox": [
           {
            "marker": {
             "colorbar": {
              "outlinewidth": 0,
              "ticks": ""
             }
            },
            "type": "scattermapbox"
           }
          ],
          "scatterpolar": [
           {
            "marker": {
             "colorbar": {
              "outlinewidth": 0,
              "ticks": ""
             }
            },
            "type": "scatterpolar"
           }
          ],
          "scatterpolargl": [
           {
            "marker": {
             "colorbar": {
              "outlinewidth": 0,
              "ticks": ""
             }
            },
            "type": "scatterpolargl"
           }
          ],
          "scatterternary": [
           {
            "marker": {
             "colorbar": {
              "outlinewidth": 0,
              "ticks": ""
             }
            },
            "type": "scatterternary"
           }
          ],
          "surface": [
           {
            "colorbar": {
             "outlinewidth": 0,
             "ticks": ""
            },
            "colorscale": [
             [
              0,
              "#0d0887"
             ],
             [
              0.1111111111111111,
              "#46039f"
             ],
             [
              0.2222222222222222,
              "#7201a8"
             ],
             [
              0.3333333333333333,
              "#9c179e"
             ],
             [
              0.4444444444444444,
              "#bd3786"
             ],
             [
              0.5555555555555556,
              "#d8576b"
             ],
             [
              0.6666666666666666,
              "#ed7953"
             ],
             [
              0.7777777777777778,
              "#fb9f3a"
             ],
             [
              0.8888888888888888,
              "#fdca26"
             ],
             [
              1,
              "#f0f921"
             ]
            ],
            "type": "surface"
           }
          ],
          "table": [
           {
            "cells": {
             "fill": {
              "color": "#EBF0F8"
             },
             "line": {
              "color": "white"
             }
            },
            "header": {
             "fill": {
              "color": "#C8D4E3"
             },
             "line": {
              "color": "white"
             }
            },
            "type": "table"
           }
          ]
         },
         "layout": {
          "annotationdefaults": {
           "arrowcolor": "#2a3f5f",
           "arrowhead": 0,
           "arrowwidth": 1
          },
          "autotypenumbers": "strict",
          "coloraxis": {
           "colorbar": {
            "outlinewidth": 0,
            "ticks": ""
           }
          },
          "colorscale": {
           "diverging": [
            [
             0,
             "#8e0152"
            ],
            [
             0.1,
             "#c51b7d"
            ],
            [
             0.2,
             "#de77ae"
            ],
            [
             0.3,
             "#f1b6da"
            ],
            [
             0.4,
             "#fde0ef"
            ],
            [
             0.5,
             "#f7f7f7"
            ],
            [
             0.6,
             "#e6f5d0"
            ],
            [
             0.7,
             "#b8e186"
            ],
            [
             0.8,
             "#7fbc41"
            ],
            [
             0.9,
             "#4d9221"
            ],
            [
             1,
             "#276419"
            ]
           ],
           "sequential": [
            [
             0,
             "#0d0887"
            ],
            [
             0.1111111111111111,
             "#46039f"
            ],
            [
             0.2222222222222222,
             "#7201a8"
            ],
            [
             0.3333333333333333,
             "#9c179e"
            ],
            [
             0.4444444444444444,
             "#bd3786"
            ],
            [
             0.5555555555555556,
             "#d8576b"
            ],
            [
             0.6666666666666666,
             "#ed7953"
            ],
            [
             0.7777777777777778,
             "#fb9f3a"
            ],
            [
             0.8888888888888888,
             "#fdca26"
            ],
            [
             1,
             "#f0f921"
            ]
           ],
           "sequentialminus": [
            [
             0,
             "#0d0887"
            ],
            [
             0.1111111111111111,
             "#46039f"
            ],
            [
             0.2222222222222222,
             "#7201a8"
            ],
            [
             0.3333333333333333,
             "#9c179e"
            ],
            [
             0.4444444444444444,
             "#bd3786"
            ],
            [
             0.5555555555555556,
             "#d8576b"
            ],
            [
             0.6666666666666666,
             "#ed7953"
            ],
            [
             0.7777777777777778,
             "#fb9f3a"
            ],
            [
             0.8888888888888888,
             "#fdca26"
            ],
            [
             1,
             "#f0f921"
            ]
           ]
          },
          "colorway": [
           "#636efa",
           "#EF553B",
           "#00cc96",
           "#ab63fa",
           "#FFA15A",
           "#19d3f3",
           "#FF6692",
           "#B6E880",
           "#FF97FF",
           "#FECB52"
          ],
          "font": {
           "color": "#2a3f5f"
          },
          "geo": {
           "bgcolor": "white",
           "lakecolor": "white",
           "landcolor": "#E5ECF6",
           "showlakes": true,
           "showland": true,
           "subunitcolor": "white"
          },
          "hoverlabel": {
           "align": "left"
          },
          "hovermode": "closest",
          "mapbox": {
           "style": "light"
          },
          "paper_bgcolor": "white",
          "plot_bgcolor": "#E5ECF6",
          "polar": {
           "angularaxis": {
            "gridcolor": "white",
            "linecolor": "white",
            "ticks": ""
           },
           "bgcolor": "#E5ECF6",
           "radialaxis": {
            "gridcolor": "white",
            "linecolor": "white",
            "ticks": ""
           }
          },
          "scene": {
           "xaxis": {
            "backgroundcolor": "#E5ECF6",
            "gridcolor": "white",
            "gridwidth": 2,
            "linecolor": "white",
            "showbackground": true,
            "ticks": "",
            "zerolinecolor": "white"
           },
           "yaxis": {
            "backgroundcolor": "#E5ECF6",
            "gridcolor": "white",
            "gridwidth": 2,
            "linecolor": "white",
            "showbackground": true,
            "ticks": "",
            "zerolinecolor": "white"
           },
           "zaxis": {
            "backgroundcolor": "#E5ECF6",
            "gridcolor": "white",
            "gridwidth": 2,
            "linecolor": "white",
            "showbackground": true,
            "ticks": "",
            "zerolinecolor": "white"
           }
          },
          "shapedefaults": {
           "line": {
            "color": "#2a3f5f"
           }
          },
          "ternary": {
           "aaxis": {
            "gridcolor": "white",
            "linecolor": "white",
            "ticks": ""
           },
           "baxis": {
            "gridcolor": "white",
            "linecolor": "white",
            "ticks": ""
           },
           "bgcolor": "#E5ECF6",
           "caxis": {
            "gridcolor": "white",
            "linecolor": "white",
            "ticks": ""
           }
          },
          "title": {
           "x": 0.05
          },
          "xaxis": {
           "automargin": true,
           "gridcolor": "white",
           "linecolor": "white",
           "ticks": "",
           "title": {
            "standoff": 15
           },
           "zerolinecolor": "white",
           "zerolinewidth": 2
          },
          "yaxis": {
           "automargin": true,
           "gridcolor": "white",
           "linecolor": "white",
           "ticks": "",
           "title": {
            "standoff": 15
           },
           "zerolinecolor": "white",
           "zerolinewidth": 2
          }
         }
        }
       }
      }
     },
     "metadata": {},
     "output_type": "display_data"
    }
   ],
   "source": [
    "plotPCA(data_limma)"
   ]
  },
  {
   "cell_type": "markdown",
   "metadata": {},
   "source": [
    "### SVD"
   ]
  },
  {
   "cell_type": "code",
   "execution_count": 5,
   "metadata": {},
   "outputs": [
    {
     "name": "stderr",
     "output_type": "stream",
     "text": [
      "/Users/s243564/BECA-1/BatchEffectCorrection.py:98: FutureWarning: Series.__getitem__ treating keys as positions is deprecated. In a future version, integer keys will always be treated as labels (consistent with DataFrame behavior). To access a value by position, use `ser.iloc[pos]`\n",
      "  corrected_data[:, i] = svd_deflated_matrix[:, i] * otu_sd[i] + otu_mu[i]\n"
     ]
    }
   ],
   "source": [
    "data_SVD = correctSVD(data)"
   ]
  },
  {
   "cell_type": "code",
   "execution_count": 5,
   "metadata": {},
   "outputs": [
    {
     "data": {
      "application/vnd.plotly.v1+json": {
       "config": {
        "plotlyServerURL": "https://plot.ly"
       },
       "data": [
        {
         "legendgroup": "1",
         "legendgrouptitle": {
          "text": "Batch 1"
         },
         "marker": {
          "color": [
           "blue",
           "blue",
           "blue",
           "blue",
           "blue",
           "blue",
           "blue",
           "blue"
          ],
          "size": 8,
          "symbol": [
           "circle",
           "circle",
           "circle",
           "circle",
           "circle",
           "circle",
           "circle",
           "circle"
          ]
         },
         "mode": "markers",
         "name": "Ectosome",
         "type": "scatter",
         "x": [
          1.7407907514786192,
          1.5057241888164221,
          2.9854795519184174,
          2.7689838745492334,
          3.294829008535732,
          3.244867641528327,
          2.5081105957424215,
          1.8189759098683538
         ],
         "y": [
          -1.5201179006364525,
          -1.7700987466086775,
          2.7251708414623983,
          2.4933259842531554,
          0.7800607738768168,
          -0.5369559712942639,
          -0.6614316425759997,
          -1.2574663780976016
         ]
        },
        {
         "legendgroup": "1",
         "legendgrouptitle": {
          "text": "Batch 1"
         },
         "marker": {
          "color": [
           "blue",
           "blue",
           "blue",
           "blue",
           "blue",
           "blue",
           "blue",
           "blue"
          ],
          "size": 8,
          "symbol": [
           "square",
           "square",
           "square",
           "square",
           "square",
           "square",
           "square",
           "square"
          ]
         },
         "mode": "markers",
         "name": "Choanosome",
         "type": "scatter",
         "x": [
          0.8854152929120616,
          1.5004528401955965,
          0.8856951003002711,
          0.6243495107166596,
          0.9724565418508135,
          0.010459490425886864,
          0.4493097766622786,
          0.43704260858141786
         ],
         "y": [
          -1.2210114564009489,
          -0.4974284889579038,
          0.8891545243332816,
          1.0117867929419706,
          -0.25211615157671047,
          -2.2088225334391054,
          -2.3318435641528628,
          -2.621258583143458
         ]
        },
        {
         "legendgroup": "2",
         "legendgrouptitle": {
          "text": "Batch 2"
         },
         "marker": {
          "color": [
           "red",
           "red",
           "red",
           "red",
           "red",
           "red",
           "red",
           "red"
          ],
          "size": 8,
          "symbol": [
           "circle",
           "circle",
           "circle",
           "circle",
           "circle",
           "circle",
           "circle",
           "circle"
          ]
         },
         "mode": "markers",
         "name": "Ectosome",
         "type": "scatter",
         "x": [
          0.8267603645632694,
          0.8087393736350538,
          0.6191610494221643,
          1.1440479578715061,
          -0.5888934318149912,
          -0.4736758568391075,
          -0.7770871587410277,
          -0.3566606864404806
         ],
         "y": [
          -0.9393030504772074,
          0.7906191566105757,
          -0.09039005365282028,
          2.153096602639067,
          0.9564558529675727,
          0.8226220721923507,
          0.3538882398582089,
          1.1496638795525307
         ]
        },
        {
         "legendgroup": "2",
         "legendgrouptitle": {
          "text": "Batch 2"
         },
         "marker": {
          "color": [
           "red",
           "red",
           "red",
           "red",
           "red",
           "red",
           "red",
           "red"
          ],
          "size": 8,
          "symbol": [
           "square",
           "square",
           "square",
           "square",
           "square",
           "square",
           "square",
           "square"
          ]
         },
         "mode": "markers",
         "name": "Choanosome",
         "type": "scatter",
         "x": [
          -3.0902822069983253,
          -2.0319845155573457,
          -2.2937366624844926,
          -2.233071821339061,
          -4.2812281859404955,
          -4.219311858570007,
          -3.611268988590463,
          -5.074450056258707
         ],
         "y": [
          -0.23619141193457105,
          -0.003861352884836358,
          0.8820841286307715,
          0.9086796933556399,
          0.9345463733896068,
          -0.9413911872872053,
          0.12422115868481728,
          0.11431239837185964
         ]
        }
       ],
       "layout": {
        "template": {
         "data": {
          "bar": [
           {
            "error_x": {
             "color": "#2a3f5f"
            },
            "error_y": {
             "color": "#2a3f5f"
            },
            "marker": {
             "line": {
              "color": "#E5ECF6",
              "width": 0.5
             },
             "pattern": {
              "fillmode": "overlay",
              "size": 10,
              "solidity": 0.2
             }
            },
            "type": "bar"
           }
          ],
          "barpolar": [
           {
            "marker": {
             "line": {
              "color": "#E5ECF6",
              "width": 0.5
             },
             "pattern": {
              "fillmode": "overlay",
              "size": 10,
              "solidity": 0.2
             }
            },
            "type": "barpolar"
           }
          ],
          "carpet": [
           {
            "aaxis": {
             "endlinecolor": "#2a3f5f",
             "gridcolor": "white",
             "linecolor": "white",
             "minorgridcolor": "white",
             "startlinecolor": "#2a3f5f"
            },
            "baxis": {
             "endlinecolor": "#2a3f5f",
             "gridcolor": "white",
             "linecolor": "white",
             "minorgridcolor": "white",
             "startlinecolor": "#2a3f5f"
            },
            "type": "carpet"
           }
          ],
          "choropleth": [
           {
            "colorbar": {
             "outlinewidth": 0,
             "ticks": ""
            },
            "type": "choropleth"
           }
          ],
          "contour": [
           {
            "colorbar": {
             "outlinewidth": 0,
             "ticks": ""
            },
            "colorscale": [
             [
              0,
              "#0d0887"
             ],
             [
              0.1111111111111111,
              "#46039f"
             ],
             [
              0.2222222222222222,
              "#7201a8"
             ],
             [
              0.3333333333333333,
              "#9c179e"
             ],
             [
              0.4444444444444444,
              "#bd3786"
             ],
             [
              0.5555555555555556,
              "#d8576b"
             ],
             [
              0.6666666666666666,
              "#ed7953"
             ],
             [
              0.7777777777777778,
              "#fb9f3a"
             ],
             [
              0.8888888888888888,
              "#fdca26"
             ],
             [
              1,
              "#f0f921"
             ]
            ],
            "type": "contour"
           }
          ],
          "contourcarpet": [
           {
            "colorbar": {
             "outlinewidth": 0,
             "ticks": ""
            },
            "type": "contourcarpet"
           }
          ],
          "heatmap": [
           {
            "colorbar": {
             "outlinewidth": 0,
             "ticks": ""
            },
            "colorscale": [
             [
              0,
              "#0d0887"
             ],
             [
              0.1111111111111111,
              "#46039f"
             ],
             [
              0.2222222222222222,
              "#7201a8"
             ],
             [
              0.3333333333333333,
              "#9c179e"
             ],
             [
              0.4444444444444444,
              "#bd3786"
             ],
             [
              0.5555555555555556,
              "#d8576b"
             ],
             [
              0.6666666666666666,
              "#ed7953"
             ],
             [
              0.7777777777777778,
              "#fb9f3a"
             ],
             [
              0.8888888888888888,
              "#fdca26"
             ],
             [
              1,
              "#f0f921"
             ]
            ],
            "type": "heatmap"
           }
          ],
          "heatmapgl": [
           {
            "colorbar": {
             "outlinewidth": 0,
             "ticks": ""
            },
            "colorscale": [
             [
              0,
              "#0d0887"
             ],
             [
              0.1111111111111111,
              "#46039f"
             ],
             [
              0.2222222222222222,
              "#7201a8"
             ],
             [
              0.3333333333333333,
              "#9c179e"
             ],
             [
              0.4444444444444444,
              "#bd3786"
             ],
             [
              0.5555555555555556,
              "#d8576b"
             ],
             [
              0.6666666666666666,
              "#ed7953"
             ],
             [
              0.7777777777777778,
              "#fb9f3a"
             ],
             [
              0.8888888888888888,
              "#fdca26"
             ],
             [
              1,
              "#f0f921"
             ]
            ],
            "type": "heatmapgl"
           }
          ],
          "histogram": [
           {
            "marker": {
             "pattern": {
              "fillmode": "overlay",
              "size": 10,
              "solidity": 0.2
             }
            },
            "type": "histogram"
           }
          ],
          "histogram2d": [
           {
            "colorbar": {
             "outlinewidth": 0,
             "ticks": ""
            },
            "colorscale": [
             [
              0,
              "#0d0887"
             ],
             [
              0.1111111111111111,
              "#46039f"
             ],
             [
              0.2222222222222222,
              "#7201a8"
             ],
             [
              0.3333333333333333,
              "#9c179e"
             ],
             [
              0.4444444444444444,
              "#bd3786"
             ],
             [
              0.5555555555555556,
              "#d8576b"
             ],
             [
              0.6666666666666666,
              "#ed7953"
             ],
             [
              0.7777777777777778,
              "#fb9f3a"
             ],
             [
              0.8888888888888888,
              "#fdca26"
             ],
             [
              1,
              "#f0f921"
             ]
            ],
            "type": "histogram2d"
           }
          ],
          "histogram2dcontour": [
           {
            "colorbar": {
             "outlinewidth": 0,
             "ticks": ""
            },
            "colorscale": [
             [
              0,
              "#0d0887"
             ],
             [
              0.1111111111111111,
              "#46039f"
             ],
             [
              0.2222222222222222,
              "#7201a8"
             ],
             [
              0.3333333333333333,
              "#9c179e"
             ],
             [
              0.4444444444444444,
              "#bd3786"
             ],
             [
              0.5555555555555556,
              "#d8576b"
             ],
             [
              0.6666666666666666,
              "#ed7953"
             ],
             [
              0.7777777777777778,
              "#fb9f3a"
             ],
             [
              0.8888888888888888,
              "#fdca26"
             ],
             [
              1,
              "#f0f921"
             ]
            ],
            "type": "histogram2dcontour"
           }
          ],
          "mesh3d": [
           {
            "colorbar": {
             "outlinewidth": 0,
             "ticks": ""
            },
            "type": "mesh3d"
           }
          ],
          "parcoords": [
           {
            "line": {
             "colorbar": {
              "outlinewidth": 0,
              "ticks": ""
             }
            },
            "type": "parcoords"
           }
          ],
          "pie": [
           {
            "automargin": true,
            "type": "pie"
           }
          ],
          "scatter": [
           {
            "fillpattern": {
             "fillmode": "overlay",
             "size": 10,
             "solidity": 0.2
            },
            "type": "scatter"
           }
          ],
          "scatter3d": [
           {
            "line": {
             "colorbar": {
              "outlinewidth": 0,
              "ticks": ""
             }
            },
            "marker": {
             "colorbar": {
              "outlinewidth": 0,
              "ticks": ""
             }
            },
            "type": "scatter3d"
           }
          ],
          "scattercarpet": [
           {
            "marker": {
             "colorbar": {
              "outlinewidth": 0,
              "ticks": ""
             }
            },
            "type": "scattercarpet"
           }
          ],
          "scattergeo": [
           {
            "marker": {
             "colorbar": {
              "outlinewidth": 0,
              "ticks": ""
             }
            },
            "type": "scattergeo"
           }
          ],
          "scattergl": [
           {
            "marker": {
             "colorbar": {
              "outlinewidth": 0,
              "ticks": ""
             }
            },
            "type": "scattergl"
           }
          ],
          "scattermapbox": [
           {
            "marker": {
             "colorbar": {
              "outlinewidth": 0,
              "ticks": ""
             }
            },
            "type": "scattermapbox"
           }
          ],
          "scatterpolar": [
           {
            "marker": {
             "colorbar": {
              "outlinewidth": 0,
              "ticks": ""
             }
            },
            "type": "scatterpolar"
           }
          ],
          "scatterpolargl": [
           {
            "marker": {
             "colorbar": {
              "outlinewidth": 0,
              "ticks": ""
             }
            },
            "type": "scatterpolargl"
           }
          ],
          "scatterternary": [
           {
            "marker": {
             "colorbar": {
              "outlinewidth": 0,
              "ticks": ""
             }
            },
            "type": "scatterternary"
           }
          ],
          "surface": [
           {
            "colorbar": {
             "outlinewidth": 0,
             "ticks": ""
            },
            "colorscale": [
             [
              0,
              "#0d0887"
             ],
             [
              0.1111111111111111,
              "#46039f"
             ],
             [
              0.2222222222222222,
              "#7201a8"
             ],
             [
              0.3333333333333333,
              "#9c179e"
             ],
             [
              0.4444444444444444,
              "#bd3786"
             ],
             [
              0.5555555555555556,
              "#d8576b"
             ],
             [
              0.6666666666666666,
              "#ed7953"
             ],
             [
              0.7777777777777778,
              "#fb9f3a"
             ],
             [
              0.8888888888888888,
              "#fdca26"
             ],
             [
              1,
              "#f0f921"
             ]
            ],
            "type": "surface"
           }
          ],
          "table": [
           {
            "cells": {
             "fill": {
              "color": "#EBF0F8"
             },
             "line": {
              "color": "white"
             }
            },
            "header": {
             "fill": {
              "color": "#C8D4E3"
             },
             "line": {
              "color": "white"
             }
            },
            "type": "table"
           }
          ]
         },
         "layout": {
          "annotationdefaults": {
           "arrowcolor": "#2a3f5f",
           "arrowhead": 0,
           "arrowwidth": 1
          },
          "autotypenumbers": "strict",
          "coloraxis": {
           "colorbar": {
            "outlinewidth": 0,
            "ticks": ""
           }
          },
          "colorscale": {
           "diverging": [
            [
             0,
             "#8e0152"
            ],
            [
             0.1,
             "#c51b7d"
            ],
            [
             0.2,
             "#de77ae"
            ],
            [
             0.3,
             "#f1b6da"
            ],
            [
             0.4,
             "#fde0ef"
            ],
            [
             0.5,
             "#f7f7f7"
            ],
            [
             0.6,
             "#e6f5d0"
            ],
            [
             0.7,
             "#b8e186"
            ],
            [
             0.8,
             "#7fbc41"
            ],
            [
             0.9,
             "#4d9221"
            ],
            [
             1,
             "#276419"
            ]
           ],
           "sequential": [
            [
             0,
             "#0d0887"
            ],
            [
             0.1111111111111111,
             "#46039f"
            ],
            [
             0.2222222222222222,
             "#7201a8"
            ],
            [
             0.3333333333333333,
             "#9c179e"
            ],
            [
             0.4444444444444444,
             "#bd3786"
            ],
            [
             0.5555555555555556,
             "#d8576b"
            ],
            [
             0.6666666666666666,
             "#ed7953"
            ],
            [
             0.7777777777777778,
             "#fb9f3a"
            ],
            [
             0.8888888888888888,
             "#fdca26"
            ],
            [
             1,
             "#f0f921"
            ]
           ],
           "sequentialminus": [
            [
             0,
             "#0d0887"
            ],
            [
             0.1111111111111111,
             "#46039f"
            ],
            [
             0.2222222222222222,
             "#7201a8"
            ],
            [
             0.3333333333333333,
             "#9c179e"
            ],
            [
             0.4444444444444444,
             "#bd3786"
            ],
            [
             0.5555555555555556,
             "#d8576b"
            ],
            [
             0.6666666666666666,
             "#ed7953"
            ],
            [
             0.7777777777777778,
             "#fb9f3a"
            ],
            [
             0.8888888888888888,
             "#fdca26"
            ],
            [
             1,
             "#f0f921"
            ]
           ]
          },
          "colorway": [
           "#636efa",
           "#EF553B",
           "#00cc96",
           "#ab63fa",
           "#FFA15A",
           "#19d3f3",
           "#FF6692",
           "#B6E880",
           "#FF97FF",
           "#FECB52"
          ],
          "font": {
           "color": "#2a3f5f"
          },
          "geo": {
           "bgcolor": "white",
           "lakecolor": "white",
           "landcolor": "#E5ECF6",
           "showlakes": true,
           "showland": true,
           "subunitcolor": "white"
          },
          "hoverlabel": {
           "align": "left"
          },
          "hovermode": "closest",
          "mapbox": {
           "style": "light"
          },
          "paper_bgcolor": "white",
          "plot_bgcolor": "#E5ECF6",
          "polar": {
           "angularaxis": {
            "gridcolor": "white",
            "linecolor": "white",
            "ticks": ""
           },
           "bgcolor": "#E5ECF6",
           "radialaxis": {
            "gridcolor": "white",
            "linecolor": "white",
            "ticks": ""
           }
          },
          "scene": {
           "xaxis": {
            "backgroundcolor": "#E5ECF6",
            "gridcolor": "white",
            "gridwidth": 2,
            "linecolor": "white",
            "showbackground": true,
            "ticks": "",
            "zerolinecolor": "white"
           },
           "yaxis": {
            "backgroundcolor": "#E5ECF6",
            "gridcolor": "white",
            "gridwidth": 2,
            "linecolor": "white",
            "showbackground": true,
            "ticks": "",
            "zerolinecolor": "white"
           },
           "zaxis": {
            "backgroundcolor": "#E5ECF6",
            "gridcolor": "white",
            "gridwidth": 2,
            "linecolor": "white",
            "showbackground": true,
            "ticks": "",
            "zerolinecolor": "white"
           }
          },
          "shapedefaults": {
           "line": {
            "color": "#2a3f5f"
           }
          },
          "ternary": {
           "aaxis": {
            "gridcolor": "white",
            "linecolor": "white",
            "ticks": ""
           },
           "baxis": {
            "gridcolor": "white",
            "linecolor": "white",
            "ticks": ""
           },
           "bgcolor": "#E5ECF6",
           "caxis": {
            "gridcolor": "white",
            "linecolor": "white",
            "ticks": ""
           }
          },
          "title": {
           "x": 0.05
          },
          "xaxis": {
           "automargin": true,
           "gridcolor": "white",
           "linecolor": "white",
           "ticks": "",
           "title": {
            "standoff": 15
           },
           "zerolinecolor": "white",
           "zerolinewidth": 2
          },
          "yaxis": {
           "automargin": true,
           "gridcolor": "white",
           "linecolor": "white",
           "ticks": "",
           "title": {
            "standoff": 15
           },
           "zerolinecolor": "white",
           "zerolinewidth": 2
          }
         }
        }
       }
      }
     },
     "metadata": {},
     "output_type": "display_data"
    }
   ],
   "source": [
    "plotPCA(data_SVD)"
   ]
  },
  {
   "cell_type": "markdown",
   "metadata": {},
   "source": [
    "### PLSDA-batch"
   ]
  },
  {
   "cell_type": "code",
   "execution_count": 6,
   "metadata": {},
   "outputs": [],
   "source": [
    "data_PLSDA = correctPLSDA_batch(data)"
   ]
  },
  {
   "cell_type": "code",
   "execution_count": 63,
   "metadata": {},
   "outputs": [
    {
     "data": {
      "application/vnd.plotly.v1+json": {
       "config": {
        "plotlyServerURL": "https://plot.ly"
       },
       "data": [
        {
         "legendgroup": "1",
         "legendgrouptitle": {
          "text": "Batch 1"
         },
         "marker": {
          "color": [
           "blue",
           "blue",
           "blue",
           "blue",
           "blue",
           "blue",
           "blue",
           "blue"
          ],
          "size": 8,
          "symbol": [
           "circle",
           "circle",
           "circle",
           "circle",
           "circle",
           "circle",
           "circle",
           "circle"
          ]
         },
         "mode": "markers",
         "name": "Ectosome",
         "type": "scatter",
         "x": [
          0.7491816524987118,
          0.9647181673806399,
          0.46346009987574216,
          0.43235017124929415,
          0.6573789009875793,
          0.7125472115805601,
          0.7232500540709138,
          0.8406798561687548
         ],
         "y": [
          0.3634850537978542,
          0.43332616937872526,
          -0.6683210011343118,
          -0.6030074810574606,
          -0.3308920537426667,
          -0.11281216844552755,
          0.024754152721509347,
          0.08989090543076557
         ]
        },
        {
         "legendgroup": "1",
         "legendgrouptitle": {
          "text": "Batch 1"
         },
         "marker": {
          "color": [
           "blue",
           "blue",
           "blue",
           "blue",
           "blue",
           "blue",
           "blue",
           "blue"
          ],
          "size": 8,
          "symbol": [
           "square",
           "square",
           "square",
           "square",
           "square",
           "square",
           "square",
           "square"
          ]
         },
         "mode": "markers",
         "name": "Choanosome",
         "type": "scatter",
         "x": [
          -0.3081797630719597,
          -0.3597265821464962,
          -0.44632058930812457,
          -0.5114382702550129,
          -0.42228172624922966,
          -0.39976283672348134,
          -0.3724310502524626,
          -0.3161469967168129
         ],
         "y": [
          -0.018980992226571937,
          -0.27123684486536725,
          -0.42964645878062374,
          -0.48089924299558967,
          -0.25409187152343804,
          0.13858019516362893,
          0.16655380134514208,
          0.26296236701272335
         ]
        },
        {
         "legendgroup": "2",
         "legendgrouptitle": {
          "text": "Batch 2"
         },
         "marker": {
          "color": [
           "red",
           "red",
           "red",
           "red",
           "red",
           "red",
           "red",
           "red"
          ],
          "size": 8,
          "symbol": [
           "circle",
           "circle",
           "circle",
           "circle",
           "circle",
           "circle",
           "circle",
           "circle"
          ]
         },
         "mode": "markers",
         "name": "Ectosome",
         "type": "scatter",
         "x": [
          0.97843421373171,
          0.6713566400759816,
          0.9358029305582181,
          0.478800252045395,
          0.3660968905054877,
          0.5222282620582627,
          0.6105842025546813,
          0.46307159210589766
         ],
         "y": [
          0.12560669884289744,
          -0.2401113266344125,
          0.21424807381801667,
          -0.48687291715603337,
          0.319543964738568,
          0.32969397951954127,
          0.2802882224378526,
          0.35007805765652256
         ]
        },
        {
         "legendgroup": "2",
         "legendgrouptitle": {
          "text": "Batch 2"
         },
         "marker": {
          "color": [
           "red",
           "red",
           "red",
           "red",
           "red",
           "red",
           "red",
           "red"
          ],
          "size": 8,
          "symbol": [
           "square",
           "square",
           "square",
           "square",
           "square",
           "square",
           "square",
           "square"
          ]
         },
         "mode": "markers",
         "name": "Choanosome",
         "type": "scatter",
         "x": [
          -0.822185062275202,
          -0.7224286464129589,
          -0.796351156786127,
          -0.8269768397537808,
          -1.1883204505592557,
          -1.021559944990195,
          -0.8444897861771814,
          -1.2113413957695498
         ],
         "y": [
          -0.014853776464122502,
          -0.07507316266351166,
          -0.0853025280772124,
          -0.27976337168501575,
          -0.049833490416719424,
          0.5735954620515336,
          0.3526308030950385,
          0.37646078085826506
         ]
        }
       ],
       "layout": {
        "template": {
         "data": {
          "bar": [
           {
            "error_x": {
             "color": "#2a3f5f"
            },
            "error_y": {
             "color": "#2a3f5f"
            },
            "marker": {
             "line": {
              "color": "#E5ECF6",
              "width": 0.5
             },
             "pattern": {
              "fillmode": "overlay",
              "size": 10,
              "solidity": 0.2
             }
            },
            "type": "bar"
           }
          ],
          "barpolar": [
           {
            "marker": {
             "line": {
              "color": "#E5ECF6",
              "width": 0.5
             },
             "pattern": {
              "fillmode": "overlay",
              "size": 10,
              "solidity": 0.2
             }
            },
            "type": "barpolar"
           }
          ],
          "carpet": [
           {
            "aaxis": {
             "endlinecolor": "#2a3f5f",
             "gridcolor": "white",
             "linecolor": "white",
             "minorgridcolor": "white",
             "startlinecolor": "#2a3f5f"
            },
            "baxis": {
             "endlinecolor": "#2a3f5f",
             "gridcolor": "white",
             "linecolor": "white",
             "minorgridcolor": "white",
             "startlinecolor": "#2a3f5f"
            },
            "type": "carpet"
           }
          ],
          "choropleth": [
           {
            "colorbar": {
             "outlinewidth": 0,
             "ticks": ""
            },
            "type": "choropleth"
           }
          ],
          "contour": [
           {
            "colorbar": {
             "outlinewidth": 0,
             "ticks": ""
            },
            "colorscale": [
             [
              0,
              "#0d0887"
             ],
             [
              0.1111111111111111,
              "#46039f"
             ],
             [
              0.2222222222222222,
              "#7201a8"
             ],
             [
              0.3333333333333333,
              "#9c179e"
             ],
             [
              0.4444444444444444,
              "#bd3786"
             ],
             [
              0.5555555555555556,
              "#d8576b"
             ],
             [
              0.6666666666666666,
              "#ed7953"
             ],
             [
              0.7777777777777778,
              "#fb9f3a"
             ],
             [
              0.8888888888888888,
              "#fdca26"
             ],
             [
              1,
              "#f0f921"
             ]
            ],
            "type": "contour"
           }
          ],
          "contourcarpet": [
           {
            "colorbar": {
             "outlinewidth": 0,
             "ticks": ""
            },
            "type": "contourcarpet"
           }
          ],
          "heatmap": [
           {
            "colorbar": {
             "outlinewidth": 0,
             "ticks": ""
            },
            "colorscale": [
             [
              0,
              "#0d0887"
             ],
             [
              0.1111111111111111,
              "#46039f"
             ],
             [
              0.2222222222222222,
              "#7201a8"
             ],
             [
              0.3333333333333333,
              "#9c179e"
             ],
             [
              0.4444444444444444,
              "#bd3786"
             ],
             [
              0.5555555555555556,
              "#d8576b"
             ],
             [
              0.6666666666666666,
              "#ed7953"
             ],
             [
              0.7777777777777778,
              "#fb9f3a"
             ],
             [
              0.8888888888888888,
              "#fdca26"
             ],
             [
              1,
              "#f0f921"
             ]
            ],
            "type": "heatmap"
           }
          ],
          "heatmapgl": [
           {
            "colorbar": {
             "outlinewidth": 0,
             "ticks": ""
            },
            "colorscale": [
             [
              0,
              "#0d0887"
             ],
             [
              0.1111111111111111,
              "#46039f"
             ],
             [
              0.2222222222222222,
              "#7201a8"
             ],
             [
              0.3333333333333333,
              "#9c179e"
             ],
             [
              0.4444444444444444,
              "#bd3786"
             ],
             [
              0.5555555555555556,
              "#d8576b"
             ],
             [
              0.6666666666666666,
              "#ed7953"
             ],
             [
              0.7777777777777778,
              "#fb9f3a"
             ],
             [
              0.8888888888888888,
              "#fdca26"
             ],
             [
              1,
              "#f0f921"
             ]
            ],
            "type": "heatmapgl"
           }
          ],
          "histogram": [
           {
            "marker": {
             "pattern": {
              "fillmode": "overlay",
              "size": 10,
              "solidity": 0.2
             }
            },
            "type": "histogram"
           }
          ],
          "histogram2d": [
           {
            "colorbar": {
             "outlinewidth": 0,
             "ticks": ""
            },
            "colorscale": [
             [
              0,
              "#0d0887"
             ],
             [
              0.1111111111111111,
              "#46039f"
             ],
             [
              0.2222222222222222,
              "#7201a8"
             ],
             [
              0.3333333333333333,
              "#9c179e"
             ],
             [
              0.4444444444444444,
              "#bd3786"
             ],
             [
              0.5555555555555556,
              "#d8576b"
             ],
             [
              0.6666666666666666,
              "#ed7953"
             ],
             [
              0.7777777777777778,
              "#fb9f3a"
             ],
             [
              0.8888888888888888,
              "#fdca26"
             ],
             [
              1,
              "#f0f921"
             ]
            ],
            "type": "histogram2d"
           }
          ],
          "histogram2dcontour": [
           {
            "colorbar": {
             "outlinewidth": 0,
             "ticks": ""
            },
            "colorscale": [
             [
              0,
              "#0d0887"
             ],
             [
              0.1111111111111111,
              "#46039f"
             ],
             [
              0.2222222222222222,
              "#7201a8"
             ],
             [
              0.3333333333333333,
              "#9c179e"
             ],
             [
              0.4444444444444444,
              "#bd3786"
             ],
             [
              0.5555555555555556,
              "#d8576b"
             ],
             [
              0.6666666666666666,
              "#ed7953"
             ],
             [
              0.7777777777777778,
              "#fb9f3a"
             ],
             [
              0.8888888888888888,
              "#fdca26"
             ],
             [
              1,
              "#f0f921"
             ]
            ],
            "type": "histogram2dcontour"
           }
          ],
          "mesh3d": [
           {
            "colorbar": {
             "outlinewidth": 0,
             "ticks": ""
            },
            "type": "mesh3d"
           }
          ],
          "parcoords": [
           {
            "line": {
             "colorbar": {
              "outlinewidth": 0,
              "ticks": ""
             }
            },
            "type": "parcoords"
           }
          ],
          "pie": [
           {
            "automargin": true,
            "type": "pie"
           }
          ],
          "scatter": [
           {
            "fillpattern": {
             "fillmode": "overlay",
             "size": 10,
             "solidity": 0.2
            },
            "type": "scatter"
           }
          ],
          "scatter3d": [
           {
            "line": {
             "colorbar": {
              "outlinewidth": 0,
              "ticks": ""
             }
            },
            "marker": {
             "colorbar": {
              "outlinewidth": 0,
              "ticks": ""
             }
            },
            "type": "scatter3d"
           }
          ],
          "scattercarpet": [
           {
            "marker": {
             "colorbar": {
              "outlinewidth": 0,
              "ticks": ""
             }
            },
            "type": "scattercarpet"
           }
          ],
          "scattergeo": [
           {
            "marker": {
             "colorbar": {
              "outlinewidth": 0,
              "ticks": ""
             }
            },
            "type": "scattergeo"
           }
          ],
          "scattergl": [
           {
            "marker": {
             "colorbar": {
              "outlinewidth": 0,
              "ticks": ""
             }
            },
            "type": "scattergl"
           }
          ],
          "scattermapbox": [
           {
            "marker": {
             "colorbar": {
              "outlinewidth": 0,
              "ticks": ""
             }
            },
            "type": "scattermapbox"
           }
          ],
          "scatterpolar": [
           {
            "marker": {
             "colorbar": {
              "outlinewidth": 0,
              "ticks": ""
             }
            },
            "type": "scatterpolar"
           }
          ],
          "scatterpolargl": [
           {
            "marker": {
             "colorbar": {
              "outlinewidth": 0,
              "ticks": ""
             }
            },
            "type": "scatterpolargl"
           }
          ],
          "scatterternary": [
           {
            "marker": {
             "colorbar": {
              "outlinewidth": 0,
              "ticks": ""
             }
            },
            "type": "scatterternary"
           }
          ],
          "surface": [
           {
            "colorbar": {
             "outlinewidth": 0,
             "ticks": ""
            },
            "colorscale": [
             [
              0,
              "#0d0887"
             ],
             [
              0.1111111111111111,
              "#46039f"
             ],
             [
              0.2222222222222222,
              "#7201a8"
             ],
             [
              0.3333333333333333,
              "#9c179e"
             ],
             [
              0.4444444444444444,
              "#bd3786"
             ],
             [
              0.5555555555555556,
              "#d8576b"
             ],
             [
              0.6666666666666666,
              "#ed7953"
             ],
             [
              0.7777777777777778,
              "#fb9f3a"
             ],
             [
              0.8888888888888888,
              "#fdca26"
             ],
             [
              1,
              "#f0f921"
             ]
            ],
            "type": "surface"
           }
          ],
          "table": [
           {
            "cells": {
             "fill": {
              "color": "#EBF0F8"
             },
             "line": {
              "color": "white"
             }
            },
            "header": {
             "fill": {
              "color": "#C8D4E3"
             },
             "line": {
              "color": "white"
             }
            },
            "type": "table"
           }
          ]
         },
         "layout": {
          "annotationdefaults": {
           "arrowcolor": "#2a3f5f",
           "arrowhead": 0,
           "arrowwidth": 1
          },
          "autotypenumbers": "strict",
          "coloraxis": {
           "colorbar": {
            "outlinewidth": 0,
            "ticks": ""
           }
          },
          "colorscale": {
           "diverging": [
            [
             0,
             "#8e0152"
            ],
            [
             0.1,
             "#c51b7d"
            ],
            [
             0.2,
             "#de77ae"
            ],
            [
             0.3,
             "#f1b6da"
            ],
            [
             0.4,
             "#fde0ef"
            ],
            [
             0.5,
             "#f7f7f7"
            ],
            [
             0.6,
             "#e6f5d0"
            ],
            [
             0.7,
             "#b8e186"
            ],
            [
             0.8,
             "#7fbc41"
            ],
            [
             0.9,
             "#4d9221"
            ],
            [
             1,
             "#276419"
            ]
           ],
           "sequential": [
            [
             0,
             "#0d0887"
            ],
            [
             0.1111111111111111,
             "#46039f"
            ],
            [
             0.2222222222222222,
             "#7201a8"
            ],
            [
             0.3333333333333333,
             "#9c179e"
            ],
            [
             0.4444444444444444,
             "#bd3786"
            ],
            [
             0.5555555555555556,
             "#d8576b"
            ],
            [
             0.6666666666666666,
             "#ed7953"
            ],
            [
             0.7777777777777778,
             "#fb9f3a"
            ],
            [
             0.8888888888888888,
             "#fdca26"
            ],
            [
             1,
             "#f0f921"
            ]
           ],
           "sequentialminus": [
            [
             0,
             "#0d0887"
            ],
            [
             0.1111111111111111,
             "#46039f"
            ],
            [
             0.2222222222222222,
             "#7201a8"
            ],
            [
             0.3333333333333333,
             "#9c179e"
            ],
            [
             0.4444444444444444,
             "#bd3786"
            ],
            [
             0.5555555555555556,
             "#d8576b"
            ],
            [
             0.6666666666666666,
             "#ed7953"
            ],
            [
             0.7777777777777778,
             "#fb9f3a"
            ],
            [
             0.8888888888888888,
             "#fdca26"
            ],
            [
             1,
             "#f0f921"
            ]
           ]
          },
          "colorway": [
           "#636efa",
           "#EF553B",
           "#00cc96",
           "#ab63fa",
           "#FFA15A",
           "#19d3f3",
           "#FF6692",
           "#B6E880",
           "#FF97FF",
           "#FECB52"
          ],
          "font": {
           "color": "#2a3f5f"
          },
          "geo": {
           "bgcolor": "white",
           "lakecolor": "white",
           "landcolor": "#E5ECF6",
           "showlakes": true,
           "showland": true,
           "subunitcolor": "white"
          },
          "hoverlabel": {
           "align": "left"
          },
          "hovermode": "closest",
          "mapbox": {
           "style": "light"
          },
          "paper_bgcolor": "white",
          "plot_bgcolor": "#E5ECF6",
          "polar": {
           "angularaxis": {
            "gridcolor": "white",
            "linecolor": "white",
            "ticks": ""
           },
           "bgcolor": "#E5ECF6",
           "radialaxis": {
            "gridcolor": "white",
            "linecolor": "white",
            "ticks": ""
           }
          },
          "scene": {
           "xaxis": {
            "backgroundcolor": "#E5ECF6",
            "gridcolor": "white",
            "gridwidth": 2,
            "linecolor": "white",
            "showbackground": true,
            "ticks": "",
            "zerolinecolor": "white"
           },
           "yaxis": {
            "backgroundcolor": "#E5ECF6",
            "gridcolor": "white",
            "gridwidth": 2,
            "linecolor": "white",
            "showbackground": true,
            "ticks": "",
            "zerolinecolor": "white"
           },
           "zaxis": {
            "backgroundcolor": "#E5ECF6",
            "gridcolor": "white",
            "gridwidth": 2,
            "linecolor": "white",
            "showbackground": true,
            "ticks": "",
            "zerolinecolor": "white"
           }
          },
          "shapedefaults": {
           "line": {
            "color": "#2a3f5f"
           }
          },
          "ternary": {
           "aaxis": {
            "gridcolor": "white",
            "linecolor": "white",
            "ticks": ""
           },
           "baxis": {
            "gridcolor": "white",
            "linecolor": "white",
            "ticks": ""
           },
           "bgcolor": "#E5ECF6",
           "caxis": {
            "gridcolor": "white",
            "linecolor": "white",
            "ticks": ""
           }
          },
          "title": {
           "x": 0.05
          },
          "xaxis": {
           "automargin": true,
           "gridcolor": "white",
           "linecolor": "white",
           "ticks": "",
           "title": {
            "standoff": 15
           },
           "zerolinecolor": "white",
           "zerolinewidth": 2
          },
          "yaxis": {
           "automargin": true,
           "gridcolor": "white",
           "linecolor": "white",
           "ticks": "",
           "title": {
            "standoff": 15
           },
           "zerolinecolor": "white",
           "zerolinewidth": 2
          }
         }
        }
       }
      }
     },
     "metadata": {},
     "output_type": "display_data"
    }
   ],
   "source": [
    "plotPCA(data_PLSDA)"
   ]
  },
  {
   "cell_type": "markdown",
   "metadata": {},
   "source": [
    "### ConQuR"
   ]
  },
  {
   "cell_type": "markdown",
   "metadata": {},
   "source": [
    "## Batch Effect Quantitative Metrics"
   ]
  },
  {
   "cell_type": "markdown",
   "metadata": {},
   "source": [
    "### kBET"
   ]
  },
  {
   "cell_type": "code",
   "execution_count": 64,
   "metadata": {},
   "outputs": [
    {
     "name": "stdout",
     "output_type": "stream",
     "text": [
      "kBET with original data: 0.25\n",
      "kBET with ComBat corrected data: 0.9375\n",
      "kBET with limma corrected data: 0.90625\n",
      "kBET with SVD-based corrected data: 0.375\n",
      "kBET with PLSDA-batch corrected data: 0.71875\n"
     ]
    }
   ],
   "source": [
    "print(\"kBET with original data: {}\".format(kBET(data)))\n",
    "print(\"kBET with ComBat corrected data: {}\".format(kBET(data_combat)))\n",
    "print(\"kBET with limma corrected data: {}\".format(kBET(data_limma)))\n",
    "print(\"kBET with SVD-based corrected data: {}\".format(kBET(data_SVD)))\n",
    "print(\"kBET with PLSDA-batch corrected data: {}\".format(kBET(data_PLSDA)))"
   ]
  },
  {
   "cell_type": "markdown",
   "metadata": {},
   "source": [
    "### LISI"
   ]
  },
  {
   "cell_type": "code",
   "execution_count": null,
   "metadata": {},
   "outputs": [
    {
     "name": "stdout",
     "output_type": "stream",
     "text": [
      "iLISI with original data: 1.1459276018099547\n",
      "iLISI with ComBat corrected data: 1.6108597285067872\n",
      "iLISI with limma corrected data: 1.6102941176470587\n",
      "iLISI with SVD-based corrected data: 1.26131221719457\n",
      "iLISI with PLSDA-batch corrected data: 1.4372171945701355\n",
      "cLISI with original data: 1.0\n",
      "cLISI with ComBat corrected data: 1.0\n",
      "cLISI with limma corrected data: 1.0\n",
      "cLISI with SVD-based corrected data: 1.479072398190045\n",
      "cLISI with PLSDA-batch corrected data: 1.0147058823529411\n"
     ]
    }
   ],
   "source": [
    "print(\"iLISI with original data: {}\".format(iLISI(data)))\n",
    "print(\"iLISI with ComBat corrected data: {}\".format(iLISI(data_combat)))\n",
    "print(\"iLISI with limma corrected data: {}\".format(iLISI(data_limma)))\n",
    "print(\"iLISI with SVD-based corrected data: {}\".format(iLISI(data_SVD)))\n",
    "print(\"iLISI with PLSDA-batch corrected data: {}\".format(iLISI(data_PLSDA)))\n",
    "\n",
    "print(\"cLISI with original data: {}\".format(cLISI(data)))\n",
    "print(\"cLISI with ComBat corrected data: {}\".format(cLISI(data_combat)))\n",
    "print(\"cLISI with limma corrected data: {}\".format(cLISI(data_limma)))\n",
    "print(\"cLISI with SVD-based corrected data: {}\".format(cLISI(data_SVD)))\n",
    "print(\"cLISI with PLSDA-batch corrected data: {}\".format(cLISI(data_PLSDA)))"
   ]
  },
  {
   "cell_type": "markdown",
   "metadata": {},
   "source": [
    "### ASW"
   ]
  },
  {
   "cell_type": "code",
   "execution_count": 7,
   "metadata": {},
   "outputs": [
    {
     "name": "stdout",
     "output_type": "stream",
     "text": [
      "ASW with original data: 0.6789795004758423\n",
      "ASW with ComBat corrected data: 0.7370945120333365\n",
      "ASW with limma corrected data: 0.7093791962568354\n",
      "ASW with SVD-based corrected data: 0.5421706702188906\n",
      "ASW with PLSDA-batch corrected data: 0.688571815724345\n"
     ]
    }
   ],
   "source": [
    "print(\"ASW with original data: {}\".format(ASW(data)))\n",
    "print(\"ASW with ComBat corrected data: {}\".format(ASW(data_combat)))\n",
    "print(\"ASW with limma corrected data: {}\".format(ASW(data_limma)))\n",
    "print(\"ASW with SVD-based corrected data: {}\".format(ASW(data_SVD)))\n",
    "print(\"ASW with PLSDA-batch corrected data: {}\".format(ASW(data_PLSDA)))"
   ]
  },
  {
   "cell_type": "markdown",
   "metadata": {},
   "source": [
    "### ARI"
   ]
  },
  {
   "cell_type": "code",
   "execution_count": 9,
   "metadata": {},
   "outputs": [
    {
     "name": "stdout",
     "output_type": "stream",
     "text": [
      "ARI with original data: 1.0\n",
      "ARI with ComBat corrected data: 1.0\n",
      "ARI with limma corrected data: 1.0\n",
      "ARI with SVD-based corrected data: 0.23140495867768596\n",
      "ARI with PLSDA-batch corrected data: 1.0\n"
     ]
    }
   ],
   "source": [
    "print(\"ARI with original data: {}\".format(ARI(data)))\n",
    "print(\"ARI with ComBat corrected data: {}\".format(ARI(data_combat)))\n",
    "print(\"ARI with limma corrected data: {}\".format(ARI(data_limma)))\n",
    "print(\"ARI with SVD-based corrected data: {}\".format(ARI(data_SVD)))\n",
    "print(\"ARI with PLSDA-batch corrected data: {}\".format(ARI(data_PLSDA)))"
   ]
  },
  {
   "cell_type": "markdown",
   "metadata": {},
   "source": [
    "## Case Study: Batch Effect Correction DRE analysis"
   ]
  },
  {
   "cell_type": "markdown",
   "metadata": {},
   "source": [
    "### PERMANOVA analysis between tissues"
   ]
  },
  {
   "cell_type": "code",
   "execution_count": 19,
   "metadata": {},
   "outputs": [
    {
     "data": {
      "text/plain": [
       "method name               PERMANOVA\n",
       "test statistic name        pseudo-F\n",
       "sample size                      32\n",
       "number of groups                  2\n",
       "test statistic            21.885265\n",
       "p-value                       0.001\n",
       "number of permutations          999\n",
       "Name: PERMANOVA results, dtype: object"
      ]
     },
     "execution_count": 19,
     "metadata": {},
     "output_type": "execute_result"
    }
   ],
   "source": [
    "sample_ids = data[\"sample\"].tolist() \n",
    "tissue_labels = data.set_index(\"sample\").loc[sample_ids, \"tissue\"].tolist()\n",
    "\n",
    "euclidean_dist = squareform(pdist(data.select_dtypes(include=\"number\"), metric=\"euclidean\"))\n",
    "distance_matrix = DistanceMatrix(euclidean_dist, ids = sample_ids)\n",
    "\n",
    "permanova(distance_matrix, grouping=tissue_labels)"
   ]
  },
  {
   "cell_type": "code",
   "execution_count": 20,
   "metadata": {},
   "outputs": [
    {
     "data": {
      "text/plain": [
       "method name               PERMANOVA\n",
       "test statistic name        pseudo-F\n",
       "sample size                      32\n",
       "number of groups                  2\n",
       "test statistic            40.730683\n",
       "p-value                       0.001\n",
       "number of permutations          999\n",
       "Name: PERMANOVA results, dtype: object"
      ]
     },
     "execution_count": 20,
     "metadata": {},
     "output_type": "execute_result"
    }
   ],
   "source": [
    "sample_ids = data_combat[\"sample\"].tolist() \n",
    "tissue_labels = data_combat.set_index(\"sample\").loc[sample_ids, \"tissue\"].tolist()\n",
    "\n",
    "euclidean_dist = squareform(pdist(data_combat.select_dtypes(include=\"number\"), metric=\"euclidean\"))\n",
    "distance_matrix = DistanceMatrix(euclidean_dist, ids = sample_ids)\n",
    "\n",
    "permanova(distance_matrix, grouping=tissue_labels)"
   ]
  },
  {
   "cell_type": "code",
   "execution_count": 21,
   "metadata": {},
   "outputs": [
    {
     "data": {
      "text/plain": [
       "method name               PERMANOVA\n",
       "test statistic name        pseudo-F\n",
       "sample size                      32\n",
       "number of groups                  2\n",
       "test statistic             30.61138\n",
       "p-value                       0.001\n",
       "number of permutations          999\n",
       "Name: PERMANOVA results, dtype: object"
      ]
     },
     "execution_count": 21,
     "metadata": {},
     "output_type": "execute_result"
    }
   ],
   "source": [
    "sample_ids = data_limma[\"sample\"].tolist() \n",
    "tissue_labels = data_limma.set_index(\"sample\").loc[sample_ids, \"tissue\"].tolist()\n",
    "\n",
    "euclidean_dist = squareform(pdist(data_limma.select_dtypes(include=\"number\"), metric=\"euclidean\"))\n",
    "distance_matrix = DistanceMatrix(euclidean_dist, ids = sample_ids)\n",
    "\n",
    "permanova(distance_matrix, grouping=tissue_labels)"
   ]
  },
  {
   "cell_type": "markdown",
   "metadata": {},
   "source": [
    "### DRE Analysis"
   ]
  },
  {
   "cell_type": "markdown",
   "metadata": {},
   "source": [
    "#### Construct data with different transformations"
   ]
  },
  {
   "cell_type": "code",
   "execution_count": 6,
   "metadata": {},
   "outputs": [],
   "source": [
    "#Loading data with CLR transformations\n",
    "data_sqrt = DataPreprocess(path, preprocess=True, transformation = \"Sqrt\")\n",
    "data_clr = DataPreprocess(path, preprocess=True, transformation = \"CLR\")"
   ]
  },
  {
   "cell_type": "markdown",
   "metadata": {},
   "source": [
    "#### Identify significantly different OTUs between tissues"
   ]
  },
  {
   "cell_type": "markdown",
   "metadata": {},
   "source": [
    "##### Square-root transformed data"
   ]
  },
  {
   "cell_type": "code",
   "execution_count": 7,
   "metadata": {},
   "outputs": [
    {
     "name": "stdout",
     "output_type": "stream",
     "text": [
      "     OTU  U-statistic       p-value\n",
      "1   OTU5        256.0  2.805795e-07\n",
      "2   OTU6          0.0  2.805795e-07\n",
      "0   OTU2        240.0  3.570341e-06\n",
      "3   OTU7         37.0  6.468719e-04\n",
      "6  OTU24         64.0  1.651213e-03\n",
      "4  OTU10         48.5  2.664819e-03\n",
      "5  OTU16         64.0  1.643138e-02\n"
     ]
    }
   ],
   "source": [
    "# Store results\n",
    "otu_results = []\n",
    "\n",
    "# Perform Mann-Whitney for each OTU\n",
    "for otu in data_sqrt.select_dtypes(include=\"number\").columns:\n",
    "    group_E = data_sqrt.loc[data_sqrt[\"tissue\"] == \"Ectosome\", otu]\n",
    "    group_C = data_sqrt.loc[data_sqrt[\"tissue\"] == \"Choanosome\", otu]\n",
    "\n",
    "    #Mann-Whitney\n",
    "    stat, p_value = mannwhitneyu(group_E, group_C, alternative=\"two-sided\")\n",
    "\n",
    "    #Only store significant results\n",
    "    if p_value < 0.05:\n",
    "        #Append results\n",
    "        otu_results.append({\"OTU\": otu, \"U-statistic\": stat, \"p-value\": p_value})\n",
    "\n",
    "# Convert to DataFrame\n",
    "otu_results_df = pd.DataFrame(otu_results)\n",
    "\n",
    "# Display results\n",
    "print(otu_results_df.sort_values(by=\"p-value\"))"
   ]
  },
  {
   "cell_type": "code",
   "execution_count": 8,
   "metadata": {},
   "outputs": [
    {
     "name": "stdout",
     "output_type": "stream",
     "text": [
      "Found 2 batches.\n",
      "Adjusting for 1 covariate(s) or covariate level(s).\n",
      "Standardizing Data across genes.\n",
      "Fitting L/S model and finding priors.\n",
      "Finding parametric adjustments.\n",
      "Adjusting the Data\n",
      "      OTU  U-statistic       p-value\n",
      "10  OTU24          0.0  8.640761e-07\n",
      "0    OTU2        256.0  1.050172e-06\n",
      "2    OTU6          0.0  1.055101e-06\n",
      "1    OTU5        256.0  1.055101e-06\n",
      "3    OTU7         13.0  1.593278e-05\n",
      "9   OTU18         43.0  1.214217e-03\n",
      "7   OTU16         44.0  1.642911e-03\n",
      "6   OTU14         50.0  3.421749e-03\n",
      "8   OTU17         55.0  6.243658e-03\n",
      "5   OTU12         58.0  8.471338e-03\n",
      "4   OTU10         61.0  1.201810e-02\n"
     ]
    }
   ],
   "source": [
    "#Applying ComBat\n",
    "data_sqrt_combat = correctCombat(data_sqrt)\n",
    "\n",
    "# Store results\n",
    "otu_results = []\n",
    "\n",
    "# Perform Mann-Whitney for each OTU\n",
    "for otu in data_sqrt_combat.select_dtypes(include=\"number\").columns:\n",
    "    group_E = data_sqrt_combat.loc[data_sqrt_combat[\"tissue\"] == \"Ectosome\", otu]\n",
    "    group_C = data_sqrt_combat.loc[data_sqrt_combat[\"tissue\"] == \"Choanosome\", otu]\n",
    "\n",
    "    #Mann-Whitney\n",
    "    stat, p_value = mannwhitneyu(group_E, group_C, alternative=\"two-sided\")\n",
    "\n",
    "    #Only store significant results\n",
    "    if p_value < 0.05:\n",
    "        #Append results\n",
    "        otu_results.append({\"OTU\": otu, \"U-statistic\": stat, \"p-value\": p_value})\n",
    "\n",
    "# Convert to DataFrame\n",
    "otu_results_df = pd.DataFrame(otu_results)\n",
    "\n",
    "# Display results\n",
    "print(otu_results_df.sort_values(by=\"p-value\"))"
   ]
  },
  {
   "cell_type": "code",
   "execution_count": 9,
   "metadata": {},
   "outputs": [
    {
     "name": "stdout",
     "output_type": "stream",
     "text": [
      "     OTU  U-statistic   p-value\n",
      "1   OTU5        256.0  0.000001\n",
      "2   OTU6          0.0  0.000001\n",
      "0   OTU2        248.0  0.000004\n",
      "3   OTU7         18.0  0.000037\n",
      "8  OTU24         32.0  0.000104\n",
      "6  OTU16         51.0  0.003900\n",
      "4  OTU10         51.5  0.004038\n",
      "5  OTU14         67.5  0.022948\n",
      "7  OTU17         70.5  0.031349\n"
     ]
    }
   ],
   "source": [
    "#Applying limma - removeBatchEffect\n",
    "data_sqrt_limma = correctLimma_rBE(data_sqrt, covariates_labels=[\"tissue\"])\n",
    "\n",
    "# Store results\n",
    "otu_results = []\n",
    "\n",
    "# Perform Mann-Whitney for each OTU\n",
    "for otu in data_sqrt_limma.select_dtypes(include=\"number\").columns:\n",
    "    group_E = data_sqrt_limma.loc[data_sqrt_limma[\"tissue\"] == \"Ectosome\", otu]\n",
    "    group_C = data_sqrt_limma.loc[data_sqrt_limma[\"tissue\"] == \"Choanosome\", otu]\n",
    "\n",
    "    #Mann-Whitney\n",
    "    stat, p_value = mannwhitneyu(group_E, group_C, alternative=\"two-sided\")\n",
    "\n",
    "    #Only store significant results\n",
    "    if p_value < 0.05:\n",
    "        #Append results\n",
    "        otu_results.append({\"OTU\": otu, \"U-statistic\": stat, \"p-value\": p_value})\n",
    "\n",
    "# Convert to DataFrame\n",
    "otu_results_df = pd.DataFrame(otu_results)\n",
    "\n",
    "# Display results\n",
    "print(otu_results_df.sort_values(by=\"p-value\"))"
   ]
  },
  {
   "cell_type": "markdown",
   "metadata": {},
   "source": [
    "By correcting with ComBat OTUs 18, 14, 17 and 12 where added as significantly different\n",
    "\n",
    "By correcting with limma OTUs 14 and 17 where added as significantly different"
   ]
  },
  {
   "cell_type": "code",
   "execution_count": 10,
   "metadata": {},
   "outputs": [
    {
     "name": "stdout",
     "output_type": "stream",
     "text": [
      "      OTU  U-statistic   p-value\n",
      "0    OTU1         31.0  0.000276\n",
      "1    OTU3         31.0  0.000276\n",
      "6   OTU13        225.0  0.000276\n",
      "4    OTU6         33.0  0.000369\n",
      "10  OTU20         35.0  0.000490\n",
      "3    OTU5        215.0  0.001114\n",
      "11  OTU22         41.0  0.001114\n",
      "5    OTU8         44.0  0.001649\n",
      "7   OTU15         47.0  0.002414\n",
      "8   OTU18         54.0  0.005603\n",
      "9   OTU19         58.0  0.008809\n",
      "2    OTU4        191.0  0.018495\n"
     ]
    },
    {
     "name": "stderr",
     "output_type": "stream",
     "text": [
      "/Users/s243564/BECA-1/BatchEffectCorrection.py:98: FutureWarning:\n",
      "\n",
      "Series.__getitem__ treating keys as positions is deprecated. In a future version, integer keys will always be treated as labels (consistent with DataFrame behavior). To access a value by position, use `ser.iloc[pos]`\n",
      "\n"
     ]
    }
   ],
   "source": [
    "#Applying SVD\n",
    "data_sqrt_svd = correctSVD(data_sqrt)\n",
    "\n",
    "# Store results\n",
    "otu_results = []\n",
    "\n",
    "# Perform Mann-Whitney for each OTU\n",
    "for otu in data_sqrt_svd.select_dtypes(include=\"number\").columns:\n",
    "    group_E = data_sqrt_svd.loc[data_sqrt_svd[\"tissue\"] == \"Ectosome\", otu]\n",
    "    group_C = data_sqrt_svd.loc[data_sqrt_svd[\"tissue\"] == \"Choanosome\", otu]\n",
    "\n",
    "    #Mann-Whitney\n",
    "    stat, p_value = mannwhitneyu(group_E, group_C, alternative=\"two-sided\")\n",
    "\n",
    "    #Only store significant results\n",
    "    if p_value < 0.05:\n",
    "        #Append results\n",
    "        otu_results.append({\"OTU\": otu, \"U-statistic\": stat, \"p-value\": p_value})\n",
    "\n",
    "# Convert to DataFrame\n",
    "otu_results_df = pd.DataFrame(otu_results)\n",
    "\n",
    "# Display results\n",
    "print(otu_results_df.sort_values(by=\"p-value\"))"
   ]
  },
  {
   "cell_type": "code",
   "execution_count": 11,
   "metadata": {},
   "outputs": [
    {
     "name": "stdout",
     "output_type": "stream",
     "text": [
      "      OTU  U-statistic   p-value\n",
      "3    OTU5        256.0  0.000002\n",
      "4    OTU6          0.0  0.000002\n",
      "12  OTU24          3.0  0.000003\n",
      "1    OTU2        247.0  0.000008\n",
      "5    OTU7         31.0  0.000276\n",
      "7   OTU12         40.0  0.000975\n",
      "9   OTU19         40.0  0.000975\n",
      "10  OTU20         57.0  0.007882\n",
      "6   OTU10         60.0  0.010959\n",
      "8   OTU18         62.0  0.013563\n",
      "11  OTU23        186.0  0.030226\n",
      "0    OTU1        184.0  0.036462\n",
      "2    OTU3         73.0  0.039971\n"
     ]
    }
   ],
   "source": [
    "#Applying PLSDA-batch\n",
    "data_sqrt_plsda = correctPLSDA_batch(data_sqrt)\n",
    "\n",
    "# Store results\n",
    "otu_results = []\n",
    "\n",
    "# Perform Mann-Whitney for each OTU\n",
    "for otu in data_sqrt_plsda.select_dtypes(include=\"number\").columns:\n",
    "    group_E = data_sqrt_plsda.loc[data_sqrt_plsda[\"tissue\"] == \"Ectosome\", otu]\n",
    "    group_C = data_sqrt_plsda.loc[data_sqrt_plsda[\"tissue\"] == \"Choanosome\", otu]\n",
    "\n",
    "    #Mann-Whitney\n",
    "    stat, p_value = mannwhitneyu(group_E, group_C, alternative=\"two-sided\")\n",
    "\n",
    "    #Only store significant results\n",
    "    if p_value < 0.05:\n",
    "        #Append results\n",
    "        otu_results.append({\"OTU\": otu, \"U-statistic\": stat, \"p-value\": p_value})\n",
    "\n",
    "# Convert to DataFrame\n",
    "otu_results_df = pd.DataFrame(otu_results)\n",
    "\n",
    "# Display results\n",
    "print(otu_results_df.sort_values(by=\"p-value\"))"
   ]
  },
  {
   "cell_type": "markdown",
   "metadata": {},
   "source": [
    "##### Center log-ratio transformed data"
   ]
  },
  {
   "cell_type": "code",
   "execution_count": 12,
   "metadata": {},
   "outputs": [
    {
     "name": "stdout",
     "output_type": "stream",
     "text": [
      "      OTU  U-statistic   p-value\n",
      "0    OTU1        205.0  0.003937\n",
      "1    OTU2        256.0  0.000002\n",
      "2    OTU3        206.0  0.003490\n",
      "3    OTU5        256.0  0.000002\n",
      "4    OTU6          0.0  0.000002\n",
      "5    OTU7         62.0  0.013563\n",
      "6    OTU8        212.0  0.001649\n",
      "7   OTU10         57.0  0.007882\n",
      "8   OTU13        191.0  0.018495\n",
      "9   OTU15        206.0  0.003490\n",
      "10  OTU16         71.0  0.033219\n",
      "11  OTU22        182.0  0.043763\n"
     ]
    }
   ],
   "source": [
    "# Store results\n",
    "otu_results = []\n",
    "\n",
    "# Perform Mann-Whitney for each OTU\n",
    "for otu in data_clr.select_dtypes(include=\"number\").columns:\n",
    "    group_E = data_clr.loc[data_sqrt[\"tissue\"] == \"Ectosome\", otu]\n",
    "    group_C = data_clr.loc[data_sqrt[\"tissue\"] == \"Choanosome\", otu]\n",
    "\n",
    "    #Mann-Whitney\n",
    "    stat, p_value = mannwhitneyu(group_E, group_C, alternative=\"two-sided\")\n",
    "\n",
    "    #Only store significant results\n",
    "    if p_value < 0.05:\n",
    "        #Append results\n",
    "        otu_results.append({\"OTU\": otu, \"U-statistic\": stat, \"p-value\": p_value})\n",
    "\n",
    "# Convert to DataFrame\n",
    "otu_results_df = pd.DataFrame(otu_results)\n",
    "\n",
    "# Display results\n",
    "print(otu_results_df)"
   ]
  },
  {
   "cell_type": "code",
   "execution_count": 13,
   "metadata": {},
   "outputs": [
    {
     "name": "stdout",
     "output_type": "stream",
     "text": [
      "Found 2 batches.\n",
      "Adjusting for 1 covariate(s) or covariate level(s).\n",
      "Standardizing Data across genes.\n",
      "Fitting L/S model and finding priors.\n",
      "Finding parametric adjustments.\n",
      "Adjusting the Data\n",
      "      OTU  U-statistic   p-value\n",
      "0    OTU2        256.0  0.000002\n",
      "1    OTU3        192.0  0.016700\n",
      "2    OTU5        256.0  0.000002\n",
      "3    OTU6          0.0  0.000002\n",
      "4    OTU7         46.0  0.002129\n",
      "5    OTU8        209.0  0.002414\n",
      "6   OTU10         65.0  0.018495\n",
      "7   OTU14         68.0  0.024930\n",
      "8   OTU15        216.0  0.000975\n",
      "9   OTU16         50.0  0.003490\n",
      "10  OTU23        181.0  0.047853\n",
      "11  OTU24          5.0  0.000004\n"
     ]
    }
   ],
   "source": [
    "#Applying ComBat\n",
    "data_clr_combat = correctCombat(data_clr)\n",
    "\n",
    "# Store results\n",
    "otu_results = []\n",
    "\n",
    "# Perform Mann-Whitney for each OTU\n",
    "for otu in data_clr_combat.select_dtypes(include=\"number\").columns:\n",
    "    group_E = data_clr_combat.loc[data_clr_combat[\"tissue\"] == \"Ectosome\", otu]\n",
    "    group_C = data_clr_combat.loc[data_clr_combat[\"tissue\"] == \"Choanosome\", otu]\n",
    "\n",
    "    #Mann-Whitney\n",
    "    stat, p_value = mannwhitneyu(group_E, group_C, alternative=\"two-sided\")\n",
    "\n",
    "    #Only store significant results\n",
    "    if p_value < 0.05:\n",
    "        #Append results\n",
    "        otu_results.append({\"OTU\": otu, \"U-statistic\": stat, \"p-value\": p_value})\n",
    "\n",
    "# Convert to DataFrame\n",
    "otu_results_df = pd.DataFrame(otu_results)\n",
    "\n",
    "# Display results\n",
    "print(otu_results_df)"
   ]
  },
  {
   "cell_type": "code",
   "execution_count": 14,
   "metadata": {},
   "outputs": [
    {
     "name": "stdout",
     "output_type": "stream",
     "text": [
      "      OTU  U-statistic   p-value\n",
      "0    OTU1        194.0  0.013563\n",
      "1    OTU2        256.0  0.000002\n",
      "2    OTU3        210.0  0.002129\n",
      "3    OTU5        256.0  0.000002\n",
      "4    OTU6          0.0  0.000002\n",
      "5    OTU7         52.0  0.004434\n",
      "6    OTU8        191.0  0.018495\n",
      "7   OTU10         58.0  0.008809\n",
      "8   OTU13        181.0  0.047853\n",
      "9   OTU14         71.0  0.033219\n",
      "10  OTU15        200.0  0.007044\n",
      "11  OTU16         58.0  0.008809\n",
      "12  OTU24         41.0  0.001114\n"
     ]
    }
   ],
   "source": [
    "#Applying limma - removeBatchEffect\n",
    "data_clr_limma = correctLimma_rBE(data_clr, covariates_labels=[\"tissue\"])\n",
    "\n",
    "# Store results\n",
    "otu_results = []\n",
    "\n",
    "# Perform Mann-Whitney for each OTU\n",
    "for otu in data_clr_limma.select_dtypes(include=\"number\").columns:\n",
    "    group_E = data_clr_limma.loc[data_clr_limma[\"tissue\"] == \"Ectosome\", otu]\n",
    "    group_C = data_clr_limma.loc[data_clr_limma[\"tissue\"] == \"Choanosome\", otu]\n",
    "\n",
    "    #Mann-Whitney\n",
    "    stat, p_value = mannwhitneyu(group_E, group_C, alternative=\"two-sided\")\n",
    "\n",
    "    #Only store significant results\n",
    "    if p_value < 0.05:\n",
    "        #Append results\n",
    "        otu_results.append({\"OTU\": otu, \"U-statistic\": stat, \"p-value\": p_value})\n",
    "\n",
    "# Convert to DataFrame\n",
    "otu_results_df = pd.DataFrame(otu_results)\n",
    "\n",
    "# Display results\n",
    "print(otu_results_df)"
   ]
  },
  {
   "cell_type": "markdown",
   "metadata": {},
   "source": [
    "By applying ComBat OTUs 14, 23 and 24 where added as significantly different, while OTUs 1, 13 and 22 where removed.\n",
    "\n",
    "By applying limma OTUs 14 and 24 where added as significantly different, while OTU 22 was removed."
   ]
  },
  {
   "cell_type": "code",
   "execution_count": 15,
   "metadata": {},
   "outputs": [
    {
     "name": "stdout",
     "output_type": "stream",
     "text": [
      "     OTU  U-statistic   p-value\n",
      "0   OTU1         69.0  0.027468\n",
      "1   OTU4        191.0  0.018495\n",
      "2   OTU5        229.0  0.000152\n",
      "3   OTU6         21.0  0.000060\n",
      "4  OTU18         55.0  0.006287\n",
      "5  OTU19         59.0  0.009832\n",
      "6  OTU20         57.0  0.007882\n"
     ]
    },
    {
     "name": "stderr",
     "output_type": "stream",
     "text": [
      "/Users/s243564/BECA-1/BatchEffectCorrection.py:98: FutureWarning:\n",
      "\n",
      "Series.__getitem__ treating keys as positions is deprecated. In a future version, integer keys will always be treated as labels (consistent with DataFrame behavior). To access a value by position, use `ser.iloc[pos]`\n",
      "\n"
     ]
    }
   ],
   "source": [
    "#Applying SVD\n",
    "data_clr_svd = correctSVD(data_clr)\n",
    "\n",
    "# Store results\n",
    "otu_results = []\n",
    "\n",
    "# Perform Mann-Whitney for each OTU\n",
    "for otu in data_clr_svd.select_dtypes(include=\"number\").columns:\n",
    "    group_E = data_clr_svd.loc[data_clr_svd[\"tissue\"] == \"Ectosome\", otu]\n",
    "    group_C = data_clr_svd.loc[data_clr_svd[\"tissue\"] == \"Choanosome\", otu]\n",
    "\n",
    "    #Mann-Whitney\n",
    "    stat, p_value = mannwhitneyu(group_E, group_C, alternative=\"two-sided\")\n",
    "\n",
    "    #Only store significant results\n",
    "    if p_value < 0.05:\n",
    "        #Append results\n",
    "        otu_results.append({\"OTU\": otu, \"U-statistic\": stat, \"p-value\": p_value})\n",
    "\n",
    "# Convert to DataFrame\n",
    "otu_results_df = pd.DataFrame(otu_results)\n",
    "\n",
    "# Display results\n",
    "print(otu_results_df)"
   ]
  },
  {
   "cell_type": "code",
   "execution_count": 16,
   "metadata": {},
   "outputs": [
    {
     "name": "stdout",
     "output_type": "stream",
     "text": [
      "      OTU  U-statistic   p-value\n",
      "0    OTU1        209.0  0.002414\n",
      "1    OTU2        247.0  0.000008\n",
      "2    OTU3        221.0  0.000490\n",
      "3    OTU5        256.0  0.000002\n",
      "4    OTU6          0.0  0.000002\n",
      "5    OTU7         59.0  0.009832\n",
      "6    OTU8        199.0  0.007882\n",
      "7   OTU12         55.0  0.006287\n",
      "8   OTU13        201.0  0.006287\n",
      "9   OTU15        203.0  0.004988\n",
      "10  OTU18         71.0  0.033219\n",
      "11  OTU19         65.0  0.018495\n",
      "12  OTU23        189.0  0.022597\n",
      "13  OTU24         10.0  0.000009\n"
     ]
    }
   ],
   "source": [
    "#Applying PLSDA-batch\n",
    "data_clr_plsda = correctPLSDA_batch(data_clr)\n",
    "\n",
    "# Store results\n",
    "otu_results = []\n",
    "\n",
    "# Perform Mann-Whitney for each OTU\n",
    "for otu in data_clr_plsda.select_dtypes(include=\"number\").columns:\n",
    "    group_E = data_clr_plsda.loc[data_clr_plsda[\"tissue\"] == \"Ectosome\", otu]\n",
    "    group_C = data_clr_plsda.loc[data_clr_plsda[\"tissue\"] == \"Choanosome\", otu]\n",
    "\n",
    "    #Mann-Whitney\n",
    "    stat, p_value = mannwhitneyu(group_E, group_C, alternative=\"two-sided\")\n",
    "\n",
    "    #Only store significant results\n",
    "    if p_value < 0.05:\n",
    "        #Append results\n",
    "        otu_results.append({\"OTU\": otu, \"U-statistic\": stat, \"p-value\": p_value})\n",
    "\n",
    "# Convert to DataFrame\n",
    "otu_results_df = pd.DataFrame(otu_results)\n",
    "\n",
    "# Display results\n",
    "print(otu_results_df)"
   ]
  }
 ],
 "metadata": {
  "kernelspec": {
   "display_name": "beca",
   "language": "python",
   "name": "python3"
  },
  "language_info": {
   "codemirror_mode": {
    "name": "ipython",
    "version": 3
   },
   "file_extension": ".py",
   "mimetype": "text/x-python",
   "name": "python",
   "nbconvert_exporter": "python",
   "pygments_lexer": "ipython3",
   "version": "3.12.6"
  }
 },
 "nbformat": 4,
 "nbformat_minor": 4
}
