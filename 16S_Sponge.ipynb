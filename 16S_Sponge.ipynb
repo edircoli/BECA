{
 "cells": [
  {
   "cell_type": "markdown",
   "metadata": {},
   "source": [
    "## Libraries"
   ]
  },
  {
   "cell_type": "code",
   "execution_count": 1,
   "metadata": {},
   "outputs": [
    {
     "name": "stdout",
     "output_type": "stream",
     "text": [
      ">> clustergrammer2 backend version 0.18.0\n"
     ]
    }
   ],
   "source": [
    "import pandas as pd\n",
    "import numpy as np\n",
    "from scipy.stats import gmean, mannwhitneyu, pearsonr, zscore, chi2\n",
    "from sklearn.decomposition import PCA\n",
    "from sklearn.preprocessing import StandardScaler\n",
    "from sklearn.cross_decomposition import PLSRegression\n",
    "from sklearn.utils import resample\n",
    "from sklearn.feature_selection import VarianceThreshold\n",
    "from sklearn.neighbors import NearestNeighbors\n",
    "from sklearn.metrics import silhouette_score, adjusted_rand_score\n",
    "from sklearn.cluster import KMeans\n",
    "import plotly.express as px\n",
    "import plotly.graph_objects as go\n",
    "from plotly.validators.scatter.marker import SymbolValidator\n",
    "from clustergrammer2 import net, Network, CGM2\n",
    "from BatchEffectDataLoader import DataPreprocess, DataTransform\n",
    "from BatchEffectPlots import plotPCA, plotOTUBox, plotRLE, plotClusterHeatMap\n",
    "from BatchEffectCorrection import correctCombat, correctLimma_rBE, correctSVD, correctPLSDA_batch\n",
    "from BatchEffectMetrics import kBET, iLISI, cLISI, ASW, ARI\n",
    "from skbio.stats.distance import permanova, DistanceMatrix\n",
    "from scipy.spatial.distance import pdist, squareform"
   ]
  },
  {
   "cell_type": "markdown",
   "metadata": {},
   "source": [
    "## Initial data preparation"
   ]
  },
  {
   "cell_type": "code",
   "execution_count": 2,
   "metadata": {},
   "outputs": [],
   "source": [
    "path = \"data/dataset_sponge.csv\"\n",
    "data = DataTransform(DataPreprocess(path))"
   ]
  },
  {
   "cell_type": "markdown",
   "metadata": {},
   "source": [
    "## Batch Effect Assessment plots"
   ]
  },
  {
   "cell_type": "markdown",
   "metadata": {},
   "source": [
    "### PCA plot"
   ]
  },
  {
   "cell_type": "code",
   "execution_count": 3,
   "metadata": {},
   "outputs": [
    {
     "data": {
      "application/vnd.plotly.v1+json": {
       "config": {
        "plotlyServerURL": "https://plot.ly"
       },
       "data": [
        {
         "legendgroup": "1",
         "legendgrouptitle": {
          "text": "Batch 1"
         },
         "marker": {
          "color": [
           "blue",
           "blue",
           "blue",
           "blue",
           "blue",
           "blue",
           "blue",
           "blue"
          ],
          "size": 8,
          "symbol": [
           "circle",
           "circle",
           "circle",
           "circle",
           "circle",
           "circle",
           "circle",
           "circle"
          ]
         },
         "mode": "markers",
         "name": "Ectosome",
         "type": "scatter",
         "x": [
          2.806934204934366,
          3.3842088090891504,
          1.5651338933242163,
          1.5443837890885428,
          2.150040878065517,
          2.1182600267051135,
          2.3416180983102377,
          3.0132253702632283
         ],
         "y": [
          -0.7825346781299365,
          -0.5916684087097217,
          -1.4888375412122963,
          -1.2861241130821548,
          -1.9235784388505193,
          -2.0672185846052527,
          -1.4343842367818906,
          -0.9951275563696634
         ]
        },
        {
         "legendgroup": "1",
         "legendgrouptitle": {
          "text": "Batch 1"
         },
         "marker": {
          "color": [
           "blue",
           "blue",
           "blue",
           "blue",
           "blue",
           "blue",
           "blue",
           "blue"
          ],
          "size": 8,
          "symbol": [
           "square",
           "square",
           "square",
           "square",
           "square",
           "square",
           "square",
           "square"
          ]
         },
         "mode": "markers",
         "name": "Choanosome",
         "type": "scatter",
         "x": [
          -2.349826171582337,
          -2.4961001388929738,
          -2.5989448607234635,
          -2.6708017778992703,
          -2.5945530168715294,
          -2.3605311089555006,
          -2.4151707940619214,
          -2.222159472566523
         ],
         "y": [
          -2.371279530438314,
          -2.809537600725959,
          -1.9449080685666549,
          -1.7566716757204237,
          -2.1597938423565823,
          -1.6737791428486928,
          -2.0403428791175036,
          -1.9976336121528873
         ]
        },
        {
         "legendgroup": "2",
         "legendgrouptitle": {
          "text": "Batch 2"
         },
         "marker": {
          "color": [
           "red",
           "red",
           "red",
           "red",
           "red",
           "red",
           "red",
           "red"
          ],
          "size": 8,
          "symbol": [
           "circle",
           "circle",
           "circle",
           "circle",
           "circle",
           "circle",
           "circle",
           "circle"
          ]
         },
         "mode": "markers",
         "name": "Ectosome",
         "type": "scatter",
         "x": [
          3.649588058491407,
          3.000134131689556,
          3.9879881178298606,
          2.0632214271377527,
          2.99747347557127,
          3.1836759374110764,
          3.6344702896225662,
          2.8634090120325832
         ],
         "y": [
          0.1856661634623206,
          0.5204621473657693,
          0.9038989901772633,
          0.4504547789877378,
          2.1573987488339474,
          2.1706815117804754,
          1.8799918787418692,
          2.170860565200681
         ]
        },
        {
         "legendgroup": "2",
         "legendgrouptitle": {
          "text": "Batch 2"
         },
         "marker": {
          "color": [
           "red",
           "red",
           "red",
           "red",
           "red",
           "red",
           "red",
           "red"
          ],
          "size": 8,
          "symbol": [
           "square",
           "square",
           "square",
           "square",
           "square",
           "square",
           "square",
           "square"
          ]
         },
         "mode": "markers",
         "name": "Choanosome",
         "type": "scatter",
         "x": [
          -3.218863190141542,
          -3.229604842173179,
          -3.182713538702838,
          -3.203873020544119,
          -2.963752142877925,
          -2.852443801198328,
          -2.8934282032005476,
          -3.050999439174445
         ],
         "y": [
          1.566596230444401,
          0.7287052578438282,
          1.3167384097856267,
          1.2034759712811656,
          2.978541858721206,
          2.688395766832968,
          2.5692765533016084,
          3.8322750769075857
         ]
        }
       ],
       "layout": {
        "template": {
         "data": {
          "bar": [
           {
            "error_x": {
             "color": "#2a3f5f"
            },
            "error_y": {
             "color": "#2a3f5f"
            },
            "marker": {
             "line": {
              "color": "#E5ECF6",
              "width": 0.5
             },
             "pattern": {
              "fillmode": "overlay",
              "size": 10,
              "solidity": 0.2
             }
            },
            "type": "bar"
           }
          ],
          "barpolar": [
           {
            "marker": {
             "line": {
              "color": "#E5ECF6",
              "width": 0.5
             },
             "pattern": {
              "fillmode": "overlay",
              "size": 10,
              "solidity": 0.2
             }
            },
            "type": "barpolar"
           }
          ],
          "carpet": [
           {
            "aaxis": {
             "endlinecolor": "#2a3f5f",
             "gridcolor": "white",
             "linecolor": "white",
             "minorgridcolor": "white",
             "startlinecolor": "#2a3f5f"
            },
            "baxis": {
             "endlinecolor": "#2a3f5f",
             "gridcolor": "white",
             "linecolor": "white",
             "minorgridcolor": "white",
             "startlinecolor": "#2a3f5f"
            },
            "type": "carpet"
           }
          ],
          "choropleth": [
           {
            "colorbar": {
             "outlinewidth": 0,
             "ticks": ""
            },
            "type": "choropleth"
           }
          ],
          "contour": [
           {
            "colorbar": {
             "outlinewidth": 0,
             "ticks": ""
            },
            "colorscale": [
             [
              0,
              "#0d0887"
             ],
             [
              0.1111111111111111,
              "#46039f"
             ],
             [
              0.2222222222222222,
              "#7201a8"
             ],
             [
              0.3333333333333333,
              "#9c179e"
             ],
             [
              0.4444444444444444,
              "#bd3786"
             ],
             [
              0.5555555555555556,
              "#d8576b"
             ],
             [
              0.6666666666666666,
              "#ed7953"
             ],
             [
              0.7777777777777778,
              "#fb9f3a"
             ],
             [
              0.8888888888888888,
              "#fdca26"
             ],
             [
              1,
              "#f0f921"
             ]
            ],
            "type": "contour"
           }
          ],
          "contourcarpet": [
           {
            "colorbar": {
             "outlinewidth": 0,
             "ticks": ""
            },
            "type": "contourcarpet"
           }
          ],
          "heatmap": [
           {
            "colorbar": {
             "outlinewidth": 0,
             "ticks": ""
            },
            "colorscale": [
             [
              0,
              "#0d0887"
             ],
             [
              0.1111111111111111,
              "#46039f"
             ],
             [
              0.2222222222222222,
              "#7201a8"
             ],
             [
              0.3333333333333333,
              "#9c179e"
             ],
             [
              0.4444444444444444,
              "#bd3786"
             ],
             [
              0.5555555555555556,
              "#d8576b"
             ],
             [
              0.6666666666666666,
              "#ed7953"
             ],
             [
              0.7777777777777778,
              "#fb9f3a"
             ],
             [
              0.8888888888888888,
              "#fdca26"
             ],
             [
              1,
              "#f0f921"
             ]
            ],
            "type": "heatmap"
           }
          ],
          "heatmapgl": [
           {
            "colorbar": {
             "outlinewidth": 0,
             "ticks": ""
            },
            "colorscale": [
             [
              0,
              "#0d0887"
             ],
             [
              0.1111111111111111,
              "#46039f"
             ],
             [
              0.2222222222222222,
              "#7201a8"
             ],
             [
              0.3333333333333333,
              "#9c179e"
             ],
             [
              0.4444444444444444,
              "#bd3786"
             ],
             [
              0.5555555555555556,
              "#d8576b"
             ],
             [
              0.6666666666666666,
              "#ed7953"
             ],
             [
              0.7777777777777778,
              "#fb9f3a"
             ],
             [
              0.8888888888888888,
              "#fdca26"
             ],
             [
              1,
              "#f0f921"
             ]
            ],
            "type": "heatmapgl"
           }
          ],
          "histogram": [
           {
            "marker": {
             "pattern": {
              "fillmode": "overlay",
              "size": 10,
              "solidity": 0.2
             }
            },
            "type": "histogram"
           }
          ],
          "histogram2d": [
           {
            "colorbar": {
             "outlinewidth": 0,
             "ticks": ""
            },
            "colorscale": [
             [
              0,
              "#0d0887"
             ],
             [
              0.1111111111111111,
              "#46039f"
             ],
             [
              0.2222222222222222,
              "#7201a8"
             ],
             [
              0.3333333333333333,
              "#9c179e"
             ],
             [
              0.4444444444444444,
              "#bd3786"
             ],
             [
              0.5555555555555556,
              "#d8576b"
             ],
             [
              0.6666666666666666,
              "#ed7953"
             ],
             [
              0.7777777777777778,
              "#fb9f3a"
             ],
             [
              0.8888888888888888,
              "#fdca26"
             ],
             [
              1,
              "#f0f921"
             ]
            ],
            "type": "histogram2d"
           }
          ],
          "histogram2dcontour": [
           {
            "colorbar": {
             "outlinewidth": 0,
             "ticks": ""
            },
            "colorscale": [
             [
              0,
              "#0d0887"
             ],
             [
              0.1111111111111111,
              "#46039f"
             ],
             [
              0.2222222222222222,
              "#7201a8"
             ],
             [
              0.3333333333333333,
              "#9c179e"
             ],
             [
              0.4444444444444444,
              "#bd3786"
             ],
             [
              0.5555555555555556,
              "#d8576b"
             ],
             [
              0.6666666666666666,
              "#ed7953"
             ],
             [
              0.7777777777777778,
              "#fb9f3a"
             ],
             [
              0.8888888888888888,
              "#fdca26"
             ],
             [
              1,
              "#f0f921"
             ]
            ],
            "type": "histogram2dcontour"
           }
          ],
          "mesh3d": [
           {
            "colorbar": {
             "outlinewidth": 0,
             "ticks": ""
            },
            "type": "mesh3d"
           }
          ],
          "parcoords": [
           {
            "line": {
             "colorbar": {
              "outlinewidth": 0,
              "ticks": ""
             }
            },
            "type": "parcoords"
           }
          ],
          "pie": [
           {
            "automargin": true,
            "type": "pie"
           }
          ],
          "scatter": [
           {
            "fillpattern": {
             "fillmode": "overlay",
             "size": 10,
             "solidity": 0.2
            },
            "type": "scatter"
           }
          ],
          "scatter3d": [
           {
            "line": {
             "colorbar": {
              "outlinewidth": 0,
              "ticks": ""
             }
            },
            "marker": {
             "colorbar": {
              "outlinewidth": 0,
              "ticks": ""
             }
            },
            "type": "scatter3d"
           }
          ],
          "scattercarpet": [
           {
            "marker": {
             "colorbar": {
              "outlinewidth": 0,
              "ticks": ""
             }
            },
            "type": "scattercarpet"
           }
          ],
          "scattergeo": [
           {
            "marker": {
             "colorbar": {
              "outlinewidth": 0,
              "ticks": ""
             }
            },
            "type": "scattergeo"
           }
          ],
          "scattergl": [
           {
            "marker": {
             "colorbar": {
              "outlinewidth": 0,
              "ticks": ""
             }
            },
            "type": "scattergl"
           }
          ],
          "scattermapbox": [
           {
            "marker": {
             "colorbar": {
              "outlinewidth": 0,
              "ticks": ""
             }
            },
            "type": "scattermapbox"
           }
          ],
          "scatterpolar": [
           {
            "marker": {
             "colorbar": {
              "outlinewidth": 0,
              "ticks": ""
             }
            },
            "type": "scatterpolar"
           }
          ],
          "scatterpolargl": [
           {
            "marker": {
             "colorbar": {
              "outlinewidth": 0,
              "ticks": ""
             }
            },
            "type": "scatterpolargl"
           }
          ],
          "scatterternary": [
           {
            "marker": {
             "colorbar": {
              "outlinewidth": 0,
              "ticks": ""
             }
            },
            "type": "scatterternary"
           }
          ],
          "surface": [
           {
            "colorbar": {
             "outlinewidth": 0,
             "ticks": ""
            },
            "colorscale": [
             [
              0,
              "#0d0887"
             ],
             [
              0.1111111111111111,
              "#46039f"
             ],
             [
              0.2222222222222222,
              "#7201a8"
             ],
             [
              0.3333333333333333,
              "#9c179e"
             ],
             [
              0.4444444444444444,
              "#bd3786"
             ],
             [
              0.5555555555555556,
              "#d8576b"
             ],
             [
              0.6666666666666666,
              "#ed7953"
             ],
             [
              0.7777777777777778,
              "#fb9f3a"
             ],
             [
              0.8888888888888888,
              "#fdca26"
             ],
             [
              1,
              "#f0f921"
             ]
            ],
            "type": "surface"
           }
          ],
          "table": [
           {
            "cells": {
             "fill": {
              "color": "#EBF0F8"
             },
             "line": {
              "color": "white"
             }
            },
            "header": {
             "fill": {
              "color": "#C8D4E3"
             },
             "line": {
              "color": "white"
             }
            },
            "type": "table"
           }
          ]
         },
         "layout": {
          "annotationdefaults": {
           "arrowcolor": "#2a3f5f",
           "arrowhead": 0,
           "arrowwidth": 1
          },
          "autotypenumbers": "strict",
          "coloraxis": {
           "colorbar": {
            "outlinewidth": 0,
            "ticks": ""
           }
          },
          "colorscale": {
           "diverging": [
            [
             0,
             "#8e0152"
            ],
            [
             0.1,
             "#c51b7d"
            ],
            [
             0.2,
             "#de77ae"
            ],
            [
             0.3,
             "#f1b6da"
            ],
            [
             0.4,
             "#fde0ef"
            ],
            [
             0.5,
             "#f7f7f7"
            ],
            [
             0.6,
             "#e6f5d0"
            ],
            [
             0.7,
             "#b8e186"
            ],
            [
             0.8,
             "#7fbc41"
            ],
            [
             0.9,
             "#4d9221"
            ],
            [
             1,
             "#276419"
            ]
           ],
           "sequential": [
            [
             0,
             "#0d0887"
            ],
            [
             0.1111111111111111,
             "#46039f"
            ],
            [
             0.2222222222222222,
             "#7201a8"
            ],
            [
             0.3333333333333333,
             "#9c179e"
            ],
            [
             0.4444444444444444,
             "#bd3786"
            ],
            [
             0.5555555555555556,
             "#d8576b"
            ],
            [
             0.6666666666666666,
             "#ed7953"
            ],
            [
             0.7777777777777778,
             "#fb9f3a"
            ],
            [
             0.8888888888888888,
             "#fdca26"
            ],
            [
             1,
             "#f0f921"
            ]
           ],
           "sequentialminus": [
            [
             0,
             "#0d0887"
            ],
            [
             0.1111111111111111,
             "#46039f"
            ],
            [
             0.2222222222222222,
             "#7201a8"
            ],
            [
             0.3333333333333333,
             "#9c179e"
            ],
            [
             0.4444444444444444,
             "#bd3786"
            ],
            [
             0.5555555555555556,
             "#d8576b"
            ],
            [
             0.6666666666666666,
             "#ed7953"
            ],
            [
             0.7777777777777778,
             "#fb9f3a"
            ],
            [
             0.8888888888888888,
             "#fdca26"
            ],
            [
             1,
             "#f0f921"
            ]
           ]
          },
          "colorway": [
           "#636efa",
           "#EF553B",
           "#00cc96",
           "#ab63fa",
           "#FFA15A",
           "#19d3f3",
           "#FF6692",
           "#B6E880",
           "#FF97FF",
           "#FECB52"
          ],
          "font": {
           "color": "#2a3f5f"
          },
          "geo": {
           "bgcolor": "white",
           "lakecolor": "white",
           "landcolor": "#E5ECF6",
           "showlakes": true,
           "showland": true,
           "subunitcolor": "white"
          },
          "hoverlabel": {
           "align": "left"
          },
          "hovermode": "closest",
          "mapbox": {
           "style": "light"
          },
          "paper_bgcolor": "white",
          "plot_bgcolor": "#E5ECF6",
          "polar": {
           "angularaxis": {
            "gridcolor": "white",
            "linecolor": "white",
            "ticks": ""
           },
           "bgcolor": "#E5ECF6",
           "radialaxis": {
            "gridcolor": "white",
            "linecolor": "white",
            "ticks": ""
           }
          },
          "scene": {
           "xaxis": {
            "backgroundcolor": "#E5ECF6",
            "gridcolor": "white",
            "gridwidth": 2,
            "linecolor": "white",
            "showbackground": true,
            "ticks": "",
            "zerolinecolor": "white"
           },
           "yaxis": {
            "backgroundcolor": "#E5ECF6",
            "gridcolor": "white",
            "gridwidth": 2,
            "linecolor": "white",
            "showbackground": true,
            "ticks": "",
            "zerolinecolor": "white"
           },
           "zaxis": {
            "backgroundcolor": "#E5ECF6",
            "gridcolor": "white",
            "gridwidth": 2,
            "linecolor": "white",
            "showbackground": true,
            "ticks": "",
            "zerolinecolor": "white"
           }
          },
          "shapedefaults": {
           "line": {
            "color": "#2a3f5f"
           }
          },
          "ternary": {
           "aaxis": {
            "gridcolor": "white",
            "linecolor": "white",
            "ticks": ""
           },
           "baxis": {
            "gridcolor": "white",
            "linecolor": "white",
            "ticks": ""
           },
           "bgcolor": "#E5ECF6",
           "caxis": {
            "gridcolor": "white",
            "linecolor": "white",
            "ticks": ""
           }
          },
          "title": {
           "x": 0.05
          },
          "xaxis": {
           "automargin": true,
           "gridcolor": "white",
           "linecolor": "white",
           "ticks": "",
           "title": {
            "standoff": 15
           },
           "zerolinecolor": "white",
           "zerolinewidth": 2
          },
          "yaxis": {
           "automargin": true,
           "gridcolor": "white",
           "linecolor": "white",
           "ticks": "",
           "title": {
            "standoff": 15
           },
           "zerolinecolor": "white",
           "zerolinewidth": 2
          }
         }
        },
        "xaxis": {
         "range": [
          -5,
          5
         ]
        },
        "yaxis": {
         "range": [
          -5,
          5
         ]
        }
       }
      }
     },
     "metadata": {},
     "output_type": "display_data"
    }
   ],
   "source": [
    "plotPCA(data)"
   ]
  },
  {
   "cell_type": "markdown",
   "metadata": {},
   "source": [
    "### OTU Boxplot"
   ]
  },
  {
   "cell_type": "code",
   "execution_count": null,
   "metadata": {},
   "outputs": [],
   "source": [
    "plotOTUBox(data)"
   ]
  },
  {
   "cell_type": "markdown",
   "metadata": {},
   "source": [
    "### RLE plot"
   ]
  },
  {
   "cell_type": "code",
   "execution_count": null,
   "metadata": {},
   "outputs": [],
   "source": [
    "plotRLE(data)"
   ]
  },
  {
   "cell_type": "markdown",
   "metadata": {},
   "source": [
    "### Heat Map cluster"
   ]
  },
  {
   "cell_type": "code",
   "execution_count": null,
   "metadata": {},
   "outputs": [],
   "source": [
    "plotClusterHeatMap(data)"
   ]
  },
  {
   "cell_type": "markdown",
   "metadata": {},
   "source": [
    "## Batch Effect Correction"
   ]
  },
  {
   "cell_type": "markdown",
   "metadata": {},
   "source": [
    "### ComBat"
   ]
  },
  {
   "cell_type": "code",
   "execution_count": null,
   "metadata": {},
   "outputs": [],
   "source": [
    "data_combat = correctCombat(data)"
   ]
  },
  {
   "cell_type": "code",
   "execution_count": null,
   "metadata": {},
   "outputs": [],
   "source": [
    "plotPCA(data_combat)"
   ]
  },
  {
   "cell_type": "markdown",
   "metadata": {},
   "source": [
    "### limma - removeBatchEffect"
   ]
  },
  {
   "cell_type": "code",
   "execution_count": null,
   "metadata": {},
   "outputs": [],
   "source": [
    "data_limma = correctLimma_rBE(data, covariates_labels = [\"tissue\"])"
   ]
  },
  {
   "cell_type": "code",
   "execution_count": null,
   "metadata": {},
   "outputs": [],
   "source": [
    "plotPCA(data_limma)"
   ]
  },
  {
   "cell_type": "markdown",
   "metadata": {},
   "source": [
    "### SVD"
   ]
  },
  {
   "cell_type": "code",
   "execution_count": null,
   "metadata": {},
   "outputs": [],
   "source": [
    "data_SVD = correctSVD(data)"
   ]
  },
  {
   "cell_type": "code",
   "execution_count": null,
   "metadata": {},
   "outputs": [],
   "source": [
    "plotPCA(data_SVD)"
   ]
  },
  {
   "cell_type": "markdown",
   "metadata": {},
   "source": [
    "### PLSDA-batch"
   ]
  },
  {
   "cell_type": "code",
   "execution_count": null,
   "metadata": {},
   "outputs": [],
   "source": [
    "data_PLSDA = correctPLSDA_batch(data)"
   ]
  },
  {
   "cell_type": "code",
   "execution_count": null,
   "metadata": {},
   "outputs": [],
   "source": [
    "plotPCA(data_PLSDA)"
   ]
  },
  {
   "cell_type": "markdown",
   "metadata": {},
   "source": [
    "### ConQuR"
   ]
  },
  {
   "cell_type": "markdown",
   "metadata": {},
   "source": [
    "## Batch Effect Quantitative Metrics"
   ]
  },
  {
   "cell_type": "markdown",
   "metadata": {},
   "source": [
    "### kBET"
   ]
  },
  {
   "cell_type": "code",
   "execution_count": null,
   "metadata": {},
   "outputs": [],
   "source": [
    "print(\"kBET with original data: {}\".format(kBET(data)))\n",
    "print(\"kBET with ComBat corrected data: {}\".format(kBET(data_combat)))\n",
    "print(\"kBET with limma corrected data: {}\".format(kBET(data_limma)))\n",
    "print(\"kBET with SVD-based corrected data: {}\".format(kBET(data_SVD)))\n",
    "print(\"kBET with PLSDA-batch corrected data: {}\".format(kBET(data_PLSDA)))"
   ]
  },
  {
   "cell_type": "markdown",
   "metadata": {},
   "source": [
    "### LISI"
   ]
  },
  {
   "cell_type": "code",
   "execution_count": null,
   "metadata": {},
   "outputs": [],
   "source": [
    "print(\"iLISI with original data: {}\".format(iLISI(data)))\n",
    "print(\"iLISI with ComBat corrected data: {}\".format(iLISI(data_combat)))\n",
    "print(\"iLISI with limma corrected data: {}\".format(iLISI(data_limma)))\n",
    "print(\"iLISI with SVD-based corrected data: {}\".format(iLISI(data_SVD)))\n",
    "print(\"iLISI with PLSDA-batch corrected data: {}\".format(iLISI(data_PLSDA)))\n",
    "\n",
    "print(\"cLISI with original data: {}\".format(cLISI(data)))\n",
    "print(\"cLISI with ComBat corrected data: {}\".format(cLISI(data_combat)))\n",
    "print(\"cLISI with limma corrected data: {}\".format(cLISI(data_limma)))\n",
    "print(\"cLISI with SVD-based corrected data: {}\".format(cLISI(data_SVD)))\n",
    "print(\"cLISI with PLSDA-batch corrected data: {}\".format(cLISI(data_PLSDA)))"
   ]
  },
  {
   "cell_type": "markdown",
   "metadata": {},
   "source": [
    "### ASW"
   ]
  },
  {
   "cell_type": "code",
   "execution_count": null,
   "metadata": {},
   "outputs": [],
   "source": [
    "print(\"ASW with original data: {}\".format(ASW(data)))\n",
    "print(\"ASW with ComBat corrected data: {}\".format(ASW(data_combat)))\n",
    "print(\"ASW with limma corrected data: {}\".format(ASW(data_limma)))\n",
    "print(\"ASW with SVD-based corrected data: {}\".format(ASW(data_SVD)))\n",
    "print(\"ASW with PLSDA-batch corrected data: {}\".format(ASW(data_PLSDA)))"
   ]
  },
  {
   "cell_type": "markdown",
   "metadata": {},
   "source": [
    "### ARI"
   ]
  },
  {
   "cell_type": "code",
   "execution_count": null,
   "metadata": {},
   "outputs": [],
   "source": [
    "print(\"ARI with original data: {}\".format(ARI(data)))\n",
    "print(\"ARI with ComBat corrected data: {}\".format(ARI(data_combat)))\n",
    "print(\"ARI with limma corrected data: {}\".format(ARI(data_limma)))\n",
    "print(\"ARI with SVD-based corrected data: {}\".format(ARI(data_SVD)))\n",
    "print(\"ARI with PLSDA-batch corrected data: {}\".format(ARI(data_PLSDA)))"
   ]
  },
  {
   "cell_type": "markdown",
   "metadata": {},
   "source": [
    "## Case Study: Batch Effect Correction DRE analysis"
   ]
  },
  {
   "cell_type": "markdown",
   "metadata": {},
   "source": [
    "### PERMANOVA analysis between tissues"
   ]
  },
  {
   "cell_type": "code",
   "execution_count": null,
   "metadata": {},
   "outputs": [],
   "source": [
    "sample_ids = data[\"sample\"].tolist() \n",
    "tissue_labels = data.set_index(\"sample\").loc[sample_ids, \"tissue\"].tolist()\n",
    "\n",
    "euclidean_dist = squareform(pdist(data.select_dtypes(include=\"number\"), metric=\"euclidean\"))\n",
    "distance_matrix = DistanceMatrix(euclidean_dist, ids = sample_ids)\n",
    "\n",
    "permanova(distance_matrix, grouping=tissue_labels)"
   ]
  },
  {
   "cell_type": "code",
   "execution_count": null,
   "metadata": {},
   "outputs": [],
   "source": [
    "sample_ids = data_combat[\"sample\"].tolist() \n",
    "tissue_labels = data_combat.set_index(\"sample\").loc[sample_ids, \"tissue\"].tolist()\n",
    "\n",
    "euclidean_dist = squareform(pdist(data_combat.select_dtypes(include=\"number\"), metric=\"euclidean\"))\n",
    "distance_matrix = DistanceMatrix(euclidean_dist, ids = sample_ids)\n",
    "\n",
    "permanova(distance_matrix, grouping=tissue_labels)"
   ]
  },
  {
   "cell_type": "code",
   "execution_count": null,
   "metadata": {},
   "outputs": [],
   "source": [
    "sample_ids = data_limma[\"sample\"].tolist() \n",
    "tissue_labels = data_limma.set_index(\"sample\").loc[sample_ids, \"tissue\"].tolist()\n",
    "\n",
    "euclidean_dist = squareform(pdist(data_limma.select_dtypes(include=\"number\"), metric=\"euclidean\"))\n",
    "distance_matrix = DistanceMatrix(euclidean_dist, ids = sample_ids)\n",
    "\n",
    "permanova(distance_matrix, grouping=tissue_labels)"
   ]
  },
  {
   "cell_type": "markdown",
   "metadata": {},
   "source": [
    "### DRE Analysis"
   ]
  },
  {
   "cell_type": "markdown",
   "metadata": {},
   "source": [
    "#### Construct data with different transformations"
   ]
  },
  {
   "cell_type": "code",
   "execution_count": null,
   "metadata": {},
   "outputs": [],
   "source": [
    "#Loading data with CLR transformations\n",
    "data_sqrt = DataPreprocess(path, preprocess=True, transformation = \"Sqrt\")\n",
    "data_clr = DataPreprocess(path, preprocess=True, transformation = \"CLR\")"
   ]
  },
  {
   "cell_type": "markdown",
   "metadata": {},
   "source": [
    "#### Identify significantly different OTUs between tissues"
   ]
  },
  {
   "cell_type": "markdown",
   "metadata": {},
   "source": [
    "##### Square-root transformed data"
   ]
  },
  {
   "cell_type": "code",
   "execution_count": null,
   "metadata": {},
   "outputs": [],
   "source": [
    "# Store results\n",
    "otu_results = []\n",
    "\n",
    "# Perform Mann-Whitney for each OTU\n",
    "for otu in data_sqrt.select_dtypes(include=\"number\").columns:\n",
    "    group_E = data_sqrt.loc[data_sqrt[\"tissue\"] == \"Ectosome\", otu]\n",
    "    group_C = data_sqrt.loc[data_sqrt[\"tissue\"] == \"Choanosome\", otu]\n",
    "\n",
    "    #Mann-Whitney\n",
    "    stat, p_value = mannwhitneyu(group_E, group_C, alternative=\"two-sided\")\n",
    "\n",
    "    #Only store significant results\n",
    "    if p_value < 0.05:\n",
    "        #Append results\n",
    "        otu_results.append({\"OTU\": otu, \"U-statistic\": stat, \"p-value\": p_value})\n",
    "\n",
    "# Convert to DataFrame\n",
    "otu_results_df = pd.DataFrame(otu_results)\n",
    "\n",
    "# Display results\n",
    "print(otu_results_df.sort_values(by=\"p-value\"))"
   ]
  },
  {
   "cell_type": "code",
   "execution_count": null,
   "metadata": {},
   "outputs": [],
   "source": [
    "#Applying ComBat\n",
    "data_sqrt_combat = correctCombat(data_sqrt)\n",
    "\n",
    "# Store results\n",
    "otu_results = []\n",
    "\n",
    "# Perform Mann-Whitney for each OTU\n",
    "for otu in data_sqrt_combat.select_dtypes(include=\"number\").columns:\n",
    "    group_E = data_sqrt_combat.loc[data_sqrt_combat[\"tissue\"] == \"Ectosome\", otu]\n",
    "    group_C = data_sqrt_combat.loc[data_sqrt_combat[\"tissue\"] == \"Choanosome\", otu]\n",
    "\n",
    "    #Mann-Whitney\n",
    "    stat, p_value = mannwhitneyu(group_E, group_C, alternative=\"two-sided\")\n",
    "\n",
    "    #Only store significant results\n",
    "    if p_value < 0.05:\n",
    "        #Append results\n",
    "        otu_results.append({\"OTU\": otu, \"U-statistic\": stat, \"p-value\": p_value})\n",
    "\n",
    "# Convert to DataFrame\n",
    "otu_results_df = pd.DataFrame(otu_results)\n",
    "\n",
    "# Display results\n",
    "print(otu_results_df.sort_values(by=\"p-value\"))"
   ]
  },
  {
   "cell_type": "code",
   "execution_count": null,
   "metadata": {},
   "outputs": [],
   "source": [
    "#Applying limma - removeBatchEffect\n",
    "data_sqrt_limma = correctLimma_rBE(data_sqrt, covariates_labels=[\"tissue\"])\n",
    "\n",
    "# Store results\n",
    "otu_results = []\n",
    "\n",
    "# Perform Mann-Whitney for each OTU\n",
    "for otu in data_sqrt_limma.select_dtypes(include=\"number\").columns:\n",
    "    group_E = data_sqrt_limma.loc[data_sqrt_limma[\"tissue\"] == \"Ectosome\", otu]\n",
    "    group_C = data_sqrt_limma.loc[data_sqrt_limma[\"tissue\"] == \"Choanosome\", otu]\n",
    "\n",
    "    #Mann-Whitney\n",
    "    stat, p_value = mannwhitneyu(group_E, group_C, alternative=\"two-sided\")\n",
    "\n",
    "    #Only store significant results\n",
    "    if p_value < 0.05:\n",
    "        #Append results\n",
    "        otu_results.append({\"OTU\": otu, \"U-statistic\": stat, \"p-value\": p_value})\n",
    "\n",
    "# Convert to DataFrame\n",
    "otu_results_df = pd.DataFrame(otu_results)\n",
    "\n",
    "# Display results\n",
    "print(otu_results_df.sort_values(by=\"p-value\"))"
   ]
  },
  {
   "cell_type": "markdown",
   "metadata": {},
   "source": [
    "By correcting with ComBat OTUs 18, 14, 17 and 12 where added as significantly different\n",
    "\n",
    "By correcting with limma OTUs 14 and 17 where added as significantly different"
   ]
  },
  {
   "cell_type": "code",
   "execution_count": null,
   "metadata": {},
   "outputs": [],
   "source": [
    "#Applying SVD\n",
    "data_sqrt_svd = correctSVD(data_sqrt)\n",
    "\n",
    "# Store results\n",
    "otu_results = []\n",
    "\n",
    "# Perform Mann-Whitney for each OTU\n",
    "for otu in data_sqrt_svd.select_dtypes(include=\"number\").columns:\n",
    "    group_E = data_sqrt_svd.loc[data_sqrt_svd[\"tissue\"] == \"Ectosome\", otu]\n",
    "    group_C = data_sqrt_svd.loc[data_sqrt_svd[\"tissue\"] == \"Choanosome\", otu]\n",
    "\n",
    "    #Mann-Whitney\n",
    "    stat, p_value = mannwhitneyu(group_E, group_C, alternative=\"two-sided\")\n",
    "\n",
    "    #Only store significant results\n",
    "    if p_value < 0.05:\n",
    "        #Append results\n",
    "        otu_results.append({\"OTU\": otu, \"U-statistic\": stat, \"p-value\": p_value})\n",
    "\n",
    "# Convert to DataFrame\n",
    "otu_results_df = pd.DataFrame(otu_results)\n",
    "\n",
    "# Display results\n",
    "print(otu_results_df.sort_values(by=\"p-value\"))"
   ]
  },
  {
   "cell_type": "code",
   "execution_count": null,
   "metadata": {},
   "outputs": [],
   "source": [
    "#Applying PLSDA-batch\n",
    "data_sqrt_plsda = correctPLSDA_batch(data_sqrt)\n",
    "\n",
    "# Store results\n",
    "otu_results = []\n",
    "\n",
    "# Perform Mann-Whitney for each OTU\n",
    "for otu in data_sqrt_plsda.select_dtypes(include=\"number\").columns:\n",
    "    group_E = data_sqrt_plsda.loc[data_sqrt_plsda[\"tissue\"] == \"Ectosome\", otu]\n",
    "    group_C = data_sqrt_plsda.loc[data_sqrt_plsda[\"tissue\"] == \"Choanosome\", otu]\n",
    "\n",
    "    #Mann-Whitney\n",
    "    stat, p_value = mannwhitneyu(group_E, group_C, alternative=\"two-sided\")\n",
    "\n",
    "    #Only store significant results\n",
    "    if p_value < 0.05:\n",
    "        #Append results\n",
    "        otu_results.append({\"OTU\": otu, \"U-statistic\": stat, \"p-value\": p_value})\n",
    "\n",
    "# Convert to DataFrame\n",
    "otu_results_df = pd.DataFrame(otu_results)\n",
    "\n",
    "# Display results\n",
    "print(otu_results_df.sort_values(by=\"p-value\"))"
   ]
  },
  {
   "cell_type": "markdown",
   "metadata": {},
   "source": [
    "##### Center log-ratio transformed data"
   ]
  },
  {
   "cell_type": "code",
   "execution_count": null,
   "metadata": {},
   "outputs": [],
   "source": [
    "# Store results\n",
    "otu_results = []\n",
    "\n",
    "# Perform Mann-Whitney for each OTU\n",
    "for otu in data_clr.select_dtypes(include=\"number\").columns:\n",
    "    group_E = data_clr.loc[data_sqrt[\"tissue\"] == \"Ectosome\", otu]\n",
    "    group_C = data_clr.loc[data_sqrt[\"tissue\"] == \"Choanosome\", otu]\n",
    "\n",
    "    #Mann-Whitney\n",
    "    stat, p_value = mannwhitneyu(group_E, group_C, alternative=\"two-sided\")\n",
    "\n",
    "    #Only store significant results\n",
    "    if p_value < 0.05:\n",
    "        #Append results\n",
    "        otu_results.append({\"OTU\": otu, \"U-statistic\": stat, \"p-value\": p_value})\n",
    "\n",
    "# Convert to DataFrame\n",
    "otu_results_df = pd.DataFrame(otu_results)\n",
    "\n",
    "# Display results\n",
    "print(otu_results_df)"
   ]
  },
  {
   "cell_type": "code",
   "execution_count": null,
   "metadata": {},
   "outputs": [],
   "source": [
    "#Applying ComBat\n",
    "data_clr_combat = correctCombat(data_clr)\n",
    "\n",
    "# Store results\n",
    "otu_results = []\n",
    "\n",
    "# Perform Mann-Whitney for each OTU\n",
    "for otu in data_clr_combat.select_dtypes(include=\"number\").columns:\n",
    "    group_E = data_clr_combat.loc[data_clr_combat[\"tissue\"] == \"Ectosome\", otu]\n",
    "    group_C = data_clr_combat.loc[data_clr_combat[\"tissue\"] == \"Choanosome\", otu]\n",
    "\n",
    "    #Mann-Whitney\n",
    "    stat, p_value = mannwhitneyu(group_E, group_C, alternative=\"two-sided\")\n",
    "\n",
    "    #Only store significant results\n",
    "    if p_value < 0.05:\n",
    "        #Append results\n",
    "        otu_results.append({\"OTU\": otu, \"U-statistic\": stat, \"p-value\": p_value})\n",
    "\n",
    "# Convert to DataFrame\n",
    "otu_results_df = pd.DataFrame(otu_results)\n",
    "\n",
    "# Display results\n",
    "print(otu_results_df)"
   ]
  },
  {
   "cell_type": "code",
   "execution_count": null,
   "metadata": {},
   "outputs": [],
   "source": [
    "#Applying limma - removeBatchEffect\n",
    "data_clr_limma = correctLimma_rBE(data_clr, covariates_labels=[\"tissue\"])\n",
    "\n",
    "# Store results\n",
    "otu_results = []\n",
    "\n",
    "# Perform Mann-Whitney for each OTU\n",
    "for otu in data_clr_limma.select_dtypes(include=\"number\").columns:\n",
    "    group_E = data_clr_limma.loc[data_clr_limma[\"tissue\"] == \"Ectosome\", otu]\n",
    "    group_C = data_clr_limma.loc[data_clr_limma[\"tissue\"] == \"Choanosome\", otu]\n",
    "\n",
    "    #Mann-Whitney\n",
    "    stat, p_value = mannwhitneyu(group_E, group_C, alternative=\"two-sided\")\n",
    "\n",
    "    #Only store significant results\n",
    "    if p_value < 0.05:\n",
    "        #Append results\n",
    "        otu_results.append({\"OTU\": otu, \"U-statistic\": stat, \"p-value\": p_value})\n",
    "\n",
    "# Convert to DataFrame\n",
    "otu_results_df = pd.DataFrame(otu_results)\n",
    "\n",
    "# Display results\n",
    "print(otu_results_df)"
   ]
  },
  {
   "cell_type": "markdown",
   "metadata": {},
   "source": [
    "By applying ComBat OTUs 14, 23 and 24 where added as significantly different, while OTUs 1, 13 and 22 where removed.\n",
    "\n",
    "By applying limma OTUs 14 and 24 where added as significantly different, while OTU 22 was removed."
   ]
  },
  {
   "cell_type": "code",
   "execution_count": null,
   "metadata": {},
   "outputs": [],
   "source": [
    "#Applying SVD\n",
    "data_clr_svd = correctSVD(data_clr)\n",
    "\n",
    "# Store results\n",
    "otu_results = []\n",
    "\n",
    "# Perform Mann-Whitney for each OTU\n",
    "for otu in data_clr_svd.select_dtypes(include=\"number\").columns:\n",
    "    group_E = data_clr_svd.loc[data_clr_svd[\"tissue\"] == \"Ectosome\", otu]\n",
    "    group_C = data_clr_svd.loc[data_clr_svd[\"tissue\"] == \"Choanosome\", otu]\n",
    "\n",
    "    #Mann-Whitney\n",
    "    stat, p_value = mannwhitneyu(group_E, group_C, alternative=\"two-sided\")\n",
    "\n",
    "    #Only store significant results\n",
    "    if p_value < 0.05:\n",
    "        #Append results\n",
    "        otu_results.append({\"OTU\": otu, \"U-statistic\": stat, \"p-value\": p_value})\n",
    "\n",
    "# Convert to DataFrame\n",
    "otu_results_df = pd.DataFrame(otu_results)\n",
    "\n",
    "# Display results\n",
    "print(otu_results_df)"
   ]
  },
  {
   "cell_type": "code",
   "execution_count": null,
   "metadata": {},
   "outputs": [],
   "source": [
    "#Applying PLSDA-batch\n",
    "data_clr_plsda = correctPLSDA_batch(data_clr)\n",
    "\n",
    "# Store results\n",
    "otu_results = []\n",
    "\n",
    "# Perform Mann-Whitney for each OTU\n",
    "for otu in data_clr_plsda.select_dtypes(include=\"number\").columns:\n",
    "    group_E = data_clr_plsda.loc[data_clr_plsda[\"tissue\"] == \"Ectosome\", otu]\n",
    "    group_C = data_clr_plsda.loc[data_clr_plsda[\"tissue\"] == \"Choanosome\", otu]\n",
    "\n",
    "    #Mann-Whitney\n",
    "    stat, p_value = mannwhitneyu(group_E, group_C, alternative=\"two-sided\")\n",
    "\n",
    "    #Only store significant results\n",
    "    if p_value < 0.05:\n",
    "        #Append results\n",
    "        otu_results.append({\"OTU\": otu, \"U-statistic\": stat, \"p-value\": p_value})\n",
    "\n",
    "# Convert to DataFrame\n",
    "otu_results_df = pd.DataFrame(otu_results)\n",
    "\n",
    "# Display results\n",
    "print(otu_results_df)"
   ]
  }
 ],
 "metadata": {
  "kernelspec": {
   "display_name": "beca",
   "language": "python",
   "name": "python3"
  },
  "language_info": {
   "codemirror_mode": {
    "name": "ipython",
    "version": 3
   },
   "file_extension": ".py",
   "mimetype": "text/x-python",
   "name": "python",
   "nbconvert_exporter": "python",
   "pygments_lexer": "ipython3",
   "version": "3.12.6"
  }
 },
 "nbformat": 4,
 "nbformat_minor": 4
}
