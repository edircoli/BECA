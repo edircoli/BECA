{
 "cells": [
  {
   "cell_type": "markdown",
   "metadata": {},
   "source": [
    "## Libraries"
   ]
  },
  {
   "cell_type": "code",
   "execution_count": null,
   "metadata": {},
   "outputs": [],
   "source": [
    "import pandas as pd\n",
    "import numpy as np\n",
    "from scipy.stats import gmean\n",
    "from sklearn.decomposition import PCA\n",
    "from sklearn.preprocessing import StandardScaler\n",
    "import plotly.express as px\n",
    "import plotly.graph_objects as go\n",
    "from plotly.validators.scatter.marker import SymbolValidator\n",
    "from clustergrammer2 import net, Network, CGM2\n",
    "from functions import DataPreprocess, plotPCA, plotOTUBox, plotRLE"
   ]
  },
  {
   "cell_type": "markdown",
   "metadata": {},
   "source": [
    "## Initial data preparation"
   ]
  },
  {
   "cell_type": "code",
   "execution_count": null,
   "metadata": {},
   "outputs": [
    {
     "data": {
      "application/vnd.jupyter.widget-view+json": {
       "model_id": "8ed2c8a08d904a6db1aad989b4c9a703",
       "version_major": 2,
       "version_minor": 0
      },
      "text/plain": [
       "CGM2(network='{\"row_nodes\": [{\"name\": \"0\", \"ini\": 32, \"clust\": 3, \"rank\": 0, \"rankvar\": 12}, {\"name\": \"1\", \"in…"
      ]
     },
     "execution_count": 45,
     "metadata": {},
     "output_type": "execute_result"
    }
   ],
   "source": [
    "path = \"data/sponge_dataset.csv\"\n",
    "data = DataPreprocess(path)\n",
    "\n",
    "\n",
    "#plotRLE(data)\n",
    "\n",
    "#Extracts numerical and categorical data\n",
    "data_num = data.select_dtypes(include = \"number\")\n",
    "data_cat = data.select_dtypes(include = \"category\")\n",
    "\n",
    "#First scaling process - Ensures every observation is scaled according to OTUs\n",
    "scaler = StandardScaler()\n",
    "scaled_data = scaler.fit_transform(data_num)\n",
    "scaled_data = pd.DataFrame(scaled_data, columns=data_num.columns, index=data_num.index)\n",
    "\n",
    "#Second scaling process - Ensures every observation is scaled according to sample\n",
    "scaler = StandardScaler()\n",
    "scaled_data = scaler.fit_transform(scaled_data.T)\n",
    "scaled_data = pd.DataFrame(scaled_data.T, columns=[str(i) for i in data_num.columns], index=[str(i) for i in data_num.index])\n",
    "\n",
    "#Joins back again the numerical and categorical data\n",
    "data_scaled = pd.concat([data_cat, scaled_data], axis=1)\n",
    "\n",
    "n2 = Network(CGM2)\n",
    "n2.load_df(df[\"sd\"])\n",
    "n2.cluster()\n",
    "n2.widget()"
   ]
  },
  {
   "cell_type": "markdown",
   "metadata": {},
   "source": [
    "## PCA plot"
   ]
  },
  {
   "cell_type": "code",
   "execution_count": null,
   "metadata": {},
   "outputs": [],
   "source": [
    "plotPCA(data)"
   ]
  },
  {
   "cell_type": "markdown",
   "metadata": {},
   "source": [
    "## OTU Boxplot"
   ]
  },
  {
   "cell_type": "code",
   "execution_count": null,
   "metadata": {},
   "outputs": [],
   "source": [
    "plotOTUBox(data)"
   ]
  },
  {
   "cell_type": "markdown",
   "metadata": {},
   "source": [
    "## "
   ]
  }
 ],
 "metadata": {
  "kernelspec": {
   "display_name": "Python 3 (ipykernel)",
   "language": "python",
   "name": "python3"
  },
  "language_info": {
   "codemirror_mode": {
    "name": "ipython",
    "version": 3
   },
   "file_extension": ".py",
   "mimetype": "text/x-python",
   "name": "python",
   "nbconvert_exporter": "python",
   "pygments_lexer": "ipython3",
   "version": "3.12.6"
  }
 },
 "nbformat": 4,
 "nbformat_minor": 4
}
