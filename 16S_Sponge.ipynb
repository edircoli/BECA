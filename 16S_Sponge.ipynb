{
 "cells": [
  {
   "cell_type": "markdown",
   "metadata": {},
   "source": [
    "## Libraries"
   ]
  },
  {
   "cell_type": "code",
   "execution_count": 1,
   "metadata": {},
   "outputs": [
    {
     "name": "stdout",
     "output_type": "stream",
     "text": [
      ">> clustergrammer2 backend version 0.18.0\n"
     ]
    }
   ],
   "source": [
    "import pandas as pd\n",
    "import numpy as np\n",
    "from scipy.stats import gmean, mannwhitneyu, pearsonr, zscore, chi2\n",
    "from sklearn.decomposition import PCA\n",
    "from sklearn.preprocessing import StandardScaler\n",
    "from sklearn.cross_decomposition import PLSRegression\n",
    "from sklearn.utils import resample\n",
    "from sklearn.feature_selection import VarianceThreshold\n",
    "from sklearn.neighbors import NearestNeighbors\n",
    "from sklearn.metrics import silhouette_score, adjusted_rand_score\n",
    "from sklearn.cluster import KMeans\n",
    "import plotly.express as px\n",
    "import plotly.graph_objects as go\n",
    "from plotly.validators.scatter.marker import SymbolValidator\n",
    "from clustergrammer2 import net, Network, CGM2\n",
    "from BatchEffectDataLoader import DataPreprocess, DataTransform, DataReverseTransform\n",
    "from BatchEffectPlots import plotPCA, plotPCoA, plotOTUBox, plotRLE, plotClusterHeatMap\n",
    "from BatchEffectCorrection import correctCombat, correctLimma_rBE, correctSVD, correctPLSDA_batch\n",
    "from BatchEffectMetrics import kBET, iLISI, cLISI, ASW, ARI\n",
    "from skbio.stats.distance import permanova, DistanceMatrix\n",
    "from scipy.spatial.distance import pdist, squareform"
   ]
  },
  {
   "cell_type": "markdown",
   "metadata": {},
   "source": [
    "## Initial data preparation"
   ]
  },
  {
   "cell_type": "code",
   "execution_count": 2,
   "metadata": {},
   "outputs": [],
   "source": [
    "path = \"data/dataset_sponge.csv\"\n",
    "raw_data = DataPreprocess(path)\n",
    "data = DataTransform(raw_data)"
   ]
  },
  {
   "cell_type": "markdown",
   "metadata": {},
   "source": [
    "## Batch Effect Assessment plots"
   ]
  },
  {
   "cell_type": "markdown",
   "metadata": {},
   "source": [
    "### PCoA plot with Aitchison distances"
   ]
  },
  {
   "cell_type": "code",
   "execution_count": 3,
   "metadata": {},
   "outputs": [
    {
     "data": {
      "application/vnd.plotly.v1+json": {
       "config": {
        "plotlyServerURL": "https://plot.ly"
       },
       "data": [
        {
         "legendgroup": "1",
         "legendgrouptitle": {
          "text": "Batch 1"
         },
         "marker": {
          "color": [
           "blue",
           "blue",
           "blue",
           "blue",
           "blue",
           "blue",
           "blue",
           "blue"
          ],
          "size": 8,
          "symbol": [
           "circle",
           "circle",
           "circle",
           "circle",
           "circle",
           "circle",
           "circle",
           "circle"
          ]
         },
         "mode": "markers",
         "name": "Ectosome",
         "type": "scatter",
         "x": [
          -15.400946972249033,
          -24.31720676374356,
          -14.992894795187102,
          -14.214617568288343,
          -15.571482094775025,
          -17.92173782589546,
          -9.150202795374206,
          -20.590530115027313
         ],
         "y": [
          -6.5355190287686185,
          -7.455604886505716,
          -4.500821896162019,
          -10.339145292047176,
          -16.4903199862826,
          -18.05057994707654,
          -17.13525887263527,
          -7.646629442718335
         ]
        },
        {
         "legendgroup": "1",
         "legendgrouptitle": {
          "text": "Batch 1"
         },
         "marker": {
          "color": [
           "blue",
           "blue",
           "blue",
           "blue",
           "blue",
           "blue",
           "blue",
           "blue"
          ],
          "size": 8,
          "symbol": [
           "square",
           "square",
           "square",
           "square",
           "square",
           "square",
           "square",
           "square"
          ]
         },
         "mode": "markers",
         "name": "Choanosome",
         "type": "scatter",
         "x": [
          9.841924168693557,
          12.112276572854736,
          13.127768080846295,
          13.79868772336455,
          14.938969676328924,
          13.814091812930311,
          13.884240007459807,
          13.631675329329852
         ],
         "y": [
          -17.433062707032942,
          -21.84213761241917,
          -8.642737526005817,
          -14.388836162756677,
          -14.61496362586298,
          -16.493626438823814,
          -17.06275788351005,
          -17.13935929651157
         ]
        },
        {
         "legendgroup": "2",
         "legendgrouptitle": {
          "text": "Batch 2"
         },
         "marker": {
          "color": [
           "red",
           "red",
           "red",
           "red",
           "red",
           "red",
           "red",
           "red"
          ],
          "size": 8,
          "symbol": [
           "circle",
           "circle",
           "circle",
           "circle",
           "circle",
           "circle",
           "circle",
           "circle"
          ]
         },
         "mode": "markers",
         "name": "Ectosome",
         "type": "scatter",
         "x": [
          -23.764667153289505,
          -17.918763932461324,
          -19.859686238963945,
          -11.555822466359183,
          -15.942435607891372,
          -18.80229162578458,
          -20.839699697783242,
          -17.296115846599278
         ],
         "y": [
          -0.5166964509872644,
          2.554441088627697,
          12.026861317552497,
          2.8560045253626773,
          21.800061271626717,
          24.529550827571576,
          23.74230408185891,
          22.64607933645427
         ]
        },
        {
         "legendgroup": "2",
         "legendgrouptitle": {
          "text": "Batch 2"
         },
         "marker": {
          "color": [
           "red",
           "red",
           "red",
           "red",
           "red",
           "red",
           "red",
           "red"
          ],
          "size": 8,
          "symbol": [
           "square",
           "square",
           "square",
           "square",
           "square",
           "square",
           "square",
           "square"
          ]
         },
         "mode": "markers",
         "name": "Choanosome",
         "type": "scatter",
         "x": [
          21.555806986812748,
          20.255913473853383,
          20.742479872865974,
          24.285579621415557,
          23.312332643209746,
          19.927016668706152,
          20.08176156291444,
          22.828577298086415
         ],
         "y": [
          13.053385682523261,
          6.521995904211225,
          9.85082575698993,
          6.902266906132777,
          16.049730534059492,
          21.15730160794782,
          18.505084820830863,
          14.092163394356803
         ]
        }
       ],
       "layout": {
        "template": {
         "data": {
          "bar": [
           {
            "error_x": {
             "color": "#2a3f5f"
            },
            "error_y": {
             "color": "#2a3f5f"
            },
            "marker": {
             "line": {
              "color": "#E5ECF6",
              "width": 0.5
             },
             "pattern": {
              "fillmode": "overlay",
              "size": 10,
              "solidity": 0.2
             }
            },
            "type": "bar"
           }
          ],
          "barpolar": [
           {
            "marker": {
             "line": {
              "color": "#E5ECF6",
              "width": 0.5
             },
             "pattern": {
              "fillmode": "overlay",
              "size": 10,
              "solidity": 0.2
             }
            },
            "type": "barpolar"
           }
          ],
          "carpet": [
           {
            "aaxis": {
             "endlinecolor": "#2a3f5f",
             "gridcolor": "white",
             "linecolor": "white",
             "minorgridcolor": "white",
             "startlinecolor": "#2a3f5f"
            },
            "baxis": {
             "endlinecolor": "#2a3f5f",
             "gridcolor": "white",
             "linecolor": "white",
             "minorgridcolor": "white",
             "startlinecolor": "#2a3f5f"
            },
            "type": "carpet"
           }
          ],
          "choropleth": [
           {
            "colorbar": {
             "outlinewidth": 0,
             "ticks": ""
            },
            "type": "choropleth"
           }
          ],
          "contour": [
           {
            "colorbar": {
             "outlinewidth": 0,
             "ticks": ""
            },
            "colorscale": [
             [
              0,
              "#0d0887"
             ],
             [
              0.1111111111111111,
              "#46039f"
             ],
             [
              0.2222222222222222,
              "#7201a8"
             ],
             [
              0.3333333333333333,
              "#9c179e"
             ],
             [
              0.4444444444444444,
              "#bd3786"
             ],
             [
              0.5555555555555556,
              "#d8576b"
             ],
             [
              0.6666666666666666,
              "#ed7953"
             ],
             [
              0.7777777777777778,
              "#fb9f3a"
             ],
             [
              0.8888888888888888,
              "#fdca26"
             ],
             [
              1,
              "#f0f921"
             ]
            ],
            "type": "contour"
           }
          ],
          "contourcarpet": [
           {
            "colorbar": {
             "outlinewidth": 0,
             "ticks": ""
            },
            "type": "contourcarpet"
           }
          ],
          "heatmap": [
           {
            "colorbar": {
             "outlinewidth": 0,
             "ticks": ""
            },
            "colorscale": [
             [
              0,
              "#0d0887"
             ],
             [
              0.1111111111111111,
              "#46039f"
             ],
             [
              0.2222222222222222,
              "#7201a8"
             ],
             [
              0.3333333333333333,
              "#9c179e"
             ],
             [
              0.4444444444444444,
              "#bd3786"
             ],
             [
              0.5555555555555556,
              "#d8576b"
             ],
             [
              0.6666666666666666,
              "#ed7953"
             ],
             [
              0.7777777777777778,
              "#fb9f3a"
             ],
             [
              0.8888888888888888,
              "#fdca26"
             ],
             [
              1,
              "#f0f921"
             ]
            ],
            "type": "heatmap"
           }
          ],
          "heatmapgl": [
           {
            "colorbar": {
             "outlinewidth": 0,
             "ticks": ""
            },
            "colorscale": [
             [
              0,
              "#0d0887"
             ],
             [
              0.1111111111111111,
              "#46039f"
             ],
             [
              0.2222222222222222,
              "#7201a8"
             ],
             [
              0.3333333333333333,
              "#9c179e"
             ],
             [
              0.4444444444444444,
              "#bd3786"
             ],
             [
              0.5555555555555556,
              "#d8576b"
             ],
             [
              0.6666666666666666,
              "#ed7953"
             ],
             [
              0.7777777777777778,
              "#fb9f3a"
             ],
             [
              0.8888888888888888,
              "#fdca26"
             ],
             [
              1,
              "#f0f921"
             ]
            ],
            "type": "heatmapgl"
           }
          ],
          "histogram": [
           {
            "marker": {
             "pattern": {
              "fillmode": "overlay",
              "size": 10,
              "solidity": 0.2
             }
            },
            "type": "histogram"
           }
          ],
          "histogram2d": [
           {
            "colorbar": {
             "outlinewidth": 0,
             "ticks": ""
            },
            "colorscale": [
             [
              0,
              "#0d0887"
             ],
             [
              0.1111111111111111,
              "#46039f"
             ],
             [
              0.2222222222222222,
              "#7201a8"
             ],
             [
              0.3333333333333333,
              "#9c179e"
             ],
             [
              0.4444444444444444,
              "#bd3786"
             ],
             [
              0.5555555555555556,
              "#d8576b"
             ],
             [
              0.6666666666666666,
              "#ed7953"
             ],
             [
              0.7777777777777778,
              "#fb9f3a"
             ],
             [
              0.8888888888888888,
              "#fdca26"
             ],
             [
              1,
              "#f0f921"
             ]
            ],
            "type": "histogram2d"
           }
          ],
          "histogram2dcontour": [
           {
            "colorbar": {
             "outlinewidth": 0,
             "ticks": ""
            },
            "colorscale": [
             [
              0,
              "#0d0887"
             ],
             [
              0.1111111111111111,
              "#46039f"
             ],
             [
              0.2222222222222222,
              "#7201a8"
             ],
             [
              0.3333333333333333,
              "#9c179e"
             ],
             [
              0.4444444444444444,
              "#bd3786"
             ],
             [
              0.5555555555555556,
              "#d8576b"
             ],
             [
              0.6666666666666666,
              "#ed7953"
             ],
             [
              0.7777777777777778,
              "#fb9f3a"
             ],
             [
              0.8888888888888888,
              "#fdca26"
             ],
             [
              1,
              "#f0f921"
             ]
            ],
            "type": "histogram2dcontour"
           }
          ],
          "mesh3d": [
           {
            "colorbar": {
             "outlinewidth": 0,
             "ticks": ""
            },
            "type": "mesh3d"
           }
          ],
          "parcoords": [
           {
            "line": {
             "colorbar": {
              "outlinewidth": 0,
              "ticks": ""
             }
            },
            "type": "parcoords"
           }
          ],
          "pie": [
           {
            "automargin": true,
            "type": "pie"
           }
          ],
          "scatter": [
           {
            "fillpattern": {
             "fillmode": "overlay",
             "size": 10,
             "solidity": 0.2
            },
            "type": "scatter"
           }
          ],
          "scatter3d": [
           {
            "line": {
             "colorbar": {
              "outlinewidth": 0,
              "ticks": ""
             }
            },
            "marker": {
             "colorbar": {
              "outlinewidth": 0,
              "ticks": ""
             }
            },
            "type": "scatter3d"
           }
          ],
          "scattercarpet": [
           {
            "marker": {
             "colorbar": {
              "outlinewidth": 0,
              "ticks": ""
             }
            },
            "type": "scattercarpet"
           }
          ],
          "scattergeo": [
           {
            "marker": {
             "colorbar": {
              "outlinewidth": 0,
              "ticks": ""
             }
            },
            "type": "scattergeo"
           }
          ],
          "scattergl": [
           {
            "marker": {
             "colorbar": {
              "outlinewidth": 0,
              "ticks": ""
             }
            },
            "type": "scattergl"
           }
          ],
          "scattermapbox": [
           {
            "marker": {
             "colorbar": {
              "outlinewidth": 0,
              "ticks": ""
             }
            },
            "type": "scattermapbox"
           }
          ],
          "scatterpolar": [
           {
            "marker": {
             "colorbar": {
              "outlinewidth": 0,
              "ticks": ""
             }
            },
            "type": "scatterpolar"
           }
          ],
          "scatterpolargl": [
           {
            "marker": {
             "colorbar": {
              "outlinewidth": 0,
              "ticks": ""
             }
            },
            "type": "scatterpolargl"
           }
          ],
          "scatterternary": [
           {
            "marker": {
             "colorbar": {
              "outlinewidth": 0,
              "ticks": ""
             }
            },
            "type": "scatterternary"
           }
          ],
          "surface": [
           {
            "colorbar": {
             "outlinewidth": 0,
             "ticks": ""
            },
            "colorscale": [
             [
              0,
              "#0d0887"
             ],
             [
              0.1111111111111111,
              "#46039f"
             ],
             [
              0.2222222222222222,
              "#7201a8"
             ],
             [
              0.3333333333333333,
              "#9c179e"
             ],
             [
              0.4444444444444444,
              "#bd3786"
             ],
             [
              0.5555555555555556,
              "#d8576b"
             ],
             [
              0.6666666666666666,
              "#ed7953"
             ],
             [
              0.7777777777777778,
              "#fb9f3a"
             ],
             [
              0.8888888888888888,
              "#fdca26"
             ],
             [
              1,
              "#f0f921"
             ]
            ],
            "type": "surface"
           }
          ],
          "table": [
           {
            "cells": {
             "fill": {
              "color": "#EBF0F8"
             },
             "line": {
              "color": "white"
             }
            },
            "header": {
             "fill": {
              "color": "#C8D4E3"
             },
             "line": {
              "color": "white"
             }
            },
            "type": "table"
           }
          ]
         },
         "layout": {
          "annotationdefaults": {
           "arrowcolor": "#2a3f5f",
           "arrowhead": 0,
           "arrowwidth": 1
          },
          "autotypenumbers": "strict",
          "coloraxis": {
           "colorbar": {
            "outlinewidth": 0,
            "ticks": ""
           }
          },
          "colorscale": {
           "diverging": [
            [
             0,
             "#8e0152"
            ],
            [
             0.1,
             "#c51b7d"
            ],
            [
             0.2,
             "#de77ae"
            ],
            [
             0.3,
             "#f1b6da"
            ],
            [
             0.4,
             "#fde0ef"
            ],
            [
             0.5,
             "#f7f7f7"
            ],
            [
             0.6,
             "#e6f5d0"
            ],
            [
             0.7,
             "#b8e186"
            ],
            [
             0.8,
             "#7fbc41"
            ],
            [
             0.9,
             "#4d9221"
            ],
            [
             1,
             "#276419"
            ]
           ],
           "sequential": [
            [
             0,
             "#0d0887"
            ],
            [
             0.1111111111111111,
             "#46039f"
            ],
            [
             0.2222222222222222,
             "#7201a8"
            ],
            [
             0.3333333333333333,
             "#9c179e"
            ],
            [
             0.4444444444444444,
             "#bd3786"
            ],
            [
             0.5555555555555556,
             "#d8576b"
            ],
            [
             0.6666666666666666,
             "#ed7953"
            ],
            [
             0.7777777777777778,
             "#fb9f3a"
            ],
            [
             0.8888888888888888,
             "#fdca26"
            ],
            [
             1,
             "#f0f921"
            ]
           ],
           "sequentialminus": [
            [
             0,
             "#0d0887"
            ],
            [
             0.1111111111111111,
             "#46039f"
            ],
            [
             0.2222222222222222,
             "#7201a8"
            ],
            [
             0.3333333333333333,
             "#9c179e"
            ],
            [
             0.4444444444444444,
             "#bd3786"
            ],
            [
             0.5555555555555556,
             "#d8576b"
            ],
            [
             0.6666666666666666,
             "#ed7953"
            ],
            [
             0.7777777777777778,
             "#fb9f3a"
            ],
            [
             0.8888888888888888,
             "#fdca26"
            ],
            [
             1,
             "#f0f921"
            ]
           ]
          },
          "colorway": [
           "#636efa",
           "#EF553B",
           "#00cc96",
           "#ab63fa",
           "#FFA15A",
           "#19d3f3",
           "#FF6692",
           "#B6E880",
           "#FF97FF",
           "#FECB52"
          ],
          "font": {
           "color": "#2a3f5f"
          },
          "geo": {
           "bgcolor": "white",
           "lakecolor": "white",
           "landcolor": "#E5ECF6",
           "showlakes": true,
           "showland": true,
           "subunitcolor": "white"
          },
          "hoverlabel": {
           "align": "left"
          },
          "hovermode": "closest",
          "mapbox": {
           "style": "light"
          },
          "paper_bgcolor": "white",
          "plot_bgcolor": "#E5ECF6",
          "polar": {
           "angularaxis": {
            "gridcolor": "white",
            "linecolor": "white",
            "ticks": ""
           },
           "bgcolor": "#E5ECF6",
           "radialaxis": {
            "gridcolor": "white",
            "linecolor": "white",
            "ticks": ""
           }
          },
          "scene": {
           "xaxis": {
            "backgroundcolor": "#E5ECF6",
            "gridcolor": "white",
            "gridwidth": 2,
            "linecolor": "white",
            "showbackground": true,
            "ticks": "",
            "zerolinecolor": "white"
           },
           "yaxis": {
            "backgroundcolor": "#E5ECF6",
            "gridcolor": "white",
            "gridwidth": 2,
            "linecolor": "white",
            "showbackground": true,
            "ticks": "",
            "zerolinecolor": "white"
           },
           "zaxis": {
            "backgroundcolor": "#E5ECF6",
            "gridcolor": "white",
            "gridwidth": 2,
            "linecolor": "white",
            "showbackground": true,
            "ticks": "",
            "zerolinecolor": "white"
           }
          },
          "shapedefaults": {
           "line": {
            "color": "#2a3f5f"
           }
          },
          "ternary": {
           "aaxis": {
            "gridcolor": "white",
            "linecolor": "white",
            "ticks": ""
           },
           "baxis": {
            "gridcolor": "white",
            "linecolor": "white",
            "ticks": ""
           },
           "bgcolor": "#E5ECF6",
           "caxis": {
            "gridcolor": "white",
            "linecolor": "white",
            "ticks": ""
           }
          },
          "title": {
           "x": 0.05
          },
          "xaxis": {
           "automargin": true,
           "gridcolor": "white",
           "linecolor": "white",
           "ticks": "",
           "title": {
            "standoff": 15
           },
           "zerolinecolor": "white",
           "zerolinewidth": 2
          },
          "yaxis": {
           "automargin": true,
           "gridcolor": "white",
           "linecolor": "white",
           "ticks": "",
           "title": {
            "standoff": 15
           },
           "zerolinecolor": "white",
           "zerolinewidth": 2
          }
         }
        }
       }
      }
     },
     "metadata": {},
     "output_type": "display_data"
    }
   ],
   "source": [
    "plotPCoA(raw_data, method = \"aitchison\")"
   ]
  },
  {
   "cell_type": "markdown",
   "metadata": {},
   "source": [
    "### PCA plot"
   ]
  },
  {
   "cell_type": "code",
   "execution_count": 4,
   "metadata": {},
   "outputs": [
    {
     "data": {
      "application/vnd.plotly.v1+json": {
       "config": {
        "plotlyServerURL": "https://plot.ly"
       },
       "data": [
        {
         "legendgroup": "1",
         "legendgrouptitle": {
          "text": "Batch 1"
         },
         "marker": {
          "color": [
           "blue",
           "blue",
           "blue",
           "blue",
           "blue",
           "blue",
           "blue",
           "blue"
          ],
          "size": 8,
          "symbol": [
           "circle",
           "circle",
           "circle",
           "circle",
           "circle",
           "circle",
           "circle",
           "circle"
          ]
         },
         "mode": "markers",
         "name": "Ectosome",
         "type": "scatter",
         "x": [
          15.400946972249068,
          24.31720676374366,
          14.992894795187112,
          14.214617568288375,
          15.571482094775078,
          17.921737825895534,
          9.150202795374272,
          20.59053011502734
         ],
         "y": [
          -6.535519028768622,
          -7.455604886505727,
          -4.500821896161972,
          -10.339145292047117,
          -16.49031998628257,
          -18.05057994707653,
          -17.13525887263527,
          -7.646629442718314
         ]
        },
        {
         "legendgroup": "1",
         "legendgrouptitle": {
          "text": "Batch 1"
         },
         "marker": {
          "color": [
           "blue",
           "blue",
           "blue",
           "blue",
           "blue",
           "blue",
           "blue",
           "blue"
          ],
          "size": 8,
          "symbol": [
           "square",
           "square",
           "square",
           "square",
           "square",
           "square",
           "square",
           "square"
          ]
         },
         "mode": "markers",
         "name": "Choanosome",
         "type": "scatter",
         "x": [
          -9.841924168693497,
          -12.112276572854704,
          -13.12776808084632,
          -13.798687723364559,
          -14.938969676328925,
          -13.8140918129303,
          -13.884240007459793,
          -13.631675329329832
         ],
         "y": [
          -17.43306270703295,
          -21.842137612419133,
          -8.642737526005783,
          -14.388836162756654,
          -14.614963625862984,
          -16.493626438823842,
          -17.06275788351007,
          -17.1393592965116
         ]
        },
        {
         "legendgroup": "2",
         "legendgrouptitle": {
          "text": "Batch 2"
         },
         "marker": {
          "color": [
           "red",
           "red",
           "red",
           "red",
           "red",
           "red",
           "red",
           "red"
          ],
          "size": 8,
          "symbol": [
           "circle",
           "circle",
           "circle",
           "circle",
           "circle",
           "circle",
           "circle",
           "circle"
          ]
         },
         "mode": "markers",
         "name": "Ectosome",
         "type": "scatter",
         "x": [
          23.76466715328957,
          17.918763932461367,
          19.859686238963942,
          11.555822466359194,
          15.94243560789135,
          18.802291625784573,
          20.839699697783225,
          17.296115846599267
         ],
         "y": [
          -0.5166964509872489,
          2.554441088627677,
          12.026861317552525,
          2.8560045253626885,
          21.800061271626756,
          24.52955082757159,
          23.742304081858954,
          22.64607933645431
         ]
        },
        {
         "legendgroup": "2",
         "legendgrouptitle": {
          "text": "Batch 2"
         },
         "marker": {
          "color": [
           "red",
           "red",
           "red",
           "red",
           "red",
           "red",
           "red",
           "red"
          ],
          "size": 8,
          "symbol": [
           "square",
           "square",
           "square",
           "square",
           "square",
           "square",
           "square",
           "square"
          ]
         },
         "mode": "markers",
         "name": "Choanosome",
         "type": "scatter",
         "x": [
          -21.555806986812843,
          -20.255913473853443,
          -20.742479872866042,
          -24.285579621415618,
          -23.3123326432098,
          -19.92701666870624,
          -20.081761562914522,
          -22.828577298086472
         ],
         "y": [
          13.053385682523206,
          6.521995904211184,
          9.85082575698992,
          6.902266906132729,
          16.049730534059428,
          21.1573016079478,
          18.50508482083084,
          14.09216339435675
         ]
        }
       ],
       "layout": {
        "template": {
         "data": {
          "bar": [
           {
            "error_x": {
             "color": "#2a3f5f"
            },
            "error_y": {
             "color": "#2a3f5f"
            },
            "marker": {
             "line": {
              "color": "#E5ECF6",
              "width": 0.5
             },
             "pattern": {
              "fillmode": "overlay",
              "size": 10,
              "solidity": 0.2
             }
            },
            "type": "bar"
           }
          ],
          "barpolar": [
           {
            "marker": {
             "line": {
              "color": "#E5ECF6",
              "width": 0.5
             },
             "pattern": {
              "fillmode": "overlay",
              "size": 10,
              "solidity": 0.2
             }
            },
            "type": "barpolar"
           }
          ],
          "carpet": [
           {
            "aaxis": {
             "endlinecolor": "#2a3f5f",
             "gridcolor": "white",
             "linecolor": "white",
             "minorgridcolor": "white",
             "startlinecolor": "#2a3f5f"
            },
            "baxis": {
             "endlinecolor": "#2a3f5f",
             "gridcolor": "white",
             "linecolor": "white",
             "minorgridcolor": "white",
             "startlinecolor": "#2a3f5f"
            },
            "type": "carpet"
           }
          ],
          "choropleth": [
           {
            "colorbar": {
             "outlinewidth": 0,
             "ticks": ""
            },
            "type": "choropleth"
           }
          ],
          "contour": [
           {
            "colorbar": {
             "outlinewidth": 0,
             "ticks": ""
            },
            "colorscale": [
             [
              0,
              "#0d0887"
             ],
             [
              0.1111111111111111,
              "#46039f"
             ],
             [
              0.2222222222222222,
              "#7201a8"
             ],
             [
              0.3333333333333333,
              "#9c179e"
             ],
             [
              0.4444444444444444,
              "#bd3786"
             ],
             [
              0.5555555555555556,
              "#d8576b"
             ],
             [
              0.6666666666666666,
              "#ed7953"
             ],
             [
              0.7777777777777778,
              "#fb9f3a"
             ],
             [
              0.8888888888888888,
              "#fdca26"
             ],
             [
              1,
              "#f0f921"
             ]
            ],
            "type": "contour"
           }
          ],
          "contourcarpet": [
           {
            "colorbar": {
             "outlinewidth": 0,
             "ticks": ""
            },
            "type": "contourcarpet"
           }
          ],
          "heatmap": [
           {
            "colorbar": {
             "outlinewidth": 0,
             "ticks": ""
            },
            "colorscale": [
             [
              0,
              "#0d0887"
             ],
             [
              0.1111111111111111,
              "#46039f"
             ],
             [
              0.2222222222222222,
              "#7201a8"
             ],
             [
              0.3333333333333333,
              "#9c179e"
             ],
             [
              0.4444444444444444,
              "#bd3786"
             ],
             [
              0.5555555555555556,
              "#d8576b"
             ],
             [
              0.6666666666666666,
              "#ed7953"
             ],
             [
              0.7777777777777778,
              "#fb9f3a"
             ],
             [
              0.8888888888888888,
              "#fdca26"
             ],
             [
              1,
              "#f0f921"
             ]
            ],
            "type": "heatmap"
           }
          ],
          "heatmapgl": [
           {
            "colorbar": {
             "outlinewidth": 0,
             "ticks": ""
            },
            "colorscale": [
             [
              0,
              "#0d0887"
             ],
             [
              0.1111111111111111,
              "#46039f"
             ],
             [
              0.2222222222222222,
              "#7201a8"
             ],
             [
              0.3333333333333333,
              "#9c179e"
             ],
             [
              0.4444444444444444,
              "#bd3786"
             ],
             [
              0.5555555555555556,
              "#d8576b"
             ],
             [
              0.6666666666666666,
              "#ed7953"
             ],
             [
              0.7777777777777778,
              "#fb9f3a"
             ],
             [
              0.8888888888888888,
              "#fdca26"
             ],
             [
              1,
              "#f0f921"
             ]
            ],
            "type": "heatmapgl"
           }
          ],
          "histogram": [
           {
            "marker": {
             "pattern": {
              "fillmode": "overlay",
              "size": 10,
              "solidity": 0.2
             }
            },
            "type": "histogram"
           }
          ],
          "histogram2d": [
           {
            "colorbar": {
             "outlinewidth": 0,
             "ticks": ""
            },
            "colorscale": [
             [
              0,
              "#0d0887"
             ],
             [
              0.1111111111111111,
              "#46039f"
             ],
             [
              0.2222222222222222,
              "#7201a8"
             ],
             [
              0.3333333333333333,
              "#9c179e"
             ],
             [
              0.4444444444444444,
              "#bd3786"
             ],
             [
              0.5555555555555556,
              "#d8576b"
             ],
             [
              0.6666666666666666,
              "#ed7953"
             ],
             [
              0.7777777777777778,
              "#fb9f3a"
             ],
             [
              0.8888888888888888,
              "#fdca26"
             ],
             [
              1,
              "#f0f921"
             ]
            ],
            "type": "histogram2d"
           }
          ],
          "histogram2dcontour": [
           {
            "colorbar": {
             "outlinewidth": 0,
             "ticks": ""
            },
            "colorscale": [
             [
              0,
              "#0d0887"
             ],
             [
              0.1111111111111111,
              "#46039f"
             ],
             [
              0.2222222222222222,
              "#7201a8"
             ],
             [
              0.3333333333333333,
              "#9c179e"
             ],
             [
              0.4444444444444444,
              "#bd3786"
             ],
             [
              0.5555555555555556,
              "#d8576b"
             ],
             [
              0.6666666666666666,
              "#ed7953"
             ],
             [
              0.7777777777777778,
              "#fb9f3a"
             ],
             [
              0.8888888888888888,
              "#fdca26"
             ],
             [
              1,
              "#f0f921"
             ]
            ],
            "type": "histogram2dcontour"
           }
          ],
          "mesh3d": [
           {
            "colorbar": {
             "outlinewidth": 0,
             "ticks": ""
            },
            "type": "mesh3d"
           }
          ],
          "parcoords": [
           {
            "line": {
             "colorbar": {
              "outlinewidth": 0,
              "ticks": ""
             }
            },
            "type": "parcoords"
           }
          ],
          "pie": [
           {
            "automargin": true,
            "type": "pie"
           }
          ],
          "scatter": [
           {
            "fillpattern": {
             "fillmode": "overlay",
             "size": 10,
             "solidity": 0.2
            },
            "type": "scatter"
           }
          ],
          "scatter3d": [
           {
            "line": {
             "colorbar": {
              "outlinewidth": 0,
              "ticks": ""
             }
            },
            "marker": {
             "colorbar": {
              "outlinewidth": 0,
              "ticks": ""
             }
            },
            "type": "scatter3d"
           }
          ],
          "scattercarpet": [
           {
            "marker": {
             "colorbar": {
              "outlinewidth": 0,
              "ticks": ""
             }
            },
            "type": "scattercarpet"
           }
          ],
          "scattergeo": [
           {
            "marker": {
             "colorbar": {
              "outlinewidth": 0,
              "ticks": ""
             }
            },
            "type": "scattergeo"
           }
          ],
          "scattergl": [
           {
            "marker": {
             "colorbar": {
              "outlinewidth": 0,
              "ticks": ""
             }
            },
            "type": "scattergl"
           }
          ],
          "scattermapbox": [
           {
            "marker": {
             "colorbar": {
              "outlinewidth": 0,
              "ticks": ""
             }
            },
            "type": "scattermapbox"
           }
          ],
          "scatterpolar": [
           {
            "marker": {
             "colorbar": {
              "outlinewidth": 0,
              "ticks": ""
             }
            },
            "type": "scatterpolar"
           }
          ],
          "scatterpolargl": [
           {
            "marker": {
             "colorbar": {
              "outlinewidth": 0,
              "ticks": ""
             }
            },
            "type": "scatterpolargl"
           }
          ],
          "scatterternary": [
           {
            "marker": {
             "colorbar": {
              "outlinewidth": 0,
              "ticks": ""
             }
            },
            "type": "scatterternary"
           }
          ],
          "surface": [
           {
            "colorbar": {
             "outlinewidth": 0,
             "ticks": ""
            },
            "colorscale": [
             [
              0,
              "#0d0887"
             ],
             [
              0.1111111111111111,
              "#46039f"
             ],
             [
              0.2222222222222222,
              "#7201a8"
             ],
             [
              0.3333333333333333,
              "#9c179e"
             ],
             [
              0.4444444444444444,
              "#bd3786"
             ],
             [
              0.5555555555555556,
              "#d8576b"
             ],
             [
              0.6666666666666666,
              "#ed7953"
             ],
             [
              0.7777777777777778,
              "#fb9f3a"
             ],
             [
              0.8888888888888888,
              "#fdca26"
             ],
             [
              1,
              "#f0f921"
             ]
            ],
            "type": "surface"
           }
          ],
          "table": [
           {
            "cells": {
             "fill": {
              "color": "#EBF0F8"
             },
             "line": {
              "color": "white"
             }
            },
            "header": {
             "fill": {
              "color": "#C8D4E3"
             },
             "line": {
              "color": "white"
             }
            },
            "type": "table"
           }
          ]
         },
         "layout": {
          "annotationdefaults": {
           "arrowcolor": "#2a3f5f",
           "arrowhead": 0,
           "arrowwidth": 1
          },
          "autotypenumbers": "strict",
          "coloraxis": {
           "colorbar": {
            "outlinewidth": 0,
            "ticks": ""
           }
          },
          "colorscale": {
           "diverging": [
            [
             0,
             "#8e0152"
            ],
            [
             0.1,
             "#c51b7d"
            ],
            [
             0.2,
             "#de77ae"
            ],
            [
             0.3,
             "#f1b6da"
            ],
            [
             0.4,
             "#fde0ef"
            ],
            [
             0.5,
             "#f7f7f7"
            ],
            [
             0.6,
             "#e6f5d0"
            ],
            [
             0.7,
             "#b8e186"
            ],
            [
             0.8,
             "#7fbc41"
            ],
            [
             0.9,
             "#4d9221"
            ],
            [
             1,
             "#276419"
            ]
           ],
           "sequential": [
            [
             0,
             "#0d0887"
            ],
            [
             0.1111111111111111,
             "#46039f"
            ],
            [
             0.2222222222222222,
             "#7201a8"
            ],
            [
             0.3333333333333333,
             "#9c179e"
            ],
            [
             0.4444444444444444,
             "#bd3786"
            ],
            [
             0.5555555555555556,
             "#d8576b"
            ],
            [
             0.6666666666666666,
             "#ed7953"
            ],
            [
             0.7777777777777778,
             "#fb9f3a"
            ],
            [
             0.8888888888888888,
             "#fdca26"
            ],
            [
             1,
             "#f0f921"
            ]
           ],
           "sequentialminus": [
            [
             0,
             "#0d0887"
            ],
            [
             0.1111111111111111,
             "#46039f"
            ],
            [
             0.2222222222222222,
             "#7201a8"
            ],
            [
             0.3333333333333333,
             "#9c179e"
            ],
            [
             0.4444444444444444,
             "#bd3786"
            ],
            [
             0.5555555555555556,
             "#d8576b"
            ],
            [
             0.6666666666666666,
             "#ed7953"
            ],
            [
             0.7777777777777778,
             "#fb9f3a"
            ],
            [
             0.8888888888888888,
             "#fdca26"
            ],
            [
             1,
             "#f0f921"
            ]
           ]
          },
          "colorway": [
           "#636efa",
           "#EF553B",
           "#00cc96",
           "#ab63fa",
           "#FFA15A",
           "#19d3f3",
           "#FF6692",
           "#B6E880",
           "#FF97FF",
           "#FECB52"
          ],
          "font": {
           "color": "#2a3f5f"
          },
          "geo": {
           "bgcolor": "white",
           "lakecolor": "white",
           "landcolor": "#E5ECF6",
           "showlakes": true,
           "showland": true,
           "subunitcolor": "white"
          },
          "hoverlabel": {
           "align": "left"
          },
          "hovermode": "closest",
          "mapbox": {
           "style": "light"
          },
          "paper_bgcolor": "white",
          "plot_bgcolor": "#E5ECF6",
          "polar": {
           "angularaxis": {
            "gridcolor": "white",
            "linecolor": "white",
            "ticks": ""
           },
           "bgcolor": "#E5ECF6",
           "radialaxis": {
            "gridcolor": "white",
            "linecolor": "white",
            "ticks": ""
           }
          },
          "scene": {
           "xaxis": {
            "backgroundcolor": "#E5ECF6",
            "gridcolor": "white",
            "gridwidth": 2,
            "linecolor": "white",
            "showbackground": true,
            "ticks": "",
            "zerolinecolor": "white"
           },
           "yaxis": {
            "backgroundcolor": "#E5ECF6",
            "gridcolor": "white",
            "gridwidth": 2,
            "linecolor": "white",
            "showbackground": true,
            "ticks": "",
            "zerolinecolor": "white"
           },
           "zaxis": {
            "backgroundcolor": "#E5ECF6",
            "gridcolor": "white",
            "gridwidth": 2,
            "linecolor": "white",
            "showbackground": true,
            "ticks": "",
            "zerolinecolor": "white"
           }
          },
          "shapedefaults": {
           "line": {
            "color": "#2a3f5f"
           }
          },
          "ternary": {
           "aaxis": {
            "gridcolor": "white",
            "linecolor": "white",
            "ticks": ""
           },
           "baxis": {
            "gridcolor": "white",
            "linecolor": "white",
            "ticks": ""
           },
           "bgcolor": "#E5ECF6",
           "caxis": {
            "gridcolor": "white",
            "linecolor": "white",
            "ticks": ""
           }
          },
          "title": {
           "x": 0.05
          },
          "xaxis": {
           "automargin": true,
           "gridcolor": "white",
           "linecolor": "white",
           "ticks": "",
           "title": {
            "standoff": 15
           },
           "zerolinecolor": "white",
           "zerolinewidth": 2
          },
          "yaxis": {
           "automargin": true,
           "gridcolor": "white",
           "linecolor": "white",
           "ticks": "",
           "title": {
            "standoff": 15
           },
           "zerolinecolor": "white",
           "zerolinewidth": 2
          }
         }
        }
       }
      }
     },
     "metadata": {},
     "output_type": "display_data"
    }
   ],
   "source": [
    "plotPCA(data)"
   ]
  },
  {
   "cell_type": "markdown",
   "metadata": {},
   "source": [
    "### OTU Boxplot"
   ]
  },
  {
   "cell_type": "code",
   "execution_count": 5,
   "metadata": {},
   "outputs": [
    {
     "data": {
      "application/vnd.plotly.v1+json": {
       "config": {
        "plotlyServerURL": "https://plot.ly"
       },
       "data": [
        {
         "marker": {
          "color": "blue"
         },
         "name": "Batch 1, OTU1",
         "type": "box",
         "visible": true,
         "x": [
          1,
          1,
          1,
          1,
          1,
          1,
          1,
          1,
          1,
          1,
          1,
          1,
          1,
          1,
          1,
          1
         ],
         "y": [
          -4.634552235851705,
          -7.534911585294515,
          -6.713839602907362,
          -8.292055945597204,
          -8.968807498087662,
          -8.335482498942994,
          -9.602054130663328,
          -8.955403315141647,
          -8.920709291146272,
          -8.955278747373265,
          -8.263463376409632,
          -7.429938531436032,
          -6.685890052517855,
          -7.517379636253714,
          -8.064150862990067,
          -7.5325749222219835
         ]
        },
        {
         "marker": {
          "color": "red"
         },
         "name": "Batch 2, OTU1",
         "type": "box",
         "visible": true,
         "x": [
          2,
          2,
          2,
          2,
          2,
          2,
          2,
          2,
          2,
          2,
          2,
          2,
          2,
          2,
          2,
          2
         ],
         "y": [
          13.18718537478743,
          -8.949521023681344,
          -5.939952136669576,
          -8.250493043169136,
          -6.45855600664722,
          -9.038709187426564,
          -8.862931506016912,
          -9.675699589659985,
          -9.507953198967025,
          -10.352779768688608,
          -7.424395326546981,
          -9.700744037063467,
          -9.428501608250771,
          -8.96345948088228,
          -8.207265624363236,
          -7.50880545003134
         ]
        },
        {
         "marker": {
          "color": "blue"
         },
         "name": "Batch 1, OTU2",
         "type": "box",
         "visible": false,
         "x": [
          1,
          1,
          1,
          1,
          1,
          1,
          1,
          1,
          1,
          1,
          1,
          1,
          1,
          1,
          1,
          1
         ],
         "y": [
          -4.634552235851705,
          -7.534911585294515,
          10.951818578043566,
          -8.292055945597204,
          7.331609792997941,
          -8.335482498942994,
          6.159366719213377,
          -8.955403315141647,
          8.846045004630199,
          -8.955278747373265,
          8.036953914675971,
          -7.429938531436032,
          -6.685890052517855,
          -7.517379636253714,
          10.366480221716456,
          -7.5325749222219835
         ]
        },
        {
         "marker": {
          "color": "red"
         },
         "name": "Batch 2, OTU2",
         "type": "box",
         "visible": false,
         "x": [
          2,
          2,
          2,
          2,
          2,
          2,
          2,
          2,
          2,
          2,
          2,
          2,
          2,
          2,
          2,
          2
         ],
         "y": [
          12.91819543825952,
          -8.949521023681344,
          11.725706044281353,
          -8.250493043169136,
          12.755117257359693,
          -9.038709187426564,
          8.130632923961974,
          -9.675699589659985,
          9.2911639875549,
          -10.352779768688608,
          10.681574686264314,
          -9.700744037063467,
          9.596495108019404,
          -8.96345948088228,
          9.651296218979446,
          -7.50880545003134
         ]
        },
        {
         "marker": {
          "color": "blue"
         },
         "name": "Batch 1, OTU3",
         "type": "box",
         "visible": false,
         "x": [
          1,
          1,
          1,
          1,
          1,
          1,
          1,
          1,
          1,
          1,
          1,
          1,
          1,
          1,
          1,
          1
         ],
         "y": [
          -4.634552235851705,
          -7.534911585294515,
          -6.713839602907362,
          -8.292055945597204,
          -8.968807498087662,
          -8.335482498942994,
          -9.602054130663328,
          -8.955403315141647,
          -8.920709291146272,
          -8.955278747373265,
          -8.263463376409632,
          -7.429938531436032,
          -6.685890052517855,
          -7.517379636253714,
          -8.064150862990067,
          -7.5325749222219835
         ]
        },
        {
         "marker": {
          "color": "red"
         },
         "name": "Batch 2, OTU3",
         "type": "box",
         "visible": false,
         "x": [
          2,
          2,
          2,
          2,
          2,
          2,
          2,
          2,
          2,
          2,
          2,
          2,
          2,
          2,
          2,
          2
         ],
         "y": [
          -5.291764286722873,
          -8.949521023681344,
          -5.939952136669576,
          -8.250493043169136,
          -6.45855600664722,
          -9.038709187426564,
          -8.862931506016912,
          -9.675699589659985,
          -9.507953198967025,
          -10.352779768688608,
          -7.424395326546981,
          -9.700744037063467,
          7.277380763165221,
          -8.96345948088228,
          -8.207265624363236,
          -7.50880545003134
         ]
        },
        {
         "marker": {
          "color": "blue"
         },
         "name": "Batch 1, OTU4",
         "type": "box",
         "visible": false,
         "x": [
          1,
          1,
          1,
          1,
          1,
          1,
          1,
          1,
          1,
          1,
          1,
          1,
          1,
          1,
          1,
          1
         ],
         "y": [
          -4.634552235851705,
          10.305950681262049,
          -6.713839602907362,
          9.786134503492892,
          9.51014216342264,
          9.823833493861976,
          8.220789630715235,
          9.359916924264002,
          9.459149468702504,
          9.03461909587126,
          -8.263463376409632,
          -7.429938531436032,
          -6.685890052517855,
          -7.517379636253714,
          -8.064150862990067,
          -7.5325749222219835
         ]
        },
        {
         "marker": {
          "color": "red"
         },
         "name": "Batch 2, OTU4",
         "type": "box",
         "visible": false,
         "x": [
          2,
          2,
          2,
          2,
          2,
          2,
          2,
          2,
          2,
          2,
          2,
          2,
          2,
          2,
          2,
          2
         ],
         "y": [
          -5.291764286722873,
          -8.949521023681344,
          -5.939952136669576,
          -8.250493043169136,
          -6.45855600664722,
          -9.038709187426564,
          -8.862931506016912,
          -9.675699589659985,
          -9.507953198967025,
          -10.352779768688608,
          -7.424395326546981,
          -9.700744037063467,
          8.10058104080805,
          -8.96345948088228,
          -8.207265624363236,
          -7.50880545003134
         ]
        },
        {
         "marker": {
          "color": "blue"
         },
         "name": "Batch 1, OTU5",
         "type": "box",
         "visible": false,
         "x": [
          1,
          1,
          1,
          1,
          1,
          1,
          1,
          1,
          1,
          1,
          1,
          1,
          1,
          1,
          1,
          1
         ],
         "y": [
          15.465092485049043,
          -7.534911585294515,
          13.224163766764281,
          -8.292055945597204,
          10.499192243654035,
          -8.335482498942994,
          9.962849416393912,
          -8.955403315141647,
          10.58516072452044,
          -8.955278747373265,
          11.304619823554878,
          -7.429938531436032,
          13.383449318944969,
          -7.517379636253714,
          11.02435925866616,
          -7.5325749222219835
         ]
        },
        {
         "marker": {
          "color": "red"
         },
         "name": "Batch 2, OTU5",
         "type": "box",
         "visible": false,
         "x": [
          2,
          2,
          2,
          2,
          2,
          2,
          2,
          2,
          2,
          2,
          2,
          2,
          2,
          2,
          2,
          2
         ],
         "y": [
          14.930626258960881,
          -8.949521023681344,
          14.406436050478309,
          -8.250493043169136,
          13.70958394937878,
          -9.038709187426564,
          11.04840361663184,
          -9.675699589659985,
          10.258199914189142,
          -10.352779768688608,
          12.6919010279154,
          -9.700744037063467,
          10.59961504746903,
          -8.96345948088228,
          11.724137061291577,
          -7.50880545003134
         ]
        },
        {
         "marker": {
          "color": "blue"
         },
         "name": "Batch 1, OTU6",
         "type": "box",
         "visible": false,
         "x": [
          1,
          1,
          1,
          1,
          1,
          1,
          1,
          1,
          1,
          1,
          1,
          1,
          1,
          1,
          1,
          1
         ],
         "y": [
          -4.634552235851705,
          11.856548079603954,
          -6.713839602907362,
          10.870562147846442,
          -8.968807498087662,
          10.788295761372979,
          -9.602054130663328,
          10.258269948865266,
          -8.920709291146272,
          10.128089974808974,
          -8.263463376409632,
          11.823651339799264,
          -6.685890052517855,
          11.753452041341767,
          -8.064150862990067,
          11.555935199434243
         ]
        },
        {
         "marker": {
          "color": "red"
         },
         "name": "Batch 2, OTU6",
         "type": "box",
         "visible": false,
         "x": [
          2,
          2,
          2,
          2,
          2,
          2,
          2,
          2,
          2,
          2,
          2,
          2,
          2,
          2,
          2,
          2
         ],
         "y": [
          -5.291764286722873,
          10.19386570792688,
          -5.939952136669576,
          10.935655547573962,
          -6.45855600664722,
          9.807239298466092,
          -8.862931506016912,
          9.030160104044839,
          -9.507953198967025,
          7.99533029318161,
          -7.424395326546981,
          9.480742540595555,
          -9.428501608250771,
          10.077797756171538,
          -8.207265624363236,
          11.436603828773167
         ]
        },
        {
         "marker": {
          "color": "blue"
         },
         "name": "Batch 1, OTU7",
         "type": "box",
         "visible": false,
         "x": [
          1,
          1,
          1,
          1,
          1,
          1,
          1,
          1,
          1,
          1,
          1,
          1,
          1,
          1,
          1,
          1
         ],
         "y": [
          13.968450073227949,
          11.517040940818857,
          11.350166211391985,
          10.641448430771849,
          9.642493613737816,
          10.428787956491647,
          9.065486699033062,
          9.822951880075541,
          9.822054959221584,
          10.168499512942708,
          10.177020004642834,
          12.187690404926453,
          11.848119385670085,
          11.843308370096373,
          -8.064150862990067,
          11.843617270603973
         ]
        },
        {
         "marker": {
          "color": "red"
         },
         "name": "Batch 2, OTU7",
         "type": "box",
         "visible": false,
         "x": [
          2,
          2,
          2,
          2,
          2,
          2,
          2,
          2,
          2,
          2,
          2,
          2,
          2,
          2,
          2,
          2
         ],
         "y": [
          12.930465530700776,
          10.025044839244584,
          11.969903000183466,
          10.967694901171921,
          -6.45855600664722,
          9.512999827704135,
          9.452388733388737,
          9.143757280961157,
          9.263384423640764,
          8.037441778088326,
          11.063944075224994,
          8.557417789155828,
          8.10058104080805,
          9.31795920723083,
          9.87092482472686,
          11.085828609447825
         ]
        },
        {
         "marker": {
          "color": "blue"
         },
         "name": "Batch 1, OTU8",
         "type": "box",
         "visible": false,
         "x": [
          1,
          1,
          1,
          1,
          1,
          1,
          1,
          1,
          1,
          1,
          1,
          1,
          1,
          1,
          1,
          1
         ],
         "y": [
          -4.634552235851705,
          -7.534911585294515,
          -6.713839602907362,
          -8.292055945597204,
          -8.968807498087662,
          -8.335482498942994,
          -9.602054130663328,
          -8.955403315141647,
          -8.920709291146272,
          -8.955278747373265,
          10.21548628510067,
          -7.429938531436032,
          -6.685890052517855,
          -7.517379636253714,
          11.547417448779091,
          -7.5325749222219835
         ]
        },
        {
         "marker": {
          "color": "red"
         },
         "name": "Batch 2, OTU8",
         "type": "box",
         "visible": false,
         "x": [
          2,
          2,
          2,
          2,
          2,
          2,
          2,
          2,
          2,
          2,
          2,
          2,
          2,
          2,
          2,
          2
         ],
         "y": [
          -5.291764286722873,
          -8.949521023681344,
          -5.939952136669576,
          -8.250493043169136,
          -6.45855600664722,
          -9.038709187426564,
          -8.862931506016912,
          -9.675699589659985,
          -9.507953198967025,
          -10.352779768688608,
          -7.424395326546981,
          -9.700744037063467,
          -9.428501608250771,
          -8.96345948088228,
          -8.207265624363236,
          -7.50880545003134
         ]
        },
        {
         "marker": {
          "color": "blue"
         },
         "name": "Batch 1, OTU9",
         "type": "box",
         "visible": false,
         "x": [
          1,
          1,
          1,
          1,
          1,
          1,
          1,
          1,
          1,
          1,
          1,
          1,
          1,
          1,
          1,
          1
         ],
         "y": [
          13.95164295505281,
          11.362003343865402,
          12.31660671810068,
          10.598628433850896,
          9.608877003221375,
          10.456761808338404,
          9.073268839414556,
          9.864053555479495,
          9.800076052663838,
          9.569762020912352,
          10.224876025362342,
          11.688876939562443,
          12.056874197850002,
          11.274864671027686,
          10.916145674612006,
          11.424599198092904
         ]
        },
        {
         "marker": {
          "color": "red"
         },
         "name": "Batch 2, OTU9",
         "type": "box",
         "visible": false,
         "x": [
          2,
          2,
          2,
          2,
          2,
          2,
          2,
          2,
          2,
          2,
          2,
          2,
          2,
          2,
          2,
          2
         ],
         "y": [
          12.954563081989477,
          9.37684905178879,
          11.61322806338759,
          10.170187710783228,
          12.291428491641991,
          8.708627022869878,
          9.334605699121242,
          8.821942204687767,
          8.332909067589538,
          7.413974527087862,
          10.45155825920509,
          8.569113828782221,
          7.997926889384753,
          9.447170937317594,
          9.271806605371708,
          -7.50880545003134
         ]
        },
        {
         "marker": {
          "color": "blue"
         },
         "name": "Batch 1, OTU10",
         "type": "box",
         "visible": false,
         "x": [
          1,
          1,
          1,
          1,
          1,
          1,
          1,
          1,
          1,
          1,
          1,
          1,
          1,
          1,
          1,
          1
         ],
         "y": [
          -4.634552235851705,
          10.746507102818596,
          -6.713839602907362,
          9.90548125954095,
          9.123369192781556,
          9.654415344301531,
          8.418149061617285,
          9.16417234954031,
          9.03793600908255,
          9.136897943495953,
          9.828713314459586,
          10.446015054316039,
          10.68496859550726,
          10.602196028428244,
          9.740343760057,
          10.600423762611934
         ]
        },
        {
         "marker": {
          "color": "red"
         },
         "name": "Batch 2, OTU10",
         "type": "box",
         "visible": false,
         "x": [
          2,
          2,
          2,
          2,
          2,
          2,
          2,
          2,
          2,
          2,
          2,
          2,
          2,
          2,
          2,
          2
         ],
         "y": [
          11.519478594795391,
          9.771264320128767,
          12.470678281530299,
          10.360808068656342,
          -6.45855600664722,
          9.564293121653089,
          9.229245184852306,
          8.893401168031343,
          -9.507953198967025,
          7.984519377194271,
          -7.424395326546981,
          7.670114610961648,
          -9.428501608250771,
          7.560101344850868,
          -8.207265624363236,
          -7.50880545003134
         ]
        },
        {
         "marker": {
          "color": "blue"
         },
         "name": "Batch 1, OTU11",
         "type": "box",
         "visible": false,
         "x": [
          1,
          1,
          1,
          1,
          1,
          1,
          1,
          1,
          1,
          1,
          1,
          1,
          1,
          1,
          1,
          1
         ],
         "y": [
          -4.634552235851705,
          10.109240390897984,
          -6.713839602907362,
          9.600992073221942,
          8.77852871220878,
          9.607162460195402,
          8.220789630715235,
          9.079614962704616,
          -8.920709291146272,
          -8.955278747373265,
          -8.263463376409632,
          -7.429938531436032,
          -6.685890052517855,
          -7.517379636253714,
          -8.064150862990067,
          -7.5325749222219835
         ]
        },
        {
         "marker": {
          "color": "red"
         },
         "name": "Batch 2, OTU11",
         "type": "box",
         "visible": false,
         "x": [
          2,
          2,
          2,
          2,
          2,
          2,
          2,
          2,
          2,
          2,
          2,
          2,
          2,
          2,
          2,
          2
         ],
         "y": [
          -5.291764286722873,
          -8.949521023681344,
          -5.939952136669576,
          -8.250493043169136,
          -6.45855600664722,
          8.109005916427195,
          -8.862931506016912,
          -9.675699589659985,
          7.9184752986685,
          7.505782074654075,
          9.224328634297038,
          7.446971066790292,
          6.46645061639333,
          7.943093575894854,
          8.743739193008446,
          -7.50880545003134
         ]
        },
        {
         "marker": {
          "color": "blue"
         },
         "name": "Batch 1, OTU12",
         "type": "box",
         "visible": false,
         "x": [
          1,
          1,
          1,
          1,
          1,
          1,
          1,
          1,
          1,
          1,
          1,
          1,
          1,
          1,
          1,
          1
         ],
         "y": [
          -4.634552235851705,
          -7.534911585294515,
          -6.713839602907362,
          -8.292055945597204,
          8.94104763876538,
          9.654415344301531,
          8.476136318426768,
          9.16417234954031,
          -8.920709291146272,
          8.386592364618934,
          -8.263463376409632,
          -7.429938531436032,
          -6.685890052517855,
          -7.517379636253714,
          -8.064150862990067,
          -7.5325749222219835
         ]
        },
        {
         "marker": {
          "color": "red"
         },
         "name": "Batch 2, OTU12",
         "type": "box",
         "visible": false,
         "x": [
          2,
          2,
          2,
          2,
          2,
          2,
          2,
          2,
          2,
          2,
          2,
          2,
          2,
          2,
          2,
          2
         ],
         "y": [
          -5.291764286722873,
          8.716137157269584,
          10.920080906637168,
          9.754672271973078,
          9.554179239764379,
          9.659603300699837,
          9.625407895755062,
          9.13702324882516,
          8.277849291417295,
          8.525325828631747,
          10.416466940009583,
          7.8989561775463395,
          7.883516541483012,
          9.543398968485448,
          10.014964193060411,
          11.255465005403302
         ]
        },
        {
         "marker": {
          "color": "blue"
         },
         "name": "Batch 1, OTU13",
         "type": "box",
         "visible": false,
         "x": [
          1,
          1,
          1,
          1,
          1,
          1,
          1,
          1,
          1,
          1,
          1,
          1,
          1,
          1,
          1,
          1
         ],
         "y": [
          -4.634552235851705,
          -7.534911585294515,
          -6.713839602907362,
          -8.292055945597204,
          -8.968807498087662,
          -8.335482498942994,
          -9.602054130663328,
          -8.955403315141647,
          -8.920709291146272,
          -8.955278747373265,
          -8.263463376409632,
          -7.429938531436032,
          -6.685890052517855,
          -7.517379636253714,
          -8.064150862990067,
          -7.5325749222219835
         ]
        },
        {
         "marker": {
          "color": "red"
         },
         "name": "Batch 2, OTU13",
         "type": "box",
         "visible": false,
         "x": [
          2,
          2,
          2,
          2,
          2,
          2,
          2,
          2,
          2,
          2,
          2,
          2,
          2,
          2,
          2,
          2
         ],
         "y": [
          -5.291764286722873,
          8.672652046275472,
          -5.939952136669576,
          -8.250493043169136,
          -6.45855600664722,
          -9.038709187426564,
          -8.862931506016912,
          -9.675699589659985,
          -9.507953198967025,
          -10.352779768688608,
          -7.424395326546981,
          -9.700744037063467,
          -9.428501608250771,
          -8.96345948088228,
          -8.207265624363236,
          -7.50880545003134
         ]
        },
        {
         "marker": {
          "color": "blue"
         },
         "name": "Batch 1, OTU14",
         "type": "box",
         "visible": false,
         "x": [
          1,
          1,
          1,
          1,
          1,
          1,
          1,
          1,
          1,
          1,
          1,
          1,
          1,
          1,
          1,
          1
         ],
         "y": [
          -4.634552235851705,
          -7.534911585294515,
          -6.713839602907362,
          9.786134503492892,
          9.005586158861284,
          9.699535778903268,
          8.340590828475069,
          9.17759536969227,
          9.212289393687644,
          9.242258457764889,
          9.92149504667989,
          10.605079746410231,
          10.307674377461032,
          10.375668382565433,
          9.758692898388496,
          9.68413305073778
         ]
        },
        {
         "marker": {
          "color": "red"
         },
         "name": "Batch 2, OTU14",
         "type": "box",
         "visible": false,
         "x": [
          2,
          2,
          2,
          2,
          2,
          2,
          2,
          2,
          2,
          2,
          2,
          2,
          2,
          2,
          2,
          2
         ],
         "y": [
          -5.291764286722873,
          8.737190566024154,
          -5.939952136669576,
          9.326217653744513,
          9.554179239764379,
          8.414387556579884,
          8.66615114304191,
          8.558651588149079,
          6.705452722704706,
          7.269393301268207,
          -7.424395326546981,
          -9.700744037063467,
          -9.428501608250771,
          -8.96345948088228,
          -8.207265624363236,
          9.674000972402164
         ]
        },
        {
         "marker": {
          "color": "blue"
         },
         "name": "Batch 1, OTU15",
         "type": "box",
         "visible": false,
         "x": [
          1,
          1,
          1,
          1,
          1,
          1,
          1,
          1,
          1,
          1,
          1,
          1,
          1,
          1,
          1,
          1
         ],
         "y": [
          -4.634552235851705,
          -7.534911585294515,
          10.433875500946398,
          -8.292055945597204,
          -8.968807498087662,
          -8.335482498942994,
          -9.602054130663328,
          -8.955403315141647,
          -8.920709291146272,
          -8.955278747373265,
          -8.263463376409632,
          -7.429938531436032,
          -6.685890052517855,
          -7.517379636253714,
          7.137654306094066,
          -7.5325749222219835
         ]
        },
        {
         "marker": {
          "color": "red"
         },
         "name": "Batch 2, OTU15",
         "type": "box",
         "visible": false,
         "x": [
          2,
          2,
          2,
          2,
          2,
          2,
          2,
          2,
          2,
          2,
          2,
          2,
          2,
          2,
          2,
          2
         ],
         "y": [
          -5.291764286722873,
          -8.949521023681344,
          -5.939952136669576,
          -8.250493043169136,
          -6.45855600664722,
          -9.038709187426564,
          -8.862931506016912,
          -9.675699589659985,
          -9.507953198967025,
          -10.352779768688608,
          -7.424395326546981,
          -9.700744037063467,
          -9.428501608250771,
          -8.96345948088228,
          -8.207265624363236,
          -7.50880545003134
         ]
        },
        {
         "marker": {
          "color": "blue"
         },
         "name": "Batch 1, OTU16",
         "type": "box",
         "visible": false,
         "x": [
          1,
          1,
          1,
          1,
          1,
          1,
          1,
          1,
          1,
          1,
          1,
          1,
          1,
          1,
          1,
          1
         ],
         "y": [
          -4.634552235851705,
          10.624404407510456,
          10.567406889106637,
          9.757561131457082,
          8.696850682863266,
          9.86205470619516,
          8.125479452729092,
          8.830399175242674,
          9.069188552098254,
          9.382020398509614,
          9.679181582728765,
          9.093622294297116,
          9.76867790649024,
          9.43362518111797,
          8.523948479713987,
          10.133083258728945
         ]
        },
        {
         "marker": {
          "color": "red"
         },
         "name": "Batch 2, OTU16",
         "type": "box",
         "visible": false,
         "x": [
          2,
          2,
          2,
          2,
          2,
          2,
          2,
          2,
          2,
          2,
          2,
          2,
          2,
          2,
          2,
          2
         ],
         "y": [
          -5.291764286722873,
          8.267186949278418,
          -5.939952136669576,
          9.120365604855978,
          9.302864843229486,
          8.626948993524364,
          8.088073311354771,
          7.777397154346463,
          6.386999025677077,
          -10.352779768688608,
          -7.424395326546981,
          7.580502454950532,
          6.689594142707543,
          9.373839665000599,
          8.975540798070266,
          8.704600471640392
         ]
        },
        {
         "marker": {
          "color": "blue"
         },
         "name": "Batch 1, OTU17",
         "type": "box",
         "visible": false,
         "x": [
          1,
          1,
          1,
          1,
          1,
          1,
          1,
          1,
          1,
          1,
          1,
          1,
          1,
          1,
          1,
          1
         ],
         "y": [
          13.429453578447642,
          10.57105842751678,
          9.809721222825786,
          9.81391406721409,
          8.696850682863266,
          9.7704875138683,
          7.4323322921691455,
          8.261304657818116,
          8.39130885858751,
          9.414108712717864,
          9.842506636401662,
          9.851307960577968,
          11.15497221403871,
          11.02551874927246,
          8.695798726772225,
          10.194958661170437
         ]
        },
        {
         "marker": {
          "color": "red"
         },
         "name": "Batch 2, OTU17",
         "type": "box",
         "visible": false,
         "x": [
          2,
          2,
          2,
          2,
          2,
          2,
          2,
          2,
          2,
          2,
          2,
          2,
          2,
          2,
          2,
          2
         ],
         "y": [
          -5.291764286722873,
          -8.949521023681344,
          -5.939952136669576,
          8.700511774202546,
          9.436396217996883,
          8.784134573951999,
          8.088073311354771,
          7.435647871345654,
          6.610142551991289,
          4.561343411277053,
          9.099165499186167,
          7.1592890062432755,
          -9.428501608250771,
          8.14788798012336,
          9.104752525370547,
          8.503929796380259
         ]
        },
        {
         "marker": {
          "color": "blue"
         },
         "name": "Batch 1, OTU18",
         "type": "box",
         "visible": false,
         "x": [
          1,
          1,
          1,
          1,
          1,
          1,
          1,
          1,
          1,
          1,
          1,
          1,
          1,
          1,
          1,
          1
         ],
         "y": [
          -4.634552235851705,
          -7.534911585294515,
          -6.713839602907362,
          -8.292055945597204,
          -8.968807498087662,
          -8.335482498942994,
          -9.602054130663328,
          -8.955403315141647,
          -8.920709291146272,
          -8.955278747373265,
          -8.263463376409632,
          -7.429938531436032,
          -6.685890052517855,
          -7.517379636253714,
          -8.064150862990067,
          -7.5325749222219835
         ]
        },
        {
         "marker": {
          "color": "red"
         },
         "name": "Batch 2, OTU18",
         "type": "box",
         "visible": false,
         "x": [
          2,
          2,
          2,
          2,
          2,
          2,
          2,
          2,
          2,
          2,
          2,
          2,
          2,
          2,
          2,
          2
         ],
         "y": [
          -5.291764286722873,
          8.778012559711076,
          -5.939952136669576,
          8.966214929790626,
          9.921903985701665,
          9.010907889627722,
          7.785792454827106,
          7.695159058365131,
          8.157704981983903,
          7.200400431368557,
          10.485459810306061,
          8.69973400977546,
          8.237156572700156,
          9.821864383602438,
          10.23321775668923,
          10.688731755106815
         ]
        },
        {
         "marker": {
          "color": "blue"
         },
         "name": "Batch 1, OTU19",
         "type": "box",
         "visible": false,
         "x": [
          1,
          1,
          1,
          1,
          1,
          1,
          1,
          1,
          1,
          1,
          1,
          1,
          1,
          1,
          1,
          1
         ],
         "y": [
          -4.634552235851705,
          -7.534911585294515,
          -6.713839602907362,
          -8.292055945597204,
          -8.968807498087662,
          -8.335482498942994,
          -9.602054130663328,
          -8.955403315141647,
          7.459750701202612,
          6.939673477270836,
          -8.263463376409632,
          9.158160811268022,
          -6.685890052517855,
          8.863080356095171,
          7.543119330868914,
          8.76784236886362
         ]
        },
        {
         "marker": {
          "color": "red"
         },
         "name": "Batch 2, OTU19",
         "type": "box",
         "visible": false,
         "x": [
          2,
          2,
          2,
          2,
          2,
          2,
          2,
          2,
          2,
          2,
          2,
          2,
          2,
          2,
          2,
          2
         ],
         "y": [
          -5.291764286722873,
          7.756361347734648,
          -5.939952136669576,
          -8.250493043169136,
          -6.45855600664722,
          -9.038709187426564,
          -8.862931506016912,
          6.624717701425618,
          8.277849291417295,
          7.81943962878577,
          9.825102468160503,
          8.778205624446835,
          7.522503209120911,
          7.987545336489403,
          9.191763899834925,
          11.262532172576448
         ]
        },
        {
         "marker": {
          "color": "blue"
         },
         "name": "Batch 1, OTU20",
         "type": "box",
         "visible": false,
         "x": [
          1,
          1,
          1,
          1,
          1,
          1,
          1,
          1,
          1,
          1,
          1,
          1,
          1,
          1,
          1,
          1
         ],
         "y": [
          -4.634552235851705,
          -7.534911585294515,
          -6.713839602907362,
          -8.292055945597204,
          -8.968807498087662,
          -8.335482498942994,
          -9.602054130663328,
          -8.955403315141647,
          -8.920709291146272,
          -8.955278747373265,
          -8.263463376409632,
          -7.429938531436032,
          -6.685890052517855,
          -7.517379636253714,
          -8.064150862990067,
          -7.5325749222219835
         ]
        },
        {
         "marker": {
          "color": "red"
         },
         "name": "Batch 2, OTU20",
         "type": "box",
         "visible": false,
         "x": [
          2,
          2,
          2,
          2,
          2,
          2,
          2,
          2,
          2,
          2,
          2,
          2,
          2,
          2,
          2,
          2
         ],
         "y": [
          -5.291764286722873,
          -8.949521023681344,
          -5.939952136669576,
          -8.250493043169136,
          -6.45855600664722,
          -9.038709187426564,
          -8.862931506016912,
          -9.675699589659985,
          7.398599857810109,
          6.863928204271153,
          -7.424395326546981,
          7.5487537576440165,
          7.026066350757322,
          -8.96345948088228,
          -8.207265624363236,
          -7.50880545003134
         ]
        },
        {
         "marker": {
          "color": "blue"
         },
         "name": "Batch 1, OTU21",
         "type": "box",
         "visible": false,
         "x": [
          1,
          1,
          1,
          1,
          1,
          1,
          1,
          1,
          1,
          1,
          1,
          1,
          1,
          1,
          1,
          1
         ],
         "y": [
          12.582155737108058,
          8.477823661117084,
          9.934884357936657,
          8.467893644165088,
          -8.968807498087662,
          -8.335482498942994,
          6.778405861685556,
          7.057331931269951,
          7.292696630525459,
          7.904754295933477,
          8.77092304642284,
          9.521066285935651,
          9.43220569844046,
          10.035800563803452,
          -8.064150862990067,
          10.393809516309044
         ]
        },
        {
         "marker": {
          "color": "red"
         },
         "name": "Batch 2, OTU21",
         "type": "box",
         "visible": false,
         "x": [
          2,
          2,
          2,
          2,
          2,
          2,
          2,
          2,
          2,
          2,
          2,
          2,
          2,
          2,
          2,
          2
         ],
         "y": [
          -5.291764286722873,
          -8.949521023681344,
          10.966600920107558,
          -8.250493043169136,
          -6.45855600664722,
          -9.038709187426564,
          7.8429508653990805,
          7.184333453646758,
          -9.507953198967025,
          6.928466723325392,
          -7.424395326546981,
          -9.700744037063467,
          -9.428501608250771,
          -8.96345948088228,
          -8.207265624363236,
          10.891672596807588
         ]
        },
        {
         "marker": {
          "color": "blue"
         },
         "name": "Batch 1, OTU22",
         "type": "box",
         "visible": false,
         "x": [
          1,
          1,
          1,
          1,
          1,
          1,
          1,
          1,
          1,
          1,
          1,
          1,
          1,
          1,
          1,
          1
         ],
         "y": [
          -4.634552235851705,
          -7.534911585294515,
          -6.713839602907362,
          -8.292055945597204,
          -8.968807498087662,
          -8.335482498942994,
          -9.602054130663328,
          -8.955403315141647,
          -8.920709291146272,
          -8.955278747373265,
          -8.263463376409632,
          -7.429938531436032,
          -6.685890052517855,
          -7.517379636253714,
          -8.064150862990067,
          -7.5325749222219835
         ]
        },
        {
         "marker": {
          "color": "red"
         },
         "name": "Batch 2, OTU22",
         "type": "box",
         "visible": false,
         "x": [
          2,
          2,
          2,
          2,
          2,
          2,
          2,
          2,
          2,
          2,
          2,
          2,
          2,
          2,
          2,
          2
         ],
         "y": [
          -5.291764286722873,
          -8.949521023681344,
          10.966600920107558,
          -8.250493043169136,
          -6.45855600664722,
          -9.038709187426564,
          9.063452932514116,
          7.3178648403189,
          -9.507953198967025,
          6.681606654143866,
          -7.424395326546981,
          -9.700744037063467,
          -9.428501608250771,
          -8.96345948088228,
          -8.207265624363236,
          -7.50880545003134
         ]
        },
        {
         "marker": {
          "color": "blue"
         },
         "name": "Batch 1, OTU23",
         "type": "box",
         "visible": false,
         "x": [
          1,
          1,
          1,
          1,
          1,
          1,
          1,
          1,
          1,
          1,
          1,
          1,
          1,
          1,
          1,
          1
         ],
         "y": [
          14.025145416445177,
          9.918185158711934,
          12.118950798494353,
          8.567977097709539,
          7.7911420916746295,
          8.615522318428688,
          7.3489506867083545,
          7.4250566772072375,
          8.072855138832614,
          8.156068713632374,
          9.423248213295865,
          9.643668603011262,
          11.651409093365025,
          10.035800563803452,
          9.580001113202432,
          10.85764662455495
         ]
        },
        {
         "marker": {
          "color": "red"
         },
         "name": "Batch 2, OTU23",
         "type": "box",
         "visible": false,
         "x": [
          2,
          2,
          2,
          2,
          2,
          2,
          2,
          2,
          2,
          2,
          2,
          2,
          2,
          2,
          2,
          2
         ],
         "y": [
          11.519478594795391,
          7.263884897990387,
          -5.939952136669576,
          8.560749838349127,
          10.352686874871043,
          8.465680849651646,
          -8.862931506016912,
          -9.675699589659985,
          7.7087547739927365,
          -10.352779768688608,
          10.002033171088545,
          8.1037505859836,
          8.215650367941727,
          8.407399167142835,
          9.91231004031872,
          -7.50880545003134
         ]
        },
        {
         "marker": {
          "color": "blue"
         },
         "name": "Batch 1, OTU24",
         "type": "box",
         "visible": false,
         "x": [
          1,
          1,
          1,
          1,
          1,
          1,
          1,
          1,
          1,
          1,
          1,
          1,
          1,
          1,
          1,
          1
         ],
         "y": [
          -4.634552235851705,
          -7.534911585294515,
          -6.713839602907362,
          -8.292055945597204,
          -8.968807498087662,
          -8.335482498942994,
          -9.602054130663328,
          -8.955403315141647,
          -8.920709291146272,
          -8.955278747373265,
          -8.263463376409632,
          -7.429938531436032,
          -6.685890052517855,
          -7.517379636253714,
          -8.064150862990067,
          -7.5325749222219835
         ]
        },
        {
         "marker": {
          "color": "red"
         },
         "name": "Batch 2, OTU24",
         "type": "box",
         "visible": false,
         "x": [
          2,
          2,
          2,
          2,
          2,
          2,
          2,
          2,
          2,
          2,
          2,
          2,
          2,
          2,
          2,
          2
         ],
         "y": [
          -5.291764286722873,
          9.835802840803375,
          -5.939952136669576,
          10.393331260097439,
          -6.45855600664722,
          9.800681897962933,
          -8.862931506016912,
          8.812639812111989,
          -9.507953198967025,
          8.740845453608223,
          -7.424395326546981,
          9.214632954822564,
          -9.428501608250771,
          9.933455448277636,
          -8.207265624363236,
          11.61991109190083
         ]
        }
       ],
       "layout": {
        "template": {
         "data": {
          "bar": [
           {
            "error_x": {
             "color": "#2a3f5f"
            },
            "error_y": {
             "color": "#2a3f5f"
            },
            "marker": {
             "line": {
              "color": "#E5ECF6",
              "width": 0.5
             },
             "pattern": {
              "fillmode": "overlay",
              "size": 10,
              "solidity": 0.2
             }
            },
            "type": "bar"
           }
          ],
          "barpolar": [
           {
            "marker": {
             "line": {
              "color": "#E5ECF6",
              "width": 0.5
             },
             "pattern": {
              "fillmode": "overlay",
              "size": 10,
              "solidity": 0.2
             }
            },
            "type": "barpolar"
           }
          ],
          "carpet": [
           {
            "aaxis": {
             "endlinecolor": "#2a3f5f",
             "gridcolor": "white",
             "linecolor": "white",
             "minorgridcolor": "white",
             "startlinecolor": "#2a3f5f"
            },
            "baxis": {
             "endlinecolor": "#2a3f5f",
             "gridcolor": "white",
             "linecolor": "white",
             "minorgridcolor": "white",
             "startlinecolor": "#2a3f5f"
            },
            "type": "carpet"
           }
          ],
          "choropleth": [
           {
            "colorbar": {
             "outlinewidth": 0,
             "ticks": ""
            },
            "type": "choropleth"
           }
          ],
          "contour": [
           {
            "colorbar": {
             "outlinewidth": 0,
             "ticks": ""
            },
            "colorscale": [
             [
              0,
              "#0d0887"
             ],
             [
              0.1111111111111111,
              "#46039f"
             ],
             [
              0.2222222222222222,
              "#7201a8"
             ],
             [
              0.3333333333333333,
              "#9c179e"
             ],
             [
              0.4444444444444444,
              "#bd3786"
             ],
             [
              0.5555555555555556,
              "#d8576b"
             ],
             [
              0.6666666666666666,
              "#ed7953"
             ],
             [
              0.7777777777777778,
              "#fb9f3a"
             ],
             [
              0.8888888888888888,
              "#fdca26"
             ],
             [
              1,
              "#f0f921"
             ]
            ],
            "type": "contour"
           }
          ],
          "contourcarpet": [
           {
            "colorbar": {
             "outlinewidth": 0,
             "ticks": ""
            },
            "type": "contourcarpet"
           }
          ],
          "heatmap": [
           {
            "colorbar": {
             "outlinewidth": 0,
             "ticks": ""
            },
            "colorscale": [
             [
              0,
              "#0d0887"
             ],
             [
              0.1111111111111111,
              "#46039f"
             ],
             [
              0.2222222222222222,
              "#7201a8"
             ],
             [
              0.3333333333333333,
              "#9c179e"
             ],
             [
              0.4444444444444444,
              "#bd3786"
             ],
             [
              0.5555555555555556,
              "#d8576b"
             ],
             [
              0.6666666666666666,
              "#ed7953"
             ],
             [
              0.7777777777777778,
              "#fb9f3a"
             ],
             [
              0.8888888888888888,
              "#fdca26"
             ],
             [
              1,
              "#f0f921"
             ]
            ],
            "type": "heatmap"
           }
          ],
          "heatmapgl": [
           {
            "colorbar": {
             "outlinewidth": 0,
             "ticks": ""
            },
            "colorscale": [
             [
              0,
              "#0d0887"
             ],
             [
              0.1111111111111111,
              "#46039f"
             ],
             [
              0.2222222222222222,
              "#7201a8"
             ],
             [
              0.3333333333333333,
              "#9c179e"
             ],
             [
              0.4444444444444444,
              "#bd3786"
             ],
             [
              0.5555555555555556,
              "#d8576b"
             ],
             [
              0.6666666666666666,
              "#ed7953"
             ],
             [
              0.7777777777777778,
              "#fb9f3a"
             ],
             [
              0.8888888888888888,
              "#fdca26"
             ],
             [
              1,
              "#f0f921"
             ]
            ],
            "type": "heatmapgl"
           }
          ],
          "histogram": [
           {
            "marker": {
             "pattern": {
              "fillmode": "overlay",
              "size": 10,
              "solidity": 0.2
             }
            },
            "type": "histogram"
           }
          ],
          "histogram2d": [
           {
            "colorbar": {
             "outlinewidth": 0,
             "ticks": ""
            },
            "colorscale": [
             [
              0,
              "#0d0887"
             ],
             [
              0.1111111111111111,
              "#46039f"
             ],
             [
              0.2222222222222222,
              "#7201a8"
             ],
             [
              0.3333333333333333,
              "#9c179e"
             ],
             [
              0.4444444444444444,
              "#bd3786"
             ],
             [
              0.5555555555555556,
              "#d8576b"
             ],
             [
              0.6666666666666666,
              "#ed7953"
             ],
             [
              0.7777777777777778,
              "#fb9f3a"
             ],
             [
              0.8888888888888888,
              "#fdca26"
             ],
             [
              1,
              "#f0f921"
             ]
            ],
            "type": "histogram2d"
           }
          ],
          "histogram2dcontour": [
           {
            "colorbar": {
             "outlinewidth": 0,
             "ticks": ""
            },
            "colorscale": [
             [
              0,
              "#0d0887"
             ],
             [
              0.1111111111111111,
              "#46039f"
             ],
             [
              0.2222222222222222,
              "#7201a8"
             ],
             [
              0.3333333333333333,
              "#9c179e"
             ],
             [
              0.4444444444444444,
              "#bd3786"
             ],
             [
              0.5555555555555556,
              "#d8576b"
             ],
             [
              0.6666666666666666,
              "#ed7953"
             ],
             [
              0.7777777777777778,
              "#fb9f3a"
             ],
             [
              0.8888888888888888,
              "#fdca26"
             ],
             [
              1,
              "#f0f921"
             ]
            ],
            "type": "histogram2dcontour"
           }
          ],
          "mesh3d": [
           {
            "colorbar": {
             "outlinewidth": 0,
             "ticks": ""
            },
            "type": "mesh3d"
           }
          ],
          "parcoords": [
           {
            "line": {
             "colorbar": {
              "outlinewidth": 0,
              "ticks": ""
             }
            },
            "type": "parcoords"
           }
          ],
          "pie": [
           {
            "automargin": true,
            "type": "pie"
           }
          ],
          "scatter": [
           {
            "fillpattern": {
             "fillmode": "overlay",
             "size": 10,
             "solidity": 0.2
            },
            "type": "scatter"
           }
          ],
          "scatter3d": [
           {
            "line": {
             "colorbar": {
              "outlinewidth": 0,
              "ticks": ""
             }
            },
            "marker": {
             "colorbar": {
              "outlinewidth": 0,
              "ticks": ""
             }
            },
            "type": "scatter3d"
           }
          ],
          "scattercarpet": [
           {
            "marker": {
             "colorbar": {
              "outlinewidth": 0,
              "ticks": ""
             }
            },
            "type": "scattercarpet"
           }
          ],
          "scattergeo": [
           {
            "marker": {
             "colorbar": {
              "outlinewidth": 0,
              "ticks": ""
             }
            },
            "type": "scattergeo"
           }
          ],
          "scattergl": [
           {
            "marker": {
             "colorbar": {
              "outlinewidth": 0,
              "ticks": ""
             }
            },
            "type": "scattergl"
           }
          ],
          "scattermapbox": [
           {
            "marker": {
             "colorbar": {
              "outlinewidth": 0,
              "ticks": ""
             }
            },
            "type": "scattermapbox"
           }
          ],
          "scatterpolar": [
           {
            "marker": {
             "colorbar": {
              "outlinewidth": 0,
              "ticks": ""
             }
            },
            "type": "scatterpolar"
           }
          ],
          "scatterpolargl": [
           {
            "marker": {
             "colorbar": {
              "outlinewidth": 0,
              "ticks": ""
             }
            },
            "type": "scatterpolargl"
           }
          ],
          "scatterternary": [
           {
            "marker": {
             "colorbar": {
              "outlinewidth": 0,
              "ticks": ""
             }
            },
            "type": "scatterternary"
           }
          ],
          "surface": [
           {
            "colorbar": {
             "outlinewidth": 0,
             "ticks": ""
            },
            "colorscale": [
             [
              0,
              "#0d0887"
             ],
             [
              0.1111111111111111,
              "#46039f"
             ],
             [
              0.2222222222222222,
              "#7201a8"
             ],
             [
              0.3333333333333333,
              "#9c179e"
             ],
             [
              0.4444444444444444,
              "#bd3786"
             ],
             [
              0.5555555555555556,
              "#d8576b"
             ],
             [
              0.6666666666666666,
              "#ed7953"
             ],
             [
              0.7777777777777778,
              "#fb9f3a"
             ],
             [
              0.8888888888888888,
              "#fdca26"
             ],
             [
              1,
              "#f0f921"
             ]
            ],
            "type": "surface"
           }
          ],
          "table": [
           {
            "cells": {
             "fill": {
              "color": "#EBF0F8"
             },
             "line": {
              "color": "white"
             }
            },
            "header": {
             "fill": {
              "color": "#C8D4E3"
             },
             "line": {
              "color": "white"
             }
            },
            "type": "table"
           }
          ]
         },
         "layout": {
          "annotationdefaults": {
           "arrowcolor": "#2a3f5f",
           "arrowhead": 0,
           "arrowwidth": 1
          },
          "autotypenumbers": "strict",
          "coloraxis": {
           "colorbar": {
            "outlinewidth": 0,
            "ticks": ""
           }
          },
          "colorscale": {
           "diverging": [
            [
             0,
             "#8e0152"
            ],
            [
             0.1,
             "#c51b7d"
            ],
            [
             0.2,
             "#de77ae"
            ],
            [
             0.3,
             "#f1b6da"
            ],
            [
             0.4,
             "#fde0ef"
            ],
            [
             0.5,
             "#f7f7f7"
            ],
            [
             0.6,
             "#e6f5d0"
            ],
            [
             0.7,
             "#b8e186"
            ],
            [
             0.8,
             "#7fbc41"
            ],
            [
             0.9,
             "#4d9221"
            ],
            [
             1,
             "#276419"
            ]
           ],
           "sequential": [
            [
             0,
             "#0d0887"
            ],
            [
             0.1111111111111111,
             "#46039f"
            ],
            [
             0.2222222222222222,
             "#7201a8"
            ],
            [
             0.3333333333333333,
             "#9c179e"
            ],
            [
             0.4444444444444444,
             "#bd3786"
            ],
            [
             0.5555555555555556,
             "#d8576b"
            ],
            [
             0.6666666666666666,
             "#ed7953"
            ],
            [
             0.7777777777777778,
             "#fb9f3a"
            ],
            [
             0.8888888888888888,
             "#fdca26"
            ],
            [
             1,
             "#f0f921"
            ]
           ],
           "sequentialminus": [
            [
             0,
             "#0d0887"
            ],
            [
             0.1111111111111111,
             "#46039f"
            ],
            [
             0.2222222222222222,
             "#7201a8"
            ],
            [
             0.3333333333333333,
             "#9c179e"
            ],
            [
             0.4444444444444444,
             "#bd3786"
            ],
            [
             0.5555555555555556,
             "#d8576b"
            ],
            [
             0.6666666666666666,
             "#ed7953"
            ],
            [
             0.7777777777777778,
             "#fb9f3a"
            ],
            [
             0.8888888888888888,
             "#fdca26"
            ],
            [
             1,
             "#f0f921"
            ]
           ]
          },
          "colorway": [
           "#636efa",
           "#EF553B",
           "#00cc96",
           "#ab63fa",
           "#FFA15A",
           "#19d3f3",
           "#FF6692",
           "#B6E880",
           "#FF97FF",
           "#FECB52"
          ],
          "font": {
           "color": "#2a3f5f"
          },
          "geo": {
           "bgcolor": "white",
           "lakecolor": "white",
           "landcolor": "#E5ECF6",
           "showlakes": true,
           "showland": true,
           "subunitcolor": "white"
          },
          "hoverlabel": {
           "align": "left"
          },
          "hovermode": "closest",
          "mapbox": {
           "style": "light"
          },
          "paper_bgcolor": "white",
          "plot_bgcolor": "#E5ECF6",
          "polar": {
           "angularaxis": {
            "gridcolor": "white",
            "linecolor": "white",
            "ticks": ""
           },
           "bgcolor": "#E5ECF6",
           "radialaxis": {
            "gridcolor": "white",
            "linecolor": "white",
            "ticks": ""
           }
          },
          "scene": {
           "xaxis": {
            "backgroundcolor": "#E5ECF6",
            "gridcolor": "white",
            "gridwidth": 2,
            "linecolor": "white",
            "showbackground": true,
            "ticks": "",
            "zerolinecolor": "white"
           },
           "yaxis": {
            "backgroundcolor": "#E5ECF6",
            "gridcolor": "white",
            "gridwidth": 2,
            "linecolor": "white",
            "showbackground": true,
            "ticks": "",
            "zerolinecolor": "white"
           },
           "zaxis": {
            "backgroundcolor": "#E5ECF6",
            "gridcolor": "white",
            "gridwidth": 2,
            "linecolor": "white",
            "showbackground": true,
            "ticks": "",
            "zerolinecolor": "white"
           }
          },
          "shapedefaults": {
           "line": {
            "color": "#2a3f5f"
           }
          },
          "ternary": {
           "aaxis": {
            "gridcolor": "white",
            "linecolor": "white",
            "ticks": ""
           },
           "baxis": {
            "gridcolor": "white",
            "linecolor": "white",
            "ticks": ""
           },
           "bgcolor": "#E5ECF6",
           "caxis": {
            "gridcolor": "white",
            "linecolor": "white",
            "ticks": ""
           }
          },
          "title": {
           "x": 0.05
          },
          "xaxis": {
           "automargin": true,
           "gridcolor": "white",
           "linecolor": "white",
           "ticks": "",
           "title": {
            "standoff": 15
           },
           "zerolinecolor": "white",
           "zerolinewidth": 2
          },
          "yaxis": {
           "automargin": true,
           "gridcolor": "white",
           "linecolor": "white",
           "ticks": "",
           "title": {
            "standoff": 15
           },
           "zerolinecolor": "white",
           "zerolinewidth": 2
          }
         }
        },
        "updatemenus": [
         {
          "buttons": [
           {
            "args": [
             {
              "visible": [
               true,
               true,
               false,
               false,
               false,
               false,
               false,
               false,
               false,
               false,
               false,
               false,
               false,
               false,
               false,
               false,
               false,
               false,
               false,
               false,
               false,
               false,
               false,
               false,
               false,
               false,
               false,
               false,
               false,
               false,
               false,
               false,
               false,
               false,
               false,
               false,
               false,
               false,
               false,
               false,
               false,
               false,
               false,
               false,
               false,
               false,
               false,
               false
              ]
             }
            ],
            "label": "OTU1",
            "method": "update"
           },
           {
            "args": [
             {
              "visible": [
               false,
               false,
               true,
               true,
               false,
               false,
               false,
               false,
               false,
               false,
               false,
               false,
               false,
               false,
               false,
               false,
               false,
               false,
               false,
               false,
               false,
               false,
               false,
               false,
               false,
               false,
               false,
               false,
               false,
               false,
               false,
               false,
               false,
               false,
               false,
               false,
               false,
               false,
               false,
               false,
               false,
               false,
               false,
               false,
               false,
               false,
               false,
               false
              ]
             }
            ],
            "label": "OTU2",
            "method": "update"
           },
           {
            "args": [
             {
              "visible": [
               false,
               false,
               false,
               false,
               true,
               true,
               false,
               false,
               false,
               false,
               false,
               false,
               false,
               false,
               false,
               false,
               false,
               false,
               false,
               false,
               false,
               false,
               false,
               false,
               false,
               false,
               false,
               false,
               false,
               false,
               false,
               false,
               false,
               false,
               false,
               false,
               false,
               false,
               false,
               false,
               false,
               false,
               false,
               false,
               false,
               false,
               false,
               false
              ]
             }
            ],
            "label": "OTU3",
            "method": "update"
           },
           {
            "args": [
             {
              "visible": [
               false,
               false,
               false,
               false,
               false,
               false,
               true,
               true,
               false,
               false,
               false,
               false,
               false,
               false,
               false,
               false,
               false,
               false,
               false,
               false,
               false,
               false,
               false,
               false,
               false,
               false,
               false,
               false,
               false,
               false,
               false,
               false,
               false,
               false,
               false,
               false,
               false,
               false,
               false,
               false,
               false,
               false,
               false,
               false,
               false,
               false,
               false,
               false
              ]
             }
            ],
            "label": "OTU4",
            "method": "update"
           },
           {
            "args": [
             {
              "visible": [
               false,
               false,
               false,
               false,
               false,
               false,
               false,
               false,
               true,
               true,
               false,
               false,
               false,
               false,
               false,
               false,
               false,
               false,
               false,
               false,
               false,
               false,
               false,
               false,
               false,
               false,
               false,
               false,
               false,
               false,
               false,
               false,
               false,
               false,
               false,
               false,
               false,
               false,
               false,
               false,
               false,
               false,
               false,
               false,
               false,
               false,
               false,
               false
              ]
             }
            ],
            "label": "OTU5",
            "method": "update"
           },
           {
            "args": [
             {
              "visible": [
               false,
               false,
               false,
               false,
               false,
               false,
               false,
               false,
               false,
               false,
               true,
               true,
               false,
               false,
               false,
               false,
               false,
               false,
               false,
               false,
               false,
               false,
               false,
               false,
               false,
               false,
               false,
               false,
               false,
               false,
               false,
               false,
               false,
               false,
               false,
               false,
               false,
               false,
               false,
               false,
               false,
               false,
               false,
               false,
               false,
               false,
               false,
               false
              ]
             }
            ],
            "label": "OTU6",
            "method": "update"
           },
           {
            "args": [
             {
              "visible": [
               false,
               false,
               false,
               false,
               false,
               false,
               false,
               false,
               false,
               false,
               false,
               false,
               true,
               true,
               false,
               false,
               false,
               false,
               false,
               false,
               false,
               false,
               false,
               false,
               false,
               false,
               false,
               false,
               false,
               false,
               false,
               false,
               false,
               false,
               false,
               false,
               false,
               false,
               false,
               false,
               false,
               false,
               false,
               false,
               false,
               false,
               false,
               false
              ]
             }
            ],
            "label": "OTU7",
            "method": "update"
           },
           {
            "args": [
             {
              "visible": [
               false,
               false,
               false,
               false,
               false,
               false,
               false,
               false,
               false,
               false,
               false,
               false,
               false,
               false,
               true,
               true,
               false,
               false,
               false,
               false,
               false,
               false,
               false,
               false,
               false,
               false,
               false,
               false,
               false,
               false,
               false,
               false,
               false,
               false,
               false,
               false,
               false,
               false,
               false,
               false,
               false,
               false,
               false,
               false,
               false,
               false,
               false,
               false
              ]
             }
            ],
            "label": "OTU8",
            "method": "update"
           },
           {
            "args": [
             {
              "visible": [
               false,
               false,
               false,
               false,
               false,
               false,
               false,
               false,
               false,
               false,
               false,
               false,
               false,
               false,
               false,
               false,
               true,
               true,
               false,
               false,
               false,
               false,
               false,
               false,
               false,
               false,
               false,
               false,
               false,
               false,
               false,
               false,
               false,
               false,
               false,
               false,
               false,
               false,
               false,
               false,
               false,
               false,
               false,
               false,
               false,
               false,
               false,
               false
              ]
             }
            ],
            "label": "OTU9",
            "method": "update"
           },
           {
            "args": [
             {
              "visible": [
               false,
               false,
               false,
               false,
               false,
               false,
               false,
               false,
               false,
               false,
               false,
               false,
               false,
               false,
               false,
               false,
               false,
               false,
               true,
               true,
               false,
               false,
               false,
               false,
               false,
               false,
               false,
               false,
               false,
               false,
               false,
               false,
               false,
               false,
               false,
               false,
               false,
               false,
               false,
               false,
               false,
               false,
               false,
               false,
               false,
               false,
               false,
               false
              ]
             }
            ],
            "label": "OTU10",
            "method": "update"
           },
           {
            "args": [
             {
              "visible": [
               false,
               false,
               false,
               false,
               false,
               false,
               false,
               false,
               false,
               false,
               false,
               false,
               false,
               false,
               false,
               false,
               false,
               false,
               false,
               false,
               true,
               true,
               false,
               false,
               false,
               false,
               false,
               false,
               false,
               false,
               false,
               false,
               false,
               false,
               false,
               false,
               false,
               false,
               false,
               false,
               false,
               false,
               false,
               false,
               false,
               false,
               false,
               false
              ]
             }
            ],
            "label": "OTU11",
            "method": "update"
           },
           {
            "args": [
             {
              "visible": [
               false,
               false,
               false,
               false,
               false,
               false,
               false,
               false,
               false,
               false,
               false,
               false,
               false,
               false,
               false,
               false,
               false,
               false,
               false,
               false,
               false,
               false,
               true,
               true,
               false,
               false,
               false,
               false,
               false,
               false,
               false,
               false,
               false,
               false,
               false,
               false,
               false,
               false,
               false,
               false,
               false,
               false,
               false,
               false,
               false,
               false,
               false,
               false
              ]
             }
            ],
            "label": "OTU12",
            "method": "update"
           },
           {
            "args": [
             {
              "visible": [
               false,
               false,
               false,
               false,
               false,
               false,
               false,
               false,
               false,
               false,
               false,
               false,
               false,
               false,
               false,
               false,
               false,
               false,
               false,
               false,
               false,
               false,
               false,
               false,
               true,
               true,
               false,
               false,
               false,
               false,
               false,
               false,
               false,
               false,
               false,
               false,
               false,
               false,
               false,
               false,
               false,
               false,
               false,
               false,
               false,
               false,
               false,
               false
              ]
             }
            ],
            "label": "OTU13",
            "method": "update"
           },
           {
            "args": [
             {
              "visible": [
               false,
               false,
               false,
               false,
               false,
               false,
               false,
               false,
               false,
               false,
               false,
               false,
               false,
               false,
               false,
               false,
               false,
               false,
               false,
               false,
               false,
               false,
               false,
               false,
               false,
               false,
               true,
               true,
               false,
               false,
               false,
               false,
               false,
               false,
               false,
               false,
               false,
               false,
               false,
               false,
               false,
               false,
               false,
               false,
               false,
               false,
               false,
               false
              ]
             }
            ],
            "label": "OTU14",
            "method": "update"
           },
           {
            "args": [
             {
              "visible": [
               false,
               false,
               false,
               false,
               false,
               false,
               false,
               false,
               false,
               false,
               false,
               false,
               false,
               false,
               false,
               false,
               false,
               false,
               false,
               false,
               false,
               false,
               false,
               false,
               false,
               false,
               false,
               false,
               true,
               true,
               false,
               false,
               false,
               false,
               false,
               false,
               false,
               false,
               false,
               false,
               false,
               false,
               false,
               false,
               false,
               false,
               false,
               false
              ]
             }
            ],
            "label": "OTU15",
            "method": "update"
           },
           {
            "args": [
             {
              "visible": [
               false,
               false,
               false,
               false,
               false,
               false,
               false,
               false,
               false,
               false,
               false,
               false,
               false,
               false,
               false,
               false,
               false,
               false,
               false,
               false,
               false,
               false,
               false,
               false,
               false,
               false,
               false,
               false,
               false,
               false,
               true,
               true,
               false,
               false,
               false,
               false,
               false,
               false,
               false,
               false,
               false,
               false,
               false,
               false,
               false,
               false,
               false,
               false
              ]
             }
            ],
            "label": "OTU16",
            "method": "update"
           },
           {
            "args": [
             {
              "visible": [
               false,
               false,
               false,
               false,
               false,
               false,
               false,
               false,
               false,
               false,
               false,
               false,
               false,
               false,
               false,
               false,
               false,
               false,
               false,
               false,
               false,
               false,
               false,
               false,
               false,
               false,
               false,
               false,
               false,
               false,
               false,
               false,
               true,
               true,
               false,
               false,
               false,
               false,
               false,
               false,
               false,
               false,
               false,
               false,
               false,
               false,
               false,
               false
              ]
             }
            ],
            "label": "OTU17",
            "method": "update"
           },
           {
            "args": [
             {
              "visible": [
               false,
               false,
               false,
               false,
               false,
               false,
               false,
               false,
               false,
               false,
               false,
               false,
               false,
               false,
               false,
               false,
               false,
               false,
               false,
               false,
               false,
               false,
               false,
               false,
               false,
               false,
               false,
               false,
               false,
               false,
               false,
               false,
               false,
               false,
               true,
               true,
               false,
               false,
               false,
               false,
               false,
               false,
               false,
               false,
               false,
               false,
               false,
               false
              ]
             }
            ],
            "label": "OTU18",
            "method": "update"
           },
           {
            "args": [
             {
              "visible": [
               false,
               false,
               false,
               false,
               false,
               false,
               false,
               false,
               false,
               false,
               false,
               false,
               false,
               false,
               false,
               false,
               false,
               false,
               false,
               false,
               false,
               false,
               false,
               false,
               false,
               false,
               false,
               false,
               false,
               false,
               false,
               false,
               false,
               false,
               false,
               false,
               true,
               true,
               false,
               false,
               false,
               false,
               false,
               false,
               false,
               false,
               false,
               false
              ]
             }
            ],
            "label": "OTU19",
            "method": "update"
           },
           {
            "args": [
             {
              "visible": [
               false,
               false,
               false,
               false,
               false,
               false,
               false,
               false,
               false,
               false,
               false,
               false,
               false,
               false,
               false,
               false,
               false,
               false,
               false,
               false,
               false,
               false,
               false,
               false,
               false,
               false,
               false,
               false,
               false,
               false,
               false,
               false,
               false,
               false,
               false,
               false,
               false,
               false,
               true,
               true,
               false,
               false,
               false,
               false,
               false,
               false,
               false,
               false
              ]
             }
            ],
            "label": "OTU20",
            "method": "update"
           },
           {
            "args": [
             {
              "visible": [
               false,
               false,
               false,
               false,
               false,
               false,
               false,
               false,
               false,
               false,
               false,
               false,
               false,
               false,
               false,
               false,
               false,
               false,
               false,
               false,
               false,
               false,
               false,
               false,
               false,
               false,
               false,
               false,
               false,
               false,
               false,
               false,
               false,
               false,
               false,
               false,
               false,
               false,
               false,
               false,
               true,
               true,
               false,
               false,
               false,
               false,
               false,
               false
              ]
             }
            ],
            "label": "OTU21",
            "method": "update"
           },
           {
            "args": [
             {
              "visible": [
               false,
               false,
               false,
               false,
               false,
               false,
               false,
               false,
               false,
               false,
               false,
               false,
               false,
               false,
               false,
               false,
               false,
               false,
               false,
               false,
               false,
               false,
               false,
               false,
               false,
               false,
               false,
               false,
               false,
               false,
               false,
               false,
               false,
               false,
               false,
               false,
               false,
               false,
               false,
               false,
               false,
               false,
               true,
               true,
               false,
               false,
               false,
               false
              ]
             }
            ],
            "label": "OTU22",
            "method": "update"
           },
           {
            "args": [
             {
              "visible": [
               false,
               false,
               false,
               false,
               false,
               false,
               false,
               false,
               false,
               false,
               false,
               false,
               false,
               false,
               false,
               false,
               false,
               false,
               false,
               false,
               false,
               false,
               false,
               false,
               false,
               false,
               false,
               false,
               false,
               false,
               false,
               false,
               false,
               false,
               false,
               false,
               false,
               false,
               false,
               false,
               false,
               false,
               false,
               false,
               true,
               true,
               false,
               false
              ]
             }
            ],
            "label": "OTU23",
            "method": "update"
           },
           {
            "args": [
             {
              "visible": [
               false,
               false,
               false,
               false,
               false,
               false,
               false,
               false,
               false,
               false,
               false,
               false,
               false,
               false,
               false,
               false,
               false,
               false,
               false,
               false,
               false,
               false,
               false,
               false,
               false,
               false,
               false,
               false,
               false,
               false,
               false,
               false,
               false,
               false,
               false,
               false,
               false,
               false,
               false,
               false,
               false,
               false,
               false,
               false,
               false,
               false,
               true,
               true
              ]
             }
            ],
            "label": "OTU24",
            "method": "update"
           }
          ],
          "direction": "down",
          "showactive": true,
          "xanchor": "left",
          "y": 1.15,
          "yanchor": "top"
         }
        ],
        "xaxis": {
         "title": {
          "text": "Batch"
         }
        }
       }
      }
     },
     "metadata": {},
     "output_type": "display_data"
    }
   ],
   "source": [
    "plotOTUBox(data)"
   ]
  },
  {
   "cell_type": "markdown",
   "metadata": {},
   "source": [
    "### RLE plot"
   ]
  },
  {
   "cell_type": "code",
   "execution_count": 6,
   "metadata": {},
   "outputs": [
    {
     "data": {
      "application/vnd.plotly.v1+json": {
       "config": {
        "plotlyServerURL": "https://plot.ly"
       },
       "data": [
        {
         "marker": {
          "color": "blue"
         },
         "name": "Batch 1",
         "type": "box",
         "visible": true,
         "x": [
          "AaF4",
          "AaF6",
          "AaF8",
          "AaF10",
          "AaF12",
          "AaF14",
          "AaF16",
          "AaF18",
          "AaF4",
          "AaF6",
          "AaF8",
          "AaF10",
          "AaF12",
          "AaF14",
          "AaF16",
          "AaF18",
          "AaF4",
          "AaF6",
          "AaF8",
          "AaF10",
          "AaF12",
          "AaF14",
          "AaF16",
          "AaF18",
          "AaF4",
          "AaF6",
          "AaF8",
          "AaF10",
          "AaF12",
          "AaF14",
          "AaF16",
          "AaF18",
          "AaF4",
          "AaF6",
          "AaF8",
          "AaF10",
          "AaF12",
          "AaF14",
          "AaF16",
          "AaF18",
          "AaF4",
          "AaF6",
          "AaF8",
          "AaF10",
          "AaF12",
          "AaF14",
          "AaF16",
          "AaF18",
          "AaF4",
          "AaF6",
          "AaF8",
          "AaF10",
          "AaF12",
          "AaF14",
          "AaF16",
          "AaF18",
          "AaF4",
          "AaF6",
          "AaF8",
          "AaF10",
          "AaF12",
          "AaF14",
          "AaF16",
          "AaF18",
          "AaF4",
          "AaF6",
          "AaF8",
          "AaF10",
          "AaF12",
          "AaF14",
          "AaF16",
          "AaF18",
          "AaF4",
          "AaF6",
          "AaF8",
          "AaF10",
          "AaF12",
          "AaF14",
          "AaF16",
          "AaF18",
          "AaF4",
          "AaF6",
          "AaF8",
          "AaF10",
          "AaF12",
          "AaF14",
          "AaF16",
          "AaF18",
          "AaF4",
          "AaF6",
          "AaF8",
          "AaF10",
          "AaF12",
          "AaF14",
          "AaF16",
          "AaF18",
          "AaF4",
          "AaF6",
          "AaF8",
          "AaF10",
          "AaF12",
          "AaF14",
          "AaF16",
          "AaF18",
          "AaF4",
          "AaF6",
          "AaF8",
          "AaF10",
          "AaF12",
          "AaF14",
          "AaF16",
          "AaF18",
          "AaF4",
          "AaF6",
          "AaF8",
          "AaF10",
          "AaF12",
          "AaF14",
          "AaF16",
          "AaF18",
          "AaF4",
          "AaF6",
          "AaF8",
          "AaF10",
          "AaF12",
          "AaF14",
          "AaF16",
          "AaF18",
          "AaF4",
          "AaF6",
          "AaF8",
          "AaF10",
          "AaF12",
          "AaF14",
          "AaF16",
          "AaF18",
          "AaF4",
          "AaF6",
          "AaF8",
          "AaF10",
          "AaF12",
          "AaF14",
          "AaF16",
          "AaF18",
          "AaF4",
          "AaF6",
          "AaF8",
          "AaF10",
          "AaF12",
          "AaF14",
          "AaF16",
          "AaF18",
          "AaF4",
          "AaF6",
          "AaF8",
          "AaF10",
          "AaF12",
          "AaF14",
          "AaF16",
          "AaF18",
          "AaF4",
          "AaF6",
          "AaF8",
          "AaF10",
          "AaF12",
          "AaF14",
          "AaF16",
          "AaF18",
          "AaF4",
          "AaF6",
          "AaF8",
          "AaF10",
          "AaF12",
          "AaF14",
          "AaF16",
          "AaF18",
          "AaF4",
          "AaF6",
          "AaF8",
          "AaF10",
          "AaF12",
          "AaF14",
          "AaF16",
          "AaF18",
          "AaF4",
          "AaF6",
          "AaF8",
          "AaF10",
          "AaF12",
          "AaF14",
          "AaF16",
          "AaF18"
         ],
         "y": [
          3.501156007824947,
          1.421868640769289,
          -0.8330992544110103,
          -1.4663458869866766,
          -0.7850010474696205,
          -0.12775513273298067,
          1.4498181911587968,
          0.07155738068658479,
          -14.078381783638857,
          1.5079890302564145,
          -2.1122197547892103,
          -3.2844628285737745,
          -0.5977845431569531,
          -1.4068756331111807,
          -16.129719600305005,
          0.9226506739293043,
          3.109720858916819,
          1.030433491861161,
          -1.2245344033191383,
          -1.8577810358948046,
          -1.1764361963777485,
          -0.5191902816411087,
          1.0583830422506688,
          -0.31987776822154323,
          1.9376707937308328,
          -0.1416165733248249,
          16.082365193005177,
          14.793012660297773,
          16.03137249828504,
          -1.6912403468270947,
          -0.11366702293531716,
          -1.4919278334075292,
          3.9507140426258154,
          1.7097853243410537,
          -1.015186198769193,
          -1.551529026029316,
          -0.9292177179027874,
          -0.20975861886834934,
          1.8690708765217412,
          -0.49001918375706843,
          3.501156007824947,
          1.421868640769289,
          -0.8330992544110103,
          -1.4663458869866766,
          -0.7850010474696205,
          -0.12775513273298067,
          1.4498181911587968,
          0.07155738068658479,
          4.121960181253726,
          1.503676319417762,
          -0.20399627823640643,
          -0.78100319294116,
          -0.02443493275263897,
          0.33053011266861176,
          2.0016294936958623,
          -17.91064075496429,
          2.434565228875467,
          0.35527786181980936,
          -1.89969003336049,
          -2.5329366659361563,
          -1.8515918264191003,
          17.28460374982784,
          0.3832274122093171,
          18.616534913506264,
          3.613425812769094,
          1.9783895758169638,
          -0.7293401390623409,
          -1.2649483028691595,
          -0.5381410896198773,
          -0.11334111692137405,
          1.7186570555662861,
          0.5779285323282899,
          -13.362594771201621,
          -15.44188213825728,
          0.39532665743163875,
          -0.30989347373263243,
          0.30989347373263243,
          1.1006707791096684,
          1.9569260601573433,
          1.0123012247070822,
          0.9813059758445197,
          -1.097981391211138,
          14.394386923905005,
          13.836647842411459,
          -3.3048510794500476,
          -2.647605164713408,
          -1.0700318408216303,
          -2.4482926512938423,
          -12.715235152301858,
          -14.794522519357518,
          0.8603647223152251,
          0.3954534019766136,
          -17.001392207596425,
          -16.344146292859786,
          -14.76657296896801,
          -16.14483377944022,
          3.501156007824947,
          1.421868640769289,
          -0.8330992544110103,
          -1.4663458869866766,
          -0.7850010474696205,
          -0.12775513273298067,
          1.4498181911587968,
          0.07155738068658479,
          -12.157574011441593,
          -14.236861378497249,
          1.4825643832713968,
          0.8175690528851813,
          1.689267618097757,
          2.398473271090003,
          2.7846526018711444,
          2.2356711227986086,
          3.1812782396034036,
          18.249705976401508,
          -1.1529770226325535,
          -1.7862236552082198,
          -1.1048788156911638,
          -0.4476329009545239,
          1.1299404229372536,
          14.953484781549175,
          -12.959266202073245,
          2.242692922885098,
          0.37213671664172665,
          -0.19923451349244736,
          0.7444745858767146,
          1.3544676165072254,
          1.4439639402687003,
          0.19923451349244736,
          4.733128873629898,
          1.1133965180080416,
          0.000525978045521569,
          -1.2639924126485989,
          -0.3050158462302335,
          1.146181931583918,
          2.458647509220965,
          -0.0005259780455197927,
          0.9813059758445197,
          -1.097981391211138,
          -3.3529492863914374,
          -3.9861959189671037,
          -3.3048510794500476,
          -2.647605164713408,
          -1.0700318408216303,
          -2.4482926512938423,
          0.9813059758445197,
          -1.097981391211138,
          -3.3529492863914374,
          -3.9861959189671037,
          13.075608912898836,
          -2.647605164713408,
          -1.0700318408216303,
          13.15897754256514,
          2.434565228875467,
          0.35527786181980936,
          -1.89969003336049,
          -2.5329366659361563,
          -1.8515918264191003,
          -1.1943459116824604,
          0.3832274122093171,
          -0.9950333982628949,
          11.838834949626717,
          9.191563570455315,
          -9.712128285569003,
          6.035085074204215,
          6.549375843044118,
          8.0276022589415,
          8.68888491095912,
          -8.807471650471408,
          3.109720858916819,
          1.030433491861161,
          -1.2245344033191383,
          -1.8577810358948046,
          -1.1764361963777485,
          -0.5191902816411087,
          1.0583830422506688,
          -0.31987776822154323,
          4.523520753196028,
          2.6173261352452037,
          -1.71048257157452,
          -2.152673976540795,
          -1.428769524416536,
          -0.07837644995328397,
          2.1497844301158757,
          0.07837644995328219,
          3.501156007824947,
          1.421868640769289,
          -0.8330992544110103,
          -1.4663458869866766,
          -0.7850010474696205,
          -0.12775513273298067,
          1.4498181911587968,
          0.07155738068658479
         ]
        },
        {
         "marker": {
          "color": "red"
         },
         "name": "Batch 2",
         "type": "box",
         "visible": true,
         "x": [
          "AaF20",
          "AaF22",
          "AaF24",
          "AaF26",
          "AaF28",
          "AaF30",
          "AaF32",
          "AaF34",
          "AaF20",
          "AaF22",
          "AaF24",
          "AaF26",
          "AaF28",
          "AaF30",
          "AaF32",
          "AaF34",
          "AaF20",
          "AaF22",
          "AaF24",
          "AaF26",
          "AaF28",
          "AaF30",
          "AaF32",
          "AaF34",
          "AaF20",
          "AaF22",
          "AaF24",
          "AaF26",
          "AaF28",
          "AaF30",
          "AaF32",
          "AaF34",
          "AaF20",
          "AaF22",
          "AaF24",
          "AaF26",
          "AaF28",
          "AaF30",
          "AaF32",
          "AaF34",
          "AaF20",
          "AaF22",
          "AaF24",
          "AaF26",
          "AaF28",
          "AaF30",
          "AaF32",
          "AaF34",
          "AaF20",
          "AaF22",
          "AaF24",
          "AaF26",
          "AaF28",
          "AaF30",
          "AaF32",
          "AaF34",
          "AaF20",
          "AaF22",
          "AaF24",
          "AaF26",
          "AaF28",
          "AaF30",
          "AaF32",
          "AaF34",
          "AaF20",
          "AaF22",
          "AaF24",
          "AaF26",
          "AaF28",
          "AaF30",
          "AaF32",
          "AaF34",
          "AaF20",
          "AaF22",
          "AaF24",
          "AaF26",
          "AaF28",
          "AaF30",
          "AaF32",
          "AaF34",
          "AaF20",
          "AaF22",
          "AaF24",
          "AaF26",
          "AaF28",
          "AaF30",
          "AaF32",
          "AaF34",
          "AaF20",
          "AaF22",
          "AaF24",
          "AaF26",
          "AaF28",
          "AaF30",
          "AaF32",
          "AaF34",
          "AaF20",
          "AaF22",
          "AaF24",
          "AaF26",
          "AaF28",
          "AaF30",
          "AaF32",
          "AaF34",
          "AaF20",
          "AaF22",
          "AaF24",
          "AaF26",
          "AaF28",
          "AaF30",
          "AaF32",
          "AaF34",
          "AaF20",
          "AaF22",
          "AaF24",
          "AaF26",
          "AaF28",
          "AaF30",
          "AaF32",
          "AaF34",
          "AaF20",
          "AaF22",
          "AaF24",
          "AaF26",
          "AaF28",
          "AaF30",
          "AaF32",
          "AaF34",
          "AaF20",
          "AaF22",
          "AaF24",
          "AaF26",
          "AaF28",
          "AaF30",
          "AaF32",
          "AaF34",
          "AaF20",
          "AaF22",
          "AaF24",
          "AaF26",
          "AaF28",
          "AaF30",
          "AaF32",
          "AaF34",
          "AaF20",
          "AaF22",
          "AaF24",
          "AaF26",
          "AaF28",
          "AaF30",
          "AaF32",
          "AaF34",
          "AaF20",
          "AaF22",
          "AaF24",
          "AaF26",
          "AaF28",
          "AaF30",
          "AaF32",
          "AaF34",
          "AaF20",
          "AaF22",
          "AaF24",
          "AaF26",
          "AaF28",
          "AaF30",
          "AaF32",
          "AaF34",
          "AaF20",
          "AaF22",
          "AaF24",
          "AaF26",
          "AaF28",
          "AaF30",
          "AaF32",
          "AaF34",
          "AaF20",
          "AaF22",
          "AaF24",
          "AaF26",
          "AaF28",
          "AaF30",
          "AaF32",
          "AaF34",
          "AaF20",
          "AaF22",
          "AaF24",
          "AaF26",
          "AaF28",
          "AaF30",
          "AaF32",
          "AaF34"
         ],
         "y": [
          21.322893618464082,
          2.1957561070070755,
          1.6771522370294312,
          -0.7272232623402601,
          -1.3722449552903733,
          0.7113129171296704,
          -1.2927933645741199,
          -0.07155738068658479,
          3.4743658904723684,
          2.281876496494201,
          3.3112877095725413,
          -1.3131966238251778,
          -0.15266556023225242,
          1.2377451384771625,
          0.15266556023225242,
          0.20746667119229478,
          2.4525088080456507,
          1.8043209580989474,
          1.2857170881213031,
          -1.1186584112483882,
          -1.7636801041985013,
          0.31987776822154235,
          15.021653857933744,
          -0.4629925295947128,
          1.2804587428596648,
          0.6322708929129615,
          0.11366702293531716,
          -2.290708476434374,
          -2.9357301693844873,
          -0.8521722969644436,
          14.672804070390587,
          -1.6350425947806988,
          3.4162478165376537,
          2.8920576080550813,
          2.1952055069555527,
          -0.46597482579138827,
          -1.256178528234086,
          1.1775225854921718,
          -0.914763394954198,
          0.20975861886834934,
          2.8439439569537788,
          2.1957561070070755,
          1.6771522370294312,
          -0.7272232623402601,
          -1.3722449552903733,
          0.7113129171296704,
          -1.2927933645741199,
          -0.07155738068658479,
          3.083975638726553,
          2.1234131082092436,
          -16.305045898621444,
          -0.3941011585854852,
          -0.5831054683334589,
          1.217454183250771,
          -1.7459088511661722,
          0.024434932752637195,
          1.777353178004299,
          1.1291653280575957,
          0.6105614580799514,
          -1.7938140412897399,
          -2.438835734239853,
          -0.35527786181980936,
          -2.3593841435235996,
          -1.1381481596360645,
          2.616345939705761,
          1.275010921103874,
          1.9532113493582752,
          -1.0036114431624732,
          -2.0053080746941774,
          0.11334111692137405,
          -2.3402902528989626,
          -1.0664105369120076,
          2.7914360594454735,
          3.7426357461803814,
          -15.186598541997139,
          0.5012026495023889,
          -18.235995734316944,
          -16.1524378618969,
          -18.15654414360069,
          -16.935308159713152,
          0.32409392497335165,
          -0.32409392497335165,
          -0.842697794950996,
          -3.2470732943206873,
          13.534333510364725,
          14.840186845993262,
          12.082308828089555,
          14.35959740470467,
          -13.372447203173028,
          2.839397990187013,
          1.4734963233142242,
          1.5447249793049078,
          0.19716637496714107,
          2.3357840235594285,
          -0.19716637496714196,
          1.9342812766102568,
          2.8439439569537788,
          2.1957561070070755,
          1.6771522370294312,
          -0.7272232623402601,
          -1.3722449552903733,
          0.7113129171296704,
          -1.2927933645741199,
          -0.07155738068658479,
          -12.81478606231276,
          -13.462973912259464,
          2.031157464174491,
          1.1431293674520226,
          -0.8175690528851813,
          -14.947417102136868,
          -16.95152338384066,
          -15.730287399953124,
          2.5240661887322355,
          1.8758783387855322,
          1.357274468807888,
          -1.0471010305618034,
          -1.6921227235119165,
          0.39143514890812714,
          -1.612671132795663,
          -0.39143514890812803,
          -13.616478252944411,
          -14.264666102891116,
          0.9781508770079466,
          -0.23664065486676833,
          -1.9377149405444625,
          -15.74910929276852,
          -1.635119823513996,
          0.6508268318487271,
          -13.988088991540618,
          -14.63627684148732,
          0.7400715131791387,
          -0.6082513934629734,
          -2.0861821528264555,
          0.4028407943684229,
          -18.124826313068517,
          0.40842782055280225,
          0.32409392497335165,
          -0.32409392497335165,
          15.537762197397889,
          13.40165066652333,
          13.773563193680127,
          16.101318022002285,
          13.85301478439638,
          15.849075968385455,
          0.32409392497335165,
          -0.32409392497335165,
          -0.842697794950996,
          -3.2470732943206873,
          13.89370750311352,
          15.440960679856728,
          13.138361420817136,
          14.807622111531149,
          1.777353178004299,
          1.1291653280575957,
          0.6105614580799514,
          -1.7938140412897399,
          14.46771732253728,
          -0.35527786181980936,
          14.095183815484493,
          -1.1381481596360645,
          -6.035085074204215,
          10.223280132626217,
          -7.201876794128562,
          7.099630077917739,
          -10.251273986448366,
          -8.167716114028323,
          -10.171822395732113,
          -8.950586411844577,
          2.4525088080456507,
          18.710874014876083,
          1.2857170881213031,
          16.80772602728264,
          -1.7636801041985013,
          0.31987776822154235,
          -1.684228513482248,
          -0.4629925295947128,
          2.0178539315462416,
          -15.441576799918725,
          0.851062211621894,
          -18.36455616926606,
          -1.792869889256413,
          0.5004085078393956,
          -1.2859742953074225,
          0.4106853770695711,
          2.8439439569537788,
          2.1957561070070755,
          1.6771522370294312,
          -0.7272232623402601,
          -1.3722449552903733,
          0.7113129171296704,
          -1.2927933645741199,
          -0.07155738068658479
         ]
        },
        {
         "marker": {
          "color": "blue"
         },
         "name": "Batch 1",
         "type": "box",
         "visible": false,
         "x": [
          "AaF5",
          "AaF7",
          "AaF9",
          "AaF11",
          "AaF13",
          "AaF15",
          "AaF17",
          "AaF19",
          "AaF5",
          "AaF7",
          "AaF9",
          "AaF11",
          "AaF13",
          "AaF15",
          "AaF17",
          "AaF19",
          "AaF5",
          "AaF7",
          "AaF9",
          "AaF11",
          "AaF13",
          "AaF15",
          "AaF17",
          "AaF19",
          "AaF5",
          "AaF7",
          "AaF9",
          "AaF11",
          "AaF13",
          "AaF15",
          "AaF17",
          "AaF19",
          "AaF5",
          "AaF7",
          "AaF9",
          "AaF11",
          "AaF13",
          "AaF15",
          "AaF17",
          "AaF19",
          "AaF5",
          "AaF7",
          "AaF9",
          "AaF11",
          "AaF13",
          "AaF15",
          "AaF17",
          "AaF19",
          "AaF5",
          "AaF7",
          "AaF9",
          "AaF11",
          "AaF13",
          "AaF15",
          "AaF17",
          "AaF19",
          "AaF5",
          "AaF7",
          "AaF9",
          "AaF11",
          "AaF13",
          "AaF15",
          "AaF17",
          "AaF19",
          "AaF5",
          "AaF7",
          "AaF9",
          "AaF11",
          "AaF13",
          "AaF15",
          "AaF17",
          "AaF19",
          "AaF5",
          "AaF7",
          "AaF9",
          "AaF11",
          "AaF13",
          "AaF15",
          "AaF17",
          "AaF19",
          "AaF5",
          "AaF7",
          "AaF9",
          "AaF11",
          "AaF13",
          "AaF15",
          "AaF17",
          "AaF19",
          "AaF5",
          "AaF7",
          "AaF9",
          "AaF11",
          "AaF13",
          "AaF15",
          "AaF17",
          "AaF19",
          "AaF5",
          "AaF7",
          "AaF9",
          "AaF11",
          "AaF13",
          "AaF15",
          "AaF17",
          "AaF19",
          "AaF5",
          "AaF7",
          "AaF9",
          "AaF11",
          "AaF13",
          "AaF15",
          "AaF17",
          "AaF19",
          "AaF5",
          "AaF7",
          "AaF9",
          "AaF11",
          "AaF13",
          "AaF15",
          "AaF17",
          "AaF19",
          "AaF5",
          "AaF7",
          "AaF9",
          "AaF11",
          "AaF13",
          "AaF15",
          "AaF17",
          "AaF19",
          "AaF5",
          "AaF7",
          "AaF9",
          "AaF11",
          "AaF13",
          "AaF15",
          "AaF17",
          "AaF19",
          "AaF5",
          "AaF7",
          "AaF9",
          "AaF11",
          "AaF13",
          "AaF15",
          "AaF17",
          "AaF19",
          "AaF5",
          "AaF7",
          "AaF9",
          "AaF11",
          "AaF13",
          "AaF15",
          "AaF17",
          "AaF19",
          "AaF5",
          "AaF7",
          "AaF9",
          "AaF11",
          "AaF13",
          "AaF15",
          "AaF17",
          "AaF19",
          "AaF5",
          "AaF7",
          "AaF9",
          "AaF11",
          "AaF13",
          "AaF15",
          "AaF17",
          "AaF19",
          "AaF5",
          "AaF7",
          "AaF9",
          "AaF11",
          "AaF13",
          "AaF15",
          "AaF17",
          "AaF19",
          "AaF5",
          "AaF7",
          "AaF9",
          "AaF11",
          "AaF13",
          "AaF15",
          "AaF17",
          "AaF19",
          "AaF5",
          "AaF7",
          "AaF9",
          "AaF11",
          "AaF13",
          "AaF15",
          "AaF17",
          "AaF19"
         ],
         "y": [
          1.107590176017653,
          0.3504458157149646,
          0.3070192623691739,
          -0.3129015538294784,
          -0.31277698606109716,
          1.2125632298761362,
          1.1251221250584544,
          1.1099268390901846,
          1.107590176017653,
          0.3504458157149646,
          0.3070192623691739,
          -0.3129015538294784,
          -0.31277698606109716,
          1.2125632298761362,
          1.1251221250584544,
          1.1099268390901846,
          1.107590176017653,
          0.3504458157149646,
          0.3070192623691739,
          -0.3129015538294784,
          -0.31277698606109716,
          1.2125632298761362,
          1.1251221250584544,
          1.1099268390901846,
          17.8309279604999,
          17.31111178273074,
          17.348810773099824,
          16.88489420350185,
          16.55959637510911,
          0.09503874780181665,
          0.0075976429841349,
          -0.0075976429841349,
          1.107590176017653,
          0.3504458157149646,
          0.3070192623691739,
          -0.3129015538294784,
          -0.31277698606109716,
          1.2125632298761362,
          1.1251221250584544,
          1.1099268390901846,
          1.3332652244848315,
          0.34727929272732005,
          0.26501290625385643,
          -0.26501290625385643,
          -0.3951928803101481,
          1.300368484680142,
          1.2301691862226445,
          1.032652344315121,
          1.2183972061016792,
          0.3428046960546709,
          0.1301442217744686,
          -0.4756918546416369,
          -0.13014422177447038,
          1.8890466702092752,
          1.5446646353791955,
          1.544973535886795,
          1.107590176017653,
          0.3504458157149646,
          0.3070192623691739,
          -0.3129015538294784,
          -0.31277698606109716,
          1.2125632298761362,
          1.1251221250584544,
          1.1099268390901846,
          1.645095555669478,
          0.8817206456549727,
          0.7398540201424808,
          0.14714576728357187,
          -0.14714576728357187,
          1.971969151366519,
          1.5579568828317623,
          1.7076914098969809,
          1.1371528698412856,
          0.2961270265636404,
          0.045061111324221415,
          -0.4451818834369998,
          -0.4724562894813573,
          0.8366608213387288,
          0.9928417954509339,
          0.9910695296346237,
          10.100724123220854,
          9.592475805544812,
          9.598646192518272,
          9.071098695027485,
          -8.963795015050396,
          -7.4384547991131615,
          -7.525895903930843,
          -7.541091189899113,
          -16.15564307824518,
          -16.912787438547866,
          1.033683851350867,
          0.5434408565896458,
          -0.23413912833173,
          -16.050670024386697,
          -16.13811112920438,
          -16.153306415172647,
          0.7788576369755846,
          0.021713276672896242,
          -0.021713276672894466,
          -0.6416340928715467,
          -0.6415095251031655,
          0.8838306908340678,
          0.7963895860163861,
          0.7811943000481163,
          -16.744838499023096,
          0.5762075897643122,
          0.48960886517468793,
          -0.03233154403631033,
          0.03233154403630856,
          1.3951528326816511,
          1.1657414688368526,
          0.4742061370091992,
          1.107590176017653,
          0.3504458157149646,
          0.3070192623691739,
          -0.3129015538294784,
          -0.31277698606109716,
          1.2125632298761362,
          1.1251221250584544,
          1.1099268390901846,
          1.5174104579339076,
          0.6505671818805343,
          0.7550607566186116,
          -0.2765947743338746,
          0.2750264489330654,
          -0.013371655279431849,
          0.3266312315414215,
          1.0260893091523968,
          1.8287352534395076,
          1.0715908931368183,
          1.0281643397910276,
          -0.4810185162591569,
          0.6717855386405915,
          1.1089847865006952,
          2.2831955751951867,
          1.4526354870931648,
          -7.420142535260778,
          -8.177286895563466,
          -8.220713448909256,
          -8.840634265107909,
          -8.840509697339527,
          -7.315169481402295,
          -7.402610586219977,
          -7.4178058721882465,
          -14.882928997797258,
          -15.640073358099945,
          -15.683499911445736,
          -16.303420727644387,
          -0.4083439352319056,
          1.8101433987652804,
          1.5150629435924294,
          1.4198249563608787,
          0.7363629090886556,
          -0.020781451214032742,
          -0.06420800455982345,
          -0.6841288207584757,
          -0.6840042529900945,
          0.8413359629471389,
          0.7538948581294571,
          0.7386995721611873,
          1.356990968658729,
          1.347060951706733,
          -15.456315191401348,
          -0.06350076118840331,
          0.7839216034751226,
          2.4002335934772967,
          2.9149678713450973,
          3.2729768238506898,
          0.7363629090886556,
          -0.020781451214032742,
          -0.06420800455982345,
          -0.6841288207584757,
          -0.6840042529900945,
          0.8413359629471389,
          0.7538948581294571,
          0.7386995721611873,
          1.4816451503146926,
          0.13143708931229803,
          0.17898231003144716,
          -1.0114833311900036,
          -0.2804712947648671,
          1.207128594614021,
          1.599260555406211,
          2.4211066161577097,
          -8.190365046380611,
          -8.947509406683299,
          -8.99093596002909,
          -9.610856776227742,
          -9.61073220845936,
          -8.085391992522128,
          -8.17283309733981,
          -8.18802838330808
         ]
        },
        {
         "marker": {
          "color": "red"
         },
         "name": "Batch 2",
         "type": "box",
         "visible": false,
         "x": [
          "AaF21",
          "AaF23",
          "AaF25",
          "AaF27",
          "AaF29",
          "AaF31",
          "AaF33",
          "AaF35",
          "AaF21",
          "AaF23",
          "AaF25",
          "AaF27",
          "AaF29",
          "AaF31",
          "AaF33",
          "AaF35",
          "AaF21",
          "AaF23",
          "AaF25",
          "AaF27",
          "AaF29",
          "AaF31",
          "AaF33",
          "AaF35",
          "AaF21",
          "AaF23",
          "AaF25",
          "AaF27",
          "AaF29",
          "AaF31",
          "AaF33",
          "AaF35",
          "AaF21",
          "AaF23",
          "AaF25",
          "AaF27",
          "AaF29",
          "AaF31",
          "AaF33",
          "AaF35",
          "AaF21",
          "AaF23",
          "AaF25",
          "AaF27",
          "AaF29",
          "AaF31",
          "AaF33",
          "AaF35",
          "AaF21",
          "AaF23",
          "AaF25",
          "AaF27",
          "AaF29",
          "AaF31",
          "AaF33",
          "AaF35",
          "AaF21",
          "AaF23",
          "AaF25",
          "AaF27",
          "AaF29",
          "AaF31",
          "AaF33",
          "AaF35",
          "AaF21",
          "AaF23",
          "AaF25",
          "AaF27",
          "AaF29",
          "AaF31",
          "AaF33",
          "AaF35",
          "AaF21",
          "AaF23",
          "AaF25",
          "AaF27",
          "AaF29",
          "AaF31",
          "AaF33",
          "AaF35",
          "AaF21",
          "AaF23",
          "AaF25",
          "AaF27",
          "AaF29",
          "AaF31",
          "AaF33",
          "AaF35",
          "AaF21",
          "AaF23",
          "AaF25",
          "AaF27",
          "AaF29",
          "AaF31",
          "AaF33",
          "AaF35",
          "AaF21",
          "AaF23",
          "AaF25",
          "AaF27",
          "AaF29",
          "AaF31",
          "AaF33",
          "AaF35",
          "AaF21",
          "AaF23",
          "AaF25",
          "AaF27",
          "AaF29",
          "AaF31",
          "AaF33",
          "AaF35",
          "AaF21",
          "AaF23",
          "AaF25",
          "AaF27",
          "AaF29",
          "AaF31",
          "AaF33",
          "AaF35",
          "AaF21",
          "AaF23",
          "AaF25",
          "AaF27",
          "AaF29",
          "AaF31",
          "AaF33",
          "AaF35",
          "AaF21",
          "AaF23",
          "AaF25",
          "AaF27",
          "AaF29",
          "AaF31",
          "AaF33",
          "AaF35",
          "AaF21",
          "AaF23",
          "AaF25",
          "AaF27",
          "AaF29",
          "AaF31",
          "AaF33",
          "AaF35",
          "AaF21",
          "AaF23",
          "AaF25",
          "AaF27",
          "AaF29",
          "AaF31",
          "AaF33",
          "AaF35",
          "AaF21",
          "AaF23",
          "AaF25",
          "AaF27",
          "AaF29",
          "AaF31",
          "AaF33",
          "AaF35",
          "AaF21",
          "AaF23",
          "AaF25",
          "AaF27",
          "AaF29",
          "AaF31",
          "AaF33",
          "AaF35",
          "AaF21",
          "AaF23",
          "AaF25",
          "AaF27",
          "AaF29",
          "AaF31",
          "AaF33",
          "AaF35",
          "AaF21",
          "AaF23",
          "AaF25",
          "AaF27",
          "AaF29",
          "AaF31",
          "AaF33",
          "AaF35",
          "AaF21",
          "AaF23",
          "AaF25",
          "AaF27",
          "AaF29",
          "AaF31",
          "AaF33",
          "AaF35"
         ],
         "y": [
          -0.30701926236917565,
          0.39200871814303184,
          -0.39620742611439574,
          -1.0331978283478165,
          -1.7102780073764396,
          -1.058242275751299,
          -0.3209577195701119,
          1.1336963112808283,
          -0.30701926236917565,
          0.39200871814303184,
          -0.39620742611439574,
          -1.0331978283478165,
          -1.7102780073764396,
          -1.058242275751299,
          -0.3209577195701119,
          1.1336963112808283,
          -0.30701926236917565,
          0.39200871814303184,
          -0.39620742611439574,
          -1.0331978283478165,
          -1.7102780073764396,
          -1.058242275751299,
          -0.3209577195701119,
          1.1336963112808283,
          -1.4245437444434952,
          -0.7255157639312877,
          -1.5137319081887153,
          -2.150722310422136,
          -2.827802489450759,
          -2.1757667578256186,
          -1.4384822016444314,
          0.016171829206508725,
          -0.30701926236917565,
          0.39200871814303184,
          -0.39620742611439574,
          -1.0331978283478165,
          -1.7102780073764396,
          -1.058242275751299,
          -0.3209577195701119,
          1.1336963112808283,
          -0.3294171471922418,
          0.41237269245483965,
          -0.7160435566530303,
          -1.4931227510742833,
          -2.5279525619375125,
          -1.042540314523567,
          -0.44548509894758404,
          0.9133209736540451,
          -0.27359889547259364,
          0.6690511664547429,
          -0.7856439070130428,
          -1.1548864537560206,
          -2.2612019566288524,
          -1.7412259455613501,
          -0.980684527486348,
          0.7871848747306469,
          -0.30701926236917565,
          0.39200871814303184,
          -0.39620742611439574,
          -1.0331978283478165,
          -1.7102780073764396,
          -1.058242275751299,
          -0.3209577195701119,
          1.1336963112808283,
          -0.34005873640713347,
          0.45327992258730454,
          -1.0082807653260453,
          -0.8949655835081565,
          -2.3029332611080617,
          -1.1477939594137023,
          -0.26973685087832955,
          -17.225713238227264,
          0.1619100871514565,
          0.7514538356790315,
          -0.045061111324221415,
          -0.7159530649459676,
          -1.624834855783039,
          -1.9392396220156618,
          -2.049252888126442,
          -17.11815968300865,
          -8.958037291358474,
          -8.259009310846267,
          8.100489648750065,
          -9.684215857337115,
          7.4972658069769444,
          7.4384547991131615,
          7.934577308217724,
          -7.5173217177084695,
          0.09540566431891939,
          1.1339407790224136,
          1.0388718077491728,
          0.5162917558744962,
          -0.09540566431891762,
          -0.7217753154043249,
          0.9226674755347837,
          2.6347335124526374,
          16.98642126854557,
          0.0632761791009635,
          -0.7249399651564641,
          -1.3619303673898848,
          -2.039010546418508,
          -1.3869748147933674,
          -0.6496902586121802,
          0.8049637722387599,
          -0.4727363477044264,
          0.11629074001593231,
          -0.7955393571486962,
          -0.6512753255795012,
          -1.9405336124603734,
          -18.910670950792046,
          -18.17338639461086,
          0.4640740586735834,
          -0.30701926236917565,
          0.39200871814303184,
          -0.39620742611439574,
          -1.0331978283478165,
          -1.7102780073764396,
          -1.058242275751299,
          -0.3209577195701119,
          1.1336963112808283,
          -0.8398070002981299,
          0.013371655279430072,
          -0.48004495605218445,
          -1.329596795230085,
          -19.459773718265154,
          -1.5264914946260157,
          0.26684571542405067,
          -0.40239347793615643,
          -17.691844197758616,
          -0.04181139987472626,
          0.04181139987472626,
          -1.3066753027316187,
          -4.180979762800219,
          -1.583034167833997,
          -0.5944351939539132,
          -0.23839337769701352,
          8.892781609744814,
          9.080983979824364,
          9.12567693966146,
          7.809928108398868,
          7.315169481402295,
          8.814503059809198,
          9.936633433636176,
          10.803500805140553,
          0.4083439352319065,
          -15.598510455671878,
          -16.386726599929304,
          -0.7232997110771233,
          0.4714222162830284,
          1.4301882119440936,
          0.6395279239866616,
          3.914514760073706,
          -0.678246529298173,
          0.02078145121403452,
          -0.7674346930433931,
          -1.4044250952768138,
          15.135202698654325,
          15.820028252027187,
          -0.6921849864991092,
          0.7624690443518309,
          -16.0703537161397,
          -15.37132573562749,
          -16.15954187988492,
          0.06350076118840331,
          -0.1923659691329629,
          -16.821576729521823,
          -16.084292173340636,
          3.7708399043492333,
          -0.678246529298173,
          0.02078145121403452,
          -0.7674346930433931,
          15.589139334702072,
          14.952881148527037,
          -1.4294695426802964,
          -0.6921849864991092,
          0.7624690443518309,
          -1.172655110406854,
          0.12420982995188545,
          0.029140841254404748,
          -18.112239598057226,
          -18.78931977708585,
          -0.33278942241364184,
          -0.029140841254406524,
          -15.94534545842858,
          9.18034937971728,
          9.737877799011343,
          9.145228436876838,
          8.157186351025894,
          8.085391992522128,
          8.559179493736469,
          9.27800198719154,
          10.964457630814735
         ]
        }
       ],
       "layout": {
        "shapes": [
         {
          "line": {
           "color": "red",
           "dash": "dash",
           "width": 2
          },
          "type": "line",
          "x0": 0,
          "x1": 1,
          "xref": "paper",
          "y0": 0,
          "y1": 0,
          "yref": "y"
         }
        ],
        "template": {
         "data": {
          "bar": [
           {
            "error_x": {
             "color": "#2a3f5f"
            },
            "error_y": {
             "color": "#2a3f5f"
            },
            "marker": {
             "line": {
              "color": "#E5ECF6",
              "width": 0.5
             },
             "pattern": {
              "fillmode": "overlay",
              "size": 10,
              "solidity": 0.2
             }
            },
            "type": "bar"
           }
          ],
          "barpolar": [
           {
            "marker": {
             "line": {
              "color": "#E5ECF6",
              "width": 0.5
             },
             "pattern": {
              "fillmode": "overlay",
              "size": 10,
              "solidity": 0.2
             }
            },
            "type": "barpolar"
           }
          ],
          "carpet": [
           {
            "aaxis": {
             "endlinecolor": "#2a3f5f",
             "gridcolor": "white",
             "linecolor": "white",
             "minorgridcolor": "white",
             "startlinecolor": "#2a3f5f"
            },
            "baxis": {
             "endlinecolor": "#2a3f5f",
             "gridcolor": "white",
             "linecolor": "white",
             "minorgridcolor": "white",
             "startlinecolor": "#2a3f5f"
            },
            "type": "carpet"
           }
          ],
          "choropleth": [
           {
            "colorbar": {
             "outlinewidth": 0,
             "ticks": ""
            },
            "type": "choropleth"
           }
          ],
          "contour": [
           {
            "colorbar": {
             "outlinewidth": 0,
             "ticks": ""
            },
            "colorscale": [
             [
              0,
              "#0d0887"
             ],
             [
              0.1111111111111111,
              "#46039f"
             ],
             [
              0.2222222222222222,
              "#7201a8"
             ],
             [
              0.3333333333333333,
              "#9c179e"
             ],
             [
              0.4444444444444444,
              "#bd3786"
             ],
             [
              0.5555555555555556,
              "#d8576b"
             ],
             [
              0.6666666666666666,
              "#ed7953"
             ],
             [
              0.7777777777777778,
              "#fb9f3a"
             ],
             [
              0.8888888888888888,
              "#fdca26"
             ],
             [
              1,
              "#f0f921"
             ]
            ],
            "type": "contour"
           }
          ],
          "contourcarpet": [
           {
            "colorbar": {
             "outlinewidth": 0,
             "ticks": ""
            },
            "type": "contourcarpet"
           }
          ],
          "heatmap": [
           {
            "colorbar": {
             "outlinewidth": 0,
             "ticks": ""
            },
            "colorscale": [
             [
              0,
              "#0d0887"
             ],
             [
              0.1111111111111111,
              "#46039f"
             ],
             [
              0.2222222222222222,
              "#7201a8"
             ],
             [
              0.3333333333333333,
              "#9c179e"
             ],
             [
              0.4444444444444444,
              "#bd3786"
             ],
             [
              0.5555555555555556,
              "#d8576b"
             ],
             [
              0.6666666666666666,
              "#ed7953"
             ],
             [
              0.7777777777777778,
              "#fb9f3a"
             ],
             [
              0.8888888888888888,
              "#fdca26"
             ],
             [
              1,
              "#f0f921"
             ]
            ],
            "type": "heatmap"
           }
          ],
          "heatmapgl": [
           {
            "colorbar": {
             "outlinewidth": 0,
             "ticks": ""
            },
            "colorscale": [
             [
              0,
              "#0d0887"
             ],
             [
              0.1111111111111111,
              "#46039f"
             ],
             [
              0.2222222222222222,
              "#7201a8"
             ],
             [
              0.3333333333333333,
              "#9c179e"
             ],
             [
              0.4444444444444444,
              "#bd3786"
             ],
             [
              0.5555555555555556,
              "#d8576b"
             ],
             [
              0.6666666666666666,
              "#ed7953"
             ],
             [
              0.7777777777777778,
              "#fb9f3a"
             ],
             [
              0.8888888888888888,
              "#fdca26"
             ],
             [
              1,
              "#f0f921"
             ]
            ],
            "type": "heatmapgl"
           }
          ],
          "histogram": [
           {
            "marker": {
             "pattern": {
              "fillmode": "overlay",
              "size": 10,
              "solidity": 0.2
             }
            },
            "type": "histogram"
           }
          ],
          "histogram2d": [
           {
            "colorbar": {
             "outlinewidth": 0,
             "ticks": ""
            },
            "colorscale": [
             [
              0,
              "#0d0887"
             ],
             [
              0.1111111111111111,
              "#46039f"
             ],
             [
              0.2222222222222222,
              "#7201a8"
             ],
             [
              0.3333333333333333,
              "#9c179e"
             ],
             [
              0.4444444444444444,
              "#bd3786"
             ],
             [
              0.5555555555555556,
              "#d8576b"
             ],
             [
              0.6666666666666666,
              "#ed7953"
             ],
             [
              0.7777777777777778,
              "#fb9f3a"
             ],
             [
              0.8888888888888888,
              "#fdca26"
             ],
             [
              1,
              "#f0f921"
             ]
            ],
            "type": "histogram2d"
           }
          ],
          "histogram2dcontour": [
           {
            "colorbar": {
             "outlinewidth": 0,
             "ticks": ""
            },
            "colorscale": [
             [
              0,
              "#0d0887"
             ],
             [
              0.1111111111111111,
              "#46039f"
             ],
             [
              0.2222222222222222,
              "#7201a8"
             ],
             [
              0.3333333333333333,
              "#9c179e"
             ],
             [
              0.4444444444444444,
              "#bd3786"
             ],
             [
              0.5555555555555556,
              "#d8576b"
             ],
             [
              0.6666666666666666,
              "#ed7953"
             ],
             [
              0.7777777777777778,
              "#fb9f3a"
             ],
             [
              0.8888888888888888,
              "#fdca26"
             ],
             [
              1,
              "#f0f921"
             ]
            ],
            "type": "histogram2dcontour"
           }
          ],
          "mesh3d": [
           {
            "colorbar": {
             "outlinewidth": 0,
             "ticks": ""
            },
            "type": "mesh3d"
           }
          ],
          "parcoords": [
           {
            "line": {
             "colorbar": {
              "outlinewidth": 0,
              "ticks": ""
             }
            },
            "type": "parcoords"
           }
          ],
          "pie": [
           {
            "automargin": true,
            "type": "pie"
           }
          ],
          "scatter": [
           {
            "fillpattern": {
             "fillmode": "overlay",
             "size": 10,
             "solidity": 0.2
            },
            "type": "scatter"
           }
          ],
          "scatter3d": [
           {
            "line": {
             "colorbar": {
              "outlinewidth": 0,
              "ticks": ""
             }
            },
            "marker": {
             "colorbar": {
              "outlinewidth": 0,
              "ticks": ""
             }
            },
            "type": "scatter3d"
           }
          ],
          "scattercarpet": [
           {
            "marker": {
             "colorbar": {
              "outlinewidth": 0,
              "ticks": ""
             }
            },
            "type": "scattercarpet"
           }
          ],
          "scattergeo": [
           {
            "marker": {
             "colorbar": {
              "outlinewidth": 0,
              "ticks": ""
             }
            },
            "type": "scattergeo"
           }
          ],
          "scattergl": [
           {
            "marker": {
             "colorbar": {
              "outlinewidth": 0,
              "ticks": ""
             }
            },
            "type": "scattergl"
           }
          ],
          "scattermapbox": [
           {
            "marker": {
             "colorbar": {
              "outlinewidth": 0,
              "ticks": ""
             }
            },
            "type": "scattermapbox"
           }
          ],
          "scatterpolar": [
           {
            "marker": {
             "colorbar": {
              "outlinewidth": 0,
              "ticks": ""
             }
            },
            "type": "scatterpolar"
           }
          ],
          "scatterpolargl": [
           {
            "marker": {
             "colorbar": {
              "outlinewidth": 0,
              "ticks": ""
             }
            },
            "type": "scatterpolargl"
           }
          ],
          "scatterternary": [
           {
            "marker": {
             "colorbar": {
              "outlinewidth": 0,
              "ticks": ""
             }
            },
            "type": "scatterternary"
           }
          ],
          "surface": [
           {
            "colorbar": {
             "outlinewidth": 0,
             "ticks": ""
            },
            "colorscale": [
             [
              0,
              "#0d0887"
             ],
             [
              0.1111111111111111,
              "#46039f"
             ],
             [
              0.2222222222222222,
              "#7201a8"
             ],
             [
              0.3333333333333333,
              "#9c179e"
             ],
             [
              0.4444444444444444,
              "#bd3786"
             ],
             [
              0.5555555555555556,
              "#d8576b"
             ],
             [
              0.6666666666666666,
              "#ed7953"
             ],
             [
              0.7777777777777778,
              "#fb9f3a"
             ],
             [
              0.8888888888888888,
              "#fdca26"
             ],
             [
              1,
              "#f0f921"
             ]
            ],
            "type": "surface"
           }
          ],
          "table": [
           {
            "cells": {
             "fill": {
              "color": "#EBF0F8"
             },
             "line": {
              "color": "white"
             }
            },
            "header": {
             "fill": {
              "color": "#C8D4E3"
             },
             "line": {
              "color": "white"
             }
            },
            "type": "table"
           }
          ]
         },
         "layout": {
          "annotationdefaults": {
           "arrowcolor": "#2a3f5f",
           "arrowhead": 0,
           "arrowwidth": 1
          },
          "autotypenumbers": "strict",
          "coloraxis": {
           "colorbar": {
            "outlinewidth": 0,
            "ticks": ""
           }
          },
          "colorscale": {
           "diverging": [
            [
             0,
             "#8e0152"
            ],
            [
             0.1,
             "#c51b7d"
            ],
            [
             0.2,
             "#de77ae"
            ],
            [
             0.3,
             "#f1b6da"
            ],
            [
             0.4,
             "#fde0ef"
            ],
            [
             0.5,
             "#f7f7f7"
            ],
            [
             0.6,
             "#e6f5d0"
            ],
            [
             0.7,
             "#b8e186"
            ],
            [
             0.8,
             "#7fbc41"
            ],
            [
             0.9,
             "#4d9221"
            ],
            [
             1,
             "#276419"
            ]
           ],
           "sequential": [
            [
             0,
             "#0d0887"
            ],
            [
             0.1111111111111111,
             "#46039f"
            ],
            [
             0.2222222222222222,
             "#7201a8"
            ],
            [
             0.3333333333333333,
             "#9c179e"
            ],
            [
             0.4444444444444444,
             "#bd3786"
            ],
            [
             0.5555555555555556,
             "#d8576b"
            ],
            [
             0.6666666666666666,
             "#ed7953"
            ],
            [
             0.7777777777777778,
             "#fb9f3a"
            ],
            [
             0.8888888888888888,
             "#fdca26"
            ],
            [
             1,
             "#f0f921"
            ]
           ],
           "sequentialminus": [
            [
             0,
             "#0d0887"
            ],
            [
             0.1111111111111111,
             "#46039f"
            ],
            [
             0.2222222222222222,
             "#7201a8"
            ],
            [
             0.3333333333333333,
             "#9c179e"
            ],
            [
             0.4444444444444444,
             "#bd3786"
            ],
            [
             0.5555555555555556,
             "#d8576b"
            ],
            [
             0.6666666666666666,
             "#ed7953"
            ],
            [
             0.7777777777777778,
             "#fb9f3a"
            ],
            [
             0.8888888888888888,
             "#fdca26"
            ],
            [
             1,
             "#f0f921"
            ]
           ]
          },
          "colorway": [
           "#636efa",
           "#EF553B",
           "#00cc96",
           "#ab63fa",
           "#FFA15A",
           "#19d3f3",
           "#FF6692",
           "#B6E880",
           "#FF97FF",
           "#FECB52"
          ],
          "font": {
           "color": "#2a3f5f"
          },
          "geo": {
           "bgcolor": "white",
           "lakecolor": "white",
           "landcolor": "#E5ECF6",
           "showlakes": true,
           "showland": true,
           "subunitcolor": "white"
          },
          "hoverlabel": {
           "align": "left"
          },
          "hovermode": "closest",
          "mapbox": {
           "style": "light"
          },
          "paper_bgcolor": "white",
          "plot_bgcolor": "#E5ECF6",
          "polar": {
           "angularaxis": {
            "gridcolor": "white",
            "linecolor": "white",
            "ticks": ""
           },
           "bgcolor": "#E5ECF6",
           "radialaxis": {
            "gridcolor": "white",
            "linecolor": "white",
            "ticks": ""
           }
          },
          "scene": {
           "xaxis": {
            "backgroundcolor": "#E5ECF6",
            "gridcolor": "white",
            "gridwidth": 2,
            "linecolor": "white",
            "showbackground": true,
            "ticks": "",
            "zerolinecolor": "white"
           },
           "yaxis": {
            "backgroundcolor": "#E5ECF6",
            "gridcolor": "white",
            "gridwidth": 2,
            "linecolor": "white",
            "showbackground": true,
            "ticks": "",
            "zerolinecolor": "white"
           },
           "zaxis": {
            "backgroundcolor": "#E5ECF6",
            "gridcolor": "white",
            "gridwidth": 2,
            "linecolor": "white",
            "showbackground": true,
            "ticks": "",
            "zerolinecolor": "white"
           }
          },
          "shapedefaults": {
           "line": {
            "color": "#2a3f5f"
           }
          },
          "ternary": {
           "aaxis": {
            "gridcolor": "white",
            "linecolor": "white",
            "ticks": ""
           },
           "baxis": {
            "gridcolor": "white",
            "linecolor": "white",
            "ticks": ""
           },
           "bgcolor": "#E5ECF6",
           "caxis": {
            "gridcolor": "white",
            "linecolor": "white",
            "ticks": ""
           }
          },
          "title": {
           "x": 0.05
          },
          "xaxis": {
           "automargin": true,
           "gridcolor": "white",
           "linecolor": "white",
           "ticks": "",
           "title": {
            "standoff": 15
           },
           "zerolinecolor": "white",
           "zerolinewidth": 2
          },
          "yaxis": {
           "automargin": true,
           "gridcolor": "white",
           "linecolor": "white",
           "ticks": "",
           "title": {
            "standoff": 15
           },
           "zerolinecolor": "white",
           "zerolinewidth": 2
          }
         }
        },
        "updatemenus": [
         {
          "buttons": [
           {
            "args": [
             {
              "visible": [
               true,
               true,
               false,
               false
              ]
             }
            ],
            "label": "Ectosome",
            "method": "update"
           },
           {
            "args": [
             {
              "visible": [
               false,
               false,
               true,
               true
              ]
             }
            ],
            "label": "Choanosome",
            "method": "update"
           }
          ],
          "direction": "down",
          "showactive": true,
          "xanchor": "left",
          "y": 1.15,
          "yanchor": "top"
         }
        ]
       }
      }
     },
     "metadata": {},
     "output_type": "display_data"
    }
   ],
   "source": [
    "plotRLE(data)"
   ]
  },
  {
   "cell_type": "markdown",
   "metadata": {},
   "source": [
    "### Heat Map cluster"
   ]
  },
  {
   "cell_type": "code",
   "execution_count": 7,
   "metadata": {},
   "outputs": [
    {
     "data": {
      "application/vnd.jupyter.widget-view+json": {
       "model_id": "e12ba53227ad488a8142fa946adcafc4",
       "version_major": 2,
       "version_minor": 0
      },
      "text/plain": [
       "CGM2(network='{\"row_nodes\": [{\"name\": \"OTU1\", \"ini\": 24, \"clust\": 22, \"rank\": 10, \"rankvar\": 1}, {\"name\": \"OTU…"
      ]
     },
     "execution_count": 7,
     "metadata": {},
     "output_type": "execute_result"
    }
   ],
   "source": [
    "plotClusterHeatMap(data)"
   ]
  },
  {
   "cell_type": "markdown",
   "metadata": {},
   "source": [
    "## Batch Effect Correction"
   ]
  },
  {
   "cell_type": "markdown",
   "metadata": {},
   "source": [
    "### ComBat"
   ]
  },
  {
   "cell_type": "code",
   "execution_count": 8,
   "metadata": {},
   "outputs": [
    {
     "name": "stdout",
     "output_type": "stream",
     "text": [
      "Found 2 batches.\n",
      "Adjusting for 1 covariate(s) or covariate level(s).\n",
      "Standardizing Data across genes.\n",
      "Fitting L/S model and finding priors.\n",
      "Finding parametric adjustments.\n",
      "Adjusting the Data\n"
     ]
    }
   ],
   "source": [
    "data_combat = correctCombat(data)"
   ]
  },
  {
   "cell_type": "code",
   "execution_count": 12,
   "metadata": {},
   "outputs": [
    {
     "data": {
      "application/vnd.plotly.v1+json": {
       "config": {
        "plotlyServerURL": "https://plot.ly"
       },
       "data": [
        {
         "legendgroup": "1",
         "legendgrouptitle": {
          "text": "Batch 1"
         },
         "marker": {
          "color": [
           "blue",
           "blue",
           "blue",
           "blue",
           "blue",
           "blue",
           "blue",
           "blue"
          ],
          "size": 8,
          "symbol": [
           "circle",
           "circle",
           "circle",
           "circle",
           "circle",
           "circle",
           "circle",
           "circle"
          ]
         },
         "mode": "markers",
         "name": "Ectosome",
         "type": "scatter",
         "x": [
          15.463808648896105,
          22.665554342576737,
          11.126319876251067,
          11.115281562383242,
          14.810335235086079,
          16.72146290390766,
          8.435215046330942,
          17.372204409452
         ],
         "y": [
          -6.250115110643386,
          -4.947171593695659,
          12.56560149645917,
          12.52261441051448,
          3.4243883663668755,
          5.912036016870565,
          2.1182303974995684,
          4.1564687066864066
         ]
        },
        {
         "legendgroup": "1",
         "legendgrouptitle": {
          "text": "Batch 1"
         },
         "marker": {
          "color": [
           "blue",
           "blue",
           "blue",
           "blue",
           "blue",
           "blue",
           "blue",
           "blue"
          ],
          "size": 8,
          "symbol": [
           "square",
           "square",
           "square",
           "square",
           "square",
           "square",
           "square",
           "square"
          ]
         },
         "mode": "markers",
         "name": "Choanosome",
         "type": "scatter",
         "x": [
          -10.901207264800446,
          -13.342233635812951,
          -16.34583093618615,
          -16.33217728187191,
          -17.28839172491031,
          -14.121910949309845,
          -15.476125698502667,
          -15.172490929173094
         ],
         "y": [
          -15.01790111833971,
          -8.589264215385397,
          -3.6441575261112042,
          -3.167834726279026,
          0.010899254687595686,
          -5.332862087479751,
          0.620621998088953,
          -0.40145087254528217
         ]
        },
        {
         "legendgroup": "2",
         "legendgrouptitle": {
          "text": "Batch 2"
         },
         "marker": {
          "color": [
           "red",
           "red",
           "red",
           "red",
           "red",
           "red",
           "red",
           "red"
          ],
          "size": 8,
          "symbol": [
           "circle",
           "circle",
           "circle",
           "circle",
           "circle",
           "circle",
           "circle",
           "circle"
          ]
         },
         "mode": "markers",
         "name": "Ectosome",
         "type": "scatter",
         "x": [
          22.68505302095876,
          18.316222663683313,
          21.681153922525993,
          10.21865549829019,
          18.04674402506681,
          22.224149086397865,
          25.141118982809996,
          18.344111195795424
         ],
         "y": [
          -1.3816728082406553,
          17.140880788181228,
          1.6220875688136769,
          27.655848864639793,
          -7.215690082685958,
          -12.040257315804052,
          -16.493239241199138,
          -10.290218415506398
         ]
        },
        {
         "legendgroup": "2",
         "legendgrouptitle": {
          "text": "Batch 2"
         },
         "marker": {
          "color": [
           "red",
           "red",
           "red",
           "red",
           "red",
           "red",
           "red",
           "red"
          ],
          "size": 8,
          "symbol": [
           "square",
           "square",
           "square",
           "square",
           "square",
           "square",
           "square",
           "square"
          ]
         },
         "mode": "markers",
         "name": "Choanosome",
         "type": "scatter",
         "x": [
          -16.992531423617013,
          -19.241969084166133,
          -19.629737160872327,
          -23.480852014162704,
          -22.52271108686562,
          -15.733455296203502,
          -17.47926781064879,
          -20.30649812330872
         ],
         "y": [
          -4.794455066946924,
          1.0258908323891502,
          -4.5349335271581275,
          17.871528281196692,
          13.804243717400372,
          -18.056257797715375,
          -14.11193978200535,
          15.818080587946884
         ]
        }
       ],
       "layout": {
        "template": {
         "data": {
          "bar": [
           {
            "error_x": {
             "color": "#2a3f5f"
            },
            "error_y": {
             "color": "#2a3f5f"
            },
            "marker": {
             "line": {
              "color": "#E5ECF6",
              "width": 0.5
             },
             "pattern": {
              "fillmode": "overlay",
              "size": 10,
              "solidity": 0.2
             }
            },
            "type": "bar"
           }
          ],
          "barpolar": [
           {
            "marker": {
             "line": {
              "color": "#E5ECF6",
              "width": 0.5
             },
             "pattern": {
              "fillmode": "overlay",
              "size": 10,
              "solidity": 0.2
             }
            },
            "type": "barpolar"
           }
          ],
          "carpet": [
           {
            "aaxis": {
             "endlinecolor": "#2a3f5f",
             "gridcolor": "white",
             "linecolor": "white",
             "minorgridcolor": "white",
             "startlinecolor": "#2a3f5f"
            },
            "baxis": {
             "endlinecolor": "#2a3f5f",
             "gridcolor": "white",
             "linecolor": "white",
             "minorgridcolor": "white",
             "startlinecolor": "#2a3f5f"
            },
            "type": "carpet"
           }
          ],
          "choropleth": [
           {
            "colorbar": {
             "outlinewidth": 0,
             "ticks": ""
            },
            "type": "choropleth"
           }
          ],
          "contour": [
           {
            "colorbar": {
             "outlinewidth": 0,
             "ticks": ""
            },
            "colorscale": [
             [
              0,
              "#0d0887"
             ],
             [
              0.1111111111111111,
              "#46039f"
             ],
             [
              0.2222222222222222,
              "#7201a8"
             ],
             [
              0.3333333333333333,
              "#9c179e"
             ],
             [
              0.4444444444444444,
              "#bd3786"
             ],
             [
              0.5555555555555556,
              "#d8576b"
             ],
             [
              0.6666666666666666,
              "#ed7953"
             ],
             [
              0.7777777777777778,
              "#fb9f3a"
             ],
             [
              0.8888888888888888,
              "#fdca26"
             ],
             [
              1,
              "#f0f921"
             ]
            ],
            "type": "contour"
           }
          ],
          "contourcarpet": [
           {
            "colorbar": {
             "outlinewidth": 0,
             "ticks": ""
            },
            "type": "contourcarpet"
           }
          ],
          "heatmap": [
           {
            "colorbar": {
             "outlinewidth": 0,
             "ticks": ""
            },
            "colorscale": [
             [
              0,
              "#0d0887"
             ],
             [
              0.1111111111111111,
              "#46039f"
             ],
             [
              0.2222222222222222,
              "#7201a8"
             ],
             [
              0.3333333333333333,
              "#9c179e"
             ],
             [
              0.4444444444444444,
              "#bd3786"
             ],
             [
              0.5555555555555556,
              "#d8576b"
             ],
             [
              0.6666666666666666,
              "#ed7953"
             ],
             [
              0.7777777777777778,
              "#fb9f3a"
             ],
             [
              0.8888888888888888,
              "#fdca26"
             ],
             [
              1,
              "#f0f921"
             ]
            ],
            "type": "heatmap"
           }
          ],
          "heatmapgl": [
           {
            "colorbar": {
             "outlinewidth": 0,
             "ticks": ""
            },
            "colorscale": [
             [
              0,
              "#0d0887"
             ],
             [
              0.1111111111111111,
              "#46039f"
             ],
             [
              0.2222222222222222,
              "#7201a8"
             ],
             [
              0.3333333333333333,
              "#9c179e"
             ],
             [
              0.4444444444444444,
              "#bd3786"
             ],
             [
              0.5555555555555556,
              "#d8576b"
             ],
             [
              0.6666666666666666,
              "#ed7953"
             ],
             [
              0.7777777777777778,
              "#fb9f3a"
             ],
             [
              0.8888888888888888,
              "#fdca26"
             ],
             [
              1,
              "#f0f921"
             ]
            ],
            "type": "heatmapgl"
           }
          ],
          "histogram": [
           {
            "marker": {
             "pattern": {
              "fillmode": "overlay",
              "size": 10,
              "solidity": 0.2
             }
            },
            "type": "histogram"
           }
          ],
          "histogram2d": [
           {
            "colorbar": {
             "outlinewidth": 0,
             "ticks": ""
            },
            "colorscale": [
             [
              0,
              "#0d0887"
             ],
             [
              0.1111111111111111,
              "#46039f"
             ],
             [
              0.2222222222222222,
              "#7201a8"
             ],
             [
              0.3333333333333333,
              "#9c179e"
             ],
             [
              0.4444444444444444,
              "#bd3786"
             ],
             [
              0.5555555555555556,
              "#d8576b"
             ],
             [
              0.6666666666666666,
              "#ed7953"
             ],
             [
              0.7777777777777778,
              "#fb9f3a"
             ],
             [
              0.8888888888888888,
              "#fdca26"
             ],
             [
              1,
              "#f0f921"
             ]
            ],
            "type": "histogram2d"
           }
          ],
          "histogram2dcontour": [
           {
            "colorbar": {
             "outlinewidth": 0,
             "ticks": ""
            },
            "colorscale": [
             [
              0,
              "#0d0887"
             ],
             [
              0.1111111111111111,
              "#46039f"
             ],
             [
              0.2222222222222222,
              "#7201a8"
             ],
             [
              0.3333333333333333,
              "#9c179e"
             ],
             [
              0.4444444444444444,
              "#bd3786"
             ],
             [
              0.5555555555555556,
              "#d8576b"
             ],
             [
              0.6666666666666666,
              "#ed7953"
             ],
             [
              0.7777777777777778,
              "#fb9f3a"
             ],
             [
              0.8888888888888888,
              "#fdca26"
             ],
             [
              1,
              "#f0f921"
             ]
            ],
            "type": "histogram2dcontour"
           }
          ],
          "mesh3d": [
           {
            "colorbar": {
             "outlinewidth": 0,
             "ticks": ""
            },
            "type": "mesh3d"
           }
          ],
          "parcoords": [
           {
            "line": {
             "colorbar": {
              "outlinewidth": 0,
              "ticks": ""
             }
            },
            "type": "parcoords"
           }
          ],
          "pie": [
           {
            "automargin": true,
            "type": "pie"
           }
          ],
          "scatter": [
           {
            "fillpattern": {
             "fillmode": "overlay",
             "size": 10,
             "solidity": 0.2
            },
            "type": "scatter"
           }
          ],
          "scatter3d": [
           {
            "line": {
             "colorbar": {
              "outlinewidth": 0,
              "ticks": ""
             }
            },
            "marker": {
             "colorbar": {
              "outlinewidth": 0,
              "ticks": ""
             }
            },
            "type": "scatter3d"
           }
          ],
          "scattercarpet": [
           {
            "marker": {
             "colorbar": {
              "outlinewidth": 0,
              "ticks": ""
             }
            },
            "type": "scattercarpet"
           }
          ],
          "scattergeo": [
           {
            "marker": {
             "colorbar": {
              "outlinewidth": 0,
              "ticks": ""
             }
            },
            "type": "scattergeo"
           }
          ],
          "scattergl": [
           {
            "marker": {
             "colorbar": {
              "outlinewidth": 0,
              "ticks": ""
             }
            },
            "type": "scattergl"
           }
          ],
          "scattermapbox": [
           {
            "marker": {
             "colorbar": {
              "outlinewidth": 0,
              "ticks": ""
             }
            },
            "type": "scattermapbox"
           }
          ],
          "scatterpolar": [
           {
            "marker": {
             "colorbar": {
              "outlinewidth": 0,
              "ticks": ""
             }
            },
            "type": "scatterpolar"
           }
          ],
          "scatterpolargl": [
           {
            "marker": {
             "colorbar": {
              "outlinewidth": 0,
              "ticks": ""
             }
            },
            "type": "scatterpolargl"
           }
          ],
          "scatterternary": [
           {
            "marker": {
             "colorbar": {
              "outlinewidth": 0,
              "ticks": ""
             }
            },
            "type": "scatterternary"
           }
          ],
          "surface": [
           {
            "colorbar": {
             "outlinewidth": 0,
             "ticks": ""
            },
            "colorscale": [
             [
              0,
              "#0d0887"
             ],
             [
              0.1111111111111111,
              "#46039f"
             ],
             [
              0.2222222222222222,
              "#7201a8"
             ],
             [
              0.3333333333333333,
              "#9c179e"
             ],
             [
              0.4444444444444444,
              "#bd3786"
             ],
             [
              0.5555555555555556,
              "#d8576b"
             ],
             [
              0.6666666666666666,
              "#ed7953"
             ],
             [
              0.7777777777777778,
              "#fb9f3a"
             ],
             [
              0.8888888888888888,
              "#fdca26"
             ],
             [
              1,
              "#f0f921"
             ]
            ],
            "type": "surface"
           }
          ],
          "table": [
           {
            "cells": {
             "fill": {
              "color": "#EBF0F8"
             },
             "line": {
              "color": "white"
             }
            },
            "header": {
             "fill": {
              "color": "#C8D4E3"
             },
             "line": {
              "color": "white"
             }
            },
            "type": "table"
           }
          ]
         },
         "layout": {
          "annotationdefaults": {
           "arrowcolor": "#2a3f5f",
           "arrowhead": 0,
           "arrowwidth": 1
          },
          "autotypenumbers": "strict",
          "coloraxis": {
           "colorbar": {
            "outlinewidth": 0,
            "ticks": ""
           }
          },
          "colorscale": {
           "diverging": [
            [
             0,
             "#8e0152"
            ],
            [
             0.1,
             "#c51b7d"
            ],
            [
             0.2,
             "#de77ae"
            ],
            [
             0.3,
             "#f1b6da"
            ],
            [
             0.4,
             "#fde0ef"
            ],
            [
             0.5,
             "#f7f7f7"
            ],
            [
             0.6,
             "#e6f5d0"
            ],
            [
             0.7,
             "#b8e186"
            ],
            [
             0.8,
             "#7fbc41"
            ],
            [
             0.9,
             "#4d9221"
            ],
            [
             1,
             "#276419"
            ]
           ],
           "sequential": [
            [
             0,
             "#0d0887"
            ],
            [
             0.1111111111111111,
             "#46039f"
            ],
            [
             0.2222222222222222,
             "#7201a8"
            ],
            [
             0.3333333333333333,
             "#9c179e"
            ],
            [
             0.4444444444444444,
             "#bd3786"
            ],
            [
             0.5555555555555556,
             "#d8576b"
            ],
            [
             0.6666666666666666,
             "#ed7953"
            ],
            [
             0.7777777777777778,
             "#fb9f3a"
            ],
            [
             0.8888888888888888,
             "#fdca26"
            ],
            [
             1,
             "#f0f921"
            ]
           ],
           "sequentialminus": [
            [
             0,
             "#0d0887"
            ],
            [
             0.1111111111111111,
             "#46039f"
            ],
            [
             0.2222222222222222,
             "#7201a8"
            ],
            [
             0.3333333333333333,
             "#9c179e"
            ],
            [
             0.4444444444444444,
             "#bd3786"
            ],
            [
             0.5555555555555556,
             "#d8576b"
            ],
            [
             0.6666666666666666,
             "#ed7953"
            ],
            [
             0.7777777777777778,
             "#fb9f3a"
            ],
            [
             0.8888888888888888,
             "#fdca26"
            ],
            [
             1,
             "#f0f921"
            ]
           ]
          },
          "colorway": [
           "#636efa",
           "#EF553B",
           "#00cc96",
           "#ab63fa",
           "#FFA15A",
           "#19d3f3",
           "#FF6692",
           "#B6E880",
           "#FF97FF",
           "#FECB52"
          ],
          "font": {
           "color": "#2a3f5f"
          },
          "geo": {
           "bgcolor": "white",
           "lakecolor": "white",
           "landcolor": "#E5ECF6",
           "showlakes": true,
           "showland": true,
           "subunitcolor": "white"
          },
          "hoverlabel": {
           "align": "left"
          },
          "hovermode": "closest",
          "mapbox": {
           "style": "light"
          },
          "paper_bgcolor": "white",
          "plot_bgcolor": "#E5ECF6",
          "polar": {
           "angularaxis": {
            "gridcolor": "white",
            "linecolor": "white",
            "ticks": ""
           },
           "bgcolor": "#E5ECF6",
           "radialaxis": {
            "gridcolor": "white",
            "linecolor": "white",
            "ticks": ""
           }
          },
          "scene": {
           "xaxis": {
            "backgroundcolor": "#E5ECF6",
            "gridcolor": "white",
            "gridwidth": 2,
            "linecolor": "white",
            "showbackground": true,
            "ticks": "",
            "zerolinecolor": "white"
           },
           "yaxis": {
            "backgroundcolor": "#E5ECF6",
            "gridcolor": "white",
            "gridwidth": 2,
            "linecolor": "white",
            "showbackground": true,
            "ticks": "",
            "zerolinecolor": "white"
           },
           "zaxis": {
            "backgroundcolor": "#E5ECF6",
            "gridcolor": "white",
            "gridwidth": 2,
            "linecolor": "white",
            "showbackground": true,
            "ticks": "",
            "zerolinecolor": "white"
           }
          },
          "shapedefaults": {
           "line": {
            "color": "#2a3f5f"
           }
          },
          "ternary": {
           "aaxis": {
            "gridcolor": "white",
            "linecolor": "white",
            "ticks": ""
           },
           "baxis": {
            "gridcolor": "white",
            "linecolor": "white",
            "ticks": ""
           },
           "bgcolor": "#E5ECF6",
           "caxis": {
            "gridcolor": "white",
            "linecolor": "white",
            "ticks": ""
           }
          },
          "title": {
           "x": 0.05
          },
          "xaxis": {
           "automargin": true,
           "gridcolor": "white",
           "linecolor": "white",
           "ticks": "",
           "title": {
            "standoff": 15
           },
           "zerolinecolor": "white",
           "zerolinewidth": 2
          },
          "yaxis": {
           "automargin": true,
           "gridcolor": "white",
           "linecolor": "white",
           "ticks": "",
           "title": {
            "standoff": 15
           },
           "zerolinecolor": "white",
           "zerolinewidth": 2
          }
         }
        }
       }
      }
     },
     "metadata": {},
     "output_type": "display_data"
    }
   ],
   "source": [
    "plotPCoA(DataReverseTransform(data_combat, raw_data))"
   ]
  },
  {
   "cell_type": "markdown",
   "metadata": {},
   "source": [
    "### limma - removeBatchEffect"
   ]
  },
  {
   "cell_type": "code",
   "execution_count": 13,
   "metadata": {},
   "outputs": [],
   "source": [
    "data_limma = correctLimma_rBE(data, covariates_labels = [\"tissue\"])"
   ]
  },
  {
   "cell_type": "code",
   "execution_count": 14,
   "metadata": {},
   "outputs": [
    {
     "data": {
      "application/vnd.plotly.v1+json": {
       "config": {
        "plotlyServerURL": "https://plot.ly"
       },
       "data": [
        {
         "legendgroup": "1",
         "legendgrouptitle": {
          "text": "Batch 1"
         },
         "marker": {
          "color": [
           "blue",
           "blue",
           "blue",
           "blue",
           "blue",
           "blue",
           "blue",
           "blue"
          ],
          "size": 8,
          "symbol": [
           "circle",
           "circle",
           "circle",
           "circle",
           "circle",
           "circle",
           "circle",
           "circle"
          ]
         },
         "mode": "markers",
         "name": "Ectosome",
         "type": "scatter",
         "x": [
          6.831623228960776,
          24.39612596693124,
          18.18902892009891,
          17.937777551905626,
          20.00536211882328,
          23.635030752420153,
          6.8109308389045795,
          23.810335208312537
         ],
         "y": [
          4.308773798738948,
          6.676029130867609,
          -19.706111320073667,
          -19.471225463563854,
          -2.565564375475314,
          7.001991852942606,
          4.306403251478126,
          10.158842291704534
         ]
        },
        {
         "legendgroup": "1",
         "legendgrouptitle": {
          "text": "Batch 1"
         },
         "marker": {
          "color": [
           "blue",
           "blue",
           "blue",
           "blue",
           "blue",
           "blue",
           "blue",
           "blue"
          ],
          "size": 8,
          "symbol": [
           "square",
           "square",
           "square",
           "square",
           "square",
           "square",
           "square",
           "square"
          ]
         },
         "mode": "markers",
         "name": "Choanosome",
         "type": "scatter",
         "x": [
          -15.110512707463204,
          -15.143907129605514,
          -16.37577223042222,
          -16.39918108421043,
          -16.555138406849416,
          -14.877148298201305,
          -14.843704410483822,
          -14.83384242727253
         ],
         "y": [
          -14.9430535648287,
          -15.178607386342705,
          -22.365098444368577,
          -22.543756448065555,
          -12.022213416999035,
          3.523371183506544,
          3.501604854516838,
          3.49518636714236
         ]
        },
        {
         "legendgroup": "2",
         "legendgrouptitle": {
          "text": "Batch 2"
         },
         "marker": {
          "color": [
           "red",
           "red",
           "red",
           "red",
           "red",
           "red",
           "red",
           "red"
          ],
          "size": 8,
          "symbol": [
           "circle",
           "circle",
           "circle",
           "circle",
           "circle",
           "circle",
           "circle",
           "circle"
          ]
         },
         "mode": "markers",
         "name": "Ectosome",
         "type": "scatter",
         "x": [
          22.448485822827497,
          18.480500778341213,
          22.746652230605054,
          15.01126974090493,
          17.226512793623954,
          20.41397003881585,
          18.665366115587815,
          20.104109087871006
         ],
         "y": [
          4.979114623182841,
          18.912109826464324,
          4.347968324058161,
          22.928590441546604,
          -3.214590837227485,
          -3.0943716585559855,
          -18.642994318251418,
          -3.261926047795808
         ]
        },
        {
         "legendgroup": "2",
         "legendgrouptitle": {
          "text": "Batch 2"
         },
         "marker": {
          "color": [
           "red",
           "red",
           "red",
           "red",
           "red",
           "red",
           "red",
           "red"
          ],
          "size": 8,
          "symbol": [
           "square",
           "square",
           "square",
           "square",
           "square",
           "square",
           "square",
           "square"
          ]
         },
         "mode": "markers",
         "name": "Choanosome",
         "type": "scatter",
         "x": [
          -21.08883549613176,
          -18.955344107070115,
          -20.512776877626514,
          -22.498002388703927,
          -27.53006543172551,
          -21.23010254471383,
          -17.897562892993566,
          -22.861184761460706
         ],
         "y": [
          8.702058877686207,
          7.677721452014262,
          -0.14229504019853434,
          22.377782388706024,
          14.713699939253242,
          -3.527782489862668,
          -3.6515083730550684,
          16.71985058085522
         ]
        }
       ],
       "layout": {
        "template": {
         "data": {
          "bar": [
           {
            "error_x": {
             "color": "#2a3f5f"
            },
            "error_y": {
             "color": "#2a3f5f"
            },
            "marker": {
             "line": {
              "color": "#E5ECF6",
              "width": 0.5
             },
             "pattern": {
              "fillmode": "overlay",
              "size": 10,
              "solidity": 0.2
             }
            },
            "type": "bar"
           }
          ],
          "barpolar": [
           {
            "marker": {
             "line": {
              "color": "#E5ECF6",
              "width": 0.5
             },
             "pattern": {
              "fillmode": "overlay",
              "size": 10,
              "solidity": 0.2
             }
            },
            "type": "barpolar"
           }
          ],
          "carpet": [
           {
            "aaxis": {
             "endlinecolor": "#2a3f5f",
             "gridcolor": "white",
             "linecolor": "white",
             "minorgridcolor": "white",
             "startlinecolor": "#2a3f5f"
            },
            "baxis": {
             "endlinecolor": "#2a3f5f",
             "gridcolor": "white",
             "linecolor": "white",
             "minorgridcolor": "white",
             "startlinecolor": "#2a3f5f"
            },
            "type": "carpet"
           }
          ],
          "choropleth": [
           {
            "colorbar": {
             "outlinewidth": 0,
             "ticks": ""
            },
            "type": "choropleth"
           }
          ],
          "contour": [
           {
            "colorbar": {
             "outlinewidth": 0,
             "ticks": ""
            },
            "colorscale": [
             [
              0,
              "#0d0887"
             ],
             [
              0.1111111111111111,
              "#46039f"
             ],
             [
              0.2222222222222222,
              "#7201a8"
             ],
             [
              0.3333333333333333,
              "#9c179e"
             ],
             [
              0.4444444444444444,
              "#bd3786"
             ],
             [
              0.5555555555555556,
              "#d8576b"
             ],
             [
              0.6666666666666666,
              "#ed7953"
             ],
             [
              0.7777777777777778,
              "#fb9f3a"
             ],
             [
              0.8888888888888888,
              "#fdca26"
             ],
             [
              1,
              "#f0f921"
             ]
            ],
            "type": "contour"
           }
          ],
          "contourcarpet": [
           {
            "colorbar": {
             "outlinewidth": 0,
             "ticks": ""
            },
            "type": "contourcarpet"
           }
          ],
          "heatmap": [
           {
            "colorbar": {
             "outlinewidth": 0,
             "ticks": ""
            },
            "colorscale": [
             [
              0,
              "#0d0887"
             ],
             [
              0.1111111111111111,
              "#46039f"
             ],
             [
              0.2222222222222222,
              "#7201a8"
             ],
             [
              0.3333333333333333,
              "#9c179e"
             ],
             [
              0.4444444444444444,
              "#bd3786"
             ],
             [
              0.5555555555555556,
              "#d8576b"
             ],
             [
              0.6666666666666666,
              "#ed7953"
             ],
             [
              0.7777777777777778,
              "#fb9f3a"
             ],
             [
              0.8888888888888888,
              "#fdca26"
             ],
             [
              1,
              "#f0f921"
             ]
            ],
            "type": "heatmap"
           }
          ],
          "heatmapgl": [
           {
            "colorbar": {
             "outlinewidth": 0,
             "ticks": ""
            },
            "colorscale": [
             [
              0,
              "#0d0887"
             ],
             [
              0.1111111111111111,
              "#46039f"
             ],
             [
              0.2222222222222222,
              "#7201a8"
             ],
             [
              0.3333333333333333,
              "#9c179e"
             ],
             [
              0.4444444444444444,
              "#bd3786"
             ],
             [
              0.5555555555555556,
              "#d8576b"
             ],
             [
              0.6666666666666666,
              "#ed7953"
             ],
             [
              0.7777777777777778,
              "#fb9f3a"
             ],
             [
              0.8888888888888888,
              "#fdca26"
             ],
             [
              1,
              "#f0f921"
             ]
            ],
            "type": "heatmapgl"
           }
          ],
          "histogram": [
           {
            "marker": {
             "pattern": {
              "fillmode": "overlay",
              "size": 10,
              "solidity": 0.2
             }
            },
            "type": "histogram"
           }
          ],
          "histogram2d": [
           {
            "colorbar": {
             "outlinewidth": 0,
             "ticks": ""
            },
            "colorscale": [
             [
              0,
              "#0d0887"
             ],
             [
              0.1111111111111111,
              "#46039f"
             ],
             [
              0.2222222222222222,
              "#7201a8"
             ],
             [
              0.3333333333333333,
              "#9c179e"
             ],
             [
              0.4444444444444444,
              "#bd3786"
             ],
             [
              0.5555555555555556,
              "#d8576b"
             ],
             [
              0.6666666666666666,
              "#ed7953"
             ],
             [
              0.7777777777777778,
              "#fb9f3a"
             ],
             [
              0.8888888888888888,
              "#fdca26"
             ],
             [
              1,
              "#f0f921"
             ]
            ],
            "type": "histogram2d"
           }
          ],
          "histogram2dcontour": [
           {
            "colorbar": {
             "outlinewidth": 0,
             "ticks": ""
            },
            "colorscale": [
             [
              0,
              "#0d0887"
             ],
             [
              0.1111111111111111,
              "#46039f"
             ],
             [
              0.2222222222222222,
              "#7201a8"
             ],
             [
              0.3333333333333333,
              "#9c179e"
             ],
             [
              0.4444444444444444,
              "#bd3786"
             ],
             [
              0.5555555555555556,
              "#d8576b"
             ],
             [
              0.6666666666666666,
              "#ed7953"
             ],
             [
              0.7777777777777778,
              "#fb9f3a"
             ],
             [
              0.8888888888888888,
              "#fdca26"
             ],
             [
              1,
              "#f0f921"
             ]
            ],
            "type": "histogram2dcontour"
           }
          ],
          "mesh3d": [
           {
            "colorbar": {
             "outlinewidth": 0,
             "ticks": ""
            },
            "type": "mesh3d"
           }
          ],
          "parcoords": [
           {
            "line": {
             "colorbar": {
              "outlinewidth": 0,
              "ticks": ""
             }
            },
            "type": "parcoords"
           }
          ],
          "pie": [
           {
            "automargin": true,
            "type": "pie"
           }
          ],
          "scatter": [
           {
            "fillpattern": {
             "fillmode": "overlay",
             "size": 10,
             "solidity": 0.2
            },
            "type": "scatter"
           }
          ],
          "scatter3d": [
           {
            "line": {
             "colorbar": {
              "outlinewidth": 0,
              "ticks": ""
             }
            },
            "marker": {
             "colorbar": {
              "outlinewidth": 0,
              "ticks": ""
             }
            },
            "type": "scatter3d"
           }
          ],
          "scattercarpet": [
           {
            "marker": {
             "colorbar": {
              "outlinewidth": 0,
              "ticks": ""
             }
            },
            "type": "scattercarpet"
           }
          ],
          "scattergeo": [
           {
            "marker": {
             "colorbar": {
              "outlinewidth": 0,
              "ticks": ""
             }
            },
            "type": "scattergeo"
           }
          ],
          "scattergl": [
           {
            "marker": {
             "colorbar": {
              "outlinewidth": 0,
              "ticks": ""
             }
            },
            "type": "scattergl"
           }
          ],
          "scattermapbox": [
           {
            "marker": {
             "colorbar": {
              "outlinewidth": 0,
              "ticks": ""
             }
            },
            "type": "scattermapbox"
           }
          ],
          "scatterpolar": [
           {
            "marker": {
             "colorbar": {
              "outlinewidth": 0,
              "ticks": ""
             }
            },
            "type": "scatterpolar"
           }
          ],
          "scatterpolargl": [
           {
            "marker": {
             "colorbar": {
              "outlinewidth": 0,
              "ticks": ""
             }
            },
            "type": "scatterpolargl"
           }
          ],
          "scatterternary": [
           {
            "marker": {
             "colorbar": {
              "outlinewidth": 0,
              "ticks": ""
             }
            },
            "type": "scatterternary"
           }
          ],
          "surface": [
           {
            "colorbar": {
             "outlinewidth": 0,
             "ticks": ""
            },
            "colorscale": [
             [
              0,
              "#0d0887"
             ],
             [
              0.1111111111111111,
              "#46039f"
             ],
             [
              0.2222222222222222,
              "#7201a8"
             ],
             [
              0.3333333333333333,
              "#9c179e"
             ],
             [
              0.4444444444444444,
              "#bd3786"
             ],
             [
              0.5555555555555556,
              "#d8576b"
             ],
             [
              0.6666666666666666,
              "#ed7953"
             ],
             [
              0.7777777777777778,
              "#fb9f3a"
             ],
             [
              0.8888888888888888,
              "#fdca26"
             ],
             [
              1,
              "#f0f921"
             ]
            ],
            "type": "surface"
           }
          ],
          "table": [
           {
            "cells": {
             "fill": {
              "color": "#EBF0F8"
             },
             "line": {
              "color": "white"
             }
            },
            "header": {
             "fill": {
              "color": "#C8D4E3"
             },
             "line": {
              "color": "white"
             }
            },
            "type": "table"
           }
          ]
         },
         "layout": {
          "annotationdefaults": {
           "arrowcolor": "#2a3f5f",
           "arrowhead": 0,
           "arrowwidth": 1
          },
          "autotypenumbers": "strict",
          "coloraxis": {
           "colorbar": {
            "outlinewidth": 0,
            "ticks": ""
           }
          },
          "colorscale": {
           "diverging": [
            [
             0,
             "#8e0152"
            ],
            [
             0.1,
             "#c51b7d"
            ],
            [
             0.2,
             "#de77ae"
            ],
            [
             0.3,
             "#f1b6da"
            ],
            [
             0.4,
             "#fde0ef"
            ],
            [
             0.5,
             "#f7f7f7"
            ],
            [
             0.6,
             "#e6f5d0"
            ],
            [
             0.7,
             "#b8e186"
            ],
            [
             0.8,
             "#7fbc41"
            ],
            [
             0.9,
             "#4d9221"
            ],
            [
             1,
             "#276419"
            ]
           ],
           "sequential": [
            [
             0,
             "#0d0887"
            ],
            [
             0.1111111111111111,
             "#46039f"
            ],
            [
             0.2222222222222222,
             "#7201a8"
            ],
            [
             0.3333333333333333,
             "#9c179e"
            ],
            [
             0.4444444444444444,
             "#bd3786"
            ],
            [
             0.5555555555555556,
             "#d8576b"
            ],
            [
             0.6666666666666666,
             "#ed7953"
            ],
            [
             0.7777777777777778,
             "#fb9f3a"
            ],
            [
             0.8888888888888888,
             "#fdca26"
            ],
            [
             1,
             "#f0f921"
            ]
           ],
           "sequentialminus": [
            [
             0,
             "#0d0887"
            ],
            [
             0.1111111111111111,
             "#46039f"
            ],
            [
             0.2222222222222222,
             "#7201a8"
            ],
            [
             0.3333333333333333,
             "#9c179e"
            ],
            [
             0.4444444444444444,
             "#bd3786"
            ],
            [
             0.5555555555555556,
             "#d8576b"
            ],
            [
             0.6666666666666666,
             "#ed7953"
            ],
            [
             0.7777777777777778,
             "#fb9f3a"
            ],
            [
             0.8888888888888888,
             "#fdca26"
            ],
            [
             1,
             "#f0f921"
            ]
           ]
          },
          "colorway": [
           "#636efa",
           "#EF553B",
           "#00cc96",
           "#ab63fa",
           "#FFA15A",
           "#19d3f3",
           "#FF6692",
           "#B6E880",
           "#FF97FF",
           "#FECB52"
          ],
          "font": {
           "color": "#2a3f5f"
          },
          "geo": {
           "bgcolor": "white",
           "lakecolor": "white",
           "landcolor": "#E5ECF6",
           "showlakes": true,
           "showland": true,
           "subunitcolor": "white"
          },
          "hoverlabel": {
           "align": "left"
          },
          "hovermode": "closest",
          "mapbox": {
           "style": "light"
          },
          "paper_bgcolor": "white",
          "plot_bgcolor": "#E5ECF6",
          "polar": {
           "angularaxis": {
            "gridcolor": "white",
            "linecolor": "white",
            "ticks": ""
           },
           "bgcolor": "#E5ECF6",
           "radialaxis": {
            "gridcolor": "white",
            "linecolor": "white",
            "ticks": ""
           }
          },
          "scene": {
           "xaxis": {
            "backgroundcolor": "#E5ECF6",
            "gridcolor": "white",
            "gridwidth": 2,
            "linecolor": "white",
            "showbackground": true,
            "ticks": "",
            "zerolinecolor": "white"
           },
           "yaxis": {
            "backgroundcolor": "#E5ECF6",
            "gridcolor": "white",
            "gridwidth": 2,
            "linecolor": "white",
            "showbackground": true,
            "ticks": "",
            "zerolinecolor": "white"
           },
           "zaxis": {
            "backgroundcolor": "#E5ECF6",
            "gridcolor": "white",
            "gridwidth": 2,
            "linecolor": "white",
            "showbackground": true,
            "ticks": "",
            "zerolinecolor": "white"
           }
          },
          "shapedefaults": {
           "line": {
            "color": "#2a3f5f"
           }
          },
          "ternary": {
           "aaxis": {
            "gridcolor": "white",
            "linecolor": "white",
            "ticks": ""
           },
           "baxis": {
            "gridcolor": "white",
            "linecolor": "white",
            "ticks": ""
           },
           "bgcolor": "#E5ECF6",
           "caxis": {
            "gridcolor": "white",
            "linecolor": "white",
            "ticks": ""
           }
          },
          "title": {
           "x": 0.05
          },
          "xaxis": {
           "automargin": true,
           "gridcolor": "white",
           "linecolor": "white",
           "ticks": "",
           "title": {
            "standoff": 15
           },
           "zerolinecolor": "white",
           "zerolinewidth": 2
          },
          "yaxis": {
           "automargin": true,
           "gridcolor": "white",
           "linecolor": "white",
           "ticks": "",
           "title": {
            "standoff": 15
           },
           "zerolinecolor": "white",
           "zerolinewidth": 2
          }
         }
        }
       }
      }
     },
     "metadata": {},
     "output_type": "display_data"
    }
   ],
   "source": [
    "plotPCoA(DataReverseTransform(data_limma, raw_data))"
   ]
  },
  {
   "cell_type": "markdown",
   "metadata": {},
   "source": [
    "### SVD"
   ]
  },
  {
   "cell_type": "code",
   "execution_count": 15,
   "metadata": {},
   "outputs": [
    {
     "name": "stderr",
     "output_type": "stream",
     "text": [
      "/Users/s243564/BECA-1/BatchEffectCorrection.py:96: FutureWarning:\n",
      "\n",
      "Series.__getitem__ treating keys as positions is deprecated. In a future version, integer keys will always be treated as labels (consistent with DataFrame behavior). To access a value by position, use `ser.iloc[pos]`\n",
      "\n"
     ]
    }
   ],
   "source": [
    "data_SVD = correctSVD(data)"
   ]
  },
  {
   "cell_type": "code",
   "execution_count": 16,
   "metadata": {},
   "outputs": [
    {
     "data": {
      "application/vnd.plotly.v1+json": {
       "config": {
        "plotlyServerURL": "https://plot.ly"
       },
       "data": [
        {
         "legendgroup": "1",
         "legendgrouptitle": {
          "text": "Batch 1"
         },
         "marker": {
          "color": [
           "blue",
           "blue",
           "blue",
           "blue",
           "blue",
           "blue",
           "blue",
           "blue"
          ],
          "size": 8,
          "symbol": [
           "circle",
           "circle",
           "circle",
           "circle",
           "circle",
           "circle",
           "circle",
           "circle"
          ]
         },
         "mode": "markers",
         "name": "Ectosome",
         "type": "scatter",
         "x": [
          -1.7604991985444816,
          -2.9082865478494724,
          2.640611031189285,
          -2.383746026301158,
          -15.608137548537782,
          -17.074325320087095,
          -10.909496639933844,
          -7.548779332958722
         ],
         "y": [
          6.221954155088528,
          9.96728192124168,
          -12.339888167986055,
          -6.063366562776239,
          -0.4045747189084736,
          6.564727693829984,
          8.502722170330802,
          6.731111830142479
         ]
        },
        {
         "legendgroup": "1",
         "legendgrouptitle": {
          "text": "Batch 1"
         },
         "marker": {
          "color": [
           "blue",
           "blue",
           "blue",
           "blue",
           "blue",
           "blue",
           "blue",
           "blue"
          ],
          "size": 8,
          "symbol": [
           "square",
           "square",
           "square",
           "square",
           "square",
           "square",
           "square",
           "square"
          ]
         },
         "mode": "markers",
         "name": "Choanosome",
         "type": "scatter",
         "x": [
          -15.465386504896696,
          -19.914523664839724,
          -7.64916429344339,
          -12.86469836861541,
          -15.036418025543687,
          -18.38997976626782,
          -18.84440982593753,
          -18.843019311340125
         ],
         "y": [
          -13.371447344408343,
          -11.92813815625175,
          -21.51308045524807,
          -14.976992589313394,
          -8.264693746196905,
          0.5844681836068727,
          0.4429286246511926,
          0.09873285088155546
         ]
        },
        {
         "legendgroup": "2",
         "legendgrouptitle": {
          "text": "Batch 2"
         },
         "marker": {
          "color": [
           "red",
           "red",
           "red",
           "red",
           "red",
           "red",
           "red",
           "red"
          ],
          "size": 8,
          "symbol": [
           "circle",
           "circle",
           "circle",
           "circle",
           "circle",
           "circle",
           "circle",
           "circle"
          ]
         },
         "mode": "markers",
         "name": "Ectosome",
         "type": "scatter",
         "x": [
          -0.27737795047051694,
          10.478287818924084,
          18.543820297169326,
          11.08014282690625,
          30.83144774229477,
          34.30554142589216,
          34.6183494777803,
          32.434537770703066
         ],
         "y": [
          9.600142773673289,
          25.268660221244016,
          -4.297329429427601,
          24.169240532957367,
          -2.335080274148388,
          -2.8476999778051915,
          -9.37780245076057,
          -5.912361374343913
         ]
        },
        {
         "legendgroup": "2",
         "legendgrouptitle": {
          "text": "Batch 2"
         },
         "marker": {
          "color": [
           "red",
           "red",
           "red",
           "red",
           "red",
           "red",
           "red",
           "red"
          ],
          "size": 8,
          "symbol": [
           "square",
           "square",
           "square",
           "square",
           "square",
           "square",
           "square",
           "square"
          ]
         },
         "mode": "markers",
         "name": "Choanosome",
         "type": "scatter",
         "x": [
          -5.479348337550793,
          1.7869792552273898,
          4.743519869117203,
          -9.349582813532729,
          0.49789820852642086,
          2.8214245265641806,
          11.12762061710779,
          4.39699860924875
         ],
         "y": [
          -2.5466522937281533,
          -7.820430866424968,
          -14.081904560233257,
          22.173181696379913,
          21.410179541828256,
          -10.771003270467302,
          -14.712913982097364,
          21.830028024670025
         ]
        }
       ],
       "layout": {
        "template": {
         "data": {
          "bar": [
           {
            "error_x": {
             "color": "#2a3f5f"
            },
            "error_y": {
             "color": "#2a3f5f"
            },
            "marker": {
             "line": {
              "color": "#E5ECF6",
              "width": 0.5
             },
             "pattern": {
              "fillmode": "overlay",
              "size": 10,
              "solidity": 0.2
             }
            },
            "type": "bar"
           }
          ],
          "barpolar": [
           {
            "marker": {
             "line": {
              "color": "#E5ECF6",
              "width": 0.5
             },
             "pattern": {
              "fillmode": "overlay",
              "size": 10,
              "solidity": 0.2
             }
            },
            "type": "barpolar"
           }
          ],
          "carpet": [
           {
            "aaxis": {
             "endlinecolor": "#2a3f5f",
             "gridcolor": "white",
             "linecolor": "white",
             "minorgridcolor": "white",
             "startlinecolor": "#2a3f5f"
            },
            "baxis": {
             "endlinecolor": "#2a3f5f",
             "gridcolor": "white",
             "linecolor": "white",
             "minorgridcolor": "white",
             "startlinecolor": "#2a3f5f"
            },
            "type": "carpet"
           }
          ],
          "choropleth": [
           {
            "colorbar": {
             "outlinewidth": 0,
             "ticks": ""
            },
            "type": "choropleth"
           }
          ],
          "contour": [
           {
            "colorbar": {
             "outlinewidth": 0,
             "ticks": ""
            },
            "colorscale": [
             [
              0,
              "#0d0887"
             ],
             [
              0.1111111111111111,
              "#46039f"
             ],
             [
              0.2222222222222222,
              "#7201a8"
             ],
             [
              0.3333333333333333,
              "#9c179e"
             ],
             [
              0.4444444444444444,
              "#bd3786"
             ],
             [
              0.5555555555555556,
              "#d8576b"
             ],
             [
              0.6666666666666666,
              "#ed7953"
             ],
             [
              0.7777777777777778,
              "#fb9f3a"
             ],
             [
              0.8888888888888888,
              "#fdca26"
             ],
             [
              1,
              "#f0f921"
             ]
            ],
            "type": "contour"
           }
          ],
          "contourcarpet": [
           {
            "colorbar": {
             "outlinewidth": 0,
             "ticks": ""
            },
            "type": "contourcarpet"
           }
          ],
          "heatmap": [
           {
            "colorbar": {
             "outlinewidth": 0,
             "ticks": ""
            },
            "colorscale": [
             [
              0,
              "#0d0887"
             ],
             [
              0.1111111111111111,
              "#46039f"
             ],
             [
              0.2222222222222222,
              "#7201a8"
             ],
             [
              0.3333333333333333,
              "#9c179e"
             ],
             [
              0.4444444444444444,
              "#bd3786"
             ],
             [
              0.5555555555555556,
              "#d8576b"
             ],
             [
              0.6666666666666666,
              "#ed7953"
             ],
             [
              0.7777777777777778,
              "#fb9f3a"
             ],
             [
              0.8888888888888888,
              "#fdca26"
             ],
             [
              1,
              "#f0f921"
             ]
            ],
            "type": "heatmap"
           }
          ],
          "heatmapgl": [
           {
            "colorbar": {
             "outlinewidth": 0,
             "ticks": ""
            },
            "colorscale": [
             [
              0,
              "#0d0887"
             ],
             [
              0.1111111111111111,
              "#46039f"
             ],
             [
              0.2222222222222222,
              "#7201a8"
             ],
             [
              0.3333333333333333,
              "#9c179e"
             ],
             [
              0.4444444444444444,
              "#bd3786"
             ],
             [
              0.5555555555555556,
              "#d8576b"
             ],
             [
              0.6666666666666666,
              "#ed7953"
             ],
             [
              0.7777777777777778,
              "#fb9f3a"
             ],
             [
              0.8888888888888888,
              "#fdca26"
             ],
             [
              1,
              "#f0f921"
             ]
            ],
            "type": "heatmapgl"
           }
          ],
          "histogram": [
           {
            "marker": {
             "pattern": {
              "fillmode": "overlay",
              "size": 10,
              "solidity": 0.2
             }
            },
            "type": "histogram"
           }
          ],
          "histogram2d": [
           {
            "colorbar": {
             "outlinewidth": 0,
             "ticks": ""
            },
            "colorscale": [
             [
              0,
              "#0d0887"
             ],
             [
              0.1111111111111111,
              "#46039f"
             ],
             [
              0.2222222222222222,
              "#7201a8"
             ],
             [
              0.3333333333333333,
              "#9c179e"
             ],
             [
              0.4444444444444444,
              "#bd3786"
             ],
             [
              0.5555555555555556,
              "#d8576b"
             ],
             [
              0.6666666666666666,
              "#ed7953"
             ],
             [
              0.7777777777777778,
              "#fb9f3a"
             ],
             [
              0.8888888888888888,
              "#fdca26"
             ],
             [
              1,
              "#f0f921"
             ]
            ],
            "type": "histogram2d"
           }
          ],
          "histogram2dcontour": [
           {
            "colorbar": {
             "outlinewidth": 0,
             "ticks": ""
            },
            "colorscale": [
             [
              0,
              "#0d0887"
             ],
             [
              0.1111111111111111,
              "#46039f"
             ],
             [
              0.2222222222222222,
              "#7201a8"
             ],
             [
              0.3333333333333333,
              "#9c179e"
             ],
             [
              0.4444444444444444,
              "#bd3786"
             ],
             [
              0.5555555555555556,
              "#d8576b"
             ],
             [
              0.6666666666666666,
              "#ed7953"
             ],
             [
              0.7777777777777778,
              "#fb9f3a"
             ],
             [
              0.8888888888888888,
              "#fdca26"
             ],
             [
              1,
              "#f0f921"
             ]
            ],
            "type": "histogram2dcontour"
           }
          ],
          "mesh3d": [
           {
            "colorbar": {
             "outlinewidth": 0,
             "ticks": ""
            },
            "type": "mesh3d"
           }
          ],
          "parcoords": [
           {
            "line": {
             "colorbar": {
              "outlinewidth": 0,
              "ticks": ""
             }
            },
            "type": "parcoords"
           }
          ],
          "pie": [
           {
            "automargin": true,
            "type": "pie"
           }
          ],
          "scatter": [
           {
            "fillpattern": {
             "fillmode": "overlay",
             "size": 10,
             "solidity": 0.2
            },
            "type": "scatter"
           }
          ],
          "scatter3d": [
           {
            "line": {
             "colorbar": {
              "outlinewidth": 0,
              "ticks": ""
             }
            },
            "marker": {
             "colorbar": {
              "outlinewidth": 0,
              "ticks": ""
             }
            },
            "type": "scatter3d"
           }
          ],
          "scattercarpet": [
           {
            "marker": {
             "colorbar": {
              "outlinewidth": 0,
              "ticks": ""
             }
            },
            "type": "scattercarpet"
           }
          ],
          "scattergeo": [
           {
            "marker": {
             "colorbar": {
              "outlinewidth": 0,
              "ticks": ""
             }
            },
            "type": "scattergeo"
           }
          ],
          "scattergl": [
           {
            "marker": {
             "colorbar": {
              "outlinewidth": 0,
              "ticks": ""
             }
            },
            "type": "scattergl"
           }
          ],
          "scattermapbox": [
           {
            "marker": {
             "colorbar": {
              "outlinewidth": 0,
              "ticks": ""
             }
            },
            "type": "scattermapbox"
           }
          ],
          "scatterpolar": [
           {
            "marker": {
             "colorbar": {
              "outlinewidth": 0,
              "ticks": ""
             }
            },
            "type": "scatterpolar"
           }
          ],
          "scatterpolargl": [
           {
            "marker": {
             "colorbar": {
              "outlinewidth": 0,
              "ticks": ""
             }
            },
            "type": "scatterpolargl"
           }
          ],
          "scatterternary": [
           {
            "marker": {
             "colorbar": {
              "outlinewidth": 0,
              "ticks": ""
             }
            },
            "type": "scatterternary"
           }
          ],
          "surface": [
           {
            "colorbar": {
             "outlinewidth": 0,
             "ticks": ""
            },
            "colorscale": [
             [
              0,
              "#0d0887"
             ],
             [
              0.1111111111111111,
              "#46039f"
             ],
             [
              0.2222222222222222,
              "#7201a8"
             ],
             [
              0.3333333333333333,
              "#9c179e"
             ],
             [
              0.4444444444444444,
              "#bd3786"
             ],
             [
              0.5555555555555556,
              "#d8576b"
             ],
             [
              0.6666666666666666,
              "#ed7953"
             ],
             [
              0.7777777777777778,
              "#fb9f3a"
             ],
             [
              0.8888888888888888,
              "#fdca26"
             ],
             [
              1,
              "#f0f921"
             ]
            ],
            "type": "surface"
           }
          ],
          "table": [
           {
            "cells": {
             "fill": {
              "color": "#EBF0F8"
             },
             "line": {
              "color": "white"
             }
            },
            "header": {
             "fill": {
              "color": "#C8D4E3"
             },
             "line": {
              "color": "white"
             }
            },
            "type": "table"
           }
          ]
         },
         "layout": {
          "annotationdefaults": {
           "arrowcolor": "#2a3f5f",
           "arrowhead": 0,
           "arrowwidth": 1
          },
          "autotypenumbers": "strict",
          "coloraxis": {
           "colorbar": {
            "outlinewidth": 0,
            "ticks": ""
           }
          },
          "colorscale": {
           "diverging": [
            [
             0,
             "#8e0152"
            ],
            [
             0.1,
             "#c51b7d"
            ],
            [
             0.2,
             "#de77ae"
            ],
            [
             0.3,
             "#f1b6da"
            ],
            [
             0.4,
             "#fde0ef"
            ],
            [
             0.5,
             "#f7f7f7"
            ],
            [
             0.6,
             "#e6f5d0"
            ],
            [
             0.7,
             "#b8e186"
            ],
            [
             0.8,
             "#7fbc41"
            ],
            [
             0.9,
             "#4d9221"
            ],
            [
             1,
             "#276419"
            ]
           ],
           "sequential": [
            [
             0,
             "#0d0887"
            ],
            [
             0.1111111111111111,
             "#46039f"
            ],
            [
             0.2222222222222222,
             "#7201a8"
            ],
            [
             0.3333333333333333,
             "#9c179e"
            ],
            [
             0.4444444444444444,
             "#bd3786"
            ],
            [
             0.5555555555555556,
             "#d8576b"
            ],
            [
             0.6666666666666666,
             "#ed7953"
            ],
            [
             0.7777777777777778,
             "#fb9f3a"
            ],
            [
             0.8888888888888888,
             "#fdca26"
            ],
            [
             1,
             "#f0f921"
            ]
           ],
           "sequentialminus": [
            [
             0,
             "#0d0887"
            ],
            [
             0.1111111111111111,
             "#46039f"
            ],
            [
             0.2222222222222222,
             "#7201a8"
            ],
            [
             0.3333333333333333,
             "#9c179e"
            ],
            [
             0.4444444444444444,
             "#bd3786"
            ],
            [
             0.5555555555555556,
             "#d8576b"
            ],
            [
             0.6666666666666666,
             "#ed7953"
            ],
            [
             0.7777777777777778,
             "#fb9f3a"
            ],
            [
             0.8888888888888888,
             "#fdca26"
            ],
            [
             1,
             "#f0f921"
            ]
           ]
          },
          "colorway": [
           "#636efa",
           "#EF553B",
           "#00cc96",
           "#ab63fa",
           "#FFA15A",
           "#19d3f3",
           "#FF6692",
           "#B6E880",
           "#FF97FF",
           "#FECB52"
          ],
          "font": {
           "color": "#2a3f5f"
          },
          "geo": {
           "bgcolor": "white",
           "lakecolor": "white",
           "landcolor": "#E5ECF6",
           "showlakes": true,
           "showland": true,
           "subunitcolor": "white"
          },
          "hoverlabel": {
           "align": "left"
          },
          "hovermode": "closest",
          "mapbox": {
           "style": "light"
          },
          "paper_bgcolor": "white",
          "plot_bgcolor": "#E5ECF6",
          "polar": {
           "angularaxis": {
            "gridcolor": "white",
            "linecolor": "white",
            "ticks": ""
           },
           "bgcolor": "#E5ECF6",
           "radialaxis": {
            "gridcolor": "white",
            "linecolor": "white",
            "ticks": ""
           }
          },
          "scene": {
           "xaxis": {
            "backgroundcolor": "#E5ECF6",
            "gridcolor": "white",
            "gridwidth": 2,
            "linecolor": "white",
            "showbackground": true,
            "ticks": "",
            "zerolinecolor": "white"
           },
           "yaxis": {
            "backgroundcolor": "#E5ECF6",
            "gridcolor": "white",
            "gridwidth": 2,
            "linecolor": "white",
            "showbackground": true,
            "ticks": "",
            "zerolinecolor": "white"
           },
           "zaxis": {
            "backgroundcolor": "#E5ECF6",
            "gridcolor": "white",
            "gridwidth": 2,
            "linecolor": "white",
            "showbackground": true,
            "ticks": "",
            "zerolinecolor": "white"
           }
          },
          "shapedefaults": {
           "line": {
            "color": "#2a3f5f"
           }
          },
          "ternary": {
           "aaxis": {
            "gridcolor": "white",
            "linecolor": "white",
            "ticks": ""
           },
           "baxis": {
            "gridcolor": "white",
            "linecolor": "white",
            "ticks": ""
           },
           "bgcolor": "#E5ECF6",
           "caxis": {
            "gridcolor": "white",
            "linecolor": "white",
            "ticks": ""
           }
          },
          "title": {
           "x": 0.05
          },
          "xaxis": {
           "automargin": true,
           "gridcolor": "white",
           "linecolor": "white",
           "ticks": "",
           "title": {
            "standoff": 15
           },
           "zerolinecolor": "white",
           "zerolinewidth": 2
          },
          "yaxis": {
           "automargin": true,
           "gridcolor": "white",
           "linecolor": "white",
           "ticks": "",
           "title": {
            "standoff": 15
           },
           "zerolinecolor": "white",
           "zerolinewidth": 2
          }
         }
        }
       }
      }
     },
     "metadata": {},
     "output_type": "display_data"
    }
   ],
   "source": [
    "plotPCoA(DataReverseTransform(data_SVD, raw_data))"
   ]
  },
  {
   "cell_type": "markdown",
   "metadata": {},
   "source": [
    "### PLSDA-batch"
   ]
  },
  {
   "cell_type": "code",
   "execution_count": 17,
   "metadata": {},
   "outputs": [],
   "source": [
    "data_PLSDA = correctPLSDA_batch(data)"
   ]
  },
  {
   "cell_type": "code",
   "execution_count": 19,
   "metadata": {},
   "outputs": [
    {
     "data": {
      "application/vnd.plotly.v1+json": {
       "config": {
        "plotlyServerURL": "https://plot.ly"
       },
       "data": [
        {
         "legendgroup": "1",
         "legendgrouptitle": {
          "text": "Batch 1"
         },
         "marker": {
          "color": [
           "blue",
           "blue",
           "blue",
           "blue",
           "blue",
           "blue",
           "blue",
           "blue"
          ],
          "size": 8,
          "symbol": [
           "circle",
           "circle",
           "circle",
           "circle",
           "circle",
           "circle",
           "circle",
           "circle"
          ]
         },
         "mode": "markers",
         "name": "Ectosome",
         "type": "scatter",
         "x": [
          15.01559023148571,
          8.246158431993006,
          -11.696874104927131,
          -12.46773781169169,
          0.2554639585270119,
          7.8274527472359985,
          12.436045592265792,
          1.2238979690516114
         ],
         "y": [
          14.719276529384832,
          -2.4630925986453867,
          2.8270141245938945,
          2.4651154514454836,
          -7.652027548249752,
          -3.109567391562784,
          2.450049824635151,
          -8.900638455460431
         ]
        },
        {
         "legendgroup": "1",
         "legendgrouptitle": {
          "text": "Batch 1"
         },
         "marker": {
          "color": [
           "blue",
           "blue",
           "blue",
           "blue",
           "blue",
           "blue",
           "blue",
           "blue"
          ],
          "size": 8,
          "symbol": [
           "square",
           "square",
           "square",
           "square",
           "square",
           "square",
           "square",
           "square"
          ]
         },
         "mode": "markers",
         "name": "Choanosome",
         "type": "scatter",
         "x": [
          0.4658063557923925,
          0.3148023550753698,
          -11.607072713154098,
          -11.978700973813378,
          -12.233212595265227,
          1.1466813058553267,
          0.8671190070777243,
          0.9304508413006867
         ],
         "y": [
          -7.131934364106904,
          -7.299354757316224,
          2.7310800209898565,
          3.453117644517343,
          3.1076644626590406,
          -6.3155895026459605,
          -6.653280054565527,
          -6.789612265266564
         ]
        },
        {
         "legendgroup": "2",
         "legendgrouptitle": {
          "text": "Batch 2"
         },
         "marker": {
          "color": [
           "red",
           "red",
           "red",
           "red",
           "red",
           "red",
           "red",
           "red"
          ],
          "size": 8,
          "symbol": [
           "circle",
           "circle",
           "circle",
           "circle",
           "circle",
           "circle",
           "circle",
           "circle"
          ]
         },
         "mode": "markers",
         "name": "Ectosome",
         "type": "scatter",
         "x": [
          14.996771416017118,
          15.018306405555697,
          8.458630956262997,
          -11.093107022921465,
          4.000333167977532,
          16.22417114248896,
          4.647119063354405,
          11.348104358438528
         ],
         "y": [
          14.792373242208527,
          14.787707914327825,
          -4.088501509967309,
          12.578080463165252,
          -0.48537381275858565,
          -0.24519563624829877,
          -10.722539754814806,
          -5.7511120926104375
         ]
        },
        {
         "legendgroup": "2",
         "legendgrouptitle": {
          "text": "Batch 2"
         },
         "marker": {
          "color": [
           "red",
           "red",
           "red",
           "red",
           "red",
           "red",
           "red",
           "red"
          ],
          "size": 8,
          "symbol": [
           "square",
           "square",
           "square",
           "square",
           "square",
           "square",
           "square",
           "square"
          ]
         },
         "mode": "markers",
         "name": "Choanosome",
         "type": "scatter",
         "x": [
          -7.9135036408120545,
          -6.497837380797486,
          -12.578489489955174,
          -13.15318652666863,
          -9.452328198724283,
          -2.254644425189099,
          -1.1124854540427827,
          0.6162750322066363
         ],
         "y": [
          -1.8769117909929212,
          -2.243238822185664,
          1.802807084053265,
          13.706784654744729,
          1.2371071410128158,
          -10.901608932535886,
          -9.53220516251,
          11.503605894705409
         ]
        }
       ],
       "layout": {
        "template": {
         "data": {
          "bar": [
           {
            "error_x": {
             "color": "#2a3f5f"
            },
            "error_y": {
             "color": "#2a3f5f"
            },
            "marker": {
             "line": {
              "color": "#E5ECF6",
              "width": 0.5
             },
             "pattern": {
              "fillmode": "overlay",
              "size": 10,
              "solidity": 0.2
             }
            },
            "type": "bar"
           }
          ],
          "barpolar": [
           {
            "marker": {
             "line": {
              "color": "#E5ECF6",
              "width": 0.5
             },
             "pattern": {
              "fillmode": "overlay",
              "size": 10,
              "solidity": 0.2
             }
            },
            "type": "barpolar"
           }
          ],
          "carpet": [
           {
            "aaxis": {
             "endlinecolor": "#2a3f5f",
             "gridcolor": "white",
             "linecolor": "white",
             "minorgridcolor": "white",
             "startlinecolor": "#2a3f5f"
            },
            "baxis": {
             "endlinecolor": "#2a3f5f",
             "gridcolor": "white",
             "linecolor": "white",
             "minorgridcolor": "white",
             "startlinecolor": "#2a3f5f"
            },
            "type": "carpet"
           }
          ],
          "choropleth": [
           {
            "colorbar": {
             "outlinewidth": 0,
             "ticks": ""
            },
            "type": "choropleth"
           }
          ],
          "contour": [
           {
            "colorbar": {
             "outlinewidth": 0,
             "ticks": ""
            },
            "colorscale": [
             [
              0,
              "#0d0887"
             ],
             [
              0.1111111111111111,
              "#46039f"
             ],
             [
              0.2222222222222222,
              "#7201a8"
             ],
             [
              0.3333333333333333,
              "#9c179e"
             ],
             [
              0.4444444444444444,
              "#bd3786"
             ],
             [
              0.5555555555555556,
              "#d8576b"
             ],
             [
              0.6666666666666666,
              "#ed7953"
             ],
             [
              0.7777777777777778,
              "#fb9f3a"
             ],
             [
              0.8888888888888888,
              "#fdca26"
             ],
             [
              1,
              "#f0f921"
             ]
            ],
            "type": "contour"
           }
          ],
          "contourcarpet": [
           {
            "colorbar": {
             "outlinewidth": 0,
             "ticks": ""
            },
            "type": "contourcarpet"
           }
          ],
          "heatmap": [
           {
            "colorbar": {
             "outlinewidth": 0,
             "ticks": ""
            },
            "colorscale": [
             [
              0,
              "#0d0887"
             ],
             [
              0.1111111111111111,
              "#46039f"
             ],
             [
              0.2222222222222222,
              "#7201a8"
             ],
             [
              0.3333333333333333,
              "#9c179e"
             ],
             [
              0.4444444444444444,
              "#bd3786"
             ],
             [
              0.5555555555555556,
              "#d8576b"
             ],
             [
              0.6666666666666666,
              "#ed7953"
             ],
             [
              0.7777777777777778,
              "#fb9f3a"
             ],
             [
              0.8888888888888888,
              "#fdca26"
             ],
             [
              1,
              "#f0f921"
             ]
            ],
            "type": "heatmap"
           }
          ],
          "heatmapgl": [
           {
            "colorbar": {
             "outlinewidth": 0,
             "ticks": ""
            },
            "colorscale": [
             [
              0,
              "#0d0887"
             ],
             [
              0.1111111111111111,
              "#46039f"
             ],
             [
              0.2222222222222222,
              "#7201a8"
             ],
             [
              0.3333333333333333,
              "#9c179e"
             ],
             [
              0.4444444444444444,
              "#bd3786"
             ],
             [
              0.5555555555555556,
              "#d8576b"
             ],
             [
              0.6666666666666666,
              "#ed7953"
             ],
             [
              0.7777777777777778,
              "#fb9f3a"
             ],
             [
              0.8888888888888888,
              "#fdca26"
             ],
             [
              1,
              "#f0f921"
             ]
            ],
            "type": "heatmapgl"
           }
          ],
          "histogram": [
           {
            "marker": {
             "pattern": {
              "fillmode": "overlay",
              "size": 10,
              "solidity": 0.2
             }
            },
            "type": "histogram"
           }
          ],
          "histogram2d": [
           {
            "colorbar": {
             "outlinewidth": 0,
             "ticks": ""
            },
            "colorscale": [
             [
              0,
              "#0d0887"
             ],
             [
              0.1111111111111111,
              "#46039f"
             ],
             [
              0.2222222222222222,
              "#7201a8"
             ],
             [
              0.3333333333333333,
              "#9c179e"
             ],
             [
              0.4444444444444444,
              "#bd3786"
             ],
             [
              0.5555555555555556,
              "#d8576b"
             ],
             [
              0.6666666666666666,
              "#ed7953"
             ],
             [
              0.7777777777777778,
              "#fb9f3a"
             ],
             [
              0.8888888888888888,
              "#fdca26"
             ],
             [
              1,
              "#f0f921"
             ]
            ],
            "type": "histogram2d"
           }
          ],
          "histogram2dcontour": [
           {
            "colorbar": {
             "outlinewidth": 0,
             "ticks": ""
            },
            "colorscale": [
             [
              0,
              "#0d0887"
             ],
             [
              0.1111111111111111,
              "#46039f"
             ],
             [
              0.2222222222222222,
              "#7201a8"
             ],
             [
              0.3333333333333333,
              "#9c179e"
             ],
             [
              0.4444444444444444,
              "#bd3786"
             ],
             [
              0.5555555555555556,
              "#d8576b"
             ],
             [
              0.6666666666666666,
              "#ed7953"
             ],
             [
              0.7777777777777778,
              "#fb9f3a"
             ],
             [
              0.8888888888888888,
              "#fdca26"
             ],
             [
              1,
              "#f0f921"
             ]
            ],
            "type": "histogram2dcontour"
           }
          ],
          "mesh3d": [
           {
            "colorbar": {
             "outlinewidth": 0,
             "ticks": ""
            },
            "type": "mesh3d"
           }
          ],
          "parcoords": [
           {
            "line": {
             "colorbar": {
              "outlinewidth": 0,
              "ticks": ""
             }
            },
            "type": "parcoords"
           }
          ],
          "pie": [
           {
            "automargin": true,
            "type": "pie"
           }
          ],
          "scatter": [
           {
            "fillpattern": {
             "fillmode": "overlay",
             "size": 10,
             "solidity": 0.2
            },
            "type": "scatter"
           }
          ],
          "scatter3d": [
           {
            "line": {
             "colorbar": {
              "outlinewidth": 0,
              "ticks": ""
             }
            },
            "marker": {
             "colorbar": {
              "outlinewidth": 0,
              "ticks": ""
             }
            },
            "type": "scatter3d"
           }
          ],
          "scattercarpet": [
           {
            "marker": {
             "colorbar": {
              "outlinewidth": 0,
              "ticks": ""
             }
            },
            "type": "scattercarpet"
           }
          ],
          "scattergeo": [
           {
            "marker": {
             "colorbar": {
              "outlinewidth": 0,
              "ticks": ""
             }
            },
            "type": "scattergeo"
           }
          ],
          "scattergl": [
           {
            "marker": {
             "colorbar": {
              "outlinewidth": 0,
              "ticks": ""
             }
            },
            "type": "scattergl"
           }
          ],
          "scattermapbox": [
           {
            "marker": {
             "colorbar": {
              "outlinewidth": 0,
              "ticks": ""
             }
            },
            "type": "scattermapbox"
           }
          ],
          "scatterpolar": [
           {
            "marker": {
             "colorbar": {
              "outlinewidth": 0,
              "ticks": ""
             }
            },
            "type": "scatterpolar"
           }
          ],
          "scatterpolargl": [
           {
            "marker": {
             "colorbar": {
              "outlinewidth": 0,
              "ticks": ""
             }
            },
            "type": "scatterpolargl"
           }
          ],
          "scatterternary": [
           {
            "marker": {
             "colorbar": {
              "outlinewidth": 0,
              "ticks": ""
             }
            },
            "type": "scatterternary"
           }
          ],
          "surface": [
           {
            "colorbar": {
             "outlinewidth": 0,
             "ticks": ""
            },
            "colorscale": [
             [
              0,
              "#0d0887"
             ],
             [
              0.1111111111111111,
              "#46039f"
             ],
             [
              0.2222222222222222,
              "#7201a8"
             ],
             [
              0.3333333333333333,
              "#9c179e"
             ],
             [
              0.4444444444444444,
              "#bd3786"
             ],
             [
              0.5555555555555556,
              "#d8576b"
             ],
             [
              0.6666666666666666,
              "#ed7953"
             ],
             [
              0.7777777777777778,
              "#fb9f3a"
             ],
             [
              0.8888888888888888,
              "#fdca26"
             ],
             [
              1,
              "#f0f921"
             ]
            ],
            "type": "surface"
           }
          ],
          "table": [
           {
            "cells": {
             "fill": {
              "color": "#EBF0F8"
             },
             "line": {
              "color": "white"
             }
            },
            "header": {
             "fill": {
              "color": "#C8D4E3"
             },
             "line": {
              "color": "white"
             }
            },
            "type": "table"
           }
          ]
         },
         "layout": {
          "annotationdefaults": {
           "arrowcolor": "#2a3f5f",
           "arrowhead": 0,
           "arrowwidth": 1
          },
          "autotypenumbers": "strict",
          "coloraxis": {
           "colorbar": {
            "outlinewidth": 0,
            "ticks": ""
           }
          },
          "colorscale": {
           "diverging": [
            [
             0,
             "#8e0152"
            ],
            [
             0.1,
             "#c51b7d"
            ],
            [
             0.2,
             "#de77ae"
            ],
            [
             0.3,
             "#f1b6da"
            ],
            [
             0.4,
             "#fde0ef"
            ],
            [
             0.5,
             "#f7f7f7"
            ],
            [
             0.6,
             "#e6f5d0"
            ],
            [
             0.7,
             "#b8e186"
            ],
            [
             0.8,
             "#7fbc41"
            ],
            [
             0.9,
             "#4d9221"
            ],
            [
             1,
             "#276419"
            ]
           ],
           "sequential": [
            [
             0,
             "#0d0887"
            ],
            [
             0.1111111111111111,
             "#46039f"
            ],
            [
             0.2222222222222222,
             "#7201a8"
            ],
            [
             0.3333333333333333,
             "#9c179e"
            ],
            [
             0.4444444444444444,
             "#bd3786"
            ],
            [
             0.5555555555555556,
             "#d8576b"
            ],
            [
             0.6666666666666666,
             "#ed7953"
            ],
            [
             0.7777777777777778,
             "#fb9f3a"
            ],
            [
             0.8888888888888888,
             "#fdca26"
            ],
            [
             1,
             "#f0f921"
            ]
           ],
           "sequentialminus": [
            [
             0,
             "#0d0887"
            ],
            [
             0.1111111111111111,
             "#46039f"
            ],
            [
             0.2222222222222222,
             "#7201a8"
            ],
            [
             0.3333333333333333,
             "#9c179e"
            ],
            [
             0.4444444444444444,
             "#bd3786"
            ],
            [
             0.5555555555555556,
             "#d8576b"
            ],
            [
             0.6666666666666666,
             "#ed7953"
            ],
            [
             0.7777777777777778,
             "#fb9f3a"
            ],
            [
             0.8888888888888888,
             "#fdca26"
            ],
            [
             1,
             "#f0f921"
            ]
           ]
          },
          "colorway": [
           "#636efa",
           "#EF553B",
           "#00cc96",
           "#ab63fa",
           "#FFA15A",
           "#19d3f3",
           "#FF6692",
           "#B6E880",
           "#FF97FF",
           "#FECB52"
          ],
          "font": {
           "color": "#2a3f5f"
          },
          "geo": {
           "bgcolor": "white",
           "lakecolor": "white",
           "landcolor": "#E5ECF6",
           "showlakes": true,
           "showland": true,
           "subunitcolor": "white"
          },
          "hoverlabel": {
           "align": "left"
          },
          "hovermode": "closest",
          "mapbox": {
           "style": "light"
          },
          "paper_bgcolor": "white",
          "plot_bgcolor": "#E5ECF6",
          "polar": {
           "angularaxis": {
            "gridcolor": "white",
            "linecolor": "white",
            "ticks": ""
           },
           "bgcolor": "#E5ECF6",
           "radialaxis": {
            "gridcolor": "white",
            "linecolor": "white",
            "ticks": ""
           }
          },
          "scene": {
           "xaxis": {
            "backgroundcolor": "#E5ECF6",
            "gridcolor": "white",
            "gridwidth": 2,
            "linecolor": "white",
            "showbackground": true,
            "ticks": "",
            "zerolinecolor": "white"
           },
           "yaxis": {
            "backgroundcolor": "#E5ECF6",
            "gridcolor": "white",
            "gridwidth": 2,
            "linecolor": "white",
            "showbackground": true,
            "ticks": "",
            "zerolinecolor": "white"
           },
           "zaxis": {
            "backgroundcolor": "#E5ECF6",
            "gridcolor": "white",
            "gridwidth": 2,
            "linecolor": "white",
            "showbackground": true,
            "ticks": "",
            "zerolinecolor": "white"
           }
          },
          "shapedefaults": {
           "line": {
            "color": "#2a3f5f"
           }
          },
          "ternary": {
           "aaxis": {
            "gridcolor": "white",
            "linecolor": "white",
            "ticks": ""
           },
           "baxis": {
            "gridcolor": "white",
            "linecolor": "white",
            "ticks": ""
           },
           "bgcolor": "#E5ECF6",
           "caxis": {
            "gridcolor": "white",
            "linecolor": "white",
            "ticks": ""
           }
          },
          "title": {
           "x": 0.05
          },
          "xaxis": {
           "automargin": true,
           "gridcolor": "white",
           "linecolor": "white",
           "ticks": "",
           "title": {
            "standoff": 15
           },
           "zerolinecolor": "white",
           "zerolinewidth": 2
          },
          "yaxis": {
           "automargin": true,
           "gridcolor": "white",
           "linecolor": "white",
           "ticks": "",
           "title": {
            "standoff": 15
           },
           "zerolinecolor": "white",
           "zerolinewidth": 2
          }
         }
        }
       }
      }
     },
     "metadata": {},
     "output_type": "display_data"
    }
   ],
   "source": [
    "plotPCoA(DataReverseTransform(data_PLSDA, raw_data))"
   ]
  },
  {
   "cell_type": "markdown",
   "metadata": {},
   "source": [
    "### ConQuR"
   ]
  },
  {
   "cell_type": "markdown",
   "metadata": {},
   "source": [
    "## Batch Effect Quantitative Metrics"
   ]
  },
  {
   "cell_type": "markdown",
   "metadata": {},
   "source": [
    "### kBET"
   ]
  },
  {
   "cell_type": "code",
   "execution_count": null,
   "metadata": {},
   "outputs": [],
   "source": [
    "print(\"kBET with original data: {}\".format(kBET(data)))\n",
    "print(\"kBET with ComBat corrected data: {}\".format(kBET(data_combat)))\n",
    "print(\"kBET with limma corrected data: {}\".format(kBET(data_limma)))\n",
    "print(\"kBET with SVD-based corrected data: {}\".format(kBET(data_SVD)))\n",
    "print(\"kBET with PLSDA-batch corrected data: {}\".format(kBET(data_PLSDA)))"
   ]
  },
  {
   "cell_type": "markdown",
   "metadata": {},
   "source": [
    "### LISI"
   ]
  },
  {
   "cell_type": "code",
   "execution_count": null,
   "metadata": {},
   "outputs": [],
   "source": [
    "print(\"iLISI with original data: {}\".format(iLISI(data)))\n",
    "print(\"iLISI with ComBat corrected data: {}\".format(iLISI(data_combat)))\n",
    "print(\"iLISI with limma corrected data: {}\".format(iLISI(data_limma)))\n",
    "print(\"iLISI with SVD-based corrected data: {}\".format(iLISI(data_SVD)))\n",
    "print(\"iLISI with PLSDA-batch corrected data: {}\".format(iLISI(data_PLSDA)))\n",
    "\n",
    "print(\"cLISI with original data: {}\".format(cLISI(data)))\n",
    "print(\"cLISI with ComBat corrected data: {}\".format(cLISI(data_combat)))\n",
    "print(\"cLISI with limma corrected data: {}\".format(cLISI(data_limma)))\n",
    "print(\"cLISI with SVD-based corrected data: {}\".format(cLISI(data_SVD)))\n",
    "print(\"cLISI with PLSDA-batch corrected data: {}\".format(cLISI(data_PLSDA)))"
   ]
  },
  {
   "cell_type": "markdown",
   "metadata": {},
   "source": [
    "### ASW"
   ]
  },
  {
   "cell_type": "code",
   "execution_count": null,
   "metadata": {},
   "outputs": [],
   "source": [
    "print(\"ASW with original data: {}\".format(ASW(data)))\n",
    "print(\"ASW with ComBat corrected data: {}\".format(ASW(data_combat)))\n",
    "print(\"ASW with limma corrected data: {}\".format(ASW(data_limma)))\n",
    "print(\"ASW with SVD-based corrected data: {}\".format(ASW(data_SVD)))\n",
    "print(\"ASW with PLSDA-batch corrected data: {}\".format(ASW(data_PLSDA)))"
   ]
  },
  {
   "cell_type": "markdown",
   "metadata": {},
   "source": [
    "### ARI"
   ]
  },
  {
   "cell_type": "code",
   "execution_count": null,
   "metadata": {},
   "outputs": [],
   "source": [
    "print(\"ARI with original data: {}\".format(ARI(data)))\n",
    "print(\"ARI with ComBat corrected data: {}\".format(ARI(data_combat)))\n",
    "print(\"ARI with limma corrected data: {}\".format(ARI(data_limma)))\n",
    "print(\"ARI with SVD-based corrected data: {}\".format(ARI(data_SVD)))\n",
    "print(\"ARI with PLSDA-batch corrected data: {}\".format(ARI(data_PLSDA)))"
   ]
  },
  {
   "cell_type": "markdown",
   "metadata": {},
   "source": [
    "## Case Study: Batch Effect Correction DRE analysis"
   ]
  },
  {
   "cell_type": "markdown",
   "metadata": {},
   "source": [
    "### PERMANOVA analysis between tissues"
   ]
  },
  {
   "cell_type": "code",
   "execution_count": null,
   "metadata": {},
   "outputs": [],
   "source": [
    "sample_ids = data[\"sample\"].tolist() \n",
    "tissue_labels = data.set_index(\"sample\").loc[sample_ids, \"tissue\"].tolist()\n",
    "\n",
    "euclidean_dist = squareform(pdist(data.select_dtypes(include=\"number\"), metric=\"euclidean\"))\n",
    "distance_matrix = DistanceMatrix(euclidean_dist, ids = sample_ids)\n",
    "\n",
    "permanova(distance_matrix, grouping=tissue_labels)"
   ]
  },
  {
   "cell_type": "code",
   "execution_count": null,
   "metadata": {},
   "outputs": [],
   "source": [
    "sample_ids = data_combat[\"sample\"].tolist() \n",
    "tissue_labels = data_combat.set_index(\"sample\").loc[sample_ids, \"tissue\"].tolist()\n",
    "\n",
    "euclidean_dist = squareform(pdist(data_combat.select_dtypes(include=\"number\"), metric=\"euclidean\"))\n",
    "distance_matrix = DistanceMatrix(euclidean_dist, ids = sample_ids)\n",
    "\n",
    "permanova(distance_matrix, grouping=tissue_labels)"
   ]
  },
  {
   "cell_type": "code",
   "execution_count": null,
   "metadata": {},
   "outputs": [],
   "source": [
    "sample_ids = data_limma[\"sample\"].tolist() \n",
    "tissue_labels = data_limma.set_index(\"sample\").loc[sample_ids, \"tissue\"].tolist()\n",
    "\n",
    "euclidean_dist = squareform(pdist(data_limma.select_dtypes(include=\"number\"), metric=\"euclidean\"))\n",
    "distance_matrix = DistanceMatrix(euclidean_dist, ids = sample_ids)\n",
    "\n",
    "permanova(distance_matrix, grouping=tissue_labels)"
   ]
  },
  {
   "cell_type": "markdown",
   "metadata": {},
   "source": [
    "### DRE Analysis"
   ]
  },
  {
   "cell_type": "markdown",
   "metadata": {},
   "source": [
    "#### Construct data with different transformations"
   ]
  },
  {
   "cell_type": "code",
   "execution_count": null,
   "metadata": {},
   "outputs": [],
   "source": [
    "#Loading data with CLR transformations\n",
    "data_sqrt = DataPreprocess(path, preprocess=True, transformation = \"Sqrt\")\n",
    "data_clr = DataPreprocess(path, preprocess=True, transformation = \"CLR\")"
   ]
  },
  {
   "cell_type": "markdown",
   "metadata": {},
   "source": [
    "#### Identify significantly different OTUs between tissues"
   ]
  },
  {
   "cell_type": "markdown",
   "metadata": {},
   "source": [
    "##### Square-root transformed data"
   ]
  },
  {
   "cell_type": "code",
   "execution_count": null,
   "metadata": {},
   "outputs": [],
   "source": [
    "# Store results\n",
    "otu_results = []\n",
    "\n",
    "# Perform Mann-Whitney for each OTU\n",
    "for otu in data_sqrt.select_dtypes(include=\"number\").columns:\n",
    "    group_E = data_sqrt.loc[data_sqrt[\"tissue\"] == \"Ectosome\", otu]\n",
    "    group_C = data_sqrt.loc[data_sqrt[\"tissue\"] == \"Choanosome\", otu]\n",
    "\n",
    "    #Mann-Whitney\n",
    "    stat, p_value = mannwhitneyu(group_E, group_C, alternative=\"two-sided\")\n",
    "\n",
    "    #Only store significant results\n",
    "    if p_value < 0.05:\n",
    "        #Append results\n",
    "        otu_results.append({\"OTU\": otu, \"U-statistic\": stat, \"p-value\": p_value})\n",
    "\n",
    "# Convert to DataFrame\n",
    "otu_results_df = pd.DataFrame(otu_results)\n",
    "\n",
    "# Display results\n",
    "print(otu_results_df.sort_values(by=\"p-value\"))"
   ]
  },
  {
   "cell_type": "code",
   "execution_count": null,
   "metadata": {},
   "outputs": [],
   "source": [
    "#Applying ComBat\n",
    "data_sqrt_combat = correctCombat(data_sqrt)\n",
    "\n",
    "# Store results\n",
    "otu_results = []\n",
    "\n",
    "# Perform Mann-Whitney for each OTU\n",
    "for otu in data_sqrt_combat.select_dtypes(include=\"number\").columns:\n",
    "    group_E = data_sqrt_combat.loc[data_sqrt_combat[\"tissue\"] == \"Ectosome\", otu]\n",
    "    group_C = data_sqrt_combat.loc[data_sqrt_combat[\"tissue\"] == \"Choanosome\", otu]\n",
    "\n",
    "    #Mann-Whitney\n",
    "    stat, p_value = mannwhitneyu(group_E, group_C, alternative=\"two-sided\")\n",
    "\n",
    "    #Only store significant results\n",
    "    if p_value < 0.05:\n",
    "        #Append results\n",
    "        otu_results.append({\"OTU\": otu, \"U-statistic\": stat, \"p-value\": p_value})\n",
    "\n",
    "# Convert to DataFrame\n",
    "otu_results_df = pd.DataFrame(otu_results)\n",
    "\n",
    "# Display results\n",
    "print(otu_results_df.sort_values(by=\"p-value\"))"
   ]
  },
  {
   "cell_type": "code",
   "execution_count": null,
   "metadata": {},
   "outputs": [],
   "source": [
    "#Applying limma - removeBatchEffect\n",
    "data_sqrt_limma = correctLimma_rBE(data_sqrt, covariates_labels=[\"tissue\"])\n",
    "\n",
    "# Store results\n",
    "otu_results = []\n",
    "\n",
    "# Perform Mann-Whitney for each OTU\n",
    "for otu in data_sqrt_limma.select_dtypes(include=\"number\").columns:\n",
    "    group_E = data_sqrt_limma.loc[data_sqrt_limma[\"tissue\"] == \"Ectosome\", otu]\n",
    "    group_C = data_sqrt_limma.loc[data_sqrt_limma[\"tissue\"] == \"Choanosome\", otu]\n",
    "\n",
    "    #Mann-Whitney\n",
    "    stat, p_value = mannwhitneyu(group_E, group_C, alternative=\"two-sided\")\n",
    "\n",
    "    #Only store significant results\n",
    "    if p_value < 0.05:\n",
    "        #Append results\n",
    "        otu_results.append({\"OTU\": otu, \"U-statistic\": stat, \"p-value\": p_value})\n",
    "\n",
    "# Convert to DataFrame\n",
    "otu_results_df = pd.DataFrame(otu_results)\n",
    "\n",
    "# Display results\n",
    "print(otu_results_df.sort_values(by=\"p-value\"))"
   ]
  },
  {
   "cell_type": "markdown",
   "metadata": {},
   "source": [
    "By correcting with ComBat OTUs 18, 14, 17 and 12 where added as significantly different\n",
    "\n",
    "By correcting with limma OTUs 14 and 17 where added as significantly different"
   ]
  },
  {
   "cell_type": "code",
   "execution_count": null,
   "metadata": {},
   "outputs": [],
   "source": [
    "#Applying SVD\n",
    "data_sqrt_svd = correctSVD(data_sqrt)\n",
    "\n",
    "# Store results\n",
    "otu_results = []\n",
    "\n",
    "# Perform Mann-Whitney for each OTU\n",
    "for otu in data_sqrt_svd.select_dtypes(include=\"number\").columns:\n",
    "    group_E = data_sqrt_svd.loc[data_sqrt_svd[\"tissue\"] == \"Ectosome\", otu]\n",
    "    group_C = data_sqrt_svd.loc[data_sqrt_svd[\"tissue\"] == \"Choanosome\", otu]\n",
    "\n",
    "    #Mann-Whitney\n",
    "    stat, p_value = mannwhitneyu(group_E, group_C, alternative=\"two-sided\")\n",
    "\n",
    "    #Only store significant results\n",
    "    if p_value < 0.05:\n",
    "        #Append results\n",
    "        otu_results.append({\"OTU\": otu, \"U-statistic\": stat, \"p-value\": p_value})\n",
    "\n",
    "# Convert to DataFrame\n",
    "otu_results_df = pd.DataFrame(otu_results)\n",
    "\n",
    "# Display results\n",
    "print(otu_results_df.sort_values(by=\"p-value\"))"
   ]
  },
  {
   "cell_type": "code",
   "execution_count": null,
   "metadata": {},
   "outputs": [],
   "source": [
    "#Applying PLSDA-batch\n",
    "data_sqrt_plsda = correctPLSDA_batch(data_sqrt)\n",
    "\n",
    "# Store results\n",
    "otu_results = []\n",
    "\n",
    "# Perform Mann-Whitney for each OTU\n",
    "for otu in data_sqrt_plsda.select_dtypes(include=\"number\").columns:\n",
    "    group_E = data_sqrt_plsda.loc[data_sqrt_plsda[\"tissue\"] == \"Ectosome\", otu]\n",
    "    group_C = data_sqrt_plsda.loc[data_sqrt_plsda[\"tissue\"] == \"Choanosome\", otu]\n",
    "\n",
    "    #Mann-Whitney\n",
    "    stat, p_value = mannwhitneyu(group_E, group_C, alternative=\"two-sided\")\n",
    "\n",
    "    #Only store significant results\n",
    "    if p_value < 0.05:\n",
    "        #Append results\n",
    "        otu_results.append({\"OTU\": otu, \"U-statistic\": stat, \"p-value\": p_value})\n",
    "\n",
    "# Convert to DataFrame\n",
    "otu_results_df = pd.DataFrame(otu_results)\n",
    "\n",
    "# Display results\n",
    "print(otu_results_df.sort_values(by=\"p-value\"))"
   ]
  },
  {
   "cell_type": "markdown",
   "metadata": {},
   "source": [
    "##### Center log-ratio transformed data"
   ]
  },
  {
   "cell_type": "code",
   "execution_count": null,
   "metadata": {},
   "outputs": [],
   "source": [
    "# Store results\n",
    "otu_results = []\n",
    "\n",
    "# Perform Mann-Whitney for each OTU\n",
    "for otu in data_clr.select_dtypes(include=\"number\").columns:\n",
    "    group_E = data_clr.loc[data_sqrt[\"tissue\"] == \"Ectosome\", otu]\n",
    "    group_C = data_clr.loc[data_sqrt[\"tissue\"] == \"Choanosome\", otu]\n",
    "\n",
    "    #Mann-Whitney\n",
    "    stat, p_value = mannwhitneyu(group_E, group_C, alternative=\"two-sided\")\n",
    "\n",
    "    #Only store significant results\n",
    "    if p_value < 0.05:\n",
    "        #Append results\n",
    "        otu_results.append({\"OTU\": otu, \"U-statistic\": stat, \"p-value\": p_value})\n",
    "\n",
    "# Convert to DataFrame\n",
    "otu_results_df = pd.DataFrame(otu_results)\n",
    "\n",
    "# Display results\n",
    "print(otu_results_df)"
   ]
  },
  {
   "cell_type": "code",
   "execution_count": null,
   "metadata": {},
   "outputs": [],
   "source": [
    "#Applying ComBat\n",
    "data_clr_combat = correctCombat(data_clr)\n",
    "\n",
    "# Store results\n",
    "otu_results = []\n",
    "\n",
    "# Perform Mann-Whitney for each OTU\n",
    "for otu in data_clr_combat.select_dtypes(include=\"number\").columns:\n",
    "    group_E = data_clr_combat.loc[data_clr_combat[\"tissue\"] == \"Ectosome\", otu]\n",
    "    group_C = data_clr_combat.loc[data_clr_combat[\"tissue\"] == \"Choanosome\", otu]\n",
    "\n",
    "    #Mann-Whitney\n",
    "    stat, p_value = mannwhitneyu(group_E, group_C, alternative=\"two-sided\")\n",
    "\n",
    "    #Only store significant results\n",
    "    if p_value < 0.05:\n",
    "        #Append results\n",
    "        otu_results.append({\"OTU\": otu, \"U-statistic\": stat, \"p-value\": p_value})\n",
    "\n",
    "# Convert to DataFrame\n",
    "otu_results_df = pd.DataFrame(otu_results)\n",
    "\n",
    "# Display results\n",
    "print(otu_results_df)"
   ]
  },
  {
   "cell_type": "code",
   "execution_count": null,
   "metadata": {},
   "outputs": [],
   "source": [
    "#Applying limma - removeBatchEffect\n",
    "data_clr_limma = correctLimma_rBE(data_clr, covariates_labels=[\"tissue\"])\n",
    "\n",
    "# Store results\n",
    "otu_results = []\n",
    "\n",
    "# Perform Mann-Whitney for each OTU\n",
    "for otu in data_clr_limma.select_dtypes(include=\"number\").columns:\n",
    "    group_E = data_clr_limma.loc[data_clr_limma[\"tissue\"] == \"Ectosome\", otu]\n",
    "    group_C = data_clr_limma.loc[data_clr_limma[\"tissue\"] == \"Choanosome\", otu]\n",
    "\n",
    "    #Mann-Whitney\n",
    "    stat, p_value = mannwhitneyu(group_E, group_C, alternative=\"two-sided\")\n",
    "\n",
    "    #Only store significant results\n",
    "    if p_value < 0.05:\n",
    "        #Append results\n",
    "        otu_results.append({\"OTU\": otu, \"U-statistic\": stat, \"p-value\": p_value})\n",
    "\n",
    "# Convert to DataFrame\n",
    "otu_results_df = pd.DataFrame(otu_results)\n",
    "\n",
    "# Display results\n",
    "print(otu_results_df)"
   ]
  },
  {
   "cell_type": "markdown",
   "metadata": {},
   "source": [
    "By applying ComBat OTUs 14, 23 and 24 where added as significantly different, while OTUs 1, 13 and 22 where removed.\n",
    "\n",
    "By applying limma OTUs 14 and 24 where added as significantly different, while OTU 22 was removed."
   ]
  },
  {
   "cell_type": "code",
   "execution_count": null,
   "metadata": {},
   "outputs": [],
   "source": [
    "#Applying SVD\n",
    "data_clr_svd = correctSVD(data_clr)\n",
    "\n",
    "# Store results\n",
    "otu_results = []\n",
    "\n",
    "# Perform Mann-Whitney for each OTU\n",
    "for otu in data_clr_svd.select_dtypes(include=\"number\").columns:\n",
    "    group_E = data_clr_svd.loc[data_clr_svd[\"tissue\"] == \"Ectosome\", otu]\n",
    "    group_C = data_clr_svd.loc[data_clr_svd[\"tissue\"] == \"Choanosome\", otu]\n",
    "\n",
    "    #Mann-Whitney\n",
    "    stat, p_value = mannwhitneyu(group_E, group_C, alternative=\"two-sided\")\n",
    "\n",
    "    #Only store significant results\n",
    "    if p_value < 0.05:\n",
    "        #Append results\n",
    "        otu_results.append({\"OTU\": otu, \"U-statistic\": stat, \"p-value\": p_value})\n",
    "\n",
    "# Convert to DataFrame\n",
    "otu_results_df = pd.DataFrame(otu_results)\n",
    "\n",
    "# Display results\n",
    "print(otu_results_df)"
   ]
  },
  {
   "cell_type": "code",
   "execution_count": null,
   "metadata": {},
   "outputs": [],
   "source": [
    "#Applying PLSDA-batch\n",
    "data_clr_plsda = correctPLSDA_batch(data_clr)\n",
    "\n",
    "# Store results\n",
    "otu_results = []\n",
    "\n",
    "# Perform Mann-Whitney for each OTU\n",
    "for otu in data_clr_plsda.select_dtypes(include=\"number\").columns:\n",
    "    group_E = data_clr_plsda.loc[data_clr_plsda[\"tissue\"] == \"Ectosome\", otu]\n",
    "    group_C = data_clr_plsda.loc[data_clr_plsda[\"tissue\"] == \"Choanosome\", otu]\n",
    "\n",
    "    #Mann-Whitney\n",
    "    stat, p_value = mannwhitneyu(group_E, group_C, alternative=\"two-sided\")\n",
    "\n",
    "    #Only store significant results\n",
    "    if p_value < 0.05:\n",
    "        #Append results\n",
    "        otu_results.append({\"OTU\": otu, \"U-statistic\": stat, \"p-value\": p_value})\n",
    "\n",
    "# Convert to DataFrame\n",
    "otu_results_df = pd.DataFrame(otu_results)\n",
    "\n",
    "# Display results\n",
    "print(otu_results_df)"
   ]
  }
 ],
 "metadata": {
  "kernelspec": {
   "display_name": "beca",
   "language": "python",
   "name": "python3"
  },
  "language_info": {
   "codemirror_mode": {
    "name": "ipython",
    "version": 3
   },
   "file_extension": ".py",
   "mimetype": "text/x-python",
   "name": "python",
   "nbconvert_exporter": "python",
   "pygments_lexer": "ipython3",
   "version": "3.12.6"
  }
 },
 "nbformat": 4,
 "nbformat_minor": 4
}
