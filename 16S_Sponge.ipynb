{
 "cells": [
  {
   "cell_type": "markdown",
   "metadata": {},
   "source": [
    "## Libraries"
   ]
  },
  {
   "cell_type": "code",
   "execution_count": 2,
   "metadata": {},
   "outputs": [],
   "source": [
    "import pandas as pd\n",
    "import numpy as np\n",
    "from scipy.stats import gmean, mannwhitneyu, pearsonr, zscore, chi2\n",
    "from sklearn.decomposition import PCA\n",
    "from sklearn.preprocessing import StandardScaler\n",
    "from sklearn.cross_decomposition import PLSRegression\n",
    "from sklearn.utils import resample\n",
    "from sklearn.feature_selection import VarianceThreshold\n",
    "from sklearn.neighbors import NearestNeighbors\n",
    "from sklearn.metrics import silhouette_score, adjusted_rand_score\n",
    "from sklearn.cluster import KMeans\n",
    "import plotly.express as px\n",
    "import plotly.graph_objects as go\n",
    "from plotly.validators.scatter.marker import SymbolValidator\n",
    "from clustergrammer2 import net, Network, CGM2\n",
    "from BatchEffectDataLoader import DataPreprocess\n",
    "from BatchEffectPlots import plotPCA, plotOTUBox, plotRLE, plotClusterHeatMap\n",
    "from BatchEffectCorrection import correctCombat, correctLimma_rBE, correctSVD, correctPLSDA_batch\n",
    "from BatchEffectMetrics import kBET, iLISI, cLISI, ASW, ARI\n",
    "from skbio.stats.distance import permanova, DistanceMatrix\n",
    "from scipy.spatial.distance import pdist, squareform"
   ]
  },
  {
   "cell_type": "markdown",
   "metadata": {},
   "source": [
    "## Initial data preparation"
   ]
  },
  {
   "cell_type": "code",
   "execution_count": null,
   "metadata": {},
   "outputs": [],
   "source": [
    "path = \"data/dataset_sponge.csv\"\n",
    "data = DataPreprocess(path) #Default settings: "
   ]
  },
  {
   "cell_type": "markdown",
   "metadata": {},
   "source": [
    "## Batch Effect Assessment plots"
   ]
  },
  {
   "cell_type": "markdown",
   "metadata": {},
   "source": [
    "### PCA plot"
   ]
  },
  {
   "cell_type": "code",
   "execution_count": null,
   "metadata": {},
   "outputs": [],
   "source": [
    "plotPCA(data)"
   ]
  },
  {
   "cell_type": "markdown",
   "metadata": {},
   "source": [
    "### OTU Boxplot"
   ]
  },
  {
   "cell_type": "code",
   "execution_count": null,
   "metadata": {},
   "outputs": [],
   "source": [
    "plotOTUBox(data)"
   ]
  },
  {
   "cell_type": "markdown",
   "metadata": {},
   "source": [
    "### RLE plot"
   ]
  },
  {
   "cell_type": "code",
   "execution_count": null,
   "metadata": {},
   "outputs": [],
   "source": [
    "plotRLE(data)"
   ]
  },
  {
   "cell_type": "markdown",
   "metadata": {},
   "source": [
    "### Heat Map cluster"
   ]
  },
  {
   "cell_type": "code",
   "execution_count": null,
   "metadata": {},
   "outputs": [],
   "source": [
    "plotClusterHeatMap(data)"
   ]
  },
  {
   "cell_type": "markdown",
   "metadata": {},
   "source": [
    "## Batch Effect Correction"
   ]
  },
  {
   "cell_type": "markdown",
   "metadata": {},
   "source": [
    "### ComBat"
   ]
  },
  {
   "cell_type": "code",
   "execution_count": null,
   "metadata": {},
   "outputs": [],
   "source": [
    "data_combat = correctCombat(data)"
   ]
  },
  {
   "cell_type": "code",
   "execution_count": null,
   "metadata": {},
   "outputs": [],
   "source": [
    "plotPCA(data_combat)"
   ]
  },
  {
   "cell_type": "markdown",
   "metadata": {},
   "source": [
    "### limma - removeBatchEffect"
   ]
  },
  {
   "cell_type": "code",
   "execution_count": null,
   "metadata": {},
   "outputs": [],
   "source": [
    "data_limma = correctLimma_rBE(data, covariates_labels = [\"tissue\"])"
   ]
  },
  {
   "cell_type": "code",
   "execution_count": null,
   "metadata": {},
   "outputs": [],
   "source": [
    "plotPCA(data_limma)"
   ]
  },
  {
   "cell_type": "markdown",
   "metadata": {},
   "source": [
    "### SVD"
   ]
  },
  {
   "cell_type": "code",
   "execution_count": null,
   "metadata": {},
   "outputs": [],
   "source": [
    "data_SVD = correctSVD(data)"
   ]
  },
  {
   "cell_type": "code",
   "execution_count": null,
   "metadata": {},
   "outputs": [],
   "source": [
    "plotPCA(data_SVD)"
   ]
  },
  {
   "cell_type": "markdown",
   "metadata": {},
   "source": [
    "### PLSDA-batch"
   ]
  },
  {
   "cell_type": "code",
   "execution_count": null,
   "metadata": {},
   "outputs": [],
   "source": [
    "data_PLSDA = correctPLSDA_batch(data)"
   ]
  },
  {
   "cell_type": "code",
   "execution_count": null,
   "metadata": {},
   "outputs": [],
   "source": [
    "plotPCA(data_PLSDA)"
   ]
  },
  {
   "cell_type": "markdown",
   "metadata": {},
   "source": [
    "### ConQuR"
   ]
  },
  {
   "cell_type": "markdown",
   "metadata": {},
   "source": [
    "## Batch Effect Quantitative Metrics"
   ]
  },
  {
   "cell_type": "markdown",
   "metadata": {},
   "source": [
    "### kBET"
   ]
  },
  {
   "cell_type": "code",
   "execution_count": null,
   "metadata": {},
   "outputs": [],
   "source": [
    "print(\"kBET with original data: {}\".format(kBET(data)))\n",
    "print(\"kBET with ComBat corrected data: {}\".format(kBET(data_combat)))\n",
    "print(\"kBET with limma corrected data: {}\".format(kBET(data_limma)))\n",
    "print(\"kBET with SVD-based corrected data: {}\".format(kBET(data_SVD)))\n",
    "print(\"kBET with PLSDA-batch corrected data: {}\".format(kBET(data_PLSDA)))"
   ]
  },
  {
   "cell_type": "markdown",
   "metadata": {},
   "source": [
    "### LISI"
   ]
  },
  {
   "cell_type": "code",
   "execution_count": null,
   "metadata": {},
   "outputs": [],
   "source": [
    "print(\"iLISI with original data: {}\".format(iLISI(data)))\n",
    "print(\"iLISI with ComBat corrected data: {}\".format(iLISI(data_combat)))\n",
    "print(\"iLISI with limma corrected data: {}\".format(iLISI(data_limma)))\n",
    "print(\"iLISI with SVD-based corrected data: {}\".format(iLISI(data_SVD)))\n",
    "print(\"iLISI with PLSDA-batch corrected data: {}\".format(iLISI(data_PLSDA)))\n",
    "\n",
    "print(\"cLISI with original data: {}\".format(cLISI(data)))\n",
    "print(\"cLISI with ComBat corrected data: {}\".format(cLISI(data_combat)))\n",
    "print(\"cLISI with limma corrected data: {}\".format(cLISI(data_limma)))\n",
    "print(\"cLISI with SVD-based corrected data: {}\".format(cLISI(data_SVD)))\n",
    "print(\"cLISI with PLSDA-batch corrected data: {}\".format(cLISI(data_PLSDA)))"
   ]
  },
  {
   "cell_type": "markdown",
   "metadata": {},
   "source": [
    "### ASW"
   ]
  },
  {
   "cell_type": "code",
   "execution_count": null,
   "metadata": {},
   "outputs": [],
   "source": [
    "print(\"ASW with original data: {}\".format(ASW(data)))\n",
    "print(\"ASW with ComBat corrected data: {}\".format(ASW(data_combat)))\n",
    "print(\"ASW with limma corrected data: {}\".format(ASW(data_limma)))\n",
    "print(\"ASW with SVD-based corrected data: {}\".format(ASW(data_SVD)))\n",
    "print(\"ASW with PLSDA-batch corrected data: {}\".format(ASW(data_PLSDA)))"
   ]
  },
  {
   "cell_type": "markdown",
   "metadata": {},
   "source": [
    "### ARI"
   ]
  },
  {
   "cell_type": "code",
   "execution_count": null,
   "metadata": {},
   "outputs": [],
   "source": [
    "print(\"ARI with original data: {}\".format(ARI(data)))\n",
    "print(\"ARI with ComBat corrected data: {}\".format(ARI(data_combat)))\n",
    "print(\"ARI with limma corrected data: {}\".format(ARI(data_limma)))\n",
    "print(\"ARI with SVD-based corrected data: {}\".format(ARI(data_SVD)))\n",
    "print(\"ARI with PLSDA-batch corrected data: {}\".format(ARI(data_PLSDA)))"
   ]
  },
  {
   "cell_type": "markdown",
   "metadata": {},
   "source": [
    "## Case Study: Batch Effect Correction DRE analysis"
   ]
  },
  {
   "cell_type": "markdown",
   "metadata": {},
   "source": [
    "### PERMANOVA analysis between tissues"
   ]
  },
  {
   "cell_type": "code",
   "execution_count": null,
   "metadata": {},
   "outputs": [],
   "source": [
    "sample_ids = data[\"sample\"].tolist() \n",
    "tissue_labels = data.set_index(\"sample\").loc[sample_ids, \"tissue\"].tolist()\n",
    "\n",
    "euclidean_dist = squareform(pdist(data.select_dtypes(include=\"number\"), metric=\"euclidean\"))\n",
    "distance_matrix = DistanceMatrix(euclidean_dist, ids = sample_ids)\n",
    "\n",
    "permanova(distance_matrix, grouping=tissue_labels)"
   ]
  },
  {
   "cell_type": "code",
   "execution_count": null,
   "metadata": {},
   "outputs": [],
   "source": [
    "sample_ids = data_combat[\"sample\"].tolist() \n",
    "tissue_labels = data_combat.set_index(\"sample\").loc[sample_ids, \"tissue\"].tolist()\n",
    "\n",
    "euclidean_dist = squareform(pdist(data_combat.select_dtypes(include=\"number\"), metric=\"euclidean\"))\n",
    "distance_matrix = DistanceMatrix(euclidean_dist, ids = sample_ids)\n",
    "\n",
    "permanova(distance_matrix, grouping=tissue_labels)"
   ]
  },
  {
   "cell_type": "code",
   "execution_count": null,
   "metadata": {},
   "outputs": [],
   "source": [
    "sample_ids = data_limma[\"sample\"].tolist() \n",
    "tissue_labels = data_limma.set_index(\"sample\").loc[sample_ids, \"tissue\"].tolist()\n",
    "\n",
    "euclidean_dist = squareform(pdist(data_limma.select_dtypes(include=\"number\"), metric=\"euclidean\"))\n",
    "distance_matrix = DistanceMatrix(euclidean_dist, ids = sample_ids)\n",
    "\n",
    "permanova(distance_matrix, grouping=tissue_labels)"
   ]
  },
  {
   "cell_type": "markdown",
   "metadata": {},
   "source": [
    "### DRE Analysis"
   ]
  },
  {
   "cell_type": "markdown",
   "metadata": {},
   "source": [
    "#### Construct data with different transformations"
   ]
  },
  {
   "cell_type": "code",
   "execution_count": null,
   "metadata": {},
   "outputs": [],
   "source": [
    "#Loading data with CLR transformations\n",
    "data_sqrt = DataPreprocess(path, preprocess=True, transformation = \"Sqrt\")\n",
    "data_clr = DataPreprocess(path, preprocess=True, transformation = \"CLR\")"
   ]
  },
  {
   "cell_type": "markdown",
   "metadata": {},
   "source": [
    "#### Identify significantly different OTUs between tissues"
   ]
  },
  {
   "cell_type": "markdown",
   "metadata": {},
   "source": [
    "##### Square-root transformed data"
   ]
  },
  {
   "cell_type": "code",
   "execution_count": null,
   "metadata": {},
   "outputs": [],
   "source": [
    "# Store results\n",
    "otu_results = []\n",
    "\n",
    "# Perform Mann-Whitney for each OTU\n",
    "for otu in data_sqrt.select_dtypes(include=\"number\").columns:\n",
    "    group_E = data_sqrt.loc[data_sqrt[\"tissue\"] == \"Ectosome\", otu]\n",
    "    group_C = data_sqrt.loc[data_sqrt[\"tissue\"] == \"Choanosome\", otu]\n",
    "\n",
    "    #Mann-Whitney\n",
    "    stat, p_value = mannwhitneyu(group_E, group_C, alternative=\"two-sided\")\n",
    "\n",
    "    #Only store significant results\n",
    "    if p_value < 0.05:\n",
    "        #Append results\n",
    "        otu_results.append({\"OTU\": otu, \"U-statistic\": stat, \"p-value\": p_value})\n",
    "\n",
    "# Convert to DataFrame\n",
    "otu_results_df = pd.DataFrame(otu_results)\n",
    "\n",
    "# Display results\n",
    "print(otu_results_df.sort_values(by=\"p-value\"))"
   ]
  },
  {
   "cell_type": "code",
   "execution_count": null,
   "metadata": {},
   "outputs": [],
   "source": [
    "#Applying ComBat\n",
    "data_sqrt_combat = correctCombat(data_sqrt)\n",
    "\n",
    "# Store results\n",
    "otu_results = []\n",
    "\n",
    "# Perform Mann-Whitney for each OTU\n",
    "for otu in data_sqrt_combat.select_dtypes(include=\"number\").columns:\n",
    "    group_E = data_sqrt_combat.loc[data_sqrt_combat[\"tissue\"] == \"Ectosome\", otu]\n",
    "    group_C = data_sqrt_combat.loc[data_sqrt_combat[\"tissue\"] == \"Choanosome\", otu]\n",
    "\n",
    "    #Mann-Whitney\n",
    "    stat, p_value = mannwhitneyu(group_E, group_C, alternative=\"two-sided\")\n",
    "\n",
    "    #Only store significant results\n",
    "    if p_value < 0.05:\n",
    "        #Append results\n",
    "        otu_results.append({\"OTU\": otu, \"U-statistic\": stat, \"p-value\": p_value})\n",
    "\n",
    "# Convert to DataFrame\n",
    "otu_results_df = pd.DataFrame(otu_results)\n",
    "\n",
    "# Display results\n",
    "print(otu_results_df.sort_values(by=\"p-value\"))"
   ]
  },
  {
   "cell_type": "code",
   "execution_count": null,
   "metadata": {},
   "outputs": [],
   "source": [
    "#Applying limma - removeBatchEffect\n",
    "data_sqrt_limma = correctLimma_rBE(data_sqrt, covariates_labels=[\"tissue\"])\n",
    "\n",
    "# Store results\n",
    "otu_results = []\n",
    "\n",
    "# Perform Mann-Whitney for each OTU\n",
    "for otu in data_sqrt_limma.select_dtypes(include=\"number\").columns:\n",
    "    group_E = data_sqrt_limma.loc[data_sqrt_limma[\"tissue\"] == \"Ectosome\", otu]\n",
    "    group_C = data_sqrt_limma.loc[data_sqrt_limma[\"tissue\"] == \"Choanosome\", otu]\n",
    "\n",
    "    #Mann-Whitney\n",
    "    stat, p_value = mannwhitneyu(group_E, group_C, alternative=\"two-sided\")\n",
    "\n",
    "    #Only store significant results\n",
    "    if p_value < 0.05:\n",
    "        #Append results\n",
    "        otu_results.append({\"OTU\": otu, \"U-statistic\": stat, \"p-value\": p_value})\n",
    "\n",
    "# Convert to DataFrame\n",
    "otu_results_df = pd.DataFrame(otu_results)\n",
    "\n",
    "# Display results\n",
    "print(otu_results_df.sort_values(by=\"p-value\"))"
   ]
  },
  {
   "cell_type": "markdown",
   "metadata": {},
   "source": [
    "By correcting with ComBat OTUs 18, 14, 17 and 12 where added as significantly different\n",
    "\n",
    "By correcting with limma OTUs 14 and 17 where added as significantly different"
   ]
  },
  {
   "cell_type": "code",
   "execution_count": null,
   "metadata": {},
   "outputs": [],
   "source": [
    "#Applying SVD\n",
    "data_sqrt_svd = correctSVD(data_sqrt)\n",
    "\n",
    "# Store results\n",
    "otu_results = []\n",
    "\n",
    "# Perform Mann-Whitney for each OTU\n",
    "for otu in data_sqrt_svd.select_dtypes(include=\"number\").columns:\n",
    "    group_E = data_sqrt_svd.loc[data_sqrt_svd[\"tissue\"] == \"Ectosome\", otu]\n",
    "    group_C = data_sqrt_svd.loc[data_sqrt_svd[\"tissue\"] == \"Choanosome\", otu]\n",
    "\n",
    "    #Mann-Whitney\n",
    "    stat, p_value = mannwhitneyu(group_E, group_C, alternative=\"two-sided\")\n",
    "\n",
    "    #Only store significant results\n",
    "    if p_value < 0.05:\n",
    "        #Append results\n",
    "        otu_results.append({\"OTU\": otu, \"U-statistic\": stat, \"p-value\": p_value})\n",
    "\n",
    "# Convert to DataFrame\n",
    "otu_results_df = pd.DataFrame(otu_results)\n",
    "\n",
    "# Display results\n",
    "print(otu_results_df.sort_values(by=\"p-value\"))"
   ]
  },
  {
   "cell_type": "code",
   "execution_count": null,
   "metadata": {},
   "outputs": [],
   "source": [
    "#Applying PLSDA-batch\n",
    "data_sqrt_plsda = correctPLSDA_batch(data_sqrt)\n",
    "\n",
    "# Store results\n",
    "otu_results = []\n",
    "\n",
    "# Perform Mann-Whitney for each OTU\n",
    "for otu in data_sqrt_plsda.select_dtypes(include=\"number\").columns:\n",
    "    group_E = data_sqrt_plsda.loc[data_sqrt_plsda[\"tissue\"] == \"Ectosome\", otu]\n",
    "    group_C = data_sqrt_plsda.loc[data_sqrt_plsda[\"tissue\"] == \"Choanosome\", otu]\n",
    "\n",
    "    #Mann-Whitney\n",
    "    stat, p_value = mannwhitneyu(group_E, group_C, alternative=\"two-sided\")\n",
    "\n",
    "    #Only store significant results\n",
    "    if p_value < 0.05:\n",
    "        #Append results\n",
    "        otu_results.append({\"OTU\": otu, \"U-statistic\": stat, \"p-value\": p_value})\n",
    "\n",
    "# Convert to DataFrame\n",
    "otu_results_df = pd.DataFrame(otu_results)\n",
    "\n",
    "# Display results\n",
    "print(otu_results_df.sort_values(by=\"p-value\"))"
   ]
  },
  {
   "cell_type": "markdown",
   "metadata": {},
   "source": [
    "##### Center log-ratio transformed data"
   ]
  },
  {
   "cell_type": "code",
   "execution_count": null,
   "metadata": {},
   "outputs": [],
   "source": [
    "# Store results\n",
    "otu_results = []\n",
    "\n",
    "# Perform Mann-Whitney for each OTU\n",
    "for otu in data_clr.select_dtypes(include=\"number\").columns:\n",
    "    group_E = data_clr.loc[data_sqrt[\"tissue\"] == \"Ectosome\", otu]\n",
    "    group_C = data_clr.loc[data_sqrt[\"tissue\"] == \"Choanosome\", otu]\n",
    "\n",
    "    #Mann-Whitney\n",
    "    stat, p_value = mannwhitneyu(group_E, group_C, alternative=\"two-sided\")\n",
    "\n",
    "    #Only store significant results\n",
    "    if p_value < 0.05:\n",
    "        #Append results\n",
    "        otu_results.append({\"OTU\": otu, \"U-statistic\": stat, \"p-value\": p_value})\n",
    "\n",
    "# Convert to DataFrame\n",
    "otu_results_df = pd.DataFrame(otu_results)\n",
    "\n",
    "# Display results\n",
    "print(otu_results_df)"
   ]
  },
  {
   "cell_type": "code",
   "execution_count": null,
   "metadata": {},
   "outputs": [],
   "source": [
    "#Applying ComBat\n",
    "data_clr_combat = correctCombat(data_clr)\n",
    "\n",
    "# Store results\n",
    "otu_results = []\n",
    "\n",
    "# Perform Mann-Whitney for each OTU\n",
    "for otu in data_clr_combat.select_dtypes(include=\"number\").columns:\n",
    "    group_E = data_clr_combat.loc[data_clr_combat[\"tissue\"] == \"Ectosome\", otu]\n",
    "    group_C = data_clr_combat.loc[data_clr_combat[\"tissue\"] == \"Choanosome\", otu]\n",
    "\n",
    "    #Mann-Whitney\n",
    "    stat, p_value = mannwhitneyu(group_E, group_C, alternative=\"two-sided\")\n",
    "\n",
    "    #Only store significant results\n",
    "    if p_value < 0.05:\n",
    "        #Append results\n",
    "        otu_results.append({\"OTU\": otu, \"U-statistic\": stat, \"p-value\": p_value})\n",
    "\n",
    "# Convert to DataFrame\n",
    "otu_results_df = pd.DataFrame(otu_results)\n",
    "\n",
    "# Display results\n",
    "print(otu_results_df)"
   ]
  },
  {
   "cell_type": "code",
   "execution_count": null,
   "metadata": {},
   "outputs": [],
   "source": [
    "#Applying limma - removeBatchEffect\n",
    "data_clr_limma = correctLimma_rBE(data_clr, covariates_labels=[\"tissue\"])\n",
    "\n",
    "# Store results\n",
    "otu_results = []\n",
    "\n",
    "# Perform Mann-Whitney for each OTU\n",
    "for otu in data_clr_limma.select_dtypes(include=\"number\").columns:\n",
    "    group_E = data_clr_limma.loc[data_clr_limma[\"tissue\"] == \"Ectosome\", otu]\n",
    "    group_C = data_clr_limma.loc[data_clr_limma[\"tissue\"] == \"Choanosome\", otu]\n",
    "\n",
    "    #Mann-Whitney\n",
    "    stat, p_value = mannwhitneyu(group_E, group_C, alternative=\"two-sided\")\n",
    "\n",
    "    #Only store significant results\n",
    "    if p_value < 0.05:\n",
    "        #Append results\n",
    "        otu_results.append({\"OTU\": otu, \"U-statistic\": stat, \"p-value\": p_value})\n",
    "\n",
    "# Convert to DataFrame\n",
    "otu_results_df = pd.DataFrame(otu_results)\n",
    "\n",
    "# Display results\n",
    "print(otu_results_df)"
   ]
  },
  {
   "cell_type": "markdown",
   "metadata": {},
   "source": [
    "By applying ComBat OTUs 14, 23 and 24 where added as significantly different, while OTUs 1, 13 and 22 where removed.\n",
    "\n",
    "By applying limma OTUs 14 and 24 where added as significantly different, while OTU 22 was removed."
   ]
  },
  {
   "cell_type": "code",
   "execution_count": null,
   "metadata": {},
   "outputs": [],
   "source": [
    "#Applying SVD\n",
    "data_clr_svd = correctSVD(data_clr)\n",
    "\n",
    "# Store results\n",
    "otu_results = []\n",
    "\n",
    "# Perform Mann-Whitney for each OTU\n",
    "for otu in data_clr_svd.select_dtypes(include=\"number\").columns:\n",
    "    group_E = data_clr_svd.loc[data_clr_svd[\"tissue\"] == \"Ectosome\", otu]\n",
    "    group_C = data_clr_svd.loc[data_clr_svd[\"tissue\"] == \"Choanosome\", otu]\n",
    "\n",
    "    #Mann-Whitney\n",
    "    stat, p_value = mannwhitneyu(group_E, group_C, alternative=\"two-sided\")\n",
    "\n",
    "    #Only store significant results\n",
    "    if p_value < 0.05:\n",
    "        #Append results\n",
    "        otu_results.append({\"OTU\": otu, \"U-statistic\": stat, \"p-value\": p_value})\n",
    "\n",
    "# Convert to DataFrame\n",
    "otu_results_df = pd.DataFrame(otu_results)\n",
    "\n",
    "# Display results\n",
    "print(otu_results_df)"
   ]
  },
  {
   "cell_type": "code",
   "execution_count": null,
   "metadata": {},
   "outputs": [],
   "source": [
    "#Applying PLSDA-batch\n",
    "data_clr_plsda = correctPLSDA_batch(data_clr)\n",
    "\n",
    "# Store results\n",
    "otu_results = []\n",
    "\n",
    "# Perform Mann-Whitney for each OTU\n",
    "for otu in data_clr_plsda.select_dtypes(include=\"number\").columns:\n",
    "    group_E = data_clr_plsda.loc[data_clr_plsda[\"tissue\"] == \"Ectosome\", otu]\n",
    "    group_C = data_clr_plsda.loc[data_clr_plsda[\"tissue\"] == \"Choanosome\", otu]\n",
    "\n",
    "    #Mann-Whitney\n",
    "    stat, p_value = mannwhitneyu(group_E, group_C, alternative=\"two-sided\")\n",
    "\n",
    "    #Only store significant results\n",
    "    if p_value < 0.05:\n",
    "        #Append results\n",
    "        otu_results.append({\"OTU\": otu, \"U-statistic\": stat, \"p-value\": p_value})\n",
    "\n",
    "# Convert to DataFrame\n",
    "otu_results_df = pd.DataFrame(otu_results)\n",
    "\n",
    "# Display results\n",
    "print(otu_results_df)"
   ]
  }
 ],
 "metadata": {
  "kernelspec": {
   "display_name": "beca",
   "language": "python",
   "name": "python3"
  },
  "language_info": {
   "codemirror_mode": {
    "name": "ipython",
    "version": 3
   },
   "file_extension": ".py",
   "mimetype": "text/x-python",
   "name": "python",
   "nbconvert_exporter": "python",
   "pygments_lexer": "ipython3",
   "version": "3.12.6"
  }
 },
 "nbformat": 4,
 "nbformat_minor": 4
}
