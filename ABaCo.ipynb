{
 "cells": [
  {
   "cell_type": "markdown",
   "metadata": {},
   "source": [
    "### Libraries"
   ]
  },
  {
   "cell_type": "code",
   "execution_count": 1,
   "metadata": {},
   "outputs": [
    {
     "name": "stdout",
     "output_type": "stream",
     "text": [
      ">> clustergrammer2 backend version 0.18.0\n"
     ]
    }
   ],
   "source": [
    "#Essentials\n",
    "import torch\n",
    "import torch.nn as nn\n",
    "import torch.optim as optim\n",
    "from sklearn.model_selection import train_test_split\n",
    "from sklearn.decomposition import PCA\n",
    "from torch.utils.data import DataLoader, Subset, ConcatDataset, TensorDataset\n",
    "from torchvision import datasets, transforms\n",
    "import matplotlib.pyplot as plt\n",
    "import numpy as np\n",
    "import pandas as pd\n",
    "import os\n",
    "from umap import UMAP\n",
    "\n",
    "#User libraries\n",
    "from BatchEffectDataLoader import DataPreprocess, DataTransform, ABaCoDataLoader\n",
    "from BatchEffectPlots import plotPCA\n",
    "from ABaCo import ABaCo, BatchDiscriminator, TissueClassifier"
   ]
  },
  {
   "cell_type": "markdown",
   "metadata": {},
   "source": [
    "### Initialize ABaCo model"
   ]
  },
  {
   "cell_type": "code",
   "execution_count": 15,
   "metadata": {},
   "outputs": [],
   "source": [
    "model = ABaCo()"
   ]
  },
  {
   "cell_type": "markdown",
   "metadata": {},
   "source": [
    "### DataLoader"
   ]
  },
  {
   "cell_type": "code",
   "execution_count": 14,
   "metadata": {},
   "outputs": [],
   "source": [
    "#Load and preprocess data\n",
    "path = \"data/dataset_sponge.csv\"\n",
    "data = DataTransform(DataPreprocess(path))\n",
    "abaco_dataloader, ohe_batch, ohe_tissue, otu_data, data_batch, data_tissue = ABaCoDataLoader(data)"
   ]
  },
  {
   "cell_type": "markdown",
   "metadata": {},
   "source": [
    "### Train model"
   ]
  },
  {
   "cell_type": "code",
   "execution_count": 16,
   "metadata": {},
   "outputs": [
    {
     "name": "stdout",
     "output_type": "stream",
     "text": [
      "Using cpu\n",
      "Epoch 1/1000 | Dis. Train Loss: 0.7064 | Adv. Train Loss: 0.7064 | Tri. Train Loss: 0.7064\n",
      "Epoch 2/1000 | Dis. Train Loss: 0.6963 | Adv. Train Loss: 0.6963 | Tri. Train Loss: 0.6963\n",
      "Epoch 3/1000 | Dis. Train Loss: 0.6915 | Adv. Train Loss: 0.6915 | Tri. Train Loss: 0.6915\n",
      "Epoch 4/1000 | Dis. Train Loss: 0.6880 | Adv. Train Loss: 0.6880 | Tri. Train Loss: 0.6880\n",
      "Epoch 5/1000 | Dis. Train Loss: 0.6841 | Adv. Train Loss: 0.6841 | Tri. Train Loss: 0.6841\n",
      "Epoch 6/1000 | Dis. Train Loss: 0.6804 | Adv. Train Loss: 0.6804 | Tri. Train Loss: 0.6804\n",
      "Epoch 7/1000 | Dis. Train Loss: 0.6741 | Adv. Train Loss: 0.6741 | Tri. Train Loss: 0.6741\n",
      "Epoch 8/1000 | Dis. Train Loss: 0.6694 | Adv. Train Loss: 0.6694 | Tri. Train Loss: 0.6694\n",
      "Epoch 9/1000 | Dis. Train Loss: 0.6680 | Adv. Train Loss: 0.6680 | Tri. Train Loss: 0.6680\n",
      "Epoch 10/1000 | Dis. Train Loss: 0.6720 | Adv. Train Loss: 0.6720 | Tri. Train Loss: 0.6720\n",
      "Epoch 11/1000 | Dis. Train Loss: 0.6739 | Adv. Train Loss: 0.6739 | Tri. Train Loss: 0.6739\n",
      "Epoch 12/1000 | Dis. Train Loss: 0.6769 | Adv. Train Loss: 0.6769 | Tri. Train Loss: 0.6769\n",
      "Epoch 13/1000 | Dis. Train Loss: 0.6798 | Adv. Train Loss: 0.6798 | Tri. Train Loss: 0.6798\n",
      "Epoch 14/1000 | Dis. Train Loss: 0.6676 | Adv. Train Loss: 0.6676 | Tri. Train Loss: 0.6676\n",
      "Epoch 15/1000 | Dis. Train Loss: 0.6439 | Adv. Train Loss: 0.6439 | Tri. Train Loss: 0.6439\n",
      "Epoch 16/1000 | Dis. Train Loss: 0.6171 | Adv. Train Loss: 0.6171 | Tri. Train Loss: 0.6171\n",
      "Epoch 17/1000 | Dis. Train Loss: 0.5944 | Adv. Train Loss: 0.5944 | Tri. Train Loss: 0.5944\n",
      "Epoch 18/1000 | Dis. Train Loss: 0.5779 | Adv. Train Loss: 0.5779 | Tri. Train Loss: 0.5779\n",
      "Epoch 19/1000 | Dis. Train Loss: 0.5667 | Adv. Train Loss: 0.5667 | Tri. Train Loss: 0.5667\n",
      "Epoch 20/1000 | Dis. Train Loss: 0.5626 | Adv. Train Loss: 0.5626 | Tri. Train Loss: 0.5626\n",
      "Epoch 21/1000 | Dis. Train Loss: 0.5678 | Adv. Train Loss: 0.5678 | Tri. Train Loss: 0.5678\n",
      "Epoch 22/1000 | Dis. Train Loss: 0.5804 | Adv. Train Loss: 0.5804 | Tri. Train Loss: 0.5804\n"
     ]
    },
    {
     "name": "stderr",
     "output_type": "stream",
     "text": [
      "/home/s243564/miniforge3/envs/BECA/lib/python3.12/site-packages/torch/nn/functional.py:3369: UserWarning:\n",
      "\n",
      "reduction: 'mean' divides the total loss by both the batch size and the support size.'batchmean' divides only by the batch size, and aligns with the KL div math definition.'mean' will be changed to behave the same as 'batchmean' in the next major release.\n",
      "\n"
     ]
    },
    {
     "name": "stdout",
     "output_type": "stream",
     "text": [
      "Epoch 23/1000 | Dis. Train Loss: 0.5984 | Adv. Train Loss: 0.5984 | Tri. Train Loss: 0.5984\n",
      "Epoch 24/1000 | Dis. Train Loss: 0.6149 | Adv. Train Loss: 0.6149 | Tri. Train Loss: 0.6149\n",
      "Epoch 25/1000 | Dis. Train Loss: 0.6335 | Adv. Train Loss: 0.6335 | Tri. Train Loss: 0.6335\n",
      "Epoch 26/1000 | Dis. Train Loss: 0.6571 | Adv. Train Loss: 0.6571 | Tri. Train Loss: 0.6571\n",
      "Epoch 27/1000 | Dis. Train Loss: 0.6983 | Adv. Train Loss: 0.6983 | Tri. Train Loss: 0.6983\n",
      "Epoch 28/1000 | Dis. Train Loss: 0.7600 | Adv. Train Loss: 0.7600 | Tri. Train Loss: 0.7600\n",
      "Epoch 29/1000 | Dis. Train Loss: 0.8180 | Adv. Train Loss: 0.8180 | Tri. Train Loss: 0.8180\n",
      "Epoch 30/1000 | Dis. Train Loss: 0.8594 | Adv. Train Loss: 0.8594 | Tri. Train Loss: 0.8594\n",
      "Epoch 31/1000 | Dis. Train Loss: 0.8806 | Adv. Train Loss: 0.8806 | Tri. Train Loss: 0.8806\n",
      "Epoch 32/1000 | Dis. Train Loss: 0.8865 | Adv. Train Loss: 0.8865 | Tri. Train Loss: 0.8865\n",
      "Epoch 33/1000 | Dis. Train Loss: 0.8730 | Adv. Train Loss: 0.8730 | Tri. Train Loss: 0.8730\n",
      "Epoch 34/1000 | Dis. Train Loss: 0.8488 | Adv. Train Loss: 0.8488 | Tri. Train Loss: 0.8488\n",
      "Epoch 35/1000 | Dis. Train Loss: 0.8209 | Adv. Train Loss: 0.8209 | Tri. Train Loss: 0.8209\n",
      "Epoch 36/1000 | Dis. Train Loss: 0.7841 | Adv. Train Loss: 0.7841 | Tri. Train Loss: 0.7841\n",
      "Epoch 37/1000 | Dis. Train Loss: 0.7384 | Adv. Train Loss: 0.7384 | Tri. Train Loss: 0.7384\n",
      "Epoch 38/1000 | Dis. Train Loss: 0.7151 | Adv. Train Loss: 0.7151 | Tri. Train Loss: 0.7151\n",
      "Epoch 39/1000 | Dis. Train Loss: 0.7081 | Adv. Train Loss: 0.7081 | Tri. Train Loss: 0.7081\n",
      "Epoch 40/1000 | Dis. Train Loss: 0.6924 | Adv. Train Loss: 0.6924 | Tri. Train Loss: 0.6924\n",
      "Epoch 41/1000 | Dis. Train Loss: 0.6675 | Adv. Train Loss: 0.6675 | Tri. Train Loss: 0.6675\n",
      "Epoch 42/1000 | Dis. Train Loss: 0.6464 | Adv. Train Loss: 0.6464 | Tri. Train Loss: 0.6464\n",
      "Epoch 43/1000 | Dis. Train Loss: 0.6255 | Adv. Train Loss: 0.6255 | Tri. Train Loss: 0.6255\n",
      "Epoch 44/1000 | Dis. Train Loss: 0.6160 | Adv. Train Loss: 0.6160 | Tri. Train Loss: 0.6160\n",
      "Epoch 45/1000 | Dis. Train Loss: 0.6137 | Adv. Train Loss: 0.6137 | Tri. Train Loss: 0.6137\n",
      "Epoch 46/1000 | Dis. Train Loss: 0.6121 | Adv. Train Loss: 0.6121 | Tri. Train Loss: 0.6121\n",
      "Epoch 47/1000 | Dis. Train Loss: 0.6199 | Adv. Train Loss: 0.6199 | Tri. Train Loss: 0.6199\n",
      "Epoch 48/1000 | Dis. Train Loss: 0.6446 | Adv. Train Loss: 0.6446 | Tri. Train Loss: 0.6446\n",
      "Epoch 49/1000 | Dis. Train Loss: 0.6852 | Adv. Train Loss: 0.6852 | Tri. Train Loss: 0.6852\n",
      "Epoch 50/1000 | Dis. Train Loss: 0.7269 | Adv. Train Loss: 0.7269 | Tri. Train Loss: 0.7269\n",
      "Epoch 51/1000 | Dis. Train Loss: 0.7495 | Adv. Train Loss: 0.7495 | Tri. Train Loss: 0.7495\n",
      "Epoch 52/1000 | Dis. Train Loss: 0.7456 | Adv. Train Loss: 0.7456 | Tri. Train Loss: 0.7456\n",
      "Epoch 53/1000 | Dis. Train Loss: 0.7642 | Adv. Train Loss: 0.7642 | Tri. Train Loss: 0.7642\n",
      "Epoch 54/1000 | Dis. Train Loss: 0.8607 | Adv. Train Loss: 0.8607 | Tri. Train Loss: 0.8607\n",
      "Epoch 55/1000 | Dis. Train Loss: 0.9512 | Adv. Train Loss: 0.9512 | Tri. Train Loss: 0.9512\n",
      "Epoch 56/1000 | Dis. Train Loss: 0.9695 | Adv. Train Loss: 0.9695 | Tri. Train Loss: 0.9695\n",
      "Epoch 57/1000 | Dis. Train Loss: 0.9267 | Adv. Train Loss: 0.9267 | Tri. Train Loss: 0.9267\n",
      "Epoch 58/1000 | Dis. Train Loss: 0.8927 | Adv. Train Loss: 0.8927 | Tri. Train Loss: 0.8927\n",
      "Epoch 59/1000 | Dis. Train Loss: 0.8854 | Adv. Train Loss: 0.8854 | Tri. Train Loss: 0.8854\n",
      "Epoch 60/1000 | Dis. Train Loss: 0.9007 | Adv. Train Loss: 0.9007 | Tri. Train Loss: 0.9007\n",
      "Epoch 61/1000 | Dis. Train Loss: 0.9209 | Adv. Train Loss: 0.9209 | Tri. Train Loss: 0.9209\n",
      "Epoch 62/1000 | Dis. Train Loss: 0.9156 | Adv. Train Loss: 0.9156 | Tri. Train Loss: 0.9156\n",
      "Epoch 63/1000 | Dis. Train Loss: 0.8784 | Adv. Train Loss: 0.8784 | Tri. Train Loss: 0.8784\n",
      "Epoch 64/1000 | Dis. Train Loss: 0.8389 | Adv. Train Loss: 0.8389 | Tri. Train Loss: 0.8389\n",
      "Epoch 65/1000 | Dis. Train Loss: 0.8022 | Adv. Train Loss: 0.8022 | Tri. Train Loss: 0.8022\n",
      "Epoch 66/1000 | Dis. Train Loss: 0.7644 | Adv. Train Loss: 0.7644 | Tri. Train Loss: 0.7644\n",
      "Epoch 67/1000 | Dis. Train Loss: 0.7294 | Adv. Train Loss: 0.7294 | Tri. Train Loss: 0.7294\n",
      "Epoch 68/1000 | Dis. Train Loss: 0.7048 | Adv. Train Loss: 0.7048 | Tri. Train Loss: 0.7048\n",
      "Epoch 69/1000 | Dis. Train Loss: 0.6943 | Adv. Train Loss: 0.6943 | Tri. Train Loss: 0.6943\n",
      "Epoch 70/1000 | Dis. Train Loss: 0.6895 | Adv. Train Loss: 0.6895 | Tri. Train Loss: 0.6895\n",
      "Epoch 71/1000 | Dis. Train Loss: 0.6958 | Adv. Train Loss: 0.6958 | Tri. Train Loss: 0.6958\n",
      "Epoch 72/1000 | Dis. Train Loss: 0.7099 | Adv. Train Loss: 0.7099 | Tri. Train Loss: 0.7099\n",
      "Epoch 73/1000 | Dis. Train Loss: 0.7190 | Adv. Train Loss: 0.7190 | Tri. Train Loss: 0.7190\n",
      "Epoch 74/1000 | Dis. Train Loss: 0.7254 | Adv. Train Loss: 0.7254 | Tri. Train Loss: 0.7254\n",
      "Epoch 75/1000 | Dis. Train Loss: 0.7268 | Adv. Train Loss: 0.7268 | Tri. Train Loss: 0.7268\n",
      "Epoch 76/1000 | Dis. Train Loss: 0.7299 | Adv. Train Loss: 0.7299 | Tri. Train Loss: 0.7299\n",
      "Epoch 77/1000 | Dis. Train Loss: 0.7268 | Adv. Train Loss: 0.7268 | Tri. Train Loss: 0.7268\n",
      "Epoch 78/1000 | Dis. Train Loss: 0.7263 | Adv. Train Loss: 0.7263 | Tri. Train Loss: 0.7263\n",
      "Epoch 79/1000 | Dis. Train Loss: 0.7307 | Adv. Train Loss: 0.7307 | Tri. Train Loss: 0.7307\n",
      "Epoch 80/1000 | Dis. Train Loss: 0.7456 | Adv. Train Loss: 0.7456 | Tri. Train Loss: 0.7456\n",
      "Epoch 81/1000 | Dis. Train Loss: 0.7786 | Adv. Train Loss: 0.7786 | Tri. Train Loss: 0.7786\n",
      "Epoch 82/1000 | Dis. Train Loss: 0.8118 | Adv. Train Loss: 0.8118 | Tri. Train Loss: 0.8118\n",
      "Epoch 83/1000 | Dis. Train Loss: 0.8369 | Adv. Train Loss: 0.8369 | Tri. Train Loss: 0.8369\n",
      "Epoch 84/1000 | Dis. Train Loss: 0.8580 | Adv. Train Loss: 0.8580 | Tri. Train Loss: 0.8580\n",
      "Epoch 85/1000 | Dis. Train Loss: 0.8711 | Adv. Train Loss: 0.8711 | Tri. Train Loss: 0.8711\n",
      "Epoch 86/1000 | Dis. Train Loss: 0.8762 | Adv. Train Loss: 0.8762 | Tri. Train Loss: 0.8762\n",
      "Epoch 87/1000 | Dis. Train Loss: 0.8800 | Adv. Train Loss: 0.8800 | Tri. Train Loss: 0.8800\n",
      "Epoch 88/1000 | Dis. Train Loss: 0.8671 | Adv. Train Loss: 0.8671 | Tri. Train Loss: 0.8671\n",
      "Epoch 89/1000 | Dis. Train Loss: 0.8453 | Adv. Train Loss: 0.8453 | Tri. Train Loss: 0.8453\n",
      "Epoch 90/1000 | Dis. Train Loss: 0.8460 | Adv. Train Loss: 0.8460 | Tri. Train Loss: 0.8460\n",
      "Epoch 91/1000 | Dis. Train Loss: 0.8691 | Adv. Train Loss: 0.8691 | Tri. Train Loss: 0.8691\n",
      "Epoch 92/1000 | Dis. Train Loss: 0.9209 | Adv. Train Loss: 0.9209 | Tri. Train Loss: 0.9209\n",
      "Epoch 93/1000 | Dis. Train Loss: 0.9827 | Adv. Train Loss: 0.9827 | Tri. Train Loss: 0.9827\n",
      "Epoch 94/1000 | Dis. Train Loss: 0.9940 | Adv. Train Loss: 0.9940 | Tri. Train Loss: 0.9940\n",
      "Epoch 95/1000 | Dis. Train Loss: 0.9759 | Adv. Train Loss: 0.9759 | Tri. Train Loss: 0.9759\n",
      "Epoch 96/1000 | Dis. Train Loss: 0.9481 | Adv. Train Loss: 0.9481 | Tri. Train Loss: 0.9481\n",
      "Epoch 97/1000 | Dis. Train Loss: 0.8913 | Adv. Train Loss: 0.8913 | Tri. Train Loss: 0.8913\n",
      "Epoch 98/1000 | Dis. Train Loss: 0.8111 | Adv. Train Loss: 0.8111 | Tri. Train Loss: 0.8111\n",
      "Epoch 99/1000 | Dis. Train Loss: 0.7430 | Adv. Train Loss: 0.7430 | Tri. Train Loss: 0.7430\n",
      "Epoch 100/1000 | Dis. Train Loss: 0.6966 | Adv. Train Loss: 0.6966 | Tri. Train Loss: 0.6966\n",
      "Epoch 101/1000 | Dis. Train Loss: 0.6601 | Adv. Train Loss: 0.6601 | Tri. Train Loss: 0.6601\n",
      "Epoch 102/1000 | Dis. Train Loss: 0.6416 | Adv. Train Loss: 0.6416 | Tri. Train Loss: 0.6416\n",
      "Epoch 103/1000 | Dis. Train Loss: 0.6412 | Adv. Train Loss: 0.6412 | Tri. Train Loss: 0.6412\n",
      "Epoch 104/1000 | Dis. Train Loss: 0.6556 | Adv. Train Loss: 0.6556 | Tri. Train Loss: 0.6556\n",
      "Epoch 105/1000 | Dis. Train Loss: 0.6665 | Adv. Train Loss: 0.6665 | Tri. Train Loss: 0.6665\n",
      "Epoch 106/1000 | Dis. Train Loss: 0.6735 | Adv. Train Loss: 0.6735 | Tri. Train Loss: 0.6735\n",
      "Epoch 107/1000 | Dis. Train Loss: 0.6758 | Adv. Train Loss: 0.6758 | Tri. Train Loss: 0.6758\n",
      "Epoch 108/1000 | Dis. Train Loss: 0.6693 | Adv. Train Loss: 0.6693 | Tri. Train Loss: 0.6693\n",
      "Epoch 109/1000 | Dis. Train Loss: 0.6614 | Adv. Train Loss: 0.6614 | Tri. Train Loss: 0.6614\n",
      "Epoch 110/1000 | Dis. Train Loss: 0.6498 | Adv. Train Loss: 0.6498 | Tri. Train Loss: 0.6498\n",
      "Epoch 111/1000 | Dis. Train Loss: 0.6306 | Adv. Train Loss: 0.6306 | Tri. Train Loss: 0.6306\n",
      "Epoch 112/1000 | Dis. Train Loss: 0.6072 | Adv. Train Loss: 0.6072 | Tri. Train Loss: 0.6072\n",
      "Epoch 113/1000 | Dis. Train Loss: 0.5907 | Adv. Train Loss: 0.5907 | Tri. Train Loss: 0.5907\n",
      "Epoch 114/1000 | Dis. Train Loss: 0.5665 | Adv. Train Loss: 0.5665 | Tri. Train Loss: 0.5665\n",
      "Epoch 115/1000 | Dis. Train Loss: 0.5370 | Adv. Train Loss: 0.5370 | Tri. Train Loss: 0.5370\n",
      "Epoch 116/1000 | Dis. Train Loss: 0.5125 | Adv. Train Loss: 0.5125 | Tri. Train Loss: 0.5125\n",
      "Epoch 117/1000 | Dis. Train Loss: 0.5057 | Adv. Train Loss: 0.5057 | Tri. Train Loss: 0.5057\n",
      "Epoch 118/1000 | Dis. Train Loss: 0.5349 | Adv. Train Loss: 0.5349 | Tri. Train Loss: 0.5349\n",
      "Epoch 119/1000 | Dis. Train Loss: 0.6058 | Adv. Train Loss: 0.6058 | Tri. Train Loss: 0.6058\n",
      "Epoch 120/1000 | Dis. Train Loss: 0.6716 | Adv. Train Loss: 0.6716 | Tri. Train Loss: 0.6716\n",
      "Epoch 121/1000 | Dis. Train Loss: 0.6926 | Adv. Train Loss: 0.6926 | Tri. Train Loss: 0.6926\n",
      "Epoch 122/1000 | Dis. Train Loss: 0.7215 | Adv. Train Loss: 0.7215 | Tri. Train Loss: 0.7215\n",
      "Epoch 123/1000 | Dis. Train Loss: 0.8050 | Adv. Train Loss: 0.8050 | Tri. Train Loss: 0.8050\n",
      "Epoch 124/1000 | Dis. Train Loss: 0.9156 | Adv. Train Loss: 0.9156 | Tri. Train Loss: 0.9156\n",
      "Epoch 125/1000 | Dis. Train Loss: 0.9690 | Adv. Train Loss: 0.9690 | Tri. Train Loss: 0.9690\n",
      "Epoch 126/1000 | Dis. Train Loss: 1.0283 | Adv. Train Loss: 1.0283 | Tri. Train Loss: 1.0283\n",
      "Epoch 127/1000 | Dis. Train Loss: 1.1079 | Adv. Train Loss: 1.1079 | Tri. Train Loss: 1.1079\n",
      "Epoch 128/1000 | Dis. Train Loss: 1.1098 | Adv. Train Loss: 1.1098 | Tri. Train Loss: 1.1098\n",
      "Epoch 129/1000 | Dis. Train Loss: 1.0660 | Adv. Train Loss: 1.0660 | Tri. Train Loss: 1.0660\n",
      "Epoch 130/1000 | Dis. Train Loss: 1.0522 | Adv. Train Loss: 1.0522 | Tri. Train Loss: 1.0522\n",
      "Epoch 131/1000 | Dis. Train Loss: 1.0349 | Adv. Train Loss: 1.0349 | Tri. Train Loss: 1.0349\n",
      "Epoch 132/1000 | Dis. Train Loss: 0.9875 | Adv. Train Loss: 0.9875 | Tri. Train Loss: 0.9875\n",
      "Epoch 133/1000 | Dis. Train Loss: 0.9822 | Adv. Train Loss: 0.9822 | Tri. Train Loss: 0.9822\n",
      "Epoch 134/1000 | Dis. Train Loss: 0.9917 | Adv. Train Loss: 0.9917 | Tri. Train Loss: 0.9917\n",
      "Epoch 135/1000 | Dis. Train Loss: 0.9677 | Adv. Train Loss: 0.9677 | Tri. Train Loss: 0.9677\n",
      "Epoch 136/1000 | Dis. Train Loss: 0.9505 | Adv. Train Loss: 0.9505 | Tri. Train Loss: 0.9505\n",
      "Epoch 137/1000 | Dis. Train Loss: 0.9460 | Adv. Train Loss: 0.9460 | Tri. Train Loss: 0.9460\n",
      "Epoch 138/1000 | Dis. Train Loss: 0.9342 | Adv. Train Loss: 0.9342 | Tri. Train Loss: 0.9342\n",
      "Epoch 139/1000 | Dis. Train Loss: 0.9099 | Adv. Train Loss: 0.9099 | Tri. Train Loss: 0.9099\n",
      "Epoch 140/1000 | Dis. Train Loss: 0.8980 | Adv. Train Loss: 0.8980 | Tri. Train Loss: 0.8980\n",
      "Epoch 141/1000 | Dis. Train Loss: 0.8787 | Adv. Train Loss: 0.8787 | Tri. Train Loss: 0.8787\n",
      "Epoch 142/1000 | Dis. Train Loss: 0.8448 | Adv. Train Loss: 0.8448 | Tri. Train Loss: 0.8448\n",
      "Epoch 143/1000 | Dis. Train Loss: 0.8137 | Adv. Train Loss: 0.8137 | Tri. Train Loss: 0.8137\n",
      "Epoch 144/1000 | Dis. Train Loss: 0.7886 | Adv. Train Loss: 0.7886 | Tri. Train Loss: 0.7886\n",
      "Epoch 145/1000 | Dis. Train Loss: 0.7709 | Adv. Train Loss: 0.7709 | Tri. Train Loss: 0.7709\n",
      "Epoch 146/1000 | Dis. Train Loss: 0.7579 | Adv. Train Loss: 0.7579 | Tri. Train Loss: 0.7579\n",
      "Epoch 147/1000 | Dis. Train Loss: 0.7334 | Adv. Train Loss: 0.7334 | Tri. Train Loss: 0.7334\n",
      "Epoch 148/1000 | Dis. Train Loss: 0.7092 | Adv. Train Loss: 0.7092 | Tri. Train Loss: 0.7092\n",
      "Epoch 149/1000 | Dis. Train Loss: 0.6873 | Adv. Train Loss: 0.6873 | Tri. Train Loss: 0.6873\n",
      "Epoch 150/1000 | Dis. Train Loss: 0.6715 | Adv. Train Loss: 0.6715 | Tri. Train Loss: 0.6715\n",
      "Epoch 151/1000 | Dis. Train Loss: 0.6643 | Adv. Train Loss: 0.6643 | Tri. Train Loss: 0.6643\n",
      "Epoch 152/1000 | Dis. Train Loss: 0.6596 | Adv. Train Loss: 0.6596 | Tri. Train Loss: 0.6596\n",
      "Epoch 153/1000 | Dis. Train Loss: 0.6589 | Adv. Train Loss: 0.6589 | Tri. Train Loss: 0.6589\n",
      "Epoch 154/1000 | Dis. Train Loss: 0.6720 | Adv. Train Loss: 0.6720 | Tri. Train Loss: 0.6720\n",
      "Epoch 155/1000 | Dis. Train Loss: 0.6905 | Adv. Train Loss: 0.6905 | Tri. Train Loss: 0.6905\n",
      "Epoch 156/1000 | Dis. Train Loss: 0.7157 | Adv. Train Loss: 0.7157 | Tri. Train Loss: 0.7157\n",
      "Epoch 157/1000 | Dis. Train Loss: 0.7335 | Adv. Train Loss: 0.7335 | Tri. Train Loss: 0.7335\n",
      "Epoch 158/1000 | Dis. Train Loss: 0.7478 | Adv. Train Loss: 0.7478 | Tri. Train Loss: 0.7478\n",
      "Epoch 159/1000 | Dis. Train Loss: 0.7675 | Adv. Train Loss: 0.7675 | Tri. Train Loss: 0.7675\n",
      "Epoch 160/1000 | Dis. Train Loss: 0.7959 | Adv. Train Loss: 0.7959 | Tri. Train Loss: 0.7959\n",
      "Epoch 161/1000 | Dis. Train Loss: 0.8382 | Adv. Train Loss: 0.8382 | Tri. Train Loss: 0.8382\n",
      "Epoch 162/1000 | Dis. Train Loss: 0.8878 | Adv. Train Loss: 0.8878 | Tri. Train Loss: 0.8878\n",
      "Epoch 163/1000 | Dis. Train Loss: 0.9447 | Adv. Train Loss: 0.9447 | Tri. Train Loss: 0.9447\n",
      "Epoch 164/1000 | Dis. Train Loss: 1.0502 | Adv. Train Loss: 1.0502 | Tri. Train Loss: 1.0502\n",
      "Epoch 165/1000 | Dis. Train Loss: 1.1636 | Adv. Train Loss: 1.1636 | Tri. Train Loss: 1.1636\n",
      "Epoch 166/1000 | Dis. Train Loss: 1.2368 | Adv. Train Loss: 1.2368 | Tri. Train Loss: 1.2368\n",
      "Epoch 167/1000 | Dis. Train Loss: 1.3715 | Adv. Train Loss: 1.3715 | Tri. Train Loss: 1.3715\n",
      "Epoch 168/1000 | Dis. Train Loss: 1.4718 | Adv. Train Loss: 1.4718 | Tri. Train Loss: 1.4718\n",
      "Epoch 169/1000 | Dis. Train Loss: 1.5097 | Adv. Train Loss: 1.5097 | Tri. Train Loss: 1.5097\n",
      "Epoch 170/1000 | Dis. Train Loss: 1.5544 | Adv. Train Loss: 1.5544 | Tri. Train Loss: 1.5544\n",
      "Epoch 171/1000 | Dis. Train Loss: 1.5401 | Adv. Train Loss: 1.5401 | Tri. Train Loss: 1.5401\n",
      "Epoch 172/1000 | Dis. Train Loss: 1.5201 | Adv. Train Loss: 1.5201 | Tri. Train Loss: 1.5201\n",
      "Epoch 173/1000 | Dis. Train Loss: 1.5245 | Adv. Train Loss: 1.5245 | Tri. Train Loss: 1.5245\n",
      "Epoch 174/1000 | Dis. Train Loss: 1.4745 | Adv. Train Loss: 1.4745 | Tri. Train Loss: 1.4745\n",
      "Epoch 175/1000 | Dis. Train Loss: 1.4217 | Adv. Train Loss: 1.4217 | Tri. Train Loss: 1.4217\n",
      "Epoch 176/1000 | Dis. Train Loss: 1.4026 | Adv. Train Loss: 1.4026 | Tri. Train Loss: 1.4026\n",
      "Epoch 177/1000 | Dis. Train Loss: 1.3683 | Adv. Train Loss: 1.3683 | Tri. Train Loss: 1.3683\n",
      "Epoch 178/1000 | Dis. Train Loss: 1.2422 | Adv. Train Loss: 1.2422 | Tri. Train Loss: 1.2422\n",
      "Epoch 179/1000 | Dis. Train Loss: 1.1232 | Adv. Train Loss: 1.1232 | Tri. Train Loss: 1.1232\n",
      "Epoch 180/1000 | Dis. Train Loss: 0.9797 | Adv. Train Loss: 0.9797 | Tri. Train Loss: 0.9797\n",
      "Epoch 181/1000 | Dis. Train Loss: 0.8585 | Adv. Train Loss: 0.8585 | Tri. Train Loss: 0.8585\n",
      "Epoch 182/1000 | Dis. Train Loss: 0.7779 | Adv. Train Loss: 0.7779 | Tri. Train Loss: 0.7779\n",
      "Epoch 183/1000 | Dis. Train Loss: 0.7108 | Adv. Train Loss: 0.7108 | Tri. Train Loss: 0.7108\n",
      "Epoch 184/1000 | Dis. Train Loss: 0.6864 | Adv. Train Loss: 0.6864 | Tri. Train Loss: 0.6864\n",
      "Epoch 185/1000 | Dis. Train Loss: 0.6732 | Adv. Train Loss: 0.6732 | Tri. Train Loss: 0.6732\n",
      "Epoch 186/1000 | Dis. Train Loss: 0.6736 | Adv. Train Loss: 0.6736 | Tri. Train Loss: 0.6736\n",
      "Epoch 187/1000 | Dis. Train Loss: 0.6896 | Adv. Train Loss: 0.6896 | Tri. Train Loss: 0.6896\n",
      "Epoch 188/1000 | Dis. Train Loss: 0.7168 | Adv. Train Loss: 0.7168 | Tri. Train Loss: 0.7168\n",
      "Epoch 189/1000 | Dis. Train Loss: 0.7452 | Adv. Train Loss: 0.7452 | Tri. Train Loss: 0.7452\n",
      "Epoch 190/1000 | Dis. Train Loss: 0.7612 | Adv. Train Loss: 0.7612 | Tri. Train Loss: 0.7612\n",
      "Epoch 191/1000 | Dis. Train Loss: 0.7254 | Adv. Train Loss: 0.7254 | Tri. Train Loss: 0.7254\n",
      "Epoch 192/1000 | Dis. Train Loss: 0.7029 | Adv. Train Loss: 0.7029 | Tri. Train Loss: 0.7029\n",
      "Epoch 193/1000 | Dis. Train Loss: 0.7257 | Adv. Train Loss: 0.7257 | Tri. Train Loss: 0.7257\n",
      "Epoch 194/1000 | Dis. Train Loss: 0.8087 | Adv. Train Loss: 0.8087 | Tri. Train Loss: 0.8087\n",
      "Epoch 195/1000 | Dis. Train Loss: 0.8905 | Adv. Train Loss: 0.8905 | Tri. Train Loss: 0.8905\n",
      "Epoch 196/1000 | Dis. Train Loss: 0.8730 | Adv. Train Loss: 0.8730 | Tri. Train Loss: 0.8730\n",
      "Epoch 197/1000 | Dis. Train Loss: 0.8429 | Adv. Train Loss: 0.8429 | Tri. Train Loss: 0.8429\n",
      "Epoch 198/1000 | Dis. Train Loss: 0.8341 | Adv. Train Loss: 0.8341 | Tri. Train Loss: 0.8341\n",
      "Epoch 199/1000 | Dis. Train Loss: 0.8187 | Adv. Train Loss: 0.8187 | Tri. Train Loss: 0.8187\n",
      "Epoch 200/1000 | Dis. Train Loss: 0.8076 | Adv. Train Loss: 0.8076 | Tri. Train Loss: 0.8076\n",
      "Epoch 201/1000 | Dis. Train Loss: 0.8201 | Adv. Train Loss: 0.8201 | Tri. Train Loss: 0.8201\n",
      "Epoch 202/1000 | Dis. Train Loss: 0.8670 | Adv. Train Loss: 0.8670 | Tri. Train Loss: 0.8670\n",
      "Epoch 203/1000 | Dis. Train Loss: 0.9017 | Adv. Train Loss: 0.9017 | Tri. Train Loss: 0.9017\n",
      "Epoch 204/1000 | Dis. Train Loss: 0.9070 | Adv. Train Loss: 0.9070 | Tri. Train Loss: 0.9070\n",
      "Epoch 205/1000 | Dis. Train Loss: 0.9198 | Adv. Train Loss: 0.9198 | Tri. Train Loss: 0.9198\n",
      "Epoch 206/1000 | Dis. Train Loss: 0.9419 | Adv. Train Loss: 0.9419 | Tri. Train Loss: 0.9419\n",
      "Epoch 207/1000 | Dis. Train Loss: 0.9775 | Adv. Train Loss: 0.9775 | Tri. Train Loss: 0.9775\n",
      "Epoch 208/1000 | Dis. Train Loss: 1.0130 | Adv. Train Loss: 1.0130 | Tri. Train Loss: 1.0130\n",
      "Epoch 209/1000 | Dis. Train Loss: 1.0784 | Adv. Train Loss: 1.0784 | Tri. Train Loss: 1.0784\n",
      "Epoch 210/1000 | Dis. Train Loss: 1.1063 | Adv. Train Loss: 1.1063 | Tri. Train Loss: 1.1063\n",
      "Epoch 211/1000 | Dis. Train Loss: 1.1135 | Adv. Train Loss: 1.1135 | Tri. Train Loss: 1.1135\n",
      "Epoch 212/1000 | Dis. Train Loss: 1.1278 | Adv. Train Loss: 1.1278 | Tri. Train Loss: 1.1278\n",
      "Epoch 213/1000 | Dis. Train Loss: 1.2060 | Adv. Train Loss: 1.2060 | Tri. Train Loss: 1.2060\n",
      "Epoch 214/1000 | Dis. Train Loss: 1.2644 | Adv. Train Loss: 1.2644 | Tri. Train Loss: 1.2644\n",
      "Epoch 215/1000 | Dis. Train Loss: 1.2536 | Adv. Train Loss: 1.2536 | Tri. Train Loss: 1.2536\n",
      "Epoch 216/1000 | Dis. Train Loss: 1.2321 | Adv. Train Loss: 1.2321 | Tri. Train Loss: 1.2321\n",
      "Epoch 217/1000 | Dis. Train Loss: 1.2372 | Adv. Train Loss: 1.2372 | Tri. Train Loss: 1.2372\n",
      "Epoch 218/1000 | Dis. Train Loss: 1.2601 | Adv. Train Loss: 1.2601 | Tri. Train Loss: 1.2601\n",
      "Epoch 219/1000 | Dis. Train Loss: 1.2245 | Adv. Train Loss: 1.2245 | Tri. Train Loss: 1.2245\n",
      "Epoch 220/1000 | Dis. Train Loss: 1.2692 | Adv. Train Loss: 1.2692 | Tri. Train Loss: 1.2692\n",
      "Epoch 221/1000 | Dis. Train Loss: 1.3206 | Adv. Train Loss: 1.3206 | Tri. Train Loss: 1.3206\n",
      "Epoch 222/1000 | Dis. Train Loss: 1.3304 | Adv. Train Loss: 1.3304 | Tri. Train Loss: 1.3304\n",
      "Epoch 223/1000 | Dis. Train Loss: 1.4008 | Adv. Train Loss: 1.4008 | Tri. Train Loss: 1.4008\n",
      "Epoch 224/1000 | Dis. Train Loss: 1.3106 | Adv. Train Loss: 1.3106 | Tri. Train Loss: 1.3106\n",
      "Epoch 225/1000 | Dis. Train Loss: 1.5395 | Adv. Train Loss: 1.5395 | Tri. Train Loss: 1.5395\n",
      "Epoch 226/1000 | Dis. Train Loss: 1.1539 | Adv. Train Loss: 1.1539 | Tri. Train Loss: 1.1539\n",
      "Epoch 227/1000 | Dis. Train Loss: 1.7155 | Adv. Train Loss: 1.7155 | Tri. Train Loss: 1.7155\n",
      "Epoch 228/1000 | Dis. Train Loss: 0.9326 | Adv. Train Loss: 0.9326 | Tri. Train Loss: 0.9326\n",
      "Epoch 229/1000 | Dis. Train Loss: 1.2565 | Adv. Train Loss: 1.2565 | Tri. Train Loss: 1.2565\n",
      "Epoch 230/1000 | Dis. Train Loss: 1.5204 | Adv. Train Loss: 1.5204 | Tri. Train Loss: 1.5204\n",
      "Epoch 231/1000 | Dis. Train Loss: 0.9668 | Adv. Train Loss: 0.9668 | Tri. Train Loss: 0.9668\n",
      "Epoch 232/1000 | Dis. Train Loss: 1.0439 | Adv. Train Loss: 1.0439 | Tri. Train Loss: 1.0439\n",
      "Epoch 233/1000 | Dis. Train Loss: 1.3719 | Adv. Train Loss: 1.3719 | Tri. Train Loss: 1.3719\n",
      "Epoch 234/1000 | Dis. Train Loss: 0.8441 | Adv. Train Loss: 0.8441 | Tri. Train Loss: 0.8441\n",
      "Epoch 235/1000 | Dis. Train Loss: 0.7506 | Adv. Train Loss: 0.7506 | Tri. Train Loss: 0.7506\n",
      "Epoch 236/1000 | Dis. Train Loss: 0.9256 | Adv. Train Loss: 0.9256 | Tri. Train Loss: 0.9256\n",
      "Epoch 237/1000 | Dis. Train Loss: 0.8289 | Adv. Train Loss: 0.8289 | Tri. Train Loss: 0.8289\n",
      "Epoch 238/1000 | Dis. Train Loss: 0.7550 | Adv. Train Loss: 0.7550 | Tri. Train Loss: 0.7550\n",
      "Epoch 239/1000 | Dis. Train Loss: 0.8096 | Adv. Train Loss: 0.8096 | Tri. Train Loss: 0.8096\n",
      "Epoch 240/1000 | Dis. Train Loss: 0.9447 | Adv. Train Loss: 0.9447 | Tri. Train Loss: 0.9447\n",
      "Epoch 241/1000 | Dis. Train Loss: 0.8171 | Adv. Train Loss: 0.8171 | Tri. Train Loss: 0.8171\n",
      "Epoch 242/1000 | Dis. Train Loss: 0.8146 | Adv. Train Loss: 0.8146 | Tri. Train Loss: 0.8146\n",
      "Epoch 243/1000 | Dis. Train Loss: 0.8672 | Adv. Train Loss: 0.8672 | Tri. Train Loss: 0.8672\n",
      "Epoch 244/1000 | Dis. Train Loss: 0.7952 | Adv. Train Loss: 0.7952 | Tri. Train Loss: 0.7952\n",
      "Epoch 245/1000 | Dis. Train Loss: 0.7188 | Adv. Train Loss: 0.7188 | Tri. Train Loss: 0.7188\n",
      "Epoch 246/1000 | Dis. Train Loss: 0.6673 | Adv. Train Loss: 0.6673 | Tri. Train Loss: 0.6673\n",
      "Epoch 247/1000 | Dis. Train Loss: 0.6502 | Adv. Train Loss: 0.6502 | Tri. Train Loss: 0.6502\n",
      "Epoch 248/1000 | Dis. Train Loss: 0.6305 | Adv. Train Loss: 0.6305 | Tri. Train Loss: 0.6305\n",
      "Epoch 249/1000 | Dis. Train Loss: 0.6428 | Adv. Train Loss: 0.6428 | Tri. Train Loss: 0.6428\n",
      "Epoch 250/1000 | Dis. Train Loss: 0.6667 | Adv. Train Loss: 0.6667 | Tri. Train Loss: 0.6667\n",
      "Epoch 251/1000 | Dis. Train Loss: 0.6767 | Adv. Train Loss: 0.6767 | Tri. Train Loss: 0.6767\n",
      "Epoch 252/1000 | Dis. Train Loss: 0.6871 | Adv. Train Loss: 0.6871 | Tri. Train Loss: 0.6871\n",
      "Epoch 253/1000 | Dis. Train Loss: 0.7064 | Adv. Train Loss: 0.7064 | Tri. Train Loss: 0.7064\n",
      "Epoch 254/1000 | Dis. Train Loss: 0.7186 | Adv. Train Loss: 0.7186 | Tri. Train Loss: 0.7186\n",
      "Epoch 255/1000 | Dis. Train Loss: 0.7400 | Adv. Train Loss: 0.7400 | Tri. Train Loss: 0.7400\n",
      "Epoch 256/1000 | Dis. Train Loss: 0.7845 | Adv. Train Loss: 0.7845 | Tri. Train Loss: 0.7845\n",
      "Epoch 257/1000 | Dis. Train Loss: 0.8166 | Adv. Train Loss: 0.8166 | Tri. Train Loss: 0.8166\n",
      "Epoch 258/1000 | Dis. Train Loss: 0.8135 | Adv. Train Loss: 0.8135 | Tri. Train Loss: 0.8135\n",
      "Epoch 259/1000 | Dis. Train Loss: 0.8474 | Adv. Train Loss: 0.8474 | Tri. Train Loss: 0.8474\n",
      "Epoch 260/1000 | Dis. Train Loss: 0.9258 | Adv. Train Loss: 0.9258 | Tri. Train Loss: 0.9258\n",
      "Epoch 261/1000 | Dis. Train Loss: 0.9677 | Adv. Train Loss: 0.9677 | Tri. Train Loss: 0.9677\n",
      "Epoch 262/1000 | Dis. Train Loss: 0.9970 | Adv. Train Loss: 0.9970 | Tri. Train Loss: 0.9970\n",
      "Epoch 263/1000 | Dis. Train Loss: 1.0447 | Adv. Train Loss: 1.0447 | Tri. Train Loss: 1.0447\n",
      "Epoch 264/1000 | Dis. Train Loss: 1.0922 | Adv. Train Loss: 1.0922 | Tri. Train Loss: 1.0922\n",
      "Epoch 265/1000 | Dis. Train Loss: 1.0939 | Adv. Train Loss: 1.0939 | Tri. Train Loss: 1.0939\n",
      "Epoch 266/1000 | Dis. Train Loss: 1.0867 | Adv. Train Loss: 1.0867 | Tri. Train Loss: 1.0867\n",
      "Epoch 267/1000 | Dis. Train Loss: 1.1295 | Adv. Train Loss: 1.1295 | Tri. Train Loss: 1.1295\n",
      "Epoch 268/1000 | Dis. Train Loss: 1.1543 | Adv. Train Loss: 1.1543 | Tri. Train Loss: 1.1543\n",
      "Epoch 269/1000 | Dis. Train Loss: 1.1618 | Adv. Train Loss: 1.1618 | Tri. Train Loss: 1.1618\n",
      "Epoch 270/1000 | Dis. Train Loss: 1.2128 | Adv. Train Loss: 1.2128 | Tri. Train Loss: 1.2128\n",
      "Epoch 271/1000 | Dis. Train Loss: 1.2095 | Adv. Train Loss: 1.2095 | Tri. Train Loss: 1.2095\n",
      "Epoch 272/1000 | Dis. Train Loss: 1.1709 | Adv. Train Loss: 1.1709 | Tri. Train Loss: 1.1709\n",
      "Epoch 273/1000 | Dis. Train Loss: 1.1528 | Adv. Train Loss: 1.1528 | Tri. Train Loss: 1.1528\n",
      "Epoch 274/1000 | Dis. Train Loss: 1.1395 | Adv. Train Loss: 1.1395 | Tri. Train Loss: 1.1395\n",
      "Epoch 275/1000 | Dis. Train Loss: 1.1079 | Adv. Train Loss: 1.1079 | Tri. Train Loss: 1.1079\n",
      "Epoch 276/1000 | Dis. Train Loss: 1.0687 | Adv. Train Loss: 1.0687 | Tri. Train Loss: 1.0687\n",
      "Epoch 277/1000 | Dis. Train Loss: 1.0365 | Adv. Train Loss: 1.0365 | Tri. Train Loss: 1.0365\n",
      "Epoch 278/1000 | Dis. Train Loss: 1.0115 | Adv. Train Loss: 1.0115 | Tri. Train Loss: 1.0115\n",
      "Epoch 279/1000 | Dis. Train Loss: 0.9875 | Adv. Train Loss: 0.9875 | Tri. Train Loss: 0.9875\n",
      "Epoch 280/1000 | Dis. Train Loss: 0.9711 | Adv. Train Loss: 0.9711 | Tri. Train Loss: 0.9711\n",
      "Epoch 281/1000 | Dis. Train Loss: 0.9485 | Adv. Train Loss: 0.9485 | Tri. Train Loss: 0.9485\n",
      "Epoch 282/1000 | Dis. Train Loss: 0.9245 | Adv. Train Loss: 0.9245 | Tri. Train Loss: 0.9245\n",
      "Epoch 283/1000 | Dis. Train Loss: 0.9065 | Adv. Train Loss: 0.9065 | Tri. Train Loss: 0.9065\n",
      "Epoch 284/1000 | Dis. Train Loss: 0.9077 | Adv. Train Loss: 0.9077 | Tri. Train Loss: 0.9077\n",
      "Epoch 285/1000 | Dis. Train Loss: 0.9170 | Adv. Train Loss: 0.9170 | Tri. Train Loss: 0.9170\n",
      "Epoch 286/1000 | Dis. Train Loss: 0.9204 | Adv. Train Loss: 0.9204 | Tri. Train Loss: 0.9204\n",
      "Epoch 287/1000 | Dis. Train Loss: 0.9272 | Adv. Train Loss: 0.9272 | Tri. Train Loss: 0.9272\n",
      "Epoch 288/1000 | Dis. Train Loss: 0.9350 | Adv. Train Loss: 0.9350 | Tri. Train Loss: 0.9350\n",
      "Epoch 289/1000 | Dis. Train Loss: 0.9346 | Adv. Train Loss: 0.9346 | Tri. Train Loss: 0.9346\n",
      "Epoch 290/1000 | Dis. Train Loss: 0.9325 | Adv. Train Loss: 0.9325 | Tri. Train Loss: 0.9325\n",
      "Epoch 291/1000 | Dis. Train Loss: 0.9340 | Adv. Train Loss: 0.9340 | Tri. Train Loss: 0.9340\n",
      "Epoch 292/1000 | Dis. Train Loss: 0.9151 | Adv. Train Loss: 0.9151 | Tri. Train Loss: 0.9151\n",
      "Epoch 293/1000 | Dis. Train Loss: 0.8747 | Adv. Train Loss: 0.8747 | Tri. Train Loss: 0.8747\n",
      "Epoch 294/1000 | Dis. Train Loss: 0.8530 | Adv. Train Loss: 0.8530 | Tri. Train Loss: 0.8530\n",
      "Epoch 295/1000 | Dis. Train Loss: 0.8479 | Adv. Train Loss: 0.8479 | Tri. Train Loss: 0.8479\n",
      "Epoch 296/1000 | Dis. Train Loss: 0.8561 | Adv. Train Loss: 0.8561 | Tri. Train Loss: 0.8561\n",
      "Epoch 297/1000 | Dis. Train Loss: 0.8462 | Adv. Train Loss: 0.8462 | Tri. Train Loss: 0.8462\n",
      "Epoch 298/1000 | Dis. Train Loss: 0.8351 | Adv. Train Loss: 0.8351 | Tri. Train Loss: 0.8351\n",
      "Epoch 299/1000 | Dis. Train Loss: 0.8161 | Adv. Train Loss: 0.8161 | Tri. Train Loss: 0.8161\n",
      "Epoch 300/1000 | Dis. Train Loss: 0.7710 | Adv. Train Loss: 0.7710 | Tri. Train Loss: 0.7710\n",
      "Epoch 301/1000 | Dis. Train Loss: 0.6972 | Adv. Train Loss: 0.6972 | Tri. Train Loss: 0.6972\n",
      "Epoch 302/1000 | Dis. Train Loss: 0.6223 | Adv. Train Loss: 0.6223 | Tri. Train Loss: 0.6223\n",
      "Epoch 303/1000 | Dis. Train Loss: 0.5753 | Adv. Train Loss: 0.5753 | Tri. Train Loss: 0.5753\n",
      "Epoch 304/1000 | Dis. Train Loss: 0.5873 | Adv. Train Loss: 0.5873 | Tri. Train Loss: 0.5873\n",
      "Epoch 305/1000 | Dis. Train Loss: 0.6400 | Adv. Train Loss: 0.6400 | Tri. Train Loss: 0.6400\n",
      "Epoch 306/1000 | Dis. Train Loss: 0.6864 | Adv. Train Loss: 0.6864 | Tri. Train Loss: 0.6864\n",
      "Epoch 307/1000 | Dis. Train Loss: 0.7337 | Adv. Train Loss: 0.7337 | Tri. Train Loss: 0.7337\n",
      "Epoch 308/1000 | Dis. Train Loss: 0.7837 | Adv. Train Loss: 0.7837 | Tri. Train Loss: 0.7837\n",
      "Epoch 309/1000 | Dis. Train Loss: 0.8220 | Adv. Train Loss: 0.8220 | Tri. Train Loss: 0.8220\n",
      "Epoch 310/1000 | Dis. Train Loss: 0.8477 | Adv. Train Loss: 0.8477 | Tri. Train Loss: 0.8477\n",
      "Epoch 311/1000 | Dis. Train Loss: 0.8359 | Adv. Train Loss: 0.8359 | Tri. Train Loss: 0.8359\n",
      "Epoch 312/1000 | Dis. Train Loss: 0.7862 | Adv. Train Loss: 0.7862 | Tri. Train Loss: 0.7862\n",
      "Epoch 313/1000 | Dis. Train Loss: 0.7299 | Adv. Train Loss: 0.7299 | Tri. Train Loss: 0.7299\n",
      "Epoch 314/1000 | Dis. Train Loss: 0.6961 | Adv. Train Loss: 0.6961 | Tri. Train Loss: 0.6961\n",
      "Epoch 315/1000 | Dis. Train Loss: 0.6839 | Adv. Train Loss: 0.6839 | Tri. Train Loss: 0.6839\n",
      "Epoch 316/1000 | Dis. Train Loss: 0.6702 | Adv. Train Loss: 0.6702 | Tri. Train Loss: 0.6702\n",
      "Epoch 317/1000 | Dis. Train Loss: 0.6513 | Adv. Train Loss: 0.6513 | Tri. Train Loss: 0.6513\n",
      "Epoch 318/1000 | Dis. Train Loss: 0.6309 | Adv. Train Loss: 0.6309 | Tri. Train Loss: 0.6309\n",
      "Epoch 319/1000 | Dis. Train Loss: 0.6242 | Adv. Train Loss: 0.6242 | Tri. Train Loss: 0.6242\n",
      "Epoch 320/1000 | Dis. Train Loss: 0.6589 | Adv. Train Loss: 0.6589 | Tri. Train Loss: 0.6589\n",
      "Epoch 321/1000 | Dis. Train Loss: 0.7310 | Adv. Train Loss: 0.7310 | Tri. Train Loss: 0.7310\n",
      "Epoch 322/1000 | Dis. Train Loss: 0.7682 | Adv. Train Loss: 0.7682 | Tri. Train Loss: 0.7682\n",
      "Epoch 323/1000 | Dis. Train Loss: 0.8370 | Adv. Train Loss: 0.8370 | Tri. Train Loss: 0.8370\n",
      "Epoch 324/1000 | Dis. Train Loss: 0.8982 | Adv. Train Loss: 0.8982 | Tri. Train Loss: 0.8982\n",
      "Epoch 325/1000 | Dis. Train Loss: 0.8272 | Adv. Train Loss: 0.8272 | Tri. Train Loss: 0.8272\n",
      "Epoch 326/1000 | Dis. Train Loss: 0.7949 | Adv. Train Loss: 0.7949 | Tri. Train Loss: 0.7949\n",
      "Epoch 327/1000 | Dis. Train Loss: 0.7726 | Adv. Train Loss: 0.7726 | Tri. Train Loss: 0.7726\n",
      "Epoch 328/1000 | Dis. Train Loss: 0.8011 | Adv. Train Loss: 0.8011 | Tri. Train Loss: 0.8011\n",
      "Epoch 329/1000 | Dis. Train Loss: 0.8838 | Adv. Train Loss: 0.8838 | Tri. Train Loss: 0.8838\n",
      "Epoch 330/1000 | Dis. Train Loss: 0.8728 | Adv. Train Loss: 0.8728 | Tri. Train Loss: 0.8728\n",
      "Epoch 331/1000 | Dis. Train Loss: 1.0428 | Adv. Train Loss: 1.0428 | Tri. Train Loss: 1.0428\n",
      "Epoch 332/1000 | Dis. Train Loss: 0.8167 | Adv. Train Loss: 0.8167 | Tri. Train Loss: 0.8167\n",
      "Epoch 333/1000 | Dis. Train Loss: 1.7450 | Adv. Train Loss: 1.7450 | Tri. Train Loss: 1.7450\n",
      "Epoch 334/1000 | Dis. Train Loss: 0.6757 | Adv. Train Loss: 0.6757 | Tri. Train Loss: 0.6757\n",
      "Epoch 335/1000 | Dis. Train Loss: 1.0534 | Adv. Train Loss: 1.0534 | Tri. Train Loss: 1.0534\n",
      "Epoch 336/1000 | Dis. Train Loss: 0.9260 | Adv. Train Loss: 0.9260 | Tri. Train Loss: 0.9260\n",
      "Epoch 337/1000 | Dis. Train Loss: 0.7112 | Adv. Train Loss: 0.7112 | Tri. Train Loss: 0.7112\n",
      "Epoch 338/1000 | Dis. Train Loss: 1.4117 | Adv. Train Loss: 1.4117 | Tri. Train Loss: 1.4117\n",
      "Epoch 339/1000 | Dis. Train Loss: 0.7246 | Adv. Train Loss: 0.7246 | Tri. Train Loss: 0.7246\n",
      "Epoch 340/1000 | Dis. Train Loss: 1.3331 | Adv. Train Loss: 1.3331 | Tri. Train Loss: 1.3331\n",
      "Epoch 341/1000 | Dis. Train Loss: 1.0230 | Adv. Train Loss: 1.0230 | Tri. Train Loss: 1.0230\n",
      "Epoch 342/1000 | Dis. Train Loss: 1.1816 | Adv. Train Loss: 1.1816 | Tri. Train Loss: 1.1816\n",
      "Epoch 343/1000 | Dis. Train Loss: 1.3976 | Adv. Train Loss: 1.3976 | Tri. Train Loss: 1.3976\n",
      "Epoch 344/1000 | Dis. Train Loss: 1.0370 | Adv. Train Loss: 1.0370 | Tri. Train Loss: 1.0370\n",
      "Epoch 345/1000 | Dis. Train Loss: 2.0154 | Adv. Train Loss: 2.0154 | Tri. Train Loss: 2.0154\n",
      "Epoch 346/1000 | Dis. Train Loss: 0.5859 | Adv. Train Loss: 0.5859 | Tri. Train Loss: 0.5859\n",
      "Epoch 347/1000 | Dis. Train Loss: 1.0079 | Adv. Train Loss: 1.0079 | Tri. Train Loss: 1.0079\n",
      "Epoch 348/1000 | Dis. Train Loss: 2.2828 | Adv. Train Loss: 2.2828 | Tri. Train Loss: 2.2828\n",
      "Epoch 349/1000 | Dis. Train Loss: 0.5876 | Adv. Train Loss: 0.5876 | Tri. Train Loss: 0.5876\n",
      "Epoch 350/1000 | Dis. Train Loss: 0.4981 | Adv. Train Loss: 0.4981 | Tri. Train Loss: 0.4981\n",
      "Epoch 351/1000 | Dis. Train Loss: 1.6571 | Adv. Train Loss: 1.6571 | Tri. Train Loss: 1.6571\n",
      "Epoch 352/1000 | Dis. Train Loss: 1.0159 | Adv. Train Loss: 1.0159 | Tri. Train Loss: 1.0159\n",
      "Epoch 353/1000 | Dis. Train Loss: 0.7238 | Adv. Train Loss: 0.7238 | Tri. Train Loss: 0.7238\n",
      "Epoch 354/1000 | Dis. Train Loss: 1.0708 | Adv. Train Loss: 1.0708 | Tri. Train Loss: 1.0708\n",
      "Epoch 355/1000 | Dis. Train Loss: 1.4658 | Adv. Train Loss: 1.4658 | Tri. Train Loss: 1.4658\n",
      "Epoch 356/1000 | Dis. Train Loss: 0.9158 | Adv. Train Loss: 0.9158 | Tri. Train Loss: 0.9158\n",
      "Epoch 357/1000 | Dis. Train Loss: 0.8506 | Adv. Train Loss: 0.8506 | Tri. Train Loss: 0.8506\n",
      "Epoch 358/1000 | Dis. Train Loss: 1.1408 | Adv. Train Loss: 1.1408 | Tri. Train Loss: 1.1408\n",
      "Epoch 359/1000 | Dis. Train Loss: 0.9655 | Adv. Train Loss: 0.9655 | Tri. Train Loss: 0.9655\n",
      "Epoch 360/1000 | Dis. Train Loss: 0.8214 | Adv. Train Loss: 0.8214 | Tri. Train Loss: 0.8214\n",
      "Epoch 361/1000 | Dis. Train Loss: 0.9402 | Adv. Train Loss: 0.9402 | Tri. Train Loss: 0.9402\n",
      "Epoch 362/1000 | Dis. Train Loss: 1.0058 | Adv. Train Loss: 1.0058 | Tri. Train Loss: 1.0058\n",
      "Epoch 363/1000 | Dis. Train Loss: 0.8519 | Adv. Train Loss: 0.8519 | Tri. Train Loss: 0.8519\n",
      "Epoch 364/1000 | Dis. Train Loss: 0.8987 | Adv. Train Loss: 0.8987 | Tri. Train Loss: 0.8987\n",
      "Epoch 365/1000 | Dis. Train Loss: 1.0207 | Adv. Train Loss: 1.0207 | Tri. Train Loss: 1.0207\n",
      "Epoch 366/1000 | Dis. Train Loss: 0.9202 | Adv. Train Loss: 0.9202 | Tri. Train Loss: 0.9202\n",
      "Epoch 367/1000 | Dis. Train Loss: 1.0171 | Adv. Train Loss: 1.0171 | Tri. Train Loss: 1.0171\n",
      "Epoch 368/1000 | Dis. Train Loss: 1.0933 | Adv. Train Loss: 1.0933 | Tri. Train Loss: 1.0933\n",
      "Epoch 369/1000 | Dis. Train Loss: 1.0201 | Adv. Train Loss: 1.0201 | Tri. Train Loss: 1.0201\n",
      "Epoch 370/1000 | Dis. Train Loss: 1.0778 | Adv. Train Loss: 1.0778 | Tri. Train Loss: 1.0778\n",
      "Epoch 371/1000 | Dis. Train Loss: 1.0874 | Adv. Train Loss: 1.0874 | Tri. Train Loss: 1.0874\n",
      "Epoch 372/1000 | Dis. Train Loss: 1.0198 | Adv. Train Loss: 1.0198 | Tri. Train Loss: 1.0198\n",
      "Epoch 373/1000 | Dis. Train Loss: 1.0125 | Adv. Train Loss: 1.0125 | Tri. Train Loss: 1.0125\n",
      "Epoch 374/1000 | Dis. Train Loss: 0.9761 | Adv. Train Loss: 0.9761 | Tri. Train Loss: 0.9761\n",
      "Epoch 375/1000 | Dis. Train Loss: 0.9109 | Adv. Train Loss: 0.9109 | Tri. Train Loss: 0.9109\n",
      "Epoch 376/1000 | Dis. Train Loss: 0.8219 | Adv. Train Loss: 0.8219 | Tri. Train Loss: 0.8219\n",
      "Epoch 377/1000 | Dis. Train Loss: 0.7596 | Adv. Train Loss: 0.7596 | Tri. Train Loss: 0.7596\n",
      "Epoch 378/1000 | Dis. Train Loss: 0.7162 | Adv. Train Loss: 0.7162 | Tri. Train Loss: 0.7162\n",
      "Epoch 379/1000 | Dis. Train Loss: 0.6851 | Adv. Train Loss: 0.6851 | Tri. Train Loss: 0.6851\n",
      "Epoch 380/1000 | Dis. Train Loss: 0.6672 | Adv. Train Loss: 0.6672 | Tri. Train Loss: 0.6672\n",
      "Epoch 381/1000 | Dis. Train Loss: 0.6742 | Adv. Train Loss: 0.6742 | Tri. Train Loss: 0.6742\n",
      "Epoch 382/1000 | Dis. Train Loss: 0.6919 | Adv. Train Loss: 0.6919 | Tri. Train Loss: 0.6919\n",
      "Epoch 383/1000 | Dis. Train Loss: 0.6799 | Adv. Train Loss: 0.6799 | Tri. Train Loss: 0.6799\n",
      "Epoch 384/1000 | Dis. Train Loss: 0.6522 | Adv. Train Loss: 0.6522 | Tri. Train Loss: 0.6522\n",
      "Epoch 385/1000 | Dis. Train Loss: 0.6335 | Adv. Train Loss: 0.6335 | Tri. Train Loss: 0.6335\n",
      "Epoch 386/1000 | Dis. Train Loss: 0.6165 | Adv. Train Loss: 0.6165 | Tri. Train Loss: 0.6165\n",
      "Epoch 387/1000 | Dis. Train Loss: 0.6072 | Adv. Train Loss: 0.6072 | Tri. Train Loss: 0.6072\n",
      "Epoch 388/1000 | Dis. Train Loss: 0.6078 | Adv. Train Loss: 0.6078 | Tri. Train Loss: 0.6078\n",
      "Epoch 389/1000 | Dis. Train Loss: 0.6464 | Adv. Train Loss: 0.6464 | Tri. Train Loss: 0.6464\n",
      "Epoch 390/1000 | Dis. Train Loss: 0.7229 | Adv. Train Loss: 0.7229 | Tri. Train Loss: 0.7229\n",
      "Epoch 391/1000 | Dis. Train Loss: 0.8211 | Adv. Train Loss: 0.8211 | Tri. Train Loss: 0.8211\n",
      "Epoch 392/1000 | Dis. Train Loss: 0.9227 | Adv. Train Loss: 0.9227 | Tri. Train Loss: 0.9227\n",
      "Epoch 393/1000 | Dis. Train Loss: 1.0249 | Adv. Train Loss: 1.0249 | Tri. Train Loss: 1.0249\n",
      "Epoch 394/1000 | Dis. Train Loss: 1.1538 | Adv. Train Loss: 1.1538 | Tri. Train Loss: 1.1538\n",
      "Epoch 395/1000 | Dis. Train Loss: 1.3022 | Adv. Train Loss: 1.3022 | Tri. Train Loss: 1.3022\n",
      "Epoch 396/1000 | Dis. Train Loss: 1.4368 | Adv. Train Loss: 1.4368 | Tri. Train Loss: 1.4368\n",
      "Epoch 397/1000 | Dis. Train Loss: 1.5000 | Adv. Train Loss: 1.5000 | Tri. Train Loss: 1.5000\n",
      "Epoch 398/1000 | Dis. Train Loss: 1.5958 | Adv. Train Loss: 1.5958 | Tri. Train Loss: 1.5958\n",
      "Epoch 399/1000 | Dis. Train Loss: 1.6605 | Adv. Train Loss: 1.6605 | Tri. Train Loss: 1.6605\n",
      "Epoch 400/1000 | Dis. Train Loss: 1.6102 | Adv. Train Loss: 1.6102 | Tri. Train Loss: 1.6102\n",
      "Epoch 401/1000 | Dis. Train Loss: 1.6461 | Adv. Train Loss: 1.6461 | Tri. Train Loss: 1.6461\n",
      "Epoch 402/1000 | Dis. Train Loss: 1.8061 | Adv. Train Loss: 1.8061 | Tri. Train Loss: 1.8061\n",
      "Epoch 403/1000 | Dis. Train Loss: 1.7948 | Adv. Train Loss: 1.7948 | Tri. Train Loss: 1.7948\n",
      "Epoch 404/1000 | Dis. Train Loss: 1.9044 | Adv. Train Loss: 1.9044 | Tri. Train Loss: 1.9044\n",
      "Epoch 405/1000 | Dis. Train Loss: 2.0597 | Adv. Train Loss: 2.0597 | Tri. Train Loss: 2.0597\n",
      "Epoch 406/1000 | Dis. Train Loss: 2.0430 | Adv. Train Loss: 2.0430 | Tri. Train Loss: 2.0430\n",
      "Epoch 407/1000 | Dis. Train Loss: 2.2117 | Adv. Train Loss: 2.2117 | Tri. Train Loss: 2.2117\n",
      "Epoch 408/1000 | Dis. Train Loss: 2.3478 | Adv. Train Loss: 2.3478 | Tri. Train Loss: 2.3478\n",
      "Epoch 409/1000 | Dis. Train Loss: 2.5898 | Adv. Train Loss: 2.5898 | Tri. Train Loss: 2.5898\n",
      "Epoch 410/1000 | Dis. Train Loss: 2.4818 | Adv. Train Loss: 2.4818 | Tri. Train Loss: 2.4818\n",
      "Epoch 411/1000 | Dis. Train Loss: 2.9557 | Adv. Train Loss: 2.9557 | Tri. Train Loss: 2.9557\n",
      "Epoch 412/1000 | Dis. Train Loss: 1.9511 | Adv. Train Loss: 1.9511 | Tri. Train Loss: 1.9511\n",
      "Epoch 413/1000 | Dis. Train Loss: 3.1153 | Adv. Train Loss: 3.1153 | Tri. Train Loss: 3.1153\n",
      "Epoch 414/1000 | Dis. Train Loss: 2.1070 | Adv. Train Loss: 2.1070 | Tri. Train Loss: 2.1070\n",
      "Epoch 415/1000 | Dis. Train Loss: 2.4397 | Adv. Train Loss: 2.4397 | Tri. Train Loss: 2.4397\n",
      "Epoch 416/1000 | Dis. Train Loss: 2.8482 | Adv. Train Loss: 2.8482 | Tri. Train Loss: 2.8482\n",
      "Epoch 417/1000 | Dis. Train Loss: 2.0321 | Adv. Train Loss: 2.0321 | Tri. Train Loss: 2.0321\n",
      "Epoch 418/1000 | Dis. Train Loss: 2.2070 | Adv. Train Loss: 2.2070 | Tri. Train Loss: 2.2070\n",
      "Epoch 419/1000 | Dis. Train Loss: 2.5952 | Adv. Train Loss: 2.5952 | Tri. Train Loss: 2.5952\n",
      "Epoch 420/1000 | Dis. Train Loss: 2.2310 | Adv. Train Loss: 2.2310 | Tri. Train Loss: 2.2310\n",
      "Epoch 421/1000 | Dis. Train Loss: 1.9199 | Adv. Train Loss: 1.9199 | Tri. Train Loss: 1.9199\n",
      "Epoch 422/1000 | Dis. Train Loss: 1.9316 | Adv. Train Loss: 1.9316 | Tri. Train Loss: 1.9316\n",
      "Epoch 423/1000 | Dis. Train Loss: 1.9285 | Adv. Train Loss: 1.9285 | Tri. Train Loss: 1.9285\n",
      "Epoch 424/1000 | Dis. Train Loss: 1.7593 | Adv. Train Loss: 1.7593 | Tri. Train Loss: 1.7593\n",
      "Epoch 425/1000 | Dis. Train Loss: 1.5182 | Adv. Train Loss: 1.5182 | Tri. Train Loss: 1.5182\n",
      "Epoch 426/1000 | Dis. Train Loss: 1.3510 | Adv. Train Loss: 1.3510 | Tri. Train Loss: 1.3510\n",
      "Epoch 427/1000 | Dis. Train Loss: 1.2576 | Adv. Train Loss: 1.2576 | Tri. Train Loss: 1.2576\n",
      "Epoch 428/1000 | Dis. Train Loss: 1.1477 | Adv. Train Loss: 1.1477 | Tri. Train Loss: 1.1477\n",
      "Epoch 429/1000 | Dis. Train Loss: 1.0165 | Adv. Train Loss: 1.0165 | Tri. Train Loss: 1.0165\n",
      "Epoch 430/1000 | Dis. Train Loss: 0.9220 | Adv. Train Loss: 0.9220 | Tri. Train Loss: 0.9220\n",
      "Epoch 431/1000 | Dis. Train Loss: 0.8729 | Adv. Train Loss: 0.8729 | Tri. Train Loss: 0.8729\n",
      "Epoch 432/1000 | Dis. Train Loss: 0.8417 | Adv. Train Loss: 0.8417 | Tri. Train Loss: 0.8417\n",
      "Epoch 433/1000 | Dis. Train Loss: 0.8088 | Adv. Train Loss: 0.8088 | Tri. Train Loss: 0.8088\n",
      "Epoch 434/1000 | Dis. Train Loss: 0.7766 | Adv. Train Loss: 0.7766 | Tri. Train Loss: 0.7766\n",
      "Epoch 435/1000 | Dis. Train Loss: 0.7731 | Adv. Train Loss: 0.7731 | Tri. Train Loss: 0.7731\n",
      "Epoch 436/1000 | Dis. Train Loss: 0.7836 | Adv. Train Loss: 0.7836 | Tri. Train Loss: 0.7836\n",
      "Epoch 437/1000 | Dis. Train Loss: 0.7822 | Adv. Train Loss: 0.7822 | Tri. Train Loss: 0.7822\n",
      "Epoch 438/1000 | Dis. Train Loss: 0.7833 | Adv. Train Loss: 0.7833 | Tri. Train Loss: 0.7833\n",
      "Epoch 439/1000 | Dis. Train Loss: 0.8065 | Adv. Train Loss: 0.8065 | Tri. Train Loss: 0.8065\n",
      "Epoch 440/1000 | Dis. Train Loss: 0.8471 | Adv. Train Loss: 0.8471 | Tri. Train Loss: 0.8471\n",
      "Epoch 441/1000 | Dis. Train Loss: 0.8771 | Adv. Train Loss: 0.8771 | Tri. Train Loss: 0.8771\n",
      "Epoch 442/1000 | Dis. Train Loss: 0.9297 | Adv. Train Loss: 0.9297 | Tri. Train Loss: 0.9297\n",
      "Epoch 443/1000 | Dis. Train Loss: 1.0249 | Adv. Train Loss: 1.0249 | Tri. Train Loss: 1.0249\n",
      "Epoch 444/1000 | Dis. Train Loss: 1.1416 | Adv. Train Loss: 1.1416 | Tri. Train Loss: 1.1416\n",
      "Epoch 445/1000 | Dis. Train Loss: 1.2790 | Adv. Train Loss: 1.2790 | Tri. Train Loss: 1.2790\n",
      "Epoch 446/1000 | Dis. Train Loss: 1.3914 | Adv. Train Loss: 1.3914 | Tri. Train Loss: 1.3914\n",
      "Epoch 447/1000 | Dis. Train Loss: 1.4833 | Adv. Train Loss: 1.4833 | Tri. Train Loss: 1.4833\n",
      "Epoch 448/1000 | Dis. Train Loss: 1.5194 | Adv. Train Loss: 1.5194 | Tri. Train Loss: 1.5194\n",
      "Epoch 449/1000 | Dis. Train Loss: 1.5031 | Adv. Train Loss: 1.5031 | Tri. Train Loss: 1.5031\n",
      "Epoch 450/1000 | Dis. Train Loss: 1.5486 | Adv. Train Loss: 1.5486 | Tri. Train Loss: 1.5486\n",
      "Epoch 451/1000 | Dis. Train Loss: 1.6571 | Adv. Train Loss: 1.6571 | Tri. Train Loss: 1.6571\n",
      "Epoch 452/1000 | Dis. Train Loss: 1.6871 | Adv. Train Loss: 1.6871 | Tri. Train Loss: 1.6871\n",
      "Epoch 453/1000 | Dis. Train Loss: 1.6033 | Adv. Train Loss: 1.6033 | Tri. Train Loss: 1.6033\n",
      "Epoch 454/1000 | Dis. Train Loss: 1.5131 | Adv. Train Loss: 1.5131 | Tri. Train Loss: 1.5131\n",
      "Epoch 455/1000 | Dis. Train Loss: 1.5608 | Adv. Train Loss: 1.5608 | Tri. Train Loss: 1.5608\n",
      "Epoch 456/1000 | Dis. Train Loss: 1.8968 | Adv. Train Loss: 1.8968 | Tri. Train Loss: 1.8968\n",
      "Epoch 457/1000 | Dis. Train Loss: 2.0621 | Adv. Train Loss: 2.0621 | Tri. Train Loss: 2.0621\n",
      "Epoch 458/1000 | Dis. Train Loss: 1.9927 | Adv. Train Loss: 1.9927 | Tri. Train Loss: 1.9927\n",
      "Epoch 459/1000 | Dis. Train Loss: 2.2346 | Adv. Train Loss: 2.2346 | Tri. Train Loss: 2.2346\n",
      "Epoch 460/1000 | Dis. Train Loss: 2.5212 | Adv. Train Loss: 2.5212 | Tri. Train Loss: 2.5212\n",
      "Epoch 461/1000 | Dis. Train Loss: 2.7018 | Adv. Train Loss: 2.7018 | Tri. Train Loss: 2.7018\n",
      "Epoch 462/1000 | Dis. Train Loss: 2.7898 | Adv. Train Loss: 2.7898 | Tri. Train Loss: 2.7898\n",
      "Epoch 463/1000 | Dis. Train Loss: 2.6778 | Adv. Train Loss: 2.6778 | Tri. Train Loss: 2.6778\n",
      "Epoch 464/1000 | Dis. Train Loss: 2.7477 | Adv. Train Loss: 2.7477 | Tri. Train Loss: 2.7477\n",
      "Epoch 465/1000 | Dis. Train Loss: 2.4883 | Adv. Train Loss: 2.4883 | Tri. Train Loss: 2.4883\n",
      "Epoch 466/1000 | Dis. Train Loss: 3.0196 | Adv. Train Loss: 3.0196 | Tri. Train Loss: 3.0196\n",
      "Epoch 467/1000 | Dis. Train Loss: 2.6071 | Adv. Train Loss: 2.6071 | Tri. Train Loss: 2.6071\n",
      "Epoch 468/1000 | Dis. Train Loss: 3.8274 | Adv. Train Loss: 3.8274 | Tri. Train Loss: 3.8274\n",
      "Epoch 469/1000 | Dis. Train Loss: 1.0243 | Adv. Train Loss: 1.0243 | Tri. Train Loss: 1.0243\n",
      "Epoch 470/1000 | Dis. Train Loss: 1.6131 | Adv. Train Loss: 1.6131 | Tri. Train Loss: 1.6131\n",
      "Epoch 471/1000 | Dis. Train Loss: 3.9216 | Adv. Train Loss: 3.9216 | Tri. Train Loss: 3.9216\n",
      "Epoch 472/1000 | Dis. Train Loss: 1.1391 | Adv. Train Loss: 1.1391 | Tri. Train Loss: 1.1391\n",
      "Epoch 473/1000 | Dis. Train Loss: 1.3882 | Adv. Train Loss: 1.3882 | Tri. Train Loss: 1.3882\n",
      "Epoch 474/1000 | Dis. Train Loss: 3.3404 | Adv. Train Loss: 3.3404 | Tri. Train Loss: 3.3404\n",
      "Epoch 475/1000 | Dis. Train Loss: 2.1372 | Adv. Train Loss: 2.1372 | Tri. Train Loss: 2.1372\n",
      "Epoch 476/1000 | Dis. Train Loss: 1.5868 | Adv. Train Loss: 1.5868 | Tri. Train Loss: 1.5868\n",
      "Epoch 477/1000 | Dis. Train Loss: 2.0051 | Adv. Train Loss: 2.0051 | Tri. Train Loss: 2.0051\n",
      "Epoch 478/1000 | Dis. Train Loss: 2.2351 | Adv. Train Loss: 2.2351 | Tri. Train Loss: 2.2351\n",
      "Epoch 479/1000 | Dis. Train Loss: 1.8180 | Adv. Train Loss: 1.8180 | Tri. Train Loss: 1.8180\n",
      "Epoch 480/1000 | Dis. Train Loss: 1.6122 | Adv. Train Loss: 1.6122 | Tri. Train Loss: 1.6122\n",
      "Epoch 481/1000 | Dis. Train Loss: 1.6879 | Adv. Train Loss: 1.6879 | Tri. Train Loss: 1.6879\n",
      "Epoch 482/1000 | Dis. Train Loss: 1.7422 | Adv. Train Loss: 1.7422 | Tri. Train Loss: 1.7422\n",
      "Epoch 483/1000 | Dis. Train Loss: 1.5863 | Adv. Train Loss: 1.5863 | Tri. Train Loss: 1.5863\n",
      "Epoch 484/1000 | Dis. Train Loss: 1.4103 | Adv. Train Loss: 1.4103 | Tri. Train Loss: 1.4103\n",
      "Epoch 485/1000 | Dis. Train Loss: 1.3807 | Adv. Train Loss: 1.3807 | Tri. Train Loss: 1.3807\n",
      "Epoch 486/1000 | Dis. Train Loss: 1.3853 | Adv. Train Loss: 1.3853 | Tri. Train Loss: 1.3853\n",
      "Epoch 487/1000 | Dis. Train Loss: 1.3994 | Adv. Train Loss: 1.3994 | Tri. Train Loss: 1.3994\n",
      "Epoch 488/1000 | Dis. Train Loss: 1.4155 | Adv. Train Loss: 1.4155 | Tri. Train Loss: 1.4155\n",
      "Epoch 489/1000 | Dis. Train Loss: 1.4034 | Adv. Train Loss: 1.4034 | Tri. Train Loss: 1.4034\n",
      "Epoch 490/1000 | Dis. Train Loss: 1.3332 | Adv. Train Loss: 1.3332 | Tri. Train Loss: 1.3332\n",
      "Epoch 491/1000 | Dis. Train Loss: 1.2002 | Adv. Train Loss: 1.2002 | Tri. Train Loss: 1.2002\n",
      "Epoch 492/1000 | Dis. Train Loss: 1.0584 | Adv. Train Loss: 1.0584 | Tri. Train Loss: 1.0584\n",
      "Epoch 493/1000 | Dis. Train Loss: 0.9579 | Adv. Train Loss: 0.9579 | Tri. Train Loss: 0.9579\n",
      "Epoch 494/1000 | Dis. Train Loss: 0.8951 | Adv. Train Loss: 0.8951 | Tri. Train Loss: 0.8951\n",
      "Epoch 495/1000 | Dis. Train Loss: 0.8797 | Adv. Train Loss: 0.8797 | Tri. Train Loss: 0.8797\n",
      "Epoch 496/1000 | Dis. Train Loss: 0.8955 | Adv. Train Loss: 0.8955 | Tri. Train Loss: 0.8955\n",
      "Epoch 497/1000 | Dis. Train Loss: 0.9314 | Adv. Train Loss: 0.9314 | Tri. Train Loss: 0.9314\n",
      "Epoch 498/1000 | Dis. Train Loss: 1.0044 | Adv. Train Loss: 1.0044 | Tri. Train Loss: 1.0044\n",
      "Epoch 499/1000 | Dis. Train Loss: 1.0944 | Adv. Train Loss: 1.0944 | Tri. Train Loss: 1.0944\n",
      "Epoch 500/1000 | Dis. Train Loss: 1.1497 | Adv. Train Loss: 1.1497 | Tri. Train Loss: 1.1497\n",
      "Epoch 501/1000 | Dis. Train Loss: 1.1433 | Adv. Train Loss: 1.1433 | Tri. Train Loss: 1.1433\n",
      "Epoch 502/1000 | Dis. Train Loss: 1.1113 | Adv. Train Loss: 1.1113 | Tri. Train Loss: 1.1113\n",
      "Epoch 503/1000 | Dis. Train Loss: 1.0947 | Adv. Train Loss: 1.0947 | Tri. Train Loss: 1.0947\n",
      "Epoch 504/1000 | Dis. Train Loss: 1.0926 | Adv. Train Loss: 1.0926 | Tri. Train Loss: 1.0926\n",
      "Epoch 505/1000 | Dis. Train Loss: 1.1082 | Adv. Train Loss: 1.1082 | Tri. Train Loss: 1.1082\n",
      "Epoch 506/1000 | Dis. Train Loss: 1.1776 | Adv. Train Loss: 1.1776 | Tri. Train Loss: 1.1776\n",
      "Epoch 507/1000 | Dis. Train Loss: 1.2999 | Adv. Train Loss: 1.2999 | Tri. Train Loss: 1.2999\n",
      "Epoch 508/1000 | Dis. Train Loss: 1.3634 | Adv. Train Loss: 1.3634 | Tri. Train Loss: 1.3634\n",
      "Epoch 509/1000 | Dis. Train Loss: 1.2945 | Adv. Train Loss: 1.2945 | Tri. Train Loss: 1.2945\n",
      "Epoch 510/1000 | Dis. Train Loss: 1.2123 | Adv. Train Loss: 1.2123 | Tri. Train Loss: 1.2123\n",
      "Epoch 511/1000 | Dis. Train Loss: 1.2747 | Adv. Train Loss: 1.2747 | Tri. Train Loss: 1.2747\n",
      "Epoch 512/1000 | Dis. Train Loss: 1.3155 | Adv. Train Loss: 1.3155 | Tri. Train Loss: 1.3155\n",
      "Epoch 513/1000 | Dis. Train Loss: 1.4142 | Adv. Train Loss: 1.4142 | Tri. Train Loss: 1.4142\n",
      "Epoch 514/1000 | Dis. Train Loss: 1.6008 | Adv. Train Loss: 1.6008 | Tri. Train Loss: 1.6008\n",
      "Epoch 515/1000 | Dis. Train Loss: 1.5397 | Adv. Train Loss: 1.5397 | Tri. Train Loss: 1.5397\n",
      "Epoch 516/1000 | Dis. Train Loss: 1.7159 | Adv. Train Loss: 1.7159 | Tri. Train Loss: 1.7159\n",
      "Epoch 517/1000 | Dis. Train Loss: 1.4439 | Adv. Train Loss: 1.4439 | Tri. Train Loss: 1.4439\n",
      "Epoch 518/1000 | Dis. Train Loss: 1.9571 | Adv. Train Loss: 1.9571 | Tri. Train Loss: 1.9571\n",
      "Epoch 519/1000 | Dis. Train Loss: 1.1345 | Adv. Train Loss: 1.1345 | Tri. Train Loss: 1.1345\n",
      "Epoch 520/1000 | Dis. Train Loss: 2.5995 | Adv. Train Loss: 2.5995 | Tri. Train Loss: 2.5995\n",
      "Epoch 521/1000 | Dis. Train Loss: 1.2757 | Adv. Train Loss: 1.2757 | Tri. Train Loss: 1.2757\n",
      "Epoch 522/1000 | Dis. Train Loss: 2.1692 | Adv. Train Loss: 2.1692 | Tri. Train Loss: 2.1692\n",
      "Epoch 523/1000 | Dis. Train Loss: 2.4125 | Adv. Train Loss: 2.4125 | Tri. Train Loss: 2.4125\n",
      "Epoch 524/1000 | Dis. Train Loss: 1.3782 | Adv. Train Loss: 1.3782 | Tri. Train Loss: 1.3782\n",
      "Epoch 525/1000 | Dis. Train Loss: 2.5557 | Adv. Train Loss: 2.5557 | Tri. Train Loss: 2.5557\n",
      "Epoch 526/1000 | Dis. Train Loss: 2.5308 | Adv. Train Loss: 2.5308 | Tri. Train Loss: 2.5308\n",
      "Epoch 527/1000 | Dis. Train Loss: 1.8253 | Adv. Train Loss: 1.8253 | Tri. Train Loss: 1.8253\n",
      "Epoch 528/1000 | Dis. Train Loss: 3.2018 | Adv. Train Loss: 3.2018 | Tri. Train Loss: 3.2018\n",
      "Epoch 529/1000 | Dis. Train Loss: 1.6595 | Adv. Train Loss: 1.6595 | Tri. Train Loss: 1.6595\n",
      "Epoch 530/1000 | Dis. Train Loss: 2.7263 | Adv. Train Loss: 2.7263 | Tri. Train Loss: 2.7263\n",
      "Epoch 531/1000 | Dis. Train Loss: 3.2460 | Adv. Train Loss: 3.2460 | Tri. Train Loss: 3.2460\n",
      "Epoch 532/1000 | Dis. Train Loss: 1.5264 | Adv. Train Loss: 1.5264 | Tri. Train Loss: 1.5264\n",
      "Epoch 533/1000 | Dis. Train Loss: 2.9229 | Adv. Train Loss: 2.9229 | Tri. Train Loss: 2.9229\n",
      "Epoch 534/1000 | Dis. Train Loss: 2.9403 | Adv. Train Loss: 2.9403 | Tri. Train Loss: 2.9403\n",
      "Epoch 535/1000 | Dis. Train Loss: 2.0090 | Adv. Train Loss: 2.0090 | Tri. Train Loss: 2.0090\n",
      "Epoch 536/1000 | Dis. Train Loss: 3.1876 | Adv. Train Loss: 3.1876 | Tri. Train Loss: 3.1876\n",
      "Epoch 537/1000 | Dis. Train Loss: 1.9125 | Adv. Train Loss: 1.9125 | Tri. Train Loss: 1.9125\n",
      "Epoch 538/1000 | Dis. Train Loss: 2.7070 | Adv. Train Loss: 2.7070 | Tri. Train Loss: 2.7070\n",
      "Epoch 539/1000 | Dis. Train Loss: 2.5838 | Adv. Train Loss: 2.5838 | Tri. Train Loss: 2.5838\n",
      "Epoch 540/1000 | Dis. Train Loss: 2.3161 | Adv. Train Loss: 2.3161 | Tri. Train Loss: 2.3161\n",
      "Epoch 541/1000 | Dis. Train Loss: 2.6027 | Adv. Train Loss: 2.6027 | Tri. Train Loss: 2.6027\n",
      "Epoch 542/1000 | Dis. Train Loss: 1.3138 | Adv. Train Loss: 1.3138 | Tri. Train Loss: 1.3138\n",
      "Epoch 543/1000 | Dis. Train Loss: 2.5426 | Adv. Train Loss: 2.5426 | Tri. Train Loss: 2.5426\n",
      "Epoch 544/1000 | Dis. Train Loss: 1.6915 | Adv. Train Loss: 1.6915 | Tri. Train Loss: 1.6915\n",
      "Epoch 545/1000 | Dis. Train Loss: 2.3729 | Adv. Train Loss: 2.3729 | Tri. Train Loss: 2.3729\n",
      "Epoch 546/1000 | Dis. Train Loss: 2.2012 | Adv. Train Loss: 2.2012 | Tri. Train Loss: 2.2012\n",
      "Epoch 547/1000 | Dis. Train Loss: 1.8450 | Adv. Train Loss: 1.8450 | Tri. Train Loss: 1.8450\n",
      "Epoch 548/1000 | Dis. Train Loss: 1.5178 | Adv. Train Loss: 1.5178 | Tri. Train Loss: 1.5178\n",
      "Epoch 549/1000 | Dis. Train Loss: 1.1018 | Adv. Train Loss: 1.1018 | Tri. Train Loss: 1.1018\n",
      "Epoch 550/1000 | Dis. Train Loss: 0.7067 | Adv. Train Loss: 0.7067 | Tri. Train Loss: 0.7067\n",
      "Epoch 551/1000 | Dis. Train Loss: 0.5903 | Adv. Train Loss: 0.5903 | Tri. Train Loss: 0.5903\n",
      "Epoch 552/1000 | Dis. Train Loss: 1.0601 | Adv. Train Loss: 1.0601 | Tri. Train Loss: 1.0601\n",
      "Epoch 553/1000 | Dis. Train Loss: 1.5451 | Adv. Train Loss: 1.5451 | Tri. Train Loss: 1.5451\n",
      "Epoch 554/1000 | Dis. Train Loss: 1.7180 | Adv. Train Loss: 1.7180 | Tri. Train Loss: 1.7180\n",
      "Epoch 555/1000 | Dis. Train Loss: 1.6381 | Adv. Train Loss: 1.6381 | Tri. Train Loss: 1.6381\n",
      "Epoch 556/1000 | Dis. Train Loss: 1.4609 | Adv. Train Loss: 1.4609 | Tri. Train Loss: 1.4609\n",
      "Epoch 557/1000 | Dis. Train Loss: 1.2836 | Adv. Train Loss: 1.2836 | Tri. Train Loss: 1.2836\n",
      "Epoch 558/1000 | Dis. Train Loss: 1.1257 | Adv. Train Loss: 1.1257 | Tri. Train Loss: 1.1257\n",
      "Epoch 559/1000 | Dis. Train Loss: 1.0242 | Adv. Train Loss: 1.0242 | Tri. Train Loss: 1.0242\n",
      "Epoch 560/1000 | Dis. Train Loss: 1.0246 | Adv. Train Loss: 1.0246 | Tri. Train Loss: 1.0246\n",
      "Epoch 561/1000 | Dis. Train Loss: 1.0908 | Adv. Train Loss: 1.0908 | Tri. Train Loss: 1.0908\n",
      "Epoch 562/1000 | Dis. Train Loss: 1.1187 | Adv. Train Loss: 1.1187 | Tri. Train Loss: 1.1187\n",
      "Epoch 563/1000 | Dis. Train Loss: 1.0406 | Adv. Train Loss: 1.0406 | Tri. Train Loss: 1.0406\n",
      "Epoch 564/1000 | Dis. Train Loss: 0.9510 | Adv. Train Loss: 0.9510 | Tri. Train Loss: 0.9510\n",
      "Epoch 565/1000 | Dis. Train Loss: 0.9958 | Adv. Train Loss: 0.9958 | Tri. Train Loss: 0.9958\n",
      "Epoch 566/1000 | Dis. Train Loss: 1.1570 | Adv. Train Loss: 1.1570 | Tri. Train Loss: 1.1570\n",
      "Epoch 567/1000 | Dis. Train Loss: 1.3087 | Adv. Train Loss: 1.3087 | Tri. Train Loss: 1.3087\n",
      "Epoch 568/1000 | Dis. Train Loss: 1.3522 | Adv. Train Loss: 1.3522 | Tri. Train Loss: 1.3522\n",
      "Epoch 569/1000 | Dis. Train Loss: 1.4134 | Adv. Train Loss: 1.4134 | Tri. Train Loss: 1.4134\n",
      "Epoch 570/1000 | Dis. Train Loss: 1.5876 | Adv. Train Loss: 1.5876 | Tri. Train Loss: 1.5876\n",
      "Epoch 571/1000 | Dis. Train Loss: 1.6897 | Adv. Train Loss: 1.6897 | Tri. Train Loss: 1.6897\n",
      "Epoch 572/1000 | Dis. Train Loss: 1.6306 | Adv. Train Loss: 1.6306 | Tri. Train Loss: 1.6306\n",
      "Epoch 573/1000 | Dis. Train Loss: 1.5900 | Adv. Train Loss: 1.5900 | Tri. Train Loss: 1.5900\n",
      "Epoch 574/1000 | Dis. Train Loss: 1.6168 | Adv. Train Loss: 1.6168 | Tri. Train Loss: 1.6168\n",
      "Epoch 575/1000 | Dis. Train Loss: 1.6388 | Adv. Train Loss: 1.6388 | Tri. Train Loss: 1.6388\n",
      "Epoch 576/1000 | Dis. Train Loss: 1.6025 | Adv. Train Loss: 1.6025 | Tri. Train Loss: 1.6025\n",
      "Epoch 577/1000 | Dis. Train Loss: 1.5817 | Adv. Train Loss: 1.5817 | Tri. Train Loss: 1.5817\n",
      "Epoch 578/1000 | Dis. Train Loss: 1.6147 | Adv. Train Loss: 1.6147 | Tri. Train Loss: 1.6147\n",
      "Epoch 579/1000 | Dis. Train Loss: 1.5964 | Adv. Train Loss: 1.5964 | Tri. Train Loss: 1.5964\n",
      "Epoch 580/1000 | Dis. Train Loss: 1.5011 | Adv. Train Loss: 1.5011 | Tri. Train Loss: 1.5011\n",
      "Epoch 581/1000 | Dis. Train Loss: 1.4615 | Adv. Train Loss: 1.4615 | Tri. Train Loss: 1.4615\n",
      "Epoch 582/1000 | Dis. Train Loss: 1.4928 | Adv. Train Loss: 1.4928 | Tri. Train Loss: 1.4928\n",
      "Epoch 583/1000 | Dis. Train Loss: 1.5121 | Adv. Train Loss: 1.5121 | Tri. Train Loss: 1.5121\n",
      "Epoch 584/1000 | Dis. Train Loss: 1.4670 | Adv. Train Loss: 1.4670 | Tri. Train Loss: 1.4670\n",
      "Epoch 585/1000 | Dis. Train Loss: 1.4231 | Adv. Train Loss: 1.4231 | Tri. Train Loss: 1.4231\n",
      "Epoch 586/1000 | Dis. Train Loss: 1.4097 | Adv. Train Loss: 1.4097 | Tri. Train Loss: 1.4097\n",
      "Epoch 587/1000 | Dis. Train Loss: 1.4257 | Adv. Train Loss: 1.4257 | Tri. Train Loss: 1.4257\n",
      "Epoch 588/1000 | Dis. Train Loss: 1.4199 | Adv. Train Loss: 1.4199 | Tri. Train Loss: 1.4199\n",
      "Epoch 589/1000 | Dis. Train Loss: 1.3951 | Adv. Train Loss: 1.3951 | Tri. Train Loss: 1.3951\n",
      "Epoch 590/1000 | Dis. Train Loss: 1.3816 | Adv. Train Loss: 1.3816 | Tri. Train Loss: 1.3816\n",
      "Epoch 591/1000 | Dis. Train Loss: 1.4034 | Adv. Train Loss: 1.4034 | Tri. Train Loss: 1.4034\n",
      "Epoch 592/1000 | Dis. Train Loss: 1.4139 | Adv. Train Loss: 1.4139 | Tri. Train Loss: 1.4139\n",
      "Epoch 593/1000 | Dis. Train Loss: 1.3805 | Adv. Train Loss: 1.3805 | Tri. Train Loss: 1.3805\n",
      "Epoch 594/1000 | Dis. Train Loss: 1.3717 | Adv. Train Loss: 1.3717 | Tri. Train Loss: 1.3717\n",
      "Epoch 595/1000 | Dis. Train Loss: 1.3913 | Adv. Train Loss: 1.3913 | Tri. Train Loss: 1.3913\n",
      "Epoch 596/1000 | Dis. Train Loss: 1.4046 | Adv. Train Loss: 1.4046 | Tri. Train Loss: 1.4046\n",
      "Epoch 597/1000 | Dis. Train Loss: 1.4155 | Adv. Train Loss: 1.4155 | Tri. Train Loss: 1.4155\n",
      "Epoch 598/1000 | Dis. Train Loss: 1.4123 | Adv. Train Loss: 1.4123 | Tri. Train Loss: 1.4123\n",
      "Epoch 599/1000 | Dis. Train Loss: 1.4019 | Adv. Train Loss: 1.4019 | Tri. Train Loss: 1.4019\n",
      "Epoch 600/1000 | Dis. Train Loss: 1.3910 | Adv. Train Loss: 1.3910 | Tri. Train Loss: 1.3910\n",
      "Epoch 601/1000 | Dis. Train Loss: 1.4161 | Adv. Train Loss: 1.4161 | Tri. Train Loss: 1.4161\n",
      "Epoch 602/1000 | Dis. Train Loss: 1.4201 | Adv. Train Loss: 1.4201 | Tri. Train Loss: 1.4201\n",
      "Epoch 603/1000 | Dis. Train Loss: 1.3633 | Adv. Train Loss: 1.3633 | Tri. Train Loss: 1.3633\n",
      "Epoch 604/1000 | Dis. Train Loss: 1.2822 | Adv. Train Loss: 1.2822 | Tri. Train Loss: 1.2822\n",
      "Epoch 605/1000 | Dis. Train Loss: 1.2426 | Adv. Train Loss: 1.2426 | Tri. Train Loss: 1.2426\n",
      "Epoch 606/1000 | Dis. Train Loss: 1.2235 | Adv. Train Loss: 1.2235 | Tri. Train Loss: 1.2235\n",
      "Epoch 607/1000 | Dis. Train Loss: 1.2020 | Adv. Train Loss: 1.2020 | Tri. Train Loss: 1.2020\n",
      "Epoch 608/1000 | Dis. Train Loss: 1.2061 | Adv. Train Loss: 1.2061 | Tri. Train Loss: 1.2061\n",
      "Epoch 609/1000 | Dis. Train Loss: 1.1991 | Adv. Train Loss: 1.1991 | Tri. Train Loss: 1.1991\n",
      "Epoch 610/1000 | Dis. Train Loss: 1.1991 | Adv. Train Loss: 1.1991 | Tri. Train Loss: 1.1991\n",
      "Epoch 611/1000 | Dis. Train Loss: 1.1730 | Adv. Train Loss: 1.1730 | Tri. Train Loss: 1.1730\n",
      "Epoch 612/1000 | Dis. Train Loss: 1.1166 | Adv. Train Loss: 1.1166 | Tri. Train Loss: 1.1166\n",
      "Epoch 613/1000 | Dis. Train Loss: 1.0502 | Adv. Train Loss: 1.0502 | Tri. Train Loss: 1.0502\n",
      "Epoch 614/1000 | Dis. Train Loss: 0.9806 | Adv. Train Loss: 0.9806 | Tri. Train Loss: 0.9806\n",
      "Epoch 615/1000 | Dis. Train Loss: 0.9490 | Adv. Train Loss: 0.9490 | Tri. Train Loss: 0.9490\n",
      "Epoch 616/1000 | Dis. Train Loss: 0.9529 | Adv. Train Loss: 0.9529 | Tri. Train Loss: 0.9529\n",
      "Epoch 617/1000 | Dis. Train Loss: 0.9347 | Adv. Train Loss: 0.9347 | Tri. Train Loss: 0.9347\n",
      "Epoch 618/1000 | Dis. Train Loss: 0.9316 | Adv. Train Loss: 0.9316 | Tri. Train Loss: 0.9316\n",
      "Epoch 619/1000 | Dis. Train Loss: 0.9302 | Adv. Train Loss: 0.9302 | Tri. Train Loss: 0.9302\n",
      "Epoch 620/1000 | Dis. Train Loss: 0.9449 | Adv. Train Loss: 0.9449 | Tri. Train Loss: 0.9449\n",
      "Epoch 621/1000 | Dis. Train Loss: 0.9511 | Adv. Train Loss: 0.9511 | Tri. Train Loss: 0.9511\n",
      "Epoch 622/1000 | Dis. Train Loss: 0.9178 | Adv. Train Loss: 0.9178 | Tri. Train Loss: 0.9178\n",
      "Epoch 623/1000 | Dis. Train Loss: 0.8743 | Adv. Train Loss: 0.8743 | Tri. Train Loss: 0.8743\n",
      "Epoch 624/1000 | Dis. Train Loss: 0.8312 | Adv. Train Loss: 0.8312 | Tri. Train Loss: 0.8312\n",
      "Epoch 625/1000 | Dis. Train Loss: 0.7986 | Adv. Train Loss: 0.7986 | Tri. Train Loss: 0.7986\n",
      "Epoch 626/1000 | Dis. Train Loss: 0.7801 | Adv. Train Loss: 0.7801 | Tri. Train Loss: 0.7801\n",
      "Epoch 627/1000 | Dis. Train Loss: 0.7654 | Adv. Train Loss: 0.7654 | Tri. Train Loss: 0.7654\n",
      "Epoch 628/1000 | Dis. Train Loss: 0.7471 | Adv. Train Loss: 0.7471 | Tri. Train Loss: 0.7471\n",
      "Epoch 629/1000 | Dis. Train Loss: 0.7363 | Adv. Train Loss: 0.7363 | Tri. Train Loss: 0.7363\n",
      "Epoch 630/1000 | Dis. Train Loss: 0.7415 | Adv. Train Loss: 0.7415 | Tri. Train Loss: 0.7415\n",
      "Epoch 631/1000 | Dis. Train Loss: 0.7714 | Adv. Train Loss: 0.7714 | Tri. Train Loss: 0.7714\n",
      "Epoch 632/1000 | Dis. Train Loss: 0.8305 | Adv. Train Loss: 0.8305 | Tri. Train Loss: 0.8305\n",
      "Epoch 633/1000 | Dis. Train Loss: 0.8959 | Adv. Train Loss: 0.8959 | Tri. Train Loss: 0.8959\n",
      "Epoch 634/1000 | Dis. Train Loss: 0.9643 | Adv. Train Loss: 0.9643 | Tri. Train Loss: 0.9643\n",
      "Epoch 635/1000 | Dis. Train Loss: 1.0099 | Adv. Train Loss: 1.0099 | Tri. Train Loss: 1.0099\n",
      "Epoch 636/1000 | Dis. Train Loss: 1.0271 | Adv. Train Loss: 1.0271 | Tri. Train Loss: 1.0271\n",
      "Epoch 637/1000 | Dis. Train Loss: 1.0216 | Adv. Train Loss: 1.0216 | Tri. Train Loss: 1.0216\n",
      "Epoch 638/1000 | Dis. Train Loss: 1.0181 | Adv. Train Loss: 1.0181 | Tri. Train Loss: 1.0181\n",
      "Epoch 639/1000 | Dis. Train Loss: 1.0072 | Adv. Train Loss: 1.0072 | Tri. Train Loss: 1.0072\n",
      "Epoch 640/1000 | Dis. Train Loss: 0.9695 | Adv. Train Loss: 0.9695 | Tri. Train Loss: 0.9695\n",
      "Epoch 641/1000 | Dis. Train Loss: 0.9168 | Adv. Train Loss: 0.9168 | Tri. Train Loss: 0.9168\n",
      "Epoch 642/1000 | Dis. Train Loss: 0.8748 | Adv. Train Loss: 0.8748 | Tri. Train Loss: 0.8748\n",
      "Epoch 643/1000 | Dis. Train Loss: 0.8617 | Adv. Train Loss: 0.8617 | Tri. Train Loss: 0.8617\n",
      "Epoch 644/1000 | Dis. Train Loss: 0.9105 | Adv. Train Loss: 0.9105 | Tri. Train Loss: 0.9105\n",
      "Epoch 645/1000 | Dis. Train Loss: 0.9949 | Adv. Train Loss: 0.9949 | Tri. Train Loss: 0.9949\n",
      "Epoch 646/1000 | Dis. Train Loss: 1.0872 | Adv. Train Loss: 1.0872 | Tri. Train Loss: 1.0872\n",
      "Epoch 647/1000 | Dis. Train Loss: 1.1325 | Adv. Train Loss: 1.1325 | Tri. Train Loss: 1.1325\n",
      "Epoch 648/1000 | Dis. Train Loss: 1.1716 | Adv. Train Loss: 1.1716 | Tri. Train Loss: 1.1716\n",
      "Epoch 649/1000 | Dis. Train Loss: 1.2584 | Adv. Train Loss: 1.2584 | Tri. Train Loss: 1.2584\n",
      "Epoch 650/1000 | Dis. Train Loss: 1.3379 | Adv. Train Loss: 1.3379 | Tri. Train Loss: 1.3379\n",
      "Epoch 651/1000 | Dis. Train Loss: 1.3765 | Adv. Train Loss: 1.3765 | Tri. Train Loss: 1.3765\n",
      "Epoch 652/1000 | Dis. Train Loss: 1.4089 | Adv. Train Loss: 1.4089 | Tri. Train Loss: 1.4089\n",
      "Epoch 653/1000 | Dis. Train Loss: 1.4511 | Adv. Train Loss: 1.4511 | Tri. Train Loss: 1.4511\n",
      "Epoch 654/1000 | Dis. Train Loss: 1.4825 | Adv. Train Loss: 1.4825 | Tri. Train Loss: 1.4825\n",
      "Epoch 655/1000 | Dis. Train Loss: 1.4820 | Adv. Train Loss: 1.4820 | Tri. Train Loss: 1.4820\n",
      "Epoch 656/1000 | Dis. Train Loss: 1.4854 | Adv. Train Loss: 1.4854 | Tri. Train Loss: 1.4854\n",
      "Epoch 657/1000 | Dis. Train Loss: 1.5148 | Adv. Train Loss: 1.5148 | Tri. Train Loss: 1.5148\n",
      "Epoch 658/1000 | Dis. Train Loss: 1.4995 | Adv. Train Loss: 1.4995 | Tri. Train Loss: 1.4995\n",
      "Epoch 659/1000 | Dis. Train Loss: 1.4513 | Adv. Train Loss: 1.4513 | Tri. Train Loss: 1.4513\n",
      "Epoch 660/1000 | Dis. Train Loss: 1.4359 | Adv. Train Loss: 1.4359 | Tri. Train Loss: 1.4359\n",
      "Epoch 661/1000 | Dis. Train Loss: 1.4748 | Adv. Train Loss: 1.4748 | Tri. Train Loss: 1.4748\n",
      "Epoch 662/1000 | Dis. Train Loss: 1.4881 | Adv. Train Loss: 1.4881 | Tri. Train Loss: 1.4881\n",
      "Epoch 663/1000 | Dis. Train Loss: 1.4548 | Adv. Train Loss: 1.4548 | Tri. Train Loss: 1.4548\n",
      "Epoch 664/1000 | Dis. Train Loss: 1.4348 | Adv. Train Loss: 1.4348 | Tri. Train Loss: 1.4348\n",
      "Epoch 665/1000 | Dis. Train Loss: 1.4249 | Adv. Train Loss: 1.4249 | Tri. Train Loss: 1.4249\n",
      "Epoch 666/1000 | Dis. Train Loss: 1.3737 | Adv. Train Loss: 1.3737 | Tri. Train Loss: 1.3737\n",
      "Epoch 667/1000 | Dis. Train Loss: 1.2850 | Adv. Train Loss: 1.2850 | Tri. Train Loss: 1.2850\n",
      "Epoch 668/1000 | Dis. Train Loss: 1.2167 | Adv. Train Loss: 1.2167 | Tri. Train Loss: 1.2167\n",
      "Epoch 669/1000 | Dis. Train Loss: 1.1718 | Adv. Train Loss: 1.1718 | Tri. Train Loss: 1.1718\n",
      "Epoch 670/1000 | Dis. Train Loss: 1.1294 | Adv. Train Loss: 1.1294 | Tri. Train Loss: 1.1294\n",
      "Epoch 671/1000 | Dis. Train Loss: 1.0653 | Adv. Train Loss: 1.0653 | Tri. Train Loss: 1.0653\n",
      "Epoch 672/1000 | Dis. Train Loss: 1.0087 | Adv. Train Loss: 1.0087 | Tri. Train Loss: 1.0087\n",
      "Epoch 673/1000 | Dis. Train Loss: 0.9646 | Adv. Train Loss: 0.9646 | Tri. Train Loss: 0.9646\n",
      "Epoch 674/1000 | Dis. Train Loss: 0.9267 | Adv. Train Loss: 0.9267 | Tri. Train Loss: 0.9267\n",
      "Epoch 675/1000 | Dis. Train Loss: 0.8805 | Adv. Train Loss: 0.8805 | Tri. Train Loss: 0.8805\n",
      "Epoch 676/1000 | Dis. Train Loss: 0.8337 | Adv. Train Loss: 0.8337 | Tri. Train Loss: 0.8337\n",
      "Epoch 677/1000 | Dis. Train Loss: 0.8043 | Adv. Train Loss: 0.8043 | Tri. Train Loss: 0.8043\n",
      "Epoch 678/1000 | Dis. Train Loss: 0.8015 | Adv. Train Loss: 0.8015 | Tri. Train Loss: 0.8015\n",
      "Epoch 679/1000 | Dis. Train Loss: 0.8130 | Adv. Train Loss: 0.8130 | Tri. Train Loss: 0.8130\n",
      "Epoch 680/1000 | Dis. Train Loss: 0.8545 | Adv. Train Loss: 0.8545 | Tri. Train Loss: 0.8545\n",
      "Epoch 681/1000 | Dis. Train Loss: 0.9007 | Adv. Train Loss: 0.9007 | Tri. Train Loss: 0.9007\n",
      "Epoch 682/1000 | Dis. Train Loss: 0.9143 | Adv. Train Loss: 0.9143 | Tri. Train Loss: 0.9143\n",
      "Epoch 683/1000 | Dis. Train Loss: 0.8713 | Adv. Train Loss: 0.8713 | Tri. Train Loss: 0.8713\n",
      "Epoch 684/1000 | Dis. Train Loss: 0.8007 | Adv. Train Loss: 0.8007 | Tri. Train Loss: 0.8007\n",
      "Epoch 685/1000 | Dis. Train Loss: 0.7406 | Adv. Train Loss: 0.7406 | Tri. Train Loss: 0.7406\n",
      "Epoch 686/1000 | Dis. Train Loss: 0.7102 | Adv. Train Loss: 0.7102 | Tri. Train Loss: 0.7102\n",
      "Epoch 687/1000 | Dis. Train Loss: 0.7122 | Adv. Train Loss: 0.7122 | Tri. Train Loss: 0.7122\n",
      "Epoch 688/1000 | Dis. Train Loss: 0.7443 | Adv. Train Loss: 0.7443 | Tri. Train Loss: 0.7443\n",
      "Epoch 689/1000 | Dis. Train Loss: 0.7995 | Adv. Train Loss: 0.7995 | Tri. Train Loss: 0.7995\n",
      "Epoch 690/1000 | Dis. Train Loss: 0.8360 | Adv. Train Loss: 0.8360 | Tri. Train Loss: 0.8360\n",
      "Epoch 691/1000 | Dis. Train Loss: 0.8321 | Adv. Train Loss: 0.8321 | Tri. Train Loss: 0.8321\n",
      "Epoch 692/1000 | Dis. Train Loss: 0.8015 | Adv. Train Loss: 0.8015 | Tri. Train Loss: 0.8015\n",
      "Epoch 693/1000 | Dis. Train Loss: 0.7752 | Adv. Train Loss: 0.7752 | Tri. Train Loss: 0.7752\n",
      "Epoch 694/1000 | Dis. Train Loss: 0.7686 | Adv. Train Loss: 0.7686 | Tri. Train Loss: 0.7686\n",
      "Epoch 695/1000 | Dis. Train Loss: 0.7840 | Adv. Train Loss: 0.7840 | Tri. Train Loss: 0.7840\n",
      "Epoch 696/1000 | Dis. Train Loss: 0.8170 | Adv. Train Loss: 0.8170 | Tri. Train Loss: 0.8170\n",
      "Epoch 697/1000 | Dis. Train Loss: 0.8436 | Adv. Train Loss: 0.8436 | Tri. Train Loss: 0.8436\n",
      "Epoch 698/1000 | Dis. Train Loss: 0.8736 | Adv. Train Loss: 0.8736 | Tri. Train Loss: 0.8736\n",
      "Epoch 699/1000 | Dis. Train Loss: 0.9344 | Adv. Train Loss: 0.9344 | Tri. Train Loss: 0.9344\n",
      "Epoch 700/1000 | Dis. Train Loss: 1.0369 | Adv. Train Loss: 1.0369 | Tri. Train Loss: 1.0369\n",
      "Epoch 701/1000 | Dis. Train Loss: 1.1357 | Adv. Train Loss: 1.1357 | Tri. Train Loss: 1.1357\n",
      "Epoch 702/1000 | Dis. Train Loss: 1.2460 | Adv. Train Loss: 1.2460 | Tri. Train Loss: 1.2460\n",
      "Epoch 703/1000 | Dis. Train Loss: 1.3608 | Adv. Train Loss: 1.3608 | Tri. Train Loss: 1.3608\n",
      "Epoch 704/1000 | Dis. Train Loss: 1.4195 | Adv. Train Loss: 1.4195 | Tri. Train Loss: 1.4195\n",
      "Epoch 705/1000 | Dis. Train Loss: 1.4529 | Adv. Train Loss: 1.4529 | Tri. Train Loss: 1.4529\n",
      "Epoch 706/1000 | Dis. Train Loss: 1.4757 | Adv. Train Loss: 1.4757 | Tri. Train Loss: 1.4757\n",
      "Epoch 707/1000 | Dis. Train Loss: 1.5106 | Adv. Train Loss: 1.5106 | Tri. Train Loss: 1.5106\n",
      "Epoch 708/1000 | Dis. Train Loss: 1.5614 | Adv. Train Loss: 1.5614 | Tri. Train Loss: 1.5614\n",
      "Epoch 709/1000 | Dis. Train Loss: 1.5818 | Adv. Train Loss: 1.5818 | Tri. Train Loss: 1.5818\n",
      "Epoch 710/1000 | Dis. Train Loss: 1.5973 | Adv. Train Loss: 1.5973 | Tri. Train Loss: 1.5973\n",
      "Epoch 711/1000 | Dis. Train Loss: 1.6587 | Adv. Train Loss: 1.6587 | Tri. Train Loss: 1.6587\n",
      "Epoch 712/1000 | Dis. Train Loss: 1.7047 | Adv. Train Loss: 1.7047 | Tri. Train Loss: 1.7047\n",
      "Epoch 713/1000 | Dis. Train Loss: 1.7784 | Adv. Train Loss: 1.7784 | Tri. Train Loss: 1.7784\n",
      "Epoch 714/1000 | Dis. Train Loss: 2.0021 | Adv. Train Loss: 2.0021 | Tri. Train Loss: 2.0021\n",
      "Epoch 715/1000 | Dis. Train Loss: 2.0316 | Adv. Train Loss: 2.0316 | Tri. Train Loss: 2.0316\n",
      "Epoch 716/1000 | Dis. Train Loss: 2.0645 | Adv. Train Loss: 2.0645 | Tri. Train Loss: 2.0645\n",
      "Epoch 717/1000 | Dis. Train Loss: 2.0820 | Adv. Train Loss: 2.0820 | Tri. Train Loss: 2.0820\n",
      "Epoch 718/1000 | Dis. Train Loss: 1.9164 | Adv. Train Loss: 1.9164 | Tri. Train Loss: 1.9164\n",
      "Epoch 719/1000 | Dis. Train Loss: 2.3649 | Adv. Train Loss: 2.3649 | Tri. Train Loss: 2.3649\n",
      "Epoch 720/1000 | Dis. Train Loss: 1.8222 | Adv. Train Loss: 1.8222 | Tri. Train Loss: 1.8222\n",
      "Epoch 721/1000 | Dis. Train Loss: 3.1837 | Adv. Train Loss: 3.1837 | Tri. Train Loss: 3.1837\n",
      "Epoch 722/1000 | Dis. Train Loss: 1.2844 | Adv. Train Loss: 1.2844 | Tri. Train Loss: 1.2844\n",
      "Epoch 723/1000 | Dis. Train Loss: 1.2012 | Adv. Train Loss: 1.2012 | Tri. Train Loss: 1.2012\n",
      "Epoch 724/1000 | Dis. Train Loss: 3.6082 | Adv. Train Loss: 3.6082 | Tri. Train Loss: 3.6082\n",
      "Epoch 725/1000 | Dis. Train Loss: 2.8939 | Adv. Train Loss: 2.8939 | Tri. Train Loss: 2.8939\n",
      "Epoch 726/1000 | Dis. Train Loss: 1.2027 | Adv. Train Loss: 1.2027 | Tri. Train Loss: 1.2027\n",
      "Epoch 727/1000 | Dis. Train Loss: 1.4723 | Adv. Train Loss: 1.4723 | Tri. Train Loss: 1.4723\n",
      "Epoch 728/1000 | Dis. Train Loss: 1.2354 | Adv. Train Loss: 1.2354 | Tri. Train Loss: 1.2354\n",
      "Epoch 729/1000 | Dis. Train Loss: 2.0801 | Adv. Train Loss: 2.0801 | Tri. Train Loss: 2.0801\n",
      "Epoch 730/1000 | Dis. Train Loss: 1.9433 | Adv. Train Loss: 1.9433 | Tri. Train Loss: 1.9433\n",
      "Epoch 731/1000 | Dis. Train Loss: 1.2075 | Adv. Train Loss: 1.2075 | Tri. Train Loss: 1.2075\n",
      "Epoch 732/1000 | Dis. Train Loss: 1.0935 | Adv. Train Loss: 1.0935 | Tri. Train Loss: 1.0935\n",
      "Epoch 733/1000 | Dis. Train Loss: 1.0090 | Adv. Train Loss: 1.0090 | Tri. Train Loss: 1.0090\n",
      "Epoch 734/1000 | Dis. Train Loss: 0.8376 | Adv. Train Loss: 0.8376 | Tri. Train Loss: 0.8376\n",
      "Epoch 735/1000 | Dis. Train Loss: 0.9220 | Adv. Train Loss: 0.9220 | Tri. Train Loss: 0.9220\n",
      "Epoch 736/1000 | Dis. Train Loss: 0.8814 | Adv. Train Loss: 0.8814 | Tri. Train Loss: 0.8814\n",
      "Epoch 737/1000 | Dis. Train Loss: 0.7281 | Adv. Train Loss: 0.7281 | Tri. Train Loss: 0.7281\n",
      "Epoch 738/1000 | Dis. Train Loss: 0.7415 | Adv. Train Loss: 0.7415 | Tri. Train Loss: 0.7415\n",
      "Epoch 739/1000 | Dis. Train Loss: 0.7653 | Adv. Train Loss: 0.7653 | Tri. Train Loss: 0.7653\n",
      "Epoch 740/1000 | Dis. Train Loss: 0.6893 | Adv. Train Loss: 0.6893 | Tri. Train Loss: 0.6893\n",
      "Epoch 741/1000 | Dis. Train Loss: 0.6696 | Adv. Train Loss: 0.6696 | Tri. Train Loss: 0.6696\n",
      "Epoch 742/1000 | Dis. Train Loss: 0.7019 | Adv. Train Loss: 0.7019 | Tri. Train Loss: 0.7019\n",
      "Epoch 743/1000 | Dis. Train Loss: 0.7223 | Adv. Train Loss: 0.7223 | Tri. Train Loss: 0.7223\n",
      "Epoch 744/1000 | Dis. Train Loss: 0.7426 | Adv. Train Loss: 0.7426 | Tri. Train Loss: 0.7426\n",
      "Epoch 745/1000 | Dis. Train Loss: 0.8090 | Adv. Train Loss: 0.8090 | Tri. Train Loss: 0.8090\n",
      "Epoch 746/1000 | Dis. Train Loss: 0.8723 | Adv. Train Loss: 0.8723 | Tri. Train Loss: 0.8723\n",
      "Epoch 747/1000 | Dis. Train Loss: 0.8664 | Adv. Train Loss: 0.8664 | Tri. Train Loss: 0.8664\n",
      "Epoch 748/1000 | Dis. Train Loss: 0.8045 | Adv. Train Loss: 0.8045 | Tri. Train Loss: 0.8045\n",
      "Epoch 749/1000 | Dis. Train Loss: 0.8259 | Adv. Train Loss: 0.8259 | Tri. Train Loss: 0.8259\n",
      "Epoch 750/1000 | Dis. Train Loss: 0.9935 | Adv. Train Loss: 0.9935 | Tri. Train Loss: 0.9935\n",
      "Epoch 751/1000 | Dis. Train Loss: 1.1651 | Adv. Train Loss: 1.1651 | Tri. Train Loss: 1.1651\n",
      "Epoch 752/1000 | Dis. Train Loss: 1.2143 | Adv. Train Loss: 1.2143 | Tri. Train Loss: 1.2143\n",
      "Epoch 753/1000 | Dis. Train Loss: 1.2955 | Adv. Train Loss: 1.2955 | Tri. Train Loss: 1.2955\n",
      "Epoch 754/1000 | Dis. Train Loss: 1.5118 | Adv. Train Loss: 1.5118 | Tri. Train Loss: 1.5118\n",
      "Epoch 755/1000 | Dis. Train Loss: 1.6888 | Adv. Train Loss: 1.6888 | Tri. Train Loss: 1.6888\n",
      "Epoch 756/1000 | Dis. Train Loss: 1.7410 | Adv. Train Loss: 1.7410 | Tri. Train Loss: 1.7410\n",
      "Epoch 757/1000 | Dis. Train Loss: 1.9079 | Adv. Train Loss: 1.9079 | Tri. Train Loss: 1.9079\n",
      "Epoch 758/1000 | Dis. Train Loss: 2.1260 | Adv. Train Loss: 2.1260 | Tri. Train Loss: 2.1260\n",
      "Epoch 759/1000 | Dis. Train Loss: 2.2406 | Adv. Train Loss: 2.2406 | Tri. Train Loss: 2.2406\n",
      "Epoch 760/1000 | Dis. Train Loss: 2.3332 | Adv. Train Loss: 2.3332 | Tri. Train Loss: 2.3332\n",
      "Epoch 761/1000 | Dis. Train Loss: 2.5223 | Adv. Train Loss: 2.5223 | Tri. Train Loss: 2.5223\n",
      "Epoch 762/1000 | Dis. Train Loss: 2.6342 | Adv. Train Loss: 2.6342 | Tri. Train Loss: 2.6342\n",
      "Epoch 763/1000 | Dis. Train Loss: 2.4881 | Adv. Train Loss: 2.4881 | Tri. Train Loss: 2.4881\n",
      "Epoch 764/1000 | Dis. Train Loss: 2.3355 | Adv. Train Loss: 2.3355 | Tri. Train Loss: 2.3355\n",
      "Epoch 765/1000 | Dis. Train Loss: 2.2518 | Adv. Train Loss: 2.2518 | Tri. Train Loss: 2.2518\n",
      "Epoch 766/1000 | Dis. Train Loss: 2.1632 | Adv. Train Loss: 2.1632 | Tri. Train Loss: 2.1632\n",
      "Epoch 767/1000 | Dis. Train Loss: 2.0977 | Adv. Train Loss: 2.0977 | Tri. Train Loss: 2.0977\n",
      "Epoch 768/1000 | Dis. Train Loss: 2.0171 | Adv. Train Loss: 2.0171 | Tri. Train Loss: 2.0171\n",
      "Epoch 769/1000 | Dis. Train Loss: 1.9390 | Adv. Train Loss: 1.9390 | Tri. Train Loss: 1.9390\n",
      "Epoch 770/1000 | Dis. Train Loss: 1.8934 | Adv. Train Loss: 1.8934 | Tri. Train Loss: 1.8934\n",
      "Epoch 771/1000 | Dis. Train Loss: 1.8499 | Adv. Train Loss: 1.8499 | Tri. Train Loss: 1.8499\n",
      "Epoch 772/1000 | Dis. Train Loss: 1.8143 | Adv. Train Loss: 1.8143 | Tri. Train Loss: 1.8143\n",
      "Epoch 773/1000 | Dis. Train Loss: 1.7840 | Adv. Train Loss: 1.7840 | Tri. Train Loss: 1.7840\n",
      "Epoch 774/1000 | Dis. Train Loss: 1.7232 | Adv. Train Loss: 1.7232 | Tri. Train Loss: 1.7232\n",
      "Epoch 775/1000 | Dis. Train Loss: 1.6087 | Adv. Train Loss: 1.6087 | Tri. Train Loss: 1.6087\n",
      "Epoch 776/1000 | Dis. Train Loss: 1.4779 | Adv. Train Loss: 1.4779 | Tri. Train Loss: 1.4779\n",
      "Epoch 777/1000 | Dis. Train Loss: 1.3779 | Adv. Train Loss: 1.3779 | Tri. Train Loss: 1.3779\n",
      "Epoch 778/1000 | Dis. Train Loss: 1.3279 | Adv. Train Loss: 1.3279 | Tri. Train Loss: 1.3279\n",
      "Epoch 779/1000 | Dis. Train Loss: 1.3584 | Adv. Train Loss: 1.3584 | Tri. Train Loss: 1.3584\n",
      "Epoch 780/1000 | Dis. Train Loss: 1.4674 | Adv. Train Loss: 1.4674 | Tri. Train Loss: 1.4674\n",
      "Epoch 781/1000 | Dis. Train Loss: 1.5045 | Adv. Train Loss: 1.5045 | Tri. Train Loss: 1.5045\n",
      "Epoch 782/1000 | Dis. Train Loss: 1.3970 | Adv. Train Loss: 1.3970 | Tri. Train Loss: 1.3970\n",
      "Epoch 783/1000 | Dis. Train Loss: 1.2261 | Adv. Train Loss: 1.2261 | Tri. Train Loss: 1.2261\n",
      "Epoch 784/1000 | Dis. Train Loss: 1.1669 | Adv. Train Loss: 1.1669 | Tri. Train Loss: 1.1669\n",
      "Epoch 785/1000 | Dis. Train Loss: 1.2442 | Adv. Train Loss: 1.2442 | Tri. Train Loss: 1.2442\n",
      "Epoch 786/1000 | Dis. Train Loss: 1.3311 | Adv. Train Loss: 1.3311 | Tri. Train Loss: 1.3311\n",
      "Epoch 787/1000 | Dis. Train Loss: 1.3418 | Adv. Train Loss: 1.3418 | Tri. Train Loss: 1.3418\n",
      "Epoch 788/1000 | Dis. Train Loss: 1.3296 | Adv. Train Loss: 1.3296 | Tri. Train Loss: 1.3296\n",
      "Epoch 789/1000 | Dis. Train Loss: 1.3635 | Adv. Train Loss: 1.3635 | Tri. Train Loss: 1.3635\n",
      "Epoch 790/1000 | Dis. Train Loss: 1.3702 | Adv. Train Loss: 1.3702 | Tri. Train Loss: 1.3702\n",
      "Epoch 791/1000 | Dis. Train Loss: 1.3229 | Adv. Train Loss: 1.3229 | Tri. Train Loss: 1.3229\n",
      "Epoch 792/1000 | Dis. Train Loss: 1.2919 | Adv. Train Loss: 1.2919 | Tri. Train Loss: 1.2919\n",
      "Epoch 793/1000 | Dis. Train Loss: 1.3378 | Adv. Train Loss: 1.3378 | Tri. Train Loss: 1.3378\n",
      "Epoch 794/1000 | Dis. Train Loss: 1.3699 | Adv. Train Loss: 1.3699 | Tri. Train Loss: 1.3699\n",
      "Epoch 795/1000 | Dis. Train Loss: 1.3462 | Adv. Train Loss: 1.3462 | Tri. Train Loss: 1.3462\n",
      "Epoch 796/1000 | Dis. Train Loss: 1.2287 | Adv. Train Loss: 1.2287 | Tri. Train Loss: 1.2287\n",
      "Epoch 797/1000 | Dis. Train Loss: 1.0392 | Adv. Train Loss: 1.0392 | Tri. Train Loss: 1.0392\n",
      "Epoch 798/1000 | Dis. Train Loss: 0.9047 | Adv. Train Loss: 0.9047 | Tri. Train Loss: 0.9047\n",
      "Epoch 799/1000 | Dis. Train Loss: 0.8319 | Adv. Train Loss: 0.8319 | Tri. Train Loss: 0.8319\n",
      "Epoch 800/1000 | Dis. Train Loss: 0.7825 | Adv. Train Loss: 0.7825 | Tri. Train Loss: 0.7825\n",
      "Epoch 801/1000 | Dis. Train Loss: 0.7049 | Adv. Train Loss: 0.7049 | Tri. Train Loss: 0.7049\n",
      "Epoch 802/1000 | Dis. Train Loss: 0.6160 | Adv. Train Loss: 0.6160 | Tri. Train Loss: 0.6160\n",
      "Epoch 803/1000 | Dis. Train Loss: 0.6115 | Adv. Train Loss: 0.6115 | Tri. Train Loss: 0.6115\n",
      "Epoch 804/1000 | Dis. Train Loss: 0.6947 | Adv. Train Loss: 0.6947 | Tri. Train Loss: 0.6947\n",
      "Epoch 805/1000 | Dis. Train Loss: 0.7655 | Adv. Train Loss: 0.7655 | Tri. Train Loss: 0.7655\n",
      "Epoch 806/1000 | Dis. Train Loss: 0.8320 | Adv. Train Loss: 0.8320 | Tri. Train Loss: 0.8320\n",
      "Epoch 807/1000 | Dis. Train Loss: 0.9283 | Adv. Train Loss: 0.9283 | Tri. Train Loss: 0.9283\n",
      "Epoch 808/1000 | Dis. Train Loss: 1.0109 | Adv. Train Loss: 1.0109 | Tri. Train Loss: 1.0109\n",
      "Epoch 809/1000 | Dis. Train Loss: 1.0959 | Adv. Train Loss: 1.0959 | Tri. Train Loss: 1.0959\n",
      "Epoch 810/1000 | Dis. Train Loss: 1.1262 | Adv. Train Loss: 1.1262 | Tri. Train Loss: 1.1262\n",
      "Epoch 811/1000 | Dis. Train Loss: 1.1866 | Adv. Train Loss: 1.1866 | Tri. Train Loss: 1.1866\n",
      "Epoch 812/1000 | Dis. Train Loss: 1.3714 | Adv. Train Loss: 1.3714 | Tri. Train Loss: 1.3714\n",
      "Epoch 813/1000 | Dis. Train Loss: 1.5163 | Adv. Train Loss: 1.5163 | Tri. Train Loss: 1.5163\n",
      "Epoch 814/1000 | Dis. Train Loss: 1.5975 | Adv. Train Loss: 1.5975 | Tri. Train Loss: 1.5975\n",
      "Epoch 815/1000 | Dis. Train Loss: 1.5701 | Adv. Train Loss: 1.5701 | Tri. Train Loss: 1.5701\n",
      "Epoch 816/1000 | Dis. Train Loss: 1.5318 | Adv. Train Loss: 1.5318 | Tri. Train Loss: 1.5318\n",
      "Epoch 817/1000 | Dis. Train Loss: 1.6168 | Adv. Train Loss: 1.6168 | Tri. Train Loss: 1.6168\n",
      "Epoch 818/1000 | Dis. Train Loss: 1.7909 | Adv. Train Loss: 1.7909 | Tri. Train Loss: 1.7909\n",
      "Epoch 819/1000 | Dis. Train Loss: 1.8936 | Adv. Train Loss: 1.8936 | Tri. Train Loss: 1.8936\n",
      "Epoch 820/1000 | Dis. Train Loss: 1.9943 | Adv. Train Loss: 1.9943 | Tri. Train Loss: 1.9943\n",
      "Epoch 821/1000 | Dis. Train Loss: 2.3163 | Adv. Train Loss: 2.3163 | Tri. Train Loss: 2.3163\n",
      "Epoch 822/1000 | Dis. Train Loss: 2.5848 | Adv. Train Loss: 2.5848 | Tri. Train Loss: 2.5848\n",
      "Epoch 823/1000 | Dis. Train Loss: 2.6995 | Adv. Train Loss: 2.6995 | Tri. Train Loss: 2.6995\n",
      "Epoch 824/1000 | Dis. Train Loss: 2.9663 | Adv. Train Loss: 2.9663 | Tri. Train Loss: 2.9663\n",
      "Epoch 825/1000 | Dis. Train Loss: 3.0134 | Adv. Train Loss: 3.0134 | Tri. Train Loss: 3.0134\n",
      "Epoch 826/1000 | Dis. Train Loss: 3.1287 | Adv. Train Loss: 3.1287 | Tri. Train Loss: 3.1287\n",
      "Epoch 827/1000 | Dis. Train Loss: 3.2898 | Adv. Train Loss: 3.2898 | Tri. Train Loss: 3.2898\n",
      "Epoch 828/1000 | Dis. Train Loss: 3.3459 | Adv. Train Loss: 3.3459 | Tri. Train Loss: 3.3459\n",
      "Epoch 829/1000 | Dis. Train Loss: 3.3623 | Adv. Train Loss: 3.3623 | Tri. Train Loss: 3.3623\n",
      "Epoch 830/1000 | Dis. Train Loss: 3.4206 | Adv. Train Loss: 3.4206 | Tri. Train Loss: 3.4206\n",
      "Epoch 831/1000 | Dis. Train Loss: 3.5796 | Adv. Train Loss: 3.5796 | Tri. Train Loss: 3.5796\n",
      "Epoch 832/1000 | Dis. Train Loss: 3.3058 | Adv. Train Loss: 3.3058 | Tri. Train Loss: 3.3058\n",
      "Epoch 833/1000 | Dis. Train Loss: 3.4261 | Adv. Train Loss: 3.4261 | Tri. Train Loss: 3.4261\n",
      "Epoch 834/1000 | Dis. Train Loss: 3.2775 | Adv. Train Loss: 3.2775 | Tri. Train Loss: 3.2775\n",
      "Epoch 835/1000 | Dis. Train Loss: 3.2972 | Adv. Train Loss: 3.2972 | Tri. Train Loss: 3.2972\n",
      "Epoch 836/1000 | Dis. Train Loss: 3.5326 | Adv. Train Loss: 3.5326 | Tri. Train Loss: 3.5326\n",
      "Epoch 837/1000 | Dis. Train Loss: 3.2681 | Adv. Train Loss: 3.2681 | Tri. Train Loss: 3.2681\n",
      "Epoch 838/1000 | Dis. Train Loss: 3.7885 | Adv. Train Loss: 3.7885 | Tri. Train Loss: 3.7885\n",
      "Epoch 839/1000 | Dis. Train Loss: 3.2172 | Adv. Train Loss: 3.2172 | Tri. Train Loss: 3.2172\n",
      "Epoch 840/1000 | Dis. Train Loss: 4.1601 | Adv. Train Loss: 4.1601 | Tri. Train Loss: 4.1601\n",
      "Epoch 841/1000 | Dis. Train Loss: 2.9128 | Adv. Train Loss: 2.9128 | Tri. Train Loss: 2.9128\n",
      "Epoch 842/1000 | Dis. Train Loss: 4.3697 | Adv. Train Loss: 4.3697 | Tri. Train Loss: 4.3697\n",
      "Epoch 843/1000 | Dis. Train Loss: 2.3939 | Adv. Train Loss: 2.3939 | Tri. Train Loss: 2.3939\n",
      "Epoch 844/1000 | Dis. Train Loss: 3.3796 | Adv. Train Loss: 3.3796 | Tri. Train Loss: 3.3796\n",
      "Epoch 845/1000 | Dis. Train Loss: 3.5405 | Adv. Train Loss: 3.5405 | Tri. Train Loss: 3.5405\n",
      "Epoch 846/1000 | Dis. Train Loss: 1.7537 | Adv. Train Loss: 1.7537 | Tri. Train Loss: 1.7537\n",
      "Epoch 847/1000 | Dis. Train Loss: 3.0517 | Adv. Train Loss: 3.0517 | Tri. Train Loss: 3.0517\n",
      "Epoch 848/1000 | Dis. Train Loss: 3.2248 | Adv. Train Loss: 3.2248 | Tri. Train Loss: 3.2248\n",
      "Epoch 849/1000 | Dis. Train Loss: 1.8447 | Adv. Train Loss: 1.8447 | Tri. Train Loss: 1.8447\n",
      "Epoch 850/1000 | Dis. Train Loss: 2.4691 | Adv. Train Loss: 2.4691 | Tri. Train Loss: 2.4691\n",
      "Epoch 851/1000 | Dis. Train Loss: 3.1752 | Adv. Train Loss: 3.1752 | Tri. Train Loss: 3.1752\n",
      "Epoch 852/1000 | Dis. Train Loss: 2.2854 | Adv. Train Loss: 2.2854 | Tri. Train Loss: 2.2854\n",
      "Epoch 853/1000 | Dis. Train Loss: 1.9699 | Adv. Train Loss: 1.9699 | Tri. Train Loss: 1.9699\n",
      "Epoch 854/1000 | Dis. Train Loss: 2.4167 | Adv. Train Loss: 2.4167 | Tri. Train Loss: 2.4167\n",
      "Epoch 855/1000 | Dis. Train Loss: 2.2826 | Adv. Train Loss: 2.2826 | Tri. Train Loss: 2.2826\n",
      "Epoch 856/1000 | Dis. Train Loss: 1.8746 | Adv. Train Loss: 1.8746 | Tri. Train Loss: 1.8746\n",
      "Epoch 857/1000 | Dis. Train Loss: 1.7856 | Adv. Train Loss: 1.7856 | Tri. Train Loss: 1.7856\n",
      "Epoch 858/1000 | Dis. Train Loss: 1.8943 | Adv. Train Loss: 1.8943 | Tri. Train Loss: 1.8943\n",
      "Epoch 859/1000 | Dis. Train Loss: 1.8974 | Adv. Train Loss: 1.8974 | Tri. Train Loss: 1.8974\n",
      "Epoch 860/1000 | Dis. Train Loss: 1.6961 | Adv. Train Loss: 1.6961 | Tri. Train Loss: 1.6961\n",
      "Epoch 861/1000 | Dis. Train Loss: 1.5691 | Adv. Train Loss: 1.5691 | Tri. Train Loss: 1.5691\n",
      "Epoch 862/1000 | Dis. Train Loss: 1.5171 | Adv. Train Loss: 1.5171 | Tri. Train Loss: 1.5171\n",
      "Epoch 863/1000 | Dis. Train Loss: 1.4507 | Adv. Train Loss: 1.4507 | Tri. Train Loss: 1.4507\n",
      "Epoch 864/1000 | Dis. Train Loss: 1.3812 | Adv. Train Loss: 1.3812 | Tri. Train Loss: 1.3812\n",
      "Epoch 865/1000 | Dis. Train Loss: 1.3368 | Adv. Train Loss: 1.3368 | Tri. Train Loss: 1.3368\n",
      "Epoch 866/1000 | Dis. Train Loss: 1.3194 | Adv. Train Loss: 1.3194 | Tri. Train Loss: 1.3194\n",
      "Epoch 867/1000 | Dis. Train Loss: 1.3124 | Adv. Train Loss: 1.3124 | Tri. Train Loss: 1.3124\n",
      "Epoch 868/1000 | Dis. Train Loss: 1.2322 | Adv. Train Loss: 1.2322 | Tri. Train Loss: 1.2322\n",
      "Epoch 869/1000 | Dis. Train Loss: 1.1040 | Adv. Train Loss: 1.1040 | Tri. Train Loss: 1.1040\n",
      "Epoch 870/1000 | Dis. Train Loss: 1.0157 | Adv. Train Loss: 1.0157 | Tri. Train Loss: 1.0157\n",
      "Epoch 871/1000 | Dis. Train Loss: 0.9885 | Adv. Train Loss: 0.9885 | Tri. Train Loss: 0.9885\n",
      "Epoch 872/1000 | Dis. Train Loss: 0.8920 | Adv. Train Loss: 0.8920 | Tri. Train Loss: 0.8920\n",
      "Epoch 873/1000 | Dis. Train Loss: 0.7837 | Adv. Train Loss: 0.7837 | Tri. Train Loss: 0.7837\n",
      "Epoch 874/1000 | Dis. Train Loss: 0.6930 | Adv. Train Loss: 0.6930 | Tri. Train Loss: 0.6930\n",
      "Epoch 875/1000 | Dis. Train Loss: 0.6645 | Adv. Train Loss: 0.6645 | Tri. Train Loss: 0.6645\n",
      "Epoch 876/1000 | Dis. Train Loss: 0.6195 | Adv. Train Loss: 0.6195 | Tri. Train Loss: 0.6195\n",
      "Epoch 877/1000 | Dis. Train Loss: 0.5726 | Adv. Train Loss: 0.5726 | Tri. Train Loss: 0.5726\n",
      "Epoch 878/1000 | Dis. Train Loss: 0.5456 | Adv. Train Loss: 0.5456 | Tri. Train Loss: 0.5456\n",
      "Epoch 879/1000 | Dis. Train Loss: 0.5539 | Adv. Train Loss: 0.5539 | Tri. Train Loss: 0.5539\n",
      "Epoch 880/1000 | Dis. Train Loss: 0.6364 | Adv. Train Loss: 0.6364 | Tri. Train Loss: 0.6364\n",
      "Epoch 881/1000 | Dis. Train Loss: 0.7506 | Adv. Train Loss: 0.7506 | Tri. Train Loss: 0.7506\n",
      "Epoch 882/1000 | Dis. Train Loss: 0.8857 | Adv. Train Loss: 0.8857 | Tri. Train Loss: 0.8857\n",
      "Epoch 883/1000 | Dis. Train Loss: 1.0320 | Adv. Train Loss: 1.0320 | Tri. Train Loss: 1.0320\n",
      "Epoch 884/1000 | Dis. Train Loss: 1.2013 | Adv. Train Loss: 1.2013 | Tri. Train Loss: 1.2013\n",
      "Epoch 885/1000 | Dis. Train Loss: 1.3805 | Adv. Train Loss: 1.3805 | Tri. Train Loss: 1.3805\n",
      "Epoch 886/1000 | Dis. Train Loss: 1.5333 | Adv. Train Loss: 1.5333 | Tri. Train Loss: 1.5333\n",
      "Epoch 887/1000 | Dis. Train Loss: 1.6391 | Adv. Train Loss: 1.6391 | Tri. Train Loss: 1.6391\n",
      "Epoch 888/1000 | Dis. Train Loss: 1.6628 | Adv. Train Loss: 1.6628 | Tri. Train Loss: 1.6628\n",
      "Epoch 889/1000 | Dis. Train Loss: 1.5780 | Adv. Train Loss: 1.5780 | Tri. Train Loss: 1.5780\n",
      "Epoch 890/1000 | Dis. Train Loss: 1.4805 | Adv. Train Loss: 1.4805 | Tri. Train Loss: 1.4805\n",
      "Epoch 891/1000 | Dis. Train Loss: 1.4838 | Adv. Train Loss: 1.4838 | Tri. Train Loss: 1.4838\n",
      "Epoch 892/1000 | Dis. Train Loss: 1.4613 | Adv. Train Loss: 1.4613 | Tri. Train Loss: 1.4613\n",
      "Epoch 893/1000 | Dis. Train Loss: 1.3351 | Adv. Train Loss: 1.3351 | Tri. Train Loss: 1.3351\n",
      "Epoch 894/1000 | Dis. Train Loss: 1.3691 | Adv. Train Loss: 1.3691 | Tri. Train Loss: 1.3691\n",
      "Epoch 895/1000 | Dis. Train Loss: 1.6099 | Adv. Train Loss: 1.6099 | Tri. Train Loss: 1.6099\n",
      "Epoch 896/1000 | Dis. Train Loss: 1.7839 | Adv. Train Loss: 1.7839 | Tri. Train Loss: 1.7839\n",
      "Epoch 897/1000 | Dis. Train Loss: 1.7552 | Adv. Train Loss: 1.7552 | Tri. Train Loss: 1.7552\n",
      "Epoch 898/1000 | Dis. Train Loss: 1.9072 | Adv. Train Loss: 1.9072 | Tri. Train Loss: 1.9072\n",
      "Epoch 899/1000 | Dis. Train Loss: 1.8999 | Adv. Train Loss: 1.8999 | Tri. Train Loss: 1.8999\n",
      "Epoch 900/1000 | Dis. Train Loss: 1.7572 | Adv. Train Loss: 1.7572 | Tri. Train Loss: 1.7572\n",
      "Epoch 901/1000 | Dis. Train Loss: 1.9332 | Adv. Train Loss: 1.9332 | Tri. Train Loss: 1.9332\n",
      "Epoch 902/1000 | Dis. Train Loss: 2.0308 | Adv. Train Loss: 2.0308 | Tri. Train Loss: 2.0308\n",
      "Epoch 903/1000 | Dis. Train Loss: 1.9824 | Adv. Train Loss: 1.9824 | Tri. Train Loss: 1.9824\n",
      "Epoch 904/1000 | Dis. Train Loss: 2.3938 | Adv. Train Loss: 2.3938 | Tri. Train Loss: 2.3938\n",
      "Epoch 905/1000 | Dis. Train Loss: 2.2659 | Adv. Train Loss: 2.2659 | Tri. Train Loss: 2.2659\n",
      "Epoch 906/1000 | Dis. Train Loss: 2.7795 | Adv. Train Loss: 2.7795 | Tri. Train Loss: 2.7795\n",
      "Epoch 907/1000 | Dis. Train Loss: 2.4300 | Adv. Train Loss: 2.4300 | Tri. Train Loss: 2.4300\n",
      "Epoch 908/1000 | Dis. Train Loss: 3.1641 | Adv. Train Loss: 3.1641 | Tri. Train Loss: 3.1641\n",
      "Epoch 909/1000 | Dis. Train Loss: 2.3560 | Adv. Train Loss: 2.3560 | Tri. Train Loss: 2.3560\n",
      "Epoch 910/1000 | Dis. Train Loss: 4.1228 | Adv. Train Loss: 4.1228 | Tri. Train Loss: 4.1228\n",
      "Epoch 911/1000 | Dis. Train Loss: 2.1395 | Adv. Train Loss: 2.1395 | Tri. Train Loss: 2.1395\n",
      "Epoch 912/1000 | Dis. Train Loss: 4.0312 | Adv. Train Loss: 4.0312 | Tri. Train Loss: 4.0312\n",
      "Epoch 913/1000 | Dis. Train Loss: 2.9308 | Adv. Train Loss: 2.9308 | Tri. Train Loss: 2.9308\n",
      "Epoch 914/1000 | Dis. Train Loss: 2.8329 | Adv. Train Loss: 2.8329 | Tri. Train Loss: 2.8329\n",
      "Epoch 915/1000 | Dis. Train Loss: 4.0726 | Adv. Train Loss: 4.0726 | Tri. Train Loss: 4.0726\n",
      "Epoch 916/1000 | Dis. Train Loss: 2.3215 | Adv. Train Loss: 2.3215 | Tri. Train Loss: 2.3215\n",
      "Epoch 917/1000 | Dis. Train Loss: 4.2127 | Adv. Train Loss: 4.2127 | Tri. Train Loss: 4.2127\n",
      "Epoch 918/1000 | Dis. Train Loss: 2.3492 | Adv. Train Loss: 2.3492 | Tri. Train Loss: 2.3492\n",
      "Epoch 919/1000 | Dis. Train Loss: 3.6955 | Adv. Train Loss: 3.6955 | Tri. Train Loss: 3.6955\n",
      "Epoch 920/1000 | Dis. Train Loss: 2.3628 | Adv. Train Loss: 2.3628 | Tri. Train Loss: 2.3628\n",
      "Epoch 921/1000 | Dis. Train Loss: 3.5900 | Adv. Train Loss: 3.5900 | Tri. Train Loss: 3.5900\n",
      "Epoch 922/1000 | Dis. Train Loss: 2.1218 | Adv. Train Loss: 2.1218 | Tri. Train Loss: 2.1218\n",
      "Epoch 923/1000 | Dis. Train Loss: 3.3881 | Adv. Train Loss: 3.3881 | Tri. Train Loss: 3.3881\n",
      "Epoch 924/1000 | Dis. Train Loss: 2.6463 | Adv. Train Loss: 2.6463 | Tri. Train Loss: 2.6463\n",
      "Epoch 925/1000 | Dis. Train Loss: 3.0469 | Adv. Train Loss: 3.0469 | Tri. Train Loss: 3.0469\n",
      "Epoch 926/1000 | Dis. Train Loss: 2.8172 | Adv. Train Loss: 2.8172 | Tri. Train Loss: 2.8172\n",
      "Epoch 927/1000 | Dis. Train Loss: 2.8479 | Adv. Train Loss: 2.8479 | Tri. Train Loss: 2.8479\n",
      "Epoch 928/1000 | Dis. Train Loss: 3.0229 | Adv. Train Loss: 3.0229 | Tri. Train Loss: 3.0229\n",
      "Epoch 929/1000 | Dis. Train Loss: 2.4515 | Adv. Train Loss: 2.4515 | Tri. Train Loss: 2.4515\n",
      "Epoch 930/1000 | Dis. Train Loss: 3.1486 | Adv. Train Loss: 3.1486 | Tri. Train Loss: 3.1486\n",
      "Epoch 931/1000 | Dis. Train Loss: 1.6009 | Adv. Train Loss: 1.6009 | Tri. Train Loss: 1.6009\n",
      "Epoch 932/1000 | Dis. Train Loss: 2.6414 | Adv. Train Loss: 2.6414 | Tri. Train Loss: 2.6414\n",
      "Epoch 933/1000 | Dis. Train Loss: 2.1013 | Adv. Train Loss: 2.1013 | Tri. Train Loss: 2.1013\n",
      "Epoch 934/1000 | Dis. Train Loss: 2.1053 | Adv. Train Loss: 2.1053 | Tri. Train Loss: 2.1053\n",
      "Epoch 935/1000 | Dis. Train Loss: 2.3472 | Adv. Train Loss: 2.3472 | Tri. Train Loss: 2.3472\n",
      "Epoch 936/1000 | Dis. Train Loss: 1.5614 | Adv. Train Loss: 1.5614 | Tri. Train Loss: 1.5614\n",
      "Epoch 937/1000 | Dis. Train Loss: 2.7822 | Adv. Train Loss: 2.7822 | Tri. Train Loss: 2.7822\n",
      "Epoch 938/1000 | Dis. Train Loss: 1.2211 | Adv. Train Loss: 1.2211 | Tri. Train Loss: 1.2211\n",
      "Epoch 939/1000 | Dis. Train Loss: 1.8387 | Adv. Train Loss: 1.8387 | Tri. Train Loss: 1.8387\n",
      "Epoch 940/1000 | Dis. Train Loss: 2.1664 | Adv. Train Loss: 2.1664 | Tri. Train Loss: 2.1664\n",
      "Epoch 941/1000 | Dis. Train Loss: 1.0920 | Adv. Train Loss: 1.0920 | Tri. Train Loss: 1.0920\n",
      "Epoch 942/1000 | Dis. Train Loss: 2.0589 | Adv. Train Loss: 2.0589 | Tri. Train Loss: 2.0589\n",
      "Epoch 943/1000 | Dis. Train Loss: 1.5199 | Adv. Train Loss: 1.5199 | Tri. Train Loss: 1.5199\n",
      "Epoch 944/1000 | Dis. Train Loss: 1.9756 | Adv. Train Loss: 1.9756 | Tri. Train Loss: 1.9756\n",
      "Epoch 945/1000 | Dis. Train Loss: 1.9999 | Adv. Train Loss: 1.9999 | Tri. Train Loss: 1.9999\n",
      "Epoch 946/1000 | Dis. Train Loss: 1.6839 | Adv. Train Loss: 1.6839 | Tri. Train Loss: 1.6839\n",
      "Epoch 947/1000 | Dis. Train Loss: 2.1645 | Adv. Train Loss: 2.1645 | Tri. Train Loss: 2.1645\n",
      "Epoch 948/1000 | Dis. Train Loss: 1.0148 | Adv. Train Loss: 1.0148 | Tri. Train Loss: 1.0148\n",
      "Epoch 949/1000 | Dis. Train Loss: 2.1434 | Adv. Train Loss: 2.1434 | Tri. Train Loss: 2.1434\n",
      "Epoch 950/1000 | Dis. Train Loss: 1.6894 | Adv. Train Loss: 1.6894 | Tri. Train Loss: 1.6894\n",
      "Epoch 951/1000 | Dis. Train Loss: 1.9325 | Adv. Train Loss: 1.9325 | Tri. Train Loss: 1.9325\n",
      "Epoch 952/1000 | Dis. Train Loss: 1.6590 | Adv. Train Loss: 1.6590 | Tri. Train Loss: 1.6590\n",
      "Epoch 953/1000 | Dis. Train Loss: 1.6864 | Adv. Train Loss: 1.6864 | Tri. Train Loss: 1.6864\n",
      "Epoch 954/1000 | Dis. Train Loss: 1.3244 | Adv. Train Loss: 1.3244 | Tri. Train Loss: 1.3244\n",
      "Epoch 955/1000 | Dis. Train Loss: 1.1397 | Adv. Train Loss: 1.1397 | Tri. Train Loss: 1.1397\n",
      "Epoch 956/1000 | Dis. Train Loss: 1.1505 | Adv. Train Loss: 1.1505 | Tri. Train Loss: 1.1505\n",
      "Epoch 957/1000 | Dis. Train Loss: 1.1481 | Adv. Train Loss: 1.1481 | Tri. Train Loss: 1.1481\n",
      "Epoch 958/1000 | Dis. Train Loss: 1.1597 | Adv. Train Loss: 1.1597 | Tri. Train Loss: 1.1597\n",
      "Epoch 959/1000 | Dis. Train Loss: 1.1991 | Adv. Train Loss: 1.1991 | Tri. Train Loss: 1.1991\n",
      "Epoch 960/1000 | Dis. Train Loss: 1.2035 | Adv. Train Loss: 1.2035 | Tri. Train Loss: 1.2035\n",
      "Epoch 961/1000 | Dis. Train Loss: 1.2056 | Adv. Train Loss: 1.2056 | Tri. Train Loss: 1.2056\n",
      "Epoch 962/1000 | Dis. Train Loss: 1.3059 | Adv. Train Loss: 1.3059 | Tri. Train Loss: 1.3059\n",
      "Epoch 963/1000 | Dis. Train Loss: 1.4479 | Adv. Train Loss: 1.4479 | Tri. Train Loss: 1.4479\n",
      "Epoch 964/1000 | Dis. Train Loss: 1.5250 | Adv. Train Loss: 1.5250 | Tri. Train Loss: 1.5250\n",
      "Epoch 965/1000 | Dis. Train Loss: 1.4731 | Adv. Train Loss: 1.4731 | Tri. Train Loss: 1.4731\n",
      "Epoch 966/1000 | Dis. Train Loss: 1.3953 | Adv. Train Loss: 1.3953 | Tri. Train Loss: 1.3953\n",
      "Epoch 967/1000 | Dis. Train Loss: 1.3363 | Adv. Train Loss: 1.3363 | Tri. Train Loss: 1.3363\n",
      "Epoch 968/1000 | Dis. Train Loss: 1.3574 | Adv. Train Loss: 1.3574 | Tri. Train Loss: 1.3574\n",
      "Epoch 969/1000 | Dis. Train Loss: 1.4106 | Adv. Train Loss: 1.4106 | Tri. Train Loss: 1.4106\n",
      "Epoch 970/1000 | Dis. Train Loss: 1.4286 | Adv. Train Loss: 1.4286 | Tri. Train Loss: 1.4286\n",
      "Epoch 971/1000 | Dis. Train Loss: 1.3985 | Adv. Train Loss: 1.3985 | Tri. Train Loss: 1.3985\n",
      "Epoch 972/1000 | Dis. Train Loss: 1.3933 | Adv. Train Loss: 1.3933 | Tri. Train Loss: 1.3933\n",
      "Epoch 973/1000 | Dis. Train Loss: 1.4885 | Adv. Train Loss: 1.4885 | Tri. Train Loss: 1.4885\n",
      "Epoch 974/1000 | Dis. Train Loss: 1.5811 | Adv. Train Loss: 1.5811 | Tri. Train Loss: 1.5811\n",
      "Epoch 975/1000 | Dis. Train Loss: 1.6269 | Adv. Train Loss: 1.6269 | Tri. Train Loss: 1.6269\n",
      "Epoch 976/1000 | Dis. Train Loss: 1.6211 | Adv. Train Loss: 1.6211 | Tri. Train Loss: 1.6211\n",
      "Epoch 977/1000 | Dis. Train Loss: 1.6789 | Adv. Train Loss: 1.6789 | Tri. Train Loss: 1.6789\n",
      "Epoch 978/1000 | Dis. Train Loss: 1.8294 | Adv. Train Loss: 1.8294 | Tri. Train Loss: 1.8294\n",
      "Epoch 979/1000 | Dis. Train Loss: 1.8343 | Adv. Train Loss: 1.8343 | Tri. Train Loss: 1.8343\n",
      "Epoch 980/1000 | Dis. Train Loss: 1.7462 | Adv. Train Loss: 1.7462 | Tri. Train Loss: 1.7462\n",
      "Epoch 981/1000 | Dis. Train Loss: 1.7307 | Adv. Train Loss: 1.7307 | Tri. Train Loss: 1.7307\n",
      "Epoch 982/1000 | Dis. Train Loss: 1.7961 | Adv. Train Loss: 1.7961 | Tri. Train Loss: 1.7961\n",
      "Epoch 983/1000 | Dis. Train Loss: 1.8725 | Adv. Train Loss: 1.8725 | Tri. Train Loss: 1.8725\n",
      "Epoch 984/1000 | Dis. Train Loss: 1.9084 | Adv. Train Loss: 1.9084 | Tri. Train Loss: 1.9084\n",
      "Epoch 985/1000 | Dis. Train Loss: 2.0831 | Adv. Train Loss: 2.0831 | Tri. Train Loss: 2.0831\n",
      "Epoch 986/1000 | Dis. Train Loss: 2.3492 | Adv. Train Loss: 2.3492 | Tri. Train Loss: 2.3492\n",
      "Epoch 987/1000 | Dis. Train Loss: 2.4588 | Adv. Train Loss: 2.4588 | Tri. Train Loss: 2.4588\n",
      "Epoch 988/1000 | Dis. Train Loss: 2.5388 | Adv. Train Loss: 2.5388 | Tri. Train Loss: 2.5388\n",
      "Epoch 989/1000 | Dis. Train Loss: 2.8466 | Adv. Train Loss: 2.8466 | Tri. Train Loss: 2.8466\n",
      "Epoch 990/1000 | Dis. Train Loss: 2.7420 | Adv. Train Loss: 2.7420 | Tri. Train Loss: 2.7420\n",
      "Epoch 991/1000 | Dis. Train Loss: 3.2458 | Adv. Train Loss: 3.2458 | Tri. Train Loss: 3.2458\n",
      "Epoch 992/1000 | Dis. Train Loss: 3.4092 | Adv. Train Loss: 3.4092 | Tri. Train Loss: 3.4092\n",
      "Epoch 993/1000 | Dis. Train Loss: 3.9724 | Adv. Train Loss: 3.9724 | Tri. Train Loss: 3.9724\n",
      "Epoch 994/1000 | Dis. Train Loss: 3.2951 | Adv. Train Loss: 3.2951 | Tri. Train Loss: 3.2951\n",
      "Epoch 995/1000 | Dis. Train Loss: 5.5036 | Adv. Train Loss: 5.5036 | Tri. Train Loss: 5.5036\n",
      "Epoch 996/1000 | Dis. Train Loss: 1.8853 | Adv. Train Loss: 1.8853 | Tri. Train Loss: 1.8853\n",
      "Epoch 997/1000 | Dis. Train Loss: 4.1576 | Adv. Train Loss: 4.1576 | Tri. Train Loss: 4.1576\n",
      "Epoch 998/1000 | Dis. Train Loss: 4.9132 | Adv. Train Loss: 4.9132 | Tri. Train Loss: 4.9132\n",
      "Epoch 999/1000 | Dis. Train Loss: 2.3288 | Adv. Train Loss: 2.3288 | Tri. Train Loss: 2.3288\n",
      "Epoch 1000/1000 | Dis. Train Loss: 4.8838 | Adv. Train Loss: 4.8838 | Tri. Train Loss: 4.8838\n"
     ]
    }
   ],
   "source": [
    "#Setting up device\n",
    "# device = torch.device(\"cuda\" if torch.cuda.is_available() else \"cpu\")\n",
    "device = torch.device(\"cpu\")\n",
    "num_epochs=1000\n",
    "print(f\"Using {device}\")\n",
    "\n",
    "#Defining autoencoder and optimizer\n",
    "d_z = 10\n",
    "\n",
    "batch_discriminator = BatchDiscriminator().to(device)\n",
    "latent_classifier = TissueClassifier(input_size=d_z)\n",
    "output_classifier = TissueClassifier(input_size=24)\n",
    "\n",
    "#Training loop\n",
    "_, _, _ = model.train_model(batch_model=batch_discriminator,\n",
    "            latent_class_model=latent_classifier,\n",
    "            out_class_model=output_classifier,\n",
    "            train_loader=abaco_dataloader,\n",
    "            tissue_ohe=ohe_tissue,\n",
    "            num_epochs=num_epochs,\n",
    "            w_recon=0.5,\n",
    "            w_adver=1.0,\n",
    "            w_disc=1.0,\n",
    "            w_latent=1.0,\n",
    "            w_output=1.0,\n",
    "            device=device,\n",
    "            model_name=\"ABC\"\n",
    "            )"
   ]
  },
  {
   "cell_type": "markdown",
   "metadata": {},
   "source": [
    "### Create DataFrame with batch-corrected output"
   ]
  },
  {
   "cell_type": "code",
   "execution_count": 17,
   "metadata": {},
   "outputs": [],
   "source": [
    "batch_corrected = []\n",
    "for x, _ in abaco_dataloader:\n",
    "\n",
    "    batch_corrected.append(model(x).tolist())\n",
    "\n",
    "batch_corrected = np.array(batch_corrected)  # Convert list to NumPy array\n",
    "batch_corrected = batch_corrected.reshape(-1, batch_corrected.shape[-1])\n",
    "\n",
    "corrected_pd = pd.concat([pd.DataFrame(batch_corrected, index = otu_data.index, columns = otu_data.columns),\n",
    "                          data_batch,\n",
    "                          data_tissue,\n",
    "                          data[\"sample\"]],\n",
    "                          axis=1)"
   ]
  },
  {
   "cell_type": "code",
   "execution_count": 18,
   "metadata": {},
   "outputs": [
    {
     "data": {
      "application/vnd.plotly.v1+json": {
       "config": {
        "plotlyServerURL": "https://plot.ly"
       },
       "data": [
        {
         "legendgroup": "1",
         "legendgrouptitle": {
          "text": "Batch 1"
         },
         "marker": {
          "color": [
           "blue",
           "blue",
           "blue",
           "blue",
           "blue",
           "blue",
           "blue",
           "blue"
          ],
          "size": 8,
          "symbol": [
           "circle",
           "circle",
           "circle",
           "circle",
           "circle",
           "circle",
           "circle",
           "circle"
          ]
         },
         "mode": "markers",
         "name": "Ectosome",
         "type": "scatter",
         "x": [
          15.400946972249095,
          24.317206763743684,
          14.992894795187105,
          14.214617568288377,
          15.5714820947751,
          17.92173782589555,
          9.150202795374291,
          20.590530115027374
         ],
         "y": [
          -6.535519028768579,
          -7.455604886505674,
          -4.500821896161979,
          -10.339145292047114,
          -16.49031998628253,
          -18.050579947076457,
          -17.13525887263521,
          -7.646629442718267
         ]
        },
        {
         "legendgroup": "1",
         "legendgrouptitle": {
          "text": "Batch 1"
         },
         "marker": {
          "color": [
           "blue",
           "blue",
           "blue",
           "blue",
           "blue",
           "blue",
           "blue",
           "blue"
          ],
          "size": 8,
          "symbol": [
           "square",
           "square",
           "square",
           "square",
           "square",
           "square",
           "square",
           "square"
          ]
         },
         "mode": "markers",
         "name": "Choanosome",
         "type": "scatter",
         "x": [
          -9.84192416869349,
          -12.112276572854695,
          -13.12776808084633,
          -13.798687723364564,
          -14.938969676328918,
          -13.81409181293029,
          -13.884240007459773,
          -13.631675329329815
         ],
         "y": [
          -17.43306270703292,
          -21.842137612419126,
          -8.642737526005815,
          -14.388836162756665,
          -14.614963625862968,
          -16.493626438823803,
          -17.06275788351003,
          -17.139359296511554
         ]
        },
        {
         "legendgroup": "2",
         "legendgrouptitle": {
          "text": "Batch 2"
         },
         "marker": {
          "color": [
           "red",
           "red",
           "red",
           "red",
           "red",
           "red",
           "red",
           "red"
          ],
          "size": 8,
          "symbol": [
           "circle",
           "circle",
           "circle",
           "circle",
           "circle",
           "circle",
           "circle",
           "circle"
          ]
         },
         "mode": "markers",
         "name": "Ectosome",
         "type": "scatter",
         "x": [
          23.764667153289597,
          17.918763932461367,
          19.859686238963935,
          11.555822466359192,
          15.942435607891321,
          18.802291625784555,
          20.8396996977832,
          17.29611584659925
         ],
         "y": [
          -0.5166964509872409,
          2.554441088627717,
          12.026861317552502,
          2.856004525362714,
          21.800061271626703,
          24.52955082757154,
          23.742304081858887,
          22.64607933645426
         ]
        },
        {
         "legendgroup": "2",
         "legendgrouptitle": {
          "text": "Batch 2"
         },
         "marker": {
          "color": [
           "red",
           "red",
           "red",
           "red",
           "red",
           "red",
           "red",
           "red"
          ],
          "size": 8,
          "symbol": [
           "square",
           "square",
           "square",
           "square",
           "square",
           "square",
           "square",
           "square"
          ]
         },
         "mode": "markers",
         "name": "Choanosome",
         "type": "scatter",
         "x": [
          -21.555806986812843,
          -20.25591347385345,
          -20.74247987286606,
          -24.285579621415618,
          -23.31233264320982,
          -19.92701666870626,
          -20.081761562914537,
          -22.82857729808649
         ],
         "y": [
          13.053385682523182,
          6.521995904211163,
          9.850825756989876,
          6.902266906132729,
          16.049730534059407,
          21.157301607947737,
          18.50508482083079,
          14.092163394356723
         ]
        }
       ],
       "layout": {
        "template": {
         "data": {
          "bar": [
           {
            "error_x": {
             "color": "#2a3f5f"
            },
            "error_y": {
             "color": "#2a3f5f"
            },
            "marker": {
             "line": {
              "color": "#E5ECF6",
              "width": 0.5
             },
             "pattern": {
              "fillmode": "overlay",
              "size": 10,
              "solidity": 0.2
             }
            },
            "type": "bar"
           }
          ],
          "barpolar": [
           {
            "marker": {
             "line": {
              "color": "#E5ECF6",
              "width": 0.5
             },
             "pattern": {
              "fillmode": "overlay",
              "size": 10,
              "solidity": 0.2
             }
            },
            "type": "barpolar"
           }
          ],
          "carpet": [
           {
            "aaxis": {
             "endlinecolor": "#2a3f5f",
             "gridcolor": "white",
             "linecolor": "white",
             "minorgridcolor": "white",
             "startlinecolor": "#2a3f5f"
            },
            "baxis": {
             "endlinecolor": "#2a3f5f",
             "gridcolor": "white",
             "linecolor": "white",
             "minorgridcolor": "white",
             "startlinecolor": "#2a3f5f"
            },
            "type": "carpet"
           }
          ],
          "choropleth": [
           {
            "colorbar": {
             "outlinewidth": 0,
             "ticks": ""
            },
            "type": "choropleth"
           }
          ],
          "contour": [
           {
            "colorbar": {
             "outlinewidth": 0,
             "ticks": ""
            },
            "colorscale": [
             [
              0,
              "#0d0887"
             ],
             [
              0.1111111111111111,
              "#46039f"
             ],
             [
              0.2222222222222222,
              "#7201a8"
             ],
             [
              0.3333333333333333,
              "#9c179e"
             ],
             [
              0.4444444444444444,
              "#bd3786"
             ],
             [
              0.5555555555555556,
              "#d8576b"
             ],
             [
              0.6666666666666666,
              "#ed7953"
             ],
             [
              0.7777777777777778,
              "#fb9f3a"
             ],
             [
              0.8888888888888888,
              "#fdca26"
             ],
             [
              1,
              "#f0f921"
             ]
            ],
            "type": "contour"
           }
          ],
          "contourcarpet": [
           {
            "colorbar": {
             "outlinewidth": 0,
             "ticks": ""
            },
            "type": "contourcarpet"
           }
          ],
          "heatmap": [
           {
            "colorbar": {
             "outlinewidth": 0,
             "ticks": ""
            },
            "colorscale": [
             [
              0,
              "#0d0887"
             ],
             [
              0.1111111111111111,
              "#46039f"
             ],
             [
              0.2222222222222222,
              "#7201a8"
             ],
             [
              0.3333333333333333,
              "#9c179e"
             ],
             [
              0.4444444444444444,
              "#bd3786"
             ],
             [
              0.5555555555555556,
              "#d8576b"
             ],
             [
              0.6666666666666666,
              "#ed7953"
             ],
             [
              0.7777777777777778,
              "#fb9f3a"
             ],
             [
              0.8888888888888888,
              "#fdca26"
             ],
             [
              1,
              "#f0f921"
             ]
            ],
            "type": "heatmap"
           }
          ],
          "heatmapgl": [
           {
            "colorbar": {
             "outlinewidth": 0,
             "ticks": ""
            },
            "colorscale": [
             [
              0,
              "#0d0887"
             ],
             [
              0.1111111111111111,
              "#46039f"
             ],
             [
              0.2222222222222222,
              "#7201a8"
             ],
             [
              0.3333333333333333,
              "#9c179e"
             ],
             [
              0.4444444444444444,
              "#bd3786"
             ],
             [
              0.5555555555555556,
              "#d8576b"
             ],
             [
              0.6666666666666666,
              "#ed7953"
             ],
             [
              0.7777777777777778,
              "#fb9f3a"
             ],
             [
              0.8888888888888888,
              "#fdca26"
             ],
             [
              1,
              "#f0f921"
             ]
            ],
            "type": "heatmapgl"
           }
          ],
          "histogram": [
           {
            "marker": {
             "pattern": {
              "fillmode": "overlay",
              "size": 10,
              "solidity": 0.2
             }
            },
            "type": "histogram"
           }
          ],
          "histogram2d": [
           {
            "colorbar": {
             "outlinewidth": 0,
             "ticks": ""
            },
            "colorscale": [
             [
              0,
              "#0d0887"
             ],
             [
              0.1111111111111111,
              "#46039f"
             ],
             [
              0.2222222222222222,
              "#7201a8"
             ],
             [
              0.3333333333333333,
              "#9c179e"
             ],
             [
              0.4444444444444444,
              "#bd3786"
             ],
             [
              0.5555555555555556,
              "#d8576b"
             ],
             [
              0.6666666666666666,
              "#ed7953"
             ],
             [
              0.7777777777777778,
              "#fb9f3a"
             ],
             [
              0.8888888888888888,
              "#fdca26"
             ],
             [
              1,
              "#f0f921"
             ]
            ],
            "type": "histogram2d"
           }
          ],
          "histogram2dcontour": [
           {
            "colorbar": {
             "outlinewidth": 0,
             "ticks": ""
            },
            "colorscale": [
             [
              0,
              "#0d0887"
             ],
             [
              0.1111111111111111,
              "#46039f"
             ],
             [
              0.2222222222222222,
              "#7201a8"
             ],
             [
              0.3333333333333333,
              "#9c179e"
             ],
             [
              0.4444444444444444,
              "#bd3786"
             ],
             [
              0.5555555555555556,
              "#d8576b"
             ],
             [
              0.6666666666666666,
              "#ed7953"
             ],
             [
              0.7777777777777778,
              "#fb9f3a"
             ],
             [
              0.8888888888888888,
              "#fdca26"
             ],
             [
              1,
              "#f0f921"
             ]
            ],
            "type": "histogram2dcontour"
           }
          ],
          "mesh3d": [
           {
            "colorbar": {
             "outlinewidth": 0,
             "ticks": ""
            },
            "type": "mesh3d"
           }
          ],
          "parcoords": [
           {
            "line": {
             "colorbar": {
              "outlinewidth": 0,
              "ticks": ""
             }
            },
            "type": "parcoords"
           }
          ],
          "pie": [
           {
            "automargin": true,
            "type": "pie"
           }
          ],
          "scatter": [
           {
            "fillpattern": {
             "fillmode": "overlay",
             "size": 10,
             "solidity": 0.2
            },
            "type": "scatter"
           }
          ],
          "scatter3d": [
           {
            "line": {
             "colorbar": {
              "outlinewidth": 0,
              "ticks": ""
             }
            },
            "marker": {
             "colorbar": {
              "outlinewidth": 0,
              "ticks": ""
             }
            },
            "type": "scatter3d"
           }
          ],
          "scattercarpet": [
           {
            "marker": {
             "colorbar": {
              "outlinewidth": 0,
              "ticks": ""
             }
            },
            "type": "scattercarpet"
           }
          ],
          "scattergeo": [
           {
            "marker": {
             "colorbar": {
              "outlinewidth": 0,
              "ticks": ""
             }
            },
            "type": "scattergeo"
           }
          ],
          "scattergl": [
           {
            "marker": {
             "colorbar": {
              "outlinewidth": 0,
              "ticks": ""
             }
            },
            "type": "scattergl"
           }
          ],
          "scattermapbox": [
           {
            "marker": {
             "colorbar": {
              "outlinewidth": 0,
              "ticks": ""
             }
            },
            "type": "scattermapbox"
           }
          ],
          "scatterpolar": [
           {
            "marker": {
             "colorbar": {
              "outlinewidth": 0,
              "ticks": ""
             }
            },
            "type": "scatterpolar"
           }
          ],
          "scatterpolargl": [
           {
            "marker": {
             "colorbar": {
              "outlinewidth": 0,
              "ticks": ""
             }
            },
            "type": "scatterpolargl"
           }
          ],
          "scatterternary": [
           {
            "marker": {
             "colorbar": {
              "outlinewidth": 0,
              "ticks": ""
             }
            },
            "type": "scatterternary"
           }
          ],
          "surface": [
           {
            "colorbar": {
             "outlinewidth": 0,
             "ticks": ""
            },
            "colorscale": [
             [
              0,
              "#0d0887"
             ],
             [
              0.1111111111111111,
              "#46039f"
             ],
             [
              0.2222222222222222,
              "#7201a8"
             ],
             [
              0.3333333333333333,
              "#9c179e"
             ],
             [
              0.4444444444444444,
              "#bd3786"
             ],
             [
              0.5555555555555556,
              "#d8576b"
             ],
             [
              0.6666666666666666,
              "#ed7953"
             ],
             [
              0.7777777777777778,
              "#fb9f3a"
             ],
             [
              0.8888888888888888,
              "#fdca26"
             ],
             [
              1,
              "#f0f921"
             ]
            ],
            "type": "surface"
           }
          ],
          "table": [
           {
            "cells": {
             "fill": {
              "color": "#EBF0F8"
             },
             "line": {
              "color": "white"
             }
            },
            "header": {
             "fill": {
              "color": "#C8D4E3"
             },
             "line": {
              "color": "white"
             }
            },
            "type": "table"
           }
          ]
         },
         "layout": {
          "annotationdefaults": {
           "arrowcolor": "#2a3f5f",
           "arrowhead": 0,
           "arrowwidth": 1
          },
          "autotypenumbers": "strict",
          "coloraxis": {
           "colorbar": {
            "outlinewidth": 0,
            "ticks": ""
           }
          },
          "colorscale": {
           "diverging": [
            [
             0,
             "#8e0152"
            ],
            [
             0.1,
             "#c51b7d"
            ],
            [
             0.2,
             "#de77ae"
            ],
            [
             0.3,
             "#f1b6da"
            ],
            [
             0.4,
             "#fde0ef"
            ],
            [
             0.5,
             "#f7f7f7"
            ],
            [
             0.6,
             "#e6f5d0"
            ],
            [
             0.7,
             "#b8e186"
            ],
            [
             0.8,
             "#7fbc41"
            ],
            [
             0.9,
             "#4d9221"
            ],
            [
             1,
             "#276419"
            ]
           ],
           "sequential": [
            [
             0,
             "#0d0887"
            ],
            [
             0.1111111111111111,
             "#46039f"
            ],
            [
             0.2222222222222222,
             "#7201a8"
            ],
            [
             0.3333333333333333,
             "#9c179e"
            ],
            [
             0.4444444444444444,
             "#bd3786"
            ],
            [
             0.5555555555555556,
             "#d8576b"
            ],
            [
             0.6666666666666666,
             "#ed7953"
            ],
            [
             0.7777777777777778,
             "#fb9f3a"
            ],
            [
             0.8888888888888888,
             "#fdca26"
            ],
            [
             1,
             "#f0f921"
            ]
           ],
           "sequentialminus": [
            [
             0,
             "#0d0887"
            ],
            [
             0.1111111111111111,
             "#46039f"
            ],
            [
             0.2222222222222222,
             "#7201a8"
            ],
            [
             0.3333333333333333,
             "#9c179e"
            ],
            [
             0.4444444444444444,
             "#bd3786"
            ],
            [
             0.5555555555555556,
             "#d8576b"
            ],
            [
             0.6666666666666666,
             "#ed7953"
            ],
            [
             0.7777777777777778,
             "#fb9f3a"
            ],
            [
             0.8888888888888888,
             "#fdca26"
            ],
            [
             1,
             "#f0f921"
            ]
           ]
          },
          "colorway": [
           "#636efa",
           "#EF553B",
           "#00cc96",
           "#ab63fa",
           "#FFA15A",
           "#19d3f3",
           "#FF6692",
           "#B6E880",
           "#FF97FF",
           "#FECB52"
          ],
          "font": {
           "color": "#2a3f5f"
          },
          "geo": {
           "bgcolor": "white",
           "lakecolor": "white",
           "landcolor": "#E5ECF6",
           "showlakes": true,
           "showland": true,
           "subunitcolor": "white"
          },
          "hoverlabel": {
           "align": "left"
          },
          "hovermode": "closest",
          "mapbox": {
           "style": "light"
          },
          "paper_bgcolor": "white",
          "plot_bgcolor": "#E5ECF6",
          "polar": {
           "angularaxis": {
            "gridcolor": "white",
            "linecolor": "white",
            "ticks": ""
           },
           "bgcolor": "#E5ECF6",
           "radialaxis": {
            "gridcolor": "white",
            "linecolor": "white",
            "ticks": ""
           }
          },
          "scene": {
           "xaxis": {
            "backgroundcolor": "#E5ECF6",
            "gridcolor": "white",
            "gridwidth": 2,
            "linecolor": "white",
            "showbackground": true,
            "ticks": "",
            "zerolinecolor": "white"
           },
           "yaxis": {
            "backgroundcolor": "#E5ECF6",
            "gridcolor": "white",
            "gridwidth": 2,
            "linecolor": "white",
            "showbackground": true,
            "ticks": "",
            "zerolinecolor": "white"
           },
           "zaxis": {
            "backgroundcolor": "#E5ECF6",
            "gridcolor": "white",
            "gridwidth": 2,
            "linecolor": "white",
            "showbackground": true,
            "ticks": "",
            "zerolinecolor": "white"
           }
          },
          "shapedefaults": {
           "line": {
            "color": "#2a3f5f"
           }
          },
          "ternary": {
           "aaxis": {
            "gridcolor": "white",
            "linecolor": "white",
            "ticks": ""
           },
           "baxis": {
            "gridcolor": "white",
            "linecolor": "white",
            "ticks": ""
           },
           "bgcolor": "#E5ECF6",
           "caxis": {
            "gridcolor": "white",
            "linecolor": "white",
            "ticks": ""
           }
          },
          "title": {
           "x": 0.05
          },
          "xaxis": {
           "automargin": true,
           "gridcolor": "white",
           "linecolor": "white",
           "ticks": "",
           "title": {
            "standoff": 15
           },
           "zerolinecolor": "white",
           "zerolinewidth": 2
          },
          "yaxis": {
           "automargin": true,
           "gridcolor": "white",
           "linecolor": "white",
           "ticks": "",
           "title": {
            "standoff": 15
           },
           "zerolinecolor": "white",
           "zerolinewidth": 2
          }
         }
        }
       }
      },
      "text/html": [
       "<div>                            <div id=\"8eabe566-ec36-42cc-9b4e-05590dc7bead\" class=\"plotly-graph-div\" style=\"height:525px; width:100%;\"></div>            <script type=\"text/javascript\">                require([\"plotly\"], function(Plotly) {                    window.PLOTLYENV=window.PLOTLYENV || {};                                    if (document.getElementById(\"8eabe566-ec36-42cc-9b4e-05590dc7bead\")) {                    Plotly.newPlot(                        \"8eabe566-ec36-42cc-9b4e-05590dc7bead\",                        [{\"legendgroup\":\"1\",\"legendgrouptitle\":{\"text\":\"Batch 1\"},\"marker\":{\"color\":[\"blue\",\"blue\",\"blue\",\"blue\",\"blue\",\"blue\",\"blue\",\"blue\"],\"size\":8,\"symbol\":[\"circle\",\"circle\",\"circle\",\"circle\",\"circle\",\"circle\",\"circle\",\"circle\"]},\"mode\":\"markers\",\"name\":\"Ectosome\",\"x\":[15.400946972249095,24.317206763743684,14.992894795187105,14.214617568288377,15.5714820947751,17.92173782589555,9.150202795374291,20.590530115027374],\"y\":[-6.535519028768579,-7.455604886505674,-4.500821896161979,-10.339145292047114,-16.49031998628253,-18.050579947076457,-17.13525887263521,-7.646629442718267],\"type\":\"scatter\"},{\"legendgroup\":\"1\",\"legendgrouptitle\":{\"text\":\"Batch 1\"},\"marker\":{\"color\":[\"blue\",\"blue\",\"blue\",\"blue\",\"blue\",\"blue\",\"blue\",\"blue\"],\"size\":8,\"symbol\":[\"square\",\"square\",\"square\",\"square\",\"square\",\"square\",\"square\",\"square\"]},\"mode\":\"markers\",\"name\":\"Choanosome\",\"x\":[-9.84192416869349,-12.112276572854695,-13.12776808084633,-13.798687723364564,-14.938969676328918,-13.81409181293029,-13.884240007459773,-13.631675329329815],\"y\":[-17.43306270703292,-21.842137612419126,-8.642737526005815,-14.388836162756665,-14.614963625862968,-16.493626438823803,-17.06275788351003,-17.139359296511554],\"type\":\"scatter\"},{\"legendgroup\":\"2\",\"legendgrouptitle\":{\"text\":\"Batch 2\"},\"marker\":{\"color\":[\"red\",\"red\",\"red\",\"red\",\"red\",\"red\",\"red\",\"red\"],\"size\":8,\"symbol\":[\"circle\",\"circle\",\"circle\",\"circle\",\"circle\",\"circle\",\"circle\",\"circle\"]},\"mode\":\"markers\",\"name\":\"Ectosome\",\"x\":[23.764667153289597,17.918763932461367,19.859686238963935,11.555822466359192,15.942435607891321,18.802291625784555,20.8396996977832,17.29611584659925],\"y\":[-0.5166964509872409,2.554441088627717,12.026861317552502,2.856004525362714,21.800061271626703,24.52955082757154,23.742304081858887,22.64607933645426],\"type\":\"scatter\"},{\"legendgroup\":\"2\",\"legendgrouptitle\":{\"text\":\"Batch 2\"},\"marker\":{\"color\":[\"red\",\"red\",\"red\",\"red\",\"red\",\"red\",\"red\",\"red\"],\"size\":8,\"symbol\":[\"square\",\"square\",\"square\",\"square\",\"square\",\"square\",\"square\",\"square\"]},\"mode\":\"markers\",\"name\":\"Choanosome\",\"x\":[-21.555806986812843,-20.25591347385345,-20.74247987286606,-24.285579621415618,-23.31233264320982,-19.92701666870626,-20.081761562914537,-22.82857729808649],\"y\":[13.053385682523182,6.521995904211163,9.850825756989876,6.902266906132729,16.049730534059407,21.157301607947737,18.50508482083079,14.092163394356723],\"type\":\"scatter\"}],                        {\"template\":{\"data\":{\"histogram2dcontour\":[{\"type\":\"histogram2dcontour\",\"colorbar\":{\"outlinewidth\":0,\"ticks\":\"\"},\"colorscale\":[[0.0,\"#0d0887\"],[0.1111111111111111,\"#46039f\"],[0.2222222222222222,\"#7201a8\"],[0.3333333333333333,\"#9c179e\"],[0.4444444444444444,\"#bd3786\"],[0.5555555555555556,\"#d8576b\"],[0.6666666666666666,\"#ed7953\"],[0.7777777777777778,\"#fb9f3a\"],[0.8888888888888888,\"#fdca26\"],[1.0,\"#f0f921\"]]}],\"choropleth\":[{\"type\":\"choropleth\",\"colorbar\":{\"outlinewidth\":0,\"ticks\":\"\"}}],\"histogram2d\":[{\"type\":\"histogram2d\",\"colorbar\":{\"outlinewidth\":0,\"ticks\":\"\"},\"colorscale\":[[0.0,\"#0d0887\"],[0.1111111111111111,\"#46039f\"],[0.2222222222222222,\"#7201a8\"],[0.3333333333333333,\"#9c179e\"],[0.4444444444444444,\"#bd3786\"],[0.5555555555555556,\"#d8576b\"],[0.6666666666666666,\"#ed7953\"],[0.7777777777777778,\"#fb9f3a\"],[0.8888888888888888,\"#fdca26\"],[1.0,\"#f0f921\"]]}],\"heatmap\":[{\"type\":\"heatmap\",\"colorbar\":{\"outlinewidth\":0,\"ticks\":\"\"},\"colorscale\":[[0.0,\"#0d0887\"],[0.1111111111111111,\"#46039f\"],[0.2222222222222222,\"#7201a8\"],[0.3333333333333333,\"#9c179e\"],[0.4444444444444444,\"#bd3786\"],[0.5555555555555556,\"#d8576b\"],[0.6666666666666666,\"#ed7953\"],[0.7777777777777778,\"#fb9f3a\"],[0.8888888888888888,\"#fdca26\"],[1.0,\"#f0f921\"]]}],\"heatmapgl\":[{\"type\":\"heatmapgl\",\"colorbar\":{\"outlinewidth\":0,\"ticks\":\"\"},\"colorscale\":[[0.0,\"#0d0887\"],[0.1111111111111111,\"#46039f\"],[0.2222222222222222,\"#7201a8\"],[0.3333333333333333,\"#9c179e\"],[0.4444444444444444,\"#bd3786\"],[0.5555555555555556,\"#d8576b\"],[0.6666666666666666,\"#ed7953\"],[0.7777777777777778,\"#fb9f3a\"],[0.8888888888888888,\"#fdca26\"],[1.0,\"#f0f921\"]]}],\"contourcarpet\":[{\"type\":\"contourcarpet\",\"colorbar\":{\"outlinewidth\":0,\"ticks\":\"\"}}],\"contour\":[{\"type\":\"contour\",\"colorbar\":{\"outlinewidth\":0,\"ticks\":\"\"},\"colorscale\":[[0.0,\"#0d0887\"],[0.1111111111111111,\"#46039f\"],[0.2222222222222222,\"#7201a8\"],[0.3333333333333333,\"#9c179e\"],[0.4444444444444444,\"#bd3786\"],[0.5555555555555556,\"#d8576b\"],[0.6666666666666666,\"#ed7953\"],[0.7777777777777778,\"#fb9f3a\"],[0.8888888888888888,\"#fdca26\"],[1.0,\"#f0f921\"]]}],\"surface\":[{\"type\":\"surface\",\"colorbar\":{\"outlinewidth\":0,\"ticks\":\"\"},\"colorscale\":[[0.0,\"#0d0887\"],[0.1111111111111111,\"#46039f\"],[0.2222222222222222,\"#7201a8\"],[0.3333333333333333,\"#9c179e\"],[0.4444444444444444,\"#bd3786\"],[0.5555555555555556,\"#d8576b\"],[0.6666666666666666,\"#ed7953\"],[0.7777777777777778,\"#fb9f3a\"],[0.8888888888888888,\"#fdca26\"],[1.0,\"#f0f921\"]]}],\"mesh3d\":[{\"type\":\"mesh3d\",\"colorbar\":{\"outlinewidth\":0,\"ticks\":\"\"}}],\"scatter\":[{\"fillpattern\":{\"fillmode\":\"overlay\",\"size\":10,\"solidity\":0.2},\"type\":\"scatter\"}],\"parcoords\":[{\"type\":\"parcoords\",\"line\":{\"colorbar\":{\"outlinewidth\":0,\"ticks\":\"\"}}}],\"scatterpolargl\":[{\"type\":\"scatterpolargl\",\"marker\":{\"colorbar\":{\"outlinewidth\":0,\"ticks\":\"\"}}}],\"bar\":[{\"error_x\":{\"color\":\"#2a3f5f\"},\"error_y\":{\"color\":\"#2a3f5f\"},\"marker\":{\"line\":{\"color\":\"#E5ECF6\",\"width\":0.5},\"pattern\":{\"fillmode\":\"overlay\",\"size\":10,\"solidity\":0.2}},\"type\":\"bar\"}],\"scattergeo\":[{\"type\":\"scattergeo\",\"marker\":{\"colorbar\":{\"outlinewidth\":0,\"ticks\":\"\"}}}],\"scatterpolar\":[{\"type\":\"scatterpolar\",\"marker\":{\"colorbar\":{\"outlinewidth\":0,\"ticks\":\"\"}}}],\"histogram\":[{\"marker\":{\"pattern\":{\"fillmode\":\"overlay\",\"size\":10,\"solidity\":0.2}},\"type\":\"histogram\"}],\"scattergl\":[{\"type\":\"scattergl\",\"marker\":{\"colorbar\":{\"outlinewidth\":0,\"ticks\":\"\"}}}],\"scatter3d\":[{\"type\":\"scatter3d\",\"line\":{\"colorbar\":{\"outlinewidth\":0,\"ticks\":\"\"}},\"marker\":{\"colorbar\":{\"outlinewidth\":0,\"ticks\":\"\"}}}],\"scattermapbox\":[{\"type\":\"scattermapbox\",\"marker\":{\"colorbar\":{\"outlinewidth\":0,\"ticks\":\"\"}}}],\"scatterternary\":[{\"type\":\"scatterternary\",\"marker\":{\"colorbar\":{\"outlinewidth\":0,\"ticks\":\"\"}}}],\"scattercarpet\":[{\"type\":\"scattercarpet\",\"marker\":{\"colorbar\":{\"outlinewidth\":0,\"ticks\":\"\"}}}],\"carpet\":[{\"aaxis\":{\"endlinecolor\":\"#2a3f5f\",\"gridcolor\":\"white\",\"linecolor\":\"white\",\"minorgridcolor\":\"white\",\"startlinecolor\":\"#2a3f5f\"},\"baxis\":{\"endlinecolor\":\"#2a3f5f\",\"gridcolor\":\"white\",\"linecolor\":\"white\",\"minorgridcolor\":\"white\",\"startlinecolor\":\"#2a3f5f\"},\"type\":\"carpet\"}],\"table\":[{\"cells\":{\"fill\":{\"color\":\"#EBF0F8\"},\"line\":{\"color\":\"white\"}},\"header\":{\"fill\":{\"color\":\"#C8D4E3\"},\"line\":{\"color\":\"white\"}},\"type\":\"table\"}],\"barpolar\":[{\"marker\":{\"line\":{\"color\":\"#E5ECF6\",\"width\":0.5},\"pattern\":{\"fillmode\":\"overlay\",\"size\":10,\"solidity\":0.2}},\"type\":\"barpolar\"}],\"pie\":[{\"automargin\":true,\"type\":\"pie\"}]},\"layout\":{\"autotypenumbers\":\"strict\",\"colorway\":[\"#636efa\",\"#EF553B\",\"#00cc96\",\"#ab63fa\",\"#FFA15A\",\"#19d3f3\",\"#FF6692\",\"#B6E880\",\"#FF97FF\",\"#FECB52\"],\"font\":{\"color\":\"#2a3f5f\"},\"hovermode\":\"closest\",\"hoverlabel\":{\"align\":\"left\"},\"paper_bgcolor\":\"white\",\"plot_bgcolor\":\"#E5ECF6\",\"polar\":{\"bgcolor\":\"#E5ECF6\",\"angularaxis\":{\"gridcolor\":\"white\",\"linecolor\":\"white\",\"ticks\":\"\"},\"radialaxis\":{\"gridcolor\":\"white\",\"linecolor\":\"white\",\"ticks\":\"\"}},\"ternary\":{\"bgcolor\":\"#E5ECF6\",\"aaxis\":{\"gridcolor\":\"white\",\"linecolor\":\"white\",\"ticks\":\"\"},\"baxis\":{\"gridcolor\":\"white\",\"linecolor\":\"white\",\"ticks\":\"\"},\"caxis\":{\"gridcolor\":\"white\",\"linecolor\":\"white\",\"ticks\":\"\"}},\"coloraxis\":{\"colorbar\":{\"outlinewidth\":0,\"ticks\":\"\"}},\"colorscale\":{\"sequential\":[[0.0,\"#0d0887\"],[0.1111111111111111,\"#46039f\"],[0.2222222222222222,\"#7201a8\"],[0.3333333333333333,\"#9c179e\"],[0.4444444444444444,\"#bd3786\"],[0.5555555555555556,\"#d8576b\"],[0.6666666666666666,\"#ed7953\"],[0.7777777777777778,\"#fb9f3a\"],[0.8888888888888888,\"#fdca26\"],[1.0,\"#f0f921\"]],\"sequentialminus\":[[0.0,\"#0d0887\"],[0.1111111111111111,\"#46039f\"],[0.2222222222222222,\"#7201a8\"],[0.3333333333333333,\"#9c179e\"],[0.4444444444444444,\"#bd3786\"],[0.5555555555555556,\"#d8576b\"],[0.6666666666666666,\"#ed7953\"],[0.7777777777777778,\"#fb9f3a\"],[0.8888888888888888,\"#fdca26\"],[1.0,\"#f0f921\"]],\"diverging\":[[0,\"#8e0152\"],[0.1,\"#c51b7d\"],[0.2,\"#de77ae\"],[0.3,\"#f1b6da\"],[0.4,\"#fde0ef\"],[0.5,\"#f7f7f7\"],[0.6,\"#e6f5d0\"],[0.7,\"#b8e186\"],[0.8,\"#7fbc41\"],[0.9,\"#4d9221\"],[1,\"#276419\"]]},\"xaxis\":{\"gridcolor\":\"white\",\"linecolor\":\"white\",\"ticks\":\"\",\"title\":{\"standoff\":15},\"zerolinecolor\":\"white\",\"automargin\":true,\"zerolinewidth\":2},\"yaxis\":{\"gridcolor\":\"white\",\"linecolor\":\"white\",\"ticks\":\"\",\"title\":{\"standoff\":15},\"zerolinecolor\":\"white\",\"automargin\":true,\"zerolinewidth\":2},\"scene\":{\"xaxis\":{\"backgroundcolor\":\"#E5ECF6\",\"gridcolor\":\"white\",\"linecolor\":\"white\",\"showbackground\":true,\"ticks\":\"\",\"zerolinecolor\":\"white\",\"gridwidth\":2},\"yaxis\":{\"backgroundcolor\":\"#E5ECF6\",\"gridcolor\":\"white\",\"linecolor\":\"white\",\"showbackground\":true,\"ticks\":\"\",\"zerolinecolor\":\"white\",\"gridwidth\":2},\"zaxis\":{\"backgroundcolor\":\"#E5ECF6\",\"gridcolor\":\"white\",\"linecolor\":\"white\",\"showbackground\":true,\"ticks\":\"\",\"zerolinecolor\":\"white\",\"gridwidth\":2}},\"shapedefaults\":{\"line\":{\"color\":\"#2a3f5f\"}},\"annotationdefaults\":{\"arrowcolor\":\"#2a3f5f\",\"arrowhead\":0,\"arrowwidth\":1},\"geo\":{\"bgcolor\":\"white\",\"landcolor\":\"#E5ECF6\",\"subunitcolor\":\"white\",\"showland\":true,\"showlakes\":true,\"lakecolor\":\"white\"},\"title\":{\"x\":0.05},\"mapbox\":{\"style\":\"light\"}}}},                        {\"responsive\": true}                    ).then(function(){\n",
       "                            \n",
       "var gd = document.getElementById('8eabe566-ec36-42cc-9b4e-05590dc7bead');\n",
       "var x = new MutationObserver(function (mutations, observer) {{\n",
       "        var display = window.getComputedStyle(gd).display;\n",
       "        if (!display || display === 'none') {{\n",
       "            console.log([gd, 'removed!']);\n",
       "            Plotly.purge(gd);\n",
       "            observer.disconnect();\n",
       "        }}\n",
       "}});\n",
       "\n",
       "// Listen for the removal of the full notebook cells\n",
       "var notebookContainer = gd.closest('#notebook-container');\n",
       "if (notebookContainer) {{\n",
       "    x.observe(notebookContainer, {childList: true});\n",
       "}}\n",
       "\n",
       "// Listen for the clearing of the current output cell\n",
       "var outputEl = gd.closest('.output');\n",
       "if (outputEl) {{\n",
       "    x.observe(outputEl, {childList: true});\n",
       "}}\n",
       "\n",
       "                        })                };                });            </script>        </div>"
      ]
     },
     "metadata": {},
     "output_type": "display_data"
    }
   ],
   "source": [
    "plotPCA(data)"
   ]
  },
  {
   "cell_type": "code",
   "execution_count": 19,
   "metadata": {},
   "outputs": [
    {
     "data": {
      "application/vnd.plotly.v1+json": {
       "config": {
        "plotlyServerURL": "https://plot.ly"
       },
       "data": [
        {
         "legendgroup": "1",
         "legendgrouptitle": {
          "text": "Batch 1"
         },
         "marker": {
          "color": [
           "blue",
           "blue",
           "blue",
           "blue",
           "blue",
           "blue",
           "blue",
           "blue"
          ],
          "size": 8,
          "symbol": [
           "circle",
           "circle",
           "circle",
           "circle",
           "circle",
           "circle",
           "circle",
           "circle"
          ]
         },
         "mode": "markers",
         "name": "Ectosome",
         "type": "scatter",
         "x": [
          15.305298316569248,
          25.321825419703906,
          12.632504603851105,
          13.934844390026706,
          20.26661652608366,
          29.528205428687013,
          16.724230982069432,
          28.102699276668243
         ],
         "y": [
          -3.002025538816576,
          -3.3724665721841682,
          10.671193356709152,
          7.554976634643436,
          -9.619671624274428,
          -11.73963807962036,
          -7.12407362463816,
          -11.28938474469015
         ]
        },
        {
         "legendgroup": "1",
         "legendgrouptitle": {
          "text": "Batch 1"
         },
         "marker": {
          "color": [
           "blue",
           "blue",
           "blue",
           "blue",
           "blue",
           "blue",
           "blue",
           "blue"
          ],
          "size": 8,
          "symbol": [
           "square",
           "square",
           "square",
           "square",
           "square",
           "square",
           "square",
           "square"
          ]
         },
         "mode": "markers",
         "name": "Choanosome",
         "type": "scatter",
         "x": [
          -18.84730259763365,
          -14.930235328826523,
          -23.962144164968525,
          -22.645120022631925,
          -24.05433770388054,
          -13.166724511996087,
          -13.025401521464286,
          -13.199757204937228
         ],
         "y": [
          3.2638189574908703,
          -0.40773721973063354,
          7.036389872446892,
          4.120407626192146,
          -9.456546453662437,
          -16.218979222453115,
          -16.430583160957145,
          -16.21734254225583
         ]
        },
        {
         "legendgroup": "2",
         "legendgrouptitle": {
          "text": "Batch 2"
         },
         "marker": {
          "color": [
           "red",
           "red",
           "red",
           "red",
           "red",
           "red",
           "red",
           "red"
          ],
          "size": 8,
          "symbol": [
           "circle",
           "circle",
           "circle",
           "circle",
           "circle",
           "circle",
           "circle",
           "circle"
          ]
         },
         "mode": "markers",
         "name": "Ectosome",
         "type": "scatter",
         "x": [
          16.575161394335623,
          15.14568330510822,
          18.670024677873016,
          18.265854930792162,
          14.759345278599165,
          11.75006733880676,
          2.644203995766628,
          11.858911103682438
         ],
         "y": [
          5.546610393310592,
          6.722858208728953,
          3.3857896396113265,
          2.0757353702145513,
          5.643298550124897,
          9.100572288276405,
          15.62472743803941,
          9.425310652884246
         ]
        },
        {
         "legendgroup": "2",
         "legendgrouptitle": {
          "text": "Batch 2"
         },
         "marker": {
          "color": [
           "red",
           "red",
           "red",
           "red",
           "red",
           "red",
           "red",
           "red"
          ],
          "size": 8,
          "symbol": [
           "square",
           "square",
           "square",
           "square",
           "square",
           "square",
           "square",
           "square"
          ]
         },
         "mode": "markers",
         "name": "Choanosome",
         "type": "scatter",
         "x": [
          -17.689062099710657,
          -15.827760413507134,
          -15.310375698718742,
          -12.841769946553367,
          -13.799463720857101,
          -21.373762548309156,
          -20.397753709398128,
          -10.414505775230273
         ],
         "y": [
          0.16939725003521264,
          -0.9429837360676899,
          7.689262366016144,
          -4.448658518173098,
          3.85476448126974,
          5.792368322370971,
          6.812868186199619,
          -4.220258557040771
         ]
        }
       ],
       "layout": {
        "template": {
         "data": {
          "bar": [
           {
            "error_x": {
             "color": "#2a3f5f"
            },
            "error_y": {
             "color": "#2a3f5f"
            },
            "marker": {
             "line": {
              "color": "#E5ECF6",
              "width": 0.5
             },
             "pattern": {
              "fillmode": "overlay",
              "size": 10,
              "solidity": 0.2
             }
            },
            "type": "bar"
           }
          ],
          "barpolar": [
           {
            "marker": {
             "line": {
              "color": "#E5ECF6",
              "width": 0.5
             },
             "pattern": {
              "fillmode": "overlay",
              "size": 10,
              "solidity": 0.2
             }
            },
            "type": "barpolar"
           }
          ],
          "carpet": [
           {
            "aaxis": {
             "endlinecolor": "#2a3f5f",
             "gridcolor": "white",
             "linecolor": "white",
             "minorgridcolor": "white",
             "startlinecolor": "#2a3f5f"
            },
            "baxis": {
             "endlinecolor": "#2a3f5f",
             "gridcolor": "white",
             "linecolor": "white",
             "minorgridcolor": "white",
             "startlinecolor": "#2a3f5f"
            },
            "type": "carpet"
           }
          ],
          "choropleth": [
           {
            "colorbar": {
             "outlinewidth": 0,
             "ticks": ""
            },
            "type": "choropleth"
           }
          ],
          "contour": [
           {
            "colorbar": {
             "outlinewidth": 0,
             "ticks": ""
            },
            "colorscale": [
             [
              0,
              "#0d0887"
             ],
             [
              0.1111111111111111,
              "#46039f"
             ],
             [
              0.2222222222222222,
              "#7201a8"
             ],
             [
              0.3333333333333333,
              "#9c179e"
             ],
             [
              0.4444444444444444,
              "#bd3786"
             ],
             [
              0.5555555555555556,
              "#d8576b"
             ],
             [
              0.6666666666666666,
              "#ed7953"
             ],
             [
              0.7777777777777778,
              "#fb9f3a"
             ],
             [
              0.8888888888888888,
              "#fdca26"
             ],
             [
              1,
              "#f0f921"
             ]
            ],
            "type": "contour"
           }
          ],
          "contourcarpet": [
           {
            "colorbar": {
             "outlinewidth": 0,
             "ticks": ""
            },
            "type": "contourcarpet"
           }
          ],
          "heatmap": [
           {
            "colorbar": {
             "outlinewidth": 0,
             "ticks": ""
            },
            "colorscale": [
             [
              0,
              "#0d0887"
             ],
             [
              0.1111111111111111,
              "#46039f"
             ],
             [
              0.2222222222222222,
              "#7201a8"
             ],
             [
              0.3333333333333333,
              "#9c179e"
             ],
             [
              0.4444444444444444,
              "#bd3786"
             ],
             [
              0.5555555555555556,
              "#d8576b"
             ],
             [
              0.6666666666666666,
              "#ed7953"
             ],
             [
              0.7777777777777778,
              "#fb9f3a"
             ],
             [
              0.8888888888888888,
              "#fdca26"
             ],
             [
              1,
              "#f0f921"
             ]
            ],
            "type": "heatmap"
           }
          ],
          "heatmapgl": [
           {
            "colorbar": {
             "outlinewidth": 0,
             "ticks": ""
            },
            "colorscale": [
             [
              0,
              "#0d0887"
             ],
             [
              0.1111111111111111,
              "#46039f"
             ],
             [
              0.2222222222222222,
              "#7201a8"
             ],
             [
              0.3333333333333333,
              "#9c179e"
             ],
             [
              0.4444444444444444,
              "#bd3786"
             ],
             [
              0.5555555555555556,
              "#d8576b"
             ],
             [
              0.6666666666666666,
              "#ed7953"
             ],
             [
              0.7777777777777778,
              "#fb9f3a"
             ],
             [
              0.8888888888888888,
              "#fdca26"
             ],
             [
              1,
              "#f0f921"
             ]
            ],
            "type": "heatmapgl"
           }
          ],
          "histogram": [
           {
            "marker": {
             "pattern": {
              "fillmode": "overlay",
              "size": 10,
              "solidity": 0.2
             }
            },
            "type": "histogram"
           }
          ],
          "histogram2d": [
           {
            "colorbar": {
             "outlinewidth": 0,
             "ticks": ""
            },
            "colorscale": [
             [
              0,
              "#0d0887"
             ],
             [
              0.1111111111111111,
              "#46039f"
             ],
             [
              0.2222222222222222,
              "#7201a8"
             ],
             [
              0.3333333333333333,
              "#9c179e"
             ],
             [
              0.4444444444444444,
              "#bd3786"
             ],
             [
              0.5555555555555556,
              "#d8576b"
             ],
             [
              0.6666666666666666,
              "#ed7953"
             ],
             [
              0.7777777777777778,
              "#fb9f3a"
             ],
             [
              0.8888888888888888,
              "#fdca26"
             ],
             [
              1,
              "#f0f921"
             ]
            ],
            "type": "histogram2d"
           }
          ],
          "histogram2dcontour": [
           {
            "colorbar": {
             "outlinewidth": 0,
             "ticks": ""
            },
            "colorscale": [
             [
              0,
              "#0d0887"
             ],
             [
              0.1111111111111111,
              "#46039f"
             ],
             [
              0.2222222222222222,
              "#7201a8"
             ],
             [
              0.3333333333333333,
              "#9c179e"
             ],
             [
              0.4444444444444444,
              "#bd3786"
             ],
             [
              0.5555555555555556,
              "#d8576b"
             ],
             [
              0.6666666666666666,
              "#ed7953"
             ],
             [
              0.7777777777777778,
              "#fb9f3a"
             ],
             [
              0.8888888888888888,
              "#fdca26"
             ],
             [
              1,
              "#f0f921"
             ]
            ],
            "type": "histogram2dcontour"
           }
          ],
          "mesh3d": [
           {
            "colorbar": {
             "outlinewidth": 0,
             "ticks": ""
            },
            "type": "mesh3d"
           }
          ],
          "parcoords": [
           {
            "line": {
             "colorbar": {
              "outlinewidth": 0,
              "ticks": ""
             }
            },
            "type": "parcoords"
           }
          ],
          "pie": [
           {
            "automargin": true,
            "type": "pie"
           }
          ],
          "scatter": [
           {
            "fillpattern": {
             "fillmode": "overlay",
             "size": 10,
             "solidity": 0.2
            },
            "type": "scatter"
           }
          ],
          "scatter3d": [
           {
            "line": {
             "colorbar": {
              "outlinewidth": 0,
              "ticks": ""
             }
            },
            "marker": {
             "colorbar": {
              "outlinewidth": 0,
              "ticks": ""
             }
            },
            "type": "scatter3d"
           }
          ],
          "scattercarpet": [
           {
            "marker": {
             "colorbar": {
              "outlinewidth": 0,
              "ticks": ""
             }
            },
            "type": "scattercarpet"
           }
          ],
          "scattergeo": [
           {
            "marker": {
             "colorbar": {
              "outlinewidth": 0,
              "ticks": ""
             }
            },
            "type": "scattergeo"
           }
          ],
          "scattergl": [
           {
            "marker": {
             "colorbar": {
              "outlinewidth": 0,
              "ticks": ""
             }
            },
            "type": "scattergl"
           }
          ],
          "scattermapbox": [
           {
            "marker": {
             "colorbar": {
              "outlinewidth": 0,
              "ticks": ""
             }
            },
            "type": "scattermapbox"
           }
          ],
          "scatterpolar": [
           {
            "marker": {
             "colorbar": {
              "outlinewidth": 0,
              "ticks": ""
             }
            },
            "type": "scatterpolar"
           }
          ],
          "scatterpolargl": [
           {
            "marker": {
             "colorbar": {
              "outlinewidth": 0,
              "ticks": ""
             }
            },
            "type": "scatterpolargl"
           }
          ],
          "scatterternary": [
           {
            "marker": {
             "colorbar": {
              "outlinewidth": 0,
              "ticks": ""
             }
            },
            "type": "scatterternary"
           }
          ],
          "surface": [
           {
            "colorbar": {
             "outlinewidth": 0,
             "ticks": ""
            },
            "colorscale": [
             [
              0,
              "#0d0887"
             ],
             [
              0.1111111111111111,
              "#46039f"
             ],
             [
              0.2222222222222222,
              "#7201a8"
             ],
             [
              0.3333333333333333,
              "#9c179e"
             ],
             [
              0.4444444444444444,
              "#bd3786"
             ],
             [
              0.5555555555555556,
              "#d8576b"
             ],
             [
              0.6666666666666666,
              "#ed7953"
             ],
             [
              0.7777777777777778,
              "#fb9f3a"
             ],
             [
              0.8888888888888888,
              "#fdca26"
             ],
             [
              1,
              "#f0f921"
             ]
            ],
            "type": "surface"
           }
          ],
          "table": [
           {
            "cells": {
             "fill": {
              "color": "#EBF0F8"
             },
             "line": {
              "color": "white"
             }
            },
            "header": {
             "fill": {
              "color": "#C8D4E3"
             },
             "line": {
              "color": "white"
             }
            },
            "type": "table"
           }
          ]
         },
         "layout": {
          "annotationdefaults": {
           "arrowcolor": "#2a3f5f",
           "arrowhead": 0,
           "arrowwidth": 1
          },
          "autotypenumbers": "strict",
          "coloraxis": {
           "colorbar": {
            "outlinewidth": 0,
            "ticks": ""
           }
          },
          "colorscale": {
           "diverging": [
            [
             0,
             "#8e0152"
            ],
            [
             0.1,
             "#c51b7d"
            ],
            [
             0.2,
             "#de77ae"
            ],
            [
             0.3,
             "#f1b6da"
            ],
            [
             0.4,
             "#fde0ef"
            ],
            [
             0.5,
             "#f7f7f7"
            ],
            [
             0.6,
             "#e6f5d0"
            ],
            [
             0.7,
             "#b8e186"
            ],
            [
             0.8,
             "#7fbc41"
            ],
            [
             0.9,
             "#4d9221"
            ],
            [
             1,
             "#276419"
            ]
           ],
           "sequential": [
            [
             0,
             "#0d0887"
            ],
            [
             0.1111111111111111,
             "#46039f"
            ],
            [
             0.2222222222222222,
             "#7201a8"
            ],
            [
             0.3333333333333333,
             "#9c179e"
            ],
            [
             0.4444444444444444,
             "#bd3786"
            ],
            [
             0.5555555555555556,
             "#d8576b"
            ],
            [
             0.6666666666666666,
             "#ed7953"
            ],
            [
             0.7777777777777778,
             "#fb9f3a"
            ],
            [
             0.8888888888888888,
             "#fdca26"
            ],
            [
             1,
             "#f0f921"
            ]
           ],
           "sequentialminus": [
            [
             0,
             "#0d0887"
            ],
            [
             0.1111111111111111,
             "#46039f"
            ],
            [
             0.2222222222222222,
             "#7201a8"
            ],
            [
             0.3333333333333333,
             "#9c179e"
            ],
            [
             0.4444444444444444,
             "#bd3786"
            ],
            [
             0.5555555555555556,
             "#d8576b"
            ],
            [
             0.6666666666666666,
             "#ed7953"
            ],
            [
             0.7777777777777778,
             "#fb9f3a"
            ],
            [
             0.8888888888888888,
             "#fdca26"
            ],
            [
             1,
             "#f0f921"
            ]
           ]
          },
          "colorway": [
           "#636efa",
           "#EF553B",
           "#00cc96",
           "#ab63fa",
           "#FFA15A",
           "#19d3f3",
           "#FF6692",
           "#B6E880",
           "#FF97FF",
           "#FECB52"
          ],
          "font": {
           "color": "#2a3f5f"
          },
          "geo": {
           "bgcolor": "white",
           "lakecolor": "white",
           "landcolor": "#E5ECF6",
           "showlakes": true,
           "showland": true,
           "subunitcolor": "white"
          },
          "hoverlabel": {
           "align": "left"
          },
          "hovermode": "closest",
          "mapbox": {
           "style": "light"
          },
          "paper_bgcolor": "white",
          "plot_bgcolor": "#E5ECF6",
          "polar": {
           "angularaxis": {
            "gridcolor": "white",
            "linecolor": "white",
            "ticks": ""
           },
           "bgcolor": "#E5ECF6",
           "radialaxis": {
            "gridcolor": "white",
            "linecolor": "white",
            "ticks": ""
           }
          },
          "scene": {
           "xaxis": {
            "backgroundcolor": "#E5ECF6",
            "gridcolor": "white",
            "gridwidth": 2,
            "linecolor": "white",
            "showbackground": true,
            "ticks": "",
            "zerolinecolor": "white"
           },
           "yaxis": {
            "backgroundcolor": "#E5ECF6",
            "gridcolor": "white",
            "gridwidth": 2,
            "linecolor": "white",
            "showbackground": true,
            "ticks": "",
            "zerolinecolor": "white"
           },
           "zaxis": {
            "backgroundcolor": "#E5ECF6",
            "gridcolor": "white",
            "gridwidth": 2,
            "linecolor": "white",
            "showbackground": true,
            "ticks": "",
            "zerolinecolor": "white"
           }
          },
          "shapedefaults": {
           "line": {
            "color": "#2a3f5f"
           }
          },
          "ternary": {
           "aaxis": {
            "gridcolor": "white",
            "linecolor": "white",
            "ticks": ""
           },
           "baxis": {
            "gridcolor": "white",
            "linecolor": "white",
            "ticks": ""
           },
           "bgcolor": "#E5ECF6",
           "caxis": {
            "gridcolor": "white",
            "linecolor": "white",
            "ticks": ""
           }
          },
          "title": {
           "x": 0.05
          },
          "xaxis": {
           "automargin": true,
           "gridcolor": "white",
           "linecolor": "white",
           "ticks": "",
           "title": {
            "standoff": 15
           },
           "zerolinecolor": "white",
           "zerolinewidth": 2
          },
          "yaxis": {
           "automargin": true,
           "gridcolor": "white",
           "linecolor": "white",
           "ticks": "",
           "title": {
            "standoff": 15
           },
           "zerolinecolor": "white",
           "zerolinewidth": 2
          }
         }
        }
       }
      },
      "text/html": [
       "<div>                            <div id=\"a9f18177-3282-4e86-9436-67517e390ce5\" class=\"plotly-graph-div\" style=\"height:525px; width:100%;\"></div>            <script type=\"text/javascript\">                require([\"plotly\"], function(Plotly) {                    window.PLOTLYENV=window.PLOTLYENV || {};                                    if (document.getElementById(\"a9f18177-3282-4e86-9436-67517e390ce5\")) {                    Plotly.newPlot(                        \"a9f18177-3282-4e86-9436-67517e390ce5\",                        [{\"legendgroup\":\"1\",\"legendgrouptitle\":{\"text\":\"Batch 1\"},\"marker\":{\"color\":[\"blue\",\"blue\",\"blue\",\"blue\",\"blue\",\"blue\",\"blue\",\"blue\"],\"size\":8,\"symbol\":[\"circle\",\"circle\",\"circle\",\"circle\",\"circle\",\"circle\",\"circle\",\"circle\"]},\"mode\":\"markers\",\"name\":\"Ectosome\",\"x\":[15.305298316569248,25.321825419703906,12.632504603851105,13.934844390026706,20.26661652608366,29.528205428687013,16.724230982069432,28.102699276668243],\"y\":[-3.002025538816576,-3.3724665721841682,10.671193356709152,7.554976634643436,-9.619671624274428,-11.73963807962036,-7.12407362463816,-11.28938474469015],\"type\":\"scatter\"},{\"legendgroup\":\"1\",\"legendgrouptitle\":{\"text\":\"Batch 1\"},\"marker\":{\"color\":[\"blue\",\"blue\",\"blue\",\"blue\",\"blue\",\"blue\",\"blue\",\"blue\"],\"size\":8,\"symbol\":[\"square\",\"square\",\"square\",\"square\",\"square\",\"square\",\"square\",\"square\"]},\"mode\":\"markers\",\"name\":\"Choanosome\",\"x\":[-18.84730259763365,-14.930235328826523,-23.962144164968525,-22.645120022631925,-24.05433770388054,-13.166724511996087,-13.025401521464286,-13.199757204937228],\"y\":[3.2638189574908703,-0.40773721973063354,7.036389872446892,4.120407626192146,-9.456546453662437,-16.218979222453115,-16.430583160957145,-16.21734254225583],\"type\":\"scatter\"},{\"legendgroup\":\"2\",\"legendgrouptitle\":{\"text\":\"Batch 2\"},\"marker\":{\"color\":[\"red\",\"red\",\"red\",\"red\",\"red\",\"red\",\"red\",\"red\"],\"size\":8,\"symbol\":[\"circle\",\"circle\",\"circle\",\"circle\",\"circle\",\"circle\",\"circle\",\"circle\"]},\"mode\":\"markers\",\"name\":\"Ectosome\",\"x\":[16.575161394335623,15.14568330510822,18.670024677873016,18.265854930792162,14.759345278599165,11.75006733880676,2.644203995766628,11.858911103682438],\"y\":[5.546610393310592,6.722858208728953,3.3857896396113265,2.0757353702145513,5.643298550124897,9.100572288276405,15.62472743803941,9.425310652884246],\"type\":\"scatter\"},{\"legendgroup\":\"2\",\"legendgrouptitle\":{\"text\":\"Batch 2\"},\"marker\":{\"color\":[\"red\",\"red\",\"red\",\"red\",\"red\",\"red\",\"red\",\"red\"],\"size\":8,\"symbol\":[\"square\",\"square\",\"square\",\"square\",\"square\",\"square\",\"square\",\"square\"]},\"mode\":\"markers\",\"name\":\"Choanosome\",\"x\":[-17.689062099710657,-15.827760413507134,-15.310375698718742,-12.841769946553367,-13.799463720857101,-21.373762548309156,-20.397753709398128,-10.414505775230273],\"y\":[0.16939725003521264,-0.9429837360676899,7.689262366016144,-4.448658518173098,3.85476448126974,5.792368322370971,6.812868186199619,-4.220258557040771],\"type\":\"scatter\"}],                        {\"template\":{\"data\":{\"histogram2dcontour\":[{\"type\":\"histogram2dcontour\",\"colorbar\":{\"outlinewidth\":0,\"ticks\":\"\"},\"colorscale\":[[0.0,\"#0d0887\"],[0.1111111111111111,\"#46039f\"],[0.2222222222222222,\"#7201a8\"],[0.3333333333333333,\"#9c179e\"],[0.4444444444444444,\"#bd3786\"],[0.5555555555555556,\"#d8576b\"],[0.6666666666666666,\"#ed7953\"],[0.7777777777777778,\"#fb9f3a\"],[0.8888888888888888,\"#fdca26\"],[1.0,\"#f0f921\"]]}],\"choropleth\":[{\"type\":\"choropleth\",\"colorbar\":{\"outlinewidth\":0,\"ticks\":\"\"}}],\"histogram2d\":[{\"type\":\"histogram2d\",\"colorbar\":{\"outlinewidth\":0,\"ticks\":\"\"},\"colorscale\":[[0.0,\"#0d0887\"],[0.1111111111111111,\"#46039f\"],[0.2222222222222222,\"#7201a8\"],[0.3333333333333333,\"#9c179e\"],[0.4444444444444444,\"#bd3786\"],[0.5555555555555556,\"#d8576b\"],[0.6666666666666666,\"#ed7953\"],[0.7777777777777778,\"#fb9f3a\"],[0.8888888888888888,\"#fdca26\"],[1.0,\"#f0f921\"]]}],\"heatmap\":[{\"type\":\"heatmap\",\"colorbar\":{\"outlinewidth\":0,\"ticks\":\"\"},\"colorscale\":[[0.0,\"#0d0887\"],[0.1111111111111111,\"#46039f\"],[0.2222222222222222,\"#7201a8\"],[0.3333333333333333,\"#9c179e\"],[0.4444444444444444,\"#bd3786\"],[0.5555555555555556,\"#d8576b\"],[0.6666666666666666,\"#ed7953\"],[0.7777777777777778,\"#fb9f3a\"],[0.8888888888888888,\"#fdca26\"],[1.0,\"#f0f921\"]]}],\"heatmapgl\":[{\"type\":\"heatmapgl\",\"colorbar\":{\"outlinewidth\":0,\"ticks\":\"\"},\"colorscale\":[[0.0,\"#0d0887\"],[0.1111111111111111,\"#46039f\"],[0.2222222222222222,\"#7201a8\"],[0.3333333333333333,\"#9c179e\"],[0.4444444444444444,\"#bd3786\"],[0.5555555555555556,\"#d8576b\"],[0.6666666666666666,\"#ed7953\"],[0.7777777777777778,\"#fb9f3a\"],[0.8888888888888888,\"#fdca26\"],[1.0,\"#f0f921\"]]}],\"contourcarpet\":[{\"type\":\"contourcarpet\",\"colorbar\":{\"outlinewidth\":0,\"ticks\":\"\"}}],\"contour\":[{\"type\":\"contour\",\"colorbar\":{\"outlinewidth\":0,\"ticks\":\"\"},\"colorscale\":[[0.0,\"#0d0887\"],[0.1111111111111111,\"#46039f\"],[0.2222222222222222,\"#7201a8\"],[0.3333333333333333,\"#9c179e\"],[0.4444444444444444,\"#bd3786\"],[0.5555555555555556,\"#d8576b\"],[0.6666666666666666,\"#ed7953\"],[0.7777777777777778,\"#fb9f3a\"],[0.8888888888888888,\"#fdca26\"],[1.0,\"#f0f921\"]]}],\"surface\":[{\"type\":\"surface\",\"colorbar\":{\"outlinewidth\":0,\"ticks\":\"\"},\"colorscale\":[[0.0,\"#0d0887\"],[0.1111111111111111,\"#46039f\"],[0.2222222222222222,\"#7201a8\"],[0.3333333333333333,\"#9c179e\"],[0.4444444444444444,\"#bd3786\"],[0.5555555555555556,\"#d8576b\"],[0.6666666666666666,\"#ed7953\"],[0.7777777777777778,\"#fb9f3a\"],[0.8888888888888888,\"#fdca26\"],[1.0,\"#f0f921\"]]}],\"mesh3d\":[{\"type\":\"mesh3d\",\"colorbar\":{\"outlinewidth\":0,\"ticks\":\"\"}}],\"scatter\":[{\"fillpattern\":{\"fillmode\":\"overlay\",\"size\":10,\"solidity\":0.2},\"type\":\"scatter\"}],\"parcoords\":[{\"type\":\"parcoords\",\"line\":{\"colorbar\":{\"outlinewidth\":0,\"ticks\":\"\"}}}],\"scatterpolargl\":[{\"type\":\"scatterpolargl\",\"marker\":{\"colorbar\":{\"outlinewidth\":0,\"ticks\":\"\"}}}],\"bar\":[{\"error_x\":{\"color\":\"#2a3f5f\"},\"error_y\":{\"color\":\"#2a3f5f\"},\"marker\":{\"line\":{\"color\":\"#E5ECF6\",\"width\":0.5},\"pattern\":{\"fillmode\":\"overlay\",\"size\":10,\"solidity\":0.2}},\"type\":\"bar\"}],\"scattergeo\":[{\"type\":\"scattergeo\",\"marker\":{\"colorbar\":{\"outlinewidth\":0,\"ticks\":\"\"}}}],\"scatterpolar\":[{\"type\":\"scatterpolar\",\"marker\":{\"colorbar\":{\"outlinewidth\":0,\"ticks\":\"\"}}}],\"histogram\":[{\"marker\":{\"pattern\":{\"fillmode\":\"overlay\",\"size\":10,\"solidity\":0.2}},\"type\":\"histogram\"}],\"scattergl\":[{\"type\":\"scattergl\",\"marker\":{\"colorbar\":{\"outlinewidth\":0,\"ticks\":\"\"}}}],\"scatter3d\":[{\"type\":\"scatter3d\",\"line\":{\"colorbar\":{\"outlinewidth\":0,\"ticks\":\"\"}},\"marker\":{\"colorbar\":{\"outlinewidth\":0,\"ticks\":\"\"}}}],\"scattermapbox\":[{\"type\":\"scattermapbox\",\"marker\":{\"colorbar\":{\"outlinewidth\":0,\"ticks\":\"\"}}}],\"scatterternary\":[{\"type\":\"scatterternary\",\"marker\":{\"colorbar\":{\"outlinewidth\":0,\"ticks\":\"\"}}}],\"scattercarpet\":[{\"type\":\"scattercarpet\",\"marker\":{\"colorbar\":{\"outlinewidth\":0,\"ticks\":\"\"}}}],\"carpet\":[{\"aaxis\":{\"endlinecolor\":\"#2a3f5f\",\"gridcolor\":\"white\",\"linecolor\":\"white\",\"minorgridcolor\":\"white\",\"startlinecolor\":\"#2a3f5f\"},\"baxis\":{\"endlinecolor\":\"#2a3f5f\",\"gridcolor\":\"white\",\"linecolor\":\"white\",\"minorgridcolor\":\"white\",\"startlinecolor\":\"#2a3f5f\"},\"type\":\"carpet\"}],\"table\":[{\"cells\":{\"fill\":{\"color\":\"#EBF0F8\"},\"line\":{\"color\":\"white\"}},\"header\":{\"fill\":{\"color\":\"#C8D4E3\"},\"line\":{\"color\":\"white\"}},\"type\":\"table\"}],\"barpolar\":[{\"marker\":{\"line\":{\"color\":\"#E5ECF6\",\"width\":0.5},\"pattern\":{\"fillmode\":\"overlay\",\"size\":10,\"solidity\":0.2}},\"type\":\"barpolar\"}],\"pie\":[{\"automargin\":true,\"type\":\"pie\"}]},\"layout\":{\"autotypenumbers\":\"strict\",\"colorway\":[\"#636efa\",\"#EF553B\",\"#00cc96\",\"#ab63fa\",\"#FFA15A\",\"#19d3f3\",\"#FF6692\",\"#B6E880\",\"#FF97FF\",\"#FECB52\"],\"font\":{\"color\":\"#2a3f5f\"},\"hovermode\":\"closest\",\"hoverlabel\":{\"align\":\"left\"},\"paper_bgcolor\":\"white\",\"plot_bgcolor\":\"#E5ECF6\",\"polar\":{\"bgcolor\":\"#E5ECF6\",\"angularaxis\":{\"gridcolor\":\"white\",\"linecolor\":\"white\",\"ticks\":\"\"},\"radialaxis\":{\"gridcolor\":\"white\",\"linecolor\":\"white\",\"ticks\":\"\"}},\"ternary\":{\"bgcolor\":\"#E5ECF6\",\"aaxis\":{\"gridcolor\":\"white\",\"linecolor\":\"white\",\"ticks\":\"\"},\"baxis\":{\"gridcolor\":\"white\",\"linecolor\":\"white\",\"ticks\":\"\"},\"caxis\":{\"gridcolor\":\"white\",\"linecolor\":\"white\",\"ticks\":\"\"}},\"coloraxis\":{\"colorbar\":{\"outlinewidth\":0,\"ticks\":\"\"}},\"colorscale\":{\"sequential\":[[0.0,\"#0d0887\"],[0.1111111111111111,\"#46039f\"],[0.2222222222222222,\"#7201a8\"],[0.3333333333333333,\"#9c179e\"],[0.4444444444444444,\"#bd3786\"],[0.5555555555555556,\"#d8576b\"],[0.6666666666666666,\"#ed7953\"],[0.7777777777777778,\"#fb9f3a\"],[0.8888888888888888,\"#fdca26\"],[1.0,\"#f0f921\"]],\"sequentialminus\":[[0.0,\"#0d0887\"],[0.1111111111111111,\"#46039f\"],[0.2222222222222222,\"#7201a8\"],[0.3333333333333333,\"#9c179e\"],[0.4444444444444444,\"#bd3786\"],[0.5555555555555556,\"#d8576b\"],[0.6666666666666666,\"#ed7953\"],[0.7777777777777778,\"#fb9f3a\"],[0.8888888888888888,\"#fdca26\"],[1.0,\"#f0f921\"]],\"diverging\":[[0,\"#8e0152\"],[0.1,\"#c51b7d\"],[0.2,\"#de77ae\"],[0.3,\"#f1b6da\"],[0.4,\"#fde0ef\"],[0.5,\"#f7f7f7\"],[0.6,\"#e6f5d0\"],[0.7,\"#b8e186\"],[0.8,\"#7fbc41\"],[0.9,\"#4d9221\"],[1,\"#276419\"]]},\"xaxis\":{\"gridcolor\":\"white\",\"linecolor\":\"white\",\"ticks\":\"\",\"title\":{\"standoff\":15},\"zerolinecolor\":\"white\",\"automargin\":true,\"zerolinewidth\":2},\"yaxis\":{\"gridcolor\":\"white\",\"linecolor\":\"white\",\"ticks\":\"\",\"title\":{\"standoff\":15},\"zerolinecolor\":\"white\",\"automargin\":true,\"zerolinewidth\":2},\"scene\":{\"xaxis\":{\"backgroundcolor\":\"#E5ECF6\",\"gridcolor\":\"white\",\"linecolor\":\"white\",\"showbackground\":true,\"ticks\":\"\",\"zerolinecolor\":\"white\",\"gridwidth\":2},\"yaxis\":{\"backgroundcolor\":\"#E5ECF6\",\"gridcolor\":\"white\",\"linecolor\":\"white\",\"showbackground\":true,\"ticks\":\"\",\"zerolinecolor\":\"white\",\"gridwidth\":2},\"zaxis\":{\"backgroundcolor\":\"#E5ECF6\",\"gridcolor\":\"white\",\"linecolor\":\"white\",\"showbackground\":true,\"ticks\":\"\",\"zerolinecolor\":\"white\",\"gridwidth\":2}},\"shapedefaults\":{\"line\":{\"color\":\"#2a3f5f\"}},\"annotationdefaults\":{\"arrowcolor\":\"#2a3f5f\",\"arrowhead\":0,\"arrowwidth\":1},\"geo\":{\"bgcolor\":\"white\",\"landcolor\":\"#E5ECF6\",\"subunitcolor\":\"white\",\"showland\":true,\"showlakes\":true,\"lakecolor\":\"white\"},\"title\":{\"x\":0.05},\"mapbox\":{\"style\":\"light\"}}}},                        {\"responsive\": true}                    ).then(function(){\n",
       "                            \n",
       "var gd = document.getElementById('a9f18177-3282-4e86-9436-67517e390ce5');\n",
       "var x = new MutationObserver(function (mutations, observer) {{\n",
       "        var display = window.getComputedStyle(gd).display;\n",
       "        if (!display || display === 'none') {{\n",
       "            console.log([gd, 'removed!']);\n",
       "            Plotly.purge(gd);\n",
       "            observer.disconnect();\n",
       "        }}\n",
       "}});\n",
       "\n",
       "// Listen for the removal of the full notebook cells\n",
       "var notebookContainer = gd.closest('#notebook-container');\n",
       "if (notebookContainer) {{\n",
       "    x.observe(notebookContainer, {childList: true});\n",
       "}}\n",
       "\n",
       "// Listen for the clearing of the current output cell\n",
       "var outputEl = gd.closest('.output');\n",
       "if (outputEl) {{\n",
       "    x.observe(outputEl, {childList: true});\n",
       "}}\n",
       "\n",
       "                        })                };                });            </script>        </div>"
      ]
     },
     "metadata": {},
     "output_type": "display_data"
    }
   ],
   "source": [
    "plotPCA(corrected_pd)"
   ]
  }
 ],
 "metadata": {
  "kernelspec": {
   "display_name": "BECA",
   "language": "python",
   "name": "python3"
  },
  "language_info": {
   "codemirror_mode": {
    "name": "ipython",
    "version": 3
   },
   "file_extension": ".py",
   "mimetype": "text/x-python",
   "name": "python",
   "nbconvert_exporter": "python",
   "pygments_lexer": "ipython3",
   "version": "3.12.8"
  }
 },
 "nbformat": 4,
 "nbformat_minor": 2
}
