{
 "cells": [
  {
   "cell_type": "markdown",
   "metadata": {},
   "source": [
    "## Libraries"
   ]
  },
  {
   "cell_type": "code",
   "execution_count": 1,
   "metadata": {},
   "outputs": [
    {
     "name": "stdout",
     "output_type": "stream",
     "text": [
      ">> clustergrammer2 backend version 0.18.0\n"
     ]
    }
   ],
   "source": [
    "# Essentials\n",
    "import torch\n",
    "import torch.nn as nn\n",
    "import torch.distributions as td\n",
    "import torch.utils.data\n",
    "from torch.nn import functional as F\n",
    "from tqdm import tqdm\n",
    "from torch.utils.data import DataLoader, Subset, ConcatDataset, TensorDataset\n",
    "from torchvision import datasets, transforms\n",
    "import matplotlib.pyplot as plt\n",
    "import numpy as np\n",
    "import pandas as pd\n",
    "import os\n",
    "from umap import UMAP\n",
    "\n",
    "# User libraries\n",
    "from BatchEffectDataLoader import DataPreprocess, DataTransform, ABaCoDataLoader, one_hot_encoding, class_to_int\n",
    "from BatchEffectCorrection import correctCombat\n",
    "from BatchEffectPlots import plotPCA, plotPCoA\n",
    "from BatchEffectMetrics import kBET, iLISI, cLISI, ARI, ASW\n",
    "from MetaABaCo import (\n",
    "    NormalPrior,\n",
    "    NormalEncoder,\n",
    "    MoGPrior,\n",
    "    MoGEncoder,\n",
    "    ZINBDecoder,\n",
    "    VAE,\n",
    "    train,\n",
    "    MixtureOfGaussians,\n",
    "    BatchDiscriminator,\n",
    "    BiologicalConservationClassifier,\n",
    "    train_abaco,\n",
    "    contour_plot,\n",
    "    GeneAttention,\n",
    "    AttentionMoGEncoder,\n",
    "    AttentionZINBDecoder,\n",
    "    VampPriorVAE,\n",
    "    VampPriorMixtureVAE,\n",
    ")"
   ]
  },
  {
   "cell_type": "markdown",
   "metadata": {},
   "source": [
    "## Dataloading"
   ]
  },
  {
   "cell_type": "code",
   "execution_count": 4,
   "metadata": {},
   "outputs": [
    {
     "data": {
      "application/vnd.plotly.v1+json": {
       "config": {
        "plotlyServerURL": "https://plot.ly"
       },
       "data": [
        {
         "legendgroup": "09/04/2015",
         "legendgrouptitle": {
          "text": "Batch 09/04/2015"
         },
         "marker": {
          "color": [
           "blue",
           "blue",
           "blue",
           "blue"
          ],
          "size": 8,
          "symbol": [
           "circle",
           "circle",
           "circle",
           "circle"
          ]
         },
         "mode": "markers",
         "name": "0-0.5",
         "type": "scatter",
         "x": [
          -61.82662152302376,
          -43.410144457052986,
          -40.41481540617806,
          -56.06190447782112
         ],
         "y": [
          36.997212560875525,
          26.904503282526537,
          20.22277072376025,
          -24.876060419103162
         ]
        },
        {
         "legendgroup": "09/04/2015",
         "legendgrouptitle": {
          "text": "Batch 09/04/2015"
         },
         "marker": {
          "color": [
           "blue",
           "blue",
           "blue",
           "blue",
           "blue"
          ],
          "size": 8,
          "symbol": [
           "square",
           "square",
           "square",
           "square",
           "square"
          ]
         },
         "mode": "markers",
         "name": "1-2",
         "type": "scatter",
         "x": [
          -17.948617000991007,
          -11.964745777049185,
          -36.17038986672064,
          21.278096919055944,
          4.255432578645081
         ],
         "y": [
          12.343777940897311,
          -0.38791872842235847,
          -33.59676468532332,
          7.987452360478753,
          41.82604099848572
         ]
        },
        {
         "legendgroup": "14/04/2016",
         "legendgrouptitle": {
          "text": "Batch 14/04/2016"
         },
         "marker": {
          "color": [
           "red",
           "red",
           "red",
           "red"
          ],
          "size": 8,
          "symbol": [
           "circle",
           "circle",
           "circle",
           "circle"
          ]
         },
         "mode": "markers",
         "name": "0-0.5",
         "type": "scatter",
         "x": [
          36.246306468384745,
          42.16272825528718,
          52.928278480524554,
          34.37808896584739
         ],
         "y": [
          76.45069875041914,
          50.716928373722396,
          84.02705357682642,
          42.847798672423224
         ]
        },
        {
         "legendgroup": "14/04/2016",
         "legendgrouptitle": {
          "text": "Batch 14/04/2016"
         },
         "marker": {
          "color": [
           "red",
           "red",
           "red",
           "red",
           "red",
           "red",
           "red",
           "red",
           "red",
           "red",
           "red",
           "red"
          ],
          "size": 8,
          "symbol": [
           "square",
           "square",
           "square",
           "square",
           "square",
           "square",
           "square",
           "square",
           "square",
           "square",
           "square",
           "square"
          ]
         },
         "mode": "markers",
         "name": "1-2",
         "type": "scatter",
         "x": [
          46.615504397208305,
          54.00057367238908,
          60.03224934665163,
          53.76604201048642,
          86.58370656017365,
          102.1174637463511,
          64.10597311991897,
          98.61531086121327,
          117.63421995346962,
          83.36465726150487,
          100.85678852203986,
          71.73712259645974
         ],
         "y": [
          81.1439917512585,
          55.64675523786302,
          47.199464699102165,
          40.12923207648211,
          50.68613679647075,
          33.90043992251767,
          66.43367742401612,
          30.186817502355588,
          34.09255914930464,
          73.79121601267504,
          26.56721963528582,
          5.350788596929222
         ]
        },
        {
         "legendgroup": "01/07/2016",
         "legendgrouptitle": {
          "text": "Batch 01/07/2016"
         },
         "marker": {
          "color": [
           "green",
           "green",
           "green",
           "green",
           "green",
           "green",
           "green",
           "green"
          ],
          "size": 8,
          "symbol": [
           "circle",
           "circle",
           "circle",
           "circle",
           "circle",
           "circle",
           "circle",
           "circle"
          ]
         },
         "mode": "markers",
         "name": "0-0.5",
         "type": "scatter",
         "x": [
          -85.6260090606008,
          -80.08793130752677,
          -83.10424721707122,
          -94.67919759893104,
          -70.78309275559434,
          -97.35220666265502,
          -106.82702318581892,
          -94.28638089673738
         ],
         "y": [
          42.793842907184334,
          36.44662487326788,
          25.38945398159661,
          -15.120242885305855,
          38.17817828087415,
          18.60993290279534,
          -26.52015738039142,
          -20.31374708558659
         ]
        },
        {
         "legendgroup": "01/07/2016",
         "legendgrouptitle": {
          "text": "Batch 01/07/2016"
         },
         "marker": {
          "color": [
           "green",
           "green",
           "green",
           "green",
           "green",
           "green",
           "green",
           "green",
           "green",
           "green",
           "green",
           "green",
           "green"
          ],
          "size": 8,
          "symbol": [
           "square",
           "square",
           "square",
           "square",
           "square",
           "square",
           "square",
           "square",
           "square",
           "square",
           "square",
           "square",
           "square"
          ]
         },
         "mode": "markers",
         "name": "1-2",
         "type": "scatter",
         "x": [
          -22.057492449888045,
          -47.12861475911586,
          28.928736730168293,
          33.18533088941081,
          -44.86868588255787,
          37.394868836537704,
          25.588671752314347,
          -9.695149292496492,
          -21.90167234422606,
          -4.008900161334277,
          32.254782750108696,
          -15.466635300367324,
          3.710196298136456
         ],
         "y": [
          58.35869314290577,
          37.19142988537407,
          36.075346155759604,
          -6.056349717920137,
          47.80975927149926,
          38.33637018417818,
          -7.515174770608219,
          -28.541869131929914,
          41.0881596134755,
          14.624080153727823,
          -15.41756288572761,
          47.659881491505885,
          19.601972411899865
         ]
        },
        {
         "legendgroup": "14/11/2016",
         "legendgrouptitle": {
          "text": "Batch 14/11/2016"
         },
         "marker": {
          "color": [
           "orange",
           "orange",
           "orange",
           "orange",
           "orange",
           "orange",
           "orange",
           "orange"
          ],
          "size": 8,
          "symbol": [
           "circle",
           "circle",
           "circle",
           "circle",
           "circle",
           "circle",
           "circle",
           "circle"
          ]
         },
         "mode": "markers",
         "name": "0-0.5",
         "type": "scatter",
         "x": [
          -41.44232235335287,
          -63.299695747031926,
          -92.29167227579886,
          -49.405356414358224,
          -72.29944506048909,
          -64.89310647077475,
          -58.75446085770315,
          -66.35768704979257
         ],
         "y": [
          38.26646683294906,
          17.65877294476996,
          -33.282535297953295,
          48.131885012426146,
          -41.48807531207327,
          16.781974775295975,
          -21.88622063388205,
          -38.92138518412357
         ]
        },
        {
         "legendgroup": "14/11/2016",
         "legendgrouptitle": {
          "text": "Batch 14/11/2016"
         },
         "marker": {
          "color": [
           "orange",
           "orange",
           "orange",
           "orange",
           "orange",
           "orange",
           "orange",
           "orange",
           "orange"
          ],
          "size": 8,
          "symbol": [
           "square",
           "square",
           "square",
           "square",
           "square",
           "square",
           "square",
           "square",
           "square"
          ]
         },
         "mode": "markers",
         "name": "1-2",
         "type": "scatter",
         "x": [
          -34.144113247260655,
          -33.70742175849542,
          -43.167576078501206,
          -24.09076149418035,
          -26.74284462381983,
          -42.71640543684715,
          -37.89117722377073,
          38.783192692013294,
          33.409724942652666
         ],
         "y": [
          -17.71673615475143,
          -17.67583846704736,
          -74.9601617505118,
          1.5881000532358827,
          12.06594889333344,
          -39.68969294989044,
          -38.69422273719212,
          -13.34336828530162,
          -16.462743553820573
         ]
        },
        {
         "legendgroup": "21/09/2017",
         "legendgrouptitle": {
          "text": "Batch 21/09/2017"
         },
         "marker": {
          "color": [
           "purple",
           "purple"
          ],
          "size": 8,
          "symbol": [
           "circle",
           "circle"
          ]
         },
         "mode": "markers",
         "name": "0-0.5",
         "type": "scatter",
         "x": [
          -22.695595162242828,
          12.771156846074081
         ],
         "y": [
          -66.99208441905385,
          -86.28726269150883
         ]
        },
        {
         "legendgroup": "21/09/2017",
         "legendgrouptitle": {
          "text": "Batch 21/09/2017"
         },
         "marker": {
          "color": [
           "purple",
           "purple",
           "purple",
           "purple",
           "purple",
           "purple",
           "purple",
           "purple",
           "purple",
           "purple"
          ],
          "size": 8,
          "symbol": [
           "square",
           "square",
           "square",
           "square",
           "square",
           "square",
           "square",
           "square",
           "square",
           "square"
          ]
         },
         "mode": "markers",
         "name": "1-2",
         "type": "scatter",
         "x": [
          5.568412676769873,
          27.58971147068156,
          23.223593195305835,
          -18.61742220249778,
          68.12651430334417,
          95.40877928964828,
          87.67097028871346,
          60.93206998780631,
          88.44613787777838,
          104.51614629759953
         ],
         "y": [
          -76.95814002073138,
          -100.62063559409522,
          -98.89525271402115,
          -90.22027788223258,
          -80.77204988324644,
          -83.8215232981818,
          -99.32823080769819,
          -114.78780965693849,
          -63.995992614580274,
          -86.96332221357602
         ]
        }
       ],
       "layout": {
        "template": {
         "data": {
          "bar": [
           {
            "error_x": {
             "color": "#2a3f5f"
            },
            "error_y": {
             "color": "#2a3f5f"
            },
            "marker": {
             "line": {
              "color": "#E5ECF6",
              "width": 0.5
             },
             "pattern": {
              "fillmode": "overlay",
              "size": 10,
              "solidity": 0.2
             }
            },
            "type": "bar"
           }
          ],
          "barpolar": [
           {
            "marker": {
             "line": {
              "color": "#E5ECF6",
              "width": 0.5
             },
             "pattern": {
              "fillmode": "overlay",
              "size": 10,
              "solidity": 0.2
             }
            },
            "type": "barpolar"
           }
          ],
          "carpet": [
           {
            "aaxis": {
             "endlinecolor": "#2a3f5f",
             "gridcolor": "white",
             "linecolor": "white",
             "minorgridcolor": "white",
             "startlinecolor": "#2a3f5f"
            },
            "baxis": {
             "endlinecolor": "#2a3f5f",
             "gridcolor": "white",
             "linecolor": "white",
             "minorgridcolor": "white",
             "startlinecolor": "#2a3f5f"
            },
            "type": "carpet"
           }
          ],
          "choropleth": [
           {
            "colorbar": {
             "outlinewidth": 0,
             "ticks": ""
            },
            "type": "choropleth"
           }
          ],
          "contour": [
           {
            "colorbar": {
             "outlinewidth": 0,
             "ticks": ""
            },
            "colorscale": [
             [
              0,
              "#0d0887"
             ],
             [
              0.1111111111111111,
              "#46039f"
             ],
             [
              0.2222222222222222,
              "#7201a8"
             ],
             [
              0.3333333333333333,
              "#9c179e"
             ],
             [
              0.4444444444444444,
              "#bd3786"
             ],
             [
              0.5555555555555556,
              "#d8576b"
             ],
             [
              0.6666666666666666,
              "#ed7953"
             ],
             [
              0.7777777777777778,
              "#fb9f3a"
             ],
             [
              0.8888888888888888,
              "#fdca26"
             ],
             [
              1,
              "#f0f921"
             ]
            ],
            "type": "contour"
           }
          ],
          "contourcarpet": [
           {
            "colorbar": {
             "outlinewidth": 0,
             "ticks": ""
            },
            "type": "contourcarpet"
           }
          ],
          "heatmap": [
           {
            "colorbar": {
             "outlinewidth": 0,
             "ticks": ""
            },
            "colorscale": [
             [
              0,
              "#0d0887"
             ],
             [
              0.1111111111111111,
              "#46039f"
             ],
             [
              0.2222222222222222,
              "#7201a8"
             ],
             [
              0.3333333333333333,
              "#9c179e"
             ],
             [
              0.4444444444444444,
              "#bd3786"
             ],
             [
              0.5555555555555556,
              "#d8576b"
             ],
             [
              0.6666666666666666,
              "#ed7953"
             ],
             [
              0.7777777777777778,
              "#fb9f3a"
             ],
             [
              0.8888888888888888,
              "#fdca26"
             ],
             [
              1,
              "#f0f921"
             ]
            ],
            "type": "heatmap"
           }
          ],
          "heatmapgl": [
           {
            "colorbar": {
             "outlinewidth": 0,
             "ticks": ""
            },
            "colorscale": [
             [
              0,
              "#0d0887"
             ],
             [
              0.1111111111111111,
              "#46039f"
             ],
             [
              0.2222222222222222,
              "#7201a8"
             ],
             [
              0.3333333333333333,
              "#9c179e"
             ],
             [
              0.4444444444444444,
              "#bd3786"
             ],
             [
              0.5555555555555556,
              "#d8576b"
             ],
             [
              0.6666666666666666,
              "#ed7953"
             ],
             [
              0.7777777777777778,
              "#fb9f3a"
             ],
             [
              0.8888888888888888,
              "#fdca26"
             ],
             [
              1,
              "#f0f921"
             ]
            ],
            "type": "heatmapgl"
           }
          ],
          "histogram": [
           {
            "marker": {
             "pattern": {
              "fillmode": "overlay",
              "size": 10,
              "solidity": 0.2
             }
            },
            "type": "histogram"
           }
          ],
          "histogram2d": [
           {
            "colorbar": {
             "outlinewidth": 0,
             "ticks": ""
            },
            "colorscale": [
             [
              0,
              "#0d0887"
             ],
             [
              0.1111111111111111,
              "#46039f"
             ],
             [
              0.2222222222222222,
              "#7201a8"
             ],
             [
              0.3333333333333333,
              "#9c179e"
             ],
             [
              0.4444444444444444,
              "#bd3786"
             ],
             [
              0.5555555555555556,
              "#d8576b"
             ],
             [
              0.6666666666666666,
              "#ed7953"
             ],
             [
              0.7777777777777778,
              "#fb9f3a"
             ],
             [
              0.8888888888888888,
              "#fdca26"
             ],
             [
              1,
              "#f0f921"
             ]
            ],
            "type": "histogram2d"
           }
          ],
          "histogram2dcontour": [
           {
            "colorbar": {
             "outlinewidth": 0,
             "ticks": ""
            },
            "colorscale": [
             [
              0,
              "#0d0887"
             ],
             [
              0.1111111111111111,
              "#46039f"
             ],
             [
              0.2222222222222222,
              "#7201a8"
             ],
             [
              0.3333333333333333,
              "#9c179e"
             ],
             [
              0.4444444444444444,
              "#bd3786"
             ],
             [
              0.5555555555555556,
              "#d8576b"
             ],
             [
              0.6666666666666666,
              "#ed7953"
             ],
             [
              0.7777777777777778,
              "#fb9f3a"
             ],
             [
              0.8888888888888888,
              "#fdca26"
             ],
             [
              1,
              "#f0f921"
             ]
            ],
            "type": "histogram2dcontour"
           }
          ],
          "mesh3d": [
           {
            "colorbar": {
             "outlinewidth": 0,
             "ticks": ""
            },
            "type": "mesh3d"
           }
          ],
          "parcoords": [
           {
            "line": {
             "colorbar": {
              "outlinewidth": 0,
              "ticks": ""
             }
            },
            "type": "parcoords"
           }
          ],
          "pie": [
           {
            "automargin": true,
            "type": "pie"
           }
          ],
          "scatter": [
           {
            "fillpattern": {
             "fillmode": "overlay",
             "size": 10,
             "solidity": 0.2
            },
            "type": "scatter"
           }
          ],
          "scatter3d": [
           {
            "line": {
             "colorbar": {
              "outlinewidth": 0,
              "ticks": ""
             }
            },
            "marker": {
             "colorbar": {
              "outlinewidth": 0,
              "ticks": ""
             }
            },
            "type": "scatter3d"
           }
          ],
          "scattercarpet": [
           {
            "marker": {
             "colorbar": {
              "outlinewidth": 0,
              "ticks": ""
             }
            },
            "type": "scattercarpet"
           }
          ],
          "scattergeo": [
           {
            "marker": {
             "colorbar": {
              "outlinewidth": 0,
              "ticks": ""
             }
            },
            "type": "scattergeo"
           }
          ],
          "scattergl": [
           {
            "marker": {
             "colorbar": {
              "outlinewidth": 0,
              "ticks": ""
             }
            },
            "type": "scattergl"
           }
          ],
          "scattermapbox": [
           {
            "marker": {
             "colorbar": {
              "outlinewidth": 0,
              "ticks": ""
             }
            },
            "type": "scattermapbox"
           }
          ],
          "scatterpolar": [
           {
            "marker": {
             "colorbar": {
              "outlinewidth": 0,
              "ticks": ""
             }
            },
            "type": "scatterpolar"
           }
          ],
          "scatterpolargl": [
           {
            "marker": {
             "colorbar": {
              "outlinewidth": 0,
              "ticks": ""
             }
            },
            "type": "scatterpolargl"
           }
          ],
          "scatterternary": [
           {
            "marker": {
             "colorbar": {
              "outlinewidth": 0,
              "ticks": ""
             }
            },
            "type": "scatterternary"
           }
          ],
          "surface": [
           {
            "colorbar": {
             "outlinewidth": 0,
             "ticks": ""
            },
            "colorscale": [
             [
              0,
              "#0d0887"
             ],
             [
              0.1111111111111111,
              "#46039f"
             ],
             [
              0.2222222222222222,
              "#7201a8"
             ],
             [
              0.3333333333333333,
              "#9c179e"
             ],
             [
              0.4444444444444444,
              "#bd3786"
             ],
             [
              0.5555555555555556,
              "#d8576b"
             ],
             [
              0.6666666666666666,
              "#ed7953"
             ],
             [
              0.7777777777777778,
              "#fb9f3a"
             ],
             [
              0.8888888888888888,
              "#fdca26"
             ],
             [
              1,
              "#f0f921"
             ]
            ],
            "type": "surface"
           }
          ],
          "table": [
           {
            "cells": {
             "fill": {
              "color": "#EBF0F8"
             },
             "line": {
              "color": "white"
             }
            },
            "header": {
             "fill": {
              "color": "#C8D4E3"
             },
             "line": {
              "color": "white"
             }
            },
            "type": "table"
           }
          ]
         },
         "layout": {
          "annotationdefaults": {
           "arrowcolor": "#2a3f5f",
           "arrowhead": 0,
           "arrowwidth": 1
          },
          "autotypenumbers": "strict",
          "coloraxis": {
           "colorbar": {
            "outlinewidth": 0,
            "ticks": ""
           }
          },
          "colorscale": {
           "diverging": [
            [
             0,
             "#8e0152"
            ],
            [
             0.1,
             "#c51b7d"
            ],
            [
             0.2,
             "#de77ae"
            ],
            [
             0.3,
             "#f1b6da"
            ],
            [
             0.4,
             "#fde0ef"
            ],
            [
             0.5,
             "#f7f7f7"
            ],
            [
             0.6,
             "#e6f5d0"
            ],
            [
             0.7,
             "#b8e186"
            ],
            [
             0.8,
             "#7fbc41"
            ],
            [
             0.9,
             "#4d9221"
            ],
            [
             1,
             "#276419"
            ]
           ],
           "sequential": [
            [
             0,
             "#0d0887"
            ],
            [
             0.1111111111111111,
             "#46039f"
            ],
            [
             0.2222222222222222,
             "#7201a8"
            ],
            [
             0.3333333333333333,
             "#9c179e"
            ],
            [
             0.4444444444444444,
             "#bd3786"
            ],
            [
             0.5555555555555556,
             "#d8576b"
            ],
            [
             0.6666666666666666,
             "#ed7953"
            ],
            [
             0.7777777777777778,
             "#fb9f3a"
            ],
            [
             0.8888888888888888,
             "#fdca26"
            ],
            [
             1,
             "#f0f921"
            ]
           ],
           "sequentialminus": [
            [
             0,
             "#0d0887"
            ],
            [
             0.1111111111111111,
             "#46039f"
            ],
            [
             0.2222222222222222,
             "#7201a8"
            ],
            [
             0.3333333333333333,
             "#9c179e"
            ],
            [
             0.4444444444444444,
             "#bd3786"
            ],
            [
             0.5555555555555556,
             "#d8576b"
            ],
            [
             0.6666666666666666,
             "#ed7953"
            ],
            [
             0.7777777777777778,
             "#fb9f3a"
            ],
            [
             0.8888888888888888,
             "#fdca26"
            ],
            [
             1,
             "#f0f921"
            ]
           ]
          },
          "colorway": [
           "#636efa",
           "#EF553B",
           "#00cc96",
           "#ab63fa",
           "#FFA15A",
           "#19d3f3",
           "#FF6692",
           "#B6E880",
           "#FF97FF",
           "#FECB52"
          ],
          "font": {
           "color": "#2a3f5f"
          },
          "geo": {
           "bgcolor": "white",
           "lakecolor": "white",
           "landcolor": "#E5ECF6",
           "showlakes": true,
           "showland": true,
           "subunitcolor": "white"
          },
          "hoverlabel": {
           "align": "left"
          },
          "hovermode": "closest",
          "mapbox": {
           "style": "light"
          },
          "paper_bgcolor": "white",
          "plot_bgcolor": "#E5ECF6",
          "polar": {
           "angularaxis": {
            "gridcolor": "white",
            "linecolor": "white",
            "ticks": ""
           },
           "bgcolor": "#E5ECF6",
           "radialaxis": {
            "gridcolor": "white",
            "linecolor": "white",
            "ticks": ""
           }
          },
          "scene": {
           "xaxis": {
            "backgroundcolor": "#E5ECF6",
            "gridcolor": "white",
            "gridwidth": 2,
            "linecolor": "white",
            "showbackground": true,
            "ticks": "",
            "zerolinecolor": "white"
           },
           "yaxis": {
            "backgroundcolor": "#E5ECF6",
            "gridcolor": "white",
            "gridwidth": 2,
            "linecolor": "white",
            "showbackground": true,
            "ticks": "",
            "zerolinecolor": "white"
           },
           "zaxis": {
            "backgroundcolor": "#E5ECF6",
            "gridcolor": "white",
            "gridwidth": 2,
            "linecolor": "white",
            "showbackground": true,
            "ticks": "",
            "zerolinecolor": "white"
           }
          },
          "shapedefaults": {
           "line": {
            "color": "#2a3f5f"
           }
          },
          "ternary": {
           "aaxis": {
            "gridcolor": "white",
            "linecolor": "white",
            "ticks": ""
           },
           "baxis": {
            "gridcolor": "white",
            "linecolor": "white",
            "ticks": ""
           },
           "bgcolor": "#E5ECF6",
           "caxis": {
            "gridcolor": "white",
            "linecolor": "white",
            "ticks": ""
           }
          },
          "title": {
           "x": 0.05
          },
          "xaxis": {
           "automargin": true,
           "gridcolor": "white",
           "linecolor": "white",
           "ticks": "",
           "title": {
            "standoff": 15
           },
           "zerolinecolor": "white",
           "zerolinewidth": 2
          },
          "yaxis": {
           "automargin": true,
           "gridcolor": "white",
           "linecolor": "white",
           "ticks": "",
           "title": {
            "standoff": 15
           },
           "zerolinecolor": "white",
           "zerolinewidth": 2
          }
         }
        }
       }
      },
      "text/html": [
       "<div>                            <div id=\"9b152e72-2377-4d72-9557-5b272d3f7e7f\" class=\"plotly-graph-div\" style=\"height:525px; width:100%;\"></div>            <script type=\"text/javascript\">                require([\"plotly\"], function(Plotly) {                    window.PLOTLYENV=window.PLOTLYENV || {};                                    if (document.getElementById(\"9b152e72-2377-4d72-9557-5b272d3f7e7f\")) {                    Plotly.newPlot(                        \"9b152e72-2377-4d72-9557-5b272d3f7e7f\",                        [{\"legendgroup\":\"09\\u002f04\\u002f2015\",\"legendgrouptitle\":{\"text\":\"Batch 09\\u002f04\\u002f2015\"},\"marker\":{\"color\":[\"blue\",\"blue\",\"blue\",\"blue\"],\"size\":8,\"symbol\":[\"circle\",\"circle\",\"circle\",\"circle\"]},\"mode\":\"markers\",\"name\":\"0-0.5\",\"x\":[-61.82662152302376,-43.410144457052986,-40.41481540617806,-56.06190447782112],\"y\":[36.997212560875525,26.904503282526537,20.22277072376025,-24.876060419103162],\"type\":\"scatter\"},{\"legendgroup\":\"09\\u002f04\\u002f2015\",\"legendgrouptitle\":{\"text\":\"Batch 09\\u002f04\\u002f2015\"},\"marker\":{\"color\":[\"blue\",\"blue\",\"blue\",\"blue\",\"blue\"],\"size\":8,\"symbol\":[\"square\",\"square\",\"square\",\"square\",\"square\"]},\"mode\":\"markers\",\"name\":\"1-2\",\"x\":[-17.948617000991007,-11.964745777049185,-36.17038986672064,21.278096919055944,4.255432578645081],\"y\":[12.343777940897311,-0.38791872842235847,-33.59676468532332,7.987452360478753,41.82604099848572],\"type\":\"scatter\"},{\"legendgroup\":\"14\\u002f04\\u002f2016\",\"legendgrouptitle\":{\"text\":\"Batch 14\\u002f04\\u002f2016\"},\"marker\":{\"color\":[\"red\",\"red\",\"red\",\"red\"],\"size\":8,\"symbol\":[\"circle\",\"circle\",\"circle\",\"circle\"]},\"mode\":\"markers\",\"name\":\"0-0.5\",\"x\":[36.246306468384745,42.16272825528718,52.928278480524554,34.37808896584739],\"y\":[76.45069875041914,50.716928373722396,84.02705357682642,42.847798672423224],\"type\":\"scatter\"},{\"legendgroup\":\"14\\u002f04\\u002f2016\",\"legendgrouptitle\":{\"text\":\"Batch 14\\u002f04\\u002f2016\"},\"marker\":{\"color\":[\"red\",\"red\",\"red\",\"red\",\"red\",\"red\",\"red\",\"red\",\"red\",\"red\",\"red\",\"red\"],\"size\":8,\"symbol\":[\"square\",\"square\",\"square\",\"square\",\"square\",\"square\",\"square\",\"square\",\"square\",\"square\",\"square\",\"square\"]},\"mode\":\"markers\",\"name\":\"1-2\",\"x\":[46.615504397208305,54.00057367238908,60.03224934665163,53.76604201048642,86.58370656017365,102.1174637463511,64.10597311991897,98.61531086121327,117.63421995346962,83.36465726150487,100.85678852203986,71.73712259645974],\"y\":[81.1439917512585,55.64675523786302,47.199464699102165,40.12923207648211,50.68613679647075,33.90043992251767,66.43367742401612,30.186817502355588,34.09255914930464,73.79121601267504,26.56721963528582,5.350788596929222],\"type\":\"scatter\"},{\"legendgroup\":\"01\\u002f07\\u002f2016\",\"legendgrouptitle\":{\"text\":\"Batch 01\\u002f07\\u002f2016\"},\"marker\":{\"color\":[\"green\",\"green\",\"green\",\"green\",\"green\",\"green\",\"green\",\"green\"],\"size\":8,\"symbol\":[\"circle\",\"circle\",\"circle\",\"circle\",\"circle\",\"circle\",\"circle\",\"circle\"]},\"mode\":\"markers\",\"name\":\"0-0.5\",\"x\":[-85.6260090606008,-80.08793130752677,-83.10424721707122,-94.67919759893104,-70.78309275559434,-97.35220666265502,-106.82702318581892,-94.28638089673738],\"y\":[42.793842907184334,36.44662487326788,25.38945398159661,-15.120242885305855,38.17817828087415,18.60993290279534,-26.52015738039142,-20.31374708558659],\"type\":\"scatter\"},{\"legendgroup\":\"01\\u002f07\\u002f2016\",\"legendgrouptitle\":{\"text\":\"Batch 01\\u002f07\\u002f2016\"},\"marker\":{\"color\":[\"green\",\"green\",\"green\",\"green\",\"green\",\"green\",\"green\",\"green\",\"green\",\"green\",\"green\",\"green\",\"green\"],\"size\":8,\"symbol\":[\"square\",\"square\",\"square\",\"square\",\"square\",\"square\",\"square\",\"square\",\"square\",\"square\",\"square\",\"square\",\"square\"]},\"mode\":\"markers\",\"name\":\"1-2\",\"x\":[-22.057492449888045,-47.12861475911586,28.928736730168293,33.18533088941081,-44.86868588255787,37.394868836537704,25.588671752314347,-9.695149292496492,-21.90167234422606,-4.008900161334277,32.254782750108696,-15.466635300367324,3.710196298136456],\"y\":[58.35869314290577,37.19142988537407,36.075346155759604,-6.056349717920137,47.80975927149926,38.33637018417818,-7.515174770608219,-28.541869131929914,41.0881596134755,14.624080153727823,-15.41756288572761,47.659881491505885,19.601972411899865],\"type\":\"scatter\"},{\"legendgroup\":\"14\\u002f11\\u002f2016\",\"legendgrouptitle\":{\"text\":\"Batch 14\\u002f11\\u002f2016\"},\"marker\":{\"color\":[\"orange\",\"orange\",\"orange\",\"orange\",\"orange\",\"orange\",\"orange\",\"orange\"],\"size\":8,\"symbol\":[\"circle\",\"circle\",\"circle\",\"circle\",\"circle\",\"circle\",\"circle\",\"circle\"]},\"mode\":\"markers\",\"name\":\"0-0.5\",\"x\":[-41.44232235335287,-63.299695747031926,-92.29167227579886,-49.405356414358224,-72.29944506048909,-64.89310647077475,-58.75446085770315,-66.35768704979257],\"y\":[38.26646683294906,17.65877294476996,-33.282535297953295,48.131885012426146,-41.48807531207327,16.781974775295975,-21.88622063388205,-38.92138518412357],\"type\":\"scatter\"},{\"legendgroup\":\"14\\u002f11\\u002f2016\",\"legendgrouptitle\":{\"text\":\"Batch 14\\u002f11\\u002f2016\"},\"marker\":{\"color\":[\"orange\",\"orange\",\"orange\",\"orange\",\"orange\",\"orange\",\"orange\",\"orange\",\"orange\"],\"size\":8,\"symbol\":[\"square\",\"square\",\"square\",\"square\",\"square\",\"square\",\"square\",\"square\",\"square\"]},\"mode\":\"markers\",\"name\":\"1-2\",\"x\":[-34.144113247260655,-33.70742175849542,-43.167576078501206,-24.09076149418035,-26.74284462381983,-42.71640543684715,-37.89117722377073,38.783192692013294,33.409724942652666],\"y\":[-17.71673615475143,-17.67583846704736,-74.9601617505118,1.5881000532358827,12.06594889333344,-39.68969294989044,-38.69422273719212,-13.34336828530162,-16.462743553820573],\"type\":\"scatter\"},{\"legendgroup\":\"21\\u002f09\\u002f2017\",\"legendgrouptitle\":{\"text\":\"Batch 21\\u002f09\\u002f2017\"},\"marker\":{\"color\":[\"purple\",\"purple\"],\"size\":8,\"symbol\":[\"circle\",\"circle\"]},\"mode\":\"markers\",\"name\":\"0-0.5\",\"x\":[-22.695595162242828,12.771156846074081],\"y\":[-66.99208441905385,-86.28726269150883],\"type\":\"scatter\"},{\"legendgroup\":\"21\\u002f09\\u002f2017\",\"legendgrouptitle\":{\"text\":\"Batch 21\\u002f09\\u002f2017\"},\"marker\":{\"color\":[\"purple\",\"purple\",\"purple\",\"purple\",\"purple\",\"purple\",\"purple\",\"purple\",\"purple\",\"purple\"],\"size\":8,\"symbol\":[\"square\",\"square\",\"square\",\"square\",\"square\",\"square\",\"square\",\"square\",\"square\",\"square\"]},\"mode\":\"markers\",\"name\":\"1-2\",\"x\":[5.568412676769873,27.58971147068156,23.223593195305835,-18.61742220249778,68.12651430334417,95.40877928964828,87.67097028871346,60.93206998780631,88.44613787777838,104.51614629759953],\"y\":[-76.95814002073138,-100.62063559409522,-98.89525271402115,-90.22027788223258,-80.77204988324644,-83.8215232981818,-99.32823080769819,-114.78780965693849,-63.995992614580274,-86.96332221357602],\"type\":\"scatter\"}],                        {\"template\":{\"data\":{\"histogram2dcontour\":[{\"type\":\"histogram2dcontour\",\"colorbar\":{\"outlinewidth\":0,\"ticks\":\"\"},\"colorscale\":[[0.0,\"#0d0887\"],[0.1111111111111111,\"#46039f\"],[0.2222222222222222,\"#7201a8\"],[0.3333333333333333,\"#9c179e\"],[0.4444444444444444,\"#bd3786\"],[0.5555555555555556,\"#d8576b\"],[0.6666666666666666,\"#ed7953\"],[0.7777777777777778,\"#fb9f3a\"],[0.8888888888888888,\"#fdca26\"],[1.0,\"#f0f921\"]]}],\"choropleth\":[{\"type\":\"choropleth\",\"colorbar\":{\"outlinewidth\":0,\"ticks\":\"\"}}],\"histogram2d\":[{\"type\":\"histogram2d\",\"colorbar\":{\"outlinewidth\":0,\"ticks\":\"\"},\"colorscale\":[[0.0,\"#0d0887\"],[0.1111111111111111,\"#46039f\"],[0.2222222222222222,\"#7201a8\"],[0.3333333333333333,\"#9c179e\"],[0.4444444444444444,\"#bd3786\"],[0.5555555555555556,\"#d8576b\"],[0.6666666666666666,\"#ed7953\"],[0.7777777777777778,\"#fb9f3a\"],[0.8888888888888888,\"#fdca26\"],[1.0,\"#f0f921\"]]}],\"heatmap\":[{\"type\":\"heatmap\",\"colorbar\":{\"outlinewidth\":0,\"ticks\":\"\"},\"colorscale\":[[0.0,\"#0d0887\"],[0.1111111111111111,\"#46039f\"],[0.2222222222222222,\"#7201a8\"],[0.3333333333333333,\"#9c179e\"],[0.4444444444444444,\"#bd3786\"],[0.5555555555555556,\"#d8576b\"],[0.6666666666666666,\"#ed7953\"],[0.7777777777777778,\"#fb9f3a\"],[0.8888888888888888,\"#fdca26\"],[1.0,\"#f0f921\"]]}],\"heatmapgl\":[{\"type\":\"heatmapgl\",\"colorbar\":{\"outlinewidth\":0,\"ticks\":\"\"},\"colorscale\":[[0.0,\"#0d0887\"],[0.1111111111111111,\"#46039f\"],[0.2222222222222222,\"#7201a8\"],[0.3333333333333333,\"#9c179e\"],[0.4444444444444444,\"#bd3786\"],[0.5555555555555556,\"#d8576b\"],[0.6666666666666666,\"#ed7953\"],[0.7777777777777778,\"#fb9f3a\"],[0.8888888888888888,\"#fdca26\"],[1.0,\"#f0f921\"]]}],\"contourcarpet\":[{\"type\":\"contourcarpet\",\"colorbar\":{\"outlinewidth\":0,\"ticks\":\"\"}}],\"contour\":[{\"type\":\"contour\",\"colorbar\":{\"outlinewidth\":0,\"ticks\":\"\"},\"colorscale\":[[0.0,\"#0d0887\"],[0.1111111111111111,\"#46039f\"],[0.2222222222222222,\"#7201a8\"],[0.3333333333333333,\"#9c179e\"],[0.4444444444444444,\"#bd3786\"],[0.5555555555555556,\"#d8576b\"],[0.6666666666666666,\"#ed7953\"],[0.7777777777777778,\"#fb9f3a\"],[0.8888888888888888,\"#fdca26\"],[1.0,\"#f0f921\"]]}],\"surface\":[{\"type\":\"surface\",\"colorbar\":{\"outlinewidth\":0,\"ticks\":\"\"},\"colorscale\":[[0.0,\"#0d0887\"],[0.1111111111111111,\"#46039f\"],[0.2222222222222222,\"#7201a8\"],[0.3333333333333333,\"#9c179e\"],[0.4444444444444444,\"#bd3786\"],[0.5555555555555556,\"#d8576b\"],[0.6666666666666666,\"#ed7953\"],[0.7777777777777778,\"#fb9f3a\"],[0.8888888888888888,\"#fdca26\"],[1.0,\"#f0f921\"]]}],\"mesh3d\":[{\"type\":\"mesh3d\",\"colorbar\":{\"outlinewidth\":0,\"ticks\":\"\"}}],\"scatter\":[{\"fillpattern\":{\"fillmode\":\"overlay\",\"size\":10,\"solidity\":0.2},\"type\":\"scatter\"}],\"parcoords\":[{\"type\":\"parcoords\",\"line\":{\"colorbar\":{\"outlinewidth\":0,\"ticks\":\"\"}}}],\"scatterpolargl\":[{\"type\":\"scatterpolargl\",\"marker\":{\"colorbar\":{\"outlinewidth\":0,\"ticks\":\"\"}}}],\"bar\":[{\"error_x\":{\"color\":\"#2a3f5f\"},\"error_y\":{\"color\":\"#2a3f5f\"},\"marker\":{\"line\":{\"color\":\"#E5ECF6\",\"width\":0.5},\"pattern\":{\"fillmode\":\"overlay\",\"size\":10,\"solidity\":0.2}},\"type\":\"bar\"}],\"scattergeo\":[{\"type\":\"scattergeo\",\"marker\":{\"colorbar\":{\"outlinewidth\":0,\"ticks\":\"\"}}}],\"scatterpolar\":[{\"type\":\"scatterpolar\",\"marker\":{\"colorbar\":{\"outlinewidth\":0,\"ticks\":\"\"}}}],\"histogram\":[{\"marker\":{\"pattern\":{\"fillmode\":\"overlay\",\"size\":10,\"solidity\":0.2}},\"type\":\"histogram\"}],\"scattergl\":[{\"type\":\"scattergl\",\"marker\":{\"colorbar\":{\"outlinewidth\":0,\"ticks\":\"\"}}}],\"scatter3d\":[{\"type\":\"scatter3d\",\"line\":{\"colorbar\":{\"outlinewidth\":0,\"ticks\":\"\"}},\"marker\":{\"colorbar\":{\"outlinewidth\":0,\"ticks\":\"\"}}}],\"scattermapbox\":[{\"type\":\"scattermapbox\",\"marker\":{\"colorbar\":{\"outlinewidth\":0,\"ticks\":\"\"}}}],\"scatterternary\":[{\"type\":\"scatterternary\",\"marker\":{\"colorbar\":{\"outlinewidth\":0,\"ticks\":\"\"}}}],\"scattercarpet\":[{\"type\":\"scattercarpet\",\"marker\":{\"colorbar\":{\"outlinewidth\":0,\"ticks\":\"\"}}}],\"carpet\":[{\"aaxis\":{\"endlinecolor\":\"#2a3f5f\",\"gridcolor\":\"white\",\"linecolor\":\"white\",\"minorgridcolor\":\"white\",\"startlinecolor\":\"#2a3f5f\"},\"baxis\":{\"endlinecolor\":\"#2a3f5f\",\"gridcolor\":\"white\",\"linecolor\":\"white\",\"minorgridcolor\":\"white\",\"startlinecolor\":\"#2a3f5f\"},\"type\":\"carpet\"}],\"table\":[{\"cells\":{\"fill\":{\"color\":\"#EBF0F8\"},\"line\":{\"color\":\"white\"}},\"header\":{\"fill\":{\"color\":\"#C8D4E3\"},\"line\":{\"color\":\"white\"}},\"type\":\"table\"}],\"barpolar\":[{\"marker\":{\"line\":{\"color\":\"#E5ECF6\",\"width\":0.5},\"pattern\":{\"fillmode\":\"overlay\",\"size\":10,\"solidity\":0.2}},\"type\":\"barpolar\"}],\"pie\":[{\"automargin\":true,\"type\":\"pie\"}]},\"layout\":{\"autotypenumbers\":\"strict\",\"colorway\":[\"#636efa\",\"#EF553B\",\"#00cc96\",\"#ab63fa\",\"#FFA15A\",\"#19d3f3\",\"#FF6692\",\"#B6E880\",\"#FF97FF\",\"#FECB52\"],\"font\":{\"color\":\"#2a3f5f\"},\"hovermode\":\"closest\",\"hoverlabel\":{\"align\":\"left\"},\"paper_bgcolor\":\"white\",\"plot_bgcolor\":\"#E5ECF6\",\"polar\":{\"bgcolor\":\"#E5ECF6\",\"angularaxis\":{\"gridcolor\":\"white\",\"linecolor\":\"white\",\"ticks\":\"\"},\"radialaxis\":{\"gridcolor\":\"white\",\"linecolor\":\"white\",\"ticks\":\"\"}},\"ternary\":{\"bgcolor\":\"#E5ECF6\",\"aaxis\":{\"gridcolor\":\"white\",\"linecolor\":\"white\",\"ticks\":\"\"},\"baxis\":{\"gridcolor\":\"white\",\"linecolor\":\"white\",\"ticks\":\"\"},\"caxis\":{\"gridcolor\":\"white\",\"linecolor\":\"white\",\"ticks\":\"\"}},\"coloraxis\":{\"colorbar\":{\"outlinewidth\":0,\"ticks\":\"\"}},\"colorscale\":{\"sequential\":[[0.0,\"#0d0887\"],[0.1111111111111111,\"#46039f\"],[0.2222222222222222,\"#7201a8\"],[0.3333333333333333,\"#9c179e\"],[0.4444444444444444,\"#bd3786\"],[0.5555555555555556,\"#d8576b\"],[0.6666666666666666,\"#ed7953\"],[0.7777777777777778,\"#fb9f3a\"],[0.8888888888888888,\"#fdca26\"],[1.0,\"#f0f921\"]],\"sequentialminus\":[[0.0,\"#0d0887\"],[0.1111111111111111,\"#46039f\"],[0.2222222222222222,\"#7201a8\"],[0.3333333333333333,\"#9c179e\"],[0.4444444444444444,\"#bd3786\"],[0.5555555555555556,\"#d8576b\"],[0.6666666666666666,\"#ed7953\"],[0.7777777777777778,\"#fb9f3a\"],[0.8888888888888888,\"#fdca26\"],[1.0,\"#f0f921\"]],\"diverging\":[[0,\"#8e0152\"],[0.1,\"#c51b7d\"],[0.2,\"#de77ae\"],[0.3,\"#f1b6da\"],[0.4,\"#fde0ef\"],[0.5,\"#f7f7f7\"],[0.6,\"#e6f5d0\"],[0.7,\"#b8e186\"],[0.8,\"#7fbc41\"],[0.9,\"#4d9221\"],[1,\"#276419\"]]},\"xaxis\":{\"gridcolor\":\"white\",\"linecolor\":\"white\",\"ticks\":\"\",\"title\":{\"standoff\":15},\"zerolinecolor\":\"white\",\"automargin\":true,\"zerolinewidth\":2},\"yaxis\":{\"gridcolor\":\"white\",\"linecolor\":\"white\",\"ticks\":\"\",\"title\":{\"standoff\":15},\"zerolinecolor\":\"white\",\"automargin\":true,\"zerolinewidth\":2},\"scene\":{\"xaxis\":{\"backgroundcolor\":\"#E5ECF6\",\"gridcolor\":\"white\",\"linecolor\":\"white\",\"showbackground\":true,\"ticks\":\"\",\"zerolinecolor\":\"white\",\"gridwidth\":2},\"yaxis\":{\"backgroundcolor\":\"#E5ECF6\",\"gridcolor\":\"white\",\"linecolor\":\"white\",\"showbackground\":true,\"ticks\":\"\",\"zerolinecolor\":\"white\",\"gridwidth\":2},\"zaxis\":{\"backgroundcolor\":\"#E5ECF6\",\"gridcolor\":\"white\",\"linecolor\":\"white\",\"showbackground\":true,\"ticks\":\"\",\"zerolinecolor\":\"white\",\"gridwidth\":2}},\"shapedefaults\":{\"line\":{\"color\":\"#2a3f5f\"}},\"annotationdefaults\":{\"arrowcolor\":\"#2a3f5f\",\"arrowhead\":0,\"arrowwidth\":1},\"geo\":{\"bgcolor\":\"white\",\"landcolor\":\"#E5ECF6\",\"subunitcolor\":\"white\",\"showland\":true,\"showlakes\":true,\"lakecolor\":\"white\"},\"title\":{\"x\":0.05},\"mapbox\":{\"style\":\"light\"}}}},                        {\"responsive\": true}                    ).then(function(){\n",
       "                            \n",
       "var gd = document.getElementById('9b152e72-2377-4d72-9557-5b272d3f7e7f');\n",
       "var x = new MutationObserver(function (mutations, observer) {{\n",
       "        var display = window.getComputedStyle(gd).display;\n",
       "        if (!display || display === 'none') {{\n",
       "            console.log([gd, 'removed!']);\n",
       "            Plotly.purge(gd);\n",
       "            observer.disconnect();\n",
       "        }}\n",
       "}});\n",
       "\n",
       "// Listen for the removal of the full notebook cells\n",
       "var notebookContainer = gd.closest('#notebook-container');\n",
       "if (notebookContainer) {{\n",
       "    x.observe(notebookContainer, {childList: true});\n",
       "}}\n",
       "\n",
       "// Listen for the clearing of the current output cell\n",
       "var outputEl = gd.closest('.output');\n",
       "if (outputEl) {{\n",
       "    x.observe(outputEl, {childList: true});\n",
       "}}\n",
       "\n",
       "                        })                };                });            </script>        </div>"
      ]
     },
     "metadata": {},
     "output_type": "display_data"
    }
   ],
   "source": [
    "input_size = 567\n",
    "d_z = 16\n",
    "device = torch.device(\"cuda\" if torch.cuda.is_available() else \"cpu\")\n",
    "\n",
    "path = \"data/dataset_ad.csv\"\n",
    "batch_label = \"batch\"\n",
    "sample_label = \"sample\"\n",
    "exp_label = \"trt\"\n",
    "\n",
    "data = DataPreprocess(\n",
    "    path,\n",
    "    factors=[sample_label, batch_label, exp_label]\n",
    ")\n",
    "\n",
    "plotPCoA(data, \n",
    "         sample_label=sample_label,\n",
    "         batch_label=batch_label,\n",
    "         experiment_label=exp_label,\n",
    "         method=\"aitchison\")"
   ]
  },
  {
   "cell_type": "code",
   "execution_count": 5,
   "metadata": {},
   "outputs": [],
   "source": [
    "# train DataLoader: [samples, ohe_batch]\n",
    "train_dataloader = DataLoader(\n",
    "    TensorDataset(\n",
    "        torch.tensor(data.select_dtypes(include=\"number\").values, dtype=torch.float32), # samples\n",
    "        one_hot_encoding(data[batch_label])[0], # one hot encoded batch information\n",
    "        one_hot_encoding(data[exp_label])[0], #one hot encoded biological information\n",
    "    ),\n",
    "    batch_size=128,\n",
    ")"
   ]
  },
  {
   "cell_type": "markdown",
   "metadata": {},
   "source": [
    "## ABaCo with VMM"
   ]
  },
  {
   "cell_type": "code",
   "execution_count": 64,
   "metadata": {},
   "outputs": [],
   "source": [
    "K = 2\n",
    "n_batches = 5\n",
    "\n",
    "\n",
    "# Encoder\n",
    "mog_encoder_net = nn.Sequential(\n",
    "    nn.Linear(input_size, 1024),\n",
    "    nn.ReLU(),\n",
    "    nn.Linear(1024, 512),\n",
    "    nn.ReLU(),\n",
    "    nn.Linear(512, 258),\n",
    "    nn.ReLU(),\n",
    "    nn.Linear(258, K * (2 * d_z + 1)),\n",
    ")\n",
    "\n",
    "# Decoder\n",
    "zinb_decoder_net = nn.Sequential(\n",
    "    nn.Linear(d_z, 258),\n",
    "    nn.ReLU(),\n",
    "    nn.Linear(258, 512),\n",
    "    nn.ReLU(),\n",
    "    nn.Linear(512, 1024),\n",
    "    nn.ReLU(),\n",
    "    nn.Linear(1024, 3 * input_size),\n",
    ")\n",
    "\n",
    "# Batch discriminator\n",
    "batch_disc_net = nn.Sequential(\n",
    "    nn.Linear(d_z, 256),\n",
    "    nn.ReLU(),\n",
    "    nn.Linear(256, 128),\n",
    "    nn.ReLU(),\n",
    "    nn.Linear(128, 64),\n",
    "    nn.ReLU(),\n",
    "    nn.Linear(64, n_batches),\n",
    ")\n",
    "\n",
    "# Biological classifier\n",
    "bio_class_net = nn.Sequential(\n",
    "    nn.Linear(d_z, 256),\n",
    "    nn.ReLU(),\n",
    "    nn.Linear(256, 128),\n",
    "    nn.ReLU(),\n",
    "    nn.Linear(128, 64),\n",
    "    nn.ReLU(),\n",
    "    nn.Linear(64, K),\n",
    ")\n",
    "\n",
    "# Defining VMM model\n",
    "encoder = MoGEncoder(mog_encoder_net, n_comp=K)\n",
    "decoder = ZINBDecoder(zinb_decoder_net)\n",
    "vae_model = VampPriorMixtureVAE(\n",
    "    encoder=encoder,\n",
    "    decoder=decoder,\n",
    "    input_dim=input_size,\n",
    "    n_comps=K,\n",
    "    d_z=d_z,\n",
    "    beta=10.0,\n",
    "    data_loader=train_dataloader,\n",
    ").to(device)\n",
    "\n",
    "# Defining batch discriminator\n",
    "discriminator = BatchDiscriminator(batch_disc_net).to(device)\n",
    "\n",
    "bio_classifier = BiologicalConservationClassifier(bio_class_net).to(device)\n",
    "\n",
    "# Optimizers\n",
    "adv_optim = torch.optim.Adam(vae_model.encoder.parameters(), lr=1e-4, weight_decay=1e-5)\n",
    "\n",
    "vae_optim = torch.optim.Adam(\n",
    "    [\n",
    "        {\"params\": vae_model.encoder.parameters()},\n",
    "        {\"params\": vae_model.decoder.parameters()},\n",
    "        {\"params\": [vae_model.u]},\n",
    "    ],\n",
    "    lr=1e-3,\n",
    ")\n",
    "\n",
    "disc_optim = torch.optim.Adam(discriminator.parameters(), lr=1e-4, weight_decay=1e-5)\n",
    "bio_optim = torch.optim.Adam([\n",
    "        {\"params\": bio_classifier.parameters()}, \n",
    "        {\"params\": vae_model.encoder.parameters()},\n",
    "    ], lr=1e-3, weight_decay=1e-5)"
   ]
  },
  {
   "cell_type": "code",
   "execution_count": 65,
   "metadata": {},
   "outputs": [
    {
     "name": "stderr",
     "output_type": "stream",
     "text": [
      "Training: 100%|██████████| 500/500 [00:09<00:00, 54.95it/s, adv_loss=-15.5092, bio_loss=0.0564, disc_loss=1.5519, epoch=500/500, vae_loss=892.3467]  \n"
     ]
    }
   ],
   "source": [
    "epochs = 500\n",
    "train_abaco(\n",
    "    vae=vae_model,\n",
    "    vae_optim=vae_optim,\n",
    "    discriminator=discriminator,\n",
    "    disc_optim=disc_optim,\n",
    "    adv_optim=adv_optim,\n",
    "    bio_classifier=bio_classifier,\n",
    "    bio_optim=bio_optim,\n",
    "    data_loader=train_dataloader,\n",
    "    epochs=epochs,\n",
    "    device=device,\n",
    "    w_disc=1.0,\n",
    "    w_adv=10.0,\n",
    "    w_elbo=1.0,\n",
    "    w_bio=10.0,\n",
    "    disc_loss_type=\"CrossEntropy\",\n",
    ")"
   ]
  },
  {
   "cell_type": "code",
   "execution_count": 66,
   "metadata": {},
   "outputs": [],
   "source": [
    "recon_data = []\n",
    "\n",
    "for x in train_dataloader:\n",
    "    x = x[0].to(device)\n",
    "    encoded = vae_model.encoder(x)\n",
    "    z = encoded.rsample()\n",
    "    decoded = vae_model.decoder(z)\n",
    "    recon = decoded.sample()\n",
    "    recon_data.append(recon)\n",
    "\n",
    "np_recon_data = np.vstack([t.detach().cpu().numpy() for t in recon_data])"
   ]
  },
  {
   "cell_type": "code",
   "execution_count": 67,
   "metadata": {},
   "outputs": [
    {
     "data": {
      "application/vnd.plotly.v1+json": {
       "config": {
        "plotlyServerURL": "https://plot.ly"
       },
       "data": [
        {
         "legendgroup": "09/04/2015",
         "legendgrouptitle": {
          "text": "Batch 09/04/2015"
         },
         "marker": {
          "color": [
           "blue",
           "blue",
           "blue",
           "blue"
          ],
          "size": 8,
          "symbol": [
           "circle",
           "circle",
           "circle",
           "circle"
          ]
         },
         "mode": "markers",
         "name": "0-0.5",
         "type": "scatter",
         "x": [
          -57.36831633160756,
          -74.83061920087164,
          -73.91959820928489,
          -60.75598452389865
         ],
         "y": [
          -5.369080940933704,
          15.663657030516854,
          25.07481272277246,
          17.61950815728622
         ]
        },
        {
         "legendgroup": "09/04/2015",
         "legendgrouptitle": {
          "text": "Batch 09/04/2015"
         },
         "marker": {
          "color": [
           "blue",
           "blue",
           "blue",
           "blue",
           "blue"
          ],
          "size": 8,
          "symbol": [
           "square",
           "square",
           "square",
           "square",
           "square"
          ]
         },
         "mode": "markers",
         "name": "1-2",
         "type": "scatter",
         "x": [
          34.883982401486186,
          45.74390674893582,
          30.414973930598048,
          28.066068547270007,
          43.91544677166044
         ],
         "y": [
          1.7701695456559332,
          18.85787259122249,
          -16.40374049658053,
          21.328082626638345,
          10.602330624406028
         ]
        },
        {
         "legendgroup": "14/04/2016",
         "legendgrouptitle": {
          "text": "Batch 14/04/2016"
         },
         "marker": {
          "color": [
           "red",
           "red",
           "red",
           "red"
          ],
          "size": 8,
          "symbol": [
           "circle",
           "circle",
           "circle",
           "circle"
          ]
         },
         "mode": "markers",
         "name": "0-0.5",
         "type": "scatter",
         "x": [
          -70.35291004059427,
          -45.25335585978679,
          -30.377549683476534,
          -3.1919915313636187
         ],
         "y": [
          -15.05876018365394,
          -24.197786228156076,
          -2.8748385561586622,
          -33.47984515530885
         ]
        },
        {
         "legendgroup": "14/04/2016",
         "legendgrouptitle": {
          "text": "Batch 14/04/2016"
         },
         "marker": {
          "color": [
           "red",
           "red",
           "red",
           "red",
           "red",
           "red",
           "red",
           "red",
           "red",
           "red",
           "red",
           "red"
          ],
          "size": 8,
          "symbol": [
           "square",
           "square",
           "square",
           "square",
           "square",
           "square",
           "square",
           "square",
           "square",
           "square",
           "square",
           "square"
          ]
         },
         "mode": "markers",
         "name": "1-2",
         "type": "scatter",
         "x": [
          20.548543839406424,
          15.212160223700533,
          26.445926005988074,
          10.134036306779501,
          41.09681384799608,
          40.58707147828313,
          73.99410485281071,
          33.981166543147694,
          48.57638158557994,
          21.084572312656277,
          21.646692120322452,
          -7.490656082302532
         ],
         "y": [
          -10.193827957862013,
          35.3363167845621,
          -14.007967016510346,
          10.127710549247567,
          -10.103030294439554,
          -8.868793152222338,
          32.9223154014533,
          -16.555087035296555,
          -2.1232406020722747,
          -8.905219425868513,
          -8.818756307521486,
          23.847574224619443
         ]
        },
        {
         "legendgroup": "01/07/2016",
         "legendgrouptitle": {
          "text": "Batch 01/07/2016"
         },
         "marker": {
          "color": [
           "green",
           "green",
           "green",
           "green",
           "green",
           "green",
           "green",
           "green"
          ],
          "size": 8,
          "symbol": [
           "circle",
           "circle",
           "circle",
           "circle",
           "circle",
           "circle",
           "circle",
           "circle"
          ]
         },
         "mode": "markers",
         "name": "0-0.5",
         "type": "scatter",
         "x": [
          -16.2298729486431,
          -68.89851203640816,
          -41.21775989474596,
          -71.0140500226057,
          -71.77620227287798,
          -50.95964493413554,
          -81.6084933724295,
          -40.91154887270422
         ],
         "y": [
          -21.166869962683435,
          -37.505307659977795,
          14.844998542677793,
          14.661920780588174,
          -58.377974466702526,
          -34.82188183719386,
          -47.65524849959916,
          53.432797948555866
         ]
        },
        {
         "legendgroup": "01/07/2016",
         "legendgrouptitle": {
          "text": "Batch 01/07/2016"
         },
         "marker": {
          "color": [
           "green",
           "green",
           "green",
           "green",
           "green",
           "green",
           "green",
           "green",
           "green",
           "green",
           "green",
           "green",
           "green"
          ],
          "size": 8,
          "symbol": [
           "square",
           "square",
           "square",
           "square",
           "square",
           "square",
           "square",
           "square",
           "square",
           "square",
           "square",
           "square",
           "square"
          ]
         },
         "mode": "markers",
         "name": "1-2",
         "type": "scatter",
         "x": [
          18.056889764193855,
          38.27963870601467,
          48.56804961251049,
          37.10732513583436,
          41.758790190243964,
          45.1804687231692,
          46.10635639709516,
          36.52626287728719,
          22.357559920140847,
          4.12827351007852,
          25.205766228883686,
          0.5929097081013069,
          23.068675316981434
         ],
         "y": [
          37.54957104220326,
          15.425947288843469,
          -36.04087017853997,
          -71.98462965169452,
          -10.048813188910042,
          41.246057082203706,
          100.28756934007635,
          23.754044173318537,
          6.304826525012618,
          -43.29951909567407,
          35.01204654303594,
          7.340855417857711,
          66.26794250082271
         ]
        },
        {
         "legendgroup": "14/11/2016",
         "legendgrouptitle": {
          "text": "Batch 14/11/2016"
         },
         "marker": {
          "color": [
           "orange",
           "orange",
           "orange",
           "orange",
           "orange",
           "orange",
           "orange",
           "orange"
          ],
          "size": 8,
          "symbol": [
           "circle",
           "circle",
           "circle",
           "circle",
           "circle",
           "circle",
           "circle",
           "circle"
          ]
         },
         "mode": "markers",
         "name": "0-0.5",
         "type": "scatter",
         "x": [
          -46.80795026534258,
          -47.96415693489006,
          -50.38616306061686,
          -80.83449840579823,
          -77.57886865492637,
          -60.51269086066598,
          -45.29956252306895,
          -52.309981658044336
         ],
         "y": [
          -13.420552548152704,
          19.1110236589317,
          36.90284748427448,
          -22.73468229477466,
          11.25403635939204,
          16.039307162950404,
          40.03022130333484,
          13.016445803531349
         ]
        },
        {
         "legendgroup": "14/11/2016",
         "legendgrouptitle": {
          "text": "Batch 14/11/2016"
         },
         "marker": {
          "color": [
           "orange",
           "orange",
           "orange",
           "orange",
           "orange",
           "orange",
           "orange",
           "orange",
           "orange"
          ],
          "size": 8,
          "symbol": [
           "square",
           "square",
           "square",
           "square",
           "square",
           "square",
           "square",
           "square",
           "square"
          ]
         },
         "mode": "markers",
         "name": "1-2",
         "type": "scatter",
         "x": [
          54.653720784410176,
          25.45271811383786,
          42.51291453351588,
          2.9002438957203576,
          23.047993479590854,
          50.886691587345304,
          43.167890838259055,
          39.626190068687514,
          -5.131686374243085
         ],
         "y": [
          -7.716440715483782,
          -21.22075375459149,
          -46.508219859749865,
          5.0283811376947245,
          -2.038313572211669,
          -24.22713973700247,
          -16.491212809336773,
          -27.342457197342753,
          7.419427245867019
         ]
        },
        {
         "legendgroup": "21/09/2017",
         "legendgrouptitle": {
          "text": "Batch 21/09/2017"
         },
         "marker": {
          "color": [
           "purple",
           "purple"
          ],
          "size": 8,
          "symbol": [
           "circle",
           "circle"
          ]
         },
         "mode": "markers",
         "name": "0-0.5",
         "type": "scatter",
         "x": [
          -90.6212787735517,
          -83.93347296150387
         ],
         "y": [
          -1.4391815561907346,
          25.092101163710762
         ]
        },
        {
         "legendgroup": "21/09/2017",
         "legendgrouptitle": {
          "text": "Batch 21/09/2017"
         },
         "marker": {
          "color": [
           "purple",
           "purple",
           "purple",
           "purple",
           "purple",
           "purple",
           "purple",
           "purple",
           "purple",
           "purple"
          ],
          "size": 8,
          "symbol": [
           "square",
           "square",
           "square",
           "square",
           "square",
           "square",
           "square",
           "square",
           "square",
           "square"
          ]
         },
         "mode": "markers",
         "name": "1-2",
         "type": "scatter",
         "x": [
          34.77750907360573,
          33.67821660355241,
          33.772549821284436,
          36.61178719729698,
          60.97462222882477,
          -6.732801354811951,
          37.744418580631326,
          12.577525408148473,
          19.120502612898218,
          39.49586921043561
         ],
         "y": [
          -5.08814975301833,
          30.04008310253276,
          37.82030088088444,
          -20.446943914679473,
          -4.774584392028324,
          -12.06782033298754,
          -41.34143100541991,
          38.65841819375218,
          -52.87032364804304,
          -52.10222595585971
         ]
        }
       ],
       "layout": {
        "template": {
         "data": {
          "bar": [
           {
            "error_x": {
             "color": "#2a3f5f"
            },
            "error_y": {
             "color": "#2a3f5f"
            },
            "marker": {
             "line": {
              "color": "#E5ECF6",
              "width": 0.5
             },
             "pattern": {
              "fillmode": "overlay",
              "size": 10,
              "solidity": 0.2
             }
            },
            "type": "bar"
           }
          ],
          "barpolar": [
           {
            "marker": {
             "line": {
              "color": "#E5ECF6",
              "width": 0.5
             },
             "pattern": {
              "fillmode": "overlay",
              "size": 10,
              "solidity": 0.2
             }
            },
            "type": "barpolar"
           }
          ],
          "carpet": [
           {
            "aaxis": {
             "endlinecolor": "#2a3f5f",
             "gridcolor": "white",
             "linecolor": "white",
             "minorgridcolor": "white",
             "startlinecolor": "#2a3f5f"
            },
            "baxis": {
             "endlinecolor": "#2a3f5f",
             "gridcolor": "white",
             "linecolor": "white",
             "minorgridcolor": "white",
             "startlinecolor": "#2a3f5f"
            },
            "type": "carpet"
           }
          ],
          "choropleth": [
           {
            "colorbar": {
             "outlinewidth": 0,
             "ticks": ""
            },
            "type": "choropleth"
           }
          ],
          "contour": [
           {
            "colorbar": {
             "outlinewidth": 0,
             "ticks": ""
            },
            "colorscale": [
             [
              0,
              "#0d0887"
             ],
             [
              0.1111111111111111,
              "#46039f"
             ],
             [
              0.2222222222222222,
              "#7201a8"
             ],
             [
              0.3333333333333333,
              "#9c179e"
             ],
             [
              0.4444444444444444,
              "#bd3786"
             ],
             [
              0.5555555555555556,
              "#d8576b"
             ],
             [
              0.6666666666666666,
              "#ed7953"
             ],
             [
              0.7777777777777778,
              "#fb9f3a"
             ],
             [
              0.8888888888888888,
              "#fdca26"
             ],
             [
              1,
              "#f0f921"
             ]
            ],
            "type": "contour"
           }
          ],
          "contourcarpet": [
           {
            "colorbar": {
             "outlinewidth": 0,
             "ticks": ""
            },
            "type": "contourcarpet"
           }
          ],
          "heatmap": [
           {
            "colorbar": {
             "outlinewidth": 0,
             "ticks": ""
            },
            "colorscale": [
             [
              0,
              "#0d0887"
             ],
             [
              0.1111111111111111,
              "#46039f"
             ],
             [
              0.2222222222222222,
              "#7201a8"
             ],
             [
              0.3333333333333333,
              "#9c179e"
             ],
             [
              0.4444444444444444,
              "#bd3786"
             ],
             [
              0.5555555555555556,
              "#d8576b"
             ],
             [
              0.6666666666666666,
              "#ed7953"
             ],
             [
              0.7777777777777778,
              "#fb9f3a"
             ],
             [
              0.8888888888888888,
              "#fdca26"
             ],
             [
              1,
              "#f0f921"
             ]
            ],
            "type": "heatmap"
           }
          ],
          "heatmapgl": [
           {
            "colorbar": {
             "outlinewidth": 0,
             "ticks": ""
            },
            "colorscale": [
             [
              0,
              "#0d0887"
             ],
             [
              0.1111111111111111,
              "#46039f"
             ],
             [
              0.2222222222222222,
              "#7201a8"
             ],
             [
              0.3333333333333333,
              "#9c179e"
             ],
             [
              0.4444444444444444,
              "#bd3786"
             ],
             [
              0.5555555555555556,
              "#d8576b"
             ],
             [
              0.6666666666666666,
              "#ed7953"
             ],
             [
              0.7777777777777778,
              "#fb9f3a"
             ],
             [
              0.8888888888888888,
              "#fdca26"
             ],
             [
              1,
              "#f0f921"
             ]
            ],
            "type": "heatmapgl"
           }
          ],
          "histogram": [
           {
            "marker": {
             "pattern": {
              "fillmode": "overlay",
              "size": 10,
              "solidity": 0.2
             }
            },
            "type": "histogram"
           }
          ],
          "histogram2d": [
           {
            "colorbar": {
             "outlinewidth": 0,
             "ticks": ""
            },
            "colorscale": [
             [
              0,
              "#0d0887"
             ],
             [
              0.1111111111111111,
              "#46039f"
             ],
             [
              0.2222222222222222,
              "#7201a8"
             ],
             [
              0.3333333333333333,
              "#9c179e"
             ],
             [
              0.4444444444444444,
              "#bd3786"
             ],
             [
              0.5555555555555556,
              "#d8576b"
             ],
             [
              0.6666666666666666,
              "#ed7953"
             ],
             [
              0.7777777777777778,
              "#fb9f3a"
             ],
             [
              0.8888888888888888,
              "#fdca26"
             ],
             [
              1,
              "#f0f921"
             ]
            ],
            "type": "histogram2d"
           }
          ],
          "histogram2dcontour": [
           {
            "colorbar": {
             "outlinewidth": 0,
             "ticks": ""
            },
            "colorscale": [
             [
              0,
              "#0d0887"
             ],
             [
              0.1111111111111111,
              "#46039f"
             ],
             [
              0.2222222222222222,
              "#7201a8"
             ],
             [
              0.3333333333333333,
              "#9c179e"
             ],
             [
              0.4444444444444444,
              "#bd3786"
             ],
             [
              0.5555555555555556,
              "#d8576b"
             ],
             [
              0.6666666666666666,
              "#ed7953"
             ],
             [
              0.7777777777777778,
              "#fb9f3a"
             ],
             [
              0.8888888888888888,
              "#fdca26"
             ],
             [
              1,
              "#f0f921"
             ]
            ],
            "type": "histogram2dcontour"
           }
          ],
          "mesh3d": [
           {
            "colorbar": {
             "outlinewidth": 0,
             "ticks": ""
            },
            "type": "mesh3d"
           }
          ],
          "parcoords": [
           {
            "line": {
             "colorbar": {
              "outlinewidth": 0,
              "ticks": ""
             }
            },
            "type": "parcoords"
           }
          ],
          "pie": [
           {
            "automargin": true,
            "type": "pie"
           }
          ],
          "scatter": [
           {
            "fillpattern": {
             "fillmode": "overlay",
             "size": 10,
             "solidity": 0.2
            },
            "type": "scatter"
           }
          ],
          "scatter3d": [
           {
            "line": {
             "colorbar": {
              "outlinewidth": 0,
              "ticks": ""
             }
            },
            "marker": {
             "colorbar": {
              "outlinewidth": 0,
              "ticks": ""
             }
            },
            "type": "scatter3d"
           }
          ],
          "scattercarpet": [
           {
            "marker": {
             "colorbar": {
              "outlinewidth": 0,
              "ticks": ""
             }
            },
            "type": "scattercarpet"
           }
          ],
          "scattergeo": [
           {
            "marker": {
             "colorbar": {
              "outlinewidth": 0,
              "ticks": ""
             }
            },
            "type": "scattergeo"
           }
          ],
          "scattergl": [
           {
            "marker": {
             "colorbar": {
              "outlinewidth": 0,
              "ticks": ""
             }
            },
            "type": "scattergl"
           }
          ],
          "scattermapbox": [
           {
            "marker": {
             "colorbar": {
              "outlinewidth": 0,
              "ticks": ""
             }
            },
            "type": "scattermapbox"
           }
          ],
          "scatterpolar": [
           {
            "marker": {
             "colorbar": {
              "outlinewidth": 0,
              "ticks": ""
             }
            },
            "type": "scatterpolar"
           }
          ],
          "scatterpolargl": [
           {
            "marker": {
             "colorbar": {
              "outlinewidth": 0,
              "ticks": ""
             }
            },
            "type": "scatterpolargl"
           }
          ],
          "scatterternary": [
           {
            "marker": {
             "colorbar": {
              "outlinewidth": 0,
              "ticks": ""
             }
            },
            "type": "scatterternary"
           }
          ],
          "surface": [
           {
            "colorbar": {
             "outlinewidth": 0,
             "ticks": ""
            },
            "colorscale": [
             [
              0,
              "#0d0887"
             ],
             [
              0.1111111111111111,
              "#46039f"
             ],
             [
              0.2222222222222222,
              "#7201a8"
             ],
             [
              0.3333333333333333,
              "#9c179e"
             ],
             [
              0.4444444444444444,
              "#bd3786"
             ],
             [
              0.5555555555555556,
              "#d8576b"
             ],
             [
              0.6666666666666666,
              "#ed7953"
             ],
             [
              0.7777777777777778,
              "#fb9f3a"
             ],
             [
              0.8888888888888888,
              "#fdca26"
             ],
             [
              1,
              "#f0f921"
             ]
            ],
            "type": "surface"
           }
          ],
          "table": [
           {
            "cells": {
             "fill": {
              "color": "#EBF0F8"
             },
             "line": {
              "color": "white"
             }
            },
            "header": {
             "fill": {
              "color": "#C8D4E3"
             },
             "line": {
              "color": "white"
             }
            },
            "type": "table"
           }
          ]
         },
         "layout": {
          "annotationdefaults": {
           "arrowcolor": "#2a3f5f",
           "arrowhead": 0,
           "arrowwidth": 1
          },
          "autotypenumbers": "strict",
          "coloraxis": {
           "colorbar": {
            "outlinewidth": 0,
            "ticks": ""
           }
          },
          "colorscale": {
           "diverging": [
            [
             0,
             "#8e0152"
            ],
            [
             0.1,
             "#c51b7d"
            ],
            [
             0.2,
             "#de77ae"
            ],
            [
             0.3,
             "#f1b6da"
            ],
            [
             0.4,
             "#fde0ef"
            ],
            [
             0.5,
             "#f7f7f7"
            ],
            [
             0.6,
             "#e6f5d0"
            ],
            [
             0.7,
             "#b8e186"
            ],
            [
             0.8,
             "#7fbc41"
            ],
            [
             0.9,
             "#4d9221"
            ],
            [
             1,
             "#276419"
            ]
           ],
           "sequential": [
            [
             0,
             "#0d0887"
            ],
            [
             0.1111111111111111,
             "#46039f"
            ],
            [
             0.2222222222222222,
             "#7201a8"
            ],
            [
             0.3333333333333333,
             "#9c179e"
            ],
            [
             0.4444444444444444,
             "#bd3786"
            ],
            [
             0.5555555555555556,
             "#d8576b"
            ],
            [
             0.6666666666666666,
             "#ed7953"
            ],
            [
             0.7777777777777778,
             "#fb9f3a"
            ],
            [
             0.8888888888888888,
             "#fdca26"
            ],
            [
             1,
             "#f0f921"
            ]
           ],
           "sequentialminus": [
            [
             0,
             "#0d0887"
            ],
            [
             0.1111111111111111,
             "#46039f"
            ],
            [
             0.2222222222222222,
             "#7201a8"
            ],
            [
             0.3333333333333333,
             "#9c179e"
            ],
            [
             0.4444444444444444,
             "#bd3786"
            ],
            [
             0.5555555555555556,
             "#d8576b"
            ],
            [
             0.6666666666666666,
             "#ed7953"
            ],
            [
             0.7777777777777778,
             "#fb9f3a"
            ],
            [
             0.8888888888888888,
             "#fdca26"
            ],
            [
             1,
             "#f0f921"
            ]
           ]
          },
          "colorway": [
           "#636efa",
           "#EF553B",
           "#00cc96",
           "#ab63fa",
           "#FFA15A",
           "#19d3f3",
           "#FF6692",
           "#B6E880",
           "#FF97FF",
           "#FECB52"
          ],
          "font": {
           "color": "#2a3f5f"
          },
          "geo": {
           "bgcolor": "white",
           "lakecolor": "white",
           "landcolor": "#E5ECF6",
           "showlakes": true,
           "showland": true,
           "subunitcolor": "white"
          },
          "hoverlabel": {
           "align": "left"
          },
          "hovermode": "closest",
          "mapbox": {
           "style": "light"
          },
          "paper_bgcolor": "white",
          "plot_bgcolor": "#E5ECF6",
          "polar": {
           "angularaxis": {
            "gridcolor": "white",
            "linecolor": "white",
            "ticks": ""
           },
           "bgcolor": "#E5ECF6",
           "radialaxis": {
            "gridcolor": "white",
            "linecolor": "white",
            "ticks": ""
           }
          },
          "scene": {
           "xaxis": {
            "backgroundcolor": "#E5ECF6",
            "gridcolor": "white",
            "gridwidth": 2,
            "linecolor": "white",
            "showbackground": true,
            "ticks": "",
            "zerolinecolor": "white"
           },
           "yaxis": {
            "backgroundcolor": "#E5ECF6",
            "gridcolor": "white",
            "gridwidth": 2,
            "linecolor": "white",
            "showbackground": true,
            "ticks": "",
            "zerolinecolor": "white"
           },
           "zaxis": {
            "backgroundcolor": "#E5ECF6",
            "gridcolor": "white",
            "gridwidth": 2,
            "linecolor": "white",
            "showbackground": true,
            "ticks": "",
            "zerolinecolor": "white"
           }
          },
          "shapedefaults": {
           "line": {
            "color": "#2a3f5f"
           }
          },
          "ternary": {
           "aaxis": {
            "gridcolor": "white",
            "linecolor": "white",
            "ticks": ""
           },
           "baxis": {
            "gridcolor": "white",
            "linecolor": "white",
            "ticks": ""
           },
           "bgcolor": "#E5ECF6",
           "caxis": {
            "gridcolor": "white",
            "linecolor": "white",
            "ticks": ""
           }
          },
          "title": {
           "x": 0.05
          },
          "xaxis": {
           "automargin": true,
           "gridcolor": "white",
           "linecolor": "white",
           "ticks": "",
           "title": {
            "standoff": 15
           },
           "zerolinecolor": "white",
           "zerolinewidth": 2
          },
          "yaxis": {
           "automargin": true,
           "gridcolor": "white",
           "linecolor": "white",
           "ticks": "",
           "title": {
            "standoff": 15
           },
           "zerolinecolor": "white",
           "zerolinewidth": 2
          }
         }
        }
       }
      },
      "text/html": [
       "<div>                            <div id=\"488b6f88-a652-43e5-be9f-243adc757356\" class=\"plotly-graph-div\" style=\"height:525px; width:100%;\"></div>            <script type=\"text/javascript\">                require([\"plotly\"], function(Plotly) {                    window.PLOTLYENV=window.PLOTLYENV || {};                                    if (document.getElementById(\"488b6f88-a652-43e5-be9f-243adc757356\")) {                    Plotly.newPlot(                        \"488b6f88-a652-43e5-be9f-243adc757356\",                        [{\"legendgroup\":\"09\\u002f04\\u002f2015\",\"legendgrouptitle\":{\"text\":\"Batch 09\\u002f04\\u002f2015\"},\"marker\":{\"color\":[\"blue\",\"blue\",\"blue\",\"blue\"],\"size\":8,\"symbol\":[\"circle\",\"circle\",\"circle\",\"circle\"]},\"mode\":\"markers\",\"name\":\"0-0.5\",\"x\":[-57.36831633160756,-74.83061920087164,-73.91959820928489,-60.75598452389865],\"y\":[-5.369080940933704,15.663657030516854,25.07481272277246,17.61950815728622],\"type\":\"scatter\"},{\"legendgroup\":\"09\\u002f04\\u002f2015\",\"legendgrouptitle\":{\"text\":\"Batch 09\\u002f04\\u002f2015\"},\"marker\":{\"color\":[\"blue\",\"blue\",\"blue\",\"blue\",\"blue\"],\"size\":8,\"symbol\":[\"square\",\"square\",\"square\",\"square\",\"square\"]},\"mode\":\"markers\",\"name\":\"1-2\",\"x\":[34.883982401486186,45.74390674893582,30.414973930598048,28.066068547270007,43.91544677166044],\"y\":[1.7701695456559332,18.85787259122249,-16.40374049658053,21.328082626638345,10.602330624406028],\"type\":\"scatter\"},{\"legendgroup\":\"14\\u002f04\\u002f2016\",\"legendgrouptitle\":{\"text\":\"Batch 14\\u002f04\\u002f2016\"},\"marker\":{\"color\":[\"red\",\"red\",\"red\",\"red\"],\"size\":8,\"symbol\":[\"circle\",\"circle\",\"circle\",\"circle\"]},\"mode\":\"markers\",\"name\":\"0-0.5\",\"x\":[-70.35291004059427,-45.25335585978679,-30.377549683476534,-3.1919915313636187],\"y\":[-15.05876018365394,-24.197786228156076,-2.8748385561586622,-33.47984515530885],\"type\":\"scatter\"},{\"legendgroup\":\"14\\u002f04\\u002f2016\",\"legendgrouptitle\":{\"text\":\"Batch 14\\u002f04\\u002f2016\"},\"marker\":{\"color\":[\"red\",\"red\",\"red\",\"red\",\"red\",\"red\",\"red\",\"red\",\"red\",\"red\",\"red\",\"red\"],\"size\":8,\"symbol\":[\"square\",\"square\",\"square\",\"square\",\"square\",\"square\",\"square\",\"square\",\"square\",\"square\",\"square\",\"square\"]},\"mode\":\"markers\",\"name\":\"1-2\",\"x\":[20.548543839406424,15.212160223700533,26.445926005988074,10.134036306779501,41.09681384799608,40.58707147828313,73.99410485281071,33.981166543147694,48.57638158557994,21.084572312656277,21.646692120322452,-7.490656082302532],\"y\":[-10.193827957862013,35.3363167845621,-14.007967016510346,10.127710549247567,-10.103030294439554,-8.868793152222338,32.9223154014533,-16.555087035296555,-2.1232406020722747,-8.905219425868513,-8.818756307521486,23.847574224619443],\"type\":\"scatter\"},{\"legendgroup\":\"01\\u002f07\\u002f2016\",\"legendgrouptitle\":{\"text\":\"Batch 01\\u002f07\\u002f2016\"},\"marker\":{\"color\":[\"green\",\"green\",\"green\",\"green\",\"green\",\"green\",\"green\",\"green\"],\"size\":8,\"symbol\":[\"circle\",\"circle\",\"circle\",\"circle\",\"circle\",\"circle\",\"circle\",\"circle\"]},\"mode\":\"markers\",\"name\":\"0-0.5\",\"x\":[-16.2298729486431,-68.89851203640816,-41.21775989474596,-71.0140500226057,-71.77620227287798,-50.95964493413554,-81.6084933724295,-40.91154887270422],\"y\":[-21.166869962683435,-37.505307659977795,14.844998542677793,14.661920780588174,-58.377974466702526,-34.82188183719386,-47.65524849959916,53.432797948555866],\"type\":\"scatter\"},{\"legendgroup\":\"01\\u002f07\\u002f2016\",\"legendgrouptitle\":{\"text\":\"Batch 01\\u002f07\\u002f2016\"},\"marker\":{\"color\":[\"green\",\"green\",\"green\",\"green\",\"green\",\"green\",\"green\",\"green\",\"green\",\"green\",\"green\",\"green\",\"green\"],\"size\":8,\"symbol\":[\"square\",\"square\",\"square\",\"square\",\"square\",\"square\",\"square\",\"square\",\"square\",\"square\",\"square\",\"square\",\"square\"]},\"mode\":\"markers\",\"name\":\"1-2\",\"x\":[18.056889764193855,38.27963870601467,48.56804961251049,37.10732513583436,41.758790190243964,45.1804687231692,46.10635639709516,36.52626287728719,22.357559920140847,4.12827351007852,25.205766228883686,0.5929097081013069,23.068675316981434],\"y\":[37.54957104220326,15.425947288843469,-36.04087017853997,-71.98462965169452,-10.048813188910042,41.246057082203706,100.28756934007635,23.754044173318537,6.304826525012618,-43.29951909567407,35.01204654303594,7.340855417857711,66.26794250082271],\"type\":\"scatter\"},{\"legendgroup\":\"14\\u002f11\\u002f2016\",\"legendgrouptitle\":{\"text\":\"Batch 14\\u002f11\\u002f2016\"},\"marker\":{\"color\":[\"orange\",\"orange\",\"orange\",\"orange\",\"orange\",\"orange\",\"orange\",\"orange\"],\"size\":8,\"symbol\":[\"circle\",\"circle\",\"circle\",\"circle\",\"circle\",\"circle\",\"circle\",\"circle\"]},\"mode\":\"markers\",\"name\":\"0-0.5\",\"x\":[-46.80795026534258,-47.96415693489006,-50.38616306061686,-80.83449840579823,-77.57886865492637,-60.51269086066598,-45.29956252306895,-52.309981658044336],\"y\":[-13.420552548152704,19.1110236589317,36.90284748427448,-22.73468229477466,11.25403635939204,16.039307162950404,40.03022130333484,13.016445803531349],\"type\":\"scatter\"},{\"legendgroup\":\"14\\u002f11\\u002f2016\",\"legendgrouptitle\":{\"text\":\"Batch 14\\u002f11\\u002f2016\"},\"marker\":{\"color\":[\"orange\",\"orange\",\"orange\",\"orange\",\"orange\",\"orange\",\"orange\",\"orange\",\"orange\"],\"size\":8,\"symbol\":[\"square\",\"square\",\"square\",\"square\",\"square\",\"square\",\"square\",\"square\",\"square\"]},\"mode\":\"markers\",\"name\":\"1-2\",\"x\":[54.653720784410176,25.45271811383786,42.51291453351588,2.9002438957203576,23.047993479590854,50.886691587345304,43.167890838259055,39.626190068687514,-5.131686374243085],\"y\":[-7.716440715483782,-21.22075375459149,-46.508219859749865,5.0283811376947245,-2.038313572211669,-24.22713973700247,-16.491212809336773,-27.342457197342753,7.419427245867019],\"type\":\"scatter\"},{\"legendgroup\":\"21\\u002f09\\u002f2017\",\"legendgrouptitle\":{\"text\":\"Batch 21\\u002f09\\u002f2017\"},\"marker\":{\"color\":[\"purple\",\"purple\"],\"size\":8,\"symbol\":[\"circle\",\"circle\"]},\"mode\":\"markers\",\"name\":\"0-0.5\",\"x\":[-90.6212787735517,-83.93347296150387],\"y\":[-1.4391815561907346,25.092101163710762],\"type\":\"scatter\"},{\"legendgroup\":\"21\\u002f09\\u002f2017\",\"legendgrouptitle\":{\"text\":\"Batch 21\\u002f09\\u002f2017\"},\"marker\":{\"color\":[\"purple\",\"purple\",\"purple\",\"purple\",\"purple\",\"purple\",\"purple\",\"purple\",\"purple\",\"purple\"],\"size\":8,\"symbol\":[\"square\",\"square\",\"square\",\"square\",\"square\",\"square\",\"square\",\"square\",\"square\",\"square\"]},\"mode\":\"markers\",\"name\":\"1-2\",\"x\":[34.77750907360573,33.67821660355241,33.772549821284436,36.61178719729698,60.97462222882477,-6.732801354811951,37.744418580631326,12.577525408148473,19.120502612898218,39.49586921043561],\"y\":[-5.08814975301833,30.04008310253276,37.82030088088444,-20.446943914679473,-4.774584392028324,-12.06782033298754,-41.34143100541991,38.65841819375218,-52.87032364804304,-52.10222595585971],\"type\":\"scatter\"}],                        {\"template\":{\"data\":{\"histogram2dcontour\":[{\"type\":\"histogram2dcontour\",\"colorbar\":{\"outlinewidth\":0,\"ticks\":\"\"},\"colorscale\":[[0.0,\"#0d0887\"],[0.1111111111111111,\"#46039f\"],[0.2222222222222222,\"#7201a8\"],[0.3333333333333333,\"#9c179e\"],[0.4444444444444444,\"#bd3786\"],[0.5555555555555556,\"#d8576b\"],[0.6666666666666666,\"#ed7953\"],[0.7777777777777778,\"#fb9f3a\"],[0.8888888888888888,\"#fdca26\"],[1.0,\"#f0f921\"]]}],\"choropleth\":[{\"type\":\"choropleth\",\"colorbar\":{\"outlinewidth\":0,\"ticks\":\"\"}}],\"histogram2d\":[{\"type\":\"histogram2d\",\"colorbar\":{\"outlinewidth\":0,\"ticks\":\"\"},\"colorscale\":[[0.0,\"#0d0887\"],[0.1111111111111111,\"#46039f\"],[0.2222222222222222,\"#7201a8\"],[0.3333333333333333,\"#9c179e\"],[0.4444444444444444,\"#bd3786\"],[0.5555555555555556,\"#d8576b\"],[0.6666666666666666,\"#ed7953\"],[0.7777777777777778,\"#fb9f3a\"],[0.8888888888888888,\"#fdca26\"],[1.0,\"#f0f921\"]]}],\"heatmap\":[{\"type\":\"heatmap\",\"colorbar\":{\"outlinewidth\":0,\"ticks\":\"\"},\"colorscale\":[[0.0,\"#0d0887\"],[0.1111111111111111,\"#46039f\"],[0.2222222222222222,\"#7201a8\"],[0.3333333333333333,\"#9c179e\"],[0.4444444444444444,\"#bd3786\"],[0.5555555555555556,\"#d8576b\"],[0.6666666666666666,\"#ed7953\"],[0.7777777777777778,\"#fb9f3a\"],[0.8888888888888888,\"#fdca26\"],[1.0,\"#f0f921\"]]}],\"heatmapgl\":[{\"type\":\"heatmapgl\",\"colorbar\":{\"outlinewidth\":0,\"ticks\":\"\"},\"colorscale\":[[0.0,\"#0d0887\"],[0.1111111111111111,\"#46039f\"],[0.2222222222222222,\"#7201a8\"],[0.3333333333333333,\"#9c179e\"],[0.4444444444444444,\"#bd3786\"],[0.5555555555555556,\"#d8576b\"],[0.6666666666666666,\"#ed7953\"],[0.7777777777777778,\"#fb9f3a\"],[0.8888888888888888,\"#fdca26\"],[1.0,\"#f0f921\"]]}],\"contourcarpet\":[{\"type\":\"contourcarpet\",\"colorbar\":{\"outlinewidth\":0,\"ticks\":\"\"}}],\"contour\":[{\"type\":\"contour\",\"colorbar\":{\"outlinewidth\":0,\"ticks\":\"\"},\"colorscale\":[[0.0,\"#0d0887\"],[0.1111111111111111,\"#46039f\"],[0.2222222222222222,\"#7201a8\"],[0.3333333333333333,\"#9c179e\"],[0.4444444444444444,\"#bd3786\"],[0.5555555555555556,\"#d8576b\"],[0.6666666666666666,\"#ed7953\"],[0.7777777777777778,\"#fb9f3a\"],[0.8888888888888888,\"#fdca26\"],[1.0,\"#f0f921\"]]}],\"surface\":[{\"type\":\"surface\",\"colorbar\":{\"outlinewidth\":0,\"ticks\":\"\"},\"colorscale\":[[0.0,\"#0d0887\"],[0.1111111111111111,\"#46039f\"],[0.2222222222222222,\"#7201a8\"],[0.3333333333333333,\"#9c179e\"],[0.4444444444444444,\"#bd3786\"],[0.5555555555555556,\"#d8576b\"],[0.6666666666666666,\"#ed7953\"],[0.7777777777777778,\"#fb9f3a\"],[0.8888888888888888,\"#fdca26\"],[1.0,\"#f0f921\"]]}],\"mesh3d\":[{\"type\":\"mesh3d\",\"colorbar\":{\"outlinewidth\":0,\"ticks\":\"\"}}],\"scatter\":[{\"fillpattern\":{\"fillmode\":\"overlay\",\"size\":10,\"solidity\":0.2},\"type\":\"scatter\"}],\"parcoords\":[{\"type\":\"parcoords\",\"line\":{\"colorbar\":{\"outlinewidth\":0,\"ticks\":\"\"}}}],\"scatterpolargl\":[{\"type\":\"scatterpolargl\",\"marker\":{\"colorbar\":{\"outlinewidth\":0,\"ticks\":\"\"}}}],\"bar\":[{\"error_x\":{\"color\":\"#2a3f5f\"},\"error_y\":{\"color\":\"#2a3f5f\"},\"marker\":{\"line\":{\"color\":\"#E5ECF6\",\"width\":0.5},\"pattern\":{\"fillmode\":\"overlay\",\"size\":10,\"solidity\":0.2}},\"type\":\"bar\"}],\"scattergeo\":[{\"type\":\"scattergeo\",\"marker\":{\"colorbar\":{\"outlinewidth\":0,\"ticks\":\"\"}}}],\"scatterpolar\":[{\"type\":\"scatterpolar\",\"marker\":{\"colorbar\":{\"outlinewidth\":0,\"ticks\":\"\"}}}],\"histogram\":[{\"marker\":{\"pattern\":{\"fillmode\":\"overlay\",\"size\":10,\"solidity\":0.2}},\"type\":\"histogram\"}],\"scattergl\":[{\"type\":\"scattergl\",\"marker\":{\"colorbar\":{\"outlinewidth\":0,\"ticks\":\"\"}}}],\"scatter3d\":[{\"type\":\"scatter3d\",\"line\":{\"colorbar\":{\"outlinewidth\":0,\"ticks\":\"\"}},\"marker\":{\"colorbar\":{\"outlinewidth\":0,\"ticks\":\"\"}}}],\"scattermapbox\":[{\"type\":\"scattermapbox\",\"marker\":{\"colorbar\":{\"outlinewidth\":0,\"ticks\":\"\"}}}],\"scatterternary\":[{\"type\":\"scatterternary\",\"marker\":{\"colorbar\":{\"outlinewidth\":0,\"ticks\":\"\"}}}],\"scattercarpet\":[{\"type\":\"scattercarpet\",\"marker\":{\"colorbar\":{\"outlinewidth\":0,\"ticks\":\"\"}}}],\"carpet\":[{\"aaxis\":{\"endlinecolor\":\"#2a3f5f\",\"gridcolor\":\"white\",\"linecolor\":\"white\",\"minorgridcolor\":\"white\",\"startlinecolor\":\"#2a3f5f\"},\"baxis\":{\"endlinecolor\":\"#2a3f5f\",\"gridcolor\":\"white\",\"linecolor\":\"white\",\"minorgridcolor\":\"white\",\"startlinecolor\":\"#2a3f5f\"},\"type\":\"carpet\"}],\"table\":[{\"cells\":{\"fill\":{\"color\":\"#EBF0F8\"},\"line\":{\"color\":\"white\"}},\"header\":{\"fill\":{\"color\":\"#C8D4E3\"},\"line\":{\"color\":\"white\"}},\"type\":\"table\"}],\"barpolar\":[{\"marker\":{\"line\":{\"color\":\"#E5ECF6\",\"width\":0.5},\"pattern\":{\"fillmode\":\"overlay\",\"size\":10,\"solidity\":0.2}},\"type\":\"barpolar\"}],\"pie\":[{\"automargin\":true,\"type\":\"pie\"}]},\"layout\":{\"autotypenumbers\":\"strict\",\"colorway\":[\"#636efa\",\"#EF553B\",\"#00cc96\",\"#ab63fa\",\"#FFA15A\",\"#19d3f3\",\"#FF6692\",\"#B6E880\",\"#FF97FF\",\"#FECB52\"],\"font\":{\"color\":\"#2a3f5f\"},\"hovermode\":\"closest\",\"hoverlabel\":{\"align\":\"left\"},\"paper_bgcolor\":\"white\",\"plot_bgcolor\":\"#E5ECF6\",\"polar\":{\"bgcolor\":\"#E5ECF6\",\"angularaxis\":{\"gridcolor\":\"white\",\"linecolor\":\"white\",\"ticks\":\"\"},\"radialaxis\":{\"gridcolor\":\"white\",\"linecolor\":\"white\",\"ticks\":\"\"}},\"ternary\":{\"bgcolor\":\"#E5ECF6\",\"aaxis\":{\"gridcolor\":\"white\",\"linecolor\":\"white\",\"ticks\":\"\"},\"baxis\":{\"gridcolor\":\"white\",\"linecolor\":\"white\",\"ticks\":\"\"},\"caxis\":{\"gridcolor\":\"white\",\"linecolor\":\"white\",\"ticks\":\"\"}},\"coloraxis\":{\"colorbar\":{\"outlinewidth\":0,\"ticks\":\"\"}},\"colorscale\":{\"sequential\":[[0.0,\"#0d0887\"],[0.1111111111111111,\"#46039f\"],[0.2222222222222222,\"#7201a8\"],[0.3333333333333333,\"#9c179e\"],[0.4444444444444444,\"#bd3786\"],[0.5555555555555556,\"#d8576b\"],[0.6666666666666666,\"#ed7953\"],[0.7777777777777778,\"#fb9f3a\"],[0.8888888888888888,\"#fdca26\"],[1.0,\"#f0f921\"]],\"sequentialminus\":[[0.0,\"#0d0887\"],[0.1111111111111111,\"#46039f\"],[0.2222222222222222,\"#7201a8\"],[0.3333333333333333,\"#9c179e\"],[0.4444444444444444,\"#bd3786\"],[0.5555555555555556,\"#d8576b\"],[0.6666666666666666,\"#ed7953\"],[0.7777777777777778,\"#fb9f3a\"],[0.8888888888888888,\"#fdca26\"],[1.0,\"#f0f921\"]],\"diverging\":[[0,\"#8e0152\"],[0.1,\"#c51b7d\"],[0.2,\"#de77ae\"],[0.3,\"#f1b6da\"],[0.4,\"#fde0ef\"],[0.5,\"#f7f7f7\"],[0.6,\"#e6f5d0\"],[0.7,\"#b8e186\"],[0.8,\"#7fbc41\"],[0.9,\"#4d9221\"],[1,\"#276419\"]]},\"xaxis\":{\"gridcolor\":\"white\",\"linecolor\":\"white\",\"ticks\":\"\",\"title\":{\"standoff\":15},\"zerolinecolor\":\"white\",\"automargin\":true,\"zerolinewidth\":2},\"yaxis\":{\"gridcolor\":\"white\",\"linecolor\":\"white\",\"ticks\":\"\",\"title\":{\"standoff\":15},\"zerolinecolor\":\"white\",\"automargin\":true,\"zerolinewidth\":2},\"scene\":{\"xaxis\":{\"backgroundcolor\":\"#E5ECF6\",\"gridcolor\":\"white\",\"linecolor\":\"white\",\"showbackground\":true,\"ticks\":\"\",\"zerolinecolor\":\"white\",\"gridwidth\":2},\"yaxis\":{\"backgroundcolor\":\"#E5ECF6\",\"gridcolor\":\"white\",\"linecolor\":\"white\",\"showbackground\":true,\"ticks\":\"\",\"zerolinecolor\":\"white\",\"gridwidth\":2},\"zaxis\":{\"backgroundcolor\":\"#E5ECF6\",\"gridcolor\":\"white\",\"linecolor\":\"white\",\"showbackground\":true,\"ticks\":\"\",\"zerolinecolor\":\"white\",\"gridwidth\":2}},\"shapedefaults\":{\"line\":{\"color\":\"#2a3f5f\"}},\"annotationdefaults\":{\"arrowcolor\":\"#2a3f5f\",\"arrowhead\":0,\"arrowwidth\":1},\"geo\":{\"bgcolor\":\"white\",\"landcolor\":\"#E5ECF6\",\"subunitcolor\":\"white\",\"showland\":true,\"showlakes\":true,\"lakecolor\":\"white\"},\"title\":{\"x\":0.05},\"mapbox\":{\"style\":\"light\"}}}},                        {\"responsive\": true}                    ).then(function(){\n",
       "                            \n",
       "var gd = document.getElementById('488b6f88-a652-43e5-be9f-243adc757356');\n",
       "var x = new MutationObserver(function (mutations, observer) {{\n",
       "        var display = window.getComputedStyle(gd).display;\n",
       "        if (!display || display === 'none') {{\n",
       "            console.log([gd, 'removed!']);\n",
       "            Plotly.purge(gd);\n",
       "            observer.disconnect();\n",
       "        }}\n",
       "}});\n",
       "\n",
       "// Listen for the removal of the full notebook cells\n",
       "var notebookContainer = gd.closest('#notebook-container');\n",
       "if (notebookContainer) {{\n",
       "    x.observe(notebookContainer, {childList: true});\n",
       "}}\n",
       "\n",
       "// Listen for the clearing of the current output cell\n",
       "var outputEl = gd.closest('.output');\n",
       "if (outputEl) {{\n",
       "    x.observe(outputEl, {childList: true});\n",
       "}}\n",
       "\n",
       "                        })                };                });            </script>        </div>"
      ]
     },
     "metadata": {},
     "output_type": "display_data"
    }
   ],
   "source": [
    "otu_corrected_pd = pd.concat(\n",
    "    [\n",
    "        pd.DataFrame(np_recon_data, index=data.index, columns=data.select_dtypes(\"number\").columns),\n",
    "        data[batch_label],\n",
    "        data[exp_label],\n",
    "        data[sample_label],\n",
    "    ],\n",
    "    axis=1,\n",
    ")\n",
    "\n",
    "plotPCoA(\n",
    "    otu_corrected_pd,\n",
    "    method=\"aitchison\",\n",
    "    sample_label=sample_label,\n",
    "    batch_label=batch_label,\n",
    "    experiment_label=exp_label,\n",
    ")"
   ]
  },
  {
   "cell_type": "code",
   "execution_count": 68,
   "metadata": {},
   "outputs": [
    {
     "data": {
      "image/png": "[encoded data removed]",
      "text/plain": [
       "<Figure size 800x800 with 1 Axes>"
      ]
     },
     "metadata": {},
     "output_type": "display_data"
    }
   ],
   "source": [
    "ohe_batch = one_hot_encoding(data[exp_label])[0]\n",
    "\n",
    "# Get PCA of posterior distribution\n",
    "z_pca = []\n",
    "for x in train_dataloader:\n",
    "    x = x[0].to(device)\n",
    "    pca = vae_model.pca_posterior(x)\n",
    "    z_pca.append(pca)\n",
    "\n",
    "# Plot PCA from sample\n",
    "z_stacked = np.vstack(z_pca)\n",
    "\n",
    "# Sample from prior distribtution for countour plot\n",
    "prior_sample = vae_model.pca_prior(n_samples=1000)\n",
    "\n",
    "# scatter = plt.scatter(z_stacked[:, 0], z_stacked[:, 1], c=torch.cat(labels).numpy(), cmap='tab10', alpha=0.7)\n",
    "# cbar = plt.colorbar(scatter, boundaries = np.arange(11)-0.5)\n",
    "# cbar.set_ticks(np.arange(10))\n",
    "# cbar.set_ticklabels(np.arange(10))\n",
    "# cbar.set_label('Label')\n",
    "\n",
    "# Plot posterior into prior contour surface plot\n",
    "\n",
    "plt.figure(figsize=(8, 8))\n",
    "contour = contour_plot(prior_sample, n_levels=10, x_offset=5, y_offset=5, alpha=1)\n",
    "scatter = plt.scatter(\n",
    "    z_stacked[:, 0],\n",
    "    z_stacked[:, 1],\n",
    "    alpha=1,\n",
    "    c=ohe_batch.detach().cpu().numpy().argmax(axis=1),\n",
    "    cmap=\"Paired\",\n",
    "    s=8,\n",
    ")\n",
    "\n",
    "# plt.xlim([-20, 30])\n",
    "# plt.ylim([-10, 10])\n",
    "\n",
    "plt.show()"
   ]
  }
 ],
 "metadata": {
  "kernelspec": {
   "display_name": "BECA",
   "language": "python",
   "name": "python3"
  },
  "language_info": {
   "codemirror_mode": {
    "name": "ipython",
    "version": 3
   },
   "file_extension": ".py",
   "mimetype": "text/x-python",
   "name": "python",
   "nbconvert_exporter": "python",
   "pygments_lexer": "ipython3",
   "version": "3.12.8"
  }
 },
 "nbformat": 4,
 "nbformat_minor": 2
}
