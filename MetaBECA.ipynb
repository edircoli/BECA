{
 "cells": [
  {
   "cell_type": "markdown",
   "metadata": {},
   "source": [
    "### Libraries"
   ]
  },
  {
   "cell_type": "code",
   "execution_count": 9,
   "metadata": {},
   "outputs": [],
   "source": [
    "#Essentials\n",
    "import torch\n",
    "import torch.nn as nn\n",
    "import torch.optim as optim\n",
    "from sklearn.model_selection import train_test_split\n",
    "from torch.utils.data import DataLoader, Subset, TensorDataset\n",
    "from torchvision import datasets, transforms\n",
    "import matplotlib.pyplot as plt\n",
    "import numpy as np\n",
    "import os\n",
    "from umap import UMAP\n",
    "\n",
    "#User libraries\n",
    "from BatchEffectDataLoader import DataPreprocess, DataTransform"
   ]
  },
  {
   "cell_type": "markdown",
   "metadata": {},
   "source": [
    "### Autoencoder class"
   ]
  },
  {
   "cell_type": "code",
   "execution_count": 16,
   "metadata": {},
   "outputs": [],
   "source": [
    "class Autoencoder(nn.Module):\n",
    "    def __init__(self, d_z = 10, input_size = 24, batch_size = 2):\n",
    "        super().__init__()\n",
    "        self.d_z = d_z\n",
    "        self.input_size = input_size\n",
    "        self.batch_size = batch_size\n",
    "        self.encoder = nn.Sequential(\n",
    "            nn.Linear(input_size, 128),\n",
    "            nn.Linear(128, 64),\n",
    "            nn.Linear(64, d_z)\n",
    "        )\n",
    "\n",
    "        self.decoder = nn.Sequential(\n",
    "            nn.Linear(d_z, 64),\n",
    "            nn.Linear(64, 128),\n",
    "            nn.Linear(128, input_size)\n",
    "        )\n",
    "\n",
    "    def forward(self, x):\n",
    "        x = x.view(-1, self.input_size)\n",
    "        z = self.encoder(x)\n",
    "        decoded = self.decoder(z)\n",
    "        return decoded.view(-1, self.input_size)\n",
    "    \n",
    "    def encode(self, x):\n",
    "        x = x.view(-1, self.input_size)\n",
    "        return self.encoder(x)\n",
    "    \n",
    "    def decode(self, z):\n",
    "        return self.decoder(z)"
   ]
  },
  {
   "cell_type": "markdown",
   "metadata": {},
   "source": [
    "### Train model function"
   ]
  },
  {
   "cell_type": "code",
   "execution_count": 20,
   "metadata": {},
   "outputs": [],
   "source": [
    "def train_model(\n",
    "        model,\n",
    "        train_loader,\n",
    "        criterion,\n",
    "        optimizer,\n",
    "        num_epochs,\n",
    "        device,\n",
    "        val_loader = None,\n",
    "        test_loader = None,\n",
    "        model_name = \"model\",\n",
    "        save_model = False\n",
    "):\n",
    "    train_losses = []\n",
    "    test_losses = []\n",
    "    val_losses = []\n",
    "    lowest_val_loss = float('inf')\n",
    "    best_epoch = -1\n",
    "    best_model_state = None\n",
    "\n",
    "    for epoch in range(num_epochs):\n",
    "        #Training\n",
    "        model.train()\n",
    "        train_loss = 0.0\n",
    "        for x in train_loader:\n",
    "            #Forward pass\n",
    "            x = x.to(device)\n",
    "            out = model(x)\n",
    "\n",
    "            #Backpropagation\n",
    "            loss = criterion(out, x)\n",
    "            optimizer.zero_grad()\n",
    "            loss.backward()\n",
    "            optimizer.step()\n",
    "\n",
    "            #Save loss values\n",
    "            train_loss += loss.item()\n",
    "        train_loss /= len(train_loader)\n",
    "        train_losses.append(train_loss)\n",
    "\n",
    "        #Validation\n",
    "        model.eval()\n",
    "        if isinstance(val_loader, DataLoader):\n",
    "            val_loss = 0.0\n",
    "            with torch.no_grad():\n",
    "                for x in val_loader:\n",
    "                    #Forward pass\n",
    "                    x = x.to(device)\n",
    "                    out = model(x)\n",
    "\n",
    "                    #Save loss values\n",
    "                    loss = criterion(out, x)\n",
    "                    val_loss += loss.item()\n",
    "                \n",
    "            val_loss /= len(val_loader)\n",
    "            val_losses.append(val_loss)\n",
    "\n",
    "            if val_loss < lowest_val_loss:\n",
    "                lowest_val_loss = val_loss\n",
    "                best_epoch = epoch\n",
    "                best_model_state = model.state_dict()\n",
    "            print(f\"Epoch {epoch + 1}/{num_epochs} | Train Loss: {train_loss:.4f} | Val Loss: {val_loss:.4f}\")\n",
    "        \n",
    "        else:\n",
    "            print(f\"Epoch {epoch + 1}/{num_epochs} | Train Loss: {train_loss:.4f}\")\n",
    "\n",
    "    #Testing\n",
    "    if isinstance(test_loader, DataLoader):\n",
    "        test_loss = 0.0\n",
    "        with torch.no_grad():\n",
    "            for x in test_loader:\n",
    "                #Forward pass\n",
    "                x = x.to(device)\n",
    "                out = model(x)\n",
    "\n",
    "                #Save loss values\n",
    "                loss = criterion(out, x)\n",
    "                test_loss += loss.item()\n",
    "        \n",
    "        test_loss /= len(test_loader)\n",
    "        test_losses.append(test_loss)\n",
    "        print(f\"Test Loss: {test_loss:.4f}\")\n",
    "\n",
    "    if save_model == True:\n",
    "        script_path = os.getcwd()\n",
    "        dest = os.path.join(script_path, f'model_weights/{model_name}_best.pth')\n",
    "        if not os.path.exists(os.path.dirname(dest)):\n",
    "            os.makedirs(os.path.dirname(dest), exist_ok=True)\n",
    "        torch.save(best_model_state, dest)\n",
    "\n",
    "    return train_losses, val_losses, test_losses, best_epoch"
   ]
  },
  {
   "cell_type": "markdown",
   "metadata": {},
   "source": [
    "### Dataloader"
   ]
  },
  {
   "cell_type": "code",
   "execution_count": 21,
   "metadata": {},
   "outputs": [],
   "source": [
    "#Load and preprocess data\n",
    "path = \"data/dataset_sponge.csv\"\n",
    "data = DataTransform(DataPreprocess(path))\n",
    "\n",
    "#Convert data to tensor (desired structure: tensor([otus], [tissue], [batch]))\n",
    "otu_data = data.select_dtypes(include = \"number\")\n",
    "otu_tensor = torch.tensor(otu_data.values, dtype = torch.float32)\n",
    "ohe_tissue = data[\"tissue\"]\n",
    "ohe_batch = data[\"batch\"]\n",
    "\n",
    "# dataloader = DataLoader(TensorDataset(otu_tensor), batch_size = 32) #this should be the correct way to define it\n",
    "dataloader = DataLoader(otu_tensor, batch_size = 32)"
   ]
  },
  {
   "cell_type": "markdown",
   "metadata": {},
   "source": [
    "### Training loop"
   ]
  },
  {
   "cell_type": "code",
   "execution_count": 22,
   "metadata": {},
   "outputs": [
    {
     "name": "stdout",
     "output_type": "stream",
     "text": [
      "Using cpu\n",
      "Epoch 1/20 | Train Loss: 78.1985\n",
      "Epoch 2/20 | Train Loss: 76.4306\n",
      "Epoch 3/20 | Train Loss: 74.1178\n",
      "Epoch 4/20 | Train Loss: 70.6355\n",
      "Epoch 5/20 | Train Loss: 65.9253\n",
      "Epoch 6/20 | Train Loss: 60.1548\n",
      "Epoch 7/20 | Train Loss: 53.7175\n",
      "Epoch 8/20 | Train Loss: 47.3269\n",
      "Epoch 9/20 | Train Loss: 42.0864\n",
      "Epoch 10/20 | Train Loss: 39.2228\n",
      "Epoch 11/20 | Train Loss: 38.6762\n",
      "Epoch 12/20 | Train Loss: 38.4233\n",
      "Epoch 13/20 | Train Loss: 37.4208\n",
      "Epoch 14/20 | Train Loss: 36.1617\n",
      "Epoch 15/20 | Train Loss: 35.2338\n",
      "Epoch 16/20 | Train Loss: 34.7897\n",
      "Epoch 17/20 | Train Loss: 34.7088\n",
      "Epoch 18/20 | Train Loss: 34.8039\n",
      "Epoch 19/20 | Train Loss: 34.9119\n",
      "Epoch 20/20 | Train Loss: 34.9190\n"
     ]
    }
   ],
   "source": [
    "#Setting up device\n",
    "device = torch.device(\"cuda\" if torch.cuda.is_available() else \"cpu\")\n",
    "num_epochs=20\n",
    "print(f\"Using {device}\")\n",
    "\n",
    "#Defining autoencoder and optimizer\n",
    "d_z = 2\n",
    "autoencoder = Autoencoder(d_z=d_z).to(device)\n",
    "criterion = nn.MSELoss()\n",
    "optimizer = torch.optim.Adam(autoencoder.parameters(), lr=1e-3, weight_decay=1e-5)\n",
    "\n",
    "#Training loop\n",
    "train_losses, val_losses, test_losses, best_epoch = train_model(\n",
    "    model=autoencoder,\n",
    "    train_loader=dataloader,\n",
    "    criterion=criterion,\n",
    "    optimizer=optimizer,\n",
    "    num_epochs=num_epochs,\n",
    "    device=device,\n",
    "    model_name=\"autoencoder\" \n",
    ")"
   ]
  }
 ],
 "metadata": {
  "kernelspec": {
   "display_name": "BECA",
   "language": "python",
   "name": "python3"
  },
  "language_info": {
   "codemirror_mode": {
    "name": "ipython",
    "version": 3
   },
   "file_extension": ".py",
   "mimetype": "text/x-python",
   "name": "python",
   "nbconvert_exporter": "python",
   "pygments_lexer": "ipython3",
   "version": "3.12.8"
  }
 },
 "nbformat": 4,
 "nbformat_minor": 2
}
