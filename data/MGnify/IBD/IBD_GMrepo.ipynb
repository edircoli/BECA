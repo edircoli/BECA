{
 "cells": [
  {
   "cell_type": "markdown",
   "id": "f1ec3ae5",
   "metadata": {},
   "source": [
    "This notebook is being used for the preparation of 2 different studies from MGnify which where curated on GMrepo. Information regarding phenotype (IBD or healthy) is being used for biological group of interest."
   ]
  },
  {
   "cell_type": "markdown",
   "id": "627db5d0",
   "metadata": {},
   "source": [
    "### Loading packages"
   ]
  },
  {
   "cell_type": "code",
   "execution_count": 1,
   "id": "0a8cb038",
   "metadata": {},
   "outputs": [],
   "source": [
    "import pandas as pd\n",
    "import numpy as np"
   ]
  },
  {
   "cell_type": "markdown",
   "id": "2b96654d",
   "metadata": {},
   "source": [
    "### Loading data"
   ]
  },
  {
   "cell_type": "code",
   "execution_count": 31,
   "id": "8870c961",
   "metadata": {},
   "outputs": [],
   "source": [
    "study_1_meta = pd.read_csv(\n",
    "    \"metadata/all_runs_in_project_PRJNA389280.tsv\", sep=\"\\t\", index_col=False\n",
    ")\n",
    "study_1_meta = study_1_meta[[\"run ID\", \"associated phenotype\", \"project ID\", \"sex\"]]\n",
    "\n",
    "phenotypes = {\n",
    "    \"D003424\": \"CD\",\n",
    "    \"D003093\": \"UC\",\n",
    "    \"D006262\": \"nonIBD\",\n",
    "}\n",
    "\n",
    "study_1_meta[\"associated phenotype\"] = (\n",
    "    study_1_meta[\"associated phenotype\"]\n",
    "    .map(phenotypes)\n",
    "    .fillna(study_1_meta[\"associated phenotype\"])  # keep originals if not in mapping\n",
    ")\n",
    "\n",
    "study_2_meta = pd.read_csv(\"metadata/sra_run_PRJNA398089.csv\", index_col=False)\n",
    "study_2_meta = study_2_meta.rename(\n",
    "    columns={\n",
    "        \"Run\": \"run ID\",\n",
    "        \"Host_disease\": \"associated phenotype\",\n",
    "        \"BioProject\": \"project ID\",\n",
    "        \"host_sex\": \"sex\",\n",
    "    }\n",
    ")\n",
    "\n",
    "study_2_meta[\"sex\"] = study_2_meta[\"sex\"].str.capitalize()\n",
    "\n",
    "study_2_meta = study_2_meta[\n",
    "    [\"run ID\", \"associated phenotype\", \"project ID\", \"sex\"]\n",
    "]\n",
    "\n",
    "study_1_count = pd.read_csv(\n",
    "    \"count_data/PRJNA389280_taxonomy_abundances_SSU_v4.1.tsv\",\n",
    "    sep=\"\\t\",\n",
    "    index_col=\"#SampleID\",\n",
    ").transpose()\n",
    "study_2_count = pd.read_csv(\n",
    "    \"count_data/PRJNA398089_taxonomy_abundances_SSU_v5.0.tsv\",\n",
    "    sep=\"\\t\",\n",
    "    index_col=\"#SampleID\",\n",
    ").transpose()\n",
    "\n",
    "study_1_count.index.name = \"#SampleID\"\n",
    "study_1_count = study_1_count.reset_index()\n",
    "study_1_count = study_1_count.rename(columns={\"#SampleID\": \"run ID\"})\n",
    "\n",
    "study_2_count.index.name = \"#SampleID\"\n",
    "study_2_count = study_2_count.reset_index()\n",
    "study_2_count = study_2_count.rename(columns={\"#SampleID\": \"run ID\"})"
   ]
  },
  {
   "cell_type": "markdown",
   "id": "b87037c9",
   "metadata": {},
   "source": [
    "### Merging dataframes"
   ]
  },
  {
   "cell_type": "code",
   "execution_count": 43,
   "id": "48d21827",
   "metadata": {},
   "outputs": [
    {
     "data": {
      "text/plain": [
       "Index(['run ID', 'associated phenotype', 'project ID', 'sex',\n",
       "       'sk__Archaea;k__;p__Euryarchaeota;c__Methanobacteria;o__Methanobacteriales;f__Methanobacteriaceae;g__Methanobrevibacter',\n",
       "       'sk__Archaea;k__;p__Euryarchaeota;c__Thermoplasmata;o__Methanomassiliicoccales;f__Methanomassiliicoccaceae;g__Methanomassiliicoccus',\n",
       "       'sk__Bacteria', 'sk__Bacteria;k__;p__Acidobacteria',\n",
       "       'sk__Bacteria;k__;p__Acidobacteria;c__Acidobacteriia',\n",
       "       'sk__Bacteria;k__;p__Acidobacteria;c__Acidobacteriia;o__Acidobacteriales',\n",
       "       ...\n",
       "       'sk__Bacteria;k__;p__Verrucomicrobia;c__Verrucomicrobiae;o__Verrucomicrobiales',\n",
       "       'sk__Bacteria;k__;p__Verrucomicrobia;c__Verrucomicrobiae;o__Verrucomicrobiales;f__Akkermansiaceae',\n",
       "       'sk__Bacteria;k__;p__Verrucomicrobia;c__Verrucomicrobiae;o__Verrucomicrobiales;f__Akkermansiaceae;g__Akkermansia',\n",
       "       'sk__Bacteria;k__;p__Verrucomicrobia;c__Verrucomicrobiae;o__Verrucomicrobiales;f__Akkermansiaceae;g__Akkermansia;s__Akkermansia_muciniphila',\n",
       "       'sk__Bacteria;k__;p__Verrucomicrobia;c__Verrucomicrobiae;o__Verrucomicrobiales;f__Verrucomicrobiaceae',\n",
       "       'sk__Eukaryota;k__Fungi;p__Basidiomycota',\n",
       "       'sk__Eukaryota;k__Fungi;p__Basidiomycota;c__Malasseziomycetes;o__Malasseziales;f__Malasseziaceae;g__Malassezia',\n",
       "       'sk__Eukaryota;k__Metazoa',\n",
       "       'sk__Eukaryota;k__Metazoa;p__Chordata;c__Mammalia',\n",
       "       'sk__Eukaryota;k__Viridiplantae'],\n",
       "      dtype='object', length=439)"
      ]
     },
     "execution_count": 43,
     "metadata": {},
     "output_type": "execute_result"
    }
   ],
   "source": [
    "merged_df_1 = pd.merge(study_1_meta, study_1_count, on=\"run ID\")\n",
    "merged_df_2 = pd.merge(study_2_meta, study_2_count, on=\"run ID\")\n",
    "\n",
    "shared_columns = merged_df_1.columns.intersection(merged_df_2.columns)\n",
    "only_df_1 = merged_df_1.columns.difference(merged_df_2.columns)\n",
    "only_df_2 = merged_df_2.columns.difference(merged_df_1.columns)\n",
    "\n",
    "merged_ibd_df = pd.concat([merged_df_1, merged_df_2],\n",
    "                          axis = 0,\n",
    "                          ignore_index=True,\n",
    "                          sort=False,\n",
    "                          join=\"inner\")\n",
    "\n",
    "# merged_ibd_df.to_csv(\"IBD_dataset.csv\", index=False)\n",
    "shared_columns"
   ]
  }
 ],
 "metadata": {
  "kernelspec": {
   "display_name": "BECA",
   "language": "python",
   "name": "python3"
  },
  "language_info": {
   "codemirror_mode": {
    "name": "ipython",
    "version": 3
   },
   "file_extension": ".py",
   "mimetype": "text/x-python",
   "name": "python",
   "nbconvert_exporter": "python",
   "pygments_lexer": "ipython3",
   "version": "3.12.8"
  }
 },
 "nbformat": 4,
 "nbformat_minor": 5
}
