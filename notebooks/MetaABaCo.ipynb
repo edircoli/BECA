{
 "cells": [
  {
   "cell_type": "markdown",
   "metadata": {},
   "source": [
    "### Introduction"
   ]
  },
  {
   "cell_type": "markdown",
   "metadata": {},
   "source": [
    "This is MetaABaCo: A Variational Autoencoder Batch Correction algorithm. It uses the Encoder to extract only biological relevant information from the data while keeping apart batch variability from it. This is achieved by using a batch discriminator for adversarial training. The batch would try to correcly classify the batch label from the encoder output (latent space) while the encoder would try to confuse the discriminator by leaving appart as much batch information as possible. The decoder would work as a data recovery step, where it would reconstruct the data from the latent space. The prior distribution used is the Mixture of Gaussians (MoG) that can be useful for the latent space to retain the biological significance at all times. The biological significance is also assured to be retained by training a classifier that is able to distinguish the cofounding variable labels from the samples on the latent space. This is an attempt to make the original ABaCo algorithm, which is based on a simple autoencoder, into a probabilistic approach that tries to resemble the data on distributions divergence rather than MSE losses. "
   ]
  },
  {
   "cell_type": "markdown",
   "metadata": {},
   "source": [
    "### Libraries"
   ]
  },
  {
   "cell_type": "code",
   "execution_count": null,
   "metadata": {},
   "outputs": [],
   "source": [
    "#Essentials\n",
    "import torch\n",
    "import torch.nn as nn\n",
    "import torch.optim as optim\n",
    "from torch.distributions import Normal, kl_divergence, NegativeBinomial, Bernoulli, Categorical\n",
    "from sklearn.model_selection import train_test_split\n",
    "from sklearn.decomposition import PCA\n",
    "from torch.utils.data import DataLoader, Subset, ConcatDataset, TensorDataset\n",
    "from torchvision import datasets, transforms\n",
    "import matplotlib.pyplot as plt\n",
    "import numpy as np\n",
    "import pandas as pd\n",
    "import os\n",
    "from umap import UMAP\n",
    "\n",
    "#User libraries\n",
    "from BatchEffectDataLoader import DataPreprocess, DataTransform, ABaCoDataLoader\n",
    "from BatchEffectCorrection import correctCombat\n",
    "from BatchEffectPlots import plotPCA, plotPCoA\n",
    "from BatchEffectMetrics import kBET, iLISI, cLISI, ARI, ASW\n",
    "from ABaCo import ABaCo, BatchDiscriminator, TissueClassifier, DataDiscriminator\n",
    "from MetaABaCo import NormalPrior, NormalEncoder, ZINBDecoder"
   ]
  },
  {
   "cell_type": "markdown",
   "metadata": {},
   "source": [
    "### Variational Autoencoder class"
   ]
  },
  {
   "cell_type": "code",
   "execution_count": null,
   "metadata": {},
   "outputs": [],
   "source": [
    "# Encoder class for the ABaCo model - MoG parameters are encoded\n",
    "class ABaCoEncoder(nn.Module):\n",
    "    def __init__(self, input_size, batch_size, d_z,\n",
    "                 hl1 = 1028, hl2 = 512, hl3 = 256):\n",
    "        super().__init__()\n",
    "        self.d_z = d_z\n",
    "        # self.n_comp = n_comp\n",
    "        self.input_size = input_size\n",
    "        self.batch_size = batch_size\n",
    "        self.encode = nn.Sequential(\n",
    "            nn.Linear(input_size + batch_size, hl1),\n",
    "            nn.LeakyReLU(),\n",
    "            nn.Linear(hl1, hl2),\n",
    "            nn.LeakyReLU(),\n",
    "            nn.Linear(hl2, hl3),\n",
    "            nn.LeakyReLU()\n",
    "        )\n",
    "        ### FOR MOG PRIOR ###\n",
    "        # self.fc_pi = nn.Linear(hl3, n_comp)\n",
    "        # self.fc_mu = nn.Linear(hl3, d_z * n_comp)\n",
    "        # self.fc_logvar = nn.Linear(hl3, d_z * n_comp)\n",
    "\n",
    "        ### FOR NORMAL PRIOR ###\n",
    "        self.fc_mu = nn.Linear(hl3, d_z)\n",
    "        self.fc_logvar = nn.Linear(hl3, d_z)\n",
    "    \n",
    "    def forward(self, x):\n",
    "        encoded = self.encode(x)\n",
    "\n",
    "        ### FOR MOG PRIOR ###\n",
    "        # mu = self.fc_mu(encoded).view(-1, self.d_z, self.n_comp)\n",
    "        # logvar = self.fc_logvar(encoded).view(-1, self.d_z, self.n_comp)\n",
    "        # pi = nn.functional.softmax(self.fc_pi(encoded), dim=-1).clamp(min=1e-8)\n",
    "        # Re-normalize to ensure the probabilities sum to 1:\n",
    "        # pi = pi / pi.sum(dim=-1, keepdim=True)\n",
    "        # return mu, logvar, pi\n",
    "\n",
    "        ### FOR NORMAL PRIOR ###\n",
    "        mu = self.fc_mu(encoded)\n",
    "        logvar = self.fc_logvar(encoded)\n",
    "\n",
    "        return mu, logvar\n",
    "\n",
    "#Decoder class for the ABaCo model - ZINB is used, so the output would be the parameters of the distribution\n",
    "class ABaCoDecoder(nn.Module):\n",
    "    def __init__(self, output_size, d_z, n_comp,\n",
    "                 hl1 = 256, hl2 = 512, hl3 = 1028):\n",
    "        super().__init__()\n",
    "        self.d_z = d_z\n",
    "        self.n_comp = n_comp\n",
    "        self.output_size = output_size\n",
    "        self.decode = nn.Sequential(\n",
    "            nn.Linear(d_z, hl1),\n",
    "            nn.LeakyReLU(),\n",
    "            nn.Linear(hl1, hl2),\n",
    "            nn.LeakyReLU(),\n",
    "            nn.Linear(hl2, hl3),\n",
    "            nn.LeakyReLU()\n",
    "        )\n",
    "        self.fc_mu = nn.Linear(hl3, output_size)\n",
    "        self.fc_logtheta = nn.Linear(hl3, output_size)\n",
    "        self.fc_pi = nn.Linear(hl3, output_size)\n",
    "    \n",
    "    # Reparameterization trick to sample z ~ MoG(z | mu, logvar, pi)\n",
    "    def reparameterize(self, mu, logvar):\n",
    "\n",
    "        ### FOR MOG PRIOR ###\n",
    "\n",
    "        #   mu and logvar are of shape (batch_size, d_z, n_comp)\n",
    "        #   pi is of shape (batch_size, n_comp) and is already softmaxed.\n",
    "        # batch_size = mu.size(0)\n",
    "        \n",
    "        # # Sample one component index per sample (shape: (batch_size, 1))\n",
    "        # comp_idx = torch.multinomial(pi, num_samples=1).squeeze(1)\n",
    "        \n",
    "        # # Create batch indices\n",
    "        # batch_idx = torch.arange(batch_size)\n",
    "        \n",
    "        # # Select the corresponding mu and logvar for each sample's chosen component.\n",
    "        # chosen_mu = mu[batch_idx, :, comp_idx]       # shape: (batch_size, d_z)\n",
    "        # chosen_logvar = logvar[batch_idx, :, comp_idx] # shape: (batch_size, d_z)\n",
    "        \n",
    "        # # Reparameterize\n",
    "        # eps = torch.randn_like(chosen_mu)\n",
    "        # z = chosen_mu + eps * torch.exp(0.5 * chosen_logvar)\n",
    "\n",
    "        ### FOR GAUSSIAN NORMAL PRIOR ###\n",
    "        std = torch.exp(0.5 * logvar)\n",
    "        eps = torch.radn_like(std)\n",
    "        z = mu + eps*std\n",
    "    \n",
    "        return z\n",
    "\n",
    "    \n",
    "    def forward(self, mu, logvar):\n",
    "\n",
    "        \"\"\"\n",
    "        Outputs the parameters of the ZINB distribution: x ~ ZINB(x | mu, theta, pi)\n",
    "            mu_nb: mean of the NB distribution parameter\n",
    "            theta: total counts in the NB distribution\n",
    "            pi_nb: probability of zero-inflation \n",
    "        \"\"\"\n",
    "\n",
    "        ### FOR MOG PRIOR ###\n",
    "        # z = self.reparameterize(mu, logvar, pi)\n",
    "\n",
    "        ### FOR GAUSSIAN NORMAL PRIOR ###\n",
    "        z = self.reparameterize(mu, logvar)\n",
    "\n",
    "        decoded = self.decode(z)\n",
    "\n",
    "        mu_nb = nn.functional.softplus(self.fc_mu(decoded)) # softplus ensure positive mu\n",
    "        mu_nb = torch.clamp(mu_nb, min=1e-8, max=1e6)\n",
    "\n",
    "        theta = nn.functional.softplus(self.fc_logtheta(decoded)) # Log-dispersion of NB always positive\n",
    "        theta = torch.clamp(theta, min=1e-8, max=1e6)\n",
    "        \n",
    "        pi_nb = torch.sigmoid(self.fc_pi(decoded)) # Probability of zero-inflation: sigmoid to assure values in [0,1]\n",
    "\n",
    "        return z, mu_nb, theta, pi_nb"
   ]
  },
  {
   "cell_type": "markdown",
   "metadata": {},
   "source": [
    "### Batch discriminator class"
   ]
  },
  {
   "cell_type": "code",
   "execution_count": 12,
   "metadata": {},
   "outputs": [],
   "source": [
    "class BatchDiscriminator(nn.Module):\n",
    "    def __init__(self,\n",
    "                 input_size,\n",
    "                 batch_size,\n",
    "                 tissue_size,\n",
    "                 hl1_size = 128,\n",
    "                 hl2_size = 64\n",
    "                 ):\n",
    "        super().__init__()\n",
    "        self.input_size = input_size\n",
    "        self.hl1_size = hl1_size\n",
    "        self.hl2_size = hl2_size\n",
    "        self.batch_size = batch_size\n",
    "        self.tissue_size = tissue_size\n",
    "        self.ffnn = nn.Sequential(\n",
    "            nn.Linear(input_size + tissue_size, hl1_size),\n",
    "            nn.ReLU(),\n",
    "            nn.Linear(hl1_size, hl2_size),\n",
    "            nn.ReLU(),\n",
    "            nn.Linear(hl2_size, batch_size)\n",
    "        )\n",
    "\n",
    "    def forward(self, x):\n",
    "        x = x.view(-1, self.input_size + self.tissue_size)\n",
    "        y = self.ffnn(x)\n",
    "        return y"
   ]
  },
  {
   "cell_type": "markdown",
   "metadata": {},
   "source": [
    "### Reconstruction loss for ELBO"
   ]
  },
  {
   "cell_type": "markdown",
   "metadata": {},
   "source": [
    "OTU data have zero-inflation and over-dispersion, which means that the variance is by far greater than the mean. The Negative Binomial distribution accounts for that and it's assume to be a good fit to model the OTU data. This is also used in the scDREAMER to account for zero-inflation in single cell RNA seq data. We are going to try to apply a variation of it called Zero-Inflated Negative Binomial distribution (ZINB), and we are going to try model it with non-transformed OTU data. The NB probability density function is defined as follows:\n",
    "\n",
    "$$\n",
    "NB(x | \\mu, \\theta) = \\frac{\\Gamma(x + \\theta)}{\\Gamma(\\theta)\\Gamma(x + 1)} \\left( \\frac{\\theta}{\\theta + \\mu}\\right)^\\theta \\left( \\frac{\\mu}{\\theta + \\mu}\\right)^x\n",
    "$$\n",
    "\n",
    "Which the log probability density function would look as following:\n",
    "\n",
    "$$\n",
    "\\mathrm{log} NB(x|\\mu, \\theta) = \\mathrm{log} (\\Gamma(x + \\theta)) - \\mathrm{log}(\\Gamma(\\theta)) - \\mathrm{log}(\\Gamma(x + 1)) + \\theta ( \\mathrm{log} (\\theta) - \\mathrm{log} (\\theta + \\mu)) + x ( \\mathrm{log} (\\mu) - \\mathrm{log}(\\theta + \\mu))\n",
    "$$\n",
    "\n",
    "Only if x > 0. If x = 0:\n",
    "\n",
    "$$\n",
    "\\mathrm{log} NB(0|\\mu, \\theta) = \\theta ( \\mathrm{log} (\\theta) - \\mathrm{log} (\\theta + \\mu))\n",
    "$$\n",
    "\n",
    "\n",
    "This would be important to define because the ZINB probability distribution is defined by the following:\n",
    "\n",
    "$$\n",
    "ZINB(x | \\mu, \\theta, \\pi) =        \\begin{cases} \n",
    "                                        \\pi + (1 - \\pi) NB(x | \\mu, \\theta), \\quad x > 0 \\\\\n",
    "                                        (1 - \\pi) NB(x | \\mu, \\theta), \\quad \\quad \\quad x = 0\n",
    "                                    \\end{cases}\n",
    "$$"
   ]
  },
  {
   "cell_type": "code",
   "execution_count": 13,
   "metadata": {},
   "outputs": [],
   "source": [
    "# Define the negative log-likelihood of the zero-inflated negative binomial distribution\n",
    "def zinb_nll(x, mu, theta, pi, eps = 1e-8):\n",
    "    \n",
    "    #First: define the NB for x > 0\n",
    "    nb_case = (\n",
    "        torch.lgamma(x + theta)\n",
    "        - torch.lgamma(theta + eps)\n",
    "        - torch.lgamma(x + 1)\n",
    "        + theta * (torch.lgamma(theta + eps) - torch.log(theta + mu + eps))\n",
    "        + x * (torch.log(mu + eps) - torch.log(mu + theta + eps))\n",
    "    )\n",
    "\n",
    "    #Second: define the NB for x = 0\n",
    "    nb_zero = theta * (torch.log(theta + eps) - torch.log(theta + mu + eps))\n",
    "\n",
    "    #Third: introduce ZINB log-likelihood\n",
    "    ll = torch.where(\n",
    "        x < eps,\n",
    "        torch.log(pi + (1.0 - pi) * torch.exp(nb_zero) + eps),\n",
    "        torch.log(1.0 - pi + eps) + nb_case\n",
    "    )\n",
    "\n",
    "    #Fourth: negative log-likelihood summed for every observation\n",
    "    nll = -torch.sum(ll, dim = -1) #nll per sample\n",
    "    return torch.mean(nll) #average from batch"
   ]
  },
  {
   "cell_type": "markdown",
   "metadata": {},
   "source": [
    "### KL divergence for MoG"
   ]
  },
  {
   "cell_type": "markdown",
   "metadata": {},
   "source": [
    "Because we are using a MoG model as our prior is a bit tricky to actually compute the KL-divergence of the posterior to the prior. First, let's define the prior distribution:"
   ]
  },
  {
   "cell_type": "code",
   "execution_count": 14,
   "metadata": {},
   "outputs": [],
   "source": [
    "class MoGPrior(nn.Module):\n",
    "    def __init__(self, d_z, n_comp, multiplier = 1.0):\n",
    "        super().__init__()\n",
    "        self.d_z = d_z\n",
    "        self.n_comp = n_comp\n",
    "        self.multiplier = multiplier\n",
    "\n",
    "        # Params\n",
    "        self.means = nn.Parameter(torch.randn(n_comp, self.d_z)*self.multiplier)\n",
    "        self.logvars = nn.Parameter(torch.randn(n_comp, self.d_z))\n",
    "\n",
    "        #Mix weights\n",
    "        self.w = nn.Parameter(torch.zeros(n_comp, 1, 1))\n",
    "    \n",
    "    def get_params(self):\n",
    "        return self.means, self.logvars\n",
    "    \n",
    "    def sample(self, batch_size):\n",
    "        # mu, logvar\n",
    "        means, logvars = self.get_params()\n",
    "\n",
    "        # mixing probabilities\n",
    "        w = nn.functional.softmax(self.w, dim=0)\n",
    "        w = w.squeeze()\n",
    "\n",
    "        # pick components\n",
    "        indexes = torch.multinomial(w, batch_size, replacement=True)\n",
    "\n",
    "        # means and logvars\n",
    "        eps = torch.randn(batch_size, self.d_z)\n",
    "        for i in range(batch_size):\n",
    "            indx = indexes[i]\n",
    "            if i == 0:\n",
    "                z = means[[indx]] + eps[[i]] * torch.exp(logvars[[indx]])\n",
    "            else:\n",
    "                z = torch.cat((z, means[[indx]] + eps[[i]] * torch.exp(logvars[[indx]])), 0)\n",
    "        \n",
    "        return z\n",
    "    \n",
    "    def log_normal_diag(self, z, means, logvars):\n",
    "        # var\n",
    "        vars = torch.exp(logvars)\n",
    "\n",
    "        # difference between z and means\n",
    "        diff = z - means\n",
    "\n",
    "        # log probability for each gaussian component\n",
    "        # log p(x) = -0.5 * sum(log(2*pi) + log(var) + (x - mu)^2 / var)\n",
    "        log_p = -0.5 * (torch.sum(diff ** 2 / vars, dim = -1) + torch.sum(logvars, dim = -1))\n",
    "        log_p -= 0.5 * z.size(-1) * torch.log(torch.tensor(2 * torch.pi, device = z.device, dtype = z.dtype))\n",
    "\n",
    "        return log_p\n",
    "\n",
    "    \n",
    "    def log_prob(self, z):\n",
    "        # mu, logvar\n",
    "        means, logvars = self.get_params()\n",
    "\n",
    "        # mixing probabilities\n",
    "        w = nn.functional.softmax(self.w, dim = 0)\n",
    "        \n",
    "        # log-MoG\n",
    "        z = z.unsqueeze(0)\n",
    "        means = means.unsqueeze(1)\n",
    "        logvars = logvars.unsqueeze(1)\n",
    "\n",
    "        log_p = self.log_normal_diag(z, means, logvars) + torch.log(w)\n",
    "        log_prob = torch.logsumexp(log_p, dim = 0, keepdim=False)\n",
    "\n",
    "        return log_prob"
   ]
  },
  {
   "cell_type": "markdown",
   "metadata": {},
   "source": [
    "The KL-divergence is defined as follows:\n",
    "\n",
    "$$\n",
    "\\mathrm{KL}[q(z | x) || p(z)] = \\mathbb{E}_{z \\sim q(z|x)}[\\mathrm{log}q(z | x) - \\mathrm{log}p(z)]\n",
    "$$\n",
    "\n",
    "We have already define how to calculate $\\mathrm{log} p(z)$ from the prior's function log_prob, so we are going to focus on calculating $\\mathrm{log} q(z | x)$:"
   ]
  },
  {
   "cell_type": "code",
   "execution_count": 15,
   "metadata": {},
   "outputs": [],
   "source": [
    "def compute_log_qzx(z, mu, logvar, pi):\n",
    "\n",
    "    # size of parameters: (batch_size, latent dimension, number of components)\n",
    "    batch_size, d_z, n_comp = mu.shape\n",
    "    \n",
    "    # expand z variable for computing the density\n",
    "    z = z.unsqueeze(2)\n",
    "\n",
    "    # Log density function\n",
    "    log_norm = -0.5 * (\n",
    "        d_z * torch.log(torch.tensor(2 * torch.pi, device = z.device, dtype = z.dtype)) +\n",
    "        torch.sum(logvar, dim=1) +\n",
    "        torch.sum((z - mu)**2 / torch.exp(logvar), dim = 1)\n",
    "    )\n",
    "\n",
    "    # Add the log mixing weights (add small offset to avoid log(0))\n",
    "    log_comp = torch.log(torch.tensor(pi + 1e-10, device = z.device, dtype = z.dtype)) + log_norm \n",
    "\n",
    "    return torch.logsumexp(log_comp, dim=1)"
   ]
  },
  {
   "cell_type": "markdown",
   "metadata": {},
   "source": [
    "### KL-divergence for Gaussian Normal prior"
   ]
  },
  {
   "cell_type": "markdown",
   "metadata": {},
   "source": [
    "Just as a proof of concept, we define a Normal prior to check that the computation of the KL divergence and latent space variables are done as expected (had some issues when using the MoG prior). If so, the next step would be to correct the MoG prior definitions and KL-divergence computation (it is recommended to use kl_divergence() from torch.distributions)."
   ]
  },
  {
   "cell_type": "code",
   "execution_count": null,
   "metadata": {},
   "outputs": [],
   "source": [
    "class NormalPrior(nn.Module):\n",
    "    def __init__(self, d_z):\n",
    "        self.d_z = d_z\n",
    "        self.mean = nn.Parameter(torch.zeros(self.d_z), requires_grad=False)\n",
    "        self.std = nn.Parameter(torch.ones(self.d_z), requires_grad=False)\n",
    "\n",
    "    def forward(self):\n",
    "        \n",
    "        return torch.distributions.Independent(Normal(loc=self.mean, scale=self.std), 1)"
   ]
  },
  {
   "cell_type": "markdown",
   "metadata": {},
   "source": [
    "### Sample ZINB with learned parameters"
   ]
  },
  {
   "cell_type": "markdown",
   "metadata": {},
   "source": [
    "It is really hard to sample directly from the ZINB distribution, so we are going to use what's called the Gamma-Poisson trick:\n",
    "\n",
    "We start with a variable $\\lambda$ that follows a Gamma distribution given the parameters shape $\\theta$ and scale $\\beta = \\mu / \\theta$:\n",
    "$$\n",
    "\\lambda \\sim \\mathrm{Gamma}(\\theta, \\beta)\n",
    "$$\n",
    "\n",
    "Where the pdf would be:\n",
    "$$\n",
    "p(\\lambda) = \\frac{1}{\\Gamma(\\theta) \\beta^\\theta} \\lambda^{\\theta - 1} e^{-\\lambda / \\beta}\n",
    "$$\n",
    "$$\n",
    "p(\\lambda) = \\frac{1}{\\Gamma(\\theta)} \\left(\\frac{\\theta}{\\mu} \\right)^\\theta \\lambda ^ {\\theta - 1} e ^{-\\lambda \\theta / \\mu}\n",
    "$$\n",
    "\n",
    "Now we assume that our data $x$ given the value $\\lambda$ follows a Poisson distribution, so that:\n",
    "\n",
    "$$\n",
    "x | \\lambda \\sim \\mathrm{Poisson} (\\lambda)\n",
    "$$\n",
    "\n",
    "Where the pdf would be:\n",
    "$$\n",
    "p(x | \\lambda) = \\frac{\\lambda^x e^-\\lambda}{x!}\n",
    "$$\n",
    "\n",
    "We can marginalize the probability of seeing our data $x$ by integrating over all possible values of $\\lambda$:\n",
    "$$\n",
    "p(x) = \\int_0^\\infty p(x | \\lambda) p(\\lambda) d\\lambda\n",
    "$$\n",
    "\n",
    "Which substituting for our define pdf, we get:\n",
    "$$\n",
    "p(x) = \\frac{1}{x!\\Gamma(\\theta)} \\left(\\frac{\\theta}{\\mu} \\right)^\\theta \\int_0^\\infty \\lambda ^ {\\theta - 1} e ^{-\\lambda \\theta / \\mu} \\lambda^x e^{-\\lambda}\n",
    "$$\n",
    "$$\n",
    "p(x) = \\frac{1}{x!\\Gamma(\\theta)} \\left(\\frac{\\theta}{\\mu} \\right)^\\theta \\int_0^\\infty \\lambda ^ {x + \\theta - 1} e ^{-\\lambda \\left( 1 + \\frac{\\theta}{\\mu} \\right)} \n",
    "$$\n",
    "\n",
    "Integrating we get:\n",
    "$$\n",
    "p(x) = \\frac{1}{x!\\Gamma(\\theta)} \\left(\\frac{\\theta}{\\mu} \\right)^\\theta \\Gamma(x + \\theta) \\left( 1 + \\frac{\\theta}{\\mu}\\right)^{-(x + \\theta)}\n",
    "$$\n",
    "\n",
    "$$\n",
    "p(x) = \\frac{\\Gamma(x + \\theta)}{x!\\Gamma(\\theta)} \\left(\\frac{\\theta}{\\mu} \\right)^\\theta \\left( 1 + \\frac{\\theta}{\\mu}\\right)^{-(x + \\theta)}\n",
    "$$\n",
    "\n",
    "$$\n",
    "p(x) = \\frac{\\Gamma(x + \\theta)}{x!\\Gamma(\\theta)} \\left(\\frac{\\theta}{\\mu} \\right)^\\theta \\left(\\frac{\\mu}{\\theta + \\mu}\\right)^{x + \\theta}\n",
    "$$\n",
    "\n",
    "$$\n",
    "p(x) = \\frac{\\Gamma(x + \\theta)}{x!\\Gamma(\\theta)} \\left(\\frac{\\theta}{\\theta + \\mu} \\right)^\\theta \\left(\\frac{\\mu}{\\theta + \\mu}\\right)^{x} = NB(x)\n",
    "$$\n",
    "\n",
    "So, for the case where $\\pi$ > 0 on the ZINB distribution:\n",
    "$$\n",
    "x \\sim \\mathrm{Poisson}(\\lambda), \\quad \\lambda \\sim \\Gamma(\\theta, \\mu / \\theta)\n",
    "$$"
   ]
  },
  {
   "cell_type": "code",
   "execution_count": 16,
   "metadata": {},
   "outputs": [],
   "source": [
    "def sample_zinb(mu, theta, pi, eps=1e-8):\n",
    "    # generate random number from [0, 1) as threshold for dropout \n",
    "    drop_rand = torch.rand_like(pi)\n",
    "    drop = drop_rand < pi # True means probability of zero value is higher than threshold, so x = 0\n",
    "\n",
    "    # sample from NB through Gamma-Poisson trick\n",
    "    gamma_theta = theta + eps\n",
    "    gamma_beta = mu / gamma_theta\n",
    "    gamma_sample = torch._standard_gamma(gamma_theta) * gamma_beta\n",
    "    nb_sample = torch.poisson(gamma_sample)\n",
    "\n",
    "    # ZINB with drop being True\n",
    "    zinb_sample = torch.where(drop, torch.zeros_like(nb_sample), nb_sample)\n",
    "    return zinb_sample"
   ]
  },
  {
   "cell_type": "markdown",
   "metadata": {},
   "source": [
    "### Training loop"
   ]
  },
  {
   "cell_type": "code",
   "execution_count": 85,
   "metadata": {},
   "outputs": [],
   "source": [
    "# Training loop for the model\n",
    "def train_MetaABaCo(\n",
    "        encoder: ABaCoEncoder,\n",
    "        decoder: ABaCoDecoder,\n",
    "        discriminator: BatchDiscriminator,\n",
    "        mog_prior: nn.Module,\n",
    "        train_loader,\n",
    "        ohe_exp_loader,\n",
    "        num_epochs,\n",
    "        batch_size,\n",
    "        device,\n",
    "        lr_encode = 1e-5,\n",
    "        lr_decode = 1e-5,\n",
    "        lr_batch = 1e-5,\n",
    "        lr_adver = 1e-5,\n",
    "        kl_beta = 1.0,\n",
    "        w_batch = 1.0,\n",
    "        w_adv = 1.0\n",
    "):\n",
    "    encoder_optim = torch.optim.Adam(encoder.parameters(), lr = lr_encode, weight_decay=1e-5)\n",
    "    decoder_optim = torch.optim.Adam(decoder.parameters(), lr = lr_decode, weight_decay=1e-5)\n",
    "    batch_optim = torch.optim.Adam(discriminator.parameters(), lr = lr_batch, weight_decay=1e-5)\n",
    "    adversarial_optim = torch.optim.Adam(encoder.parameters(), lr = lr_adver, weight_decay=1e-5)\n",
    "\n",
    "    # Define loss functions for adversarial training\n",
    "    disc_criterion = nn.CrossEntropyLoss()\n",
    "\n",
    "    train_losses = []\n",
    "\n",
    "    for epoch in range(num_epochs):\n",
    "        # Training\n",
    "        encoder.train()\n",
    "        decoder.train()\n",
    "\n",
    "        train_loss = 0\n",
    "\n",
    "        for (x, _, _), (ohe_exp) in zip(train_loader, ohe_exp_loader):\n",
    "            #Forward pass to encoder\n",
    "            x = x.to(device)\n",
    "            x = x.to(torch.float64)\n",
    "\n",
    "            ohe_exp = ohe_exp.to(torch.float64)\n",
    "            \n",
    "            ohe_batch = x[:, -batch_size:]\n",
    "            \n",
    "            mu, logvar, pi = encoder(x)\n",
    "\n",
    "            #Forward pass to decoder\n",
    "            z, mu_nb, theta, pi_zinb = decoder(mu, logvar, pi)\n",
    "            \n",
    "            #Forward pass to batch discriminator\n",
    "            pred_batch = discriminator(torch.concat((z.detach(), ohe_exp), 1))\n",
    "\n",
    "            #CE loss for discriminator\n",
    "            disc_loss = w_batch*disc_criterion(pred_batch, ohe_batch)\n",
    "\n",
    "            #Backpropagation - Batch discriminator\n",
    "            batch_optim.zero_grad()\n",
    "            disc_loss.backward()\n",
    "            batch_optim.step()\n",
    "\n",
    "            #Forward pass to batch discriminator a second time \n",
    "            pred_adv = discriminator(torch.concat((z, ohe_exp), 1))\n",
    "            \n",
    "            #Adversarial loss - Negative Cross Entropy loss\n",
    "            adv_loss = -w_adv*torch.mean(torch.sum(ohe_batch * torch.log(pred_adv), dim=1))\n",
    "\n",
    "            #Backpropagation - Encoder\n",
    "            encoder_optim.zero_grad()\n",
    "            adv_loss.backward()\n",
    "            encoder_optim.step()\n",
    "\n",
    "            #Detach encoder and decoder outputs and recalculate\n",
    "            x = x.detach()\n",
    "            mu, logvar, pi = encoder(x)\n",
    "            z, mu_nb, theta, pi_zinb = decoder(mu, logvar, pi)\n",
    "\n",
    "            #Reconstructed OTU data\n",
    "            # recon_data = sample_zinb(mu_nb, logtheta, pi_zinb)\n",
    "\n",
    "            #Reconstruction loss\n",
    "            recon_loss = zinb_nll(x[:,:-batch_size], mu_nb, theta, pi_zinb)\n",
    "            #print(f\"Reconstruction loss: {recon_loss}\")\n",
    "\n",
    "            #Compute prior log probability\n",
    "            log_pz = mog_prior.log_prob(z)\n",
    "\n",
    "            #Compute log density under posterior q(z | x) \n",
    "            log_qzx = compute_log_qzx(z, mu, logvar, pi)\n",
    "\n",
    "            #KL divergence\n",
    "            kl_div = kl_beta * torch.mean(log_qzx - log_pz)\n",
    "            #print(f\"KL-divergence: {kl_div}\")\n",
    "\n",
    "            # Total loss - ELBO\n",
    "            loss = recon_loss + kl_div\n",
    "            #print(f\"Total loss: {loss}\")\n",
    "\n",
    "            # Backward pass - ELBO\n",
    "            encoder_optim.zero_grad()\n",
    "            decoder_optim.zero_grad()\n",
    "            loss.backward()\n",
    "            encoder_optim.step()\n",
    "            decoder_optim.step()\n",
    "\n",
    "            train_loss += loss.item()\n",
    "        \n",
    "        train_loss /= len(train_loader)\n",
    "        train_losses.append(train_loss)\n",
    "        print(f\"Epoch {epoch + 1}/{num_epochs},  Recon. Loss: {recon_loss:.4f}   |   KL-Div: {kl_div:.4f}    |    Loss: {train_loss:.4f}\")\n",
    "    \n",
    "    return train_losses\n"
   ]
  },
  {
   "cell_type": "markdown",
   "metadata": {},
   "source": [
    "### The data - MGnify DTU study"
   ]
  },
  {
   "cell_type": "code",
   "execution_count": 102,
   "metadata": {},
   "outputs": [
    {
     "data": {
      "application/vnd.plotly.v1+json": {
       "config": {
        "plotlyServerURL": "https://plot.ly"
       },
       "data": [
        {
         "legendgroup": "Illumina HiSeq 3000",
         "legendgrouptitle": {
          "text": "Batch Illumina HiSeq 3000"
         },
         "marker": {
          "color": [
           "blue",
           "blue",
           "blue",
           "blue",
           "blue",
           "blue",
           "blue",
           "blue",
           "blue",
           "blue",
           "blue",
           "blue",
           "blue",
           "blue",
           "blue",
           "blue",
           "blue",
           "blue",
           "blue",
           "blue",
           "blue",
           "blue",
           "blue",
           "blue",
           "blue",
           "blue",
           "blue",
           "blue",
           "blue",
           "blue",
           "blue",
           "blue",
           "blue",
           "blue",
           "blue",
           "blue",
           "blue",
           "blue",
           "blue",
           "blue",
           "blue",
           "blue",
           "blue",
           "blue",
           "blue",
           "blue",
           "blue",
           "blue",
           "blue",
           "blue",
           "blue",
           "blue",
           "blue",
           "blue",
           "blue",
           "blue",
           "blue",
           "blue",
           "blue",
           "blue",
           "blue",
           "blue",
           "blue",
           "blue",
           "blue",
           "blue",
           "blue",
           "blue",
           "blue",
           "blue",
           "blue",
           "blue",
           "blue",
           "blue",
           "blue",
           "blue",
           "blue",
           "blue",
           "blue",
           "blue",
           "blue"
          ],
          "size": 8,
          "symbol": [
           "circle",
           "circle",
           "circle",
           "circle",
           "circle",
           "circle",
           "circle",
           "circle",
           "circle",
           "circle",
           "circle",
           "circle",
           "circle",
           "circle",
           "circle",
           "circle",
           "circle",
           "circle",
           "circle",
           "circle",
           "circle",
           "circle",
           "circle",
           "circle",
           "circle",
           "circle",
           "circle",
           "circle",
           "circle",
           "circle",
           "circle",
           "circle",
           "circle",
           "circle",
           "circle",
           "circle",
           "circle",
           "circle",
           "circle",
           "circle",
           "circle",
           "circle",
           "circle",
           "circle",
           "circle",
           "circle",
           "circle",
           "circle",
           "circle",
           "circle",
           "circle",
           "circle",
           "circle",
           "circle",
           "circle",
           "circle",
           "circle",
           "circle",
           "circle",
           "circle",
           "circle",
           "circle",
           "circle",
           "circle",
           "circle",
           "circle",
           "circle",
           "circle",
           "circle",
           "circle",
           "circle",
           "circle",
           "circle",
           "circle",
           "circle",
           "circle",
           "circle",
           "circle",
           "circle",
           "circle",
           "circle"
          ]
         },
         "mode": "markers",
         "name": "Wastewater:Water and sludge",
         "type": "scatter",
         "x": [
          -143.6530841529096,
          -45.09471586532449,
          -190.11339944322972,
          -26.157613048649303,
          -18.828183999768196,
          79.35043272467496,
          -138.0932282351388,
          94.58608035230982,
          48.20689875450492,
          55.365849158913846,
          -16.141875338893016,
          -180.29772989641776,
          11.283102303687652,
          -162.78170294574164,
          -7.719318762692639,
          -66.93429868834824,
          -52.63574359403867,
          14.45183803017302,
          -176.96355407680426,
          -188.05281916860972,
          -8.141715784782777,
          -64.33236890564852,
          -73.83125097048158,
          -71.36205428573908,
          -160.4726349825291,
          -137.17409275197323,
          19.97235493178977,
          -68.9600720046058,
          -17.529921314580523,
          33.36204318650658,
          54.37528390882907,
          -151.76751182396185,
          -83.98628141796596,
          -74.26553314293963,
          -85.61015995579461,
          -39.80786934684439,
          -156.4413699677408,
          -148.26026469399937,
          -121.12013294836814,
          -103.55485902483407,
          -27.805539449897722,
          -181.05159753548176,
          -72.24841908886329,
          -121.41646198848738,
          -11.942643907105092,
          -94.64234056226056,
          19.15631361385606,
          -121.01783248788004,
          -40.56803353700561,
          -123.13215701840328,
          -148.12755723600557,
          -108.10195434760145,
          -129.16002371146055,
          -183.33793077712284,
          -128.03435218990035,
          -135.38510746056969,
          41.08645192803429,
          -130.3259584010227,
          -152.23808726002216,
          10.922923050674973,
          -18.244860633302842,
          -45.36123394681942,
          132.4320253386229,
          -110.32633773166441,
          -61.09020857921215,
          17.926637842167136,
          -160.76990429869508,
          -96.27405289231717,
          -123.34640032882268,
          -116.31831496082646,
          -58.14143085776714,
          -123.03922050202999,
          -19.368683774277947,
          77.28729295261662,
          -202.94554181207693,
          -144.7473707792179,
          -74.21989449600994,
          -132.4982126154778,
          -93.97673962351172,
          -139.51145627655362,
          -104.33862844068796
         ],
         "y": [
          -26.52501418197904,
          -28.54824223165276,
          62.14924051609918,
          -46.857823322933584,
          -65.54872943085009,
          16.591396851364344,
          66.12293748219132,
          29.04170485560375,
          -18.88356781902578,
          -0.3717981781888797,
          -10.145241376213944,
          -15.225897428306176,
          -17.953772465340283,
          26.796535341405452,
          46.94551288417253,
          83.02579459794673,
          -35.88482478995112,
          -9.176339841634261,
          -43.446983263571596,
          -23.356652121561886,
          -53.80043779871971,
          -92.19809026703327,
          77.37851651739123,
          17.940398127337584,
          46.80171103277465,
          -23.333577824581035,
          -80.86397408491482,
          41.21866930351058,
          42.610819293012156,
          -30.861865781390776,
          7.592459125875281,
          54.78521877920536,
          -75.34819672984285,
          -14.656152278937023,
          -66.79928856230727,
          5.786529967411493,
          -41.69991487593441,
          -45.923515052746936,
          45.21474221894931,
          108.32171335983156,
          10.744004520977931,
          -25.742149853743115,
          -27.53011878204388,
          -35.65450410924835,
          -51.0671728977054,
          13.031445138196672,
          30.735148490671943,
          74.97398301720727,
          5.387955795063974,
          -83.35293894470419,
          46.65094001011608,
          -100.3616486630748,
          13.795592039732467,
          76.4203814283018,
          37.30576018312325,
          86.47094622087472,
          28.86721088875641,
          -24.854456211515075,
          -17.889296921572974,
          10.147754372182114,
          -25.28755052796052,
          -53.98093915683039,
          44.595214587224014,
          31.49491804163039,
          -81.36180075649227,
          9.580627693077238,
          35.1977826830939,
          -32.09658163660223,
          48.13311975523685,
          46.04180692795303,
          6.231834589951417,
          41.62367111312194,
          31.32802372440583,
          7.47880669879658,
          9.073162532358836,
          8.302445968573041,
          -28.7537691094973,
          -29.939952557775463,
          43.281642887845564,
          59.308492192227995,
          70.05252224741577
         ]
        },
        {
         "legendgroup": "Illumina MiSeq",
         "legendgrouptitle": {
          "text": "Batch Illumina MiSeq"
         },
         "marker": {
          "color": [
           "red",
           "red",
           "red",
           "red",
           "red",
           "red",
           "red",
           "red",
           "red",
           "red",
           "red",
           "red",
           "red",
           "red",
           "red",
           "red",
           "red",
           "red",
           "red",
           "red",
           "red",
           "red",
           "red",
           "red",
           "red",
           "red",
           "red",
           "red",
           "red",
           "red",
           "red",
           "red",
           "red",
           "red",
           "red",
           "red",
           "red",
           "red",
           "red",
           "red",
           "red",
           "red",
           "red",
           "red",
           "red",
           "red",
           "red",
           "red",
           "red",
           "red",
           "red",
           "red",
           "red",
           "red",
           "red",
           "red",
           "red",
           "red",
           "red",
           "red",
           "red",
           "red",
           "red",
           "red"
          ],
          "size": 8,
          "symbol": [
           "circle",
           "circle",
           "circle",
           "circle",
           "circle",
           "circle",
           "circle",
           "circle",
           "circle",
           "circle",
           "circle",
           "circle",
           "circle",
           "circle",
           "circle",
           "circle",
           "circle",
           "circle",
           "circle",
           "circle",
           "circle",
           "circle",
           "circle",
           "circle",
           "circle",
           "circle",
           "circle",
           "circle",
           "circle",
           "circle",
           "circle",
           "circle",
           "circle",
           "circle",
           "circle",
           "circle",
           "circle",
           "circle",
           "circle",
           "circle",
           "circle",
           "circle",
           "circle",
           "circle",
           "circle",
           "circle",
           "circle",
           "circle",
           "circle",
           "circle",
           "circle",
           "circle",
           "circle",
           "circle",
           "circle",
           "circle",
           "circle",
           "circle",
           "circle",
           "circle",
           "circle",
           "circle",
           "circle",
           "circle"
          ]
         },
         "mode": "markers",
         "name": "Wastewater:Water and sludge",
         "type": "scatter",
         "x": [
          68.70907960960744,
          97.20138520635871,
          125.06400420093554,
          82.2171248359534,
          100.58491638832658,
          107.90000504340749,
          54.361908084056076,
          74.60502877371464,
          61.84623507909179,
          137.4996800437477,
          95.37563486563295,
          111.48851131493491,
          111.31731142410214,
          86.07186835998618,
          85.98778595906593,
          62.37019201421626,
          67.11644788033723,
          77.43940280700971,
          51.39192468872077,
          61.51515341871191,
          156.55037077280937,
          113.82490415738044,
          70.29884317145603,
          91.27742161215497,
          92.41150244598266,
          74.51660917313977,
          100.52824704217412,
          91.51977697807912,
          64.48967056106063,
          83.93028745725542,
          60.352889656182725,
          74.88530587777886,
          94.8121708521024,
          80.17139341782608,
          67.2718571000903,
          66.28879548416366,
          92.18681866272745,
          68.78557873133376,
          72.57085666996701,
          53.03397518899343,
          101.56322872993874,
          81.33566107378218,
          85.51320875816712,
          86.59912253367858,
          76.99757589860162,
          91.43397727037443,
          63.6559120315025,
          134.48268424173142,
          112.92422100380203,
          59.1128149647622,
          104.34428302946668,
          73.81522890175741,
          57.530888910064085,
          73.8540012555636,
          86.9121220195665,
          58.732065152784976,
          204.7281985382032,
          87.49027856651169,
          122.67256909962349,
          105.62309804511916,
          204.72819853820317,
          204.46488045058948,
          204.72819853820317,
          130.3610294077825
         ],
         "y": [
          -16.820717629243052,
          -17.87565618287521,
          -2.1603124208240976,
          -14.634962328561437,
          2.334251558364382,
          -0.4426373188068718,
          -17.739408873186793,
          -7.175145935887525,
          -9.106981076402388,
          14.228600251641343,
          -5.314029727207173,
          4.729755657865469,
          -0.5518372394981212,
          -11.016754296384077,
          -14.748200273031971,
          -56.793220352223706,
          -38.139458322166966,
          -15.337545683705695,
          -18.688074023886998,
          -14.161629980855485,
          43.37004473523679,
          -8.37389488998149,
          -15.130109392792956,
          -24.512343972993687,
          -17.58257110464574,
          -7.401021451606318,
          -9.417530164146676,
          -16.50685175581895,
          -19.052558925402028,
          -13.532775333145457,
          -11.167866747709663,
          -31.76243521957747,
          -12.541157530530048,
          -18.508313292644385,
          -4.13798795788857,
          -35.81286537300693,
          -11.105712738689034,
          -1.724877439803426,
          -21.003591842299237,
          -21.925878456568633,
          -12.749703503746165,
          -23.970145187430123,
          -29.19523629161983,
          -20.823760487557006,
          -11.978924577750744,
          -13.627179932755746,
          -14.375403404474797,
          10.48217386568607,
          1.1641161643986226,
          -19.90059653078296,
          6.986956965552026,
          -12.599557162409765,
          -27.67569312856872,
          -21.571162774632125,
          2.9784438250161624,
          -11.579721236222811,
          111.39875851199528,
          5.569835220447763,
          0.9505882165759052,
          1.541033671829166,
          111.39875851199527,
          110.63922077936535,
          111.39875851199525,
          23.486388858168212
         ]
        }
       ],
       "layout": {
        "template": {
         "data": {
          "bar": [
           {
            "error_x": {
             "color": "#2a3f5f"
            },
            "error_y": {
             "color": "#2a3f5f"
            },
            "marker": {
             "line": {
              "color": "#E5ECF6",
              "width": 0.5
             },
             "pattern": {
              "fillmode": "overlay",
              "size": 10,
              "solidity": 0.2
             }
            },
            "type": "bar"
           }
          ],
          "barpolar": [
           {
            "marker": {
             "line": {
              "color": "#E5ECF6",
              "width": 0.5
             },
             "pattern": {
              "fillmode": "overlay",
              "size": 10,
              "solidity": 0.2
             }
            },
            "type": "barpolar"
           }
          ],
          "carpet": [
           {
            "aaxis": {
             "endlinecolor": "#2a3f5f",
             "gridcolor": "white",
             "linecolor": "white",
             "minorgridcolor": "white",
             "startlinecolor": "#2a3f5f"
            },
            "baxis": {
             "endlinecolor": "#2a3f5f",
             "gridcolor": "white",
             "linecolor": "white",
             "minorgridcolor": "white",
             "startlinecolor": "#2a3f5f"
            },
            "type": "carpet"
           }
          ],
          "choropleth": [
           {
            "colorbar": {
             "outlinewidth": 0,
             "ticks": ""
            },
            "type": "choropleth"
           }
          ],
          "contour": [
           {
            "colorbar": {
             "outlinewidth": 0,
             "ticks": ""
            },
            "colorscale": [
             [
              0,
              "#0d0887"
             ],
             [
              0.1111111111111111,
              "#46039f"
             ],
             [
              0.2222222222222222,
              "#7201a8"
             ],
             [
              0.3333333333333333,
              "#9c179e"
             ],
             [
              0.4444444444444444,
              "#bd3786"
             ],
             [
              0.5555555555555556,
              "#d8576b"
             ],
             [
              0.6666666666666666,
              "#ed7953"
             ],
             [
              0.7777777777777778,
              "#fb9f3a"
             ],
             [
              0.8888888888888888,
              "#fdca26"
             ],
             [
              1,
              "#f0f921"
             ]
            ],
            "type": "contour"
           }
          ],
          "contourcarpet": [
           {
            "colorbar": {
             "outlinewidth": 0,
             "ticks": ""
            },
            "type": "contourcarpet"
           }
          ],
          "heatmap": [
           {
            "colorbar": {
             "outlinewidth": 0,
             "ticks": ""
            },
            "colorscale": [
             [
              0,
              "#0d0887"
             ],
             [
              0.1111111111111111,
              "#46039f"
             ],
             [
              0.2222222222222222,
              "#7201a8"
             ],
             [
              0.3333333333333333,
              "#9c179e"
             ],
             [
              0.4444444444444444,
              "#bd3786"
             ],
             [
              0.5555555555555556,
              "#d8576b"
             ],
             [
              0.6666666666666666,
              "#ed7953"
             ],
             [
              0.7777777777777778,
              "#fb9f3a"
             ],
             [
              0.8888888888888888,
              "#fdca26"
             ],
             [
              1,
              "#f0f921"
             ]
            ],
            "type": "heatmap"
           }
          ],
          "heatmapgl": [
           {
            "colorbar": {
             "outlinewidth": 0,
             "ticks": ""
            },
            "colorscale": [
             [
              0,
              "#0d0887"
             ],
             [
              0.1111111111111111,
              "#46039f"
             ],
             [
              0.2222222222222222,
              "#7201a8"
             ],
             [
              0.3333333333333333,
              "#9c179e"
             ],
             [
              0.4444444444444444,
              "#bd3786"
             ],
             [
              0.5555555555555556,
              "#d8576b"
             ],
             [
              0.6666666666666666,
              "#ed7953"
             ],
             [
              0.7777777777777778,
              "#fb9f3a"
             ],
             [
              0.8888888888888888,
              "#fdca26"
             ],
             [
              1,
              "#f0f921"
             ]
            ],
            "type": "heatmapgl"
           }
          ],
          "histogram": [
           {
            "marker": {
             "pattern": {
              "fillmode": "overlay",
              "size": 10,
              "solidity": 0.2
             }
            },
            "type": "histogram"
           }
          ],
          "histogram2d": [
           {
            "colorbar": {
             "outlinewidth": 0,
             "ticks": ""
            },
            "colorscale": [
             [
              0,
              "#0d0887"
             ],
             [
              0.1111111111111111,
              "#46039f"
             ],
             [
              0.2222222222222222,
              "#7201a8"
             ],
             [
              0.3333333333333333,
              "#9c179e"
             ],
             [
              0.4444444444444444,
              "#bd3786"
             ],
             [
              0.5555555555555556,
              "#d8576b"
             ],
             [
              0.6666666666666666,
              "#ed7953"
             ],
             [
              0.7777777777777778,
              "#fb9f3a"
             ],
             [
              0.8888888888888888,
              "#fdca26"
             ],
             [
              1,
              "#f0f921"
             ]
            ],
            "type": "histogram2d"
           }
          ],
          "histogram2dcontour": [
           {
            "colorbar": {
             "outlinewidth": 0,
             "ticks": ""
            },
            "colorscale": [
             [
              0,
              "#0d0887"
             ],
             [
              0.1111111111111111,
              "#46039f"
             ],
             [
              0.2222222222222222,
              "#7201a8"
             ],
             [
              0.3333333333333333,
              "#9c179e"
             ],
             [
              0.4444444444444444,
              "#bd3786"
             ],
             [
              0.5555555555555556,
              "#d8576b"
             ],
             [
              0.6666666666666666,
              "#ed7953"
             ],
             [
              0.7777777777777778,
              "#fb9f3a"
             ],
             [
              0.8888888888888888,
              "#fdca26"
             ],
             [
              1,
              "#f0f921"
             ]
            ],
            "type": "histogram2dcontour"
           }
          ],
          "mesh3d": [
           {
            "colorbar": {
             "outlinewidth": 0,
             "ticks": ""
            },
            "type": "mesh3d"
           }
          ],
          "parcoords": [
           {
            "line": {
             "colorbar": {
              "outlinewidth": 0,
              "ticks": ""
             }
            },
            "type": "parcoords"
           }
          ],
          "pie": [
           {
            "automargin": true,
            "type": "pie"
           }
          ],
          "scatter": [
           {
            "fillpattern": {
             "fillmode": "overlay",
             "size": 10,
             "solidity": 0.2
            },
            "type": "scatter"
           }
          ],
          "scatter3d": [
           {
            "line": {
             "colorbar": {
              "outlinewidth": 0,
              "ticks": ""
             }
            },
            "marker": {
             "colorbar": {
              "outlinewidth": 0,
              "ticks": ""
             }
            },
            "type": "scatter3d"
           }
          ],
          "scattercarpet": [
           {
            "marker": {
             "colorbar": {
              "outlinewidth": 0,
              "ticks": ""
             }
            },
            "type": "scattercarpet"
           }
          ],
          "scattergeo": [
           {
            "marker": {
             "colorbar": {
              "outlinewidth": 0,
              "ticks": ""
             }
            },
            "type": "scattergeo"
           }
          ],
          "scattergl": [
           {
            "marker": {
             "colorbar": {
              "outlinewidth": 0,
              "ticks": ""
             }
            },
            "type": "scattergl"
           }
          ],
          "scattermapbox": [
           {
            "marker": {
             "colorbar": {
              "outlinewidth": 0,
              "ticks": ""
             }
            },
            "type": "scattermapbox"
           }
          ],
          "scatterpolar": [
           {
            "marker": {
             "colorbar": {
              "outlinewidth": 0,
              "ticks": ""
             }
            },
            "type": "scatterpolar"
           }
          ],
          "scatterpolargl": [
           {
            "marker": {
             "colorbar": {
              "outlinewidth": 0,
              "ticks": ""
             }
            },
            "type": "scatterpolargl"
           }
          ],
          "scatterternary": [
           {
            "marker": {
             "colorbar": {
              "outlinewidth": 0,
              "ticks": ""
             }
            },
            "type": "scatterternary"
           }
          ],
          "surface": [
           {
            "colorbar": {
             "outlinewidth": 0,
             "ticks": ""
            },
            "colorscale": [
             [
              0,
              "#0d0887"
             ],
             [
              0.1111111111111111,
              "#46039f"
             ],
             [
              0.2222222222222222,
              "#7201a8"
             ],
             [
              0.3333333333333333,
              "#9c179e"
             ],
             [
              0.4444444444444444,
              "#bd3786"
             ],
             [
              0.5555555555555556,
              "#d8576b"
             ],
             [
              0.6666666666666666,
              "#ed7953"
             ],
             [
              0.7777777777777778,
              "#fb9f3a"
             ],
             [
              0.8888888888888888,
              "#fdca26"
             ],
             [
              1,
              "#f0f921"
             ]
            ],
            "type": "surface"
           }
          ],
          "table": [
           {
            "cells": {
             "fill": {
              "color": "#EBF0F8"
             },
             "line": {
              "color": "white"
             }
            },
            "header": {
             "fill": {
              "color": "#C8D4E3"
             },
             "line": {
              "color": "white"
             }
            },
            "type": "table"
           }
          ]
         },
         "layout": {
          "annotationdefaults": {
           "arrowcolor": "#2a3f5f",
           "arrowhead": 0,
           "arrowwidth": 1
          },
          "autotypenumbers": "strict",
          "coloraxis": {
           "colorbar": {
            "outlinewidth": 0,
            "ticks": ""
           }
          },
          "colorscale": {
           "diverging": [
            [
             0,
             "#8e0152"
            ],
            [
             0.1,
             "#c51b7d"
            ],
            [
             0.2,
             "#de77ae"
            ],
            [
             0.3,
             "#f1b6da"
            ],
            [
             0.4,
             "#fde0ef"
            ],
            [
             0.5,
             "#f7f7f7"
            ],
            [
             0.6,
             "#e6f5d0"
            ],
            [
             0.7,
             "#b8e186"
            ],
            [
             0.8,
             "#7fbc41"
            ],
            [
             0.9,
             "#4d9221"
            ],
            [
             1,
             "#276419"
            ]
           ],
           "sequential": [
            [
             0,
             "#0d0887"
            ],
            [
             0.1111111111111111,
             "#46039f"
            ],
            [
             0.2222222222222222,
             "#7201a8"
            ],
            [
             0.3333333333333333,
             "#9c179e"
            ],
            [
             0.4444444444444444,
             "#bd3786"
            ],
            [
             0.5555555555555556,
             "#d8576b"
            ],
            [
             0.6666666666666666,
             "#ed7953"
            ],
            [
             0.7777777777777778,
             "#fb9f3a"
            ],
            [
             0.8888888888888888,
             "#fdca26"
            ],
            [
             1,
             "#f0f921"
            ]
           ],
           "sequentialminus": [
            [
             0,
             "#0d0887"
            ],
            [
             0.1111111111111111,
             "#46039f"
            ],
            [
             0.2222222222222222,
             "#7201a8"
            ],
            [
             0.3333333333333333,
             "#9c179e"
            ],
            [
             0.4444444444444444,
             "#bd3786"
            ],
            [
             0.5555555555555556,
             "#d8576b"
            ],
            [
             0.6666666666666666,
             "#ed7953"
            ],
            [
             0.7777777777777778,
             "#fb9f3a"
            ],
            [
             0.8888888888888888,
             "#fdca26"
            ],
            [
             1,
             "#f0f921"
            ]
           ]
          },
          "colorway": [
           "#636efa",
           "#EF553B",
           "#00cc96",
           "#ab63fa",
           "#FFA15A",
           "#19d3f3",
           "#FF6692",
           "#B6E880",
           "#FF97FF",
           "#FECB52"
          ],
          "font": {
           "color": "#2a3f5f"
          },
          "geo": {
           "bgcolor": "white",
           "lakecolor": "white",
           "landcolor": "#E5ECF6",
           "showlakes": true,
           "showland": true,
           "subunitcolor": "white"
          },
          "hoverlabel": {
           "align": "left"
          },
          "hovermode": "closest",
          "mapbox": {
           "style": "light"
          },
          "paper_bgcolor": "white",
          "plot_bgcolor": "#E5ECF6",
          "polar": {
           "angularaxis": {
            "gridcolor": "white",
            "linecolor": "white",
            "ticks": ""
           },
           "bgcolor": "#E5ECF6",
           "radialaxis": {
            "gridcolor": "white",
            "linecolor": "white",
            "ticks": ""
           }
          },
          "scene": {
           "xaxis": {
            "backgroundcolor": "#E5ECF6",
            "gridcolor": "white",
            "gridwidth": 2,
            "linecolor": "white",
            "showbackground": true,
            "ticks": "",
            "zerolinecolor": "white"
           },
           "yaxis": {
            "backgroundcolor": "#E5ECF6",
            "gridcolor": "white",
            "gridwidth": 2,
            "linecolor": "white",
            "showbackground": true,
            "ticks": "",
            "zerolinecolor": "white"
           },
           "zaxis": {
            "backgroundcolor": "#E5ECF6",
            "gridcolor": "white",
            "gridwidth": 2,
            "linecolor": "white",
            "showbackground": true,
            "ticks": "",
            "zerolinecolor": "white"
           }
          },
          "shapedefaults": {
           "line": {
            "color": "#2a3f5f"
           }
          },
          "ternary": {
           "aaxis": {
            "gridcolor": "white",
            "linecolor": "white",
            "ticks": ""
           },
           "baxis": {
            "gridcolor": "white",
            "linecolor": "white",
            "ticks": ""
           },
           "bgcolor": "#E5ECF6",
           "caxis": {
            "gridcolor": "white",
            "linecolor": "white",
            "ticks": ""
           }
          },
          "title": {
           "x": 0.05
          },
          "xaxis": {
           "automargin": true,
           "gridcolor": "white",
           "linecolor": "white",
           "ticks": "",
           "title": {
            "standoff": 15
           },
           "zerolinecolor": "white",
           "zerolinewidth": 2
          },
          "yaxis": {
           "automargin": true,
           "gridcolor": "white",
           "linecolor": "white",
           "ticks": "",
           "title": {
            "standoff": 15
           },
           "zerolinecolor": "white",
           "zerolinewidth": 2
          }
         }
        }
       }
      },
      "text/html": [
       "<div>                            <div id=\"678360de-da13-4560-bfda-5f4197397972\" class=\"plotly-graph-div\" style=\"height:525px; width:100%;\"></div>            <script type=\"text/javascript\">                require([\"plotly\"], function(Plotly) {                    window.PLOTLYENV=window.PLOTLYENV || {};                                    if (document.getElementById(\"678360de-da13-4560-bfda-5f4197397972\")) {                    Plotly.newPlot(                        \"678360de-da13-4560-bfda-5f4197397972\",                        [{\"legendgroup\":\"Illumina HiSeq 3000\",\"legendgrouptitle\":{\"text\":\"Batch Illumina HiSeq 3000\"},\"marker\":{\"color\":[\"blue\",\"blue\",\"blue\",\"blue\",\"blue\",\"blue\",\"blue\",\"blue\",\"blue\",\"blue\",\"blue\",\"blue\",\"blue\",\"blue\",\"blue\",\"blue\",\"blue\",\"blue\",\"blue\",\"blue\",\"blue\",\"blue\",\"blue\",\"blue\",\"blue\",\"blue\",\"blue\",\"blue\",\"blue\",\"blue\",\"blue\",\"blue\",\"blue\",\"blue\",\"blue\",\"blue\",\"blue\",\"blue\",\"blue\",\"blue\",\"blue\",\"blue\",\"blue\",\"blue\",\"blue\",\"blue\",\"blue\",\"blue\",\"blue\",\"blue\",\"blue\",\"blue\",\"blue\",\"blue\",\"blue\",\"blue\",\"blue\",\"blue\",\"blue\",\"blue\",\"blue\",\"blue\",\"blue\",\"blue\",\"blue\",\"blue\",\"blue\",\"blue\",\"blue\",\"blue\",\"blue\",\"blue\",\"blue\",\"blue\",\"blue\",\"blue\",\"blue\",\"blue\",\"blue\",\"blue\",\"blue\"],\"size\":8,\"symbol\":[\"circle\",\"circle\",\"circle\",\"circle\",\"circle\",\"circle\",\"circle\",\"circle\",\"circle\",\"circle\",\"circle\",\"circle\",\"circle\",\"circle\",\"circle\",\"circle\",\"circle\",\"circle\",\"circle\",\"circle\",\"circle\",\"circle\",\"circle\",\"circle\",\"circle\",\"circle\",\"circle\",\"circle\",\"circle\",\"circle\",\"circle\",\"circle\",\"circle\",\"circle\",\"circle\",\"circle\",\"circle\",\"circle\",\"circle\",\"circle\",\"circle\",\"circle\",\"circle\",\"circle\",\"circle\",\"circle\",\"circle\",\"circle\",\"circle\",\"circle\",\"circle\",\"circle\",\"circle\",\"circle\",\"circle\",\"circle\",\"circle\",\"circle\",\"circle\",\"circle\",\"circle\",\"circle\",\"circle\",\"circle\",\"circle\",\"circle\",\"circle\",\"circle\",\"circle\",\"circle\",\"circle\",\"circle\",\"circle\",\"circle\",\"circle\",\"circle\",\"circle\",\"circle\",\"circle\",\"circle\",\"circle\"]},\"mode\":\"markers\",\"name\":\"Wastewater:Water and sludge\",\"x\":[-143.6530841529096,-45.09471586532449,-190.11339944322972,-26.157613048649303,-18.828183999768196,79.35043272467496,-138.0932282351388,94.58608035230982,48.20689875450492,55.365849158913846,-16.141875338893016,-180.29772989641776,11.283102303687652,-162.78170294574164,-7.719318762692639,-66.93429868834824,-52.63574359403867,14.45183803017302,-176.96355407680426,-188.05281916860972,-8.141715784782777,-64.33236890564852,-73.83125097048158,-71.36205428573908,-160.4726349825291,-137.17409275197323,19.97235493178977,-68.9600720046058,-17.529921314580523,33.36204318650658,54.37528390882907,-151.76751182396185,-83.98628141796596,-74.26553314293963,-85.61015995579461,-39.80786934684439,-156.4413699677408,-148.26026469399937,-121.12013294836814,-103.55485902483407,-27.805539449897722,-181.05159753548176,-72.24841908886329,-121.41646198848738,-11.942643907105092,-94.64234056226056,19.15631361385606,-121.01783248788004,-40.56803353700561,-123.13215701840328,-148.12755723600557,-108.10195434760145,-129.16002371146055,-183.33793077712284,-128.03435218990035,-135.38510746056969,41.08645192803429,-130.3259584010227,-152.23808726002216,10.922923050674973,-18.244860633302842,-45.36123394681942,132.4320253386229,-110.32633773166441,-61.09020857921215,17.926637842167136,-160.76990429869508,-96.27405289231717,-123.34640032882268,-116.31831496082646,-58.14143085776714,-123.03922050202999,-19.368683774277947,77.28729295261662,-202.94554181207693,-144.7473707792179,-74.21989449600994,-132.4982126154778,-93.97673962351172,-139.51145627655362,-104.33862844068796],\"y\":[-26.52501418197904,-28.54824223165276,62.14924051609918,-46.857823322933584,-65.54872943085009,16.591396851364344,66.12293748219132,29.04170485560375,-18.88356781902578,-0.3717981781888797,-10.145241376213944,-15.225897428306176,-17.953772465340283,26.796535341405452,46.94551288417253,83.02579459794673,-35.88482478995112,-9.176339841634261,-43.446983263571596,-23.356652121561886,-53.80043779871971,-92.19809026703327,77.37851651739123,17.940398127337584,46.80171103277465,-23.333577824581035,-80.86397408491482,41.21866930351058,42.610819293012156,-30.861865781390776,7.592459125875281,54.78521877920536,-75.34819672984285,-14.656152278937023,-66.79928856230727,5.786529967411493,-41.69991487593441,-45.923515052746936,45.21474221894931,108.32171335983156,10.744004520977931,-25.742149853743115,-27.53011878204388,-35.65450410924835,-51.0671728977054,13.031445138196672,30.735148490671943,74.97398301720727,5.387955795063974,-83.35293894470419,46.65094001011608,-100.3616486630748,13.795592039732467,76.4203814283018,37.30576018312325,86.47094622087472,28.86721088875641,-24.854456211515075,-17.889296921572974,10.147754372182114,-25.28755052796052,-53.98093915683039,44.595214587224014,31.49491804163039,-81.36180075649227,9.580627693077238,35.1977826830939,-32.09658163660223,48.13311975523685,46.04180692795303,6.231834589951417,41.62367111312194,31.32802372440583,7.47880669879658,9.073162532358836,8.302445968573041,-28.7537691094973,-29.939952557775463,43.281642887845564,59.308492192227995,70.05252224741577],\"type\":\"scatter\"},{\"legendgroup\":\"Illumina MiSeq\",\"legendgrouptitle\":{\"text\":\"Batch Illumina MiSeq\"},\"marker\":{\"color\":[\"red\",\"red\",\"red\",\"red\",\"red\",\"red\",\"red\",\"red\",\"red\",\"red\",\"red\",\"red\",\"red\",\"red\",\"red\",\"red\",\"red\",\"red\",\"red\",\"red\",\"red\",\"red\",\"red\",\"red\",\"red\",\"red\",\"red\",\"red\",\"red\",\"red\",\"red\",\"red\",\"red\",\"red\",\"red\",\"red\",\"red\",\"red\",\"red\",\"red\",\"red\",\"red\",\"red\",\"red\",\"red\",\"red\",\"red\",\"red\",\"red\",\"red\",\"red\",\"red\",\"red\",\"red\",\"red\",\"red\",\"red\",\"red\",\"red\",\"red\",\"red\",\"red\",\"red\",\"red\"],\"size\":8,\"symbol\":[\"circle\",\"circle\",\"circle\",\"circle\",\"circle\",\"circle\",\"circle\",\"circle\",\"circle\",\"circle\",\"circle\",\"circle\",\"circle\",\"circle\",\"circle\",\"circle\",\"circle\",\"circle\",\"circle\",\"circle\",\"circle\",\"circle\",\"circle\",\"circle\",\"circle\",\"circle\",\"circle\",\"circle\",\"circle\",\"circle\",\"circle\",\"circle\",\"circle\",\"circle\",\"circle\",\"circle\",\"circle\",\"circle\",\"circle\",\"circle\",\"circle\",\"circle\",\"circle\",\"circle\",\"circle\",\"circle\",\"circle\",\"circle\",\"circle\",\"circle\",\"circle\",\"circle\",\"circle\",\"circle\",\"circle\",\"circle\",\"circle\",\"circle\",\"circle\",\"circle\",\"circle\",\"circle\",\"circle\",\"circle\"]},\"mode\":\"markers\",\"name\":\"Wastewater:Water and sludge\",\"x\":[68.70907960960744,97.20138520635871,125.06400420093554,82.2171248359534,100.58491638832658,107.90000504340749,54.361908084056076,74.60502877371464,61.84623507909179,137.4996800437477,95.37563486563295,111.48851131493491,111.31731142410214,86.07186835998618,85.98778595906593,62.37019201421626,67.11644788033723,77.43940280700971,51.39192468872077,61.51515341871191,156.55037077280937,113.82490415738044,70.29884317145603,91.27742161215497,92.41150244598266,74.51660917313977,100.52824704217412,91.51977697807912,64.48967056106063,83.93028745725542,60.352889656182725,74.88530587777886,94.8121708521024,80.17139341782608,67.2718571000903,66.28879548416366,92.18681866272745,68.78557873133376,72.57085666996701,53.03397518899343,101.56322872993874,81.33566107378218,85.51320875816712,86.59912253367858,76.99757589860162,91.43397727037443,63.6559120315025,134.48268424173142,112.92422100380203,59.1128149647622,104.34428302946668,73.81522890175741,57.530888910064085,73.8540012555636,86.9121220195665,58.732065152784976,204.7281985382032,87.49027856651169,122.67256909962349,105.62309804511916,204.72819853820317,204.46488045058948,204.72819853820317,130.3610294077825],\"y\":[-16.820717629243052,-17.87565618287521,-2.1603124208240976,-14.634962328561437,2.334251558364382,-0.4426373188068718,-17.739408873186793,-7.175145935887525,-9.106981076402388,14.228600251641343,-5.314029727207173,4.729755657865469,-0.5518372394981212,-11.016754296384077,-14.748200273031971,-56.793220352223706,-38.139458322166966,-15.337545683705695,-18.688074023886998,-14.161629980855485,43.37004473523679,-8.37389488998149,-15.130109392792956,-24.512343972993687,-17.58257110464574,-7.401021451606318,-9.417530164146676,-16.50685175581895,-19.052558925402028,-13.532775333145457,-11.167866747709663,-31.76243521957747,-12.541157530530048,-18.508313292644385,-4.13798795788857,-35.81286537300693,-11.105712738689034,-1.724877439803426,-21.003591842299237,-21.925878456568633,-12.749703503746165,-23.970145187430123,-29.19523629161983,-20.823760487557006,-11.978924577750744,-13.627179932755746,-14.375403404474797,10.48217386568607,1.1641161643986226,-19.90059653078296,6.986956965552026,-12.599557162409765,-27.67569312856872,-21.571162774632125,2.9784438250161624,-11.579721236222811,111.39875851199528,5.569835220447763,0.9505882165759052,1.541033671829166,111.39875851199527,110.63922077936535,111.39875851199525,23.486388858168212],\"type\":\"scatter\"}],                        {\"template\":{\"data\":{\"histogram2dcontour\":[{\"type\":\"histogram2dcontour\",\"colorbar\":{\"outlinewidth\":0,\"ticks\":\"\"},\"colorscale\":[[0.0,\"#0d0887\"],[0.1111111111111111,\"#46039f\"],[0.2222222222222222,\"#7201a8\"],[0.3333333333333333,\"#9c179e\"],[0.4444444444444444,\"#bd3786\"],[0.5555555555555556,\"#d8576b\"],[0.6666666666666666,\"#ed7953\"],[0.7777777777777778,\"#fb9f3a\"],[0.8888888888888888,\"#fdca26\"],[1.0,\"#f0f921\"]]}],\"choropleth\":[{\"type\":\"choropleth\",\"colorbar\":{\"outlinewidth\":0,\"ticks\":\"\"}}],\"histogram2d\":[{\"type\":\"histogram2d\",\"colorbar\":{\"outlinewidth\":0,\"ticks\":\"\"},\"colorscale\":[[0.0,\"#0d0887\"],[0.1111111111111111,\"#46039f\"],[0.2222222222222222,\"#7201a8\"],[0.3333333333333333,\"#9c179e\"],[0.4444444444444444,\"#bd3786\"],[0.5555555555555556,\"#d8576b\"],[0.6666666666666666,\"#ed7953\"],[0.7777777777777778,\"#fb9f3a\"],[0.8888888888888888,\"#fdca26\"],[1.0,\"#f0f921\"]]}],\"heatmap\":[{\"type\":\"heatmap\",\"colorbar\":{\"outlinewidth\":0,\"ticks\":\"\"},\"colorscale\":[[0.0,\"#0d0887\"],[0.1111111111111111,\"#46039f\"],[0.2222222222222222,\"#7201a8\"],[0.3333333333333333,\"#9c179e\"],[0.4444444444444444,\"#bd3786\"],[0.5555555555555556,\"#d8576b\"],[0.6666666666666666,\"#ed7953\"],[0.7777777777777778,\"#fb9f3a\"],[0.8888888888888888,\"#fdca26\"],[1.0,\"#f0f921\"]]}],\"heatmapgl\":[{\"type\":\"heatmapgl\",\"colorbar\":{\"outlinewidth\":0,\"ticks\":\"\"},\"colorscale\":[[0.0,\"#0d0887\"],[0.1111111111111111,\"#46039f\"],[0.2222222222222222,\"#7201a8\"],[0.3333333333333333,\"#9c179e\"],[0.4444444444444444,\"#bd3786\"],[0.5555555555555556,\"#d8576b\"],[0.6666666666666666,\"#ed7953\"],[0.7777777777777778,\"#fb9f3a\"],[0.8888888888888888,\"#fdca26\"],[1.0,\"#f0f921\"]]}],\"contourcarpet\":[{\"type\":\"contourcarpet\",\"colorbar\":{\"outlinewidth\":0,\"ticks\":\"\"}}],\"contour\":[{\"type\":\"contour\",\"colorbar\":{\"outlinewidth\":0,\"ticks\":\"\"},\"colorscale\":[[0.0,\"#0d0887\"],[0.1111111111111111,\"#46039f\"],[0.2222222222222222,\"#7201a8\"],[0.3333333333333333,\"#9c179e\"],[0.4444444444444444,\"#bd3786\"],[0.5555555555555556,\"#d8576b\"],[0.6666666666666666,\"#ed7953\"],[0.7777777777777778,\"#fb9f3a\"],[0.8888888888888888,\"#fdca26\"],[1.0,\"#f0f921\"]]}],\"surface\":[{\"type\":\"surface\",\"colorbar\":{\"outlinewidth\":0,\"ticks\":\"\"},\"colorscale\":[[0.0,\"#0d0887\"],[0.1111111111111111,\"#46039f\"],[0.2222222222222222,\"#7201a8\"],[0.3333333333333333,\"#9c179e\"],[0.4444444444444444,\"#bd3786\"],[0.5555555555555556,\"#d8576b\"],[0.6666666666666666,\"#ed7953\"],[0.7777777777777778,\"#fb9f3a\"],[0.8888888888888888,\"#fdca26\"],[1.0,\"#f0f921\"]]}],\"mesh3d\":[{\"type\":\"mesh3d\",\"colorbar\":{\"outlinewidth\":0,\"ticks\":\"\"}}],\"scatter\":[{\"fillpattern\":{\"fillmode\":\"overlay\",\"size\":10,\"solidity\":0.2},\"type\":\"scatter\"}],\"parcoords\":[{\"type\":\"parcoords\",\"line\":{\"colorbar\":{\"outlinewidth\":0,\"ticks\":\"\"}}}],\"scatterpolargl\":[{\"type\":\"scatterpolargl\",\"marker\":{\"colorbar\":{\"outlinewidth\":0,\"ticks\":\"\"}}}],\"bar\":[{\"error_x\":{\"color\":\"#2a3f5f\"},\"error_y\":{\"color\":\"#2a3f5f\"},\"marker\":{\"line\":{\"color\":\"#E5ECF6\",\"width\":0.5},\"pattern\":{\"fillmode\":\"overlay\",\"size\":10,\"solidity\":0.2}},\"type\":\"bar\"}],\"scattergeo\":[{\"type\":\"scattergeo\",\"marker\":{\"colorbar\":{\"outlinewidth\":0,\"ticks\":\"\"}}}],\"scatterpolar\":[{\"type\":\"scatterpolar\",\"marker\":{\"colorbar\":{\"outlinewidth\":0,\"ticks\":\"\"}}}],\"histogram\":[{\"marker\":{\"pattern\":{\"fillmode\":\"overlay\",\"size\":10,\"solidity\":0.2}},\"type\":\"histogram\"}],\"scattergl\":[{\"type\":\"scattergl\",\"marker\":{\"colorbar\":{\"outlinewidth\":0,\"ticks\":\"\"}}}],\"scatter3d\":[{\"type\":\"scatter3d\",\"line\":{\"colorbar\":{\"outlinewidth\":0,\"ticks\":\"\"}},\"marker\":{\"colorbar\":{\"outlinewidth\":0,\"ticks\":\"\"}}}],\"scattermapbox\":[{\"type\":\"scattermapbox\",\"marker\":{\"colorbar\":{\"outlinewidth\":0,\"ticks\":\"\"}}}],\"scatterternary\":[{\"type\":\"scatterternary\",\"marker\":{\"colorbar\":{\"outlinewidth\":0,\"ticks\":\"\"}}}],\"scattercarpet\":[{\"type\":\"scattercarpet\",\"marker\":{\"colorbar\":{\"outlinewidth\":0,\"ticks\":\"\"}}}],\"carpet\":[{\"aaxis\":{\"endlinecolor\":\"#2a3f5f\",\"gridcolor\":\"white\",\"linecolor\":\"white\",\"minorgridcolor\":\"white\",\"startlinecolor\":\"#2a3f5f\"},\"baxis\":{\"endlinecolor\":\"#2a3f5f\",\"gridcolor\":\"white\",\"linecolor\":\"white\",\"minorgridcolor\":\"white\",\"startlinecolor\":\"#2a3f5f\"},\"type\":\"carpet\"}],\"table\":[{\"cells\":{\"fill\":{\"color\":\"#EBF0F8\"},\"line\":{\"color\":\"white\"}},\"header\":{\"fill\":{\"color\":\"#C8D4E3\"},\"line\":{\"color\":\"white\"}},\"type\":\"table\"}],\"barpolar\":[{\"marker\":{\"line\":{\"color\":\"#E5ECF6\",\"width\":0.5},\"pattern\":{\"fillmode\":\"overlay\",\"size\":10,\"solidity\":0.2}},\"type\":\"barpolar\"}],\"pie\":[{\"automargin\":true,\"type\":\"pie\"}]},\"layout\":{\"autotypenumbers\":\"strict\",\"colorway\":[\"#636efa\",\"#EF553B\",\"#00cc96\",\"#ab63fa\",\"#FFA15A\",\"#19d3f3\",\"#FF6692\",\"#B6E880\",\"#FF97FF\",\"#FECB52\"],\"font\":{\"color\":\"#2a3f5f\"},\"hovermode\":\"closest\",\"hoverlabel\":{\"align\":\"left\"},\"paper_bgcolor\":\"white\",\"plot_bgcolor\":\"#E5ECF6\",\"polar\":{\"bgcolor\":\"#E5ECF6\",\"angularaxis\":{\"gridcolor\":\"white\",\"linecolor\":\"white\",\"ticks\":\"\"},\"radialaxis\":{\"gridcolor\":\"white\",\"linecolor\":\"white\",\"ticks\":\"\"}},\"ternary\":{\"bgcolor\":\"#E5ECF6\",\"aaxis\":{\"gridcolor\":\"white\",\"linecolor\":\"white\",\"ticks\":\"\"},\"baxis\":{\"gridcolor\":\"white\",\"linecolor\":\"white\",\"ticks\":\"\"},\"caxis\":{\"gridcolor\":\"white\",\"linecolor\":\"white\",\"ticks\":\"\"}},\"coloraxis\":{\"colorbar\":{\"outlinewidth\":0,\"ticks\":\"\"}},\"colorscale\":{\"sequential\":[[0.0,\"#0d0887\"],[0.1111111111111111,\"#46039f\"],[0.2222222222222222,\"#7201a8\"],[0.3333333333333333,\"#9c179e\"],[0.4444444444444444,\"#bd3786\"],[0.5555555555555556,\"#d8576b\"],[0.6666666666666666,\"#ed7953\"],[0.7777777777777778,\"#fb9f3a\"],[0.8888888888888888,\"#fdca26\"],[1.0,\"#f0f921\"]],\"sequentialminus\":[[0.0,\"#0d0887\"],[0.1111111111111111,\"#46039f\"],[0.2222222222222222,\"#7201a8\"],[0.3333333333333333,\"#9c179e\"],[0.4444444444444444,\"#bd3786\"],[0.5555555555555556,\"#d8576b\"],[0.6666666666666666,\"#ed7953\"],[0.7777777777777778,\"#fb9f3a\"],[0.8888888888888888,\"#fdca26\"],[1.0,\"#f0f921\"]],\"diverging\":[[0,\"#8e0152\"],[0.1,\"#c51b7d\"],[0.2,\"#de77ae\"],[0.3,\"#f1b6da\"],[0.4,\"#fde0ef\"],[0.5,\"#f7f7f7\"],[0.6,\"#e6f5d0\"],[0.7,\"#b8e186\"],[0.8,\"#7fbc41\"],[0.9,\"#4d9221\"],[1,\"#276419\"]]},\"xaxis\":{\"gridcolor\":\"white\",\"linecolor\":\"white\",\"ticks\":\"\",\"title\":{\"standoff\":15},\"zerolinecolor\":\"white\",\"automargin\":true,\"zerolinewidth\":2},\"yaxis\":{\"gridcolor\":\"white\",\"linecolor\":\"white\",\"ticks\":\"\",\"title\":{\"standoff\":15},\"zerolinecolor\":\"white\",\"automargin\":true,\"zerolinewidth\":2},\"scene\":{\"xaxis\":{\"backgroundcolor\":\"#E5ECF6\",\"gridcolor\":\"white\",\"linecolor\":\"white\",\"showbackground\":true,\"ticks\":\"\",\"zerolinecolor\":\"white\",\"gridwidth\":2},\"yaxis\":{\"backgroundcolor\":\"#E5ECF6\",\"gridcolor\":\"white\",\"linecolor\":\"white\",\"showbackground\":true,\"ticks\":\"\",\"zerolinecolor\":\"white\",\"gridwidth\":2},\"zaxis\":{\"backgroundcolor\":\"#E5ECF6\",\"gridcolor\":\"white\",\"linecolor\":\"white\",\"showbackground\":true,\"ticks\":\"\",\"zerolinecolor\":\"white\",\"gridwidth\":2}},\"shapedefaults\":{\"line\":{\"color\":\"#2a3f5f\"}},\"annotationdefaults\":{\"arrowcolor\":\"#2a3f5f\",\"arrowhead\":0,\"arrowwidth\":1},\"geo\":{\"bgcolor\":\"white\",\"landcolor\":\"#E5ECF6\",\"subunitcolor\":\"white\",\"showland\":true,\"showlakes\":true,\"lakecolor\":\"white\"},\"title\":{\"x\":0.05},\"mapbox\":{\"style\":\"light\"}}}},                        {\"responsive\": true}                    ).then(function(){\n",
       "                            \n",
       "var gd = document.getElementById('678360de-da13-4560-bfda-5f4197397972');\n",
       "var x = new MutationObserver(function (mutations, observer) {{\n",
       "        var display = window.getComputedStyle(gd).display;\n",
       "        if (!display || display === 'none') {{\n",
       "            console.log([gd, 'removed!']);\n",
       "            Plotly.purge(gd);\n",
       "            observer.disconnect();\n",
       "        }}\n",
       "}});\n",
       "\n",
       "// Listen for the removal of the full notebook cells\n",
       "var notebookContainer = gd.closest('#notebook-container');\n",
       "if (notebookContainer) {{\n",
       "    x.observe(notebookContainer, {childList: true});\n",
       "}}\n",
       "\n",
       "// Listen for the clearing of the current output cell\n",
       "var outputEl = gd.closest('.output');\n",
       "if (outputEl) {{\n",
       "    x.observe(outputEl, {childList: true});\n",
       "}}\n",
       "\n",
       "                        })                };                });            </script>        </div>"
      ]
     },
     "metadata": {},
     "output_type": "display_data"
    }
   ],
   "source": [
    "file = \"metadataset_w_study_dataset_all_biomes_merged_abund_tables_genus.csv\"\n",
    "path = f\"data/MGnify/datasets/{file}\"\n",
    "\n",
    "batch_label = \"instrument_platform\"\n",
    "exp_label = \"biomes\"\n",
    "drop_cols = [\"experiment_type\", \"study_id\", \"centre_name\", \"index\"]\n",
    "\n",
    "raw_data = DataPreprocess(path, factors = [\"sample\", batch_label, exp_label]).dropna().reset_index(drop=True) #drop samples without meta info\n",
    "pre_data = raw_data[raw_data[\"centre_name\"]==\"DTU-GE\"].reset_index(drop=True)\n",
    "new_data = pre_data.drop(drop_cols, axis=1)\n",
    "new_data[exp_label] = new_data[exp_label].str.replace(\"root:Engineered:\", \"\", regex=False) #remove redundant label\n",
    "\n",
    "#exclude batches that can't be corrected\n",
    "data = new_data\n",
    "data = new_data[new_data[exp_label] != \"Wastewater\"]\n",
    "\n",
    "#plot PCA of data to visualize it\n",
    "plotPCoA(data, method=\"aitchison\", sample_label=\"sample\", batch_label=batch_label, experiment_label=exp_label)"
   ]
  },
  {
   "cell_type": "markdown",
   "metadata": {},
   "source": [
    "### Prepare data for MetaABaCo"
   ]
  },
  {
   "cell_type": "code",
   "execution_count": 104,
   "metadata": {},
   "outputs": [
    {
     "name": "stdout",
     "output_type": "stream",
     "text": [
      "Using cuda\n"
     ]
    }
   ],
   "source": [
    "#Setting up device\n",
    "device = torch.device(\"cuda\" if torch.cuda.is_available() else \"cpu\")\n",
    "# device = torch.device(\"cpu\")\n",
    "print(f\"Using {device}\")\n",
    "\n",
    "otu_dataloader, ohe_batch, ohe_biome, otu_data, otu_batch, otu_biome = ABaCoDataLoader(data, \n",
    "                                                                                       device = device, \n",
    "                                                                                       batch_label=batch_label, \n",
    "                                                                                       exp_label=exp_label, \n",
    "                                                                                       batch_size = 145, \n",
    "                                                                                       total_size = 3326, \n",
    "                                                                                       total_batch=2)"
   ]
  },
  {
   "cell_type": "markdown",
   "metadata": {},
   "source": [
    "### Train MetaABaCo"
   ]
  },
  {
   "cell_type": "code",
   "execution_count": 134,
   "metadata": {},
   "outputs": [
    {
     "name": "stderr",
     "output_type": "stream",
     "text": [
      "/tmp/ipykernel_22721/1764100207.py:17: UserWarning:\n",
      "\n",
      "To copy construct from a tensor, it is recommended to use sourceTensor.clone().detach() or sourceTensor.clone().detach().requires_grad_(True), rather than torch.tensor(sourceTensor).\n",
      "\n"
     ]
    },
    {
     "name": "stdout",
     "output_type": "stream",
     "text": [
      "Epoch 1/500,  Recon. Loss: -303069237148590.5625   |   KL-Div: 802526731757718189046462525283336737656821832774761330134357073495945551436750234000348478472262925974845305084390560031920730323439486202030465008056086064741359691436013163330404352.0000    |    Loss: 802526731757718189046462525283336737656821832774761330134357073495945551436750234000348478472262925974845305084390560031920730323439486202030465008056086064741359691436013163330404352.0000\n",
      "Epoch 2/500,  Recon. Loss: -300909179754422.2500   |   KL-Div: 962266887939979960553885106432964106090291882801410667249821045717724688105477491161940837468476227840144992546990793735410555473182845441601131408037324613144385693761618145208958976.0000    |    Loss: 962266887939979960553885106432964106090291882801410667249821045717724688105477491161940837468476227840144992546990793735410555473182845441601131408037324613144385693761618145208958976.0000\n",
      "Epoch 3/500,  Recon. Loss: -303822138050609.8125   |   KL-Div: 648901285258554874867365956124547759986401117937642336413373333524142071592595017470274030759723109017501993181421274014548462350205952812850928963255936400189834594855483044851089408.0000    |    Loss: 648901285258554874867365956124547759986401117937642336413373333524142071592595017470274030759723109017501993181421274014548462350205952812850928963255936400189834594855483044851089408.0000\n",
      "Epoch 4/500,  Recon. Loss: -305209586081393.5625   |   KL-Div: 121383124375118130483041374820243310905269592716417911821816908792487316507805956811266008343180670145381527414847684034827346885358131560982212898014979079762188000040764483534061568.0000    |    Loss: 121383124375118130483041374820243310905269592716417911821816908792487316507805956811266008343180670145381527414847684034827346885358131560982212898014979079762188000040764483534061568.0000\n",
      "Epoch 5/500,  Recon. Loss: -304807047028148.1875   |   KL-Div: 14138278222975507038882033369483647113274675490654562532926887125101182869677661754736616734014736493537879591387127103362318233240943379827591892380036342106722330585828113554341888.0000    |    Loss: 14138278222975507038882033369483647113274675490654562532926887125101182869677661754736616734014736493537879591387127103362318233240943379827591892380036342106722330585828113554341888.0000\n",
      "Epoch 6/500,  Recon. Loss: -305607566451257.6875   |   KL-Div: 411746248790363188628615872423273781169707868882507281888882662941133024120625216631821929554426555316515721968043663150140499964929461118048602446292920340174686366233246439177191424.0000    |    Loss: 411746248790363188628615872423273781169707868882507281888882662941133024120625216631821929554426555316515721968043663150140499964929461118048602446292920340174686366233246439177191424.0000\n",
      "Epoch 7/500,  Recon. Loss: -306653140433268.3750   |   KL-Div: 128656766349717960406148259730277458502831117930414102858867206499454144315492922437401162066042132574722523525288896285586902203853853613132121964635841198762705092576086913374486528.0000    |    Loss: 128656766349717960406148259730277458502831117930414102858867206499454144315492922437401162066042132574722523525288896285586902203853853613132121964635841198762705092576086913374486528.0000\n",
      "Epoch 8/500,  Recon. Loss: -306161787106982.1875   |   KL-Div: 75737717370005639729668287603349707705462468068241868265106630202361129481720444943806525089402783580338816885670000653262225975056208739788018361182483458016028424865672281670549504.0000    |    Loss: 75737717370005639729668287603349707705462468068241868265106630202361129481720444943806525089402783580338816885670000653262225975056208739788018361182483458016028424865672281670549504.0000\n",
      "Epoch 9/500,  Recon. Loss: -308134049515746.6875   |   KL-Div: 342952588736792584082364033618147873918802974313275631042481657844323320489460367517937022653197318258728454463781388964217285874471536508320392323973669607176713370820949373295263744.0000    |    Loss: 342952588736792584082364033618147873918802974313275631042481657844323320489460367517937022653197318258728454463781388964217285874471536508320392323973669607176713370820949373295263744.0000\n",
      "Epoch 10/500,  Recon. Loss: -306406778224374.1250   |   KL-Div: 1644309562058252120447279751860053295505096149272345087065456497347282252325997081972730591629006980010560405988292405104380493018871134519503096843503320442810932263598412375514939392.0000    |    Loss: 1644309562058252120447279751860053295505096149272345087065456497347282252325997081972730591629006980010560405988292405104380493018871134519503096843503320442810932263598412375514939392.0000\n",
      "Epoch 11/500,  Recon. Loss: -309148769569754.7500   |   KL-Div: 23534274232895033756295691595215681907607510037395447008416306007183904867283249921853318714636755949532353722812397345279961752746939032194241786287263410434190833374267903364300800.0000    |    Loss: 23534274232895033756295691595215681907607510037395447008416306007183904867283249921853318714636755949532353722812397345279961752746939032194241786287263410434190833374267903364300800.0000\n",
      "Epoch 12/500,  Recon. Loss: -310066308466710.7500   |   KL-Div: 290460160553194353486937950193471102480292998374965167893235789247229702568547743751323987360493624868301686643816355620800777224324363198140749941723716800719474229207104525072072704.0000    |    Loss: 290460160553194353486937950193471102480292998374965167893235789247229702568547743751323987360493624868301686643816355620800777224324363198140749941723716800719474229207104525072072704.0000\n",
      "Epoch 13/500,  Recon. Loss: -309610135786342.3750   |   KL-Div: 68185631153050180173793272630434237017249111926636351528986299183542939087962582758287538008575534990695335269273997705676575096514850037730461580094087247467776204623576764669493248.0000    |    Loss: 68185631153050180173793272630434237017249111926636351528986299183542939087962582758287538008575534990695335269273997705676575096514850037730461580094087247467776204623576764669493248.0000\n",
      "Epoch 14/500,  Recon. Loss: -311901982825221.8125   |   KL-Div: 69350612499842323027277712722882373881228589457283277133712040055843927675906349102545439304388350258626433867859086742632158813795431727308683581504985195787137222752039108924669952.0000    |    Loss: 69350612499842323027277712722882373881228589457283277133712040055843927675906349102545439304388350258626433867859086742632158813795431727308683581504985195787137222752039108924669952.0000\n",
      "Epoch 15/500,  Recon. Loss: -311412227370454.0000   |   KL-Div: 64646240643411971033776667700730999398827562386202903159617167742839551862485006619792623513859462015317538515158393117397663170025884975607510598826374896172836439576040804444012544.0000    |    Loss: 64646240643411971033776667700730999398827562386202903159617167742839551862485006619792623513859462015317538515158393117397663170025884975607510598826374896172836439576040804444012544.0000\n",
      "Epoch 16/500,  Recon. Loss: -311415857124446.6250   |   KL-Div: 656189541227382400320041526184022656354645982750392622606981910094355871922663272792447537857441417095632943936757285819934766252705529137871182526565109162293565550967810057830400.0000    |    Loss: 656189541227382400320041526184022656354645982750392622606981910094355871922663272792447537857441417095632943936757285819934766252705529137871182526565109162293565550967810057830400.0000\n",
      "Epoch 17/500,  Recon. Loss: -311582161361821.1250   |   KL-Div: 51992575608811430319545105114989706699568438770232010816880450750238618019794173295546936880094233649884775575586214096569544423919772805050884670392495550221829807647907882148560896.0000    |    Loss: 51992575608811430319545105114989706699568438770232010816880450750238618019794173295546936880094233649884775575586214096569544423919772805050884670392495550221829807647907882148560896.0000\n",
      "Epoch 18/500,  Recon. Loss: -310750110070864.8750   |   KL-Div: 486322631736507718315595465487147374251118092731641483263803485722753202946923203706446795370140951020918046020979823065481122068663587217871233765776820559355805385243238507890081792.0000    |    Loss: 486322631736507718315595465487147374251118092731641483263803485722753202946923203706446795370140951020918046020979823065481122068663587217871233765776820559355805385243238507890081792.0000\n",
      "Epoch 19/500,  Recon. Loss: -314469320962436.4375   |   KL-Div: 681717650177444579226103467542103397701274606983162412759169888962594080193754684224728058437334805437576379225763276312625786114486035911797019114017073208586813254143616931581657088.0000    |    Loss: 681717650177444579226103467542103397701274606983162412759169888962594080193754684224728058437334805437576379225763276312625786114486035911797019114017073208586813254143616931581657088.0000\n",
      "Epoch 20/500,  Recon. Loss: -311643954610265.9375   |   KL-Div: 13559169286240879524733586595389791630440959771388047643653021441829998514676619088389699682066087598135648382137449122047507929400008153669285844204077383140531094494629442093056.0000    |    Loss: 13559169286240879524733586595389791630440959771388047643653021441829998514676619088389699682066087598135648382137449122047507929400008153669285844204077383140531094494629442093056.0000\n",
      "Epoch 21/500,  Recon. Loss: -313915574372002.8750   |   KL-Div: 207764385646469646153033360830474912732898265417380300821142212807954160412557905302477522002026265066403802160303353847108740719861033952705871266330155904035560200511553717126823936.0000    |    Loss: 207764385646469646153033360830474912732898265417380300821142212807954160412557905302477522002026265066403802160303353847108740719861033952705871266330155904035560200511553717126823936.0000\n",
      "Epoch 22/500,  Recon. Loss: -311394580001357.5000   |   KL-Div: 135219576744791834551203254780234842736758105266592599212578127558579501919675095856488499480127122219767189651621554463806077612209647633100453440691647236271592918975780809189883904.0000    |    Loss: 135219576744791834551203254780234842736758105266592599212578127558579501919675095856488499480127122219767189651621554463806077612209647633100453440691647236271592918975780809189883904.0000\n",
      "Epoch 23/500,  Recon. Loss: -309911284593262.3125   |   KL-Div: 242198917923664326833807285270951739497826140826968618083678781489492923842485615578557605614491856671221661133633586976401696571633057229965351884640481720747118956120168180194738176.0000    |    Loss: 242198917923664326833807285270951739497826140826968618083678781489492923842485615578557605614491856671221661133633586976401696571633057229965351884640481720747118956120168180194738176.0000\n",
      "Epoch 24/500,  Recon. Loss: -315061039478770.0000   |   KL-Div: 246584084029630962839989268390536817340839134674355639159802628366065967046882757381032296036570445690810651179460449372847193999459695097054858863664064884589027452692236515309256704.0000    |    Loss: 246584084029630962839989268390536817340839134674355639159802628366065967046882757381032296036570445690810651179460449372847193999459695097054858863664064884589027452692236515309256704.0000\n",
      "Epoch 25/500,  Recon. Loss: -310909977469442.5625   |   KL-Div: 97621750807760769681667207496615540863425634430477103181349202363458554892852292985883739205567497900835011449657063361379714290532984003332107723279516660439991469117895827144048640.0000    |    Loss: 97621750807760769681667207496615540863425634430477103181349202363458554892852292985883739205567497900835011449657063361379714290532984003332107723279516660439991469117895827144048640.0000\n",
      "Epoch 26/500,  Recon. Loss: -312371065099981.3125   |   KL-Div: 249175584692116978297486477410769790032246610621722337997815281532478517437191946090942806402939609635802718257673349396898245300539035588198193867161215907335699689178303120067788800.0000    |    Loss: 249175584692116978297486477410769790032246610621722337997815281532478517437191946090942806402939609635802718257673349396898245300539035588198193867161215907335699689178303120067788800.0000\n",
      "Epoch 27/500,  Recon. Loss: -312791897235874.6875   |   KL-Div: 76862233543024596224933592564086370328730521963164572361289332457273979835794429662183521695831861827162246334883013880284151796641372812140163611028456117028308829934953552674816.0000    |    Loss: 76862233543024596224933592564086370328730521963164572361289332457273979835794429662183521695831861827162246334883013880284151796641372812140163611028456117028308829934953552674816.0000\n",
      "Epoch 28/500,  Recon. Loss: -316275089535231.7500   |   KL-Div: 11443754906408127879497704746535095010381458247026613111769821746368576125320764022738874022975847270431619750472351778788606217639536094445648771885734425646498162044295192017633280.0000    |    Loss: 11443754906408127879497704746535095010381458247026613111769821746368576125320764022738874022975847270431619750472351778788606217639536094445648771885734425646498162044295192017633280.0000\n",
      "Epoch 29/500,  Recon. Loss: -314412134531460.3125   |   KL-Div: 399089297226945566785949103157161373825716324015295466705225833981967446962503486336455650536594796358591683585905718605926437063187028771294604229132918966940242079382749527236673536.0000    |    Loss: 399089297226945566785949103157161373825716324015295466705225833981967446962503486336455650536594796358591683585905718605926437063187028771294604229132918966940242079382749527236673536.0000\n",
      "Epoch 30/500,  Recon. Loss: -312552350221133.6250   |   KL-Div: 57098397042848439929295362905983649975888020657824165119770587968304332129050962594719949215316586567149110771686964828958443219252529332080523508455075708342670676751738504541634560.0000    |    Loss: 57098397042848439929295362905983649975888020657824165119770587968304332129050962594719949215316586567149110771686964828958443219252529332080523508455075708342670676751738504541634560.0000\n",
      "Epoch 31/500,  Recon. Loss: -315607876844488.5625   |   KL-Div: 497353021178771514864014136171030233685730799474274228451687448991224769981229175152891646905431496590278596814119768991568458304951507698457864323406153697465031908167502156796002304.0000    |    Loss: 497353021178771514864014136171030233685730799474274228451687448991224769981229175152891646905431496590278596814119768991568458304951507698457864323406153697465031908167502156796002304.0000\n",
      "Epoch 32/500,  Recon. Loss: -311557361274234.1250   |   KL-Div: 54870172472878987345642976775300905915223147517468107898415393997383735819164654707948137251696825391505527400056771589662469108662936456762544481327811206180964302403774684006973440.0000    |    Loss: 54870172472878987345642976775300905915223147517468107898415393997383735819164654707948137251696825391505527400056771589662469108662936456762544481327811206180964302403774684006973440.0000\n",
      "Epoch 33/500,  Recon. Loss: -315972979921781.8750   |   KL-Div: 1095791495458982775626824947512689687947185812845128535276999072927482661873097864526580370496688210334979544046885538197894417070963726561626911233370163890443260476505399726985707520.0000    |    Loss: 1095791495458982775626824947512689687947185812845128535276999072927482661873097864526580370496688210334979544046885538197894417070963726561626911233370163890443260476505399726985707520.0000\n",
      "Epoch 34/500,  Recon. Loss: -316004298768114.5000   |   KL-Div: 363825838912710605673017329937784587755720539765518338372111762874550341944587170897515347707443370455229813632017251040252121919351766320022591353878188398078919471779589109267300352.0000    |    Loss: 363825838912710605673017329937784587755720539765518338372111762874550341944587170897515347707443370455229813632017251040252121919351766320022591353878188398078919471779589109267300352.0000\n",
      "Epoch 35/500,  Recon. Loss: -310141697943286.5000   |   KL-Div: 20792723058190444782728734675231175920263770182313280306443372501119816207303142441658641125080160982091447488963524622516564595997049603560278376991490886727594204702119007331811328.0000    |    Loss: 20792723058190444782728734675231175920263770182313280306443372501119816207303142441658641125080160982091447488963524622516564595997049603560278376991490886727594204702119007331811328.0000\n",
      "Epoch 36/500,  Recon. Loss: -318238360971439.3750   |   KL-Div: 36593695439310981326129482743674365464651731645344205352616221194341684357735906590449291973382670706123221153118265206986733398237846072329540098642285821520442499605953150395088896.0000    |    Loss: 36593695439310981326129482743674365464651731645344205352616221194341684357735906590449291973382670706123221153118265206986733398237846072329540098642285821520442499605953150395088896.0000\n",
      "Epoch 37/500,  Recon. Loss: -317215355754685.2500   |   KL-Div: 64909307474578164490770975861784248168581802176992711327479151352181492978093636700736673298518775030739377279561252649894344962400923598221696498120876630477849549295407403018223616.0000    |    Loss: 64909307474578164490770975861784248168581802176992711327479151352181492978093636700736673298518775030739377279561252649894344962400923598221696498120876630477849549295407403018223616.0000\n",
      "Epoch 38/500,  Recon. Loss: -318651849972752.5625   |   KL-Div: 1379494910380353932934476300117645663395918929679685485193713539912443349748301546699378688230275744739785061927260868133684291041218252860033617542181831981416777379024452125313728512.0000    |    Loss: 1379494910380353932934476300117645663395918929679685485193713539912443349748301546699378688230275744739785061927260868133684291041218252860033617542181831981416777379024452125313728512.0000\n",
      "Epoch 39/500,  Recon. Loss: -317563559309973.8750   |   KL-Div: 85462785329161256006611993296915872380008714615857514069235270086911460519803645128353474615636723584043657059454675496710641888063309219881503371922304544615207173088892689403871232.0000    |    Loss: 85462785329161256006611993296915872380008714615857514069235270086911460519803645128353474615636723584043657059454675496710641888063309219881503371922304544615207173088892689403871232.0000\n",
      "Epoch 40/500,  Recon. Loss: -321022820063911.7500   |   KL-Div: 292112376289649143570167113545798723395972382461753115483524217713901498064684792756832614763163485972836865391685494382599201996952873597862575376373106094109127455092552958107189248.0000    |    Loss: 292112376289649143570167113545798723395972382461753115483524217713901498064684792756832614763163485972836865391685494382599201996952873597862575376373106094109127455092552958107189248.0000\n",
      "Epoch 41/500,  Recon. Loss: -320806822861397.5625   |   KL-Div: 18633406531736153469357194746925828529282431443999138751707457420447757260101154293760236662281099253690926759062559599573422977413617310444285795481709695814965019047633168843669504.0000    |    Loss: 18633406531736153469357194746925828529282431443999138751707457420447757260101154293760236662281099253690926759062559599573422977413617310444285795481709695814965019047633168843669504.0000\n",
      "Epoch 42/500,  Recon. Loss: -319543118615613.4375   |   KL-Div: 134955003856908704284708247046199681498107698026742056452724553473869769019029452950010873297719140800731682080701909378607794417128870091336770375106042434530814474488210612104986624.0000    |    Loss: 134955003856908704284708247046199681498107698026742056452724553473869769019029452950010873297719140800731682080701909378607794417128870091336770375106042434530814474488210612104986624.0000\n",
      "Epoch 43/500,  Recon. Loss: -321978115452322.0625   |   KL-Div: 133792684926993549465304619039283521780146798023796315151541749084008554127400330967013374628077625607109608413257327165884278473729988777385100985380984104376975223875102771622445056.0000    |    Loss: 133792684926993549465304619039283521780146798023796315151541749084008554127400330967013374628077625607109608413257327165884278473729988777385100985380984104376975223875102771622445056.0000\n",
      "Epoch 44/500,  Recon. Loss: -323406198593749.5000   |   KL-Div: 1049017187917224975636328275040458359066761970088465698689231248614402803446958498568059975898241588774965390795758811701315910251659648516121673852066358186103708797879822256701440.0000    |    Loss: 1049017187917224975636328275040458359066761970088465698689231248614402803446958498568059975898241588774965390795758811701315910251659648516121673852066358186103708797879822256701440.0000\n",
      "Epoch 45/500,  Recon. Loss: -319597990531531.6250   |   KL-Div: 1619389199651260803353543164986199743417530035523988583369327923333377787503524305795845450039316937799125518388093124714146877800493851356356589270474541105593372721249370490066173952.0000    |    Loss: 1619389199651260803353543164986199743417530035523988583369327923333377787503524305795845450039316937799125518388093124714146877800493851356356589270474541105593372721249370490066173952.0000\n",
      "Epoch 46/500,  Recon. Loss: -322260224781552.0625   |   KL-Div: 453388545730954512386029977953571158073806761754351528183093257245279540907434760848169909256523228299945058444588787481806275882488903516128039613933672459633497947727967224818827264.0000    |    Loss: 453388545730954512386029977953571158073806761754351528183093257245279540907434760848169909256523228299945058444588787481806275882488903516128039613933672459633497947727967224818827264.0000\n",
      "Epoch 47/500,  Recon. Loss: -321558077438222.0000   |   KL-Div: 689417513388191065982538213183340752315166444292516390766937054915231218136860739254571951543519894454922814091048370743348986846776875070996348512069294687705198461201482065121378304.0000    |    Loss: 689417513388191065982538213183340752315166444292516390766937054915231218136860739254571951543519894454922814091048370743348986846776875070996348512069294687705198461201482065121378304.0000\n",
      "Epoch 48/500,  Recon. Loss: -325325859622212.3125   |   KL-Div: 8718858702081943743280026187277801264952240112227909797948344868667366655811707961854161161286654815585597290821686936952700600934556490754793386921108777615362636243020349519691776.0000    |    Loss: 8718858702081943743280026187277801264952240112227909797948344868667366655811707961854161161286654815585597290821686936952700600934556490754793386921108777615362636243020349519691776.0000\n",
      "Epoch 49/500,  Recon. Loss: -325438211364205.3750   |   KL-Div: 880259646382253788340717278170968367834370086904280326719705329618766659562818997339214319996405622363667479800078231926274485701431065892842671197854244363460767609937217103805284352.0000    |    Loss: 880259646382253788340717278170968367834370086904280326719705329618766659562818997339214319996405622363667479800078231926274485701431065892842671197854244363460767609937217103805284352.0000\n",
      "Epoch 50/500,  Recon. Loss: -320540879976247.1875   |   KL-Div: 165607066098761710061086602703944283441733102480122749303651875016452813140171975472524681053408737140002024364922605624968003318820172715434545634214877267543978227399152675529424896.0000    |    Loss: 165607066098761710061086602703944283441733102480122749303651875016452813140171975472524681053408737140002024364922605624968003318820172715434545634214877267543978227399152675529424896.0000\n",
      "Epoch 51/500,  Recon. Loss: -323578964994049.1875   |   KL-Div: 172825617159129996221652659398469914763609773364801950767272976684698456172348798906030915909141595205202332962366812646877399668588746340119807349234697766353830818061511378727862272.0000    |    Loss: 172825617159129996221652659398469914763609773364801950767272976684698456172348798906030915909141595205202332962366812646877399668588746340119807349234697766353830818061511378727862272.0000\n",
      "Epoch 52/500,  Recon. Loss: -324987482899139.5625   |   KL-Div: 124217538038304839504167692509835335399199462515487444353319677546388224825275334020376754872872732588823297859470222658668731312583204283399523884336892382047665948395574730357211136.0000    |    Loss: 124217538038304839504167692509835335399199462515487444353319677546388224825275334020376754872872732588823297859470222658668731312583204283399523884336892382047665948395574730357211136.0000\n",
      "Epoch 53/500,  Recon. Loss: -325347954105154.8750   |   KL-Div: 91775742679073748516892634176459443838312472863185101731927192547491841757866493210959038618265161718582599603857513316663684727716506171003002229384016074090837366417873913044271104.0000    |    Loss: 91775742679073748516892634176459443838312472863185101731927192547491841757866493210959038618265161718582599603857513316663684727716506171003002229384016074090837366417873913044271104.0000\n",
      "Epoch 54/500,  Recon. Loss: -322810469827449.4375   |   KL-Div: 19233177049940808581204492109906008403955749641994669305090583218537890288926398165932657914594732328698528143085059518455033120252671542967709275037553908877563041718375628266274816.0000    |    Loss: 19233177049940808581204492109906008403955749641994669305090583218537890288926398165932657914594732328698528143085059518455033120252671542967709275037553908877563041718375628266274816.0000\n",
      "Epoch 55/500,  Recon. Loss: -322068756966214.9375   |   KL-Div: 232340590673271838560027067069669151470172729338230220003206982743244136316382041655789319383055724838963006322829144717561483939606383399472160152020827082294299675410091194009518080.0000    |    Loss: 232340590673271838560027067069669151470172729338230220003206982743244136316382041655789319383055724838963006322829144717561483939606383399472160152020827082294299675410091194009518080.0000\n",
      "Epoch 56/500,  Recon. Loss: -325331294533926.3125   |   KL-Div: 42606008496465429488225437450489110033135097419807539244173959596037377248482839619391793157946779448061022342366477333683467195590110956419186953771730974563057603324851577520390144.0000    |    Loss: 42606008496465429488225437450489110033135097419807539244173959596037377248482839619391793157946779448061022342366477333683467195590110956419186953771730974563057603324851577520390144.0000\n",
      "Epoch 57/500,  Recon. Loss: -325348608292971.2500   |   KL-Div: 344659483988555181047301087489123265180323147860673191361516483357309162573062536180761576638817423473732634168909280829913894537597048000729148812414959505467449604967450392091688960.0000    |    Loss: 344659483988555181047301087489123265180323147860673191361516483357309162573062536180761576638817423473732634168909280829913894537597048000729148812414959505467449604967450392091688960.0000\n",
      "Epoch 58/500,  Recon. Loss: -326892356367018.2500   |   KL-Div: 82697835196232038625461962200151552120829234113430653630337874483961240269181783805012724368564019034848494093146865902772451425126200304852495775099493033657044936272379276934774784.0000    |    Loss: 82697835196232038625461962200151552120829234113430653630337874483961240269181783805012724368564019034848494093146865902772451425126200304852495775099493033657044936272379276934774784.0000\n",
      "Epoch 59/500,  Recon. Loss: -327111463497139.1250   |   KL-Div: 205289774042746104883207659462418648832611675963780197715497089420826209172686202654241253676324781831095870479608476577255666462186458480081473950810014561565795924866749230531739648.0000    |    Loss: 205289774042746104883207659462418648832611675963780197715497089420826209172686202654241253676324781831095870479608476577255666462186458480081473950810014561565795924866749230531739648.0000\n",
      "Epoch 60/500,  Recon. Loss: -329168869355119.7500   |   KL-Div: 1925326993741340279674060937461948738865210322800881299092658925643039422862064777041348631461993574420854293730197598284526634493687804831448518569798855222867395670608306801811128320.0000    |    Loss: 1925326993741340279674060937461948738865210322800881299092658925643039422862064777041348631461993574420854293730197598284526634493687804831448518569798855222867395670608306801811128320.0000\n",
      "Epoch 61/500,  Recon. Loss: -327486213005414.5000   |   KL-Div: 122401479617928052520859015480437370599839033566717635691346040782479651134519873854616627015121325189669896713826763784769016096915321424734181970279133119153687882690940780006080512.0000    |    Loss: 122401479617928052520859015480437370599839033566717635691346040782479651134519873854616627015121325189669896713826763784769016096915321424734181970279133119153687882690940780006080512.0000\n",
      "Epoch 62/500,  Recon. Loss: -329608057952922.7500   |   KL-Div: 147915446204151283741942539945367016497093472318283108982816954596083371209384502413807397862952113980688453363463656232186733913858174912888323217867604257664085069139129750947627008.0000    |    Loss: 147915446204151283741942539945367016497093472318283108982816954596083371209384502413807397862952113980688453363463656232186733913858174912888323217867604257664085069139129750947627008.0000\n",
      "Epoch 63/500,  Recon. Loss: -326651919780839.6250   |   KL-Div: 1509694709514843742663752910422060886902248784308932803509997116013747284251423806637902920733988670242074289265906227274491453026760733618896148662156016427773799287040588245792456704.0000    |    Loss: 1509694709514843742663752910422060886902248784308932803509997116013747284251423806637902920733988670242074289265906227274491453026760733618896148662156016427773799287040588245792456704.0000\n",
      "Epoch 64/500,  Recon. Loss: -321842256953415.8750   |   KL-Div: 50973025666569075912880293056939582485993597800711888630253673947922744177244504049227884257579258279680723612132396709436100464677016253379017184112907550080912156408012475952267264.0000    |    Loss: 50973025666569075912880293056939582485993597800711888630253673947922744177244504049227884257579258279680723612132396709436100464677016253379017184112907550080912156408012475952267264.0000\n",
      "Epoch 65/500,  Recon. Loss: -330810155533233.1875   |   KL-Div: 343909716352036134658560250772292310495864334332201695054097521199897213688087936607504853285155357447951761433933090551995800571637682262260807693407141496708902541339754843238039552.0000    |    Loss: 343909716352036134658560250772292310495864334332201695054097521199897213688087936607504853285155357447951761433933090551995800571637682262260807693407141496708902541339754843238039552.0000\n",
      "Epoch 66/500,  Recon. Loss: -328861552549706.6875   |   KL-Div: 2798867267536775096672030888975225762177282301706569835585438650180777210975731923267223158360485420420437904411733655981144741996660874731782889541498354147886938755490783587991552.0000    |    Loss: 2798867267536775096672030888975225762177282301706569835585438650180777210975731923267223158360485420420437904411733655981144741996660874731782889541498354147886938755490783587991552.0000\n",
      "Epoch 67/500,  Recon. Loss: -315080774562770.8750   |   KL-Div: 747691336900997667395592847908711283238013761608878348228722116691465352898139399379753718758113958645329954189062569617356230433996564687708424891292360528464795956940387883644092416.0000    |    Loss: 747691336900997667395592847908711283238013761608878348228722116691465352898139399379753718758113958645329954189062569617356230433996564687708424891292360528464795956940387883644092416.0000\n",
      "Epoch 68/500,  Recon. Loss: -329820254029819.1875   |   KL-Div: 696222662706695650513195210688422680332609614304945346445365989495563665686355681365995291773850730364637611744394162344301536395635369108084680792890841286940209976566207945795174400.0000    |    Loss: 696222662706695650513195210688422680332609614304945346445365989495563665686355681365995291773850730364637611744394162344301536395635369108084680792890841286940209976566207945795174400.0000\n",
      "Epoch 69/500,  Recon. Loss: -331081894175094.4375   |   KL-Div: 1259176479810774962037562379914935843295348436830366380271498613505555889458989973831178319077568676661087977862340987550370996863347087250554466858027582104437009581605627165222633472.0000    |    Loss: 1259176479810774962037562379914935843295348436830366380271498613505555889458989973831178319077568676661087977862340987550370996863347087250554466858027582104437009581605627165222633472.0000\n",
      "Epoch 70/500,  Recon. Loss: -331029984366561.6250   |   KL-Div: 63641030725340764140684212334744482400897911686854785112005398355527898535757996341864912047410704201503244085342465525596702361577017251914693229144575800391477303151233226260873216.0000    |    Loss: 63641030725340764140684212334744482400897911686854785112005398355527898535757996341864912047410704201503244085342465525596702361577017251914693229144575800391477303151233226260873216.0000\n",
      "Epoch 71/500,  Recon. Loss: -325015460928457.8125   |   KL-Div: 313574459837375745651008374112898126342071379970241032642886361289378232475074895960585499482672581619563663179337098949672155048788160095904482600579347760114630787209746674993856512.0000    |    Loss: 313574459837375745651008374112898126342071379970241032642886361289378232475074895960585499482672581619563663179337098949672155048788160095904482600579347760114630787209746674993856512.0000\n",
      "Epoch 72/500,  Recon. Loss: -333962716268781.3750   |   KL-Div: 106390191444828248044364897097476842071441352115294001461915428190489073578430040440272165766717449433761737968680304507761993767830950831939631285629072536131070456757483246435958784.0000    |    Loss: 106390191444828248044364897097476842071441352115294001461915428190489073578430040440272165766717449433761737968680304507761993767830950831939631285629072536131070456757483246435958784.0000\n",
      "Epoch 73/500,  Recon. Loss: -332750256173107.3125   |   KL-Div: 51954747955600663499985067673804891650222620276775312299557516759428442290504529177829877566806011748763934702601138554720359028875451162867073951823992317008112021636474345611067392.0000    |    Loss: 51954747955600663499985067673804891650222620276775312299557516759428442290504529177829877566806011748763934702601138554720359028875451162867073951823992317008112021636474345611067392.0000\n",
      "Epoch 74/500,  Recon. Loss: -333536531210960.3750   |   KL-Div: 205297663956220342220976130077633476417397017900052753692119678635724725860062433298739664654970411470993250129931365071432543249851423926640432705833439996480332172989873673631432704.0000    |    Loss: 205297663956220342220976130077633476417397017900052753692119678635724725860062433298739664654970411470993250129931365071432543249851423926640432705833439996480332172989873673631432704.0000\n",
      "Epoch 75/500,  Recon. Loss: -335758680221478.6250   |   KL-Div: 839391547055679607865147121846051501067839861655327973755093672602840380150799576037953950253318972411673680447543297151477110489507791177870609525267627830491717551407334343860813824.0000    |    Loss: 839391547055679607865147121846051501067839861655327973755093672602840380150799576037953950253318972411673680447543297151477110489507791177870609525267627830491717551407334343860813824.0000\n",
      "Epoch 76/500,  Recon. Loss: -323262111728794.7500   |   KL-Div: 316719901097630588829744504100608296825580133215877346719579606398465238052825548450467491326633341151037586471159463643321373066055893729042320321988142119781308271045822037291433984.0000    |    Loss: 316719901097630588829744504100608296825580133215877346719579606398465238052825548450467491326633341151037586471159463643321373066055893729042320321988142119781308271045822037291433984.0000\n",
      "Epoch 77/500,  Recon. Loss: -334982834633603.1875   |   KL-Div: 283218423383776495773174328958734751494012622579121143403105785757830797392569068293129984946393365445482694017438625323629352746191964919152653653050699626159044959345461702783139840.0000    |    Loss: 283218423383776495773174328958734751494012622579121143403105785757830797392569068293129984946393365445482694017438625323629352746191964919152653653050699626159044959345461702783139840.0000\n",
      "Epoch 78/500,  Recon. Loss: -339689450366361.1250   |   KL-Div: 27524383261378202153353853202649000058871500582034676903662146273074029862420924795505857222409511502202197291537130984188558631939885533970860553311886201862799656878067423798886400.0000    |    Loss: 27524383261378202153353853202649000058871500582034676903662146273074029862420924795505857222409511502202197291537130984188558631939885533970860553311886201862799656878067423798886400.0000\n",
      "Epoch 79/500,  Recon. Loss: -336128450746876.0625   |   KL-Div: 47404267284761425038062994332819643176153961599374882105897350079721235490131343990625788978983092439803227439613115828606137471979604045847938816192883616945420226550629430271672320.0000    |    Loss: 47404267284761425038062994332819643176153961599374882105897350079721235490131343990625788978983092439803227439613115828606137471979604045847938816192883616945420226550629430271672320.0000\n",
      "Epoch 80/500,  Recon. Loss: -333943351473401.1875   |   KL-Div: 8532017224894487395338241738013211640847336876597292393414949767863387201088715399486018323364580759775259154046669567533870802496914722595335572309010115639739578137861392787570688.0000    |    Loss: 8532017224894487395338241738013211640847336876597292393414949767863387201088715399486018323364580759775259154046669567533870802496914722595335572309010115639739578137861392787570688.0000\n",
      "Epoch 81/500,  Recon. Loss: -334179580097648.3750   |   KL-Div: 952702629506473453882576120675960989858096973093202988509085607648704529334355524623015058821733557302345760878488487910310264880383037248809883914901613557319518423837734849812103168.0000    |    Loss: 952702629506473453882576120675960989858096973093202988509085607648704529334355524623015058821733557302345760878488487910310264880383037248809883914901613557319518423837734849812103168.0000\n",
      "Epoch 82/500,  Recon. Loss: -339380818014825.8125   |   KL-Div: 252725110011553045009660178681231577770611840286462778950023235833586036303206635898378855074913375528218720408931827003884152899231348587646645386673879112526308800228160083098337280.0000    |    Loss: 252725110011553045009660178681231577770611840286462778950023235833586036303206635898378855074913375528218720408931827003884152899231348587646645386673879112526308800228160083098337280.0000\n",
      "Epoch 83/500,  Recon. Loss: -335573061563163.0000   |   KL-Div: 105258464358181022164582650878208580834350285593348093152746649336846371678540304616188975337628409947091255940747108967826153802459771688339851991220797274492259752982138628675207168.0000    |    Loss: 105258464358181022164582650878208580834350285593348093152746649336846371678540304616188975337628409947091255940747108967826153802459771688339851991220797274492259752982138628675207168.0000\n",
      "Epoch 84/500,  Recon. Loss: -335678191168210.5625   |   KL-Div: 2937996016762200395605900177187329218239907862510938309317764522888117409512442773796265486123384571132141838874490999277518870385499242867074686362992238143468059932020568292851712.0000    |    Loss: 2937996016762200395605900177187329218239907862510938309317764522888117409512442773796265486123384571132141838874490999277518870385499242867074686362992238143468059932020568292851712.0000\n",
      "Epoch 85/500,  Recon. Loss: -339989776883474.5000   |   KL-Div: 21319335619240698122721963435849775977111192636938455282185902693288008189190509007052732515865730043726019961063407757518649291266503985153899690029483886662986846795900386824683520.0000    |    Loss: 21319335619240698122721963435849775977111192636938455282185902693288008189190509007052732515865730043726019961063407757518649291266503985153899690029483886662986846795900386824683520.0000\n",
      "Epoch 86/500,  Recon. Loss: -330900196916043.7500   |   KL-Div: 606251840871567576470939650032619261005780287823312005539945727731237503540464706112024542646313899267484457187334501883538696837089570481896003562465538472738574181711511459574317056.0000    |    Loss: 606251840871567576470939650032619261005780287823312005539945727731237503540464706112024542646313899267484457187334501883538696837089570481896003562465538472738574181711511459574317056.0000\n",
      "Epoch 87/500,  Recon. Loss: -339219994697711.7500   |   KL-Div: 1184766579838143326476265657081369218661109770137491343084170632402121456424720146887471569090232713828892669765472714952897122644552304393219978773592955469885071099609473890262188032.0000    |    Loss: 1184766579838143326476265657081369218661109770137491343084170632402121456424720146887471569090232713828892669765472714952897122644552304393219978773592955469885071099609473890262188032.0000\n",
      "Epoch 88/500,  Recon. Loss: -337949612045238.9375   |   KL-Div: 60026910912569595524597702916242870089654102536705382878190958386135662888662907322719302724075215298230766241440304646045371181943751423719929694315666129183269343902882906637336576.0000    |    Loss: 60026910912569595524597702916242870089654102536705382878190958386135662888662907322719302724075215298230766241440304646045371181943751423719929694315666129183269343902882906637336576.0000\n",
      "Epoch 89/500,  Recon. Loss: -339008309379756.4375   |   KL-Div: 172169510820139175964977326851020640413890429555993338264697052704494379132528237084679613402758407589582002113799727297251836640155810582060865330417600812519425115995805055111397376.0000    |    Loss: 172169510820139175964977326851020640413890429555993338264697052704494379132528237084679613402758407589582002113799727297251836640155810582060865330417600812519425115995805055111397376.0000\n",
      "Epoch 90/500,  Recon. Loss: -338736454984666.8125   |   KL-Div: 11731105587293484626259330444086708044031719447655950948042969239991299106506574303343966696895674475102403863854613753741842272577857639562278063608497142444914430145536194426961920.0000    |    Loss: 11731105587293484626259330444086708044031719447655950948042969239991299106506574303343966696895674475102403863854613753741842272577857639562278063608497142444914430145536194426961920.0000\n",
      "Epoch 91/500,  Recon. Loss: -338498629914908.3750   |   KL-Div: 4610392333765104485054326816621101038914715701078534397272664587863116363355669781205663493005942174103315405240271343509560069885944110115078117278286026323590726580094204486090752.0000    |    Loss: 4610392333765104485054326816621101038914715701078534397272664587863116363355669781205663493005942174103315405240271343509560069885944110115078117278286026323590726580094204486090752.0000\n",
      "Epoch 92/500,  Recon. Loss: -342931439806110.3125   |   KL-Div: 6663869809941723910678709303738858379417131329618736279229438950396979842151134359817610877452323080066547499925369078779275237112008830181369691478997702604000078083779417499238400.0000    |    Loss: 6663869809941723910678709303738858379417131329618736279229438950396979842151134359817610877452323080066547499925369078779275237112008830181369691478997702604000078083779417499238400.0000\n",
      "Epoch 93/500,  Recon. Loss: -340981539815290.8125   |   KL-Div: 87596587903440643726662295095520266406164108568310602905717572754853933182508532948011781456608196402860153541828846532403002283671726740389930574704678603210328971795703254124331008.0000    |    Loss: 87596587903440643726662295095520266406164108568310602905717572754853933182508532948011781456608196402860153541828846532403002283671726740389930574704678603210328971795703254124331008.0000\n",
      "Epoch 94/500,  Recon. Loss: -341422881456154.3750   |   KL-Div: 266215431390410909969394588082643786929056839889276324986978377727143472365071583557693174003719743584002723314394814900182828873386500639766260736883062444377016705172941170901254144.0000    |    Loss: 266215431390410909969394588082643786929056839889276324986978377727143472365071583557693174003719743584002723314394814900182828873386500639766260736883062444377016705172941170901254144.0000\n",
      "Epoch 95/500,  Recon. Loss: -345786625194456.1875   |   KL-Div: 28496808455427325310819089697659890316089590424073148047098312808856226951945320594453958862202811230896558482998022577542156865110886981748117426686606525999919810438744273584128.0000    |    Loss: 28496808455427325310819089697659890316089590424073148047098312808856226951945320594453958862202811230896558482998022577542156865110886981748117426686606525999919810438744273584128.0000\n",
      "Epoch 96/500,  Recon. Loss: -343002894096630.0625   |   KL-Div: 177279086657278901298012363462547006543505558376358541016888511661133587885249832226549139567502205022617116581377342686064353489665539281983425265439543497633059502086097490780618752.0000    |    Loss: 177279086657278901298012363462547006543505558376358541016888511661133587885249832226549139567502205022617116581377342686064353489665539281983425265439543497633059502086097490780618752.0000\n",
      "Epoch 97/500,  Recon. Loss: -344219541840830.5625   |   KL-Div: 565484020679565770531441927972885015723846796991871133612196442318503682867837597332323086883250730779758908917689145438759906946324387719885166028817285559283883814420143321808633856.0000    |    Loss: 565484020679565770531441927972885015723846796991871133612196442318503682867837597332323086883250730779758908917689145438759906946324387719885166028817285559283883814420143321808633856.0000\n",
      "Epoch 98/500,  Recon. Loss: -345256963044149.8125   |   KL-Div: 109528040537042210413038425306663212046840381338365191703140746361138512901559490222792540799539973328469114150303333258405378583269450938976046388724387425147420493121945932876742656.0000    |    Loss: 109528040537042210413038425306663212046840381338365191703140746361138512901559490222792540799539973328469114150303333258405378583269450938976046388724387425147420493121945932876742656.0000\n",
      "Epoch 99/500,  Recon. Loss: -345696248685996.4375   |   KL-Div: 26669180730619803035453957336579540397028981269354196830652720551881420879484574683300924192710211281497193544569985754690989429703917336046578263659387784845309341816851019499307008.0000    |    Loss: 26669180730619803035453957336579540397028981269354196830652720551881420879484574683300924192710211281497193544569985754690989429703917336046578263659387784845309341816851019499307008.0000\n",
      "Epoch 100/500,  Recon. Loss: -347834572139208.7500   |   KL-Div: 71988265822514391833087605643984394226156952306168202772606382923345776000052172582749883547789987753978045119606037784818589065585359251495714153141835896637753815036945188001939456.0000    |    Loss: 71988265822514391833087605643984394226156952306168202772606382923345776000052172582749883547789987753978045119606037784818589065585359251495714153141835896637753815036945188001939456.0000\n",
      "Epoch 101/500,  Recon. Loss: -344600744717760.9375   |   KL-Div: 538297383004521773152794877757336895106698422637825049406553798186200458372503671006490050327339269609108391200389189194901397035408657249722202976637285392383729784126928610306031616.0000    |    Loss: 538297383004521773152794877757336895106698422637825049406553798186200458372503671006490050327339269609108391200389189194901397035408657249722202976637285392383729784126928610306031616.0000\n",
      "Epoch 102/500,  Recon. Loss: -347218700502406.5000   |   KL-Div: 1781506337694291323085017531168830762586443983705901599596901708523159373771319616354170057026518732372274292765839207310447409350792228281891455399958651943017492180881033957522538496.0000    |    Loss: 1781506337694291323085017531168830762586443983705901599596901708523159373771319616354170057026518732372274292765839207310447409350792228281891455399958651943017492180881033957522538496.0000\n",
      "Epoch 103/500,  Recon. Loss: -345377240379729.3125   |   KL-Div: 12724361908333441933554297555164980425081751146337521193312166301849604782911237975855780651115809286535558486366985539976479702717002840733802205647043983578484223345642016541245440.0000    |    Loss: 12724361908333441933554297555164980425081751146337521193312166301849604782911237975855780651115809286535558486366985539976479702717002840733802205647043983578484223345642016541245440.0000\n",
      "Epoch 104/500,  Recon. Loss: -349399320303350.8750   |   KL-Div: 291470568749888837184456645536803445105613967373244366003633376160649205210605553395422501498124980612391816283231578812329754302244863494763395026337048997232858203790155899576778752.0000    |    Loss: 291470568749888837184456645536803445105613967373244366003633376160649205210605553395422501498124980612391816283231578812329754302244863494763395026337048997232858203790155899576778752.0000\n",
      "Epoch 105/500,  Recon. Loss: -344995262127148.5625   |   KL-Div: 1133490140264493266932304114740218669249878863333880398381917807990245237970788805130185483340137586810746502796458440785274882219683384633655207199315779012203746095818737460218691584.0000    |    Loss: 1133490140264493266932304114740218669249878863333880398381917807990245237970788805130185483340137586810746502796458440785274882219683384633655207199315779012203746095818737460218691584.0000\n",
      "Epoch 106/500,  Recon. Loss: -349194800592723.8125   |   KL-Div: 111082396929236656519749587243291237509591684950015594528663775041796360054914314210533141203962439201902462841379582554178396773886317413757827624883723891034358587277843557165039616.0000    |    Loss: 111082396929236656519749587243291237509591684950015594528663775041796360054914314210533141203962439201902462841379582554178396773886317413757827624883723891034358587277843557165039616.0000\n",
      "Epoch 107/500,  Recon. Loss: -346475256091852.1250   |   KL-Div: 538828945572086200102412296834137182532608132800379816242426134073970239019618842207840086219013587019717757788269781330090633881738168245318190183783364791837069115855923337387573248.0000    |    Loss: 538828945572086200102412296834137182532608132800379816242426134073970239019618842207840086219013587019717757788269781330090633881738168245318190183783364791837069115855923337387573248.0000\n",
      "Epoch 108/500,  Recon. Loss: -345792532176637.3750   |   KL-Div: 711659853592490184648529749165894609761811947712389658780539242145335529977686496885731653996794250156870104518333505627795931341020467355453238763559589788586979392295789851033206784.0000    |    Loss: 711659853592490184648529749165894609761811947712389658780539242145335529977686496885731653996794250156870104518333505627795931341020467355453238763559589788586979392295789851033206784.0000\n",
      "Epoch 109/500,  Recon. Loss: -348188264159015.5000   |   KL-Div: 9959968587109576026505793731840855496585634721953052735647175931863457099734027879626252019826771405687719941540912953998415662408378154875926186689478555935714511475384462820245504.0000    |    Loss: 9959968587109576026505793731840855496585634721953052735647175931863457099734027879626252019826771405687719941540912953998415662408378154875926186689478555935714511475384462820245504.0000\n",
      "Epoch 110/500,  Recon. Loss: -349154250457734.5625   |   KL-Div: 148704379676868061597014577182842644535675865628375725220604658531890702952050303377622571376742050662141644431830018598322481766470860736518292632381898566578882377351922269540057088.0000    |    Loss: 148704379676868061597014577182842644535675865628375725220604658531890702952050303377622571376742050662141644431830018598322481766470860736518292632381898566578882377351922269540057088.0000\n",
      "Epoch 111/500,  Recon. Loss: -350114419456473.6250   |   KL-Div: 4865097013595148841742610866309052197580260744443775441242168684955481400119110303147793692837974575692056213491693607182729638730496714494668406425276758699605995252237213322182656.0000    |    Loss: 4865097013595148841742610866309052197580260744443775441242168684955481400119110303147793692837974575692056213491693607182729638730496714494668406425276758699605995252237213322182656.0000\n",
      "Epoch 112/500,  Recon. Loss: -346859908454124.8750   |   KL-Div: 418214657216640728713872173271026502300278136669849028704039597136098026001183843623690679598717550388406363702851483683177278380991835421281612455059158035715498175529866677662515200.0000    |    Loss: 418214657216640728713872173271026502300278136669849028704039597136098026001183843623690679598717550388406363702851483683177278380991835421281612455059158035715498175529866677662515200.0000\n",
      "Epoch 113/500,  Recon. Loss: -345512788955970.7500   |   KL-Div: 10009836021927548260798303756776685299028079583890743509176674045683569592000887378531241960663556492109975510665667402949936324658327861165706591220883053573738773451327651631333376.0000    |    Loss: 10009836021927548260798303756776685299028079583890743509176674045683569592000887378531241960663556492109975510665667402949936324658327861165706591220883053573738773451327651631333376.0000\n",
      "Epoch 114/500,  Recon. Loss: -348070886719668.4375   |   KL-Div: 408223246121645723214065582647935598573138296344347920744070318625918763056040535272238124061907793374409099111382356656196238423707158402040834423308725621329640358441863028836139008.0000    |    Loss: 408223246121645723214065582647935598573138296344347920744070318625918763056040535272238124061907793374409099111382356656196238423707158402040834423308725621329640358441863028836139008.0000\n",
      "Epoch 115/500,  Recon. Loss: -347608394833273.4375   |   KL-Div: 4160379144596426639178922723164421432498698217272957880442249166322999894797153682191917533971341989234710295725768931165337967013367657303092859321998853130673802659070303801442304.0000    |    Loss: 4160379144596426639178922723164421432498698217272957880442249166322999894797153682191917533971341989234710295725768931165337967013367657303092859321998853130673802659070303801442304.0000\n",
      "Epoch 116/500,  Recon. Loss: -334407444909663.1250   |   KL-Div: 531012908479826659683529060269406516806987152942388334959221143023410273935583916616960061781308995981707506734256927068626958602762520428818855623287346414320064806568901740375048192.0000    |    Loss: 531012908479826659683529060269406516806987152942388334959221143023410273935583916616960061781308995981707506734256927068626958602762520428818855623287346414320064806568901740375048192.0000\n",
      "Epoch 117/500,  Recon. Loss: -346974411389041.2500   |   KL-Div: 671432903471914121999575394926786332429511968148404832507707741311431095335843232419406867564525867956801827740176342795809853667281927959246595013651379276094630017863957384943108096.0000    |    Loss: 671432903471914121999575394926786332429511968148404832507707741311431095335843232419406867564525867956801827740176342795809853667281927959246595013651379276094630017863957384943108096.0000\n",
      "Epoch 118/500,  Recon. Loss: -350185697556931.9375   |   KL-Div: 61643214091576136114958033447559712943741433188697791458499628821031809943545847495194119940575999545129994944493875295033222430522649993880610096965980400239879098553555037626302464.0000    |    Loss: 61643214091576136114958033447559712943741433188697791458499628821031809943545847495194119940575999545129994944493875295033222430522649993880610096965980400239879098553555037626302464.0000\n",
      "Epoch 119/500,  Recon. Loss: -350923467154162.9375   |   KL-Div: 1998430733006570590466988922207091155484656540948393833642664621618705789621384539375685427257683803737982022876934247707573834406962735320718404394643614433318880659214711071289901056.0000    |    Loss: 1998430733006570590466988922207091155484656540948393833642664621618705789621384539375685427257683803737982022876934247707573834406962735320718404394643614433318880659214711071289901056.0000\n",
      "Epoch 120/500,  Recon. Loss: -349392875836895.5000   |   KL-Div: 183818243332050285909651237625504185033729988139611723357751382655300473322736336074241099835924010490450560515912144853787877365197808758919660306832152019613672192306550010806272000.0000    |    Loss: 183818243332050285909651237625504185033729988139611723357751382655300473322736336074241099835924010490450560515912144853787877365197808758919660306832152019613672192306550010806272000.0000\n",
      "Epoch 121/500,  Recon. Loss: -354303194877434.8125   |   KL-Div: 115358850528679851172055311476704818930373918497819697552093028172662804572370872205769293442606219371679388232238501248316270270478844951636238751278326291838133800949273903696445440.0000    |    Loss: 115358850528679851172055311476704818930373918497819697552093028172662804572370872205769293442606219371679388232238501248316270270478844951636238751278326291838133800949273903696445440.0000\n",
      "Epoch 122/500,  Recon. Loss: -352393042533040.6875   |   KL-Div: 539714828400699676082873306586220665537781176745909769177301406747184757326852133670360087670693165250940301078623375712236190241407553440493120052570484738887125612622679356980854784.0000    |    Loss: 539714828400699676082873306586220665537781176745909769177301406747184757326852133670360087670693165250940301078623375712236190241407553440493120052570484738887125612622679356980854784.0000\n",
      "Epoch 123/500,  Recon. Loss: -350343786524789.2500   |   KL-Div: 268929038375674743771330801356769051801127245680908982009139251222548602178673902810084658856411543383585114274524530126169794999732429243160318572819795559199532876018311417280069632.0000    |    Loss: 268929038375674743771330801356769051801127245680908982009139251222548602178673902810084658856411543383585114274524530126169794999732429243160318572819795559199532876018311417280069632.0000\n",
      "Epoch 124/500,  Recon. Loss: -351843900950983.5625   |   KL-Div: 1626115370415076605312481839390362821442411191124892733134567492525399473951371174258469991692264940643050928888926555019686614383611175944107681258943718513423392789824973645025378304.0000    |    Loss: 1626115370415076605312481839390362821442411191124892733134567492525399473951371174258469991692264940643050928888926555019686614383611175944107681258943718513423392789824973645025378304.0000\n",
      "Epoch 125/500,  Recon. Loss: -352646482166629.9375   |   KL-Div: 250121921717500975765777656006888566374553510887798490529443431589359729469312406063108749921105504424721824201230897695749510345691080922392183752497603505888661362601384424327086080.0000    |    Loss: 250121921717500975765777656006888566374553510887798490529443431589359729469312406063108749921105504424721824201230897695749510345691080922392183752497603505888661362601384424327086080.0000\n",
      "Epoch 126/500,  Recon. Loss: -353378848829013.9375   |   KL-Div: 1612054398330022648649268730686553493622842611341121380394977994742033162560087186485761953935986558028889347429258170813941376637659758777869105500702022641317126771838106571632541696.0000    |    Loss: 1612054398330022648649268730686553493622842611341121380394977994742033162560087186485761953935986558028889347429258170813941376637659758777869105500702022641317126771838106571632541696.0000\n",
      "Epoch 127/500,  Recon. Loss: -338330870086158.5000   |   KL-Div: 140678431442340231102282937125535488961836862101689226705616394996789313783835172616227502088890275981856078987020946599206241175685967093368278127496377362188705909557998036505853952.0000    |    Loss: 140678431442340231102282937125535488961836862101689226705616394996789313783835172616227502088890275981856078987020946599206241175685967093368278127496377362188705909557998036505853952.0000\n",
      "Epoch 128/500,  Recon. Loss: -350901923209728.6250   |   KL-Div: 118387321012773054544211077924571829665859027382234437039390984288718297717953917146280563776984842571950919009053698799678745600260975606279025367548942749467049690890649946172686336.0000    |    Loss: 118387321012773054544211077924571829665859027382234437039390984288718297717953917146280563776984842571950919009053698799678745600260975606279025367548942749467049690890649946172686336.0000\n",
      "Epoch 129/500,  Recon. Loss: -350509313467809.1250   |   KL-Div: 118408660157951991084371686579390077500906128956023996120715320605592708251307355799213305917170192270920578472849930193198432137345223008324357068969048187548844509052026425362612224.0000    |    Loss: 118408660157951991084371686579390077500906128956023996120715320605592708251307355799213305917170192270920578472849930193198432137345223008324357068969048187548844509052026425362612224.0000\n",
      "Epoch 130/500,  Recon. Loss: -351619803408151.5000   |   KL-Div: 319736047106776626353310070703175157541507209437019751121824534676999555745255139294523588268256777019903049523870450450343678056913336799625992906230050684789246005774005471924977664.0000    |    Loss: 319736047106776626353310070703175157541507209437019751121824534676999555745255139294523588268256777019903049523870450450343678056913336799625992906230050684789246005774005471924977664.0000\n",
      "Epoch 131/500,  Recon. Loss: -354033745201053.0000   |   KL-Div: 4583011059423316768015480926536810699630584131627219478820156103114859956128580445064058924887997229826126525766554853951558933888274933399685789461450109728697740226886070712664064.0000    |    Loss: 4583011059423316768015480926536810699630584131627219478820156103114859956128580445064058924887997229826126525766554853951558933888274933399685789461450109728697740226886070712664064.0000\n",
      "Epoch 132/500,  Recon. Loss: -356707299413063.5000   |   KL-Div: 101161601478201354073230288212206422125619268312628109451239173101966849948005501950961049136121354587770688125574215307332227415846655696699703637250491648428561255383620286521802752.0000    |    Loss: 101161601478201354073230288212206422125619268312628109451239173101966849948005501950961049136121354587770688125574215307332227415846655696699703637250491648428561255383620286521802752.0000\n",
      "Epoch 133/500,  Recon. Loss: -354010883296291.7500   |   KL-Div: 42061376225424776111154010587806944251749535021261670848222481799563424796046871876606380094509941837816687871447058329555883948283934992815700587701310727359923852925872070495043584.0000    |    Loss: 42061376225424776111154010587806944251749535021261670848222481799563424796046871876606380094509941837816687871447058329555883948283934992815700587701310727359923852925872070495043584.0000\n",
      "Epoch 134/500,  Recon. Loss: -355846948337444.1875   |   KL-Div: 1216637964899201383319279467561170955727711139551740225650314552494557910092983710184805788968240491408509370516000671911609334536630617117107322882853670841848686110737316909175275520.0000    |    Loss: 1216637964899201383319279467561170955727711139551740225650314552494557910092983710184805788968240491408509370516000671911609334536630617117107322882853670841848686110737316909175275520.0000\n",
      "Epoch 135/500,  Recon. Loss: -345288258330130.9375   |   KL-Div: 1036962445282932024768088282505663139286083868622143070393638910037621533864743902400606484287543214004117695498320127303121442056724554656816743098486908067639126353518780741767397376.0000    |    Loss: 1036962445282932024768088282505663139286083868622143070393638910037621533864743902400606484287543214004117695498320127303121442056724554656816743098486908067639126353518780741767397376.0000\n",
      "Epoch 136/500,  Recon. Loss: -351331943516279.2500   |   KL-Div: 410343048563251419641460542064664828767246945380726637834934894200908799816410600510773577117781102665771912106591895744871828209585811849547828225793706741899662867239121840274145280.0000    |    Loss: 410343048563251419641460542064664828767246945380726637834934894200908799816410600510773577117781102665771912106591895744871828209585811849547828225793706741899662867239121840274145280.0000\n",
      "Epoch 137/500,  Recon. Loss: -357122741976560.1875   |   KL-Div: 218992302516195013548057673687303624141268398138563021360961519343197816249808920292966110490460223934878202917513120516359608472439315093373938853110061603163092657282612568254316544.0000    |    Loss: 218992302516195013548057673687303624141268398138563021360961519343197816249808920292966110490460223934878202917513120516359608472439315093373938853110061603163092657282612568254316544.0000\n",
      "Epoch 138/500,  Recon. Loss: -356232114753539.5625   |   KL-Div: 9175329247281960866986622529414642408578132145218757884815074273133113063332811636262082505583162765792667822091966959007731875725403467183987885966782162681455209509516841085566976.0000    |    Loss: 9175329247281960866986622529414642408578132145218757884815074273133113063332811636262082505583162765792667822091966959007731875725403467183987885966782162681455209509516841085566976.0000\n",
      "Epoch 139/500,  Recon. Loss: -360956870806817.8125   |   KL-Div: 934257690307761927727996061011027390240736635559489913712899063547681874535846914371799956479470560347591254190810845112394731791815412113386321850610754153331832640123062562634858496.0000    |    Loss: 934257690307761927727996061011027390240736635559489913712899063547681874535846914371799956479470560347591254190810845112394731791815412113386321850610754153331832640123062562634858496.0000\n",
      "Epoch 140/500,  Recon. Loss: -350903892180778.4375   |   KL-Div: 101820500290277500875248661175175864572398239501479283880035924221764949381851393503819441228283796870328840081037304235689983227779784592066523789249115724455706833120249593875922944.0000    |    Loss: 101820500290277500875248661175175864572398239501479283880035924221764949381851393503819441228283796870328840081037304235689983227779784592066523789249115724455706833120249593875922944.0000\n",
      "Epoch 141/500,  Recon. Loss: -359864820327493.0625   |   KL-Div: 206682266874838615879009187128327214823315792794070829471575079181118249201383012367431672114786859078367748409781770741317258955847431569927241374773317031545098668264696501829107712.0000    |    Loss: 206682266874838615879009187128327214823315792794070829471575079181118249201383012367431672114786859078367748409781770741317258955847431569927241374773317031545098668264696501829107712.0000\n",
      "Epoch 142/500,  Recon. Loss: -357781376385440.1250   |   KL-Div: 237587544466681676317526568462815367892424871575323585981704766738569836812378775695548403385471068241073540457996621838681543492012761334815162399556659744806817494489635624478310400.0000    |    Loss: 237587544466681676317526568462815367892424871575323585981704766738569836812378775695548403385471068241073540457996621838681543492012761334815162399556659744806817494489635624478310400.0000\n",
      "Epoch 143/500,  Recon. Loss: -357989765870472.9375   |   KL-Div: 165150853641989800007273621765083179875468880082408780327953959508101547024210132657767376788010091858027282848315702494238627687891371168150585723807169662941243112522895575719346176.0000    |    Loss: 165150853641989800007273621765083179875468880082408780327953959508101547024210132657767376788010091858027282848315702494238627687891371168150585723807169662941243112522895575719346176.0000\n",
      "Epoch 144/500,  Recon. Loss: -358607822020801.5000   |   KL-Div: 643054204534287777324255073858882489125255106087163222650877119566396708507694928643298452916183414472325222739313881501547532227455148200478373216610414437776411937006630967126786048.0000    |    Loss: 643054204534287777324255073858882489125255106087163222650877119566396708507694928643298452916183414472325222739313881501547532227455148200478373216610414437776411937006630967126786048.0000\n",
      "Epoch 145/500,  Recon. Loss: -361216007646447.2500   |   KL-Div: 664097153157736448423163976730662156786263605056264442543430164221546355657949123644578182436025424639249835756730616460989507415041062318038698062192892022042237080875995058193563648.0000    |    Loss: 664097153157736448423163976730662156786263605056264442543430164221546355657949123644578182436025424639249835756730616460989507415041062318038698062192892022042237080875995058193563648.0000\n",
      "Epoch 146/500,  Recon. Loss: -363609265323127.2500   |   KL-Div: 9263108601830058107924569812766949134867708434211862681629261369940541324692115351521449668878031531087394250107024113171249289215763314079844640803053005950294671324064548189634560.0000    |    Loss: 9263108601830058107924569812766949134867708434211862681629261369940541324692115351521449668878031531087394250107024113171249289215763314079844640803053005950294671324064548189634560.0000\n",
      "Epoch 147/500,  Recon. Loss: -360911044435665.1875   |   KL-Div: 3894847486300901819980635395447629608803775305948583420757644205716022228803145689435434422041238103803850421787116597433957368839286251090612270245375478879345443367986997858664448.0000    |    Loss: 3894847486300901819980635395447629608803775305948583420757644205716022228803145689435434422041238103803850421787116597433957368839286251090612270245375478879345443367986997858664448.0000\n",
      "Epoch 148/500,  Recon. Loss: -362667544176120.0625   |   KL-Div: 41945985276495369049856573959407937061736067983249057560784275864698947033210588446380740922861739500723672358726302306513305385530901129795157759308852286353366839470705355652071424.0000    |    Loss: 41945985276495369049856573959407937061736067983249057560784275864698947033210588446380740922861739500723672358726302306513305385530901129795157759308852286353366839470705355652071424.0000\n",
      "Epoch 149/500,  Recon. Loss: -359337287206263.8750   |   KL-Div: 1203713380360921520173578899277532749105861439948028506559067860812804013148468676790491382072048777217473311714063657715588367593737127056427085002271724009094688759249122380218368.0000    |    Loss: 1203713380360921520173578899277532749105861439948028506559067860812804013148468676790491382072048777217473311714063657715588367593737127056427085002271724009094688759249122380218368.0000\n",
      "Epoch 150/500,  Recon. Loss: -362176931792987.4375   |   KL-Div: 9917672502465764655458300900866707899031038484699033136026691967097793032807879369733631736746828671068693107670215344213293359262459929570475046865122329691653919902005104224501760.0000    |    Loss: 9917672502465764655458300900866707899031038484699033136026691967097793032807879369733631736746828671068693107670215344213293359262459929570475046865122329691653919902005104224501760.0000\n",
      "Epoch 151/500,  Recon. Loss: -363735352190799.8750   |   KL-Div: 11575020361248810436857382722719125626643448689450873898193961615394704344802415672898671521407181914636908437852073904374284280698597773546834353383026730170122001730935217994072064.0000    |    Loss: 11575020361248810436857382722719125626643448689450873898193961615394704344802415672898671521407181914636908437852073904374284280698597773546834353383026730170122001730935217994072064.0000\n",
      "Epoch 152/500,  Recon. Loss: -364367539433254.8125   |   KL-Div: 713366123587184186426092889306536006071803940104682015249779376440765410168022094889585970870565422020780528990986886163844118132197228652603306996143508467372275422276880348460613632.0000    |    Loss: 713366123587184186426092889306536006071803940104682015249779376440765410168022094889585970870565422020780528990986886163844118132197228652603306996143508467372275422276880348460613632.0000\n",
      "Epoch 153/500,  Recon. Loss: -365920699697501.8125   |   KL-Div: 421707344515327858475204863169662528008631597630033955198855371958540447866686174667454221834453354852669104542593443889406603630618428919713329013323583419295748487069058315669471232.0000    |    Loss: 421707344515327858475204863169662528008631597630033955198855371958540447866686174667454221834453354852669104542593443889406603630618428919713329013323583419295748487069058315669471232.0000\n",
      "Epoch 154/500,  Recon. Loss: -364546122296777.1250   |   KL-Div: 1088477693684277101363510229003148288187615778204814460194257799207850636956689159996661189921707093054147889246979315795866765031681564083538312131542559543070012882100555539497877504.0000    |    Loss: 1088477693684277101363510229003148288187615778204814460194257799207850636956689159996661189921707093054147889246979315795866765031681564083538312131542559543070012882100555539497877504.0000\n",
      "Epoch 155/500,  Recon. Loss: -359841030939413.9375   |   KL-Div: 143999057907476950210451975385941634492098929047744850852495562669560228633808056928136990074250651802882102192873867010156842378625515937104968640670005385939114035855743703452745728.0000    |    Loss: 143999057907476950210451975385941634492098929047744850852495562669560228633808056928136990074250651802882102192873867010156842378625515937104968640670005385939114035855743703452745728.0000\n",
      "Epoch 156/500,  Recon. Loss: -365953161205169.8750   |   KL-Div: 18627553504062039851880968851610195867426989785668568188632525325006425820722871228753634162376494491986526156804228344797122465277237832181156724108472313182636514216213389783334912.0000    |    Loss: 18627553504062039851880968851610195867426989785668568188632525325006425820722871228753634162376494491986526156804228344797122465277237832181156724108472313182636514216213389783334912.0000\n",
      "Epoch 157/500,  Recon. Loss: -363749134753514.6250   |   KL-Div: 131215047841797271109553840159102236476400436619466240091804501321046418035892777054487981188466587034855851494461554402541580941380403788731715453175920177026010015277023070183751680.0000    |    Loss: 131215047841797271109553840159102236476400436619466240091804501321046418035892777054487981188466587034855851494461554402541580941380403788731715453175920177026010015277023070183751680.0000\n",
      "Epoch 158/500,  Recon. Loss: -365841055173920.1875   |   KL-Div: 371420029011288456983589894544776098539806249586806473977519599325800453973775957190765429919299636694256497558693722193560594420211342534143624993639237300416025524413580791473242112.0000    |    Loss: 371420029011288456983589894544776098539806249586806473977519599325800453973775957190765429919299636694256497558693722193560594420211342534143624993639237300416025524413580791473242112.0000\n",
      "Epoch 159/500,  Recon. Loss: -364591146555829.1250   |   KL-Div: 46175738366191072672826034789003059882234212528062181722847436443546422965790298307119399809947827661897311659531064375930058707769472607100004657047444654067225697106464601794412544.0000    |    Loss: 46175738366191072672826034789003059882234212528062181722847436443546422965790298307119399809947827661897311659531064375930058707769472607100004657047444654067225697106464601794412544.0000\n",
      "Epoch 160/500,  Recon. Loss: -367674900365693.6875   |   KL-Div: 118382745350070764608448332440776415528124655163623309115649665942335350464512074712765928450256771839671913732142878005152887834946707259514911386551288959987604027136328658321408.0000    |    Loss: 118382745350070764608448332440776415528124655163623309115649665942335350464512074712765928450256771839671913732142878005152887834946707259514911386551288959987604027136328658321408.0000\n",
      "Epoch 161/500,  Recon. Loss: -369519489394855.1875   |   KL-Div: 45156744818815797675586629823139128526455198960245570518956208047719258107123645525697130806621148011099705262787888759396499590490656015545453751116145917955910242527564944145121280.0000    |    Loss: 45156744818815797675586629823139128526455198960245570518956208047719258107123645525697130806621148011099705262787888759396499590490656015545453751116145917955910242527564944145121280.0000\n",
      "Epoch 162/500,  Recon. Loss: -356012346038249.7500   |   KL-Div: 1479679861601904354485249520960219371659532198405176064246276204848644520314961487395174740672812840641890285450203348883439843890487357531482271335915009154009156025249749086314168320.0000    |    Loss: 1479679861601904354485249520960219371659532198405176064246276204848644520314961487395174740672812840641890285450203348883439843890487357531482271335915009154009156025249749086314168320.0000\n",
      "Epoch 163/500,  Recon. Loss: -362962006597695.6875   |   KL-Div: 63876345970651396139005958165125394787706913349155867060679844674088129361195669380830731019305589460391848442998604215170064554091632662217253381741256510084576956782319105940127744.0000    |    Loss: 63876345970651396139005958165125394787706913349155867060679844674088129361195669380830731019305589460391848442998604215170064554091632662217253381741256510084576956782319105940127744.0000\n",
      "Epoch 164/500,  Recon. Loss: -375003435805088.8750   |   KL-Div: 1652290536910327326701404714027764242218038250634314592046447980398976297395340538168706642903631279150341839447233845010704592625678606449989147077843378436143118920323805698777415680.0000    |    Loss: 1652290536910327326701404714027764242218038250634314592046447980398976297395340538168706642903631279150341839447233845010704592625678606449989147077843378436143118920323805698777415680.0000\n",
      "Epoch 165/500,  Recon. Loss: -365575121787621.1875   |   KL-Div: 372679519268162576219718873813157970949615023277349878754792909354340875902840529031928522351173571661907228906880982392814568687158048840222593654612103046960193901302201809578754048.0000    |    Loss: 372679519268162576219718873813157970949615023277349878754792909354340875902840529031928522351173571661907228906880982392814568687158048840222593654612103046960193901302201809578754048.0000\n",
      "Epoch 166/500,  Recon. Loss: -370272073330743.9375   |   KL-Div: 812758361420013700844218977813939603879790599016066443896588457048023161147428761797053850261640333410912607738958147260358313897099022626803175949774797581476424844898922860780716032.0000    |    Loss: 812758361420013700844218977813939603879790599016066443896588457048023161147428761797053850261640333410912607738958147260358313897099022626803175949774797581476424844898922860780716032.0000\n",
      "Epoch 167/500,  Recon. Loss: -372718970445263.7500   |   KL-Div: 312078872970407331884435909418757501514132424490860752501360924304231935539996908904740887189868717466108425416497214988285648850103767784896350919115212805542662151324134718645993472.0000    |    Loss: 312078872970407331884435909418757501514132424490860752501360924304231935539996908904740887189868717466108425416497214988285648850103767784896350919115212805542662151324134718645993472.0000\n",
      "Epoch 168/500,  Recon. Loss: -368425831508499.8750   |   KL-Div: 1034898842119104515650288773428746822490750688876390312001860544067012126681837440128225356657326063987604489362889269228967990139705432095117523284171228326919741191986365341389291520.0000    |    Loss: 1034898842119104515650288773428746822490750688876390312001860544067012126681837440128225356657326063987604489362889269228967990139705432095117523284171228326919741191986365341389291520.0000\n",
      "Epoch 169/500,  Recon. Loss: -369237390171621.7500   |   KL-Div: 483992335532166860007934731861946008078383815742673188386822386511758122763890464061218298348643539015044480770054282833643243539074273600185069136147803959745145423831981602155528192.0000    |    Loss: 483992335532166860007934731861946008078383815742673188386822386511758122763890464061218298348643539015044480770054282833643243539074273600185069136147803959745145423831981602155528192.0000\n",
      "Epoch 170/500,  Recon. Loss: -370671646998267.5000   |   KL-Div: 18328653792396859504383120956998714284706976022766235755652433505259564836112684503527334667881709952846169141847101645871719834915176880398456934083853806217537169141379608923340800.0000    |    Loss: 18328653792396859504383120956998714284706976022766235755652433505259564836112684503527334667881709952846169141847101645871719834915176880398456934083853806217537169141379608923340800.0000\n",
      "Epoch 171/500,  Recon. Loss: -370391927025843.0000   |   KL-Div: 469161737442703850207939127539727598808864369418356915746746707227104852854108649664949225615944858138082658681183017279489707580772403891099209985013019467843718532944974309043994624.0000    |    Loss: 469161737442703850207939127539727598808864369418356915746746707227104852854108649664949225615944858138082658681183017279489707580772403891099209985013019467843718532944974309043994624.0000\n",
      "Epoch 172/500,  Recon. Loss: -369141172274121.9375   |   KL-Div: 33569733516988274668461025430813197924024490267414314898059519798724650264995927208261419595313269494379110528780137232938559854058233112647216168818649631953676305323933070302117888.0000    |    Loss: 33569733516988274668461025430813197924024490267414314898059519798724650264995927208261419595313269494379110528780137232938559854058233112647216168818649631953676305323933070302117888.0000\n",
      "Epoch 173/500,  Recon. Loss: -369388496334004.8750   |   KL-Div: 10019182416820406687822365109442039652631403543470015008416300760069214082883969025685903039555897116741513212976258182073464868445532050529812221203815019691459979699010953218621440.0000    |    Loss: 10019182416820406687822365109442039652631403543470015008416300760069214082883969025685903039555897116741513212976258182073464868445532050529812221203815019691459979699010953218621440.0000\n",
      "Epoch 174/500,  Recon. Loss: -365201920980061.1250   |   KL-Div: 10980292305034843362215152958332448545225592581799835843359918785086394479654517712193474371573228991881366628876995659047965834496950166745256890852293155340732436891457368069505024.0000    |    Loss: 10980292305034843362215152958332448545225592581799835843359918785086394479654517712193474371573228991881366628876995659047965834496950166745256890852293155340732436891457368069505024.0000\n",
      "Epoch 175/500,  Recon. Loss: -375867112497892.2500   |   KL-Div: 114072273872897709153566261134282488526164342648972878138306521345913340152594228290933506039727796091567462796543065191458157530773143162892711033973130199926063108973605556498464768.0000    |    Loss: 114072273872897709153566261134282488526164342648972878138306521345913340152594228290933506039727796091567462796543065191458157530773143162892711033973130199926063108973605556498464768.0000\n",
      "Epoch 176/500,  Recon. Loss: -366913029386023.5000   |   KL-Div: 132289947228285399151850985679176531140568548891015292515803935817002939246408291650621176003229760520679547616184782446855564781315076198083300521422751633104900763490168367994634240.0000    |    Loss: 132289947228285399151850985679176531140568548891015292515803935817002939246408291650621176003229760520679547616184782446855564781315076198083300521422751633104900763490168367994634240.0000\n",
      "Epoch 177/500,  Recon. Loss: -372663845729642.0625   |   KL-Div: 125579638542230767204277066461564303786317106410799365295977961111346459211128603206706069784126318517984749413967334454742265142766776824108277664232045621475994174146113774028849152.0000    |    Loss: 125579638542230767204277066461564303786317106410799365295977961111346459211128603206706069784126318517984749413967334454742265142766776824108277664232045621475994174146113774028849152.0000\n",
      "Epoch 178/500,  Recon. Loss: -375499899124753.5625   |   KL-Div: 121520148015603054679959433545382234733734843729939356376005424649602140967558187155641212600804498187041336788526520879243719492241602736012274538410010303165898175808686471969243136.0000    |    Loss: 121520148015603054679959433545382234733734843729939356376005424649602140967558187155641212600804498187041336788526520879243719492241602736012274538410010303165898175808686471969243136.0000\n",
      "Epoch 179/500,  Recon. Loss: -371160662005687.0000   |   KL-Div: 755409821126923034726447449333854854309969207543304417502547615251352031525755808506928265722554066102835665412919088959877876379428097005038694539871085153421000474383919423093211136.0000    |    Loss: 755409821126923034726447449333854854309969207543304417502547615251352031525755808506928265722554066102835665412919088959877876379428097005038694539871085153421000474383919423093211136.0000\n",
      "Epoch 180/500,  Recon. Loss: -371986271866502.4375   |   KL-Div: 15348980006979505785673485861708829861751747180486024003075647512763835939289071084260986164836978903962281965599115035148084672959604641536644563280561297361392148751867967824723968.0000    |    Loss: 15348980006979505785673485861708829861751747180486024003075647512763835939289071084260986164836978903962281965599115035148084672959604641536644563280561297361392148751867967824723968.0000\n",
      "Epoch 181/500,  Recon. Loss: -375332188746615.0000   |   KL-Div: 1609485126080344763250088573191216720417151297328606955696507688510263683319232786560441089588315638317221905424769363490167814784984480138122598899423530482533087448007196582300614656.0000    |    Loss: 1609485126080344763250088573191216720417151297328606955696507688510263683319232786560441089588315638317221905424769363490167814784984480138122598899423530482533087448007196582300614656.0000\n",
      "Epoch 182/500,  Recon. Loss: -375375358718907.8750   |   KL-Div: 627528901873122303723217235599811378479911227429724342476525843317686983479378079165026256149423522291464722001713919083274984430137346297666665688419854912803962665893152096813842432.0000    |    Loss: 627528901873122303723217235599811378479911227429724342476525843317686983479378079165026256149423522291464722001713919083274984430137346297666665688419854912803962665893152096813842432.0000\n",
      "Epoch 183/500,  Recon. Loss: -374426308093842.5000   |   KL-Div: 270787458340604046921824169590044772169014610647882008451462413884328848587603680513138051122427959306112544442707382660589499124683047814054885444526494961535558511332413184682229760.0000    |    Loss: 270787458340604046921824169590044772169014610647882008451462413884328848587603680513138051122427959306112544442707382660589499124683047814054885444526494961535558511332413184682229760.0000\n",
      "Epoch 184/500,  Recon. Loss: -378233817854553.0625   |   KL-Div: 12790411284481246961420262129210257430062952403493970016824175960300231175817884101856210573024776407378579169394390320776201274233984163351213712739024342891370489641857059091644416.0000    |    Loss: 12790411284481246961420262129210257430062952403493970016824175960300231175817884101856210573024776407378579169394390320776201274233984163351213712739024342891370489641857059091644416.0000\n",
      "Epoch 185/500,  Recon. Loss: -370657514284572.5625   |   KL-Div: 3502177077202081676899095974081865041583725524697280408167265845903501043269665173081984095718474429448768846846111038156688418709706670581004341505878258676305023948970060141759037440.0000    |    Loss: 3502177077202081676899095974081865041583725524697280408167265845903501043269665173081984095718474429448768846846111038156688418709706670581004341505878258676305023948970060141759037440.0000\n",
      "Epoch 186/500,  Recon. Loss: -384038658011372.2500   |   KL-Div: 171094407193626260052297241440231733279762384676955144027973592086628808340309064181545733557602890004679708023353096599918431969191201289101938999641399554515924708801845830489210880.0000    |    Loss: 171094407193626260052297241440231733279762384676955144027973592086628808340309064181545733557602890004679708023353096599918431969191201289101938999641399554515924708801845830489210880.0000\n",
      "Epoch 187/500,  Recon. Loss: -377468142891755.0000   |   KL-Div: 164307741251511557481922777320139410463483923897161093352336139556974320201553290367151236507896730097144582440128682399236727246001026721008961763225788734617599834345569201200037888.0000    |    Loss: 164307741251511557481922777320139410463483923897161093352336139556974320201553290367151236507896730097144582440128682399236727246001026721008961763225788734617599834345569201200037888.0000\n",
      "Epoch 188/500,  Recon. Loss: -377581052678168.7500   |   KL-Div: 265169556625165832059736710523560479325081690420769509947256542048893819509984961399159490953133788407398828805384484127031188317586773876127949118419963434989210380763527596998656.0000    |    Loss: 265169556625165832059736710523560479325081690420769509947256542048893819509984961399159490953133788407398828805384484127031188317586773876127949118419963434989210380763527596998656.0000\n",
      "Epoch 189/500,  Recon. Loss: -381101274596497.5625   |   KL-Div: 16518746392447886382078516092814747428630737124717231752625586041057502287152047254705001727724578317434122465315404383627422671284899874755204226398021056890278483254737962180542464.0000    |    Loss: 16518746392447886382078516092814747428630737124717231752625586041057502287152047254705001727724578317434122465315404383627422671284899874755204226398021056890278483254737962180542464.0000\n",
      "Epoch 190/500,  Recon. Loss: -378615297508847.3750   |   KL-Div: 4995051385436069247605796925221947498464036789467432300026948791223721986403238028234322971842559548173014888209950151164182782828513285194891889788262074261353743262915527475986432.0000    |    Loss: 4995051385436069247605796925221947498464036789467432300026948791223721986403238028234322971842559548173014888209950151164182782828513285194891889788262074261353743262915527475986432.0000\n",
      "Epoch 191/500,  Recon. Loss: -381062194515767.1250   |   KL-Div: 10598213671506525241546784957935593078993901018628136284141799610221550451316679881582192656514449619605238499909536789827602029288756768244705355083525125773911324034184801079525376.0000    |    Loss: 10598213671506525241546784957935593078993901018628136284141799610221550451316679881582192656514449619605238499909536789827602029288756768244705355083525125773911324034184801079525376.0000\n",
      "Epoch 192/500,  Recon. Loss: -378442962622299.5000   |   KL-Div: 61296214492218985264940974996993472893197505932685155737196601243072922066730944757563413361800009690812843152560094857288629817799034608307719557744816455422499598301003000288641024.0000    |    Loss: 61296214492218985264940974996993472893197505932685155737196601243072922066730944757563413361800009690812843152560094857288629817799034608307719557744816455422499598301003000288641024.0000\n",
      "Epoch 193/500,  Recon. Loss: -381496689085479.7500   |   KL-Div: 18414693131173090312537888854359051152705727322232178791170502806768551498848536033126665112550437359232820611968554902978465203539522184383773821244949353809731158180272039752892416.0000    |    Loss: 18414693131173090312537888854359051152705727322232178791170502806768551498848536033126665112550437359232820611968554902978465203539522184383773821244949353809731158180272039752892416.0000\n",
      "Epoch 194/500,  Recon. Loss: -369190150304719.9375   |   KL-Div: 158401865663809901758784321352150370628852545093123316982140317231379333751099953141555825681476536653259092424465718697522961714620499277156066016850585384600727208351042516992131072.0000    |    Loss: 158401865663809901758784321352150370628852545093123316982140317231379333751099953141555825681476536653259092424465718697522961714620499277156066016850585384600727208351042516992131072.0000\n",
      "Epoch 195/500,  Recon. Loss: -377304262460840.3125   |   KL-Div: 47735708914760705615953455278123846566886766226217760467702849401909620686077934613187929438628569569114600239520258806341429638908723119597109870155699320794931747299436031010406400.0000    |    Loss: 47735708914760705615953455278123846566886766226217760467702849401909620686077934613187929438628569569114600239520258806341429638908723119597109870155699320794931747299436031010406400.0000\n",
      "Epoch 196/500,  Recon. Loss: -384692028485822.5625   |   KL-Div: 46622486775094739253367283223074188988888994615347930926994385025552826504262708640352754291663974601767234805694359727406603990756284142624991808436184404017415536390782692456660992.0000    |    Loss: 46622486775094739253367283223074188988888994615347930926994385025552826504262708640352754291663974601767234805694359727406603990756284142624991808436184404017415536390782692456660992.0000\n",
      "Epoch 197/500,  Recon. Loss: -382503276321731.4375   |   KL-Div: 5339279502326779734391256864523615920100673247858435067618182296669872541877379420271799311794368824371984308021189639271819813711166080238484011356554929846359949231551319765942272.0000    |    Loss: 5339279502326779734391256864523615920100673247858435067618182296669872541877379420271799311794368824371984308021189639271819813711166080238484011356554929846359949231551319765942272.0000\n",
      "Epoch 198/500,  Recon. Loss: -388014533477841.1875   |   KL-Div: 962365625772126844854760531899235305683500146317522405090504297270198856048303148545568351152459349114106635478953788856241500075378963813799356042754953736867932770583546299500462080.0000    |    Loss: 962365625772126844854760531899235305683500146317522405090504297270198856048303148545568351152459349114106635478953788856241500075378963813799356042754953736867932770583546299500462080.0000\n",
      "Epoch 199/500,  Recon. Loss: -383598519999491.0000   |   KL-Div: 86463882159299345853336127297405789057342494685768673565115012418825285573542381020050900978676000244108532798066513898051817334217412656723514265833237314165437671121138155188649984.0000    |    Loss: 86463882159299345853336127297405789057342494685768673565115012418825285573542381020050900978676000244108532798066513898051817334217412656723514265833237314165437671121138155188649984.0000\n",
      "Epoch 200/500,  Recon. Loss: -385768959595999.7500   |   KL-Div: 43918296628392113977642000933756576211429380507611977741882521995996802065869153003976756393720380263990907585038829624015237304657841953328704705197025466003150328633965861712953344.0000    |    Loss: 43918296628392113977642000933756576211429380507611977741882521995996802065869153003976756393720380263990907585038829624015237304657841953328704705197025466003150328633965861712953344.0000\n",
      "Epoch 201/500,  Recon. Loss: -384831182563427.0000   |   KL-Div: 4819432626319207210554262422522660695986770544673147830555054092835889201411618501624608110741219103654314915730844815948338673438793689754023653467281413177792047857200837236359168.0000    |    Loss: 4819432626319207210554262422522660695986770544673147830555054092835889201411618501624608110741219103654314915730844815948338673438793689754023653467281413177792047857200837236359168.0000\n",
      "Epoch 202/500,  Recon. Loss: -385364202163177.5625   |   KL-Div: 5968565578399535748027844107461044283619386118601701141251823890031216366112336938256304559090985854257414236014033520303752559516149616105914239766191883832946578721209457399824384.0000    |    Loss: 5968565578399535748027844107461044283619386118601701141251823890031216366112336938256304559090985854257414236014033520303752559516149616105914239766191883832946578721209457399824384.0000\n",
      "Epoch 203/500,  Recon. Loss: -381962218793808.6875   |   KL-Div: 698995104909406642527074166683050291355733442246165029733445638063885744123521504243743460427096706802736420431554096172867259507436626748195004437250614418457373674216170734263205888.0000    |    Loss: 698995104909406642527074166683050291355733442246165029733445638063885744123521504243743460427096706802736420431554096172867259507436626748195004437250614418457373674216170734263205888.0000\n",
      "Epoch 204/500,  Recon. Loss: -388820063308175.9375   |   KL-Div: 319723075301296992210053693998779518708931307318776451542075405172514645005324584795766177921490004517478973455441832899781314448883556223637475085991098254767943524111517761778221056.0000    |    Loss: 319723075301296992210053693998779518708931307318776451542075405172514645005324584795766177921490004517478973455441832899781314448883556223637475085991098254767943524111517761778221056.0000\n",
      "Epoch 205/500,  Recon. Loss: -383673584971732.6250   |   KL-Div: 415622239853369400245741082631236789291293445004740959479758199431182088555382363149236748984249106658571458879309729265185621968460448752216449116160218051078783987837233170336448512.0000    |    Loss: 415622239853369400245741082631236789291293445004740959479758199431182088555382363149236748984249106658571458879309729265185621968460448752216449116160218051078783987837233170336448512.0000\n",
      "Epoch 206/500,  Recon. Loss: -382337599571402.1250   |   KL-Div: 1099277253646280017871361499891707685482758990781941995205630299517793985579069965937854638942673443410521291732341710299107402233882407764244824208131467160492503885313251905271496704.0000    |    Loss: 1099277253646280017871361499891707685482758990781941995205630299517793985579069965937854638942673443410521291732341710299107402233882407764244824208131467160492503885313251905271496704.0000\n",
      "Epoch 207/500,  Recon. Loss: -384040639416229.6875   |   KL-Div: 19148825419414638418173418235438646026413264249791461886859908559206695672195303875158522755007430327458342599417353596909174777774466386209716793545471586445903996362784698223558656.0000    |    Loss: 19148825419414638418173418235438646026413264249791461886859908559206695672195303875158522755007430327458342599417353596909174777774466386209716793545471586445903996362784698223558656.0000\n",
      "Epoch 208/500,  Recon. Loss: -371221382019872.4375   |   KL-Div: 254449175327268828539958959000824339722356553596901006897814772575843902591049284209038261346143578420700299506748681506083478323495232271040354047209423531462317612024760072581152768.0000    |    Loss: 254449175327268828539958959000824339722356553596901006897814772575843902591049284209038261346143578420700299506748681506083478323495232271040354047209423531462317612024760072581152768.0000\n",
      "Epoch 209/500,  Recon. Loss: -389387600696062.3125   |   KL-Div: 5594923674469114413070504061599951987100795185872247067585718498556077257343974093472316365615931503568508851743457389249346516597205398502504649537941815019637838550900879273230336.0000    |    Loss: 5594923674469114413070504061599951987100795185872247067585718498556077257343974093472316365615931503568508851743457389249346516597205398502504649537941815019637838550900879273230336.0000\n",
      "Epoch 210/500,  Recon. Loss: -377297940087230.5625   |   KL-Div: 22035634703693905032007249415326322689097270407484215794438315515082925282445390789276237319782262337612217244405403067195568603851732931365628872521760864904049176267719698737528832.0000    |    Loss: 22035634703693905032007249415326322689097270407484215794438315515082925282445390789276237319782262337612217244405403067195568603851732931365628872521760864904049176267719698737528832.0000\n",
      "Epoch 211/500,  Recon. Loss: -385440182096674.5625   |   KL-Div: 194168900362645574787589744196859166321811115466362875509591859690203150701648911811205556506856835964956092576236720892815924255933189894542649966278828574499374879451058070997696512.0000    |    Loss: 194168900362645574787589744196859166321811115466362875509591859690203150701648911811205556506856835964956092576236720892815924255933189894542649966278828574499374879451058070997696512.0000\n",
      "Epoch 212/500,  Recon. Loss: -393783078464118.5000   |   KL-Div: 1603612236235280992163602480213999934794206518386460921387504637591016836461121039116321659306635371381182771425652378757579185412785486761869993727943315259477445248082035229979574272.0000    |    Loss: 1603612236235280992163602480213999934794206518386460921387504637591016836461121039116321659306635371381182771425652378757579185412785486761869993727943315259477445248082035229979574272.0000\n",
      "Epoch 213/500,  Recon. Loss: -380378492961294.3750   |   KL-Div: 970941113883030967796026129216073655660767366120840982183434201926669197053401652942597261114128756912963798202788362271237277917104249099267631763156787937573825436107502701563084800.0000    |    Loss: 970941113883030967796026129216073655660767366120840982183434201926669197053401652942597261114128756912963798202788362271237277917104249099267631763156787937573825436107502701563084800.0000\n",
      "Epoch 214/500,  Recon. Loss: -383814961686288.5625   |   KL-Div: 159201375520413287235221910713518821890084306369064730194382126811373338653229325107488334901977327709941842694145581958111284716828985763090236437741599598738753826681884831658278912.0000    |    Loss: 159201375520413287235221910713518821890084306369064730194382126811373338653229325107488334901977327709941842694145581958111284716828985763090236437741599598738753826681884831658278912.0000\n",
      "Epoch 215/500,  Recon. Loss: -391219909942364.2500   |   KL-Div: 31774701298022319251350931922777727834588177142511836697090901563629445416302668737754970891646055592042764953832144316380113367856420362254975757445720386761535206918067657619013632.0000    |    Loss: 31774701298022319251350931922777727834588177142511836697090901563629445416302668737754970891646055592042764953832144316380113367856420362254975757445720386761535206918067657619013632.0000\n",
      "Epoch 216/500,  Recon. Loss: -386405141566360.1875   |   KL-Div: 6606319798271989389630538461922446741810240942149424841714270827358759968316762236009560498663809177661896385855921033393400304199836017035448277553616794534551283615974289896898560.0000    |    Loss: 6606319798271989389630538461922446741810240942149424841714270827358759968316762236009560498663809177661896385855921033393400304199836017035448277553616794534551283615974289896898560.0000\n",
      "Epoch 217/500,  Recon. Loss: -383224508944174.9375   |   KL-Div: 229407350882024100532238286468549905493864488099866791958348704140720015978928481112546295634911312097575728316838840194597307535930803683444677059119892785150889259382910485520187392.0000    |    Loss: 229407350882024100532238286468549905493864488099866791958348704140720015978928481112546295634911312097575728316838840194597307535930803683444677059119892785150889259382910485520187392.0000\n",
      "Epoch 218/500,  Recon. Loss: -386555978920467.8125   |   KL-Div: 166532092102182131145274066779209479217411584910811227470737099863422562293151054430377611768838840787980819072614097308259817023220544995781399918167362510678727757399572986848083968.0000    |    Loss: 166532092102182131145274066779209479217411584910811227470737099863422562293151054430377611768838840787980819072614097308259817023220544995781399918167362510678727757399572986848083968.0000\n",
      "Epoch 219/500,  Recon. Loss: -388680622500097.7500   |   KL-Div: 1076262884581643958781394779333447097425525272660684901148682557834915342004627858206242072463262660820855621681007163462322848370335654836278999008777841461358536948668661995635998720.0000    |    Loss: 1076262884581643958781394779333447097425525272660684901148682557834915342004627858206242072463262660820855621681007163462322848370335654836278999008777841461358536948668661995635998720.0000\n",
      "Epoch 220/500,  Recon. Loss: -385998716639689.3750   |   KL-Div: 1797763918021065291341804141650341035439479926127928900617460701693893082988871387988014132658891119139204754485355518583228352133017154445645948580371331703317652040769027958821093376.0000    |    Loss: 1797763918021065291341804141650341035439479926127928900617460701693893082988871387988014132658891119139204754485355518583228352133017154445645948580371331703317652040769027958821093376.0000\n",
      "Epoch 221/500,  Recon. Loss: -388371703081942.5625   |   KL-Div: 196608844411022754917304384347288831675687015563869228780008932715619548430212774258095446471919946484939049102666157051783310115067528096286360618143235413918512781273798790873088.0000    |    Loss: 196608844411022754917304384347288831675687015563869228780008932715619548430212774258095446471919946484939049102666157051783310115067528096286360618143235413918512781273798790873088.0000\n",
      "Epoch 222/500,  Recon. Loss: -387573023289703.7500   |   KL-Div: 2628050486069325551602222844004223949090460720505381452799958390477248356333384352395522503246656455870678983462093369453039322697058642870752971263956264008783779464700292920730714112.0000    |    Loss: 2628050486069325551602222844004223949090460720505381452799958390477248356333384352395522503246656455870678983462093369453039322697058642870752971263956264008783779464700292920730714112.0000\n",
      "Epoch 223/500,  Recon. Loss: -389371212624985.6875   |   KL-Div: 86819152810278999756694460189277576960439529125209237564142442889354161504697310660610408767687710359466223122719839496315874992084355036530143623769139207400780176873258955571200000.0000    |    Loss: 86819152810278999756694460189277576960439529125209237564142442889354161504697310660610408767687710359466223122719839496315874992084355036530143623769139207400780176873258955571200000.0000\n",
      "Epoch 224/500,  Recon. Loss: -389451494261276.4375   |   KL-Div: 100282452192022961495597416432958550834430572795233933445638236400225612923677013065229660045776835006678416940766054012499526295246209063477262489683107919365466590322901460243709952.0000    |    Loss: 100282452192022961495597416432958550834430572795233933445638236400225612923677013065229660045776835006678416940766054012499526295246209063477262489683107919365466590322901460243709952.0000\n",
      "Epoch 225/500,  Recon. Loss: -389495245304811.0000   |   KL-Div: 70332442154401637189714933323504857954822491728841772126318368993193021966834334240557441025485109337290922946534789534705507897974022913073592200243288624842911018177091379864272896.0000    |    Loss: 70332442154401637189714933323504857954822491728841772126318368993193021966834334240557441025485109337290922946534789534705507897974022913073592200243288624842911018177091379864272896.0000\n",
      "Epoch 226/500,  Recon. Loss: -384271337665509.1250   |   KL-Div: 199065186678119713914631285765747214332663517282176325563944284437455274290905431382507834694112694215780184599965260864271807443037504981343583353029132806939737176200347494169706496.0000    |    Loss: 199065186678119713914631285765747214332663517282176325563944284437455274290905431382507834694112694215780184599965260864271807443037504981343583353029132806939737176200347494169706496.0000\n",
      "Epoch 227/500,  Recon. Loss: -390305792513861.4375   |   KL-Div: 45836808450642986182085386794597393636533885457470999145193110123609858383925167990861239244579128475261654511513064199760503317216132289687726298384193105544631948277017371306098688.0000    |    Loss: 45836808450642986182085386794597393636533885457470999145193110123609858383925167990861239244579128475261654511513064199760503317216132289687726298384193105544631948277017371306098688.0000\n",
      "Epoch 228/500,  Recon. Loss: -386199946383155.3125   |   KL-Div: 2700101814588598938741713373898880574918298327927664765978181147050163030250202356566039592267051692835772710232685765467925024710467693458002884132918978479337606331674862121123840.0000    |    Loss: 2700101814588598938741713373898880574918298327927664765978181147050163030250202356566039592267051692835772710232685765467925024710467693458002884132918978479337606331674862121123840.0000\n",
      "Epoch 229/500,  Recon. Loss: -390059199835712.6875   |   KL-Div: 68731657207368632886664385310417643732837016057644655787400400015044063480508815225034760793057183775370689444127472955988618801624488442151427136209861882899354043324971511044898816.0000    |    Loss: 68731657207368632886664385310417643732837016057644655787400400015044063480508815225034760793057183775370689444127472955988618801624488442151427136209861882899354043324971511044898816.0000\n",
      "Epoch 230/500,  Recon. Loss: -389908331874571.0000   |   KL-Div: 190128680203959330197367705562743775136289239168630332180115603487654004811443056672556351646895037581733047298847356757338059983654010126821238210844599394950208355150569689495633920.0000    |    Loss: 190128680203959330197367705562743775136289239168630332180115603487654004811443056672556351646895037581733047298847356757338059983654010126821238210844599394950208355150569689495633920.0000\n",
      "Epoch 231/500,  Recon. Loss: -390170114182352.6250   |   KL-Div: 357363499642092885325240740857386481303748672116961493038387638988930556085564896716203073306890668510340111663668969458006606989389274074029799411832899743577411845609980086217342976.0000    |    Loss: 357363499642092885325240740857386481303748672116961493038387638988930556085564896716203073306890668510340111663668969458006606989389274074029799411832899743577411845609980086217342976.0000\n",
      "Epoch 232/500,  Recon. Loss: -389182795464093.6875   |   KL-Div: 377829013317382910532122910616265049079863424834698786877914229909584113956265653825607853315057182575234494708932974780823717299463514695427793765947272478547211213716337069800816640.0000    |    Loss: 377829013317382910532122910616265049079863424834698786877914229909584113956265653825607853315057182575234494708932974780823717299463514695427793765947272478547211213716337069800816640.0000\n",
      "Epoch 233/500,  Recon. Loss: -391170256899687.1250   |   KL-Div: 1068388913947033194078985239903068152545537559053365270883370210583898024620528877879924918381909921868792633004745055378721935722364183166171752043049547436936683854072502991198355456.0000    |    Loss: 1068388913947033194078985239903068152545537559053365270883370210583898024620528877879924918381909921868792633004745055378721935722364183166171752043049547436936683854072502991198355456.0000\n",
      "Epoch 234/500,  Recon. Loss: -394599210793873.7500   |   KL-Div: 28629512505369765381453703140641628380829198625122496414012977891128741105867844453347599283533894921647666213387306591959426850380975329475661528918043077315441551712744164472913920.0000    |    Loss: 28629512505369765381453703140641628380829198625122496414012977891128741105867844453347599283533894921647666213387306591959426850380975329475661528918043077315441551712744164472913920.0000\n",
      "Epoch 235/500,  Recon. Loss: -386319676316258.4375   |   KL-Div: 62895665988842387270108040711422971351922805367323199705120389941257275614589772334849916511759287358594768835074946697357722222743861718308635969741707543794241234443755592464990208.0000    |    Loss: 62895665988842387270108040711422971351922805367323199705120389941257275614589772334849916511759287358594768835074946697357722222743861718308635969741707543794241234443755592464990208.0000\n",
      "Epoch 236/500,  Recon. Loss: -391941223431511.6875   |   KL-Div: 65495205659702157057184399371391722332846604255128297446876128607903796832756979509769167744271528955991671229430579741943255986008083595526484521177269556644666231751954278419267584.0000    |    Loss: 65495205659702157057184399371391722332846604255128297446876128607903796832756979509769167744271528955991671229430579741943255986008083595526484521177269556644666231751954278419267584.0000\n",
      "Epoch 237/500,  Recon. Loss: -386980932975015.6250   |   KL-Div: 142292469989721148286677262023944539366542342222893083892116125639829748435294468096819354148136267690718450965438574870836493807799984780111619780706495187530420728087299299957800960.0000    |    Loss: 142292469989721148286677262023944539366542342222893083892116125639829748435294468096819354148136267690718450965438574870836493807799984780111619780706495187530420728087299299957800960.0000\n",
      "Epoch 238/500,  Recon. Loss: -392739773663079.1250   |   KL-Div: 18283930540403119576707550115937050863299572228913725197819243199617922211337172135960645403693883876126789726446801081336356159319669386210194569748645124165633576023990104626298880.0000    |    Loss: 18283930540403119576707550115937050863299572228913725197819243199617922211337172135960645403693883876126789726446801081336356159319669386210194569748645124165633576023990104626298880.0000\n",
      "Epoch 239/500,  Recon. Loss: -395800527239720.2500   |   KL-Div: 42089772953983670148094159799943929567803395941524080093706491186629528404690580351489088051840297056543798758364793985681290399938621538034276962421105385923082781584460276559773696.0000    |    Loss: 42089772953983670148094159799943929567803395941524080093706491186629528404690580351489088051840297056543798758364793985681290399938621538034276962421105385923082781584460276559773696.0000\n",
      "Epoch 240/500,  Recon. Loss: -393314602950095.3125   |   KL-Div: 1237552609934601109670387246253728126427148053012079755524535372599660524283251321814289513639943336737818085648684723956520933896322415783302607390557423560337559974705988349460480.0000    |    Loss: 1237552609934601109670387246253728126427148053012079755524535372599660524283251321814289513639943336737818085648684723956520933896322415783302607390557423560337559974705988349460480.0000\n",
      "Epoch 241/500,  Recon. Loss: -392856436295971.2500   |   KL-Div: 133575329144673261963828968467703938488095261700725383583226110585191631425228193656336284239212093154284191495394763078767682850266748156465466358528193848004093561135062200338087936.0000    |    Loss: 133575329144673261963828968467703938488095261700725383583226110585191631425228193656336284239212093154284191495394763078767682850266748156465466358528193848004093561135062200338087936.0000\n",
      "Epoch 242/500,  Recon. Loss: -388538126511447.9375   |   KL-Div: 105438742309680760626287520012619423968509137129983431016484893486648178085021034341767070419362776473832269368430812586956457092360917332557727953988089960512220497482389202279596032.0000    |    Loss: 105438742309680760626287520012619423968509137129983431016484893486648178085021034341767070419362776473832269368430812586956457092360917332557727953988089960512220497482389202279596032.0000\n",
      "Epoch 243/500,  Recon. Loss: -392884486997518.7500   |   KL-Div: 38987247207785406306408154320298737802181453136007177492294378044225452501385822560611163664173782019732184889404480243666504996276158324221712375594816080639533994510513119342624768.0000    |    Loss: 38987247207785406306408154320298737802181453136007177492294378044225452501385822560611163664173782019732184889404480243666504996276158324221712375594816080639533994510513119342624768.0000\n",
      "Epoch 244/500,  Recon. Loss: -387582408426839.0000   |   KL-Div: 1633150383995969701004980254281347369493293462637888840265310043537065227440383278862752188735805492156005650537920992487209334417595021513082902488722609962569335888848673323352064.0000    |    Loss: 1633150383995969701004980254281347369493293462637888840265310043537065227440383278862752188735805492156005650537920992487209334417595021513082902488722609962569335888848673323352064.0000\n",
      "Epoch 245/500,  Recon. Loss: -390997188541614.0625   |   KL-Div: 414727710630268646183838019719155407290351778579533722813271174460729188761974852610172960833217615284439899804832374614106364860799935575799307194754172113587505758386322758973784064.0000    |    Loss: 414727710630268646183838019719155407290351778579533722813271174460729188761974852610172960833217615284439899804832374614106364860799935575799307194754172113587505758386322758973784064.0000\n",
      "Epoch 246/500,  Recon. Loss: -390620872749870.3125   |   KL-Div: 1306197426754569728505675689430629287955754325018161724739829613819156565763268373213364128943642093413726362540986114783075608327027525241298482397293563923898828912483540387445604352.0000    |    Loss: 1306197426754569728505675689430629287955754325018161724739829613819156565763268373213364128943642093413726362540986114783075608327027525241298482397293563923898828912483540387445604352.0000\n",
      "Epoch 247/500,  Recon. Loss: -389802674822486.0000   |   KL-Div: 574806229258160133219323253271405569129312218363877592407222891181842206670265064118999867499261356621372227464925459282039755207647898091153096116211308357514185577349144102215614464.0000    |    Loss: 574806229258160133219323253271405569129312218363877592407222891181842206670265064118999867499261356621372227464925459282039755207647898091153096116211308357514185577349144102215614464.0000\n",
      "Epoch 248/500,  Recon. Loss: -372618549819715.2500   |   KL-Div: 207834837404160590891127904574576168846456937351152215483087781019214300276905737208929022513660228335416392325443781374031379979133610735677659813287215609225521340688345627243839488.0000    |    Loss: 207834837404160590891127904574576168846456937351152215483087781019214300276905737208929022513660228335416392325443781374031379979133610735677659813287215609225521340688345627243839488.0000\n",
      "Epoch 249/500,  Recon. Loss: -385394929747306.8125   |   KL-Div: 5349023383409921699198893500719293734903775946990972902323798909345815898461718077766133561783485082118011579089369460676350543738588816946611705856533446547883270629618240207192064.0000    |    Loss: 5349023383409921699198893500719293734903775946990972902323798909345815898461718077766133561783485082118011579089369460676350543738588816946611705856533446547883270629618240207192064.0000\n",
      "Epoch 250/500,  Recon. Loss: -395276546276854.5625   |   KL-Div: 28051126085111815124341101915352067122569835891659263256367696450712850898405514524054417166989051645275510591767949570366424530086589179081210252380940057039733488372985664288849920.0000    |    Loss: 28051126085111815124341101915352067122569835891659263256367696450712850898405514524054417166989051645275510591767949570366424530086589179081210252380940057039733488372985664288849920.0000\n",
      "Epoch 251/500,  Recon. Loss: -399561248162021.7500   |   KL-Div: 53483333470458852289067011072767044283536973857436008369309797975801243485098710588213178737799360693118006870369499878635330442798292207003085002245518618620309092675023038968758272.0000    |    Loss: 53483333470458852289067011072767044283536973857436008369309797975801243485098710588213178737799360693118006870369499878635330442798292207003085002245518618620309092675023038968758272.0000\n",
      "Epoch 252/500,  Recon. Loss: -390922990835997.8750   |   KL-Div: 63985516645610450976011626938834030060304730428484853229196966216498448277300473431643284821876557730833264089553336450339261110881491518670918614202039473053590075163081386301063168.0000    |    Loss: 63985516645610450976011626938834030060304730428484853229196966216498448277300473431643284821876557730833264089553336450339261110881491518670918614202039473053590075163081386301063168.0000\n",
      "Epoch 253/500,  Recon. Loss: -401717262706323.8125   |   KL-Div: 95593997301152727126180483745374076314376601831138737752246774578585878374990477175508479825828484271710653057586002410064986795097170022655412764215479921718309255242773449834233856.0000    |    Loss: 95593997301152727126180483745374076314376601831138737752246774578585878374990477175508479825828484271710653057586002410064986795097170022655412764215479921718309255242773449834233856.0000\n",
      "Epoch 254/500,  Recon. Loss: -388019814430343.3125   |   KL-Div: 79602279524863992348535140878696088634546074848914933407681213493963089115196478421004430565300615302614015780941638904969313101204831555877063371225170433469131193728242736254943232.0000    |    Loss: 79602279524863992348535140878696088634546074848914933407681213493963089115196478421004430565300615302614015780941638904969313101204831555877063371225170433469131193728242736254943232.0000\n",
      "Epoch 255/500,  Recon. Loss: -394753461605007.1250   |   KL-Div: 246105728583904728351463585977566235116522000360114306892185267730015818994266584043884210612622402877796522277619707782071353713844768174687962127484872768027528625255052334413643776.0000    |    Loss: 246105728583904728351463585977566235116522000360114306892185267730015818994266584043884210612622402877796522277619707782071353713844768174687962127484872768027528625255052334413643776.0000\n",
      "Epoch 256/500,  Recon. Loss: -390385522370505.2500   |   KL-Div: 284355278033882819163147533002539793941160500919849699585397129540815550871953535463681773468805436057677554737395317802402994672815648124483596488643641948980967700393784551801880576.0000    |    Loss: 284355278033882819163147533002539793941160500919849699585397129540815550871953535463681773468805436057677554737395317802402994672815648124483596488643641948980967700393784551801880576.0000\n",
      "Epoch 257/500,  Recon. Loss: -399019047367383.6875   |   KL-Div: 753944030808881643933447004089400150907895013545195555605727723015425982633152644517879924567601284144945775624485153196367206999141236531212626262815985689618160686433672472832245760.0000    |    Loss: 753944030808881643933447004089400150907895013545195555605727723015425982633152644517879924567601284144945775624485153196367206999141236531212626262815985689618160686433672472832245760.0000\n",
      "Epoch 258/500,  Recon. Loss: -392057405534952.5000   |   KL-Div: 72083507422603059390193656576288875622765948491969452515094415837436130901536244191990039560217907365170849743419782249745596165567401124903255459153993705664640678301081078778036224.0000    |    Loss: 72083507422603059390193656576288875622765948491969452515094415837436130901536244191990039560217907365170849743419782249745596165567401124903255459153993705664640678301081078778036224.0000\n",
      "Epoch 259/500,  Recon. Loss: -384902901808154.8125   |   KL-Div: 264759744818126212344373659936871902538591754005553294136505717573828145858046797873661996542238951104649561886893820970327089605026992379190080986880403403050225702835453348624203776.0000    |    Loss: 264759744818126212344373659936871902538591754005553294136505717573828145858046797873661996542238951104649561886893820970327089605026992379190080986880403403050225702835453348624203776.0000\n",
      "Epoch 260/500,  Recon. Loss: -397023939743974.2500   |   KL-Div: 198859963082333775845374318231574356360251679592331686336082735316561262466067854876730337374912097420329502284518506815876347939670711277595509249964094199634600821791412534594502656.0000    |    Loss: 198859963082333775845374318231574356360251679592331686336082735316561262466067854876730337374912097420329502284518506815876347939670711277595509249964094199634600821791412534594502656.0000\n",
      "Epoch 261/500,  Recon. Loss: -397680176924274.2500   |   KL-Div: 391112025688958707773201539150666028191486880217965721081546903956247143045091230145637374807117359364695091758136154812909393052890590396856147439608309940738276540221779851761156096.0000    |    Loss: 391112025688958707773201539150666028191486880217965721081546903956247143045091230145637374807117359364695091758136154812909393052890590396856147439608309940738276540221779851761156096.0000\n",
      "Epoch 262/500,  Recon. Loss: -395643712974215.5000   |   KL-Div: 83336644258187528530869699527999369758417379808874320786112670398927232862554226573813304337666596940345279156298970064302166844083254007800970406675405338357484163624230557266739200.0000    |    Loss: 83336644258187528530869699527999369758417379808874320786112670398927232862554226573813304337666596940345279156298970064302166844083254007800970406675405338357484163624230557266739200.0000\n",
      "Epoch 263/500,  Recon. Loss: -389744278983788.4375   |   KL-Div: 3517741981764196898324317384466054458942685846195285216810669162330367669588671425325619929031553655901364545495111411174763539448546398997973486402279690896620320212815762649176342528.0000    |    Loss: 3517741981764196898324317384466054458942685846195285216810669162330367669588671425325619929031553655901364545495111411174763539448546398997973486402279690896620320212815762649176342528.0000\n",
      "Epoch 264/500,  Recon. Loss: -396591886597610.3125   |   KL-Div: 132738191443474331294539584179810977629618750451303655246390508840997820204127775135107024041703924717964623805368060461772644614962917010463392948067214590377986538271231198298636288.0000    |    Loss: 132738191443474331294539584179810977629618750451303655246390508840997820204127775135107024041703924717964623805368060461772644614962917010463392948067214590377986538271231198298636288.0000\n",
      "Epoch 265/500,  Recon. Loss: -396401202199002.1875   |   KL-Div: 1728738069423684778872214077509497084935568288394838731030824249618130837276469111574700254270010916196260835565445620070632107261336722865497553070469746849322016375432278242637119488.0000    |    Loss: 1728738069423684778872214077509497084935568288394838731030824249618130837276469111574700254270010916196260835565445620070632107261336722865497553070469746849322016375432278242637119488.0000\n",
      "Epoch 266/500,  Recon. Loss: -399282790249171.1875   |   KL-Div: 184771959216181361575482012568785501162304519289667167005001329106048369632498516518617093323637796280863635989108253595743345726472674953404462316561224724505698297676875219704217600.0000    |    Loss: 184771959216181361575482012568785501162304519289667167005001329106048369632498516518617093323637796280863635989108253595743345726472674953404462316561224724505698297676875219704217600.0000\n",
      "Epoch 267/500,  Recon. Loss: -398932277727267.4375   |   KL-Div: 379881894299293240254319644967332537276968534610702331248020720637789275200912319227361586984414362399044717895063112215119881465962594816747769162703083106344198031244059297760411648.0000    |    Loss: 379881894299293240254319644967332537276968534610702331248020720637789275200912319227361586984414362399044717895063112215119881465962594816747769162703083106344198031244059297760411648.0000\n",
      "Epoch 268/500,  Recon. Loss: -413574984787802.0625   |   KL-Div: 202141482515070123332674161083834036202454842491150337818840798328864664215667808173884357476730742365436426068615692173045349532032528212192964398986581794742906801766885084813590528.0000    |    Loss: 202141482515070123332674161083834036202454842491150337818840798328864664215667808173884357476730742365436426068615692173045349532032528212192964398986581794742906801766885084813590528.0000\n",
      "Epoch 269/500,  Recon. Loss: -396385674984187.3750   |   KL-Div: 1264917633265375752541158237372954505674720028585464100570170988179633431313340259096499300983675470556147805214117568237910219505853980341940497126353573224278953563174223639090298880.0000    |    Loss: 1264917633265375752541158237372954505674720028585464100570170988179633431313340259096499300983675470556147805214117568237910219505853980341940497126353573224278953563174223639090298880.0000\n",
      "Epoch 270/500,  Recon. Loss: -391197563367588.3125   |   KL-Div: 10421205003056234237626148846996357360157359432694785769760202439854055943372075476791374870417865082738592522575395493808920420809510344444554270213855999288705997908375665100455936.0000    |    Loss: 10421205003056234237626148846996357360157359432694785769760202439854055943372075476791374870417865082738592522575395493808920420809510344444554270213855999288705997908375665100455936.0000\n",
      "Epoch 271/500,  Recon. Loss: -393207087327325.4375   |   KL-Div: 371616298075763015230903771441007302041094983390948268252592371905679216332243228755010379061767921638803596719159520877081336991124337406983323472635683882699878470475411323621474304.0000    |    Loss: 371616298075763015230903771441007302041094983390948268252592371905679216332243228755010379061767921638803596719159520877081336991124337406983323472635683882699878470475411323621474304.0000\n",
      "Epoch 272/500,  Recon. Loss: -396973529625410.6875   |   KL-Div: 28932652649641450749898621039841773921007218342119676297202303793161795765875524652809333179888958910871685255158935067691577667482699023824365000914949954691343366183340351357452288.0000    |    Loss: 28932652649641450749898621039841773921007218342119676297202303793161795765875524652809333179888958910871685255158935067691577667482699023824365000914949954691343366183340351357452288.0000\n",
      "Epoch 273/500,  Recon. Loss: -404513898060109.2500   |   KL-Div: 216531007470943560045651774260585889886946632433546531645970210091031910734939724848340236913410815683879900414601765840353677360759777971677587750126428355504839063735633835873796096.0000    |    Loss: 216531007470943560045651774260585889886946632433546531645970210091031910734939724848340236913410815683879900414601765840353677360759777971677587750126428355504839063735633835873796096.0000\n",
      "Epoch 274/500,  Recon. Loss: -404311055580425.1250   |   KL-Div: 246191548440311805972654692472446037325489358603565627936689732207049341219262997193903419785729124388757273521549923488770460360976448025886973592779220825585133496122827085837238272.0000    |    Loss: 246191548440311805972654692472446037325489358603565627936689732207049341219262997193903419785729124388757273521549923488770460360976448025886973592779220825585133496122827085837238272.0000\n",
      "Epoch 275/500,  Recon. Loss: -400965768220497.2500   |   KL-Div: 187260590557622800188250205023570494221091634721985650769006548157288910831445197156879891814928379535152597656124564511383254956332351053688853153414814861554713260590759105393590272.0000    |    Loss: 187260590557622800188250205023570494221091634721985650769006548157288910831445197156879891814928379535152597656124564511383254956332351053688853153414814861554713260590759105393590272.0000\n",
      "Epoch 276/500,  Recon. Loss: -406191638278210.6875   |   KL-Div: 161170545919178307873319589990682130999026449131200781675304096352616215614625290697498022800380651738755166039125067499138118588822858665838080646259399307944178436222998062659796992.0000    |    Loss: 161170545919178307873319589990682130999026449131200781675304096352616215614625290697498022800380651738755166039125067499138118588822858665838080646259399307944178436222998062659796992.0000\n",
      "Epoch 277/500,  Recon. Loss: -403328074789504.6875   |   KL-Div: 2553497246810409759651027773830588085612457078643546353673063140276673621211846173365794579662561119910439018154321275529569909221850535978565092078445141381170906148227473716805632.0000    |    Loss: 2553497246810409759651027773830588085612457078643546353673063140276673621211846173365794579662561119910439018154321275529569909221850535978565092078445141381170906148227473716805632.0000\n",
      "Epoch 278/500,  Recon. Loss: -400324693121026.6250   |   KL-Div: 410364768308268184287539661103688841740629696124489115323824331624449790806848356481314765870027052621426359393434378435956849659256213288553573630025548055672130089161849109265514496.0000    |    Loss: 410364768308268184287539661103688841740629696124489115323824331624449790806848356481314765870027052621426359393434378435956849659256213288553573630025548055672130089161849109265514496.0000\n",
      "Epoch 279/500,  Recon. Loss: -398837932302394.0625   |   KL-Div: 27946581246192353645424649438255395422100696998321569107482371837054223894867535630305924931417235410196299071225158756843868195965349300470204046852126174570456865604888149505343488.0000    |    Loss: 27946581246192353645424649438255395422100696998321569107482371837054223894867535630305924931417235410196299071225158756843868195965349300470204046852126174570456865604888149505343488.0000\n",
      "Epoch 280/500,  Recon. Loss: -408712913660646.1875   |   KL-Div: 523247114285778384831629229554949332106612961825553844085993874329244792491000464782872272524948277618490538620402902870541935875223859291501853878341862063907984800759785251638607872.0000    |    Loss: 523247114285778384831629229554949332106612961825553844085993874329244792491000464782872272524948277618490538620402902870541935875223859291501853878341862063907984800759785251638607872.0000\n",
      "Epoch 281/500,  Recon. Loss: -402920261125140.0000   |   KL-Div: 129483806516043531572941920972594076692833176309419805389136950952306927319755531356498506185860940707031557564900809857455570314939292101819128457251249015316915976549286032661544960.0000    |    Loss: 129483806516043531572941920972594076692833176309419805389136950952306927319755531356498506185860940707031557564900809857455570314939292101819128457251249015316915976549286032661544960.0000\n",
      "Epoch 282/500,  Recon. Loss: -402685191070823.0625   |   KL-Div: 313700255357718773201752090715304166290664373402900901955630183355625660944308148461048390502779745751393313743700611031872124464097243782915201587045911894244615733910092731677409280.0000    |    Loss: 313700255357718773201752090715304166290664373402900901955630183355625660944308148461048390502779745751393313743700611031872124464097243782915201587045911894244615733910092731677409280.0000\n",
      "Epoch 283/500,  Recon. Loss: -393775553720852.9375   |   KL-Div: 231317996253721546093994811280415218902547428758671748776078949565369555426658849349764092626694474494636874244351178349825779807727236394769663205537758966361659698043540654193115136.0000    |    Loss: 231317996253721546093994811280415218902547428758671748776078949565369555426658849349764092626694474494636874244351178349825779807727236394769663205537758966361659698043540654193115136.0000\n",
      "Epoch 284/500,  Recon. Loss: -393207471089581.1250   |   KL-Div: 392862742054210918150316776639987595937202121351712540280930364561564560608628975461426860189123825602208159580356199781261681449781179395188257785717108485473419241204561033253879808.0000    |    Loss: 392862742054210918150316776639987595937202121351712540280930364561564560608628975461426860189123825602208159580356199781261681449781179395188257785717108485473419241204561033253879808.0000\n",
      "Epoch 285/500,  Recon. Loss: -404979651274572.0000   |   KL-Div: 71960277756338444003630679232663749082531140625762138395718913545752673003122394527775090077336037923860247598823741543932933206358785463331807298943340747988164126292262197953298432.0000    |    Loss: 71960277756338444003630679232663749082531140625762138395718913545752673003122394527775090077336037923860247598823741543932933206358785463331807298943340747988164126292262197953298432.0000\n",
      "Epoch 286/500,  Recon. Loss: -395554796108779.6875   |   KL-Div: 1323921646178841503578863260333744016304445791392036550630881785398343755111646799757440860890277456899863956284485616296393996891487111522393112191595805704994159434952080959310135296.0000    |    Loss: 1323921646178841503578863260333744016304445791392036550630881785398343755111646799757440860890277456899863956284485616296393996891487111522393112191595805704994159434952080959310135296.0000\n",
      "Epoch 287/500,  Recon. Loss: -398016473151344.6250   |   KL-Div: 56966140345267547514610274333447531171653652278078108885024697834847052385951515923074439608053173403519952249303417671184074433303149839529316048214533823336165363713014550597992448.0000    |    Loss: 56966140345267547514610274333447531171653652278078108885024697834847052385951515923074439608053173403519952249303417671184074433303149839529316048214533823336165363713014550597992448.0000\n",
      "Epoch 288/500,  Recon. Loss: -406872849673563.9375   |   KL-Div: 1104104390359905804094156150846205244756544395115796478728207762514507531531675668562985549880782742946558960137873640304720991555632753560510290731126992343985581223574214654558208.0000    |    Loss: 1104104390359905804094156150846205244756544395115796478728207762514507531531675668562985549880782742946558960137873640304720991555632753560510290731126992343985581223574214654558208.0000\n",
      "Epoch 289/500,  Recon. Loss: -407125388113020.4375   |   KL-Div: 51069343545948417314118493853536403019549949204515641917659823450272409161555391617150791834581449050212602899149121927602669594319806049640736453095840015394529467622761673252667392.0000    |    Loss: 51069343545948417314118493853536403019549949204515641917659823450272409161555391617150791834581449050212602899149121927602669594319806049640736453095840015394529467622761673252667392.0000\n",
      "Epoch 290/500,  Recon. Loss: -393324220958336.2500   |   KL-Div: 207716064014443831036405482121580660666498559951565000206004176648489787342398824574227089574003510833344768940922633603226720232618851579653987625685488688638596183450939569865752576.0000    |    Loss: 207716064014443831036405482121580660666498559951565000206004176648489787342398824574227089574003510833344768940922633603226720232618851579653987625685488688638596183450939569865752576.0000\n",
      "Epoch 291/500,  Recon. Loss: -401090679280148.0000   |   KL-Div: 242016541002167827433960609077209089395175022622967974303592724580804697102888101964414783972740297819487102153961376898711582841162911519551234089368514798644173717070808772281106432.0000    |    Loss: 242016541002167827433960609077209089395175022622967974303592724580804697102888101964414783972740297819487102153961376898711582841162911519551234089368514798644173717070808772281106432.0000\n",
      "Epoch 292/500,  Recon. Loss: -406007116221207.3125   |   KL-Div: 30616076736926290394982849321764400373388401397247869265763769406700107039861616669412070659945089941928367723245529743143754775052809195059026061347150674029115153572236258548121600.0000    |    Loss: 30616076736926290394982849321764400373388401397247869265763769406700107039861616669412070659945089941928367723245529743143754775052809195059026061347150674029115153572236258548121600.0000\n",
      "Epoch 293/500,  Recon. Loss: -400391928613651.5000   |   KL-Div: 101416033997276572121530051333387743492540697925990847489718750724071523806232920305108916821240194909308084843152530700543581835912653518119384539866083935165376197463655318946840576.0000    |    Loss: 101416033997276572121530051333387743492540697925990847489718750724071523806232920305108916821240194909308084843152530700543581835912653518119384539866083935165376197463655318946840576.0000\n",
      "Epoch 294/500,  Recon. Loss: -401668915490594.0625   |   KL-Div: 59573629914100255680838486113600409368024277358575489413666924983689932505067823481215690133582393153432841361247324258926826051361604234499592377026506078305112009350120630315384832.0000    |    Loss: 59573629914100255680838486113600409368024277358575489413666924983689932505067823481215690133582393153432841361247324258926826051361604234499592377026506078305112009350120630315384832.0000\n",
      "Epoch 295/500,  Recon. Loss: -406577629071577.1250   |   KL-Div: 610853217038777475684539166047145941105004748671484389480857805588026511661076197111045524185378639350100516669373021827825449812535998970795824144401112668451068967244090608820682752.0000    |    Loss: 610853217038777475684539166047145941105004748671484389480857805588026511661076197111045524185378639350100516669373021827825449812535998970795824144401112668451068967244090608820682752.0000\n",
      "Epoch 296/500,  Recon. Loss: -390153606816788.7500   |   KL-Div: 851662983341937381546745386110516600375807508752259516396892704150160700725466385327332307949579547126385588423914873133515429554696202350856880495537529581235589083061407904555859968.0000    |    Loss: 851662983341937381546745386110516600375807508752259516396892704150160700725466385327332307949579547126385588423914873133515429554696202350856880495537529581235589083061407904555859968.0000\n",
      "Epoch 297/500,  Recon. Loss: -406303046233431.2500   |   KL-Div: 381926012093649630346051157626165857486701553783375196160958253017528633446524394048687589368178739206135705003826722821048148527801121658577041992829383810819490907698227790741504.0000    |    Loss: 381926012093649630346051157626165857486701553783375196160958253017528633446524394048687589368178739206135705003826722821048148527801121658577041992829383810819490907698227790741504.0000\n",
      "Epoch 298/500,  Recon. Loss: -367846843615000.1875   |   KL-Div: 157522821215365631140770272012881952298731971880525221746363589479203091226275466123624718004228051342331074928677469817199952069807216256863798455683223987249296134760998442362732544.0000    |    Loss: 157522821215365631140770272012881952298731971880525221746363589479203091226275466123624718004228051342331074928677469817199952069807216256863798455683223987249296134760998442362732544.0000\n",
      "Epoch 299/500,  Recon. Loss: -397725087072526.8750   |   KL-Div: 2173724877851681369123197990295775074139287667121558952872467291072922343337910503281905802135094554394905021150464162549557305752206331586747605734710335622127867530590008291075555328.0000    |    Loss: 2173724877851681369123197990295775074139287667121558952872467291072922343337910503281905802135094554394905021150464162549557305752206331586747605734710335622127867530590008291075555328.0000\n",
      "Epoch 300/500,  Recon. Loss: -399223036996033.5000   |   KL-Div: 32037116047219860132041896225999385153225488106742985244755065014081620920365091116756854396590704448088959804328131815536303969729365655588415015359903212121290433366926257509367808.0000    |    Loss: 32037116047219860132041896225999385153225488106742985244755065014081620920365091116756854396590704448088959804328131815536303969729365655588415015359903212121290433366926257509367808.0000\n",
      "Epoch 301/500,  Recon. Loss: -403560279486777.3750   |   KL-Div: 649801447120833396973030077445065894977878035708664741043413507847695258476379026958290463950379460346734528162161955044103796685992349072039018891744797576120672826892288281018368.0000    |    Loss: 649801447120833396973030077445065894977878035708664741043413507847695258476379026958290463950379460346734528162161955044103796685992349072039018891744797576120672826892288281018368.0000\n",
      "Epoch 302/500,  Recon. Loss: -398894018991264.5625   |   KL-Div: 133022291956061773007184620696411067663831857664399309234737331179469064273502674990840890332913403968633243464425887439891924390943441322187165192826897924284180716816108541727211520.0000    |    Loss: 133022291956061773007184620696411067663831857664399309234737331179469064273502674990840890332913403968633243464425887439891924390943441322187165192826897924284180716816108541727211520.0000\n",
      "Epoch 303/500,  Recon. Loss: -406336661106455.5000   |   KL-Div: 439093778156913779806830119884719633558389729868859639628221469265690937577137520181930002331346846108441551654586581121788332534312185897161950160312418467023370321600542935273701376.0000    |    Loss: 439093778156913779806830119884719633558389729868859639628221469265690937577137520181930002331346846108441551654586581121788332534312185897161950160312418467023370321600542935273701376.0000\n",
      "Epoch 304/500,  Recon. Loss: -408160602447637.4375   |   KL-Div: 490572193844495850400065602711477992726252177207118713043108074830717873574760314701166479330090861701512123471773301916468619391237084724467022610815448685344705211881663000190386176.0000    |    Loss: 490572193844495850400065602711477992726252177207118713043108074830717873574760314701166479330090861701512123471773301916468619391237084724467022610815448685344705211881663000190386176.0000\n",
      "Epoch 305/500,  Recon. Loss: -398966169177462.1875   |   KL-Div: 56132362125980686045309638872852589305454247654658581463404304057323839587731074796749546425564012525622603996340475555600985437809941058201262058998158874217907474302851420975529984.0000    |    Loss: 56132362125980686045309638872852589305454247654658581463404304057323839587731074796749546425564012525622603996340475555600985437809941058201262058998158874217907474302851420975529984.0000\n",
      "Epoch 306/500,  Recon. Loss: -400782538298654.6250   |   KL-Div: 48904261954073064163066760087517052963349075602409573976557922392811927484063094016575107857309693712989647022777103366361085730368764160886603341328426601151741511918204438219587584.0000    |    Loss: 48904261954073064163066760087517052963349075602409573976557922392811927484063094016575107857309693712989647022777103366361085730368764160886603341328426601151741511918204438219587584.0000\n",
      "Epoch 307/500,  Recon. Loss: -407595473704471.6875   |   KL-Div: 909974196523690576703465285400053970539516610600121131194383436783135013151175330600010649232979913291439476816989033547364691191902961725031728233565736240197365358290875342020149248.0000    |    Loss: 909974196523690576703465285400053970539516610600121131194383436783135013151175330600010649232979913291439476816989033547364691191902961725031728233565736240197365358290875342020149248.0000\n",
      "Epoch 308/500,  Recon. Loss: -400159195942526.7500   |   KL-Div: 62012992967221731253529483804083552841180665652058800300918996451754630725849455471276508022913957084452121778625520314069912752767034536350762248725385305326471728194518758344097792.0000    |    Loss: 62012992967221731253529483804083552841180665652058800300918996451754630725849455471276508022913957084452121778625520314069912752767034536350762248725385305326471728194518758344097792.0000\n",
      "Epoch 309/500,  Recon. Loss: -400455087466400.1250   |   KL-Div: 723116575619750691552292597160326848779946764642271705891426744598278097571815965495026267487967627416243349590025395917493674330211907743837932528532825823033958306956430714913947648.0000    |    Loss: 723116575619750691552292597160326848779946764642271705891426744598278097571815965495026267487967627416243349590025395917493674330211907743837932528532825823033958306956430714913947648.0000\n",
      "Epoch 310/500,  Recon. Loss: -405291994331000.8125   |   KL-Div: 1915251617833706029025123132677047167623538885601115807310344733566753185768800093210932228507261054206603214981498460195385564061979350941792302883993927398364528420119420555709382656.0000    |    Loss: 1915251617833706029025123132677047167623538885601115807310344733566753185768800093210932228507261054206603214981498460195385564061979350941792302883993927398364528420119420555709382656.0000\n",
      "Epoch 311/500,  Recon. Loss: -399538813608713.1250   |   KL-Div: 965353899017332593955324033835095074864291996036153908423755474252330572451139168526856120097007294882736079500241916299724486588319358494524216626337981521427626293975379265011580928.0000    |    Loss: 965353899017332593955324033835095074864291996036153908423755474252330572451139168526856120097007294882736079500241916299724486588319358494524216626337981521427626293975379265011580928.0000\n",
      "Epoch 312/500,  Recon. Loss: -401602138490011.5000   |   KL-Div: 1084201006795093714454109529081262054850150032203597730252062350702391067864693890861451628336172506100851162913877316710707266453384428287840614875091373572227250491900154609664.0000    |    Loss: 1084201006795093714454109529081262054850150032203597730252062350702391067864693890861451628336172506100851162913877316710707266453384428287840614875091373572227250491900154609664.0000\n",
      "Epoch 313/500,  Recon. Loss: -402541813605845.6875   |   KL-Div: 1541855834098235244427852305920418909130042662221552318449795952939700318113005431016767973724141161416454785894175076009470181760444887092869007670273314359973858306871296045147488256.0000    |    Loss: 1541855834098235244427852305920418909130042662221552318449795952939700318113005431016767973724141161416454785894175076009470181760444887092869007670273314359973858306871296045147488256.0000\n",
      "Epoch 314/500,  Recon. Loss: -400899435765909.7500   |   KL-Div: 91694119141064091784868863364821619175153180832408458252699816582144953832343159413757685522483160890435121352833982688169789904795747347054620583958625524259113371907889248671367168.0000    |    Loss: 91694119141064091784868863364821619175153180832408458252699816582144953832343159413757685522483160890435121352833982688169789904795747347054620583958625524259113371907889248671367168.0000\n",
      "Epoch 315/500,  Recon. Loss: -401766331090663.8125   |   KL-Div: 1616233059836252561509865486141172734414133398962641476900428433576377632419978816720463874323671841402544522276187001160956437302977986635153950205600705606226844521970162566455885824.0000    |    Loss: 1616233059836252561509865486141172734414133398962641476900428433576377632419978816720463874323671841402544522276187001160956437302977986635153950205600705606226844521970162566455885824.0000\n",
      "Epoch 316/500,  Recon. Loss: -406722149531106.7500   |   KL-Div: 347152099682526177942015699698695424335995283028057595308009448410868729290780780681197426610852467306482693137923649213984730685347399376169843371344193462469952596915635820813090816.0000    |    Loss: 347152099682526177942015699698695424335995283028057595308009448410868729290780780681197426610852467306482693137923649213984730685347399376169843371344193462469952596915635820813090816.0000\n",
      "Epoch 317/500,  Recon. Loss: -410118747448961.6250   |   KL-Div: 105392032253883793001492653794212122583859572215805744009400800602627833175512243627407897993580037543112210342166064107757129977463218883888203841243741745989332963953221284489330688.0000    |    Loss: 105392032253883793001492653794212122583859572215805744009400800602627833175512243627407897993580037543112210342166064107757129977463218883888203841243741745989332963953221284489330688.0000\n",
      "Epoch 318/500,  Recon. Loss: -416855594323325.8125   |   KL-Div: 481019300092999569629637933401185772879936936707822675090563924980597775360193792155410911034998625090874612513988982233516319384770397161585430605254869710735838948480418331941142528.0000    |    Loss: 481019300092999569629637933401185772879936936707822675090563924980597775360193792155410911034998625090874612513988982233516319384770397161585430605254869710735838948480418331941142528.0000\n",
      "Epoch 319/500,  Recon. Loss: -400793294523092.6875   |   KL-Div: 973966111587058084926185961958698228589745184905198045604093761144138915740141594651030376520956292159517000455648903206017544946927228740405437375732638359238230507849373578350821376.0000    |    Loss: 973966111587058084926185961958698228589745184905198045604093761144138915740141594651030376520956292159517000455648903206017544946927228740405437375732638359238230507849373578350821376.0000\n",
      "Epoch 320/500,  Recon. Loss: -407365401101006.7500   |   KL-Div: 1961553236490512539820520347979403004016323078558749280346039287604130795995895270497060936249195495906728188966052941199553890428186902977076709463426596203807207772951635460119068672.0000    |    Loss: 1961553236490512539820520347979403004016323078558749280346039287604130795995895270497060936249195495906728188966052941199553890428186902977076709463426596203807207772951635460119068672.0000\n",
      "Epoch 321/500,  Recon. Loss: -405746351420275.0625   |   KL-Div: 85170735428470710577953178532805394147094429947164080154145100891425022763874309640728242385121525352229804932122133606688301321134185065755287157421222806469795085456806258413666304.0000    |    Loss: 85170735428470710577953178532805394147094429947164080154145100891425022763874309640728242385121525352229804932122133606688301321134185065755287157421222806469795085456806258413666304.0000\n",
      "Epoch 322/500,  Recon. Loss: -379826256332575.4375   |   KL-Div: 596090950835404954772168824873787867363713909607343352608722704050679058254208340867960619591157855442623058551753388667188315365660852764556617065976119771749527573837475237188337664.0000    |    Loss: 596090950835404954772168824873787867363713909607343352608722704050679058254208340867960619591157855442623058551753388667188315365660852764556617065976119771749527573837475237188337664.0000\n",
      "Epoch 323/500,  Recon. Loss: -412938324252753.5625   |   KL-Div: 669640287550495568859034389080524944075578658753277657639445349631345104460017717139304967368213646153993418223383255424629765455705510755370187655441197133360437807105029929600811008.0000    |    Loss: 669640287550495568859034389080524944075578658753277657639445349631345104460017717139304967368213646153993418223383255424629765455705510755370187655441197133360437807105029929600811008.0000\n",
      "Epoch 324/500,  Recon. Loss: -414278929845913.6875   |   KL-Div: 632867956636731148256126907001160160768408560440378953371084059582092785415901324856795600734043334873793615653263850125636191011405881439053804168847099457113395494280656087561535488.0000    |    Loss: 632867956636731148256126907001160160768408560440378953371084059582092785415901324856795600734043334873793615653263850125636191011405881439053804168847099457113395494280656087561535488.0000\n",
      "Epoch 325/500,  Recon. Loss: -411033464877267.4375   |   KL-Div: 48076835844368326574844750403529622756093509482102705025922186202728359351630669844782151119812386596750320435934526139035645200710157155924869564021506883761185427017052659124273152.0000    |    Loss: 48076835844368326574844750403529622756093509482102705025922186202728359351630669844782151119812386596750320435934526139035645200710157155924869564021506883761185427017052659124273152.0000\n",
      "Epoch 326/500,  Recon. Loss: -411142625148685.5625   |   KL-Div: 139795932259742128698248687676246364664810365860618745859307125592553089286428284295868596773917363276040471437144700417044767758449577751436087618038906562275313784595255006968414208.0000    |    Loss: 139795932259742128698248687676246364664810365860618745859307125592553089286428284295868596773917363276040471437144700417044767758449577751436087618038906562275313784595255006968414208.0000\n",
      "Epoch 327/500,  Recon. Loss: -388799777260772.9375   |   KL-Div: 10299081723753432004901240074559461547150806988273862284306481399480765650636359065148721422260506452656842851391670012217949095498053858973759288702614725182396591564932360850898944.0000    |    Loss: 10299081723753432004901240074559461547150806988273862284306481399480765650636359065148721422260506452656842851391670012217949095498053858973759288702614725182396591564932360850898944.0000\n",
      "Epoch 328/500,  Recon. Loss: -404389370484016.6875   |   KL-Div: 971578233724293332410274704660581896520224992683306533151217651116549480915792153681910078133573700939182594223353889575628613068854050297620834147892054498713683725540542506734714880.0000    |    Loss: 971578233724293332410274704660581896520224992683306533151217651116549480915792153681910078133573700939182594223353889575628613068854050297620834147892054498713683725540542506734714880.0000\n",
      "Epoch 329/500,  Recon. Loss: -415812478305286.3750   |   KL-Div: 54502706636935494850565474473048091240762744793671221294978445224340853290973441182844421848495929275241545368283531869709376377711476909712582827321154593326426787171454110964645888.0000    |    Loss: 54502706636935494850565474473048091240762744793671221294978445224340853290973441182844421848495929275241545368283531869709376377711476909712582827321154593326426787171454110964645888.0000\n",
      "Epoch 330/500,  Recon. Loss: -386223418113773.0625   |   KL-Div: 528937332248661826727969720243196582864130695952956459989565488969698280805709039018973625502368537235755009525582481440802589428920735890092550197331697266059760648203863474376278016.0000    |    Loss: 528937332248661826727969720243196582864130695952956459989565488969698280805709039018973625502368537235755009525582481440802589428920735890092550197331697266059760648203863474376278016.0000\n",
      "Epoch 331/500,  Recon. Loss: -404179326060085.3750   |   KL-Div: 819305856097884412686732083394457548999124355129682093781911349024906877463117580325891504156110238080583582159067947844434965675522131727496224128965082193976921697261686396385492992.0000    |    Loss: 819305856097884412686732083394457548999124355129682093781911349024906877463117580325891504156110238080583582159067947844434965675522131727496224128965082193976921697261686396385492992.0000\n",
      "Epoch 332/500,  Recon. Loss: -417588808428995.1875   |   KL-Div: 168209794355215967614556220170061787738159934961275640394184954037697704526149244036860409203776442411319345510152133868201181677275241729204617061636533116385280541293668647663828992.0000    |    Loss: 168209794355215967614556220170061787738159934961275640394184954037697704526149244036860409203776442411319345510152133868201181677275241729204617061636533116385280541293668647663828992.0000\n",
      "Epoch 333/500,  Recon. Loss: -410608971466187.5000   |   KL-Div: 204948743245975292243240877908506289252737697221005586588914315371527829239264069071085945171678582538591131585940770244170133243912262290896955884763269235270474791706316698613186560.0000    |    Loss: 204948743245975292243240877908506289252737697221005586588914315371527829239264069071085945171678582538591131585940770244170133243912262290896955884763269235270474791706316698613186560.0000\n",
      "Epoch 334/500,  Recon. Loss: -412756548358352.5000   |   KL-Div: 398720330379383701692999738178150868348681151370295847185034870916893026418926198493168584307181614700207015355980991150704270259230185061879822459280857180299939760614948817787158528.0000    |    Loss: 398720330379383701692999738178150868348681151370295847185034870916893026418926198493168584307181614700207015355980991150704270259230185061879822459280857180299939760614948817787158528.0000\n",
      "Epoch 335/500,  Recon. Loss: -405039255501898.6875   |   KL-Div: 204344609654587313049720982991906821735323717689900255756138897523255870531667927434627774983981642154082913637879258500467435968686370921017536121245608624921354597613492944171433984.0000    |    Loss: 204344609654587313049720982991906821735323717689900255756138897523255870531667927434627774983981642154082913637879258500467435968686370921017536121245608624921354597613492944171433984.0000\n",
      "Epoch 336/500,  Recon. Loss: -416750499680637.8750   |   KL-Div: 46140977113857597332090007555681245522857420411989568118180160560768522297467660155630843823214135516998668804846338903429067176284682479438108015024516611022762189523494606611677184.0000    |    Loss: 46140977113857597332090007555681245522857420411989568118180160560768522297467660155630843823214135516998668804846338903429067176284682479438108015024516611022762189523494606611677184.0000\n",
      "Epoch 337/500,  Recon. Loss: -415866830082286.7500   |   KL-Div: 474513723963268778273006903696514440642336457129833026131274281426482823555384610889815206785047422442621285674482388277975081764424393031985147703817491950716853014633313853167894528.0000    |    Loss: 474513723963268778273006903696514440642336457129833026131274281426482823555384610889815206785047422442621285674482388277975081764424393031985147703817491950716853014633313853167894528.0000\n",
      "Epoch 338/500,  Recon. Loss: -396710254990622.1875   |   KL-Div: 267743279549643091982430979492415160369213779654272184203513778180607043963611656108205870936802322303966782014972622517217423080835764399986304679542199864240656023171289376566018048.0000    |    Loss: 267743279549643091982430979492415160369213779654272184203513778180607043963611656108205870936802322303966782014972622517217423080835764399986304679542199864240656023171289376566018048.0000\n",
      "Epoch 339/500,  Recon. Loss: -411857330478556.3750   |   KL-Div: 760421214359876625998091580552940579218893773357555572451278578815984710455146746438240507385608899343576155173342326603519685644462161062839342298095748760788042755127372535721623552.0000    |    Loss: 760421214359876625998091580552940579218893773357555572451278578815984710455146746438240507385608899343576155173342326603519685644462161062839342298095748760788042755127372535721623552.0000\n",
      "Epoch 340/500,  Recon. Loss: -415109869916654.1875   |   KL-Div: 49621713157146014493368407284726358177070230070992454205846329519061799536148445626383587179169577481131296978492905554378126823500522232580860025813914392447575596626258138094370816.0000    |    Loss: 49621713157146014493368407284726358177070230070992454205846329519061799536148445626383587179169577481131296978492905554378126823500522232580860025813914392447575596626258138094370816.0000\n",
      "Epoch 341/500,  Recon. Loss: -422591948605290.0625   |   KL-Div: 77342528471168090534916333255030113716523704735392014321058538494562582483329116340299793838504576144919109492117136446391550700820590600875775418127367689939581021757646246846136320.0000    |    Loss: 77342528471168090534916333255030113716523704735392014321058538494562582483329116340299793838504576144919109492117136446391550700820590600875775418127367689939581021757646246846136320.0000\n",
      "Epoch 342/500,  Recon. Loss: -406685892066608.8750   |   KL-Div: 451192562361727066888941935769160078625581493439643480819114339343506822598324155451470772224549070423043803560575619164176659580320502390366053794105122888455654537311895357040361472.0000    |    Loss: 451192562361727066888941935769160078625581493439643480819114339343506822598324155451470772224549070423043803560575619164176659580320502390366053794105122888455654537311895357040361472.0000\n",
      "Epoch 343/500,  Recon. Loss: -400742781163400.3750   |   KL-Div: 409405891831912340041162165197624610286554091206451165663190480617622959007267627910754659156624662021729978877581521478464755309860836593822188762891542658101317080631909298437357568.0000    |    Loss: 409405891831912340041162165197624610286554091206451165663190480617622959007267627910754659156624662021729978877581521478464755309860836593822188762891542658101317080631909298437357568.0000\n",
      "Epoch 344/500,  Recon. Loss: -418245618194263.4375   |   KL-Div: 79209757230543297239542114871885295661927551018294730647618027428607651458257194953754915835802008163104182145413805946812567600993229700752790568158233365633074710057609192074641408.0000    |    Loss: 79209757230543297239542114871885295661927551018294730647618027428607651458257194953754915835802008163104182145413805946812567600993229700752790568158233365633074710057609192074641408.0000\n",
      "Epoch 345/500,  Recon. Loss: -406888695918267.0000   |   KL-Div: 66247060242176835803896335410235786779272037597599528179349595120656185286164665587749917225818697113018948751567668566041932283121178539831650525061429633644900635979274100808876032.0000    |    Loss: 66247060242176835803896335410235786779272037597599528179349595120656185286164665587749917225818697113018948751567668566041932283121178539831650525061429633644900635979274100808876032.0000\n",
      "Epoch 346/500,  Recon. Loss: -416665598583869.6875   |   KL-Div: 306246050991760338513753840774144247656751467041064346193354177058087188909605012235222638502721189413328716726064736556486367310144745694778085958231950023551920181379167979499945984.0000    |    Loss: 306246050991760338513753840774144247656751467041064346193354177058087188909605012235222638502721189413328716726064736556486367310144745694778085958231950023551920181379167979499945984.0000\n",
      "Epoch 347/500,  Recon. Loss: -408908245264749.8750   |   KL-Div: 16185158466572218733358193041511636270579049113439392514755200388072615829826279395417869149035785828460828195137159806255841485858120693975424457238717791871763898997838067108151296.0000    |    Loss: 16185158466572218733358193041511636270579049113439392514755200388072615829826279395417869149035785828460828195137159806255841485858120693975424457238717791871763898997838067108151296.0000\n",
      "Epoch 348/500,  Recon. Loss: -411821602822362.0625   |   KL-Div: 683940548935451280244162614668326855081493236283380168396143024950188074493504272339688656059263205820593395098945762968913830487088409157756549317189523962627015701087131154163695616.0000    |    Loss: 683940548935451280244162614668326855081493236283380168396143024950188074493504272339688656059263205820593395098945762968913830487088409157756549317189523962627015701087131154163695616.0000\n",
      "Epoch 349/500,  Recon. Loss: -415272795349940.9375   |   KL-Div: 65864405937302313097535391647294036443953371595561091572424753337882343778099131721011524950658340551431055629187676071575325036074533679979037884076633957199894235535471775760515072.0000    |    Loss: 65864405937302313097535391647294036443953371595561091572424753337882343778099131721011524950658340551431055629187676071575325036074533679979037884076633957199894235535471775760515072.0000\n",
      "Epoch 350/500,  Recon. Loss: -417172353905626.5000   |   KL-Div: 542120909327226535869940930730167446233490300204922353665832460115921953318219611041403928920337995791237294011380302868652506080282257697541523364228797239929288322216228624862806016.0000    |    Loss: 542120909327226535869940930730167446233490300204922353665832460115921953318219611041403928920337995791237294011380302868652506080282257697541523364228797239929288322216228624862806016.0000\n",
      "Epoch 351/500,  Recon. Loss: -397183707760416.2500   |   KL-Div: 177410853849085047705041244838271868831623023636244931536627917468104698979638832571774784614353092223782648436056806203733156117968500726412537898253359885477997357637423753376825344.0000    |    Loss: 177410853849085047705041244838271868831623023636244931536627917468104698979638832571774784614353092223782648436056806203733156117968500726412537898253359885477997357637423753376825344.0000\n",
      "Epoch 352/500,  Recon. Loss: -403240791410133.8125   |   KL-Div: 1111338901446774878092813096467947442697430937400402818577922721003016062347822428583128897378886001624348527073351482273391122396375504712700526769785735124627664442685556280745000960.0000    |    Loss: 1111338901446774878092813096467947442697430937400402818577922721003016062347822428583128897378886001624348527073351482273391122396375504712700526769785735124627664442685556280745000960.0000\n",
      "Epoch 353/500,  Recon. Loss: -414953371319407.6875   |   KL-Div: 301612388989434652524163914400944314798009893851482671036405831632113892798005858697568748164708218806466480125754535089292618086299962231431673932166072726190466495562378459308097536.0000    |    Loss: 301612388989434652524163914400944314798009893851482671036405831632113892798005858697568748164708218806466480125754535089292618086299962231431673932166072726190466495562378459308097536.0000\n",
      "Epoch 354/500,  Recon. Loss: -407087178145253.6250   |   KL-Div: 1039343963428221076455141175743848418830682515289510918307191473889267470067644433154700289951591163409279160070592931175369739310444629572157280259086548543607583547128699921237016576.0000    |    Loss: 1039343963428221076455141175743848418830682515289510918307191473889267470067644433154700289951591163409279160070592931175369739310444629572157280259086548543607583547128699921237016576.0000\n",
      "Epoch 355/500,  Recon. Loss: -413251295883294.0000   |   KL-Div: 24668213013500461832793533702406627738256948820089626092661048531412345753902422798506938980771860941731520410587052274050803531916387513633516659336231570498866523982728161675706368.0000    |    Loss: 24668213013500461832793533702406627738256948820089626092661048531412345753902422798506938980771860941731520410587052274050803531916387513633516659336231570498866523982728161675706368.0000\n",
      "Epoch 356/500,  Recon. Loss: -412643139242027.3125   |   KL-Div: 68381084239229253293178908404109197281942096014685495867811536074626397717332793506600674376744134887291043095080416554071150626775446552581142712907079772228473630684064195599663104.0000    |    Loss: 68381084239229253293178908404109197281942096014685495867811536074626397717332793506600674376744134887291043095080416554071150626775446552581142712907079772228473630684064195599663104.0000\n",
      "Epoch 357/500,  Recon. Loss: -416942880477382.7500   |   KL-Div: 105790962514347060467495700455021787035681408321406224898462570014493703134933720647008121369850464800570486564430508926267197990590489196510611871072271506217964904386880710291488768.0000    |    Loss: 105790962514347060467495700455021787035681408321406224898462570014493703134933720647008121369850464800570486564430508926267197990590489196510611871072271506217964904386880710291488768.0000\n",
      "Epoch 358/500,  Recon. Loss: -419257605332753.5000   |   KL-Div: 750383646401936209754080635466452346262415815157200764844553014335544763346204398978940893150861084312770920059368929364242672119562758982504946816343728420600478668424260131800219648.0000    |    Loss: 750383646401936209754080635466452346262415815157200764844553014335544763346204398978940893150861084312770920059368929364242672119562758982504946816343728420600478668424260131800219648.0000\n",
      "Epoch 359/500,  Recon. Loss: -416530602354432.0000   |   KL-Div: 1046899371050318374635785586790927834121328605577778681370636886179672172319450805839607795694434785049408594238358532754879780019891618674237179372495349570315098693774586681961218048.0000    |    Loss: 1046899371050318374635785586790927834121328605577778681370636886179672172319450805839607795694434785049408594238358532754879780019891618674237179372495349570315098693774586681961218048.0000\n",
      "Epoch 360/500,  Recon. Loss: -413142709464122.5625   |   KL-Div: 12432581083569409260835921640659450546557014996999201081288799302066003243977518810629335468854005797565284832300852972848026483711962345391041369145534312365316435417075095611375616.0000    |    Loss: 12432581083569409260835921640659450546557014996999201081288799302066003243977518810629335468854005797565284832300852972848026483711962345391041369145534312365316435417075095611375616.0000\n",
      "Epoch 361/500,  Recon. Loss: -409566261803553.1875   |   KL-Div: 221891097953922096896972265021870999365322860326167370338325068052069249407213536179770002147475401996159542881714306844997636794861879791675080404006852403977366534958407447522312192.0000    |    Loss: 221891097953922096896972265021870999365322860326167370338325068052069249407213536179770002147475401996159542881714306844997636794861879791675080404006852403977366534958407447522312192.0000\n",
      "Epoch 362/500,  Recon. Loss: -416579325897826.7500   |   KL-Div: 145960218941483808906657716102433714402863284519608753588887477829074562413848344760931276539939871393926361529769228734381058361039371486307311850084376260369695314778224565967388672.0000    |    Loss: 145960218941483808906657716102433714402863284519608753588887477829074562413848344760931276539939871393926361529769228734381058361039371486307311850084376260369695314778224565967388672.0000\n",
      "Epoch 363/500,  Recon. Loss: -414310354456945.8750   |   KL-Div: 15145905912609119889443950825448508077689329605842441578780232430983189355741081545839132960029663874652112552974258008053621944521215606181857155263769046903904177349342101212495872.0000    |    Loss: 15145905912609119889443950825448508077689329605842441578780232430983189355741081545839132960029663874652112552974258008053621944521215606181857155263769046903904177349342101212495872.0000\n",
      "Epoch 364/500,  Recon. Loss: -416403078591754.4375   |   KL-Div: 369708918166748442345393550330391512517118631246780842979997681853112984994156467408572847486307061116483921011875063533052903059963997715991956601578227363011598403980202022526779392.0000    |    Loss: 369708918166748442345393550330391512517118631246780842979997681853112984994156467408572847486307061116483921011875063533052903059963997715991956601578227363011598403980202022526779392.0000\n",
      "Epoch 365/500,  Recon. Loss: -416085080953116.8750   |   KL-Div: 499845468736537389074533773930637438253429817226060271846950305772789636856643512909586978600465481240343197290806032151760806495804934744317548207261175893595537438030033750172106752.0000    |    Loss: 499845468736537389074533773930637438253429817226060271846950305772789636856643512909586978600465481240343197290806032151760806495804934744317548207261175893595537438030033750172106752.0000\n",
      "Epoch 366/500,  Recon. Loss: -383073759581700.8125   |   KL-Div: 15131200966943316032130117785162882537908448074040777363968663789308817555572849351896599121567930295448208813942043103860196081645527167802599231706188706578226291745682265628213248.0000    |    Loss: 15131200966943316032130117785162882537908448074040777363968663789308817555572849351896599121567930295448208813942043103860196081645527167802599231706188706578226291745682265628213248.0000\n",
      "Epoch 367/500,  Recon. Loss: -413107714364839.2500   |   KL-Div: 457068981773363633162176037352716815554439366532641552162951939739331244177083837402606989896069934336238067766737190738821820092991984333043123854216670759405783250623912871959986176.0000    |    Loss: 457068981773363633162176037352716815554439366532641552162951939739331244177083837402606989896069934336238067766737190738821820092991984333043123854216670759405783250623912871959986176.0000\n",
      "Epoch 368/500,  Recon. Loss: -403457903660948.3125   |   KL-Div: 177077364884151223950633435521238857123572045233988678961811962515848409701230600266024567067103815477076071307058058772199873264860956388011437119145196403892251261520958521423691776.0000    |    Loss: 177077364884151223950633435521238857123572045233988678961811962515848409701230600266024567067103815477076071307058058772199873264860956388011437119145196403892251261520958521423691776.0000\n",
      "Epoch 369/500,  Recon. Loss: -416579609890321.5625   |   KL-Div: 40089683450299480197845678083578932574688587026898443534894651261779049827912836145384264489145323810564587842507350788320727359443082696215750040513855708407535093331920662959226880.0000    |    Loss: 40089683450299480197845678083578932574688587026898443534894651261779049827912836145384264489145323810564587842507350788320727359443082696215750040513855708407535093331920662959226880.0000\n",
      "Epoch 370/500,  Recon. Loss: -415585901454611.5000   |   KL-Div: 782596915434140522995272263984098514018534002543935160213288454306953417900810615324974427897961548718750012367848411274876228919119896249558067672868058844143448686515860393882025984.0000    |    Loss: 782596915434140522995272263984098514018534002543935160213288454306953417900810615324974427897961548718750012367848411274876228919119896249558067672868058844143448686515860393882025984.0000\n",
      "Epoch 371/500,  Recon. Loss: -417472120670540.6875   |   KL-Div: 642284956274634960577625354631880574746975030858036744874866385883707137491055347731785172332078295591002505057591026245829513643011813475437708849650592427433449538773660063137529856.0000    |    Loss: 642284956274634960577625354631880574746975030858036744874866385883707137491055347731785172332078295591002505057591026245829513643011813475437708849650592427433449538773660063137529856.0000\n",
      "Epoch 372/500,  Recon. Loss: -422176620651563.9375   |   KL-Div: 1187935250324429639790717506390182417114891894456990426612900580057230937198458824752622235649307579658234049360444134582053060407087162770417359854632893731083860638766470543704064.0000    |    Loss: 1187935250324429639790717506390182417114891894456990426612900580057230937198458824752622235649307579658234049360444134582053060407087162770417359854632893731083860638766470543704064.0000\n",
      "Epoch 373/500,  Recon. Loss: -386521702487224.6875   |   KL-Div: 557201063354187677522238702786533349469520501476930080082222335670509731412932096004644910859308514019827807496526331052976933111288865340866162822133285894114390180325467940242587648.0000    |    Loss: 557201063354187677522238702786533349469520501476930080082222335670509731412932096004644910859308514019827807496526331052976933111288865340866162822133285894114390180325467940242587648.0000\n",
      "Epoch 374/500,  Recon. Loss: -401533173450415.2500   |   KL-Div: 1189875677490156924520728091863333852883931089179570613422310368107483140993106760092756407535561424349226095951601491888400159442851710637678511072128049330773218823273915906550398976.0000    |    Loss: 1189875677490156924520728091863333852883931089179570613422310368107483140993106760092756407535561424349226095951601491888400159442851710637678511072128049330773218823273915906550398976.0000\n",
      "Epoch 375/500,  Recon. Loss: -410023249234255.5625   |   KL-Div: 7957655021925930906259993310329062553995394123839019371155289616014410424989705141912781307525837844030638262441831365219188009723167885169437673525718648804262731864638303741411328.0000    |    Loss: 7957655021925930906259993310329062553995394123839019371155289616014410424989705141912781307525837844030638262441831365219188009723167885169437673525718648804262731864638303741411328.0000\n",
      "Epoch 376/500,  Recon. Loss: -392980084788118.5625   |   KL-Div: 16705729048431530769833896000299546407226268343502835420498319692128567481615350453254557372349534155305993830865888486634444888639862685122704610435773050246106548221583273643474944.0000    |    Loss: 16705729048431530769833896000299546407226268343502835420498319692128567481615350453254557372349534155305993830865888486634444888639862685122704610435773050246106548221583273643474944.0000\n",
      "Epoch 377/500,  Recon. Loss: -413028839088921.5625   |   KL-Div: 26686691056302705162806454611064652812027546114300152610901177890779032734110609553480715122102731603877972081475208564240295897617406673812486835120537070628118454836692450912763904.0000    |    Loss: 26686691056302705162806454611064652812027546114300152610901177890779032734110609553480715122102731603877972081475208564240295897617406673812486835120537070628118454836692450912763904.0000\n",
      "Epoch 378/500,  Recon. Loss: -417109980500859.4375   |   KL-Div: 130001243254077571905617557271322755461789464496442350690151765467734170385086265590700341256771707600177454818951604327397992179187408172389437512982946764655269448020128142301593600.0000    |    Loss: 130001243254077571905617557271322755461789464496442350690151765467734170385086265590700341256771707600177454818951604327397992179187408172389437512982946764655269448020128142301593600.0000\n",
      "Epoch 379/500,  Recon. Loss: -415355676194283.9375   |   KL-Div: 1242510311519364559224400448675461844621494913155164498205249253817469347316196965998588918780763682277217141336769386342935903460050402818727704215090917743497280753432929400520704.0000    |    Loss: 1242510311519364559224400448675461844621494913155164498205249253817469347316196965998588918780763682277217141336769386342935903460050402818727704215090917743497280753432929400520704.0000\n",
      "Epoch 380/500,  Recon. Loss: -403154269258342.4375   |   KL-Div: 97960294971446186966260363196392437750723580932296975439375983649649449875929629858717986872671064300923713702319358294584571993775183826920026190180487312570811448550597935946006528.0000    |    Loss: 97960294971446186966260363196392437750723580932296975439375983649649449875929629858717986872671064300923713702319358294584571993775183826920026190180487312570811448550597935946006528.0000\n",
      "Epoch 381/500,  Recon. Loss: -423887007149124.5625   |   KL-Div: 93244585137403016752174172559663111223931042665930411591148974677585703368277980251646808362584539680947301422274832598440185586733646532640065055404563583645876263965395447831330816.0000    |    Loss: 93244585137403016752174172559663111223931042665930411591148974677585703368277980251646808362584539680947301422274832598440185586733646532640065055404563583645876263965395447831330816.0000\n",
      "Epoch 382/500,  Recon. Loss: -410634643300805.3750   |   KL-Div: 6085316682570921305894064078875553935404099252347791511189722816954402345573323549276730552438592409189849320574361013834375622506385233151282539493791438101985244083105193374253056.0000    |    Loss: 6085316682570921305894064078875553935404099252347791511189722816954402345573323549276730552438592409189849320574361013834375622506385233151282539493791438101985244083105193374253056.0000\n",
      "Epoch 383/500,  Recon. Loss: -418894646357214.9375   |   KL-Div: 442280295891875011832186296008574294482079441699024103758202480865163197233643699823075192780882704218122479311160413863284855317336227176707499506628268541042304631893011938131574784.0000    |    Loss: 442280295891875011832186296008574294482079441699024103758202480865163197233643699823075192780882704218122479311160413863284855317336227176707499506628268541042304631893011938131574784.0000\n",
      "Epoch 384/500,  Recon. Loss: -416095741248543.6250   |   KL-Div: 558679477703691966642846664578114885379368944515682780115393305174307697560446500307899460214036286105140155485335954529538408841063770979151934389963137172905484941518713596405612544.0000    |    Loss: 558679477703691966642846664578114885379368944515682780115393305174307697560446500307899460214036286105140155485335954529538408841063770979151934389963137172905484941518713596405612544.0000\n",
      "Epoch 385/500,  Recon. Loss: -405043096290377.5625   |   KL-Div: 40070833384148446065374143860397850238645410863147687745978685960227145950534323735829873169744583091685504571655945867514112540877031609419497289098212899267337713227474722648752128.0000    |    Loss: 40070833384148446065374143860397850238645410863147687745978685960227145950534323735829873169744583091685504571655945867514112540877031609419497289098212899267337713227474722648752128.0000\n",
      "Epoch 386/500,  Recon. Loss: -402566202493396.0625   |   KL-Div: 25754626056212347355220950970059781267912405400815245025911868441996449072682584489319540306871873369257056999665538783795412821328544492855433840050017671789502702323619055020277760.0000    |    Loss: 25754626056212347355220950970059781267912405400815245025911868441996449072682584489319540306871873369257056999665538783795412821328544492855433840050017671789502702323619055020277760.0000\n",
      "Epoch 387/500,  Recon. Loss: -398284870761607.8125   |   KL-Div: 157811247014611632405814351899299571562617978718489361063063951791529390861024339658318105893285353072803457540974489398264941314831416523818309538390627250654916560108454034397986816.0000    |    Loss: 157811247014611632405814351899299571562617978718489361063063951791529390861024339658318105893285353072803457540974489398264941314831416523818309538390627250654916560108454034397986816.0000\n",
      "Epoch 388/500,  Recon. Loss: -411792190090802.5000   |   KL-Div: 21256249714811252269154587879824264784762617383188803438309247032133208196592932708770626432821507594959456132898104619241659833818938513536561818796812385139439937625898940731752448.0000    |    Loss: 21256249714811252269154587879824264784762617383188803438309247032133208196592932708770626432821507594959456132898104619241659833818938513536561818796812385139439937625898940731752448.0000\n",
      "Epoch 389/500,  Recon. Loss: -417712089097283.0625   |   KL-Div: 76117527997205934493089273881405555389469935506247611477059976371767932826823752837871474520213992124501358352640159483617647726505228754795990256363658484620925522945286190737129472.0000    |    Loss: 76117527997205934493089273881405555389469935506247611477059976371767932826823752837871474520213992124501358352640159483617647726505228754795990256363658484620925522945286190737129472.0000\n",
      "Epoch 390/500,  Recon. Loss: -406875295401641.8750   |   KL-Div: 356435289478488881041223402229649563401449203727314276667450336402778618727865908678034566972485789451379404898485047542545640101135271203403852064788720150208963912470622074262519808.0000    |    Loss: 356435289478488881041223402229649563401449203727314276667450336402778618727865908678034566972485789451379404898485047542545640101135271203403852064788720150208963912470622074262519808.0000\n",
      "Epoch 391/500,  Recon. Loss: -405875787008236.0000   |   KL-Div: 125943410346499627150011935821765924160341067659081358886469838160715791532579696009774695463645248217405103731707386502112474578273928777192803112906227279677381252111220293542871040.0000    |    Loss: 125943410346499627150011935821765924160341067659081358886469838160715791532579696009774695463645248217405103731707386502112474578273928777192803112906227279677381252111220293542871040.0000\n",
      "Epoch 392/500,  Recon. Loss: -407217653256772.1875   |   KL-Div: 5689249527803362474752989636627078827824897155810565871128994742290672189632265229233188292090003681132115098832251148879176602706353612759424030218033532195634757149240624511188992.0000    |    Loss: 5689249527803362474752989636627078827824897155810565871128994742290672189632265229233188292090003681132115098832251148879176602706353612759424030218033532195634757149240624511188992.0000\n",
      "Epoch 393/500,  Recon. Loss: -413761426367618.0625   |   KL-Div: 233063450258352913855610766067735871037450236103955479384919348076756700841666635306252623012159958192837147977853401518233808430370341190165829278403777406170546068726039704074452992.0000    |    Loss: 233063450258352913855610766067735871037450236103955479384919348076756700841666635306252623012159958192837147977853401518233808430370341190165829278403777406170546068726039704074452992.0000\n",
      "Epoch 394/500,  Recon. Loss: -390573554693452.6875   |   KL-Div: 9924338214797116137200665627909487508509756595476821015944811373876924157625652304355432142173110713028096875294002531557306234195790113902009114560430424482986480055250226532843520.0000    |    Loss: 9924338214797116137200665627909487508509756595476821015944811373876924157625652304355432142173110713028096875294002531557306234195790113902009114560430424482986480055250226532843520.0000\n",
      "Epoch 395/500,  Recon. Loss: -413071735057434.7500   |   KL-Div: 10741284082367121116832496002442222600943703176929925686054956607271559130383605843593569534876245920547615353192509684854140791772379719304198447002007705414234322695471585682259968.0000    |    Loss: 10741284082367121116832496002442222600943703176929925686054956607271559130383605843593569534876245920547615353192509684854140791772379719304198447002007705414234322695471585682259968.0000\n",
      "Epoch 396/500,  Recon. Loss: -413186667275565.5625   |   KL-Div: 688112094777658857797508703787378481434840868266524404786023529241705708868778688972764714162952625326576073927758399561205573549927586747792477035891815048448885271451410280581431296.0000    |    Loss: 688112094777658857797508703787378481434840868266524404786023529241705708868778688972764714162952625326576073927758399561205573549927586747792477035891815048448885271451410280581431296.0000\n",
      "Epoch 397/500,  Recon. Loss: -433649706526063.1250   |   KL-Div: 19779738456869284895203346999582787759742490410517406889301666369802325182541125038161014609759605756468598873527248210680380430785952533611154450223503031817688318561484541094002688.0000    |    Loss: 19779738456869284895203346999582787759742490410517406889301666369802325182541125038161014609759605756468598873527248210680380430785952533611154450223503031817688318561484541094002688.0000\n",
      "Epoch 398/500,  Recon. Loss: -402077951993578.0625   |   KL-Div: 530994248426515807640044846311533775591278334316707590604921316407642882043532502340853932505906592667242855605662785368808269431771303446498686905462009001085555902863829158378602496.0000    |    Loss: 530994248426515807640044846311533775591278334316707590604921316407642882043532502340853932505906592667242855605662785368808269431771303446498686905462009001085555902863829158378602496.0000\n",
      "Epoch 399/500,  Recon. Loss: -401182223593593.5625   |   KL-Div: 261012429491300502576985370348068055589699795461914161609968992560395102888006386440499352141413359718468807425826268958584710589419294788229269954217118692937020700437468549629345792.0000    |    Loss: 261012429491300502576985370348068055589699795461914161609968992560395102888006386440499352141413359718468807425826268958584710589419294788229269954217118692937020700437468549629345792.0000\n",
      "Epoch 400/500,  Recon. Loss: -424215795478277.3750   |   KL-Div: 900929552499575247545830751849638412253181277283950518693056238912247081150243273717186028640567671872736688896616792221209299650064841773063066823590861421616608238883703606313222144.0000    |    Loss: 900929552499575247545830751849638412253181277283950518693056238912247081150243273717186028640567671872736688896616792221209299650064841773063066823590861421616608238883703606313222144.0000\n",
      "Epoch 401/500,  Recon. Loss: -413208900329723.6875   |   KL-Div: 243859004875892904467410327072864637271497070919092052979267561039892009877026655869469406719213158520547671720048889992722478491097800556500662764663859168469236672224146459379892224.0000    |    Loss: 243859004875892904467410327072864637271497070919092052979267561039892009877026655869469406719213158520547671720048889992722478491097800556500662764663859168469236672224146459379892224.0000\n",
      "Epoch 402/500,  Recon. Loss: -406681147273721.3750   |   KL-Div: 984066481490157828155028766712139217385214780585687531190624894500755227212929644076946639448105296948471878400916052765953057114180477664796645505864930849353373907465116214768959488.0000    |    Loss: 984066481490157828155028766712139217385214780585687531190624894500755227212929644076946639448105296948471878400916052765953057114180477664796645505864930849353373907465116214768959488.0000\n",
      "Epoch 403/500,  Recon. Loss: -421017912030568.6875   |   KL-Div: 82351938427306556709476188488064614182973086275136017710602885998065267682964231983945990237701728089168162388355991604845590641306484310364574738979150520865305930557415389459906560.0000    |    Loss: 82351938427306556709476188488064614182973086275136017710602885998065267682964231983945990237701728089168162388355991604845590641306484310364574738979150520865305930557415389459906560.0000\n",
      "Epoch 404/500,  Recon. Loss: -395461574556517.8750   |   KL-Div: 8478884885276650828042491434996218790644727503003363384520019476821882742356440543561164255676419325234530039371858213377279482372299231333104931641577581101110125125391683191570432.0000    |    Loss: 8478884885276650828042491434996218790644727503003363384520019476821882742356440543561164255676419325234530039371858213377279482372299231333104931641577581101110125125391683191570432.0000\n",
      "Epoch 405/500,  Recon. Loss: -420939146828578.6875   |   KL-Div: 14216142303741908441831253668984801489553444864567528184147212140831526587233580659263826023001290788513402256118568120036346426562281860258250353903455597886520240760368936381317120.0000    |    Loss: 14216142303741908441831253668984801489553444864567528184147212140831526587233580659263826023001290788513402256118568120036346426562281860258250353903455597886520240760368936381317120.0000\n",
      "Epoch 406/500,  Recon. Loss: -413285567004952.1875   |   KL-Div: 428836351787598517986585846441456504727632866044099700979401083416811183491102998801618176017561632047577807199028325941384923276386720977598050434582637119168262098119732114684379136.0000    |    Loss: 428836351787598517986585846441456504727632866044099700979401083416811183491102998801618176017561632047577807199028325941384923276386720977598050434582637119168262098119732114684379136.0000\n",
      "Epoch 407/500,  Recon. Loss: -417452423698017.1875   |   KL-Div: 333503490660422409132571958235378573241583319005266402063574572622185494173725075702176383347311483334247500102867949983000911156793493028053728816263526649802734140761015961348210688.0000    |    Loss: 333503490660422409132571958235378573241583319005266402063574572622185494173725075702176383347311483334247500102867949983000911156793493028053728816263526649802734140761015961348210688.0000\n",
      "Epoch 408/500,  Recon. Loss: -426272505253960.2500   |   KL-Div: 374879498054433319812112414594074559569826567136161315024453145920821598938398220416875749394633735993139239287630264727038366191205920702296739164001515781134351023935308726974545920.0000    |    Loss: 374879498054433319812112414594074559569826567136161315024453145920821598938398220416875749394633735993139239287630264727038366191205920702296739164001515781134351023935308726974545920.0000\n",
      "Epoch 409/500,  Recon. Loss: -426367563902758.1875   |   KL-Div: 1123575297628295185789444775004305001369256048192155224566449630423319426992042622119838726000636957838106576425570735411043415445354634589554576697011262570041815112587399862943744.0000    |    Loss: 1123575297628295185789444775004305001369256048192155224566449630423319426992042622119838726000636957838106576425570735411043415445354634589554576697011262570041815112587399862943744.0000\n",
      "Epoch 410/500,  Recon. Loss: -416106748345714.3125   |   KL-Div: 890774434435828640001795321726389988630052043404228336816221860822150033911549904792716525736494485548167034713469601435247431203781207069126190685694542409887942330980788329460531200.0000    |    Loss: 890774434435828640001795321726389988630052043404228336816221860822150033911549904792716525736494485548167034713469601435247431203781207069126190685694542409887942330980788329460531200.0000\n",
      "Epoch 411/500,  Recon. Loss: -407026172218112.1250   |   KL-Div: 148575134434552772344221828061001390246437168916774687756605849647988092886521932932973410467447953741928419106056836117860114861860710264593775650165061192402005689543431857077485568.0000    |    Loss: 148575134434552772344221828061001390246437168916774687756605849647988092886521932932973410467447953741928419106056836117860114861860710264593775650165061192402005689543431857077485568.0000\n",
      "Epoch 412/500,  Recon. Loss: -403408200259181.8750   |   KL-Div: 232183815389689549247002801764846167426037924646454419142120138701822465696354261282436012632975013171413527618494073998791291815139650086025254756095347330911731495298116080428384256.0000    |    Loss: 232183815389689549247002801764846167426037924646454419142120138701822465696354261282436012632975013171413527618494073998791291815139650086025254756095347330911731495298116080428384256.0000\n",
      "Epoch 413/500,  Recon. Loss: -417022608332865.1250   |   KL-Div: 865242154242941307132959552662413972694471432804376668003466199103704628323873709034626854198157080903220386509405508715442622175097050555551270617779655895082370369889618893350109184.0000    |    Loss: 865242154242941307132959552662413972694471432804376668003466199103704628323873709034626854198157080903220386509405508715442622175097050555551270617779655895082370369889618893350109184.0000\n",
      "Epoch 414/500,  Recon. Loss: -429988628324658.6250   |   KL-Div: 220946646756949225542799972376803774579687417747256724272581346062029138596673603119685052319301048150627337834447660850628674023819498922466707588308498065275034988250017584199499776.0000    |    Loss: 220946646756949225542799972376803774579687417747256724272581346062029138596673603119685052319301048150627337834447660850628674023819498922466707588308498065275034988250017584199499776.0000\n",
      "Epoch 415/500,  Recon. Loss: -416568097536615.7500   |   KL-Div: 89553432078979574766919801690237540254878649884481463650698216583401386415710779253360402407522180672744565191905657507530772225951593640608343584554285429428361761781710046451728384.0000    |    Loss: 89553432078979574766919801690237540254878649884481463650698216583401386415710779253360402407522180672744565191905657507530772225951593640608343584554285429428361761781710046451728384.0000\n",
      "Epoch 416/500,  Recon. Loss: -424200985988668.8750   |   KL-Div: 33200288006844406466923602098987738883082239208680135552666291375977419108708384894600440665751892275739581688094695502997548078117529094922152362373227283326934680189762551010033664.0000    |    Loss: 33200288006844406466923602098987738883082239208680135552666291375977419108708384894600440665751892275739581688094695502997548078117529094922152362373227283326934680189762551010033664.0000\n",
      "Epoch 417/500,  Recon. Loss: -423096126097328.7500   |   KL-Div: 169725700660536545838171684769922983005156960198435742790061135764041758263798063330323507335571948273713834128691158235838309947908324901540076626932654329370197477448649450933190656.0000    |    Loss: 169725700660536545838171684769922983005156960198435742790061135764041758263798063330323507335571948273713834128691158235838309947908324901540076626932654329370197477448649450933190656.0000\n",
      "Epoch 418/500,  Recon. Loss: -412638798040772.8750   |   KL-Div: 1588715156759982247647682913173308785154581439660368134404139823613049043026105634073494353535219162304850645440619359083808868437031927265242906990812911903798650218969749293707034624.0000    |    Loss: 1588715156759982247647682913173308785154581439660368134404139823613049043026105634073494353535219162304850645440619359083808868437031927265242906990812911903798650218969749293707034624.0000\n",
      "Epoch 419/500,  Recon. Loss: -414221699047545.9375   |   KL-Div: 87490798628456882333888828690597523092347567864410303453725789039281750565110796656181729101914541460125264846610504971260226507218925616868216154085387182049864540308247406444544.0000    |    Loss: 87490798628456882333888828690597523092347567864410303453725789039281750565110796656181729101914541460125264846610504971260226507218925616868216154085387182049864540308247406444544.0000\n",
      "Epoch 420/500,  Recon. Loss: -412467228462321.7500   |   KL-Div: 476647294977224553342055575450506334206553473317940332069267403956244337282777200110760964371064919111777510873540708594566339378895569349802637329893717627445029328425292347371159552.0000    |    Loss: 476647294977224553342055575450506334206553473317940332069267403956244337282777200110760964371064919111777510873540708594566339378895569349802637329893717627445029328425292347371159552.0000\n",
      "Epoch 421/500,  Recon. Loss: -409031899717971.0000   |   KL-Div: 20783805283452016859765704025047902245792731715083850208977659885108707328579887614694587433190378429151487861787127363797003747833500788408039938493496895382306719893086176983121920.0000    |    Loss: 20783805283452016859765704025047902245792731715083850208977659885108707328579887614694587433190378429151487861787127363797003747833500788408039938493496895382306719893086176983121920.0000\n",
      "Epoch 422/500,  Recon. Loss: -417886471939200.8125   |   KL-Div: 1742049640762319646465029408533712389005020207623156256764751179653052904182915657393897452139649117414006740759815994511289724611359493532754004596710490652391707209503770338798862336.0000    |    Loss: 1742049640762319646465029408533712389005020207623156256764751179653052904182915657393897452139649117414006740759815994511289724611359493532754004596710490652391707209503770338798862336.0000\n",
      "Epoch 423/500,  Recon. Loss: -424290080067794.9375   |   KL-Div: 3235501303665067317632918083956511452642529225653465006436720397193850530771894888641417979674388029773132413082319418793941856898540924192419004962174185321513180968640766564892672.0000    |    Loss: 3235501303665067317632918083956511452642529225653465006436720397193850530771894888641417979674388029773132413082319418793941856898540924192419004962174185321513180968640766564892672.0000\n",
      "Epoch 424/500,  Recon. Loss: -424224385235627.7500   |   KL-Div: 1941411015796675689579925084989715199847315361017873522808672880749958990598461902683628031765523426934011277609608175103785514580025524493067905535579151888494347328103823660023808.0000    |    Loss: 1941411015796675689579925084989715199847315361017873522808672880749958990598461902683628031765523426934011277609608175103785514580025524493067905535579151888494347328103823660023808.0000\n",
      "Epoch 425/500,  Recon. Loss: -431555491184101.8125   |   KL-Div: 756188220769367381602497193896760343488381270981941240884995336809286444224490987372496184343057279064623487178673559522960765955068812747374929093517788465978664112885148830163533824.0000    |    Loss: 756188220769367381602497193896760343488381270981941240884995336809286444224490987372496184343057279064623487178673559522960765955068812747374929093517788465978664112885148830163533824.0000\n",
      "Epoch 426/500,  Recon. Loss: -417673397492629.3125   |   KL-Div: 57070343998861576095329212426792863479531807877865753104494831827556494362257481886189869268109369939388857746551916535984160352714158527552414112571208911995010873326928405666463744.0000    |    Loss: 57070343998861576095329212426792863479531807877865753104494831827556494362257481886189869268109369939388857746551916535984160352714158527552414112571208911995010873326928405666463744.0000\n",
      "Epoch 427/500,  Recon. Loss: -424508452057408.1875   |   KL-Div: 878685443635453838230092981524448725819984928618276280665592810054703676617518505924672268718184432709268183766639534552915356454322330913166268075064920383476635903502214584185389056.0000    |    Loss: 878685443635453838230092981524448725819984928618276280665592810054703676617518505924672268718184432709268183766639534552915356454322330913166268075064920383476635903502214584185389056.0000\n",
      "Epoch 428/500,  Recon. Loss: -426848273183712.3750   |   KL-Div: 41744306125757933038037991806971506961377070822764578316191577154337514436776495910211935282218281939502360790528017024023483876149629512653421227101281789194905544005340529803919360.0000    |    Loss: 41744306125757933038037991806971506961377070822764578316191577154337514436776495910211935282218281939502360790528017024023483876149629512653421227101281789194905544005340529803919360.0000\n",
      "Epoch 429/500,  Recon. Loss: -428097578363294.2500   |   KL-Div: 10993513785193432674634178658398811811723985369148114285517585890151017548062371141623964937953537837896734025973476832245458499783596920126301778378945999108493080940234476923912192.0000    |    Loss: 10993513785193432674634178658398811811723985369148114285517585890151017548062371141623964937953537837896734025973476832245458499783596920126301778378945999108493080940234476923912192.0000\n",
      "Epoch 430/500,  Recon. Loss: -420158828060648.9375   |   KL-Div: 106681164634286481266916167487555330047747429507225411790959003536785159661569140519854270461718665008678751668950630476640698740478597836392693717144819533333821025987320336676290560.0000    |    Loss: 106681164634286481266916167487555330047747429507225411790959003536785159661569140519854270461718665008678751668950630476640698740478597836392693717144819533333821025987320336676290560.0000\n",
      "Epoch 431/500,  Recon. Loss: -417898521453933.6250   |   KL-Div: 862824360334668740971758033562043316275962992267386638743716890932242889600818776552636602376342824361964260389363323064132089039671945044408159103027484296870387080157764386891497472.0000    |    Loss: 862824360334668740971758033562043316275962992267386638743716890932242889600818776552636602376342824361964260389363323064132089039671945044408159103027484296870387080157764386891497472.0000\n",
      "Epoch 432/500,  Recon. Loss: -413219039917428.0625   |   KL-Div: 327739423503522301988674219788959474447251346618389948112378574347209259518795667644159770460932954470278122026943853068884262001565112384098496623286260341828824109241769285627412480.0000    |    Loss: 327739423503522301988674219788959474447251346618389948112378574347209259518795667644159770460932954470278122026943853068884262001565112384098496623286260341828824109241769285627412480.0000\n",
      "Epoch 433/500,  Recon. Loss: -408773568303636.1875   |   KL-Div: 677986810562064868176659644644053076395000910964029481576811018327722280884385783706145659867310928597737892716053282395804754514383654695311916561704519800824441973131942105333104640.0000    |    Loss: 677986810562064868176659644644053076395000910964029481576811018327722280884385783706145659867310928597737892716053282395804754514383654695311916561704519800824441973131942105333104640.0000\n",
      "Epoch 434/500,  Recon. Loss: -427095571383489.1250   |   KL-Div: 445975800940586825102804551291281630488307783998862660938857909288180343607096186050034235143601126657443834912761166307732416535620884139871908248305692600729765410469472693582299136.0000    |    Loss: 445975800940586825102804551291281630488307783998862660938857909288180343607096186050034235143601126657443834912761166307732416535620884139871908248305692600729765410469472693582299136.0000\n",
      "Epoch 435/500,  Recon. Loss: -408167169314391.1250   |   KL-Div: 838217669251140964041005711514898978025574584664842700452703796829976008355102403292344219332298131232835372941786005595536548547541363929546839373885738552128443142142771712233570304.0000    |    Loss: 838217669251140964041005711514898978025574584664842700452703796829976008355102403292344219332298131232835372941786005595536548547541363929546839373885738552128443142142771712233570304.0000\n",
      "Epoch 436/500,  Recon. Loss: -423878135970758.0625   |   KL-Div: 18799446040476942247126596190153049085851873905312890989968532767344033950157736184258755562815282087579953634796546544078999323618376402367934157034793798708626816409234582940942336.0000    |    Loss: 18799446040476942247126596190153049085851873905312890989968532767344033950157736184258755562815282087579953634796546544078999323618376402367934157034793798708626816409234582940942336.0000\n",
      "Epoch 437/500,  Recon. Loss: -426668817078128.9375   |   KL-Div: 1039342170885287475393524206812910987748727807635261112450672406743517689974731581048629224019327068061453037377038926530558525009675361756942785430232553658652278200907670552051712.0000    |    Loss: 1039342170885287475393524206812910987748727807635261112450672406743517689974731581048629224019327068061453037377038926530558525009675361756942785430232553658652278200907670552051712.0000\n",
      "Epoch 438/500,  Recon. Loss: -418335410587985.3750   |   KL-Div: 18907804961385424415173680749724956758517664155290305111810838106537290629017555893012463865619122585558471571551666204929811078607683785062878799028865246802094464479353213724655616.0000    |    Loss: 18907804961385424415173680749724956758517664155290305111810838106537290629017555893012463865619122585558471571551666204929811078607683785062878799028865246802094464479353213724655616.0000\n",
      "Epoch 439/500,  Recon. Loss: -433652566972847.3750   |   KL-Div: 306020622446838536317426874694576487931889220295931982002082119418333896145951159126748394949642190195234895736379844971654914876723176342483101422356354168538361551290494522623000576.0000    |    Loss: 306020622446838536317426874694576487931889220295931982002082119418333896145951159126748394949642190195234895736379844971654914876723176342483101422356354168538361551290494522623000576.0000\n",
      "Epoch 440/500,  Recon. Loss: -417786499507036.8750   |   KL-Div: 81184527989879418369656257594782190406404400603696170703267577463748830822738851396958879827061937253293970516544851342629205841368482159694784718061474807475671081501454955022647296.0000    |    Loss: 81184527989879418369656257594782190406404400603696170703267577463748830822738851396958879827061937253293970516544851342629205841368482159694784718061474807475671081501454955022647296.0000\n",
      "Epoch 441/500,  Recon. Loss: -401188205950169.9375   |   KL-Div: 608165685637782617366097273715422261583427418285227174295695596774643761420232543541704940805037067206225074893863852871435024211032446168971261873800095280549536228076985875852951552.0000    |    Loss: 608165685637782617366097273715422261583427418285227174295695596774643761420232543541704940805037067206225074893863852871435024211032446168971261873800095280549536228076985875852951552.0000\n",
      "Epoch 442/500,  Recon. Loss: -423111460111747.0625   |   KL-Div: 585803308955545315412648831962145594671633872667449078043144619915287237906296393323903677956703190479820346581211757097762628553165860238574528754617776742580744485879439288801689600.0000    |    Loss: 585803308955545315412648831962145594671633872667449078043144619915287237906296393323903677956703190479820346581211757097762628553165860238574528754617776742580744485879439288801689600.0000\n",
      "Epoch 443/500,  Recon. Loss: -420099570664717.5000   |   KL-Div: 847114334609798119831506042377684617051860956264010639266749554969364568018328429444251610507432649111067653125454135007589854609823976560328964115225228241219123582112280226247475200.0000    |    Loss: 847114334609798119831506042377684617051860956264010639266749554969364568018328429444251610507432649111067653125454135007589854609823976560328964115225228241219123582112280226247475200.0000\n",
      "Epoch 444/500,  Recon. Loss: -412434795986007.9375   |   KL-Div: 3341396043978623790719543812594807971031512722332844654773313095947862946652826685035200103613916321651323447598793858187030209348652396596718574249835682657612099253673520474882048.0000    |    Loss: 3341396043978623790719543812594807971031512722332844654773313095947862946652826685035200103613916321651323447598793858187030209348652396596718574249835682657612099253673520474882048.0000\n",
      "Epoch 445/500,  Recon. Loss: -423793032406256.0000   |   KL-Div: 511207599880493109034740701824330979938961618896152401197397509764503842834545493588162060702052867767953267350375103722491879774636190380124369782299035128944523089150114684234366976.0000    |    Loss: 511207599880493109034740701824330979938961618896152401197397509764503842834545493588162060702052867767953267350375103722491879774636190380124369782299035128944523089150114684234366976.0000\n",
      "Epoch 446/500,  Recon. Loss: -435953321464396.8125   |   KL-Div: 18943165763146708715159184729237819396094350962406860889975263233312704347027474884516482482944747114711758335604902224793926033184754143906323466305822143134680091825063014766215168.0000    |    Loss: 18943165763146708715159184729237819396094350962406860889975263233312704347027474884516482482944747114711758335604902224793926033184754143906323466305822143134680091825063014766215168.0000\n",
      "Epoch 447/500,  Recon. Loss: -424409154599238.1875   |   KL-Div: 521963532687963401053226146289243616852833682772844795405887324028033132465417944961443161139018034447089363787973507858846688128358263713654366755390284796010472482950644314822148096.0000    |    Loss: 521963532687963401053226146289243616852833682772844795405887324028033132465417944961443161139018034447089363787973507858846688128358263713654366755390284796010472482950644314822148096.0000\n",
      "Epoch 448/500,  Recon. Loss: -418878850737821.0000   |   KL-Div: 7566010610761334789028435679737510810404647186619225849949077768540392936309202954464659871025565262135176140707781216609386768552232558940891010606641186292449113855464049192468480.0000    |    Loss: 7566010610761334789028435679737510810404647186619225849949077768540392936309202954464659871025565262135176140707781216609386768552232558940891010606641186292449113855464049192468480.0000\n",
      "Epoch 449/500,  Recon. Loss: -421713031337938.0625   |   KL-Div: 195373907292332607966833068023548433997979047003544716938730484237644615877703549875786685650216553870243468718891588208411652278788248338846885676034887011765617638990722577656184832.0000    |    Loss: 195373907292332607966833068023548433997979047003544716938730484237644615877703549875786685650216553870243468718891588208411652278788248338846885676034887011765617638990722577656184832.0000\n",
      "Epoch 450/500,  Recon. Loss: -415056776662212.1250   |   KL-Div: 172114969420574299143900589275121622626004077368064911115940903118312953136998977580621874508678432979480889045605101877981106484572416973735570780110788030653435600249199184505208832.0000    |    Loss: 172114969420574299143900589275121622626004077368064911115940903118312953136998977580621874508678432979480889045605101877981106484572416973735570780110788030653435600249199184505208832.0000\n",
      "Epoch 451/500,  Recon. Loss: -414598668453668.7500   |   KL-Div: 196039052206547538059944986852601493895915300561658432050063339396926217552275907893974174942465508302918058638405090212936216869545061661807664851042988078612440739477894785795096576.0000    |    Loss: 196039052206547538059944986852601493895915300561658432050063339396926217552275907893974174942465508302918058638405090212936216869545061661807664851042988078612440739477894785795096576.0000\n",
      "Epoch 452/500,  Recon. Loss: -428887059158553.5625   |   KL-Div: 351112392383894853492653938354220814485593917063416250101827280304057955237154769012409947247695992056167505416741895023793504922061425529868386310647217927295735704252386583248896.0000    |    Loss: 351112392383894853492653938354220814485593917063416250101827280304057955237154769012409947247695992056167505416741895023793504922061425529868386310647217927295735704252386583248896.0000\n",
      "Epoch 453/500,  Recon. Loss: -418165681461582.5000   |   KL-Div: 118429573206151691262993353662086264997077862746586919900896185492099914455836070161325025951847945782851678877922108522750787826430651094504254286251267942077383547646427639593304064.0000    |    Loss: 118429573206151691262993353662086264997077862746586919900896185492099914455836070161325025951847945782851678877922108522750787826430651094504254286251267942077383547646427639593304064.0000\n",
      "Epoch 454/500,  Recon. Loss: -422958683912896.1250   |   KL-Div: 607450809609680591433045937073933461692270394601410536747574154896906821589729016137354294313970924066700628073257616887783311318460888505311105962882985718331748651825321502905991168.0000    |    Loss: 607450809609680591433045937073933461692270394601410536747574154896906821589729016137354294313970924066700628073257616887783311318460888505311105962882985718331748651825321502905991168.0000\n",
      "Epoch 455/500,  Recon. Loss: -424818225526251.6250   |   KL-Div: 320276495373230657788539617244898163203696529140374212052680187020356831410082937962759099490390529450088525813840646629862833767004525915285449069528472983270433084137885951665897472.0000    |    Loss: 320276495373230657788539617244898163203696529140374212052680187020356831410082937962759099490390529450088525813840646629862833767004525915285449069528472983270433084137885951665897472.0000\n",
      "Epoch 456/500,  Recon. Loss: -418481824508989.7500   |   KL-Div: 215021750145770750915551397027207881846470490202028644967148722927948318571091225232091004815112213336729977789223189630301996617667501251792443255623511864534471019835030725956993024.0000    |    Loss: 215021750145770750915551397027207881846470490202028644967148722927948318571091225232091004815112213336729977789223189630301996617667501251792443255623511864534471019835030725956993024.0000\n",
      "Epoch 457/500,  Recon. Loss: -427160136773641.0625   |   KL-Div: 3545152871984803870605708902388151462814767149398069758733336242810371351202497509379459032513527889439614956522544207137857588777031391777258940548906786132835447882505638121570304.0000    |    Loss: 3545152871984803870605708902388151462814767149398069758733336242810371351202497509379459032513527889439614956522544207137857588777031391777258940548906786132835447882505638121570304.0000\n",
      "Epoch 458/500,  Recon. Loss: -415065996956730.0625   |   KL-Div: 2149314413682373655155412956365536564463980972696417573357952584478048546955740240882165567503073980913509010304830566191299774182849922865128220848504975822587411891785106007785472.0000    |    Loss: 2149314413682373655155412956365536564463980972696417573357952584478048546955740240882165567503073980913509010304830566191299774182849922865128220848504975822587411891785106007785472.0000\n",
      "Epoch 459/500,  Recon. Loss: -425290718076415.1875   |   KL-Div: 2315415435178751357644111184460541740301684013864169250750975839546127459466409439639169901585782080161525671584924742765218785501088141865346297283638364782895270431826919428655677440.0000    |    Loss: 2315415435178751357644111184460541740301684013864169250750975839546127459466409439639169901585782080161525671584924742765218785501088141865346297283638364782895270431826919428655677440.0000\n",
      "Epoch 460/500,  Recon. Loss: -419439213152015.6250   |   KL-Div: 208134644315480318263816470650029173345032933261939233901326022766845778479976124810781246406262888128474944229022635769002869591007981046977558365632934721710767716927135651075194880.0000    |    Loss: 208134644315480318263816470650029173345032933261939233901326022766845778479976124810781246406262888128474944229022635769002869591007981046977558365632934721710767716927135651075194880.0000\n",
      "Epoch 461/500,  Recon. Loss: -425093306689715.9375   |   KL-Div: 75493935027191034521858700681404044218739268791227508326469328883935030163216332194381211308639915178876825908012412650489573814705332734665419815785556582095116218435504286740774912.0000    |    Loss: 75493935027191034521858700681404044218739268791227508326469328883935030163216332194381211308639915178876825908012412650489573814705332734665419815785556582095116218435504286740774912.0000\n",
      "Epoch 462/500,  Recon. Loss: -415082985632662.3125   |   KL-Div: 4210485592952108263414146314736531643804713489743717136990881813674861465589691381575897513734572569667707091601813061483250270089437248075709698829158845430060664119678962805768192.0000    |    Loss: 4210485592952108263414146314736531643804713489743717136990881813674861465589691381575897513734572569667707091601813061483250270089437248075709698829158845430060664119678962805768192.0000\n",
      "Epoch 463/500,  Recon. Loss: -415995917869979.5000   |   KL-Div: 176057076854341292766728297098278341893465102822586134645819765769307698369369294285077455103222071786357889673926343125880199246341811464236298509313176748758687827945181956186046464.0000    |    Loss: 176057076854341292766728297098278341893465102822586134645819765769307698369369294285077455103222071786357889673926343125880199246341811464236298509313176748758687827945181956186046464.0000\n",
      "Epoch 464/500,  Recon. Loss: -426157745870851.6875   |   KL-Div: 365882666066689606166098384517881998400346579046817900138116205894064328252737255824110398518108575544316016717565410494832199499765858588256351855823471870933965389035160219322155008.0000    |    Loss: 365882666066689606166098384517881998400346579046817900138116205894064328252737255824110398518108575544316016717565410494832199499765858588256351855823471870933965389035160219322155008.0000\n",
      "Epoch 465/500,  Recon. Loss: -402876314339297.3125   |   KL-Div: 37892421142364552599815381501641445220973828710027312359160203266555602267416140947735219882293999966216140077143881413787808969330815933199258306166576162639781856532908291093692416.0000    |    Loss: 37892421142364552599815381501641445220973828710027312359160203266555602267416140947735219882293999966216140077143881413787808969330815933199258306166576162639781856532908291093692416.0000\n",
      "Epoch 466/500,  Recon. Loss: -425045698670240.1250   |   KL-Div: 1101059026811299025679593422934240397631989109376825150429142011458756257894835361326316046191798122677591557674935020893218905869864727471351106081882726456670016682083640708645781504.0000    |    Loss: 1101059026811299025679593422934240397631989109376825150429142011458756257894835361326316046191798122677591557674935020893218905869864727471351106081882726456670016682083640708645781504.0000\n",
      "Epoch 467/500,  Recon. Loss: -417685530761573.9375   |   KL-Div: 180866389775571244895501247533085557207934521850275110116044812700659201258710038162742934749836738722443911079691774284407156131591036069993556088556638057879663711190733482813816832.0000    |    Loss: 180866389775571244895501247533085557207934521850275110116044812700659201258710038162742934749836738722443911079691774284407156131591036069993556088556638057879663711190733482813816832.0000\n",
      "Epoch 468/500,  Recon. Loss: -421061603176579.0000   |   KL-Div: 410798463072996417197058780990490643870798366536758546072546512322310553705901766634637439824702785616175713929326267034779099340966231155359102539109659952217311224660974211516334080.0000    |    Loss: 410798463072996417197058780990490643870798366536758546072546512322310553705901766634637439824702785616175713929326267034779099340966231155359102539109659952217311224660974211516334080.0000\n",
      "Epoch 469/500,  Recon. Loss: -429508946502250.5000   |   KL-Div: 425771403468188380310714052297207806042255657449103036606892722440077495133468684439134026267892890614720543050264605309392201540283526071220023037515230763784810981148979243362811904.0000    |    Loss: 425771403468188380310714052297207806042255657449103036606892722440077495133468684439134026267892890614720543050264605309392201540283526071220023037515230763784810981148979243362811904.0000\n",
      "Epoch 470/500,  Recon. Loss: -421006908673693.8750   |   KL-Div: 8164350078172430367581379358634583345850118786604602019091363700915655577660778467958064001480451884899697104253644956166919232739827489994753472288966932503019835544337987655434240.0000    |    Loss: 8164350078172430367581379358634583345850118786604602019091363700915655577660778467958064001480451884899697104253644956166919232739827489994753472288966932503019835544337987655434240.0000\n",
      "Epoch 471/500,  Recon. Loss: -420412643033355.4375   |   KL-Div: 3882075868981039164921533589582327281421959448523841008539436944083421031886747951407376620001903848797575246837483861041154532180450797767376146749457293223340056345056043402788864.0000    |    Loss: 3882075868981039164921533589582327281421959448523841008539436944083421031886747951407376620001903848797575246837483861041154532180450797767376146749457293223340056345056043402788864.0000\n",
      "Epoch 472/500,  Recon. Loss: -426234099503167.4375   |   KL-Div: 707397073355221933011547177240813518406007114953415651306639986661811007521074422203414998460847510415655456531610496046466439958756597519649761846548645696673417331069759755095375872.0000    |    Loss: 707397073355221933011547177240813518406007114953415651306639986661811007521074422203414998460847510415655456531610496046466439958756597519649761846548645696673417331069759755095375872.0000\n",
      "Epoch 473/500,  Recon. Loss: -424086829794672.5625   |   KL-Div: 69580210514676029468696390902058429733774767390012110659636167924350621352311384478414261621991096344374999462505312193487375302606482435678870401628931470545366420544289216661553152.0000    |    Loss: 69580210514676029468696390902058429733774767390012110659636167924350621352311384478414261621991096344374999462505312193487375302606482435678870401628931470545366420544289216661553152.0000\n",
      "Epoch 474/500,  Recon. Loss: -428554883759509.9375   |   KL-Div: 27621683381188294633499950170495618669651021411829550380925730764633648028224008285136391750805358917614552907130237360759011880283076596267359747886842221747006965691361827196239872.0000    |    Loss: 27621683381188294633499950170495618669651021411829550380925730764633648028224008285136391750805358917614552907130237360759011880283076596267359747886842221747006965691361827196239872.0000\n",
      "Epoch 475/500,  Recon. Loss: -421702933265734.7500   |   KL-Div: 32901504260415674327361673958152837190280351708548807816944596864906541693873260605803750400348376282942969011375770414369266955747908458481142898142486327570510426301163465942761472.0000    |    Loss: 32901504260415674327361673958152837190280351708548807816944596864906541693873260605803750400348376282942969011375770414369266955747908458481142898142486327570510426301163465942761472.0000\n",
      "Epoch 476/500,  Recon. Loss: -426225158139975.1875   |   KL-Div: 13910911981423261498388601873319052708674979517107017410317051707362404026481092686812555209408451430206036837941948215066742595994881046350292937648099494531815602995814166029139968.0000    |    Loss: 13910911981423261498388601873319052708674979517107017410317051707362404026481092686812555209408451430206036837941948215066742595994881046350292937648099494531815602995814166029139968.0000\n",
      "Epoch 477/500,  Recon. Loss: -425870776720735.3125   |   KL-Div: 119462074813089067709174765040805238273064264845674914351537813459158792200774278775091461428551285445758774408919174584143127954929215075602576368027647162240167233932492516934811648.0000    |    Loss: 119462074813089067709174765040805238273064264845674914351537813459158792200774278775091461428551285445758774408919174584143127954929215075602576368027647162240167233932492516934811648.0000\n",
      "Epoch 478/500,  Recon. Loss: -430756994827398.7500   |   KL-Div: 5706646544571581483520756559110395197440079630418861159380986406568478217848563586385704757438897596672990108906731151609136478782438133882359854311124904900864082868430201388269568.0000    |    Loss: 5706646544571581483520756559110395197440079630418861159380986406568478217848563586385704757438897596672990108906731151609136478782438133882359854311124904900864082868430201388269568.0000\n",
      "Epoch 479/500,  Recon. Loss: -428622355998771.6250   |   KL-Div: 25132100093334579034467622057253799648412581306585042673561667003502757332681551049435116103685195579528815599535298270137818780270235011496063309559803269928427723938037074231296.0000    |    Loss: 25132100093334579034467622057253799648412581306585042673561667003502757332681551049435116103685195579528815599535298270137818780270235011496063309559803269928427723938037074231296.0000\n",
      "Epoch 480/500,  Recon. Loss: -430787109930222.2500   |   KL-Div: 149442870866976458581647300514594538217998105567430167265443592195188930285009899947494969963401095610339052401648449183154002550360778506393086549089374000578671701334921013337522176.0000    |    Loss: 149442870866976458581647300514594538217998105567430167265443592195188930285009899947494969963401095610339052401648449183154002550360778506393086549089374000578671701334921013337522176.0000\n",
      "Epoch 481/500,  Recon. Loss: -431212207934161.1250   |   KL-Div: 460951063307724841026571507877865334424172543326893001087869730483504698973343549309352774694754570823909053352925747195542251790483536597290863578343092659757198948309431170715615232.0000    |    Loss: 460951063307724841026571507877865334424172543326893001087869730483504698973343549309352774694754570823909053352925747195542251790483536597290863578343092659757198948309431170715615232.0000\n",
      "Epoch 482/500,  Recon. Loss: -432254862920518.7500   |   KL-Div: 4856849234677636621814913573339805369072368875541671543553107298531697370518577926899006945607812355461975487323659279488054714373337298173910164245499524033197159613422404789862400.0000    |    Loss: 4856849234677636621814913573339805369072368875541671543553107298531697370518577926899006945607812355461975487323659279488054714373337298173910164245499524033197159613422404789862400.0000\n",
      "Epoch 483/500,  Recon. Loss: -429684041250814.1250   |   KL-Div: 23787560156010250812100341097356771785181651009339489604831736653549114127216778604368033993653811318352421520446222891972948932365765420910809265562535712108663694406310570825351168.0000    |    Loss: 23787560156010250812100341097356771785181651009339489604831736653549114127216778604368033993653811318352421520446222891972948932365765420910809265562535712108663694406310570825351168.0000\n",
      "Epoch 484/500,  Recon. Loss: -425852767029550.3125   |   KL-Div: 107781401305666826389676691832200494243615974830725211554332932373352706082393779127139717244396107462436537109293708413167461337163548380831952960398093899267909117431126129029152768.0000    |    Loss: 107781401305666826389676691832200494243615974830725211554332932373352706082393779127139717244396107462436537109293708413167461337163548380831952960398093899267909117431126129029152768.0000\n",
      "Epoch 485/500,  Recon. Loss: -430822063962769.0000   |   KL-Div: 1520069999653174987551234074392742314002487935636239318409495938619733869889750530299932558670863423665694429108787027744617489283958642192285923420165198132308945423354269307043315712.0000    |    Loss: 1520069999653174987551234074392742314002487935636239318409495938619733869889750530299932558670863423665694429108787027744617489283958642192285923420165198132308945423354269307043315712.0000\n",
      "Epoch 486/500,  Recon. Loss: -427030754699807.9375   |   KL-Div: 130533649627905105149988955156296237569024557314529135832271940445525505433408355201299233609856722290407192743680287590629681760915251014617811343292959560942627374559959734980444160.0000    |    Loss: 130533649627905105149988955156296237569024557314529135832271940445525505433408355201299233609856722290407192743680287590629681760915251014617811343292959560942627374559959734980444160.0000\n",
      "Epoch 487/500,  Recon. Loss: -430904818493857.1250   |   KL-Div: 81359968262623041974668112075276949468238002019049210302105638226596449234915139512381298054984650382942765851616583058263241259258359347668898305557589694284825525508935776743718912.0000    |    Loss: 81359968262623041974668112075276949468238002019049210302105638226596449234915139512381298054984650382942765851616583058263241259258359347668898305557589694284825525508935776743718912.0000\n",
      "Epoch 488/500,  Recon. Loss: -431609112380991.6875   |   KL-Div: 223278168271994406048302210019211716351622604945019846683620628103646608745999640696662292432945466520907233460066572243370671526142056542894355215249483841936644021273700277013184512.0000    |    Loss: 223278168271994406048302210019211716351622604945019846683620628103646608745999640696662292432945466520907233460066572243370671526142056542894355215249483841936644021273700277013184512.0000\n",
      "Epoch 489/500,  Recon. Loss: -418894579282121.7500   |   KL-Div: 305250153780792241729474361344210350799458224461224189234833158526762331196060698242154638712693403213232449176890976160929719541536568722815324982119532296743894980463089379216195584.0000    |    Loss: 305250153780792241729474361344210350799458224461224189234833158526762331196060698242154638712693403213232449176890976160929719541536568722815324982119532296743894980463089379216195584.0000\n",
      "Epoch 490/500,  Recon. Loss: -430276487505490.3125   |   KL-Div: 902568680522942954872031614048145117439353923867396093597092755288809692159798765209628469298075648844625835683667152440516811766121710982839695674116412977755538583030454950396166144.0000    |    Loss: 902568680522942954872031614048145117439353923867396093597092755288809692159798765209628469298075648844625835683667152440516811766121710982839695674116412977755538583030454950396166144.0000\n",
      "Epoch 491/500,  Recon. Loss: -420048477378770.3750   |   KL-Div: 82183636977609354359460325087456540995991211120943281492594762606651405129487701978281574459072268673377113903892041729643833347702440544419421374040294468957832980041674854460555264.0000    |    Loss: 82183636977609354359460325087456540995991211120943281492594762606651405129487701978281574459072268673377113903892041729643833347702440544419421374040294468957832980041674854460555264.0000\n",
      "Epoch 492/500,  Recon. Loss: -419175189800315.1250   |   KL-Div: 354995647957373311721344135535078470694760685976211290891176279946572515261131364816073876553757610276968806020057905582730881182300417637902802580408660120891613204500925744104341504.0000    |    Loss: 354995647957373311721344135535078470694760685976211290891176279946572515261131364816073876553757610276968806020057905582730881182300417637902802580408660120891613204500925744104341504.0000\n",
      "Epoch 493/500,  Recon. Loss: -424837677639331.2500   |   KL-Div: 9154316675240019387518741551030006169060571409265546413690920421226926082075422495195009446259478320480472705554534892006564409763159076770152220457773356773261454456681614077329408.0000    |    Loss: 9154316675240019387518741551030006169060571409265546413690920421226926082075422495195009446259478320480472705554534892006564409763159076770152220457773356773261454456681614077329408.0000\n",
      "Epoch 494/500,  Recon. Loss: -428959015481910.3750   |   KL-Div: 1193807886831445471485911051464089570613808701160982230773025243083203893519837079591322240682787260118677196045357949821885196484548824858435466248962997727956497381201922833713725440.0000    |    Loss: 1193807886831445471485911051464089570613808701160982230773025243083203893519837079591322240682787260118677196045357949821885196484548824858435466248962997727956497381201922833713725440.0000\n",
      "Epoch 495/500,  Recon. Loss: -428569988096973.6250   |   KL-Div: 601734941386404308414999444128439663415719701368461594809233451446774172173627754311319496472744753377704903103877336739968371345048493766476228210653579265034266467330919602434605056.0000    |    Loss: 601734941386404308414999444128439663415719701368461594809233451446774172173627754311319496472744753377704903103877336739968371345048493766476228210653579265034266467330919602434605056.0000\n",
      "Epoch 496/500,  Recon. Loss: -426826459561656.0625   |   KL-Div: 14805887308391714669304823124804260924883465722853091917522307364067558943776846469136588990286987741625331084403365999587841892321911985762956865380062024127163421476450638581727232.0000    |    Loss: 14805887308391714669304823124804260924883465722853091917522307364067558943776846469136588990286987741625331084403365999587841892321911985762956865380062024127163421476450638581727232.0000\n",
      "Epoch 497/500,  Recon. Loss: -429153092455958.1250   |   KL-Div: 256842406400763708463867516354314207570806325275089901208654103527679243754080030184465652807645885505652272601856395834140142959086885731927015335759683921754748746308933364614168576.0000    |    Loss: 256842406400763708463867516354314207570806325275089901208654103527679243754080030184465652807645885505652272601856395834140142959086885731927015335759683921754748746308933364614168576.0000\n",
      "Epoch 498/500,  Recon. Loss: -428071226701752.3750   |   KL-Div: 4918313493086732508904926836443072248782871726863136682328545926132185026470116507254763814822193507335035475985367939729124211707508030157695686578037769046661756851503683761864704.0000    |    Loss: 4918313493086732508904926836443072248782871726863136682328545926132185026470116507254763814822193507335035475985367939729124211707508030157695686578037769046661756851503683761864704.0000\n",
      "Epoch 499/500,  Recon. Loss: -428655011922029.8750   |   KL-Div: 631423581739894240788444491359026361812133292707200584045195159538631693191587511256291483933258331026690891743249000188528444794173030379861789135516819777338667027428786878134878208.0000    |    Loss: 631423581739894240788444491359026361812133292707200584045195159538631693191587511256291483933258331026690891743249000188528444794173030379861789135516819777338667027428786878134878208.0000\n",
      "Epoch 500/500,  Recon. Loss: -425567205422359.1875   |   KL-Div: 13970801479665401089628629928338940976662039417847918008824957125343770872054703099789883706475339382474608349512440250364722866842283994538615314465307642257384229617442832605249536.0000    |    Loss: 13970801479665401089628629928338940976662039417847918008824957125343770872054703099789883706475339382474608349512440250364722866842283994538615314465307642257384229617442832605249536.0000\n"
     ]
    }
   ],
   "source": [
    "num_epochs = 500\n",
    "\n",
    "d_z = 16\n",
    "encoder_model = ABaCoEncoder(d_z = d_z, input_size=3326, batch_size=2, n_comp=1).to(device)\n",
    "encoder_model = encoder_model.double()\n",
    "decoder_model = ABaCoDecoder(d_z = d_z, n_comp = 1, output_size=3326).to(device)\n",
    "decoder_model = decoder_model.double()\n",
    "batch_model = BatchDiscriminator(input_size = d_z, batch_size = 2, tissue_size = 1).to(device)\n",
    "batch_model = batch_model.double()\n",
    "prior = MoGPrior(d_z = d_z, n_comp = 1).to(device)\n",
    "\n",
    "# Train\n",
    "mabaco_loss = train_MetaABaCo(encoder = encoder_model,\n",
    "                              decoder = decoder_model,\n",
    "                              discriminator=batch_model,\n",
    "                              mog_prior = prior,\n",
    "                              train_loader=otu_dataloader,\n",
    "                              ohe_exp_loader=ohe_biome,\n",
    "                              num_epochs=num_epochs,\n",
    "                              batch_size=2,\n",
    "                              device=device,\n",
    "                              lr_encode=1e-5,\n",
    "                              lr_decode=1e-5,\n",
    "                              kl_beta=1,\n",
    "                              w_batch=1,\n",
    "                              w_adv=1)"
   ]
  },
  {
   "cell_type": "code",
   "execution_count": 147,
   "metadata": {},
   "outputs": [
    {
     "data": {
      "text/plain": [
       "(Parameter containing:\n",
       " tensor([[-0.2649, -0.2112,  2.1581, -0.1379, -0.0099,  1.0127,  1.5908,  1.8094,\n",
       "          -1.2034,  0.3217,  1.0955,  0.5312,  0.1682, -1.1402,  1.4156,  0.1248]],\n",
       "        device='cuda:0', requires_grad=True),\n",
       " Parameter containing:\n",
       " tensor([[-0.0463, -1.9337, -0.6377, -1.4303,  1.0016, -0.8430, -1.9405, -0.1447,\n",
       "          -1.9474, -0.5752,  0.1468, -1.5211,  0.1208, -0.4031,  0.9079,  0.3954]],\n",
       "        device='cuda:0', requires_grad=True))"
      ]
     },
     "execution_count": 147,
     "metadata": {},
     "output_type": "execute_result"
    }
   ],
   "source": [
    "prior.get_params()"
   ]
  },
  {
   "cell_type": "markdown",
   "metadata": {},
   "source": [
    "### Reconstructed data"
   ]
  },
  {
   "cell_type": "code",
   "execution_count": 135,
   "metadata": {},
   "outputs": [],
   "source": [
    "out_params = []\n",
    "\n",
    "for x, _, _ in otu_dataloader:\n",
    "    x = x.to(device)\n",
    "    x = x.to(torch.float64)\n",
    "    z_mu, z_logvar, z_pi = encoder_model(x)\n",
    "    z, mu, theta, pi = decoder_model(z_mu, z_logvar, z_pi)\n",
    "    out_params.append([mu, theta, pi])"
   ]
  },
  {
   "cell_type": "code",
   "execution_count": 136,
   "metadata": {},
   "outputs": [],
   "source": [
    "recon = []\n",
    "for mu, theta, pi in out_params:\n",
    "    sample = sample_zinb(mu, theta, pi)\n",
    "    recon.append(sample.tolist())\n"
   ]
  },
  {
   "cell_type": "code",
   "execution_count": 137,
   "metadata": {},
   "outputs": [
    {
     "data": {
      "application/vnd.plotly.v1+json": {
       "config": {
        "plotlyServerURL": "https://plot.ly"
       },
       "data": [
        {
         "legendgroup": "Illumina HiSeq 3000",
         "legendgrouptitle": {
          "text": "Batch Illumina HiSeq 3000"
         },
         "marker": {
          "color": [
           "blue",
           "blue",
           "blue",
           "blue",
           "blue",
           "blue",
           "blue",
           "blue",
           "blue",
           "blue",
           "blue",
           "blue",
           "blue",
           "blue",
           "blue",
           "blue",
           "blue",
           "blue",
           "blue",
           "blue",
           "blue",
           "blue",
           "blue",
           "blue",
           "blue",
           "blue",
           "blue",
           "blue",
           "blue",
           "blue",
           "blue",
           "blue",
           "blue",
           "blue",
           "blue",
           "blue",
           "blue",
           "blue",
           "blue",
           "blue",
           "blue",
           "blue",
           "blue",
           "blue",
           "blue",
           "blue",
           "blue",
           "blue",
           "blue",
           "blue",
           "blue",
           "blue",
           "blue",
           "blue",
           "blue",
           "blue",
           "blue",
           "blue",
           "blue",
           "blue",
           "blue",
           "blue",
           "blue",
           "blue",
           "blue",
           "blue",
           "blue",
           "blue",
           "blue",
           "blue",
           "blue",
           "blue",
           "blue",
           "blue",
           "blue",
           "blue",
           "blue",
           "blue",
           "blue",
           "blue",
           "blue"
          ],
          "size": 8,
          "symbol": [
           "circle",
           "circle",
           "circle",
           "circle",
           "circle",
           "circle",
           "circle",
           "circle",
           "circle",
           "circle",
           "circle",
           "circle",
           "circle",
           "circle",
           "circle",
           "circle",
           "circle",
           "circle",
           "circle",
           "circle",
           "circle",
           "circle",
           "circle",
           "circle",
           "circle",
           "circle",
           "circle",
           "circle",
           "circle",
           "circle",
           "circle",
           "circle",
           "circle",
           "circle",
           "circle",
           "circle",
           "circle",
           "circle",
           "circle",
           "circle",
           "circle",
           "circle",
           "circle",
           "circle",
           "circle",
           "circle",
           "circle",
           "circle",
           "circle",
           "circle",
           "circle",
           "circle",
           "circle",
           "circle",
           "circle",
           "circle",
           "circle",
           "circle",
           "circle",
           "circle",
           "circle",
           "circle",
           "circle",
           "circle",
           "circle",
           "circle",
           "circle",
           "circle",
           "circle",
           "circle",
           "circle",
           "circle",
           "circle",
           "circle",
           "circle",
           "circle",
           "circle",
           "circle",
           "circle",
           "circle",
           "circle"
          ]
         },
         "mode": "markers",
         "name": "Wastewater:Water and sludge",
         "type": "scatter",
         "x": [
          -51.401723605122356,
          -18.49233735431954,
          23.003393306903245,
          86.83624467629991,
          -18.51718535696996,
          -9.472562633147579,
          113.31028146909972,
          -2.4242032063605365,
          -0.0006390360303836579,
          -9.72637321298257,
          39.70644119759728,
          -19.47066384551555,
          -39.95888613491337,
          61.26469049655689,
          7.921147666807988,
          69.55433765973814,
          -31.063873157254747,
          1.4412698650258757,
          27.084455515719352,
          -17.882770667322706,
          11.724715421686525,
          -51.40197186356949,
          0.8822887376306683,
          -23.432106895014055,
          -45.39300864538234,
          96.84002637653725,
          -17.173511925126743,
          101.41775325023418,
          -51.40184488061427,
          27.662252581924157,
          -70.44541206555726,
          112.76643501287228,
          -17.173826539641063,
          108.01277081744908,
          -17.19810526361439,
          72.97544615527234,
          -17.173675941004273,
          -51.40178064583397,
          91.31621261624218,
          -50.968103998800494,
          -17.173764453833066,
          -18.929892209559767,
          39.73917908004744,
          -17.1740286723357,
          67.23023425443797,
          -50.11010536336803,
          -58.80886498143621,
          63.858163551681564,
          47.635220272097776,
          -17.173729612422438,
          67.17638117305009,
          -51.40134513806101,
          54.63303437331291,
          90.64914170915894,
          84.12293866632483,
          -51.40242356613922,
          0.24127605804290378,
          -18.278293244256492,
          106.24188219951813,
          16.507053049029416,
          13.959576072906184,
          -19.03757613719159,
          -40.57539722864096,
          -17.644310497434386,
          -51.401433175504415,
          68.17050932217796,
          56.32786234662144,
          -18.31255138622214,
          80.82746549108991,
          91.68993659752329,
          22.939376958491565,
          62.543047947943464,
          -43.68634917372308,
          -56.836550985005374,
          18.431840830496178,
          74.90519469683471,
          -51.402113051239816,
          -51.401795368866296,
          55.70875789998594,
          65.42260524717119,
          51.139822908383884
         ],
         "y": [
          -22.784289954535453,
          -88.34312616826197,
          -79.47605856585089,
          22.033729569477153,
          -75.8276444355559,
          81.92805114507242,
          -28.798727226803063,
          -28.96385634130743,
          -4.057195900231752,
          56.04358105980258,
          35.768096373406884,
          -75.62739194348683,
          55.90959474699706,
          7.5313091482179555,
          4.124399015464659,
          49.60268922506154,
          -21.390623012597203,
          38.7334004747326,
          -76.59396433025834,
          -88.8798884779089,
          5.79974713247163,
          -22.784060908546767,
          23.611567328263963,
          0.7422331510702529,
          -16.422518927785816,
          -14.144823622034236,
          -102.8349397650591,
          18.902486235203156,
          -22.78395024850665,
          1.5612157014136891,
          16.670076709234422,
          -36.040730851257415,
          -102.83310649168321,
          2.1147612234009387,
          -102.18082129048281,
          15.878235052680711,
          -102.83547886777693,
          -22.78474146729752,
          -26.762141266895753,
          -22.595722114849206,
          -102.83337956927282,
          -76.48447344877131,
          26.546035843281473,
          -102.8326923968447,
          -31.656993754273543,
          -21.91800083440131,
          65.44100078977168,
          23.106212223592816,
          52.71743516254054,
          -102.83474377061471,
          -70.98210196753277,
          -22.78371523099437,
          25.452985814779506,
          22.796305633548492,
          -17.86354739865842,
          -22.784202443361444,
          -28.03856037835991,
          -90.51967209150924,
          -5.762605410447861,
          -17.406163014864212,
          14.054126673863516,
          -82.80744810002113,
          -14.126086771265973,
          -91.17896515162099,
          -22.783947377072003,
          -2.9322169074535154,
          16.660085680530376,
          -90.17090267768405,
          30.178659473337408,
          1.7034140533906055,
          28.332342226887675,
          16.96052472806923,
          49.752265923327045,
          17.388036251741138,
          -18.62575243702769,
          4.389891539432359,
          -22.78471584541779,
          -22.783911663420565,
          31.03536112230473,
          12.216334230753693,
          9.981771578196481
         ]
        },
        {
         "legendgroup": "Illumina MiSeq",
         "legendgrouptitle": {
          "text": "Batch Illumina MiSeq"
         },
         "marker": {
          "color": [
           "red",
           "red",
           "red",
           "red",
           "red",
           "red",
           "red",
           "red",
           "red",
           "red",
           "red",
           "red",
           "red",
           "red",
           "red",
           "red",
           "red",
           "red",
           "red",
           "red",
           "red",
           "red",
           "red",
           "red",
           "red",
           "red",
           "red",
           "red",
           "red",
           "red",
           "red",
           "red",
           "red",
           "red",
           "red",
           "red",
           "red",
           "red",
           "red",
           "red",
           "red",
           "red",
           "red",
           "red",
           "red",
           "red",
           "red",
           "red",
           "red",
           "red",
           "red",
           "red",
           "red",
           "red",
           "red",
           "red",
           "red",
           "red",
           "red",
           "red",
           "red",
           "red",
           "red",
           "red"
          ],
          "size": 8,
          "symbol": [
           "circle",
           "circle",
           "circle",
           "circle",
           "circle",
           "circle",
           "circle",
           "circle",
           "circle",
           "circle",
           "circle",
           "circle",
           "circle",
           "circle",
           "circle",
           "circle",
           "circle",
           "circle",
           "circle",
           "circle",
           "circle",
           "circle",
           "circle",
           "circle",
           "circle",
           "circle",
           "circle",
           "circle",
           "circle",
           "circle",
           "circle",
           "circle",
           "circle",
           "circle",
           "circle",
           "circle",
           "circle",
           "circle",
           "circle",
           "circle",
           "circle",
           "circle",
           "circle",
           "circle",
           "circle",
           "circle",
           "circle",
           "circle",
           "circle",
           "circle",
           "circle",
           "circle",
           "circle",
           "circle",
           "circle",
           "circle",
           "circle",
           "circle",
           "circle",
           "circle",
           "circle",
           "circle",
           "circle",
           "circle"
          ]
         },
         "mode": "markers",
         "name": "Wastewater:Water and sludge",
         "type": "scatter",
         "x": [
          -13.881745105042583,
          -15.939516171763849,
          0.8542016487849369,
          -13.709985890537988,
          -27.582620444481165,
          61.17617532135011,
          21.57696466005356,
          -10.366539533064893,
          -36.79681560262118,
          -6.316427294730543,
          -47.55839543489646,
          6.5459912432416605,
          6.072746991846022,
          -38.59605248346465,
          -22.203957888697918,
          46.9022857714551,
          -45.54096952904591,
          -65.18073897191563,
          -63.070108664751515,
          0.26339161724152926,
          -37.38113802386669,
          -47.67935382458019,
          -12.645770843624081,
          -16.957365001537468,
          9.934993227039806,
          25.18398799710917,
          -32.94142940982953,
          -44.41222957582079,
          -10.826990684314186,
          3.302164245522676,
          -36.15949876882048,
          -24.04463283432971,
          -90.38089476029677,
          -80.53151957381799,
          48.36983572522325,
          13.347103014442606,
          -23.19681104399126,
          -59.15805149457726,
          -5.063501736710977,
          -20.445515230144952,
          3.1177697557017203,
          12.846648386005945,
          1.5829494681503211,
          63.146381368388745,
          -17.06376082665936,
          -49.28280950507815,
          68.34965739446852,
          -41.31266496292155,
          5.81381601849678,
          -42.98023310349563,
          -52.368820954593524,
          -5.987142871271107,
          23.047870341006004,
          -24.707520343491396,
          13.681863494899204,
          18.741757289886376,
          -32.572505241568436,
          -52.86704491790138,
          -77.75426720820343,
          -36.07914405058406,
          -71.26216126736202,
          -82.5935579618211,
          -3.5520293862508483,
          13.598111031577385
         ],
         "y": [
          -27.507950708438777,
          -4.733079372509924,
          4.576386908766775,
          8.785420886890995,
          6.423026492512504,
          11.560909486599177,
          46.315406612186464,
          54.247007879641615,
          49.63909558373242,
          88.96042469414903,
          4.784039896992017,
          34.52523622990142,
          -35.34102411782959,
          39.83242334971951,
          60.86220672061158,
          -4.206527460647085,
          20.496088184430153,
          45.96362117244851,
          54.872245912953424,
          11.013941075450651,
          18.015598150213755,
          29.38253180286504,
          0.21288471043941046,
          -0.4158926284282041,
          32.067913481662394,
          17.25095784488463,
          49.65142109923767,
          30.276521741768274,
          61.59384040655702,
          -10.442045046415615,
          59.3289490573413,
          61.15927158681829,
          7.547813807965804,
          82.08485451876408,
          19.373155076916593,
          54.17840641447901,
          9.662507863639581,
          -12.369866406835673,
          19.195614951806895,
          38.87861962163665,
          -15.202981441745559,
          20.956197200229436,
          13.628518207293125,
          7.538037145544458,
          -0.9631450351573839,
          -67.07622127176602,
          41.1632064800573,
          30.481756623912123,
          31.934141525014482,
          23.713962007945355,
          14.700400259960649,
          64.0473857056722,
          11.123703011310502,
          59.29313205843468,
          33.36266445894953,
          14.373763036767038,
          7.235423499288291,
          36.42152482680853,
          -11.05335024394042,
          -40.388173962247,
          66.30745233951703,
          55.678554173511145,
          -28.46824322515408,
          -23.537026284542968
         ]
        }
       ],
       "layout": {
        "template": {
         "data": {
          "bar": [
           {
            "error_x": {
             "color": "#2a3f5f"
            },
            "error_y": {
             "color": "#2a3f5f"
            },
            "marker": {
             "line": {
              "color": "#E5ECF6",
              "width": 0.5
             },
             "pattern": {
              "fillmode": "overlay",
              "size": 10,
              "solidity": 0.2
             }
            },
            "type": "bar"
           }
          ],
          "barpolar": [
           {
            "marker": {
             "line": {
              "color": "#E5ECF6",
              "width": 0.5
             },
             "pattern": {
              "fillmode": "overlay",
              "size": 10,
              "solidity": 0.2
             }
            },
            "type": "barpolar"
           }
          ],
          "carpet": [
           {
            "aaxis": {
             "endlinecolor": "#2a3f5f",
             "gridcolor": "white",
             "linecolor": "white",
             "minorgridcolor": "white",
             "startlinecolor": "#2a3f5f"
            },
            "baxis": {
             "endlinecolor": "#2a3f5f",
             "gridcolor": "white",
             "linecolor": "white",
             "minorgridcolor": "white",
             "startlinecolor": "#2a3f5f"
            },
            "type": "carpet"
           }
          ],
          "choropleth": [
           {
            "colorbar": {
             "outlinewidth": 0,
             "ticks": ""
            },
            "type": "choropleth"
           }
          ],
          "contour": [
           {
            "colorbar": {
             "outlinewidth": 0,
             "ticks": ""
            },
            "colorscale": [
             [
              0,
              "#0d0887"
             ],
             [
              0.1111111111111111,
              "#46039f"
             ],
             [
              0.2222222222222222,
              "#7201a8"
             ],
             [
              0.3333333333333333,
              "#9c179e"
             ],
             [
              0.4444444444444444,
              "#bd3786"
             ],
             [
              0.5555555555555556,
              "#d8576b"
             ],
             [
              0.6666666666666666,
              "#ed7953"
             ],
             [
              0.7777777777777778,
              "#fb9f3a"
             ],
             [
              0.8888888888888888,
              "#fdca26"
             ],
             [
              1,
              "#f0f921"
             ]
            ],
            "type": "contour"
           }
          ],
          "contourcarpet": [
           {
            "colorbar": {
             "outlinewidth": 0,
             "ticks": ""
            },
            "type": "contourcarpet"
           }
          ],
          "heatmap": [
           {
            "colorbar": {
             "outlinewidth": 0,
             "ticks": ""
            },
            "colorscale": [
             [
              0,
              "#0d0887"
             ],
             [
              0.1111111111111111,
              "#46039f"
             ],
             [
              0.2222222222222222,
              "#7201a8"
             ],
             [
              0.3333333333333333,
              "#9c179e"
             ],
             [
              0.4444444444444444,
              "#bd3786"
             ],
             [
              0.5555555555555556,
              "#d8576b"
             ],
             [
              0.6666666666666666,
              "#ed7953"
             ],
             [
              0.7777777777777778,
              "#fb9f3a"
             ],
             [
              0.8888888888888888,
              "#fdca26"
             ],
             [
              1,
              "#f0f921"
             ]
            ],
            "type": "heatmap"
           }
          ],
          "heatmapgl": [
           {
            "colorbar": {
             "outlinewidth": 0,
             "ticks": ""
            },
            "colorscale": [
             [
              0,
              "#0d0887"
             ],
             [
              0.1111111111111111,
              "#46039f"
             ],
             [
              0.2222222222222222,
              "#7201a8"
             ],
             [
              0.3333333333333333,
              "#9c179e"
             ],
             [
              0.4444444444444444,
              "#bd3786"
             ],
             [
              0.5555555555555556,
              "#d8576b"
             ],
             [
              0.6666666666666666,
              "#ed7953"
             ],
             [
              0.7777777777777778,
              "#fb9f3a"
             ],
             [
              0.8888888888888888,
              "#fdca26"
             ],
             [
              1,
              "#f0f921"
             ]
            ],
            "type": "heatmapgl"
           }
          ],
          "histogram": [
           {
            "marker": {
             "pattern": {
              "fillmode": "overlay",
              "size": 10,
              "solidity": 0.2
             }
            },
            "type": "histogram"
           }
          ],
          "histogram2d": [
           {
            "colorbar": {
             "outlinewidth": 0,
             "ticks": ""
            },
            "colorscale": [
             [
              0,
              "#0d0887"
             ],
             [
              0.1111111111111111,
              "#46039f"
             ],
             [
              0.2222222222222222,
              "#7201a8"
             ],
             [
              0.3333333333333333,
              "#9c179e"
             ],
             [
              0.4444444444444444,
              "#bd3786"
             ],
             [
              0.5555555555555556,
              "#d8576b"
             ],
             [
              0.6666666666666666,
              "#ed7953"
             ],
             [
              0.7777777777777778,
              "#fb9f3a"
             ],
             [
              0.8888888888888888,
              "#fdca26"
             ],
             [
              1,
              "#f0f921"
             ]
            ],
            "type": "histogram2d"
           }
          ],
          "histogram2dcontour": [
           {
            "colorbar": {
             "outlinewidth": 0,
             "ticks": ""
            },
            "colorscale": [
             [
              0,
              "#0d0887"
             ],
             [
              0.1111111111111111,
              "#46039f"
             ],
             [
              0.2222222222222222,
              "#7201a8"
             ],
             [
              0.3333333333333333,
              "#9c179e"
             ],
             [
              0.4444444444444444,
              "#bd3786"
             ],
             [
              0.5555555555555556,
              "#d8576b"
             ],
             [
              0.6666666666666666,
              "#ed7953"
             ],
             [
              0.7777777777777778,
              "#fb9f3a"
             ],
             [
              0.8888888888888888,
              "#fdca26"
             ],
             [
              1,
              "#f0f921"
             ]
            ],
            "type": "histogram2dcontour"
           }
          ],
          "mesh3d": [
           {
            "colorbar": {
             "outlinewidth": 0,
             "ticks": ""
            },
            "type": "mesh3d"
           }
          ],
          "parcoords": [
           {
            "line": {
             "colorbar": {
              "outlinewidth": 0,
              "ticks": ""
             }
            },
            "type": "parcoords"
           }
          ],
          "pie": [
           {
            "automargin": true,
            "type": "pie"
           }
          ],
          "scatter": [
           {
            "fillpattern": {
             "fillmode": "overlay",
             "size": 10,
             "solidity": 0.2
            },
            "type": "scatter"
           }
          ],
          "scatter3d": [
           {
            "line": {
             "colorbar": {
              "outlinewidth": 0,
              "ticks": ""
             }
            },
            "marker": {
             "colorbar": {
              "outlinewidth": 0,
              "ticks": ""
             }
            },
            "type": "scatter3d"
           }
          ],
          "scattercarpet": [
           {
            "marker": {
             "colorbar": {
              "outlinewidth": 0,
              "ticks": ""
             }
            },
            "type": "scattercarpet"
           }
          ],
          "scattergeo": [
           {
            "marker": {
             "colorbar": {
              "outlinewidth": 0,
              "ticks": ""
             }
            },
            "type": "scattergeo"
           }
          ],
          "scattergl": [
           {
            "marker": {
             "colorbar": {
              "outlinewidth": 0,
              "ticks": ""
             }
            },
            "type": "scattergl"
           }
          ],
          "scattermapbox": [
           {
            "marker": {
             "colorbar": {
              "outlinewidth": 0,
              "ticks": ""
             }
            },
            "type": "scattermapbox"
           }
          ],
          "scatterpolar": [
           {
            "marker": {
             "colorbar": {
              "outlinewidth": 0,
              "ticks": ""
             }
            },
            "type": "scatterpolar"
           }
          ],
          "scatterpolargl": [
           {
            "marker": {
             "colorbar": {
              "outlinewidth": 0,
              "ticks": ""
             }
            },
            "type": "scatterpolargl"
           }
          ],
          "scatterternary": [
           {
            "marker": {
             "colorbar": {
              "outlinewidth": 0,
              "ticks": ""
             }
            },
            "type": "scatterternary"
           }
          ],
          "surface": [
           {
            "colorbar": {
             "outlinewidth": 0,
             "ticks": ""
            },
            "colorscale": [
             [
              0,
              "#0d0887"
             ],
             [
              0.1111111111111111,
              "#46039f"
             ],
             [
              0.2222222222222222,
              "#7201a8"
             ],
             [
              0.3333333333333333,
              "#9c179e"
             ],
             [
              0.4444444444444444,
              "#bd3786"
             ],
             [
              0.5555555555555556,
              "#d8576b"
             ],
             [
              0.6666666666666666,
              "#ed7953"
             ],
             [
              0.7777777777777778,
              "#fb9f3a"
             ],
             [
              0.8888888888888888,
              "#fdca26"
             ],
             [
              1,
              "#f0f921"
             ]
            ],
            "type": "surface"
           }
          ],
          "table": [
           {
            "cells": {
             "fill": {
              "color": "#EBF0F8"
             },
             "line": {
              "color": "white"
             }
            },
            "header": {
             "fill": {
              "color": "#C8D4E3"
             },
             "line": {
              "color": "white"
             }
            },
            "type": "table"
           }
          ]
         },
         "layout": {
          "annotationdefaults": {
           "arrowcolor": "#2a3f5f",
           "arrowhead": 0,
           "arrowwidth": 1
          },
          "autotypenumbers": "strict",
          "coloraxis": {
           "colorbar": {
            "outlinewidth": 0,
            "ticks": ""
           }
          },
          "colorscale": {
           "diverging": [
            [
             0,
             "#8e0152"
            ],
            [
             0.1,
             "#c51b7d"
            ],
            [
             0.2,
             "#de77ae"
            ],
            [
             0.3,
             "#f1b6da"
            ],
            [
             0.4,
             "#fde0ef"
            ],
            [
             0.5,
             "#f7f7f7"
            ],
            [
             0.6,
             "#e6f5d0"
            ],
            [
             0.7,
             "#b8e186"
            ],
            [
             0.8,
             "#7fbc41"
            ],
            [
             0.9,
             "#4d9221"
            ],
            [
             1,
             "#276419"
            ]
           ],
           "sequential": [
            [
             0,
             "#0d0887"
            ],
            [
             0.1111111111111111,
             "#46039f"
            ],
            [
             0.2222222222222222,
             "#7201a8"
            ],
            [
             0.3333333333333333,
             "#9c179e"
            ],
            [
             0.4444444444444444,
             "#bd3786"
            ],
            [
             0.5555555555555556,
             "#d8576b"
            ],
            [
             0.6666666666666666,
             "#ed7953"
            ],
            [
             0.7777777777777778,
             "#fb9f3a"
            ],
            [
             0.8888888888888888,
             "#fdca26"
            ],
            [
             1,
             "#f0f921"
            ]
           ],
           "sequentialminus": [
            [
             0,
             "#0d0887"
            ],
            [
             0.1111111111111111,
             "#46039f"
            ],
            [
             0.2222222222222222,
             "#7201a8"
            ],
            [
             0.3333333333333333,
             "#9c179e"
            ],
            [
             0.4444444444444444,
             "#bd3786"
            ],
            [
             0.5555555555555556,
             "#d8576b"
            ],
            [
             0.6666666666666666,
             "#ed7953"
            ],
            [
             0.7777777777777778,
             "#fb9f3a"
            ],
            [
             0.8888888888888888,
             "#fdca26"
            ],
            [
             1,
             "#f0f921"
            ]
           ]
          },
          "colorway": [
           "#636efa",
           "#EF553B",
           "#00cc96",
           "#ab63fa",
           "#FFA15A",
           "#19d3f3",
           "#FF6692",
           "#B6E880",
           "#FF97FF",
           "#FECB52"
          ],
          "font": {
           "color": "#2a3f5f"
          },
          "geo": {
           "bgcolor": "white",
           "lakecolor": "white",
           "landcolor": "#E5ECF6",
           "showlakes": true,
           "showland": true,
           "subunitcolor": "white"
          },
          "hoverlabel": {
           "align": "left"
          },
          "hovermode": "closest",
          "mapbox": {
           "style": "light"
          },
          "paper_bgcolor": "white",
          "plot_bgcolor": "#E5ECF6",
          "polar": {
           "angularaxis": {
            "gridcolor": "white",
            "linecolor": "white",
            "ticks": ""
           },
           "bgcolor": "#E5ECF6",
           "radialaxis": {
            "gridcolor": "white",
            "linecolor": "white",
            "ticks": ""
           }
          },
          "scene": {
           "xaxis": {
            "backgroundcolor": "#E5ECF6",
            "gridcolor": "white",
            "gridwidth": 2,
            "linecolor": "white",
            "showbackground": true,
            "ticks": "",
            "zerolinecolor": "white"
           },
           "yaxis": {
            "backgroundcolor": "#E5ECF6",
            "gridcolor": "white",
            "gridwidth": 2,
            "linecolor": "white",
            "showbackground": true,
            "ticks": "",
            "zerolinecolor": "white"
           },
           "zaxis": {
            "backgroundcolor": "#E5ECF6",
            "gridcolor": "white",
            "gridwidth": 2,
            "linecolor": "white",
            "showbackground": true,
            "ticks": "",
            "zerolinecolor": "white"
           }
          },
          "shapedefaults": {
           "line": {
            "color": "#2a3f5f"
           }
          },
          "ternary": {
           "aaxis": {
            "gridcolor": "white",
            "linecolor": "white",
            "ticks": ""
           },
           "baxis": {
            "gridcolor": "white",
            "linecolor": "white",
            "ticks": ""
           },
           "bgcolor": "#E5ECF6",
           "caxis": {
            "gridcolor": "white",
            "linecolor": "white",
            "ticks": ""
           }
          },
          "title": {
           "x": 0.05
          },
          "xaxis": {
           "automargin": true,
           "gridcolor": "white",
           "linecolor": "white",
           "ticks": "",
           "title": {
            "standoff": 15
           },
           "zerolinecolor": "white",
           "zerolinewidth": 2
          },
          "yaxis": {
           "automargin": true,
           "gridcolor": "white",
           "linecolor": "white",
           "ticks": "",
           "title": {
            "standoff": 15
           },
           "zerolinecolor": "white",
           "zerolinewidth": 2
          }
         }
        }
       }
      },
      "text/html": [
       "<div>                            <div id=\"21c0ed26-7750-49a0-adeb-5b201be94c9b\" class=\"plotly-graph-div\" style=\"height:525px; width:100%;\"></div>            <script type=\"text/javascript\">                require([\"plotly\"], function(Plotly) {                    window.PLOTLYENV=window.PLOTLYENV || {};                                    if (document.getElementById(\"21c0ed26-7750-49a0-adeb-5b201be94c9b\")) {                    Plotly.newPlot(                        \"21c0ed26-7750-49a0-adeb-5b201be94c9b\",                        [{\"legendgroup\":\"Illumina HiSeq 3000\",\"legendgrouptitle\":{\"text\":\"Batch Illumina HiSeq 3000\"},\"marker\":{\"color\":[\"blue\",\"blue\",\"blue\",\"blue\",\"blue\",\"blue\",\"blue\",\"blue\",\"blue\",\"blue\",\"blue\",\"blue\",\"blue\",\"blue\",\"blue\",\"blue\",\"blue\",\"blue\",\"blue\",\"blue\",\"blue\",\"blue\",\"blue\",\"blue\",\"blue\",\"blue\",\"blue\",\"blue\",\"blue\",\"blue\",\"blue\",\"blue\",\"blue\",\"blue\",\"blue\",\"blue\",\"blue\",\"blue\",\"blue\",\"blue\",\"blue\",\"blue\",\"blue\",\"blue\",\"blue\",\"blue\",\"blue\",\"blue\",\"blue\",\"blue\",\"blue\",\"blue\",\"blue\",\"blue\",\"blue\",\"blue\",\"blue\",\"blue\",\"blue\",\"blue\",\"blue\",\"blue\",\"blue\",\"blue\",\"blue\",\"blue\",\"blue\",\"blue\",\"blue\",\"blue\",\"blue\",\"blue\",\"blue\",\"blue\",\"blue\",\"blue\",\"blue\",\"blue\",\"blue\",\"blue\",\"blue\"],\"size\":8,\"symbol\":[\"circle\",\"circle\",\"circle\",\"circle\",\"circle\",\"circle\",\"circle\",\"circle\",\"circle\",\"circle\",\"circle\",\"circle\",\"circle\",\"circle\",\"circle\",\"circle\",\"circle\",\"circle\",\"circle\",\"circle\",\"circle\",\"circle\",\"circle\",\"circle\",\"circle\",\"circle\",\"circle\",\"circle\",\"circle\",\"circle\",\"circle\",\"circle\",\"circle\",\"circle\",\"circle\",\"circle\",\"circle\",\"circle\",\"circle\",\"circle\",\"circle\",\"circle\",\"circle\",\"circle\",\"circle\",\"circle\",\"circle\",\"circle\",\"circle\",\"circle\",\"circle\",\"circle\",\"circle\",\"circle\",\"circle\",\"circle\",\"circle\",\"circle\",\"circle\",\"circle\",\"circle\",\"circle\",\"circle\",\"circle\",\"circle\",\"circle\",\"circle\",\"circle\",\"circle\",\"circle\",\"circle\",\"circle\",\"circle\",\"circle\",\"circle\",\"circle\",\"circle\",\"circle\",\"circle\",\"circle\",\"circle\"]},\"mode\":\"markers\",\"name\":\"Wastewater:Water and sludge\",\"x\":[-51.401723605122356,-18.49233735431954,23.003393306903245,86.83624467629991,-18.51718535696996,-9.472562633147579,113.31028146909972,-2.4242032063605365,-0.0006390360303836579,-9.72637321298257,39.70644119759728,-19.47066384551555,-39.95888613491337,61.26469049655689,7.921147666807988,69.55433765973814,-31.063873157254747,1.4412698650258757,27.084455515719352,-17.882770667322706,11.724715421686525,-51.40197186356949,0.8822887376306683,-23.432106895014055,-45.39300864538234,96.84002637653725,-17.173511925126743,101.41775325023418,-51.40184488061427,27.662252581924157,-70.44541206555726,112.76643501287228,-17.173826539641063,108.01277081744908,-17.19810526361439,72.97544615527234,-17.173675941004273,-51.40178064583397,91.31621261624218,-50.968103998800494,-17.173764453833066,-18.929892209559767,39.73917908004744,-17.1740286723357,67.23023425443797,-50.11010536336803,-58.80886498143621,63.858163551681564,47.635220272097776,-17.173729612422438,67.17638117305009,-51.40134513806101,54.63303437331291,90.64914170915894,84.12293866632483,-51.40242356613922,0.24127605804290378,-18.278293244256492,106.24188219951813,16.507053049029416,13.959576072906184,-19.03757613719159,-40.57539722864096,-17.644310497434386,-51.401433175504415,68.17050932217796,56.32786234662144,-18.31255138622214,80.82746549108991,91.68993659752329,22.939376958491565,62.543047947943464,-43.68634917372308,-56.836550985005374,18.431840830496178,74.90519469683471,-51.402113051239816,-51.401795368866296,55.70875789998594,65.42260524717119,51.139822908383884],\"y\":[-22.784289954535453,-88.34312616826197,-79.47605856585089,22.033729569477153,-75.8276444355559,81.92805114507242,-28.798727226803063,-28.96385634130743,-4.057195900231752,56.04358105980258,35.768096373406884,-75.62739194348683,55.90959474699706,7.5313091482179555,4.124399015464659,49.60268922506154,-21.390623012597203,38.7334004747326,-76.59396433025834,-88.8798884779089,5.79974713247163,-22.784060908546767,23.611567328263963,0.7422331510702529,-16.422518927785816,-14.144823622034236,-102.8349397650591,18.902486235203156,-22.78395024850665,1.5612157014136891,16.670076709234422,-36.040730851257415,-102.83310649168321,2.1147612234009387,-102.18082129048281,15.878235052680711,-102.83547886777693,-22.78474146729752,-26.762141266895753,-22.595722114849206,-102.83337956927282,-76.48447344877131,26.546035843281473,-102.8326923968447,-31.656993754273543,-21.91800083440131,65.44100078977168,23.106212223592816,52.71743516254054,-102.83474377061471,-70.98210196753277,-22.78371523099437,25.452985814779506,22.796305633548492,-17.86354739865842,-22.784202443361444,-28.03856037835991,-90.51967209150924,-5.762605410447861,-17.406163014864212,14.054126673863516,-82.80744810002113,-14.126086771265973,-91.17896515162099,-22.783947377072003,-2.9322169074535154,16.660085680530376,-90.17090267768405,30.178659473337408,1.7034140533906055,28.332342226887675,16.96052472806923,49.752265923327045,17.388036251741138,-18.62575243702769,4.389891539432359,-22.78471584541779,-22.783911663420565,31.03536112230473,12.216334230753693,9.981771578196481],\"type\":\"scatter\"},{\"legendgroup\":\"Illumina MiSeq\",\"legendgrouptitle\":{\"text\":\"Batch Illumina MiSeq\"},\"marker\":{\"color\":[\"red\",\"red\",\"red\",\"red\",\"red\",\"red\",\"red\",\"red\",\"red\",\"red\",\"red\",\"red\",\"red\",\"red\",\"red\",\"red\",\"red\",\"red\",\"red\",\"red\",\"red\",\"red\",\"red\",\"red\",\"red\",\"red\",\"red\",\"red\",\"red\",\"red\",\"red\",\"red\",\"red\",\"red\",\"red\",\"red\",\"red\",\"red\",\"red\",\"red\",\"red\",\"red\",\"red\",\"red\",\"red\",\"red\",\"red\",\"red\",\"red\",\"red\",\"red\",\"red\",\"red\",\"red\",\"red\",\"red\",\"red\",\"red\",\"red\",\"red\",\"red\",\"red\",\"red\",\"red\"],\"size\":8,\"symbol\":[\"circle\",\"circle\",\"circle\",\"circle\",\"circle\",\"circle\",\"circle\",\"circle\",\"circle\",\"circle\",\"circle\",\"circle\",\"circle\",\"circle\",\"circle\",\"circle\",\"circle\",\"circle\",\"circle\",\"circle\",\"circle\",\"circle\",\"circle\",\"circle\",\"circle\",\"circle\",\"circle\",\"circle\",\"circle\",\"circle\",\"circle\",\"circle\",\"circle\",\"circle\",\"circle\",\"circle\",\"circle\",\"circle\",\"circle\",\"circle\",\"circle\",\"circle\",\"circle\",\"circle\",\"circle\",\"circle\",\"circle\",\"circle\",\"circle\",\"circle\",\"circle\",\"circle\",\"circle\",\"circle\",\"circle\",\"circle\",\"circle\",\"circle\",\"circle\",\"circle\",\"circle\",\"circle\",\"circle\",\"circle\"]},\"mode\":\"markers\",\"name\":\"Wastewater:Water and sludge\",\"x\":[-13.881745105042583,-15.939516171763849,0.8542016487849369,-13.709985890537988,-27.582620444481165,61.17617532135011,21.57696466005356,-10.366539533064893,-36.79681560262118,-6.316427294730543,-47.55839543489646,6.5459912432416605,6.072746991846022,-38.59605248346465,-22.203957888697918,46.9022857714551,-45.54096952904591,-65.18073897191563,-63.070108664751515,0.26339161724152926,-37.38113802386669,-47.67935382458019,-12.645770843624081,-16.957365001537468,9.934993227039806,25.18398799710917,-32.94142940982953,-44.41222957582079,-10.826990684314186,3.302164245522676,-36.15949876882048,-24.04463283432971,-90.38089476029677,-80.53151957381799,48.36983572522325,13.347103014442606,-23.19681104399126,-59.15805149457726,-5.063501736710977,-20.445515230144952,3.1177697557017203,12.846648386005945,1.5829494681503211,63.146381368388745,-17.06376082665936,-49.28280950507815,68.34965739446852,-41.31266496292155,5.81381601849678,-42.98023310349563,-52.368820954593524,-5.987142871271107,23.047870341006004,-24.707520343491396,13.681863494899204,18.741757289886376,-32.572505241568436,-52.86704491790138,-77.75426720820343,-36.07914405058406,-71.26216126736202,-82.5935579618211,-3.5520293862508483,13.598111031577385],\"y\":[-27.507950708438777,-4.733079372509924,4.576386908766775,8.785420886890995,6.423026492512504,11.560909486599177,46.315406612186464,54.247007879641615,49.63909558373242,88.96042469414903,4.784039896992017,34.52523622990142,-35.34102411782959,39.83242334971951,60.86220672061158,-4.206527460647085,20.496088184430153,45.96362117244851,54.872245912953424,11.013941075450651,18.015598150213755,29.38253180286504,0.21288471043941046,-0.4158926284282041,32.067913481662394,17.25095784488463,49.65142109923767,30.276521741768274,61.59384040655702,-10.442045046415615,59.3289490573413,61.15927158681829,7.547813807965804,82.08485451876408,19.373155076916593,54.17840641447901,9.662507863639581,-12.369866406835673,19.195614951806895,38.87861962163665,-15.202981441745559,20.956197200229436,13.628518207293125,7.538037145544458,-0.9631450351573839,-67.07622127176602,41.1632064800573,30.481756623912123,31.934141525014482,23.713962007945355,14.700400259960649,64.0473857056722,11.123703011310502,59.29313205843468,33.36266445894953,14.373763036767038,7.235423499288291,36.42152482680853,-11.05335024394042,-40.388173962247,66.30745233951703,55.678554173511145,-28.46824322515408,-23.537026284542968],\"type\":\"scatter\"}],                        {\"template\":{\"data\":{\"histogram2dcontour\":[{\"type\":\"histogram2dcontour\",\"colorbar\":{\"outlinewidth\":0,\"ticks\":\"\"},\"colorscale\":[[0.0,\"#0d0887\"],[0.1111111111111111,\"#46039f\"],[0.2222222222222222,\"#7201a8\"],[0.3333333333333333,\"#9c179e\"],[0.4444444444444444,\"#bd3786\"],[0.5555555555555556,\"#d8576b\"],[0.6666666666666666,\"#ed7953\"],[0.7777777777777778,\"#fb9f3a\"],[0.8888888888888888,\"#fdca26\"],[1.0,\"#f0f921\"]]}],\"choropleth\":[{\"type\":\"choropleth\",\"colorbar\":{\"outlinewidth\":0,\"ticks\":\"\"}}],\"histogram2d\":[{\"type\":\"histogram2d\",\"colorbar\":{\"outlinewidth\":0,\"ticks\":\"\"},\"colorscale\":[[0.0,\"#0d0887\"],[0.1111111111111111,\"#46039f\"],[0.2222222222222222,\"#7201a8\"],[0.3333333333333333,\"#9c179e\"],[0.4444444444444444,\"#bd3786\"],[0.5555555555555556,\"#d8576b\"],[0.6666666666666666,\"#ed7953\"],[0.7777777777777778,\"#fb9f3a\"],[0.8888888888888888,\"#fdca26\"],[1.0,\"#f0f921\"]]}],\"heatmap\":[{\"type\":\"heatmap\",\"colorbar\":{\"outlinewidth\":0,\"ticks\":\"\"},\"colorscale\":[[0.0,\"#0d0887\"],[0.1111111111111111,\"#46039f\"],[0.2222222222222222,\"#7201a8\"],[0.3333333333333333,\"#9c179e\"],[0.4444444444444444,\"#bd3786\"],[0.5555555555555556,\"#d8576b\"],[0.6666666666666666,\"#ed7953\"],[0.7777777777777778,\"#fb9f3a\"],[0.8888888888888888,\"#fdca26\"],[1.0,\"#f0f921\"]]}],\"heatmapgl\":[{\"type\":\"heatmapgl\",\"colorbar\":{\"outlinewidth\":0,\"ticks\":\"\"},\"colorscale\":[[0.0,\"#0d0887\"],[0.1111111111111111,\"#46039f\"],[0.2222222222222222,\"#7201a8\"],[0.3333333333333333,\"#9c179e\"],[0.4444444444444444,\"#bd3786\"],[0.5555555555555556,\"#d8576b\"],[0.6666666666666666,\"#ed7953\"],[0.7777777777777778,\"#fb9f3a\"],[0.8888888888888888,\"#fdca26\"],[1.0,\"#f0f921\"]]}],\"contourcarpet\":[{\"type\":\"contourcarpet\",\"colorbar\":{\"outlinewidth\":0,\"ticks\":\"\"}}],\"contour\":[{\"type\":\"contour\",\"colorbar\":{\"outlinewidth\":0,\"ticks\":\"\"},\"colorscale\":[[0.0,\"#0d0887\"],[0.1111111111111111,\"#46039f\"],[0.2222222222222222,\"#7201a8\"],[0.3333333333333333,\"#9c179e\"],[0.4444444444444444,\"#bd3786\"],[0.5555555555555556,\"#d8576b\"],[0.6666666666666666,\"#ed7953\"],[0.7777777777777778,\"#fb9f3a\"],[0.8888888888888888,\"#fdca26\"],[1.0,\"#f0f921\"]]}],\"surface\":[{\"type\":\"surface\",\"colorbar\":{\"outlinewidth\":0,\"ticks\":\"\"},\"colorscale\":[[0.0,\"#0d0887\"],[0.1111111111111111,\"#46039f\"],[0.2222222222222222,\"#7201a8\"],[0.3333333333333333,\"#9c179e\"],[0.4444444444444444,\"#bd3786\"],[0.5555555555555556,\"#d8576b\"],[0.6666666666666666,\"#ed7953\"],[0.7777777777777778,\"#fb9f3a\"],[0.8888888888888888,\"#fdca26\"],[1.0,\"#f0f921\"]]}],\"mesh3d\":[{\"type\":\"mesh3d\",\"colorbar\":{\"outlinewidth\":0,\"ticks\":\"\"}}],\"scatter\":[{\"fillpattern\":{\"fillmode\":\"overlay\",\"size\":10,\"solidity\":0.2},\"type\":\"scatter\"}],\"parcoords\":[{\"type\":\"parcoords\",\"line\":{\"colorbar\":{\"outlinewidth\":0,\"ticks\":\"\"}}}],\"scatterpolargl\":[{\"type\":\"scatterpolargl\",\"marker\":{\"colorbar\":{\"outlinewidth\":0,\"ticks\":\"\"}}}],\"bar\":[{\"error_x\":{\"color\":\"#2a3f5f\"},\"error_y\":{\"color\":\"#2a3f5f\"},\"marker\":{\"line\":{\"color\":\"#E5ECF6\",\"width\":0.5},\"pattern\":{\"fillmode\":\"overlay\",\"size\":10,\"solidity\":0.2}},\"type\":\"bar\"}],\"scattergeo\":[{\"type\":\"scattergeo\",\"marker\":{\"colorbar\":{\"outlinewidth\":0,\"ticks\":\"\"}}}],\"scatterpolar\":[{\"type\":\"scatterpolar\",\"marker\":{\"colorbar\":{\"outlinewidth\":0,\"ticks\":\"\"}}}],\"histogram\":[{\"marker\":{\"pattern\":{\"fillmode\":\"overlay\",\"size\":10,\"solidity\":0.2}},\"type\":\"histogram\"}],\"scattergl\":[{\"type\":\"scattergl\",\"marker\":{\"colorbar\":{\"outlinewidth\":0,\"ticks\":\"\"}}}],\"scatter3d\":[{\"type\":\"scatter3d\",\"line\":{\"colorbar\":{\"outlinewidth\":0,\"ticks\":\"\"}},\"marker\":{\"colorbar\":{\"outlinewidth\":0,\"ticks\":\"\"}}}],\"scattermapbox\":[{\"type\":\"scattermapbox\",\"marker\":{\"colorbar\":{\"outlinewidth\":0,\"ticks\":\"\"}}}],\"scatterternary\":[{\"type\":\"scatterternary\",\"marker\":{\"colorbar\":{\"outlinewidth\":0,\"ticks\":\"\"}}}],\"scattercarpet\":[{\"type\":\"scattercarpet\",\"marker\":{\"colorbar\":{\"outlinewidth\":0,\"ticks\":\"\"}}}],\"carpet\":[{\"aaxis\":{\"endlinecolor\":\"#2a3f5f\",\"gridcolor\":\"white\",\"linecolor\":\"white\",\"minorgridcolor\":\"white\",\"startlinecolor\":\"#2a3f5f\"},\"baxis\":{\"endlinecolor\":\"#2a3f5f\",\"gridcolor\":\"white\",\"linecolor\":\"white\",\"minorgridcolor\":\"white\",\"startlinecolor\":\"#2a3f5f\"},\"type\":\"carpet\"}],\"table\":[{\"cells\":{\"fill\":{\"color\":\"#EBF0F8\"},\"line\":{\"color\":\"white\"}},\"header\":{\"fill\":{\"color\":\"#C8D4E3\"},\"line\":{\"color\":\"white\"}},\"type\":\"table\"}],\"barpolar\":[{\"marker\":{\"line\":{\"color\":\"#E5ECF6\",\"width\":0.5},\"pattern\":{\"fillmode\":\"overlay\",\"size\":10,\"solidity\":0.2}},\"type\":\"barpolar\"}],\"pie\":[{\"automargin\":true,\"type\":\"pie\"}]},\"layout\":{\"autotypenumbers\":\"strict\",\"colorway\":[\"#636efa\",\"#EF553B\",\"#00cc96\",\"#ab63fa\",\"#FFA15A\",\"#19d3f3\",\"#FF6692\",\"#B6E880\",\"#FF97FF\",\"#FECB52\"],\"font\":{\"color\":\"#2a3f5f\"},\"hovermode\":\"closest\",\"hoverlabel\":{\"align\":\"left\"},\"paper_bgcolor\":\"white\",\"plot_bgcolor\":\"#E5ECF6\",\"polar\":{\"bgcolor\":\"#E5ECF6\",\"angularaxis\":{\"gridcolor\":\"white\",\"linecolor\":\"white\",\"ticks\":\"\"},\"radialaxis\":{\"gridcolor\":\"white\",\"linecolor\":\"white\",\"ticks\":\"\"}},\"ternary\":{\"bgcolor\":\"#E5ECF6\",\"aaxis\":{\"gridcolor\":\"white\",\"linecolor\":\"white\",\"ticks\":\"\"},\"baxis\":{\"gridcolor\":\"white\",\"linecolor\":\"white\",\"ticks\":\"\"},\"caxis\":{\"gridcolor\":\"white\",\"linecolor\":\"white\",\"ticks\":\"\"}},\"coloraxis\":{\"colorbar\":{\"outlinewidth\":0,\"ticks\":\"\"}},\"colorscale\":{\"sequential\":[[0.0,\"#0d0887\"],[0.1111111111111111,\"#46039f\"],[0.2222222222222222,\"#7201a8\"],[0.3333333333333333,\"#9c179e\"],[0.4444444444444444,\"#bd3786\"],[0.5555555555555556,\"#d8576b\"],[0.6666666666666666,\"#ed7953\"],[0.7777777777777778,\"#fb9f3a\"],[0.8888888888888888,\"#fdca26\"],[1.0,\"#f0f921\"]],\"sequentialminus\":[[0.0,\"#0d0887\"],[0.1111111111111111,\"#46039f\"],[0.2222222222222222,\"#7201a8\"],[0.3333333333333333,\"#9c179e\"],[0.4444444444444444,\"#bd3786\"],[0.5555555555555556,\"#d8576b\"],[0.6666666666666666,\"#ed7953\"],[0.7777777777777778,\"#fb9f3a\"],[0.8888888888888888,\"#fdca26\"],[1.0,\"#f0f921\"]],\"diverging\":[[0,\"#8e0152\"],[0.1,\"#c51b7d\"],[0.2,\"#de77ae\"],[0.3,\"#f1b6da\"],[0.4,\"#fde0ef\"],[0.5,\"#f7f7f7\"],[0.6,\"#e6f5d0\"],[0.7,\"#b8e186\"],[0.8,\"#7fbc41\"],[0.9,\"#4d9221\"],[1,\"#276419\"]]},\"xaxis\":{\"gridcolor\":\"white\",\"linecolor\":\"white\",\"ticks\":\"\",\"title\":{\"standoff\":15},\"zerolinecolor\":\"white\",\"automargin\":true,\"zerolinewidth\":2},\"yaxis\":{\"gridcolor\":\"white\",\"linecolor\":\"white\",\"ticks\":\"\",\"title\":{\"standoff\":15},\"zerolinecolor\":\"white\",\"automargin\":true,\"zerolinewidth\":2},\"scene\":{\"xaxis\":{\"backgroundcolor\":\"#E5ECF6\",\"gridcolor\":\"white\",\"linecolor\":\"white\",\"showbackground\":true,\"ticks\":\"\",\"zerolinecolor\":\"white\",\"gridwidth\":2},\"yaxis\":{\"backgroundcolor\":\"#E5ECF6\",\"gridcolor\":\"white\",\"linecolor\":\"white\",\"showbackground\":true,\"ticks\":\"\",\"zerolinecolor\":\"white\",\"gridwidth\":2},\"zaxis\":{\"backgroundcolor\":\"#E5ECF6\",\"gridcolor\":\"white\",\"linecolor\":\"white\",\"showbackground\":true,\"ticks\":\"\",\"zerolinecolor\":\"white\",\"gridwidth\":2}},\"shapedefaults\":{\"line\":{\"color\":\"#2a3f5f\"}},\"annotationdefaults\":{\"arrowcolor\":\"#2a3f5f\",\"arrowhead\":0,\"arrowwidth\":1},\"geo\":{\"bgcolor\":\"white\",\"landcolor\":\"#E5ECF6\",\"subunitcolor\":\"white\",\"showland\":true,\"showlakes\":true,\"lakecolor\":\"white\"},\"title\":{\"x\":0.05},\"mapbox\":{\"style\":\"light\"}}}},                        {\"responsive\": true}                    ).then(function(){\n",
       "                            \n",
       "var gd = document.getElementById('21c0ed26-7750-49a0-adeb-5b201be94c9b');\n",
       "var x = new MutationObserver(function (mutations, observer) {{\n",
       "        var display = window.getComputedStyle(gd).display;\n",
       "        if (!display || display === 'none') {{\n",
       "            console.log([gd, 'removed!']);\n",
       "            Plotly.purge(gd);\n",
       "            observer.disconnect();\n",
       "        }}\n",
       "}});\n",
       "\n",
       "// Listen for the removal of the full notebook cells\n",
       "var notebookContainer = gd.closest('#notebook-container');\n",
       "if (notebookContainer) {{\n",
       "    x.observe(notebookContainer, {childList: true});\n",
       "}}\n",
       "\n",
       "// Listen for the clearing of the current output cell\n",
       "var outputEl = gd.closest('.output');\n",
       "if (outputEl) {{\n",
       "    x.observe(outputEl, {childList: true});\n",
       "}}\n",
       "\n",
       "                        })                };                });            </script>        </div>"
      ]
     },
     "metadata": {},
     "output_type": "display_data"
    }
   ],
   "source": [
    "recon_pd = []\n",
    "for batch in recon:\n",
    "    for x in batch:\n",
    "        recon_pd.append(x)\n",
    "\n",
    "recon_pd = np.array(recon_pd)  # Convert list to NumPy array\n",
    "recon_pd = recon_pd.reshape(-1, recon_pd.shape[-1])\n",
    "\n",
    "recon_pd = pd.concat([pd.DataFrame(recon_pd, index = otu_data.index, columns = otu_data.columns),\n",
    "                          otu_batch,\n",
    "                          otu_biome,\n",
    "                          data[\"sample\"]],\n",
    "                          axis=1)\n",
    "\n",
    "plotPCoA(recon_pd, method=\"aitchison\", sample_label=\"sample\", batch_label=batch_label, experiment_label=exp_label)"
   ]
  },
  {
   "cell_type": "code",
   "execution_count": 138,
   "metadata": {},
   "outputs": [
    {
     "data": {
      "text/html": [
       "<div>\n",
       "<style scoped>\n",
       "    .dataframe tbody tr th:only-of-type {\n",
       "        vertical-align: middle;\n",
       "    }\n",
       "\n",
       "    .dataframe tbody tr th {\n",
       "        vertical-align: top;\n",
       "    }\n",
       "\n",
       "    .dataframe thead th {\n",
       "        text-align: right;\n",
       "    }\n",
       "</style>\n",
       "<table border=\"1\" class=\"dataframe\">\n",
       "  <thead>\n",
       "    <tr style=\"text-align: right;\">\n",
       "      <th></th>\n",
       "      <th>OTU1</th>\n",
       "      <th>OTU2</th>\n",
       "      <th>OTU3</th>\n",
       "      <th>OTU4</th>\n",
       "      <th>OTU5</th>\n",
       "      <th>OTU6</th>\n",
       "      <th>OTU7</th>\n",
       "      <th>OTU8</th>\n",
       "      <th>OTU9</th>\n",
       "      <th>OTU10</th>\n",
       "      <th>...</th>\n",
       "      <th>OTU3320</th>\n",
       "      <th>OTU3321</th>\n",
       "      <th>OTU3322</th>\n",
       "      <th>OTU3323</th>\n",
       "      <th>OTU3324</th>\n",
       "      <th>OTU3325</th>\n",
       "      <th>OTU3326</th>\n",
       "      <th>instrument_platform</th>\n",
       "      <th>biomes</th>\n",
       "      <th>sample</th>\n",
       "    </tr>\n",
       "  </thead>\n",
       "  <tbody>\n",
       "    <tr>\n",
       "      <th>167</th>\n",
       "      <td>0.0</td>\n",
       "      <td>0.0</td>\n",
       "      <td>0.0</td>\n",
       "      <td>0.0</td>\n",
       "      <td>0.0</td>\n",
       "      <td>0.0</td>\n",
       "      <td>0.0</td>\n",
       "      <td>0.0</td>\n",
       "      <td>0.0</td>\n",
       "      <td>0.0</td>\n",
       "      <td>...</td>\n",
       "      <td>0.0</td>\n",
       "      <td>0.0</td>\n",
       "      <td>0.0</td>\n",
       "      <td>0.0</td>\n",
       "      <td>0.0</td>\n",
       "      <td>0.0</td>\n",
       "      <td>0.0</td>\n",
       "      <td>Illumina HiSeq 3000</td>\n",
       "      <td>Wastewater:Water and sludge</td>\n",
       "      <td>ERR1713331</td>\n",
       "    </tr>\n",
       "    <tr>\n",
       "      <th>168</th>\n",
       "      <td>0.0</td>\n",
       "      <td>0.0</td>\n",
       "      <td>0.0</td>\n",
       "      <td>0.0</td>\n",
       "      <td>0.0</td>\n",
       "      <td>0.0</td>\n",
       "      <td>0.0</td>\n",
       "      <td>17689.0</td>\n",
       "      <td>0.0</td>\n",
       "      <td>0.0</td>\n",
       "      <td>...</td>\n",
       "      <td>0.0</td>\n",
       "      <td>0.0</td>\n",
       "      <td>0.0</td>\n",
       "      <td>0.0</td>\n",
       "      <td>0.0</td>\n",
       "      <td>0.0</td>\n",
       "      <td>0.0</td>\n",
       "      <td>Illumina HiSeq 3000</td>\n",
       "      <td>Wastewater:Water and sludge</td>\n",
       "      <td>ERR1713332</td>\n",
       "    </tr>\n",
       "    <tr>\n",
       "      <th>169</th>\n",
       "      <td>0.0</td>\n",
       "      <td>0.0</td>\n",
       "      <td>0.0</td>\n",
       "      <td>0.0</td>\n",
       "      <td>0.0</td>\n",
       "      <td>0.0</td>\n",
       "      <td>0.0</td>\n",
       "      <td>62.0</td>\n",
       "      <td>0.0</td>\n",
       "      <td>0.0</td>\n",
       "      <td>...</td>\n",
       "      <td>0.0</td>\n",
       "      <td>0.0</td>\n",
       "      <td>0.0</td>\n",
       "      <td>0.0</td>\n",
       "      <td>0.0</td>\n",
       "      <td>0.0</td>\n",
       "      <td>0.0</td>\n",
       "      <td>Illumina HiSeq 3000</td>\n",
       "      <td>Wastewater:Water and sludge</td>\n",
       "      <td>ERR1725942</td>\n",
       "    </tr>\n",
       "    <tr>\n",
       "      <th>170</th>\n",
       "      <td>1.0</td>\n",
       "      <td>0.0</td>\n",
       "      <td>0.0</td>\n",
       "      <td>0.0</td>\n",
       "      <td>1.0</td>\n",
       "      <td>0.0</td>\n",
       "      <td>0.0</td>\n",
       "      <td>2.0</td>\n",
       "      <td>0.0</td>\n",
       "      <td>0.0</td>\n",
       "      <td>...</td>\n",
       "      <td>0.0</td>\n",
       "      <td>0.0</td>\n",
       "      <td>0.0</td>\n",
       "      <td>0.0</td>\n",
       "      <td>0.0</td>\n",
       "      <td>0.0</td>\n",
       "      <td>0.0</td>\n",
       "      <td>Illumina HiSeq 3000</td>\n",
       "      <td>Wastewater:Water and sludge</td>\n",
       "      <td>ERR1725946</td>\n",
       "    </tr>\n",
       "    <tr>\n",
       "      <th>171</th>\n",
       "      <td>0.0</td>\n",
       "      <td>0.0</td>\n",
       "      <td>0.0</td>\n",
       "      <td>0.0</td>\n",
       "      <td>0.0</td>\n",
       "      <td>0.0</td>\n",
       "      <td>0.0</td>\n",
       "      <td>235.0</td>\n",
       "      <td>0.0</td>\n",
       "      <td>0.0</td>\n",
       "      <td>...</td>\n",
       "      <td>0.0</td>\n",
       "      <td>0.0</td>\n",
       "      <td>0.0</td>\n",
       "      <td>0.0</td>\n",
       "      <td>0.0</td>\n",
       "      <td>0.0</td>\n",
       "      <td>0.0</td>\n",
       "      <td>Illumina HiSeq 3000</td>\n",
       "      <td>Wastewater:Water and sludge</td>\n",
       "      <td>ERR1725948</td>\n",
       "    </tr>\n",
       "    <tr>\n",
       "      <th>...</th>\n",
       "      <td>...</td>\n",
       "      <td>...</td>\n",
       "      <td>...</td>\n",
       "      <td>...</td>\n",
       "      <td>...</td>\n",
       "      <td>...</td>\n",
       "      <td>...</td>\n",
       "      <td>...</td>\n",
       "      <td>...</td>\n",
       "      <td>...</td>\n",
       "      <td>...</td>\n",
       "      <td>...</td>\n",
       "      <td>...</td>\n",
       "      <td>...</td>\n",
       "      <td>...</td>\n",
       "      <td>...</td>\n",
       "      <td>...</td>\n",
       "      <td>...</td>\n",
       "      <td>...</td>\n",
       "      <td>...</td>\n",
       "      <td>...</td>\n",
       "    </tr>\n",
       "    <tr>\n",
       "      <th>307</th>\n",
       "      <td>0.0</td>\n",
       "      <td>0.0</td>\n",
       "      <td>3.0</td>\n",
       "      <td>0.0</td>\n",
       "      <td>1.0</td>\n",
       "      <td>0.0</td>\n",
       "      <td>0.0</td>\n",
       "      <td>1.0</td>\n",
       "      <td>0.0</td>\n",
       "      <td>0.0</td>\n",
       "      <td>...</td>\n",
       "      <td>0.0</td>\n",
       "      <td>0.0</td>\n",
       "      <td>0.0</td>\n",
       "      <td>0.0</td>\n",
       "      <td>0.0</td>\n",
       "      <td>0.0</td>\n",
       "      <td>0.0</td>\n",
       "      <td>Illumina MiSeq</td>\n",
       "      <td>Wastewater:Water and sludge</td>\n",
       "      <td>ERR1512992</td>\n",
       "    </tr>\n",
       "    <tr>\n",
       "      <th>308</th>\n",
       "      <td>2.0</td>\n",
       "      <td>4.0</td>\n",
       "      <td>0.0</td>\n",
       "      <td>2.0</td>\n",
       "      <td>0.0</td>\n",
       "      <td>0.0</td>\n",
       "      <td>0.0</td>\n",
       "      <td>1.0</td>\n",
       "      <td>0.0</td>\n",
       "      <td>0.0</td>\n",
       "      <td>...</td>\n",
       "      <td>0.0</td>\n",
       "      <td>0.0</td>\n",
       "      <td>0.0</td>\n",
       "      <td>0.0</td>\n",
       "      <td>0.0</td>\n",
       "      <td>0.0</td>\n",
       "      <td>1.0</td>\n",
       "      <td>Illumina MiSeq</td>\n",
       "      <td>Wastewater:Water and sludge</td>\n",
       "      <td>ERR1512999</td>\n",
       "    </tr>\n",
       "    <tr>\n",
       "      <th>309</th>\n",
       "      <td>0.0</td>\n",
       "      <td>0.0</td>\n",
       "      <td>0.0</td>\n",
       "      <td>0.0</td>\n",
       "      <td>1.0</td>\n",
       "      <td>0.0</td>\n",
       "      <td>0.0</td>\n",
       "      <td>0.0</td>\n",
       "      <td>1.0</td>\n",
       "      <td>0.0</td>\n",
       "      <td>...</td>\n",
       "      <td>0.0</td>\n",
       "      <td>0.0</td>\n",
       "      <td>0.0</td>\n",
       "      <td>0.0</td>\n",
       "      <td>0.0</td>\n",
       "      <td>1.0</td>\n",
       "      <td>0.0</td>\n",
       "      <td>Illumina MiSeq</td>\n",
       "      <td>Wastewater:Water and sludge</td>\n",
       "      <td>ERR1513000</td>\n",
       "    </tr>\n",
       "    <tr>\n",
       "      <th>310</th>\n",
       "      <td>1.0</td>\n",
       "      <td>0.0</td>\n",
       "      <td>0.0</td>\n",
       "      <td>0.0</td>\n",
       "      <td>0.0</td>\n",
       "      <td>0.0</td>\n",
       "      <td>0.0</td>\n",
       "      <td>0.0</td>\n",
       "      <td>0.0</td>\n",
       "      <td>0.0</td>\n",
       "      <td>...</td>\n",
       "      <td>0.0</td>\n",
       "      <td>0.0</td>\n",
       "      <td>0.0</td>\n",
       "      <td>0.0</td>\n",
       "      <td>0.0</td>\n",
       "      <td>0.0</td>\n",
       "      <td>0.0</td>\n",
       "      <td>Illumina MiSeq</td>\n",
       "      <td>Wastewater:Water and sludge</td>\n",
       "      <td>ERR1513001</td>\n",
       "    </tr>\n",
       "    <tr>\n",
       "      <th>311</th>\n",
       "      <td>0.0</td>\n",
       "      <td>0.0</td>\n",
       "      <td>0.0</td>\n",
       "      <td>0.0</td>\n",
       "      <td>2.0</td>\n",
       "      <td>0.0</td>\n",
       "      <td>0.0</td>\n",
       "      <td>0.0</td>\n",
       "      <td>0.0</td>\n",
       "      <td>0.0</td>\n",
       "      <td>...</td>\n",
       "      <td>1.0</td>\n",
       "      <td>0.0</td>\n",
       "      <td>0.0</td>\n",
       "      <td>0.0</td>\n",
       "      <td>0.0</td>\n",
       "      <td>0.0</td>\n",
       "      <td>0.0</td>\n",
       "      <td>Illumina MiSeq</td>\n",
       "      <td>Wastewater:Water and sludge</td>\n",
       "      <td>ERR1525435</td>\n",
       "    </tr>\n",
       "  </tbody>\n",
       "</table>\n",
       "<p>145 rows × 3329 columns</p>\n",
       "</div>"
      ],
      "text/plain": [
       "     OTU1  OTU2  OTU3  OTU4  OTU5  OTU6  OTU7     OTU8  OTU9  OTU10  ...  \\\n",
       "167   0.0   0.0   0.0   0.0   0.0   0.0   0.0      0.0   0.0    0.0  ...   \n",
       "168   0.0   0.0   0.0   0.0   0.0   0.0   0.0  17689.0   0.0    0.0  ...   \n",
       "169   0.0   0.0   0.0   0.0   0.0   0.0   0.0     62.0   0.0    0.0  ...   \n",
       "170   1.0   0.0   0.0   0.0   1.0   0.0   0.0      2.0   0.0    0.0  ...   \n",
       "171   0.0   0.0   0.0   0.0   0.0   0.0   0.0    235.0   0.0    0.0  ...   \n",
       "..    ...   ...   ...   ...   ...   ...   ...      ...   ...    ...  ...   \n",
       "307   0.0   0.0   3.0   0.0   1.0   0.0   0.0      1.0   0.0    0.0  ...   \n",
       "308   2.0   4.0   0.0   2.0   0.0   0.0   0.0      1.0   0.0    0.0  ...   \n",
       "309   0.0   0.0   0.0   0.0   1.0   0.0   0.0      0.0   1.0    0.0  ...   \n",
       "310   1.0   0.0   0.0   0.0   0.0   0.0   0.0      0.0   0.0    0.0  ...   \n",
       "311   0.0   0.0   0.0   0.0   2.0   0.0   0.0      0.0   0.0    0.0  ...   \n",
       "\n",
       "     OTU3320  OTU3321  OTU3322  OTU3323  OTU3324  OTU3325  OTU3326  \\\n",
       "167      0.0      0.0      0.0      0.0      0.0      0.0      0.0   \n",
       "168      0.0      0.0      0.0      0.0      0.0      0.0      0.0   \n",
       "169      0.0      0.0      0.0      0.0      0.0      0.0      0.0   \n",
       "170      0.0      0.0      0.0      0.0      0.0      0.0      0.0   \n",
       "171      0.0      0.0      0.0      0.0      0.0      0.0      0.0   \n",
       "..       ...      ...      ...      ...      ...      ...      ...   \n",
       "307      0.0      0.0      0.0      0.0      0.0      0.0      0.0   \n",
       "308      0.0      0.0      0.0      0.0      0.0      0.0      1.0   \n",
       "309      0.0      0.0      0.0      0.0      0.0      1.0      0.0   \n",
       "310      0.0      0.0      0.0      0.0      0.0      0.0      0.0   \n",
       "311      1.0      0.0      0.0      0.0      0.0      0.0      0.0   \n",
       "\n",
       "     instrument_platform                       biomes      sample  \n",
       "167  Illumina HiSeq 3000  Wastewater:Water and sludge  ERR1713331  \n",
       "168  Illumina HiSeq 3000  Wastewater:Water and sludge  ERR1713332  \n",
       "169  Illumina HiSeq 3000  Wastewater:Water and sludge  ERR1725942  \n",
       "170  Illumina HiSeq 3000  Wastewater:Water and sludge  ERR1725946  \n",
       "171  Illumina HiSeq 3000  Wastewater:Water and sludge  ERR1725948  \n",
       "..                   ...                          ...         ...  \n",
       "307       Illumina MiSeq  Wastewater:Water and sludge  ERR1512992  \n",
       "308       Illumina MiSeq  Wastewater:Water and sludge  ERR1512999  \n",
       "309       Illumina MiSeq  Wastewater:Water and sludge  ERR1513000  \n",
       "310       Illumina MiSeq  Wastewater:Water and sludge  ERR1513001  \n",
       "311       Illumina MiSeq  Wastewater:Water and sludge  ERR1525435  \n",
       "\n",
       "[145 rows x 3329 columns]"
      ]
     },
     "execution_count": 138,
     "metadata": {},
     "output_type": "execute_result"
    }
   ],
   "source": [
    "recon_pd"
   ]
  },
  {
   "cell_type": "code",
   "execution_count": 146,
   "metadata": {},
   "outputs": [
    {
     "name": "stdout",
     "output_type": "stream",
     "text": [
      "Found 2 batches.\n",
      "Adjusting for 0 covariate(s) or covariate level(s).\n",
      "Standardizing Data across genes.\n",
      "Fitting L/S model and finding priors.\n",
      "Finding parametric adjustments.\n",
      "Adjusting the Data\n"
     ]
    },
    {
     "name": "stderr",
     "output_type": "stream",
     "text": [
      "/home/s243564/miniforge3/envs/BECA/lib/python3.12/site-packages/combat/pycombat.py:498: RuntimeWarning:\n",
      "\n",
      "invalid value encountered in divide\n",
      "\n"
     ]
    },
    {
     "data": {
      "text/html": [
       "<div>\n",
       "<style scoped>\n",
       "    .dataframe tbody tr th:only-of-type {\n",
       "        vertical-align: middle;\n",
       "    }\n",
       "\n",
       "    .dataframe tbody tr th {\n",
       "        vertical-align: top;\n",
       "    }\n",
       "\n",
       "    .dataframe thead th {\n",
       "        text-align: right;\n",
       "    }\n",
       "</style>\n",
       "<table border=\"1\" class=\"dataframe\">\n",
       "  <thead>\n",
       "    <tr style=\"text-align: right;\">\n",
       "      <th></th>\n",
       "      <th>sample</th>\n",
       "      <th>instrument_platform</th>\n",
       "      <th>biomes</th>\n",
       "      <th>OTU1</th>\n",
       "      <th>OTU2</th>\n",
       "      <th>OTU3</th>\n",
       "      <th>OTU4</th>\n",
       "      <th>OTU5</th>\n",
       "      <th>OTU6</th>\n",
       "      <th>OTU7</th>\n",
       "      <th>...</th>\n",
       "      <th>OTU3317</th>\n",
       "      <th>OTU3318</th>\n",
       "      <th>OTU3319</th>\n",
       "      <th>OTU3320</th>\n",
       "      <th>OTU3321</th>\n",
       "      <th>OTU3322</th>\n",
       "      <th>OTU3323</th>\n",
       "      <th>OTU3324</th>\n",
       "      <th>OTU3325</th>\n",
       "      <th>OTU3326</th>\n",
       "    </tr>\n",
       "  </thead>\n",
       "  <tbody>\n",
       "    <tr>\n",
       "      <th>167</th>\n",
       "      <td>ERR1713331</td>\n",
       "      <td>Illumina HiSeq 3000</td>\n",
       "      <td>Wastewater:Water and sludge</td>\n",
       "      <td>NaN</td>\n",
       "      <td>NaN</td>\n",
       "      <td>NaN</td>\n",
       "      <td>NaN</td>\n",
       "      <td>NaN</td>\n",
       "      <td>NaN</td>\n",
       "      <td>NaN</td>\n",
       "      <td>...</td>\n",
       "      <td>NaN</td>\n",
       "      <td>NaN</td>\n",
       "      <td>NaN</td>\n",
       "      <td>NaN</td>\n",
       "      <td>NaN</td>\n",
       "      <td>NaN</td>\n",
       "      <td>NaN</td>\n",
       "      <td>NaN</td>\n",
       "      <td>NaN</td>\n",
       "      <td>NaN</td>\n",
       "    </tr>\n",
       "    <tr>\n",
       "      <th>168</th>\n",
       "      <td>ERR1713332</td>\n",
       "      <td>Illumina HiSeq 3000</td>\n",
       "      <td>Wastewater:Water and sludge</td>\n",
       "      <td>NaN</td>\n",
       "      <td>NaN</td>\n",
       "      <td>NaN</td>\n",
       "      <td>NaN</td>\n",
       "      <td>NaN</td>\n",
       "      <td>NaN</td>\n",
       "      <td>NaN</td>\n",
       "      <td>...</td>\n",
       "      <td>NaN</td>\n",
       "      <td>NaN</td>\n",
       "      <td>NaN</td>\n",
       "      <td>NaN</td>\n",
       "      <td>NaN</td>\n",
       "      <td>NaN</td>\n",
       "      <td>NaN</td>\n",
       "      <td>NaN</td>\n",
       "      <td>NaN</td>\n",
       "      <td>NaN</td>\n",
       "    </tr>\n",
       "    <tr>\n",
       "      <th>169</th>\n",
       "      <td>ERR1725942</td>\n",
       "      <td>Illumina HiSeq 3000</td>\n",
       "      <td>Wastewater:Water and sludge</td>\n",
       "      <td>NaN</td>\n",
       "      <td>NaN</td>\n",
       "      <td>NaN</td>\n",
       "      <td>NaN</td>\n",
       "      <td>NaN</td>\n",
       "      <td>NaN</td>\n",
       "      <td>NaN</td>\n",
       "      <td>...</td>\n",
       "      <td>NaN</td>\n",
       "      <td>NaN</td>\n",
       "      <td>NaN</td>\n",
       "      <td>NaN</td>\n",
       "      <td>NaN</td>\n",
       "      <td>NaN</td>\n",
       "      <td>NaN</td>\n",
       "      <td>NaN</td>\n",
       "      <td>NaN</td>\n",
       "      <td>NaN</td>\n",
       "    </tr>\n",
       "    <tr>\n",
       "      <th>170</th>\n",
       "      <td>ERR1725946</td>\n",
       "      <td>Illumina HiSeq 3000</td>\n",
       "      <td>Wastewater:Water and sludge</td>\n",
       "      <td>NaN</td>\n",
       "      <td>NaN</td>\n",
       "      <td>NaN</td>\n",
       "      <td>NaN</td>\n",
       "      <td>NaN</td>\n",
       "      <td>NaN</td>\n",
       "      <td>NaN</td>\n",
       "      <td>...</td>\n",
       "      <td>NaN</td>\n",
       "      <td>NaN</td>\n",
       "      <td>NaN</td>\n",
       "      <td>NaN</td>\n",
       "      <td>NaN</td>\n",
       "      <td>NaN</td>\n",
       "      <td>NaN</td>\n",
       "      <td>NaN</td>\n",
       "      <td>NaN</td>\n",
       "      <td>NaN</td>\n",
       "    </tr>\n",
       "    <tr>\n",
       "      <th>171</th>\n",
       "      <td>ERR1725948</td>\n",
       "      <td>Illumina HiSeq 3000</td>\n",
       "      <td>Wastewater:Water and sludge</td>\n",
       "      <td>NaN</td>\n",
       "      <td>NaN</td>\n",
       "      <td>NaN</td>\n",
       "      <td>NaN</td>\n",
       "      <td>NaN</td>\n",
       "      <td>NaN</td>\n",
       "      <td>NaN</td>\n",
       "      <td>...</td>\n",
       "      <td>NaN</td>\n",
       "      <td>NaN</td>\n",
       "      <td>NaN</td>\n",
       "      <td>NaN</td>\n",
       "      <td>NaN</td>\n",
       "      <td>NaN</td>\n",
       "      <td>NaN</td>\n",
       "      <td>NaN</td>\n",
       "      <td>NaN</td>\n",
       "      <td>NaN</td>\n",
       "    </tr>\n",
       "    <tr>\n",
       "      <th>...</th>\n",
       "      <td>...</td>\n",
       "      <td>...</td>\n",
       "      <td>...</td>\n",
       "      <td>...</td>\n",
       "      <td>...</td>\n",
       "      <td>...</td>\n",
       "      <td>...</td>\n",
       "      <td>...</td>\n",
       "      <td>...</td>\n",
       "      <td>...</td>\n",
       "      <td>...</td>\n",
       "      <td>...</td>\n",
       "      <td>...</td>\n",
       "      <td>...</td>\n",
       "      <td>...</td>\n",
       "      <td>...</td>\n",
       "      <td>...</td>\n",
       "      <td>...</td>\n",
       "      <td>...</td>\n",
       "      <td>...</td>\n",
       "      <td>...</td>\n",
       "    </tr>\n",
       "    <tr>\n",
       "      <th>307</th>\n",
       "      <td>ERR1512992</td>\n",
       "      <td>Illumina MiSeq</td>\n",
       "      <td>Wastewater:Water and sludge</td>\n",
       "      <td>NaN</td>\n",
       "      <td>NaN</td>\n",
       "      <td>NaN</td>\n",
       "      <td>NaN</td>\n",
       "      <td>NaN</td>\n",
       "      <td>NaN</td>\n",
       "      <td>NaN</td>\n",
       "      <td>...</td>\n",
       "      <td>NaN</td>\n",
       "      <td>NaN</td>\n",
       "      <td>NaN</td>\n",
       "      <td>NaN</td>\n",
       "      <td>NaN</td>\n",
       "      <td>NaN</td>\n",
       "      <td>NaN</td>\n",
       "      <td>NaN</td>\n",
       "      <td>NaN</td>\n",
       "      <td>NaN</td>\n",
       "    </tr>\n",
       "    <tr>\n",
       "      <th>308</th>\n",
       "      <td>ERR1512999</td>\n",
       "      <td>Illumina MiSeq</td>\n",
       "      <td>Wastewater:Water and sludge</td>\n",
       "      <td>NaN</td>\n",
       "      <td>NaN</td>\n",
       "      <td>NaN</td>\n",
       "      <td>NaN</td>\n",
       "      <td>NaN</td>\n",
       "      <td>NaN</td>\n",
       "      <td>NaN</td>\n",
       "      <td>...</td>\n",
       "      <td>NaN</td>\n",
       "      <td>NaN</td>\n",
       "      <td>NaN</td>\n",
       "      <td>NaN</td>\n",
       "      <td>NaN</td>\n",
       "      <td>NaN</td>\n",
       "      <td>NaN</td>\n",
       "      <td>NaN</td>\n",
       "      <td>NaN</td>\n",
       "      <td>NaN</td>\n",
       "    </tr>\n",
       "    <tr>\n",
       "      <th>309</th>\n",
       "      <td>ERR1513000</td>\n",
       "      <td>Illumina MiSeq</td>\n",
       "      <td>Wastewater:Water and sludge</td>\n",
       "      <td>NaN</td>\n",
       "      <td>NaN</td>\n",
       "      <td>NaN</td>\n",
       "      <td>NaN</td>\n",
       "      <td>NaN</td>\n",
       "      <td>NaN</td>\n",
       "      <td>NaN</td>\n",
       "      <td>...</td>\n",
       "      <td>NaN</td>\n",
       "      <td>NaN</td>\n",
       "      <td>NaN</td>\n",
       "      <td>NaN</td>\n",
       "      <td>NaN</td>\n",
       "      <td>NaN</td>\n",
       "      <td>NaN</td>\n",
       "      <td>NaN</td>\n",
       "      <td>NaN</td>\n",
       "      <td>NaN</td>\n",
       "    </tr>\n",
       "    <tr>\n",
       "      <th>310</th>\n",
       "      <td>ERR1513001</td>\n",
       "      <td>Illumina MiSeq</td>\n",
       "      <td>Wastewater:Water and sludge</td>\n",
       "      <td>NaN</td>\n",
       "      <td>NaN</td>\n",
       "      <td>NaN</td>\n",
       "      <td>NaN</td>\n",
       "      <td>NaN</td>\n",
       "      <td>NaN</td>\n",
       "      <td>NaN</td>\n",
       "      <td>...</td>\n",
       "      <td>NaN</td>\n",
       "      <td>NaN</td>\n",
       "      <td>NaN</td>\n",
       "      <td>NaN</td>\n",
       "      <td>NaN</td>\n",
       "      <td>NaN</td>\n",
       "      <td>NaN</td>\n",
       "      <td>NaN</td>\n",
       "      <td>NaN</td>\n",
       "      <td>NaN</td>\n",
       "    </tr>\n",
       "    <tr>\n",
       "      <th>311</th>\n",
       "      <td>ERR1525435</td>\n",
       "      <td>Illumina MiSeq</td>\n",
       "      <td>Wastewater:Water and sludge</td>\n",
       "      <td>NaN</td>\n",
       "      <td>NaN</td>\n",
       "      <td>NaN</td>\n",
       "      <td>NaN</td>\n",
       "      <td>NaN</td>\n",
       "      <td>NaN</td>\n",
       "      <td>NaN</td>\n",
       "      <td>...</td>\n",
       "      <td>NaN</td>\n",
       "      <td>NaN</td>\n",
       "      <td>NaN</td>\n",
       "      <td>NaN</td>\n",
       "      <td>NaN</td>\n",
       "      <td>NaN</td>\n",
       "      <td>NaN</td>\n",
       "      <td>NaN</td>\n",
       "      <td>NaN</td>\n",
       "      <td>NaN</td>\n",
       "    </tr>\n",
       "  </tbody>\n",
       "</table>\n",
       "<p>145 rows × 3329 columns</p>\n",
       "</div>"
      ],
      "text/plain": [
       "         sample  instrument_platform                       biomes  OTU1  OTU2  \\\n",
       "167  ERR1713331  Illumina HiSeq 3000  Wastewater:Water and sludge   NaN   NaN   \n",
       "168  ERR1713332  Illumina HiSeq 3000  Wastewater:Water and sludge   NaN   NaN   \n",
       "169  ERR1725942  Illumina HiSeq 3000  Wastewater:Water and sludge   NaN   NaN   \n",
       "170  ERR1725946  Illumina HiSeq 3000  Wastewater:Water and sludge   NaN   NaN   \n",
       "171  ERR1725948  Illumina HiSeq 3000  Wastewater:Water and sludge   NaN   NaN   \n",
       "..          ...                  ...                          ...   ...   ...   \n",
       "307  ERR1512992       Illumina MiSeq  Wastewater:Water and sludge   NaN   NaN   \n",
       "308  ERR1512999       Illumina MiSeq  Wastewater:Water and sludge   NaN   NaN   \n",
       "309  ERR1513000       Illumina MiSeq  Wastewater:Water and sludge   NaN   NaN   \n",
       "310  ERR1513001       Illumina MiSeq  Wastewater:Water and sludge   NaN   NaN   \n",
       "311  ERR1525435       Illumina MiSeq  Wastewater:Water and sludge   NaN   NaN   \n",
       "\n",
       "     OTU3  OTU4  OTU5  OTU6  OTU7  ...  OTU3317  OTU3318  OTU3319  OTU3320  \\\n",
       "167   NaN   NaN   NaN   NaN   NaN  ...      NaN      NaN      NaN      NaN   \n",
       "168   NaN   NaN   NaN   NaN   NaN  ...      NaN      NaN      NaN      NaN   \n",
       "169   NaN   NaN   NaN   NaN   NaN  ...      NaN      NaN      NaN      NaN   \n",
       "170   NaN   NaN   NaN   NaN   NaN  ...      NaN      NaN      NaN      NaN   \n",
       "171   NaN   NaN   NaN   NaN   NaN  ...      NaN      NaN      NaN      NaN   \n",
       "..    ...   ...   ...   ...   ...  ...      ...      ...      ...      ...   \n",
       "307   NaN   NaN   NaN   NaN   NaN  ...      NaN      NaN      NaN      NaN   \n",
       "308   NaN   NaN   NaN   NaN   NaN  ...      NaN      NaN      NaN      NaN   \n",
       "309   NaN   NaN   NaN   NaN   NaN  ...      NaN      NaN      NaN      NaN   \n",
       "310   NaN   NaN   NaN   NaN   NaN  ...      NaN      NaN      NaN      NaN   \n",
       "311   NaN   NaN   NaN   NaN   NaN  ...      NaN      NaN      NaN      NaN   \n",
       "\n",
       "     OTU3321  OTU3322  OTU3323  OTU3324  OTU3325  OTU3326  \n",
       "167      NaN      NaN      NaN      NaN      NaN      NaN  \n",
       "168      NaN      NaN      NaN      NaN      NaN      NaN  \n",
       "169      NaN      NaN      NaN      NaN      NaN      NaN  \n",
       "170      NaN      NaN      NaN      NaN      NaN      NaN  \n",
       "171      NaN      NaN      NaN      NaN      NaN      NaN  \n",
       "..       ...      ...      ...      ...      ...      ...  \n",
       "307      NaN      NaN      NaN      NaN      NaN      NaN  \n",
       "308      NaN      NaN      NaN      NaN      NaN      NaN  \n",
       "309      NaN      NaN      NaN      NaN      NaN      NaN  \n",
       "310      NaN      NaN      NaN      NaN      NaN      NaN  \n",
       "311      NaN      NaN      NaN      NaN      NaN      NaN  \n",
       "\n",
       "[145 rows x 3329 columns]"
      ]
     },
     "execution_count": 146,
     "metadata": {},
     "output_type": "execute_result"
    }
   ],
   "source": [
    "combat_data = correctCombat(data, sample_label=\"sample\", batch_label=batch_label, experiment_label=exp_label)\n",
    "combat_data"
   ]
  }
 ],
 "metadata": {
  "kernelspec": {
   "display_name": "BECA",
   "language": "python",
   "name": "python3"
  },
  "language_info": {
   "codemirror_mode": {
    "name": "ipython",
    "version": 3
   },
   "file_extension": ".py",
   "mimetype": "text/x-python",
   "name": "python",
   "nbconvert_exporter": "python",
   "pygments_lexer": "ipython3",
   "version": "3.12.8"
  }
 },
 "nbformat": 4,
 "nbformat_minor": 2
}
